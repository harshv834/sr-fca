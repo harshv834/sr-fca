{
 "cells": [
  {
   "cell_type": "code",
   "execution_count": 1,
   "metadata": {},
   "outputs": [],
   "source": [
    "%load_ext autoreload\n",
    "%autoreload 2"
   ]
  },
  {
   "cell_type": "code",
   "execution_count": 1,
   "metadata": {},
   "outputs": [
    {
     "name": "stdout",
     "output_type": "stream",
     "text": [
      "Files already downloaded and verified\n",
      "Files already downloaded and verified\n"
     ]
    }
   ],
   "source": [
    "import torch\n",
    "import numpy as np\n",
    "from torch.utils.data import Dataset, DataLoader \n",
    "from abc import ABC\n",
    "from tqdm import tqdm\n",
    "import torchvision\n",
    "import os\n",
    "import torch.nn as nn\n",
    "import torch.nn.functional as F\n",
    "import torch.optim as optim\n",
    "import random\n",
    "\n",
    "\n",
    "\n",
    "\n",
    "config = {}\n",
    "config[\"seed\"] = 42\n",
    "seed = config[\"seed\"]\n",
    "os.environ['PYTHONHASHSEED'] = str(seed)\n",
    "# Torch RNG\n",
    "torch.manual_seed(seed)\n",
    "torch.cuda.manual_seed(seed)\n",
    "torch.cuda.manual_seed_all(seed)\n",
    "# Python RNG\n",
    "np.random.seed(seed)\n",
    "random.seed(seed)\n",
    "\n",
    "\n",
    "\n",
    "\n",
    "config[\"num_clients_per_cluster\"] = 10\n",
    "config[\"num_clusters\"] = 2\n",
    "config[\"num_clients\"] = config[\"num_clients_per_cluster\"]*config[\"num_clusters\"]\n",
    "config[\"dataset\"] = \"cifar10\"\n",
    "DATASET_LIB = {\"mnist\" : torchvision.datasets.MNIST, \"emnist\": torchvision.datasets.EMNIST, \"cifar10\": torchvision.datasets.CIFAR10}\n",
    "config[\"dataset_dir\"] = \"./experiments/dataset\"\n",
    "config[\"results_dir\"] = \"./experiments/results\"\n",
    "config[\"results_dir\"] = os.path.join(config[\"results_dir\"], config[\"dataset\"])\n",
    "\n",
    "os.makedirs(config[\"results_dir\"], exist_ok=True)\n",
    "\n",
    "train_dataset = DATASET_LIB[config[\"dataset\"]](root = config['dataset_dir'], download = True, train=True)\n",
    "test_dataset = DATASET_LIB[config[\"dataset\"]](root = config['dataset_dir'], download = True, train=False)\n",
    "\n",
    "\n"
   ]
  },
  {
   "cell_type": "code",
   "execution_count": null,
   "metadata": {},
   "outputs": [],
   "source": []
  },
  {
   "cell_type": "code",
   "execution_count": null,
   "metadata": {},
   "outputs": [],
   "source": []
  },
  {
   "cell_type": "code",
   "execution_count": 3,
   "metadata": {},
   "outputs": [],
   "source": [
    "def split(dataset_size, num_clients, shuffle):\n",
    "    split_idx = []\n",
    "    all_idx = np.arange(dataset_size)\n",
    "    if shuffle:\n",
    "        all_idx = np.random.permutation(all_idx)\n",
    "    split_idx = np.array_split(all_idx, num_clients)\n",
    "    return split_idx\n",
    "\n",
    "def dataset_split(train_data, test_data, num_clients, shuffle):\n",
    "    train_size = train_data[0].shape[0]\n",
    "    train_split_idx = split(train_size, num_clients, shuffle)\n",
    "    train_chunks = [(train_data[0][train_split_idx[client]], train_data[1][train_split_idx[client]]) for client in range(num_clients)]\n",
    "    test_size = test_data[0].shape[0]\n",
    "    test_split_idx = split(test_size, num_clients, shuffle)\n",
    "    test_chunks = [(test_data[0][test_split_idx[client]], test_data[1][test_split_idx[client]]) for client in range(num_clients)]\n",
    "    return train_chunks, test_chunks\n",
    "\n",
    "def make_client_datasets(config):\n",
    "    train_chunks_total = []\n",
    "    test_chunks_total = []\n",
    "    train_dataset = DATASET_LIB[config[\"dataset\"]](root = config['dataset_dir'], download = True, train=True)\n",
    "    test_dataset = DATASET_LIB[config[\"dataset\"]](root = config['dataset_dir'], download = True, train=False)\n",
    "\n",
    "    train_data = (train_dataset.data, np.array(train_dataset.targets))\n",
    "    test_data = (test_dataset.data, np.array(test_dataset.targets))\n",
    "    for i in range(config[\"num_clusters\"]):\n",
    "        train_chunks, test_chunks = dataset_split(train_data, test_data, config[\"num_clients_per_cluster\"], shuffle=True)\n",
    "        train_chunks_total += train_chunks\n",
    "        test_chunks_total += test_chunks\n",
    "    return train_chunks_total, test_chunks_total\n",
    "\n",
    "\n",
    "class ClientWriteDataset(Dataset):\n",
    "    def __init__(self, data):\n",
    "        super(ClientWriteDataset,self).__init__()\n",
    "        self.data = data[0]\n",
    "        self.labels = data[1]\n",
    "\n",
    "    def __len__(self):\n",
    "        return len(self.data)\n",
    "    \n",
    "    def __getitem__(self,idx):\n",
    "        idx_data = self.data[idx]\n",
    "        idx_labels = self.labels[idx]\n",
    "        return (idx_data, idx_labels)\n"
   ]
  },
  {
   "cell_type": "code",
   "execution_count": null,
   "metadata": {},
   "outputs": [],
   "source": []
  },
  {
   "cell_type": "code",
   "execution_count": null,
   "metadata": {},
   "outputs": [],
   "source": [
    "class ClientDataset(Dataset):\n",
    "    def __init__(self, data,transforms = None):\n",
    "        super(ClientDataset,self).__init__()\n",
    "        self.data = data[0]\n",
    "        self.labels = data[1]\n",
    "        self.transforms = transforms\n",
    "\n",
    "    def __len__(self):\n",
    "        return len(self.data)\n",
    "    \n",
    "    def __getitem__(self,idx):\n",
    "        idx_data = self.data[idx]\n",
    "        if self.transforms is not None:\n",
    "            transformed_data =self.transforms(idx_data)\n",
    "        else:\n",
    "            transformed_data = idx_data\n",
    "        idx_labels = self.labels[idx]\n",
    "        return (transformed_data, idx_labels)\n"
   ]
  },
  {
   "cell_type": "code",
   "execution_count": null,
   "metadata": {},
   "outputs": [],
   "source": []
  },
  {
   "cell_type": "code",
   "execution_count": null,
   "metadata": {},
   "outputs": [],
   "source": []
  },
  {
   "cell_type": "code",
   "execution_count": null,
   "metadata": {},
   "outputs": [],
   "source": []
  },
  {
   "cell_type": "code",
   "execution_count": null,
   "metadata": {},
   "outputs": [],
   "source": []
  },
  {
   "cell_type": "code",
   "execution_count": null,
   "metadata": {},
   "outputs": [],
   "source": []
  },
  {
   "cell_type": "code",
   "execution_count": 15,
   "metadata": {},
   "outputs": [],
   "source": [
    "class Client():\n",
    "    def __init__(self, train_data, test_data, client_id,  train_transforms, test_transforms, train_batch_size, test_batch_size, save_dir):\n",
    "        self.trainset = ClientDataset(train_data)\n",
    "        self.testset = ClientDataset(test_data)\n",
    "        self.trainloader = DataLoader(self.trainset, batch_size = train_batch_size, shuffle=True, num_workers=8)\n",
    "        self.testloader = DataLoader(self.testset, batch_size = test_batch_size, shuffle=False, num_workers=8)\n",
    "        self.train_iterator = iter(self.trainloader)\n",
    "        self.test_iterator = iter(self.testloader)\n",
    "        self.client_id = client_id\n",
    "        self.save_dir = os.path.join(save_dir, \"init\", \"client_{}\".format(client_id))\n",
    "        self.save_dir\n",
    "\n",
    "    def sample_batch(self, train=True):\n",
    "        iterator = self.train_iterator if train else self.test_iterator\n",
    "        try:\n",
    "            (data, labels) = next(iterator)\n",
    "        except StopIteration:\n",
    "            if train:\n",
    "                self.train_iterator = iter(self.trainloader)\n",
    "                iterator = self.train_iterator\n",
    "            else:\n",
    "                self.test_iterator = iter(self.testloader)\n",
    "                iterator = self.test_iterator\n",
    "            (data, labels) = next(iterator)\n",
    "        return (data, labels)\n"
   ]
  },
  {
   "cell_type": "code",
   "execution_count": 16,
   "metadata": {},
   "outputs": [
    {
     "name": "stdout",
     "output_type": "stream",
     "text": [
      "Files already downloaded and verified\n",
      "Files already downloaded and verified\n"
     ]
    }
   ],
   "source": [
    "train_chunks, test_chunks = make_client_datasets(config)\n"
   ]
  },
  {
   "cell_type": "code",
   "execution_count": null,
   "metadata": {},
   "outputs": [],
   "source": []
  },
  {
   "cell_type": "code",
   "execution_count": 17,
   "metadata": {},
   "outputs": [
    {
     "name": "stderr",
     "output_type": "stream",
     "text": [
      "Traceback (most recent call last):\n",
      "  File \"/home/harshv834/anaconda3/envs/ffcv/lib/python3.9/multiprocessing/queues.py\", line 251, in _feed\n",
      "    send_bytes(obj)\n",
      "  File \"/home/harshv834/anaconda3/envs/ffcv/lib/python3.9/multiprocessing/connection.py\", line 205, in send_bytes\n",
      "    self._send_bytes(m[offset:offset + size])\n",
      "  File \"/home/harshv834/anaconda3/envs/ffcv/lib/python3.9/multiprocessing/connection.py\", line 416, in _send_bytes\n",
      "    self._send(header + buf)\n",
      "  File \"/home/harshv834/anaconda3/envs/ffcv/lib/python3.9/multiprocessing/connection.py\", line 373, in _send\n",
      "    n = write(self._handle, buf)\n",
      "BrokenPipeError: [Errno 32] Broken pipe\n",
      "Traceback (most recent call last):\n",
      "  File \"/home/harshv834/anaconda3/envs/ffcv/lib/python3.9/multiprocessing/queues.py\", line 251, in _feed\n",
      "    send_bytes(obj)\n",
      "  File \"/home/harshv834/anaconda3/envs/ffcv/lib/python3.9/multiprocessing/connection.py\", line 205, in send_bytes\n",
      "    self._send_bytes(m[offset:offset + size])\n",
      "  File \"/home/harshv834/anaconda3/envs/ffcv/lib/python3.9/multiprocessing/connection.py\", line 416, in _send_bytes\n",
      "    self._send(header + buf)\n",
      "  File \"/home/harshv834/anaconda3/envs/ffcv/lib/python3.9/multiprocessing/connection.py\", line 373, in _send\n",
      "    n = write(self._handle, buf)\n",
      "BrokenPipeError: [Errno 32] Broken pipe\n",
      "Traceback (most recent call last):\n",
      "  File \"/home/harshv834/anaconda3/envs/ffcv/lib/python3.9/multiprocessing/queues.py\", line 251, in _feed\n",
      "    send_bytes(obj)\n",
      "  File \"/home/harshv834/anaconda3/envs/ffcv/lib/python3.9/multiprocessing/connection.py\", line 205, in send_bytes\n",
      "    self._send_bytes(m[offset:offset + size])\n",
      "  File \"/home/harshv834/anaconda3/envs/ffcv/lib/python3.9/multiprocessing/connection.py\", line 416, in _send_bytes\n",
      "    self._send(header + buf)\n",
      "  File \"/home/harshv834/anaconda3/envs/ffcv/lib/python3.9/multiprocessing/connection.py\", line 373, in _send\n",
      "    n = write(self._handle, buf)\n",
      "Traceback (most recent call last):\n",
      "  File \"/home/harshv834/anaconda3/envs/ffcv/lib/python3.9/multiprocessing/queues.py\", line 251, in _feed\n",
      "    send_bytes(obj)\n",
      "  File \"/home/harshv834/anaconda3/envs/ffcv/lib/python3.9/multiprocessing/connection.py\", line 205, in send_bytes\n",
      "    self._send_bytes(m[offset:offset + size])\n",
      "  File \"/home/harshv834/anaconda3/envs/ffcv/lib/python3.9/multiprocessing/connection.py\", line 416, in _send_bytes\n",
      "    self._send(header + buf)\n",
      "  File \"/home/harshv834/anaconda3/envs/ffcv/lib/python3.9/multiprocessing/connection.py\", line 373, in _send\n",
      "    n = write(self._handle, buf)\n",
      "BrokenPipeError: [Errno 32] Broken pipe\n",
      "BrokenPipeError: [Errno 32] Broken pipe\n",
      "Traceback (most recent call last):\n",
      "  File \"/home/harshv834/anaconda3/envs/ffcv/lib/python3.9/multiprocessing/queues.py\", line 251, in _feed\n",
      "    send_bytes(obj)\n",
      "  File \"/home/harshv834/anaconda3/envs/ffcv/lib/python3.9/multiprocessing/connection.py\", line 205, in send_bytes\n",
      "    self._send_bytes(m[offset:offset + size])\n",
      "  File \"/home/harshv834/anaconda3/envs/ffcv/lib/python3.9/multiprocessing/connection.py\", line 416, in _send_bytes\n",
      "    self._send(header + buf)\n",
      "  File \"/home/harshv834/anaconda3/envs/ffcv/lib/python3.9/multiprocessing/connection.py\", line 373, in _send\n",
      "    n = write(self._handle, buf)\n",
      "BrokenPipeError: [Errno 32] Broken pipe\n",
      "Traceback (most recent call last):\n",
      "  File \"/home/harshv834/anaconda3/envs/ffcv/lib/python3.9/multiprocessing/queues.py\", line 251, in _feed\n",
      "    send_bytes(obj)\n",
      "  File \"/home/harshv834/anaconda3/envs/ffcv/lib/python3.9/multiprocessing/connection.py\", line 205, in send_bytes\n",
      "    self._send_bytes(m[offset:offset + size])\n",
      "  File \"/home/harshv834/anaconda3/envs/ffcv/lib/python3.9/multiprocessing/connection.py\", line 416, in _send_bytes\n",
      "    self._send(header + buf)\n",
      "Traceback (most recent call last):\n",
      "  File \"/home/harshv834/anaconda3/envs/ffcv/lib/python3.9/multiprocessing/queues.py\", line 251, in _feed\n",
      "    send_bytes(obj)\n",
      "  File \"/home/harshv834/anaconda3/envs/ffcv/lib/python3.9/multiprocessing/connection.py\", line 205, in send_bytes\n",
      "    self._send_bytes(m[offset:offset + size])\n",
      "Traceback (most recent call last):\n",
      "  File \"/home/harshv834/anaconda3/envs/ffcv/lib/python3.9/multiprocessing/queues.py\", line 251, in _feed\n",
      "    send_bytes(obj)\n",
      "  File \"/home/harshv834/anaconda3/envs/ffcv/lib/python3.9/multiprocessing/connection.py\", line 205, in send_bytes\n",
      "    self._send_bytes(m[offset:offset + size])\n",
      "  File \"/home/harshv834/anaconda3/envs/ffcv/lib/python3.9/multiprocessing/connection.py\", line 416, in _send_bytes\n",
      "    self._send(header + buf)\n",
      "  File \"/home/harshv834/anaconda3/envs/ffcv/lib/python3.9/multiprocessing/connection.py\", line 373, in _send\n",
      "    n = write(self._handle, buf)\n",
      "BrokenPipeError: [Errno 32] Broken pipe\n",
      "Traceback (most recent call last):\n",
      "  File \"/home/harshv834/anaconda3/envs/ffcv/lib/python3.9/multiprocessing/queues.py\", line 251, in _feed\n",
      "    send_bytes(obj)\n",
      "  File \"/home/harshv834/anaconda3/envs/ffcv/lib/python3.9/multiprocessing/connection.py\", line 205, in send_bytes\n",
      "    self._send_bytes(m[offset:offset + size])\n",
      "  File \"/home/harshv834/anaconda3/envs/ffcv/lib/python3.9/multiprocessing/connection.py\", line 416, in _send_bytes\n",
      "    self._send(header + buf)\n",
      "  File \"/home/harshv834/anaconda3/envs/ffcv/lib/python3.9/multiprocessing/connection.py\", line 373, in _send\n",
      "    n = write(self._handle, buf)\n",
      "Traceback (most recent call last):\n",
      "  File \"/home/harshv834/anaconda3/envs/ffcv/lib/python3.9/multiprocessing/queues.py\", line 251, in _feed\n",
      "    send_bytes(obj)\n",
      "  File \"/home/harshv834/anaconda3/envs/ffcv/lib/python3.9/multiprocessing/connection.py\", line 205, in send_bytes\n",
      "    self._send_bytes(m[offset:offset + size])\n",
      "BrokenPipeError: [Errno 32] Broken pipe\n",
      "  File \"/home/harshv834/anaconda3/envs/ffcv/lib/python3.9/multiprocessing/connection.py\", line 373, in _send\n",
      "    n = write(self._handle, buf)\n",
      "BrokenPipeError: [Errno 32] Broken pipe\n",
      "  File \"/home/harshv834/anaconda3/envs/ffcv/lib/python3.9/multiprocessing/connection.py\", line 416, in _send_bytes\n",
      "    self._send(header + buf)\n",
      "  File \"/home/harshv834/anaconda3/envs/ffcv/lib/python3.9/multiprocessing/connection.py\", line 373, in _send\n",
      "    n = write(self._handle, buf)\n",
      "BrokenPipeError: [Errno 32] Broken pipe\n",
      "  File \"/home/harshv834/anaconda3/envs/ffcv/lib/python3.9/multiprocessing/connection.py\", line 416, in _send_bytes\n",
      "    self._send(header + buf)\n",
      "  File \"/home/harshv834/anaconda3/envs/ffcv/lib/python3.9/multiprocessing/connection.py\", line 373, in _send\n",
      "    n = write(self._handle, buf)\n",
      "BrokenPipeError: [Errno 32] Broken pipe\n",
      "Traceback (most recent call last):\n",
      "  File \"/home/harshv834/anaconda3/envs/ffcv/lib/python3.9/multiprocessing/queues.py\", line 251, in _feed\n",
      "    send_bytes(obj)\n",
      "  File \"/home/harshv834/anaconda3/envs/ffcv/lib/python3.9/multiprocessing/connection.py\", line 205, in send_bytes\n",
      "    self._send_bytes(m[offset:offset + size])\n",
      "  File \"/home/harshv834/anaconda3/envs/ffcv/lib/python3.9/multiprocessing/connection.py\", line 416, in _send_bytes\n",
      "    self._send(header + buf)\n",
      "  File \"/home/harshv834/anaconda3/envs/ffcv/lib/python3.9/multiprocessing/connection.py\", line 373, in _send\n",
      "    n = write(self._handle, buf)\n",
      "BrokenPipeError: [Errno 32] Broken pipe\n",
      "Traceback (most recent call last):\n",
      "  File \"/home/harshv834/anaconda3/envs/ffcv/lib/python3.9/multiprocessing/queues.py\", line 251, in _feed\n",
      "    send_bytes(obj)\n",
      "  File \"/home/harshv834/anaconda3/envs/ffcv/lib/python3.9/multiprocessing/connection.py\", line 205, in send_bytes\n",
      "    self._send_bytes(m[offset:offset + size])\n",
      "  File \"/home/harshv834/anaconda3/envs/ffcv/lib/python3.9/multiprocessing/connection.py\", line 416, in _send_bytes\n",
      "    self._send(header + buf)\n",
      "  File \"/home/harshv834/anaconda3/envs/ffcv/lib/python3.9/multiprocessing/connection.py\", line 373, in _send\n",
      "    n = write(self._handle, buf)\n",
      "BrokenPipeError: [Errno 32] Broken pipe\n",
      "Traceback (most recent call last):\n",
      "  File \"/home/harshv834/anaconda3/envs/ffcv/lib/python3.9/multiprocessing/queues.py\", line 251, in _feed\n",
      "    send_bytes(obj)\n",
      "  File \"/home/harshv834/anaconda3/envs/ffcv/lib/python3.9/multiprocessing/connection.py\", line 205, in send_bytes\n",
      "    self._send_bytes(m[offset:offset + size])\n",
      "  File \"/home/harshv834/anaconda3/envs/ffcv/lib/python3.9/multiprocessing/connection.py\", line 416, in _send_bytes\n",
      "    self._send(header + buf)\n",
      "  File \"/home/harshv834/anaconda3/envs/ffcv/lib/python3.9/multiprocessing/connection.py\", line 373, in _send\n",
      "    n = write(self._handle, buf)\n",
      "BrokenPipeError: [Errno 32] Broken pipe\n",
      "Traceback (most recent call last):\n",
      "Traceback (most recent call last):\n",
      "  File \"/home/harshv834/anaconda3/envs/ffcv/lib/python3.9/multiprocessing/queues.py\", line 251, in _feed\n",
      "    send_bytes(obj)\n",
      "  File \"/home/harshv834/anaconda3/envs/ffcv/lib/python3.9/multiprocessing/connection.py\", line 205, in send_bytes\n",
      "    self._send_bytes(m[offset:offset + size])\n",
      "  File \"/home/harshv834/anaconda3/envs/ffcv/lib/python3.9/multiprocessing/connection.py\", line 416, in _send_bytes\n",
      "    self._send(header + buf)\n",
      "Traceback (most recent call last):\n",
      "  File \"/home/harshv834/anaconda3/envs/ffcv/lib/python3.9/multiprocessing/queues.py\", line 251, in _feed\n",
      "    send_bytes(obj)\n",
      "  File \"/home/harshv834/anaconda3/envs/ffcv/lib/python3.9/multiprocessing/connection.py\", line 205, in send_bytes\n",
      "    self._send_bytes(m[offset:offset + size])\n",
      "  File \"/home/harshv834/anaconda3/envs/ffcv/lib/python3.9/multiprocessing/connection.py\", line 373, in _send\n",
      "    n = write(self._handle, buf)\n",
      "BrokenPipeError: [Errno 32] Broken pipe\n",
      "  File \"/home/harshv834/anaconda3/envs/ffcv/lib/python3.9/multiprocessing/queues.py\", line 251, in _feed\n",
      "    send_bytes(obj)\n",
      "  File \"/home/harshv834/anaconda3/envs/ffcv/lib/python3.9/multiprocessing/connection.py\", line 205, in send_bytes\n",
      "    self._send_bytes(m[offset:offset + size])\n",
      "  File \"/home/harshv834/anaconda3/envs/ffcv/lib/python3.9/multiprocessing/connection.py\", line 416, in _send_bytes\n",
      "    self._send(header + buf)\n",
      "  File \"/home/harshv834/anaconda3/envs/ffcv/lib/python3.9/multiprocessing/connection.py\", line 373, in _send\n",
      "    n = write(self._handle, buf)\n",
      "BrokenPipeError: [Errno 32] Broken pipe\n",
      "Traceback (most recent call last):\n",
      "  File \"/home/harshv834/anaconda3/envs/ffcv/lib/python3.9/multiprocessing/connection.py\", line 416, in _send_bytes\n",
      "    self._send(header + buf)\n",
      "  File \"/home/harshv834/anaconda3/envs/ffcv/lib/python3.9/multiprocessing/connection.py\", line 373, in _send\n",
      "    n = write(self._handle, buf)\n",
      "BrokenPipeError: [Errno 32] Broken pipe\n",
      "  File \"/home/harshv834/anaconda3/envs/ffcv/lib/python3.9/multiprocessing/queues.py\", line 251, in _feed\n",
      "    send_bytes(obj)\n",
      "  File \"/home/harshv834/anaconda3/envs/ffcv/lib/python3.9/multiprocessing/connection.py\", line 205, in send_bytes\n",
      "    self._send_bytes(m[offset:offset + size])\n",
      "  File \"/home/harshv834/anaconda3/envs/ffcv/lib/python3.9/multiprocessing/connection.py\", line 416, in _send_bytes\n",
      "    self._send(header + buf)\n",
      "  File \"/home/harshv834/anaconda3/envs/ffcv/lib/python3.9/multiprocessing/connection.py\", line 373, in _send\n",
      "    n = write(self._handle, buf)\n",
      "BrokenPipeError: [Errno 32] Broken pipe\n",
      "Traceback (most recent call last):\n",
      "  File \"/home/harshv834/anaconda3/envs/ffcv/lib/python3.9/multiprocessing/queues.py\", line 251, in _feed\n",
      "    send_bytes(obj)\n",
      "  File \"/home/harshv834/anaconda3/envs/ffcv/lib/python3.9/multiprocessing/connection.py\", line 205, in send_bytes\n",
      "    self._send_bytes(m[offset:offset + size])\n",
      "  File \"/home/harshv834/anaconda3/envs/ffcv/lib/python3.9/multiprocessing/connection.py\", line 416, in _send_bytes\n",
      "    self._send(header + buf)\n",
      "  File \"/home/harshv834/anaconda3/envs/ffcv/lib/python3.9/multiprocessing/connection.py\", line 373, in _send\n",
      "    n = write(self._handle, buf)\n",
      "BrokenPipeError: [Errno 32] Broken pipe\n",
      "Traceback (most recent call last):\n",
      "  File \"/home/harshv834/anaconda3/envs/ffcv/lib/python3.9/multiprocessing/queues.py\", line 251, in _feed\n",
      "    send_bytes(obj)\n",
      "  File \"/home/harshv834/anaconda3/envs/ffcv/lib/python3.9/multiprocessing/connection.py\", line 205, in send_bytes\n",
      "    self._send_bytes(m[offset:offset + size])\n",
      "  File \"/home/harshv834/anaconda3/envs/ffcv/lib/python3.9/multiprocessing/connection.py\", line 416, in _send_bytes\n",
      "    self._send(header + buf)\n",
      "  File \"/home/harshv834/anaconda3/envs/ffcv/lib/python3.9/multiprocessing/connection.py\", line 373, in _send\n",
      "    n = write(self._handle, buf)\n",
      "BrokenPipeError: [Errno 32] Broken pipe\n",
      "Traceback (most recent call last):\n",
      "  File \"/home/harshv834/anaconda3/envs/ffcv/lib/python3.9/multiprocessing/queues.py\", line 251, in _feed\n",
      "    send_bytes(obj)\n",
      "  File \"/home/harshv834/anaconda3/envs/ffcv/lib/python3.9/multiprocessing/connection.py\", line 205, in send_bytes\n",
      "    self._send_bytes(m[offset:offset + size])\n",
      "  File \"/home/harshv834/anaconda3/envs/ffcv/lib/python3.9/multiprocessing/connection.py\", line 416, in _send_bytes\n",
      "    self._send(header + buf)\n",
      "  File \"/home/harshv834/anaconda3/envs/ffcv/lib/python3.9/multiprocessing/connection.py\", line 373, in _send\n",
      "    n = write(self._handle, buf)\n",
      "BrokenPipeError: [Errno 32] Broken pipe\n",
      "Traceback (most recent call last):\n",
      "Traceback (most recent call last):\n",
      "  File \"/home/harshv834/anaconda3/envs/ffcv/lib/python3.9/multiprocessing/queues.py\", line 251, in _feed\n",
      "    send_bytes(obj)\n",
      "  File \"/home/harshv834/anaconda3/envs/ffcv/lib/python3.9/multiprocessing/queues.py\", line 251, in _feed\n",
      "    send_bytes(obj)\n",
      "  File \"/home/harshv834/anaconda3/envs/ffcv/lib/python3.9/multiprocessing/connection.py\", line 205, in send_bytes\n",
      "    self._send_bytes(m[offset:offset + size])\n",
      "  File \"/home/harshv834/anaconda3/envs/ffcv/lib/python3.9/multiprocessing/connection.py\", line 416, in _send_bytes\n",
      "    self._send(header + buf)\n",
      "  File \"/home/harshv834/anaconda3/envs/ffcv/lib/python3.9/multiprocessing/connection.py\", line 373, in _send\n",
      "    n = write(self._handle, buf)\n",
      "BrokenPipeError: [Errno 32] Broken pipe\n",
      "  File \"/home/harshv834/anaconda3/envs/ffcv/lib/python3.9/multiprocessing/connection.py\", line 205, in send_bytes\n",
      "    self._send_bytes(m[offset:offset + size])\n",
      "  File \"/home/harshv834/anaconda3/envs/ffcv/lib/python3.9/multiprocessing/connection.py\", line 416, in _send_bytes\n",
      "    self._send(header + buf)\n",
      "  File \"/home/harshv834/anaconda3/envs/ffcv/lib/python3.9/multiprocessing/connection.py\", line 373, in _send\n",
      "    n = write(self._handle, buf)\n",
      "Traceback (most recent call last):\n",
      "BrokenPipeError: [Errno 32] Broken pipe\n",
      "  File \"/home/harshv834/anaconda3/envs/ffcv/lib/python3.9/multiprocessing/queues.py\", line 251, in _feed\n",
      "    send_bytes(obj)\n",
      "  File \"/home/harshv834/anaconda3/envs/ffcv/lib/python3.9/multiprocessing/connection.py\", line 205, in send_bytes\n",
      "    self._send_bytes(m[offset:offset + size])\n",
      "  File \"/home/harshv834/anaconda3/envs/ffcv/lib/python3.9/multiprocessing/connection.py\", line 416, in _send_bytes\n",
      "    self._send(header + buf)\n",
      "  File \"/home/harshv834/anaconda3/envs/ffcv/lib/python3.9/multiprocessing/connection.py\", line 373, in _send\n",
      "    n = write(self._handle, buf)\n",
      "BrokenPipeError: [Errno 32] Broken pipe\n",
      "Traceback (most recent call last):\n",
      "  File \"/home/harshv834/anaconda3/envs/ffcv/lib/python3.9/multiprocessing/queues.py\", line 251, in _feed\n",
      "    send_bytes(obj)\n",
      "  File \"/home/harshv834/anaconda3/envs/ffcv/lib/python3.9/multiprocessing/connection.py\", line 205, in send_bytes\n",
      "    self._send_bytes(m[offset:offset + size])\n",
      "  File \"/home/harshv834/anaconda3/envs/ffcv/lib/python3.9/multiprocessing/connection.py\", line 416, in _send_bytes\n",
      "    self._send(header + buf)\n",
      "Traceback (most recent call last):\n",
      "  File \"/home/harshv834/anaconda3/envs/ffcv/lib/python3.9/multiprocessing/queues.py\", line 251, in _feed\n",
      "    send_bytes(obj)\n",
      "  File \"/home/harshv834/anaconda3/envs/ffcv/lib/python3.9/multiprocessing/connection.py\", line 205, in send_bytes\n",
      "    self._send_bytes(m[offset:offset + size])\n",
      "  File \"/home/harshv834/anaconda3/envs/ffcv/lib/python3.9/multiprocessing/connection.py\", line 416, in _send_bytes\n",
      "    self._send(header + buf)\n",
      "  File \"/home/harshv834/anaconda3/envs/ffcv/lib/python3.9/multiprocessing/connection.py\", line 373, in _send\n",
      "    n = write(self._handle, buf)\n",
      "BrokenPipeError: [Errno 32] Broken pipe\n",
      "  File \"/home/harshv834/anaconda3/envs/ffcv/lib/python3.9/multiprocessing/connection.py\", line 373, in _send\n",
      "    n = write(self._handle, buf)\n",
      "BrokenPipeError: [Errno 32] Broken pipe\n",
      "Traceback (most recent call last):\n",
      "  File \"/home/harshv834/anaconda3/envs/ffcv/lib/python3.9/multiprocessing/queues.py\", line 251, in _feed\n",
      "    send_bytes(obj)\n",
      "  File \"/home/harshv834/anaconda3/envs/ffcv/lib/python3.9/multiprocessing/connection.py\", line 205, in send_bytes\n",
      "    self._send_bytes(m[offset:offset + size])\n",
      "Traceback (most recent call last):\n",
      "  File \"/home/harshv834/anaconda3/envs/ffcv/lib/python3.9/multiprocessing/queues.py\", line 251, in _feed\n",
      "    send_bytes(obj)\n",
      "  File \"/home/harshv834/anaconda3/envs/ffcv/lib/python3.9/multiprocessing/connection.py\", line 205, in send_bytes\n",
      "    self._send_bytes(m[offset:offset + size])\n",
      "  File \"/home/harshv834/anaconda3/envs/ffcv/lib/python3.9/multiprocessing/connection.py\", line 416, in _send_bytes\n",
      "    self._send(header + buf)\n",
      "Traceback (most recent call last):\n",
      "  File \"/home/harshv834/anaconda3/envs/ffcv/lib/python3.9/multiprocessing/queues.py\", line 251, in _feed\n",
      "    send_bytes(obj)\n",
      "  File \"/home/harshv834/anaconda3/envs/ffcv/lib/python3.9/multiprocessing/connection.py\", line 205, in send_bytes\n",
      "    self._send_bytes(m[offset:offset + size])\n",
      "  File \"/home/harshv834/anaconda3/envs/ffcv/lib/python3.9/multiprocessing/connection.py\", line 416, in _send_bytes\n",
      "    self._send(header + buf)\n",
      "  File \"/home/harshv834/anaconda3/envs/ffcv/lib/python3.9/multiprocessing/connection.py\", line 416, in _send_bytes\n",
      "    self._send(header + buf)\n",
      "  File \"/home/harshv834/anaconda3/envs/ffcv/lib/python3.9/multiprocessing/connection.py\", line 373, in _send\n",
      "    n = write(self._handle, buf)\n",
      "BrokenPipeError: [Errno 32] Broken pipe\n",
      "Traceback (most recent call last):\n",
      "  File \"/home/harshv834/anaconda3/envs/ffcv/lib/python3.9/multiprocessing/connection.py\", line 373, in _send\n",
      "    n = write(self._handle, buf)\n",
      "BrokenPipeError: [Errno 32] Broken pipe\n",
      "  File \"/home/harshv834/anaconda3/envs/ffcv/lib/python3.9/multiprocessing/queues.py\", line 251, in _feed\n",
      "    send_bytes(obj)\n",
      "  File \"/home/harshv834/anaconda3/envs/ffcv/lib/python3.9/multiprocessing/connection.py\", line 205, in send_bytes\n",
      "    self._send_bytes(m[offset:offset + size])\n",
      "  File \"/home/harshv834/anaconda3/envs/ffcv/lib/python3.9/multiprocessing/connection.py\", line 416, in _send_bytes\n",
      "    self._send(header + buf)\n",
      "  File \"/home/harshv834/anaconda3/envs/ffcv/lib/python3.9/multiprocessing/connection.py\", line 373, in _send\n",
      "    n = write(self._handle, buf)\n",
      "BrokenPipeError: [Errno 32] Broken pipe\n",
      "  File \"/home/harshv834/anaconda3/envs/ffcv/lib/python3.9/multiprocessing/connection.py\", line 373, in _send\n",
      "    n = write(self._handle, buf)\n",
      "BrokenPipeError: [Errno 32] Broken pipe\n",
      "Traceback (most recent call last):\n",
      "  File \"/home/harshv834/anaconda3/envs/ffcv/lib/python3.9/multiprocessing/queues.py\", line 251, in _feed\n",
      "    send_bytes(obj)\n",
      "  File \"/home/harshv834/anaconda3/envs/ffcv/lib/python3.9/multiprocessing/connection.py\", line 205, in send_bytes\n",
      "    self._send_bytes(m[offset:offset + size])\n",
      "Traceback (most recent call last):\n",
      "  File \"/home/harshv834/anaconda3/envs/ffcv/lib/python3.9/multiprocessing/queues.py\", line 251, in _feed\n",
      "    send_bytes(obj)\n",
      "  File \"/home/harshv834/anaconda3/envs/ffcv/lib/python3.9/multiprocessing/connection.py\", line 205, in send_bytes\n",
      "    self._send_bytes(m[offset:offset + size])\n",
      "  File \"/home/harshv834/anaconda3/envs/ffcv/lib/python3.9/multiprocessing/connection.py\", line 416, in _send_bytes\n",
      "    self._send(header + buf)\n",
      "  File \"/home/harshv834/anaconda3/envs/ffcv/lib/python3.9/multiprocessing/connection.py\", line 373, in _send\n",
      "    n = write(self._handle, buf)\n",
      "BrokenPipeError: [Errno 32] Broken pipe\n",
      "Traceback (most recent call last):\n",
      "  File \"/home/harshv834/anaconda3/envs/ffcv/lib/python3.9/multiprocessing/queues.py\", line 251, in _feed\n",
      "    send_bytes(obj)\n",
      "  File \"/home/harshv834/anaconda3/envs/ffcv/lib/python3.9/multiprocessing/connection.py\", line 205, in send_bytes\n",
      "    self._send_bytes(m[offset:offset + size])\n",
      "  File \"/home/harshv834/anaconda3/envs/ffcv/lib/python3.9/multiprocessing/connection.py\", line 416, in _send_bytes\n",
      "    self._send(header + buf)\n",
      "  File \"/home/harshv834/anaconda3/envs/ffcv/lib/python3.9/multiprocessing/connection.py\", line 373, in _send\n",
      "    n = write(self._handle, buf)\n",
      "BrokenPipeError: [Errno 32] Broken pipe\n",
      "  File \"/home/harshv834/anaconda3/envs/ffcv/lib/python3.9/multiprocessing/connection.py\", line 416, in _send_bytes\n",
      "    self._send(header + buf)\n",
      "  File \"/home/harshv834/anaconda3/envs/ffcv/lib/python3.9/multiprocessing/connection.py\", line 373, in _send\n",
      "    n = write(self._handle, buf)\n",
      "BrokenPipeError: [Errno 32] Broken pipe\n",
      "Traceback (most recent call last):\n",
      "  File \"/home/harshv834/anaconda3/envs/ffcv/lib/python3.9/multiprocessing/queues.py\", line 251, in _feed\n",
      "    send_bytes(obj)\n",
      "Traceback (most recent call last):\n",
      "Traceback (most recent call last):\n",
      "  File \"/home/harshv834/anaconda3/envs/ffcv/lib/python3.9/multiprocessing/queues.py\", line 251, in _feed\n",
      "    send_bytes(obj)\n",
      "  File \"/home/harshv834/anaconda3/envs/ffcv/lib/python3.9/multiprocessing/connection.py\", line 205, in send_bytes\n",
      "    self._send_bytes(m[offset:offset + size])\n",
      "  File \"/home/harshv834/anaconda3/envs/ffcv/lib/python3.9/multiprocessing/connection.py\", line 416, in _send_bytes\n",
      "    self._send(header + buf)\n",
      "  File \"/home/harshv834/anaconda3/envs/ffcv/lib/python3.9/multiprocessing/connection.py\", line 373, in _send\n",
      "    n = write(self._handle, buf)\n",
      "BrokenPipeError: [Errno 32] Broken pipe\n",
      "  File \"/home/harshv834/anaconda3/envs/ffcv/lib/python3.9/multiprocessing/queues.py\", line 251, in _feed\n",
      "    send_bytes(obj)\n",
      "  File \"/home/harshv834/anaconda3/envs/ffcv/lib/python3.9/multiprocessing/connection.py\", line 205, in send_bytes\n",
      "    self._send_bytes(m[offset:offset + size])\n",
      "  File \"/home/harshv834/anaconda3/envs/ffcv/lib/python3.9/multiprocessing/connection.py\", line 416, in _send_bytes\n",
      "    self._send(header + buf)\n",
      "  File \"/home/harshv834/anaconda3/envs/ffcv/lib/python3.9/multiprocessing/connection.py\", line 373, in _send\n",
      "    n = write(self._handle, buf)\n",
      "  File \"/home/harshv834/anaconda3/envs/ffcv/lib/python3.9/multiprocessing/connection.py\", line 205, in send_bytes\n",
      "    self._send_bytes(m[offset:offset + size])\n",
      "BrokenPipeError: [Errno 32] Broken pipe\n",
      "  File \"/home/harshv834/anaconda3/envs/ffcv/lib/python3.9/multiprocessing/connection.py\", line 416, in _send_bytes\n",
      "    self._send(header + buf)\n",
      "  File \"/home/harshv834/anaconda3/envs/ffcv/lib/python3.9/multiprocessing/connection.py\", line 373, in _send\n",
      "    n = write(self._handle, buf)\n",
      "BrokenPipeError: [Errno 32] Broken pipe\n",
      "Traceback (most recent call last):\n",
      "Traceback (most recent call last):\n",
      "  File \"/home/harshv834/anaconda3/envs/ffcv/lib/python3.9/multiprocessing/queues.py\", line 251, in _feed\n",
      "    send_bytes(obj)\n",
      "  File \"/home/harshv834/anaconda3/envs/ffcv/lib/python3.9/multiprocessing/connection.py\", line 205, in send_bytes\n",
      "    self._send_bytes(m[offset:offset + size])\n",
      "  File \"/home/harshv834/anaconda3/envs/ffcv/lib/python3.9/multiprocessing/connection.py\", line 416, in _send_bytes\n",
      "    self._send(header + buf)\n",
      "  File \"/home/harshv834/anaconda3/envs/ffcv/lib/python3.9/multiprocessing/connection.py\", line 373, in _send\n",
      "    n = write(self._handle, buf)\n",
      "  File \"/home/harshv834/anaconda3/envs/ffcv/lib/python3.9/multiprocessing/queues.py\", line 251, in _feed\n",
      "    send_bytes(obj)\n",
      "  File \"/home/harshv834/anaconda3/envs/ffcv/lib/python3.9/multiprocessing/connection.py\", line 205, in send_bytes\n",
      "    self._send_bytes(m[offset:offset + size])\n",
      "  File \"/home/harshv834/anaconda3/envs/ffcv/lib/python3.9/multiprocessing/connection.py\", line 416, in _send_bytes\n",
      "    self._send(header + buf)\n",
      "  File \"/home/harshv834/anaconda3/envs/ffcv/lib/python3.9/multiprocessing/connection.py\", line 373, in _send\n",
      "    n = write(self._handle, buf)\n",
      "BrokenPipeError: [Errno 32] Broken pipe\n",
      "BrokenPipeError: [Errno 32] Broken pipe\n",
      "Traceback (most recent call last):\n",
      "  File \"/home/harshv834/anaconda3/envs/ffcv/lib/python3.9/multiprocessing/queues.py\", line 251, in _feed\n",
      "    send_bytes(obj)\n",
      "  File \"/home/harshv834/anaconda3/envs/ffcv/lib/python3.9/multiprocessing/connection.py\", line 205, in send_bytes\n",
      "    self._send_bytes(m[offset:offset + size])\n",
      "  File \"/home/harshv834/anaconda3/envs/ffcv/lib/python3.9/multiprocessing/connection.py\", line 416, in _send_bytes\n",
      "    self._send(header + buf)\n",
      "Traceback (most recent call last):\n",
      "  File \"/home/harshv834/anaconda3/envs/ffcv/lib/python3.9/multiprocessing/queues.py\", line 251, in _feed\n",
      "    send_bytes(obj)\n",
      "  File \"/home/harshv834/anaconda3/envs/ffcv/lib/python3.9/multiprocessing/connection.py\", line 205, in send_bytes\n",
      "    self._send_bytes(m[offset:offset + size])\n",
      "  File \"/home/harshv834/anaconda3/envs/ffcv/lib/python3.9/multiprocessing/connection.py\", line 373, in _send\n",
      "    n = write(self._handle, buf)\n",
      "BrokenPipeError: [Errno 32] Broken pipe\n",
      "  File \"/home/harshv834/anaconda3/envs/ffcv/lib/python3.9/multiprocessing/connection.py\", line 416, in _send_bytes\n",
      "    self._send(header + buf)\n",
      "  File \"/home/harshv834/anaconda3/envs/ffcv/lib/python3.9/multiprocessing/connection.py\", line 373, in _send\n",
      "    n = write(self._handle, buf)\n",
      "BrokenPipeError: [Errno 32] Broken pipe\n",
      "Traceback (most recent call last):\n",
      "  File \"/home/harshv834/anaconda3/envs/ffcv/lib/python3.9/multiprocessing/queues.py\", line 251, in _feed\n",
      "    send_bytes(obj)\n",
      "  File \"/home/harshv834/anaconda3/envs/ffcv/lib/python3.9/multiprocessing/connection.py\", line 205, in send_bytes\n",
      "    self._send_bytes(m[offset:offset + size])\n",
      "  File \"/home/harshv834/anaconda3/envs/ffcv/lib/python3.9/multiprocessing/connection.py\", line 416, in _send_bytes\n",
      "    self._send(header + buf)\n",
      "  File \"/home/harshv834/anaconda3/envs/ffcv/lib/python3.9/multiprocessing/connection.py\", line 373, in _send\n",
      "    n = write(self._handle, buf)\n",
      "BrokenPipeError: [Errno 32] Broken pipe\n",
      "Traceback (most recent call last):\n",
      "  File \"/home/harshv834/anaconda3/envs/ffcv/lib/python3.9/multiprocessing/queues.py\", line 251, in _feed\n",
      "    send_bytes(obj)\n",
      "Traceback (most recent call last):\n",
      "  File \"/home/harshv834/anaconda3/envs/ffcv/lib/python3.9/multiprocessing/queues.py\", line 251, in _feed\n",
      "    send_bytes(obj)\n",
      "  File \"/home/harshv834/anaconda3/envs/ffcv/lib/python3.9/multiprocessing/connection.py\", line 205, in send_bytes\n",
      "    self._send_bytes(m[offset:offset + size])\n",
      "  File \"/home/harshv834/anaconda3/envs/ffcv/lib/python3.9/multiprocessing/connection.py\", line 205, in send_bytes\n",
      "    self._send_bytes(m[offset:offset + size])\n",
      "  File \"/home/harshv834/anaconda3/envs/ffcv/lib/python3.9/multiprocessing/connection.py\", line 416, in _send_bytes\n",
      "    self._send(header + buf)\n",
      "  File \"/home/harshv834/anaconda3/envs/ffcv/lib/python3.9/multiprocessing/connection.py\", line 416, in _send_bytes\n",
      "    self._send(header + buf)\n",
      "  File \"/home/harshv834/anaconda3/envs/ffcv/lib/python3.9/multiprocessing/connection.py\", line 373, in _send\n",
      "    n = write(self._handle, buf)\n",
      "  File \"/home/harshv834/anaconda3/envs/ffcv/lib/python3.9/multiprocessing/connection.py\", line 373, in _send\n",
      "    n = write(self._handle, buf)\n",
      "BrokenPipeError: [Errno 32] Broken pipe\n",
      "BrokenPipeError: [Errno 32] Broken pipe\n",
      "Traceback (most recent call last):\n",
      "  File \"/home/harshv834/anaconda3/envs/ffcv/lib/python3.9/multiprocessing/queues.py\", line 251, in _feed\n",
      "    send_bytes(obj)\n",
      "  File \"/home/harshv834/anaconda3/envs/ffcv/lib/python3.9/multiprocessing/connection.py\", line 205, in send_bytes\n",
      "    self._send_bytes(m[offset:offset + size])\n",
      "  File \"/home/harshv834/anaconda3/envs/ffcv/lib/python3.9/multiprocessing/connection.py\", line 416, in _send_bytes\n",
      "    self._send(header + buf)\n",
      "Traceback (most recent call last):\n",
      "  File \"/home/harshv834/anaconda3/envs/ffcv/lib/python3.9/multiprocessing/queues.py\", line 251, in _feed\n",
      "    send_bytes(obj)\n",
      "  File \"/home/harshv834/anaconda3/envs/ffcv/lib/python3.9/multiprocessing/connection.py\", line 205, in send_bytes\n",
      "    self._send_bytes(m[offset:offset + size])\n",
      "  File \"/home/harshv834/anaconda3/envs/ffcv/lib/python3.9/multiprocessing/connection.py\", line 416, in _send_bytes\n",
      "    self._send(header + buf)\n",
      "  File \"/home/harshv834/anaconda3/envs/ffcv/lib/python3.9/multiprocessing/connection.py\", line 373, in _send\n",
      "    n = write(self._handle, buf)\n",
      "BrokenPipeError: [Errno 32] Broken pipe\n",
      "Traceback (most recent call last):\n",
      "  File \"/home/harshv834/anaconda3/envs/ffcv/lib/python3.9/multiprocessing/queues.py\", line 251, in _feed\n",
      "    send_bytes(obj)\n",
      "  File \"/home/harshv834/anaconda3/envs/ffcv/lib/python3.9/multiprocessing/connection.py\", line 205, in send_bytes\n",
      "    self._send_bytes(m[offset:offset + size])\n",
      "  File \"/home/harshv834/anaconda3/envs/ffcv/lib/python3.9/multiprocessing/connection.py\", line 416, in _send_bytes\n",
      "    self._send(header + buf)\n",
      "  File \"/home/harshv834/anaconda3/envs/ffcv/lib/python3.9/multiprocessing/connection.py\", line 373, in _send\n",
      "    n = write(self._handle, buf)\n",
      "Traceback (most recent call last):\n",
      "  File \"/home/harshv834/anaconda3/envs/ffcv/lib/python3.9/multiprocessing/queues.py\", line 251, in _feed\n",
      "    send_bytes(obj)\n",
      "  File \"/home/harshv834/anaconda3/envs/ffcv/lib/python3.9/multiprocessing/connection.py\", line 205, in send_bytes\n",
      "    self._send_bytes(m[offset:offset + size])\n",
      "  File \"/home/harshv834/anaconda3/envs/ffcv/lib/python3.9/multiprocessing/connection.py\", line 373, in _send\n",
      "    n = write(self._handle, buf)\n",
      "BrokenPipeError: [Errno 32] Broken pipe\n",
      "  File \"/home/harshv834/anaconda3/envs/ffcv/lib/python3.9/multiprocessing/connection.py\", line 416, in _send_bytes\n",
      "    self._send(header + buf)\n",
      "  File \"/home/harshv834/anaconda3/envs/ffcv/lib/python3.9/multiprocessing/connection.py\", line 373, in _send\n",
      "    n = write(self._handle, buf)\n",
      "BrokenPipeError: [Errno 32] Broken pipe\n",
      "BrokenPipeError: [Errno 32] Broken pipe\n",
      "Traceback (most recent call last):\n",
      "  File \"/home/harshv834/anaconda3/envs/ffcv/lib/python3.9/multiprocessing/queues.py\", line 251, in _feed\n",
      "    send_bytes(obj)\n",
      "  File \"/home/harshv834/anaconda3/envs/ffcv/lib/python3.9/multiprocessing/connection.py\", line 205, in send_bytes\n",
      "    self._send_bytes(m[offset:offset + size])\n",
      "  File \"/home/harshv834/anaconda3/envs/ffcv/lib/python3.9/multiprocessing/connection.py\", line 416, in _send_bytes\n",
      "    self._send(header + buf)\n",
      "  File \"/home/harshv834/anaconda3/envs/ffcv/lib/python3.9/multiprocessing/connection.py\", line 373, in _send\n",
      "    n = write(self._handle, buf)\n",
      "Traceback (most recent call last):\n",
      "Traceback (most recent call last):\n",
      "  File \"/home/harshv834/anaconda3/envs/ffcv/lib/python3.9/multiprocessing/queues.py\", line 251, in _feed\n",
      "    send_bytes(obj)\n",
      "  File \"/home/harshv834/anaconda3/envs/ffcv/lib/python3.9/multiprocessing/connection.py\", line 205, in send_bytes\n",
      "    self._send_bytes(m[offset:offset + size])\n",
      "  File \"/home/harshv834/anaconda3/envs/ffcv/lib/python3.9/multiprocessing/connection.py\", line 416, in _send_bytes\n",
      "    self._send(header + buf)\n",
      "BrokenPipeError: [Errno 32] Broken pipe\n",
      "  File \"/home/harshv834/anaconda3/envs/ffcv/lib/python3.9/multiprocessing/connection.py\", line 373, in _send\n",
      "    n = write(self._handle, buf)\n",
      "  File \"/home/harshv834/anaconda3/envs/ffcv/lib/python3.9/multiprocessing/queues.py\", line 251, in _feed\n",
      "    send_bytes(obj)\n",
      "BrokenPipeError: [Errno 32] Broken pipe\n",
      "  File \"/home/harshv834/anaconda3/envs/ffcv/lib/python3.9/multiprocessing/connection.py\", line 205, in send_bytes\n",
      "    self._send_bytes(m[offset:offset + size])\n",
      "  File \"/home/harshv834/anaconda3/envs/ffcv/lib/python3.9/multiprocessing/connection.py\", line 416, in _send_bytes\n",
      "    self._send(header + buf)\n",
      "  File \"/home/harshv834/anaconda3/envs/ffcv/lib/python3.9/multiprocessing/connection.py\", line 373, in _send\n",
      "    n = write(self._handle, buf)\n",
      "BrokenPipeError: [Errno 32] Broken pipe\n",
      "Traceback (most recent call last):\n",
      "  File \"/home/harshv834/anaconda3/envs/ffcv/lib/python3.9/multiprocessing/queues.py\", line 251, in _feed\n",
      "    send_bytes(obj)\n",
      "  File \"/home/harshv834/anaconda3/envs/ffcv/lib/python3.9/multiprocessing/connection.py\", line 205, in send_bytes\n",
      "    self._send_bytes(m[offset:offset + size])\n",
      "  File \"/home/harshv834/anaconda3/envs/ffcv/lib/python3.9/multiprocessing/connection.py\", line 416, in _send_bytes\n",
      "    self._send(header + buf)\n",
      "  File \"/home/harshv834/anaconda3/envs/ffcv/lib/python3.9/multiprocessing/connection.py\", line 373, in _send\n",
      "    n = write(self._handle, buf)\n",
      "BrokenPipeError: [Errno 32] Broken pipe\n",
      "Traceback (most recent call last):\n",
      "  File \"/home/harshv834/anaconda3/envs/ffcv/lib/python3.9/multiprocessing/queues.py\", line 251, in _feed\n",
      "    send_bytes(obj)\n",
      "  File \"/home/harshv834/anaconda3/envs/ffcv/lib/python3.9/multiprocessing/connection.py\", line 205, in send_bytes\n",
      "    self._send_bytes(m[offset:offset + size])\n",
      "  File \"/home/harshv834/anaconda3/envs/ffcv/lib/python3.9/multiprocessing/connection.py\", line 416, in _send_bytes\n",
      "    self._send(header + buf)\n",
      "  File \"/home/harshv834/anaconda3/envs/ffcv/lib/python3.9/multiprocessing/connection.py\", line 373, in _send\n",
      "    n = write(self._handle, buf)\n",
      "BrokenPipeError: [Errno 32] Broken pipe\n",
      "Traceback (most recent call last):\n",
      "  File \"/home/harshv834/anaconda3/envs/ffcv/lib/python3.9/multiprocessing/queues.py\", line 251, in _feed\n",
      "    send_bytes(obj)\n",
      "  File \"/home/harshv834/anaconda3/envs/ffcv/lib/python3.9/multiprocessing/connection.py\", line 205, in send_bytes\n",
      "    self._send_bytes(m[offset:offset + size])\n",
      "  File \"/home/harshv834/anaconda3/envs/ffcv/lib/python3.9/multiprocessing/connection.py\", line 416, in _send_bytes\n",
      "    self._send(header + buf)\n",
      "  File \"/home/harshv834/anaconda3/envs/ffcv/lib/python3.9/multiprocessing/connection.py\", line 373, in _send\n",
      "    n = write(self._handle, buf)\n",
      "BrokenPipeError: [Errno 32] Broken pipe\n",
      "Traceback (most recent call last):\n",
      "  File \"/home/harshv834/anaconda3/envs/ffcv/lib/python3.9/multiprocessing/queues.py\", line 251, in _feed\n",
      "    send_bytes(obj)\n",
      "  File \"/home/harshv834/anaconda3/envs/ffcv/lib/python3.9/multiprocessing/connection.py\", line 205, in send_bytes\n",
      "    self._send_bytes(m[offset:offset + size])\n",
      "  File \"/home/harshv834/anaconda3/envs/ffcv/lib/python3.9/multiprocessing/connection.py\", line 416, in _send_bytes\n",
      "    self._send(header + buf)\n",
      "  File \"/home/harshv834/anaconda3/envs/ffcv/lib/python3.9/multiprocessing/connection.py\", line 373, in _send\n",
      "    n = write(self._handle, buf)\n",
      "BrokenPipeError: [Errno 32] Broken pipe\n",
      "Traceback (most recent call last):\n",
      "  File \"/home/harshv834/anaconda3/envs/ffcv/lib/python3.9/multiprocessing/queues.py\", line 251, in _feed\n",
      "    send_bytes(obj)\n",
      "  File \"/home/harshv834/anaconda3/envs/ffcv/lib/python3.9/multiprocessing/connection.py\", line 205, in send_bytes\n",
      "    self._send_bytes(m[offset:offset + size])\n",
      "  File \"/home/harshv834/anaconda3/envs/ffcv/lib/python3.9/multiprocessing/connection.py\", line 416, in _send_bytes\n",
      "    self._send(header + buf)\n",
      "  File \"/home/harshv834/anaconda3/envs/ffcv/lib/python3.9/multiprocessing/connection.py\", line 373, in _send\n",
      "    n = write(self._handle, buf)\n",
      "BrokenPipeError: [Errno 32] Broken pipe\n",
      "Traceback (most recent call last):\n",
      "  File \"/home/harshv834/anaconda3/envs/ffcv/lib/python3.9/multiprocessing/queues.py\", line 251, in _feed\n",
      "    send_bytes(obj)\n",
      "  File \"/home/harshv834/anaconda3/envs/ffcv/lib/python3.9/multiprocessing/connection.py\", line 205, in send_bytes\n",
      "    self._send_bytes(m[offset:offset + size])\n",
      "  File \"/home/harshv834/anaconda3/envs/ffcv/lib/python3.9/multiprocessing/connection.py\", line 416, in _send_bytes\n",
      "    self._send(header + buf)\n",
      "  File \"/home/harshv834/anaconda3/envs/ffcv/lib/python3.9/multiprocessing/connection.py\", line 373, in _send\n",
      "    n = write(self._handle, buf)\n",
      "BrokenPipeError: [Errno 32] Broken pipe\n",
      "Traceback (most recent call last):\n",
      "  File \"/home/harshv834/anaconda3/envs/ffcv/lib/python3.9/multiprocessing/queues.py\", line 251, in _feed\n",
      "    send_bytes(obj)\n",
      "  File \"/home/harshv834/anaconda3/envs/ffcv/lib/python3.9/multiprocessing/connection.py\", line 205, in send_bytes\n",
      "    self._send_bytes(m[offset:offset + size])\n",
      "Traceback (most recent call last):\n",
      "  File \"/home/harshv834/anaconda3/envs/ffcv/lib/python3.9/multiprocessing/queues.py\", line 251, in _feed\n",
      "    send_bytes(obj)\n",
      "  File \"/home/harshv834/anaconda3/envs/ffcv/lib/python3.9/multiprocessing/connection.py\", line 205, in send_bytes\n",
      "    self._send_bytes(m[offset:offset + size])\n",
      "Traceback (most recent call last):\n",
      "  File \"/home/harshv834/anaconda3/envs/ffcv/lib/python3.9/multiprocessing/queues.py\", line 251, in _feed\n",
      "    send_bytes(obj)\n",
      "  File \"/home/harshv834/anaconda3/envs/ffcv/lib/python3.9/multiprocessing/connection.py\", line 205, in send_bytes\n",
      "    self._send_bytes(m[offset:offset + size])\n",
      "  File \"/home/harshv834/anaconda3/envs/ffcv/lib/python3.9/multiprocessing/connection.py\", line 416, in _send_bytes\n",
      "    self._send(header + buf)\n",
      "Traceback (most recent call last):\n",
      "  File \"/home/harshv834/anaconda3/envs/ffcv/lib/python3.9/multiprocessing/queues.py\", line 251, in _feed\n",
      "    send_bytes(obj)\n",
      "  File \"/home/harshv834/anaconda3/envs/ffcv/lib/python3.9/multiprocessing/connection.py\", line 205, in send_bytes\n",
      "    self._send_bytes(m[offset:offset + size])\n",
      "  File \"/home/harshv834/anaconda3/envs/ffcv/lib/python3.9/multiprocessing/connection.py\", line 416, in _send_bytes\n",
      "    self._send(header + buf)\n",
      "  File \"/home/harshv834/anaconda3/envs/ffcv/lib/python3.9/multiprocessing/connection.py\", line 416, in _send_bytes\n",
      "    self._send(header + buf)\n",
      "  File \"/home/harshv834/anaconda3/envs/ffcv/lib/python3.9/multiprocessing/connection.py\", line 373, in _send\n",
      "    n = write(self._handle, buf)\n",
      "Traceback (most recent call last):\n",
      "  File \"/home/harshv834/anaconda3/envs/ffcv/lib/python3.9/multiprocessing/queues.py\", line 251, in _feed\n",
      "    send_bytes(obj)\n",
      "  File \"/home/harshv834/anaconda3/envs/ffcv/lib/python3.9/multiprocessing/connection.py\", line 205, in send_bytes\n",
      "    self._send_bytes(m[offset:offset + size])\n",
      "  File \"/home/harshv834/anaconda3/envs/ffcv/lib/python3.9/multiprocessing/connection.py\", line 416, in _send_bytes\n",
      "    self._send(header + buf)\n",
      "  File \"/home/harshv834/anaconda3/envs/ffcv/lib/python3.9/multiprocessing/connection.py\", line 373, in _send\n",
      "    n = write(self._handle, buf)\n",
      "BrokenPipeError: [Errno 32] Broken pipe\n",
      "BrokenPipeError: [Errno 32] Broken pipe\n",
      "  File \"/home/harshv834/anaconda3/envs/ffcv/lib/python3.9/multiprocessing/connection.py\", line 373, in _send\n",
      "    n = write(self._handle, buf)\n",
      "BrokenPipeError: [Errno 32] Broken pipe\n",
      "  File \"/home/harshv834/anaconda3/envs/ffcv/lib/python3.9/multiprocessing/connection.py\", line 373, in _send\n",
      "    n = write(self._handle, buf)\n",
      "BrokenPipeError: [Errno 32] Broken pipe\n",
      "  File \"/home/harshv834/anaconda3/envs/ffcv/lib/python3.9/multiprocessing/connection.py\", line 416, in _send_bytes\n",
      "    self._send(header + buf)\n",
      "  File \"/home/harshv834/anaconda3/envs/ffcv/lib/python3.9/multiprocessing/connection.py\", line 373, in _send\n",
      "    n = write(self._handle, buf)\n",
      "BrokenPipeError: [Errno 32] Broken pipe\n",
      "Traceback (most recent call last):\n",
      "  File \"/home/harshv834/anaconda3/envs/ffcv/lib/python3.9/multiprocessing/queues.py\", line 251, in _feed\n",
      "    send_bytes(obj)\n",
      "  File \"/home/harshv834/anaconda3/envs/ffcv/lib/python3.9/multiprocessing/connection.py\", line 205, in send_bytes\n",
      "    self._send_bytes(m[offset:offset + size])\n",
      "  File \"/home/harshv834/anaconda3/envs/ffcv/lib/python3.9/multiprocessing/connection.py\", line 416, in _send_bytes\n",
      "    self._send(header + buf)\n",
      "  File \"/home/harshv834/anaconda3/envs/ffcv/lib/python3.9/multiprocessing/connection.py\", line 373, in _send\n",
      "    n = write(self._handle, buf)\n",
      "BrokenPipeError: [Errno 32] Broken pipe\n",
      "Traceback (most recent call last):\n",
      "  File \"/home/harshv834/anaconda3/envs/ffcv/lib/python3.9/multiprocessing/queues.py\", line 251, in _feed\n",
      "    send_bytes(obj)\n",
      "  File \"/home/harshv834/anaconda3/envs/ffcv/lib/python3.9/multiprocessing/connection.py\", line 205, in send_bytes\n",
      "    self._send_bytes(m[offset:offset + size])\n",
      "Traceback (most recent call last):\n",
      "  File \"/home/harshv834/anaconda3/envs/ffcv/lib/python3.9/multiprocessing/queues.py\", line 251, in _feed\n",
      "    send_bytes(obj)\n",
      "  File \"/home/harshv834/anaconda3/envs/ffcv/lib/python3.9/multiprocessing/connection.py\", line 205, in send_bytes\n",
      "    self._send_bytes(m[offset:offset + size])\n",
      "  File \"/home/harshv834/anaconda3/envs/ffcv/lib/python3.9/multiprocessing/connection.py\", line 416, in _send_bytes\n",
      "    self._send(header + buf)\n",
      "  File \"/home/harshv834/anaconda3/envs/ffcv/lib/python3.9/multiprocessing/connection.py\", line 373, in _send\n",
      "    n = write(self._handle, buf)\n",
      "  File \"/home/harshv834/anaconda3/envs/ffcv/lib/python3.9/multiprocessing/connection.py\", line 416, in _send_bytes\n",
      "    self._send(header + buf)\n",
      "  File \"/home/harshv834/anaconda3/envs/ffcv/lib/python3.9/multiprocessing/connection.py\", line 373, in _send\n",
      "    n = write(self._handle, buf)\n",
      "BrokenPipeError: [Errno 32] Broken pipe\n",
      "BrokenPipeError: [Errno 32] Broken pipe\n",
      "Traceback (most recent call last):\n",
      "  File \"/home/harshv834/anaconda3/envs/ffcv/lib/python3.9/multiprocessing/queues.py\", line 251, in _feed\n",
      "    send_bytes(obj)\n",
      "  File \"/home/harshv834/anaconda3/envs/ffcv/lib/python3.9/multiprocessing/connection.py\", line 205, in send_bytes\n",
      "    self._send_bytes(m[offset:offset + size])\n",
      "  File \"/home/harshv834/anaconda3/envs/ffcv/lib/python3.9/multiprocessing/connection.py\", line 416, in _send_bytes\n",
      "    self._send(header + buf)\n",
      "  File \"/home/harshv834/anaconda3/envs/ffcv/lib/python3.9/multiprocessing/connection.py\", line 373, in _send\n",
      "    n = write(self._handle, buf)\n",
      "BrokenPipeError: [Errno 32] Broken pipe\n",
      "Traceback (most recent call last):\n",
      "  File \"/home/harshv834/anaconda3/envs/ffcv/lib/python3.9/multiprocessing/queues.py\", line 251, in _feed\n",
      "    send_bytes(obj)\n",
      "  File \"/home/harshv834/anaconda3/envs/ffcv/lib/python3.9/multiprocessing/connection.py\", line 205, in send_bytes\n",
      "    self._send_bytes(m[offset:offset + size])\n",
      "  File \"/home/harshv834/anaconda3/envs/ffcv/lib/python3.9/multiprocessing/connection.py\", line 416, in _send_bytes\n",
      "    self._send(header + buf)\n",
      "  File \"/home/harshv834/anaconda3/envs/ffcv/lib/python3.9/multiprocessing/connection.py\", line 373, in _send\n",
      "    n = write(self._handle, buf)\n",
      "BrokenPipeError: [Errno 32] Broken pipe\n",
      "Traceback (most recent call last):\n",
      "  File \"/home/harshv834/anaconda3/envs/ffcv/lib/python3.9/multiprocessing/queues.py\", line 251, in _feed\n",
      "    send_bytes(obj)\n",
      "  File \"/home/harshv834/anaconda3/envs/ffcv/lib/python3.9/multiprocessing/connection.py\", line 205, in send_bytes\n",
      "    self._send_bytes(m[offset:offset + size])\n",
      "  File \"/home/harshv834/anaconda3/envs/ffcv/lib/python3.9/multiprocessing/connection.py\", line 416, in _send_bytes\n",
      "    self._send(header + buf)\n",
      "Traceback (most recent call last):\n",
      "  File \"/home/harshv834/anaconda3/envs/ffcv/lib/python3.9/multiprocessing/queues.py\", line 251, in _feed\n",
      "    send_bytes(obj)\n",
      "  File \"/home/harshv834/anaconda3/envs/ffcv/lib/python3.9/multiprocessing/connection.py\", line 205, in send_bytes\n",
      "    self._send_bytes(m[offset:offset + size])\n",
      "  File \"/home/harshv834/anaconda3/envs/ffcv/lib/python3.9/multiprocessing/connection.py\", line 416, in _send_bytes\n",
      "    self._send(header + buf)\n",
      "  File \"/home/harshv834/anaconda3/envs/ffcv/lib/python3.9/multiprocessing/connection.py\", line 373, in _send\n",
      "    n = write(self._handle, buf)\n",
      "Traceback (most recent call last):\n",
      "  File \"/home/harshv834/anaconda3/envs/ffcv/lib/python3.9/multiprocessing/queues.py\", line 251, in _feed\n",
      "    send_bytes(obj)\n",
      "  File \"/home/harshv834/anaconda3/envs/ffcv/lib/python3.9/multiprocessing/connection.py\", line 205, in send_bytes\n",
      "    self._send_bytes(m[offset:offset + size])\n",
      "  File \"/home/harshv834/anaconda3/envs/ffcv/lib/python3.9/multiprocessing/connection.py\", line 416, in _send_bytes\n",
      "    self._send(header + buf)\n",
      "  File \"/home/harshv834/anaconda3/envs/ffcv/lib/python3.9/multiprocessing/connection.py\", line 373, in _send\n",
      "    n = write(self._handle, buf)\n",
      "  File \"/home/harshv834/anaconda3/envs/ffcv/lib/python3.9/multiprocessing/connection.py\", line 373, in _send\n",
      "    n = write(self._handle, buf)\n",
      "BrokenPipeError: [Errno 32] Broken pipe\n",
      "Traceback (most recent call last):\n",
      "BrokenPipeError: [Errno 32] Broken pipe\n",
      "  File \"/home/harshv834/anaconda3/envs/ffcv/lib/python3.9/multiprocessing/queues.py\", line 251, in _feed\n",
      "    send_bytes(obj)\n",
      "  File \"/home/harshv834/anaconda3/envs/ffcv/lib/python3.9/multiprocessing/connection.py\", line 205, in send_bytes\n",
      "    self._send_bytes(m[offset:offset + size])\n",
      "  File \"/home/harshv834/anaconda3/envs/ffcv/lib/python3.9/multiprocessing/connection.py\", line 416, in _send_bytes\n",
      "    self._send(header + buf)\n",
      "BrokenPipeError: [Errno 32] Broken pipe\n",
      "  File \"/home/harshv834/anaconda3/envs/ffcv/lib/python3.9/multiprocessing/connection.py\", line 373, in _send\n",
      "    n = write(self._handle, buf)\n",
      "BrokenPipeError: [Errno 32] Broken pipe\n",
      "Traceback (most recent call last):\n",
      "  File \"/home/harshv834/anaconda3/envs/ffcv/lib/python3.9/multiprocessing/queues.py\", line 251, in _feed\n",
      "    send_bytes(obj)\n",
      "  File \"/home/harshv834/anaconda3/envs/ffcv/lib/python3.9/multiprocessing/connection.py\", line 205, in send_bytes\n",
      "    self._send_bytes(m[offset:offset + size])\n",
      "  File \"/home/harshv834/anaconda3/envs/ffcv/lib/python3.9/multiprocessing/connection.py\", line 416, in _send_bytes\n",
      "    self._send(header + buf)\n",
      "  File \"/home/harshv834/anaconda3/envs/ffcv/lib/python3.9/multiprocessing/connection.py\", line 373, in _send\n",
      "    n = write(self._handle, buf)\n",
      "BrokenPipeError: [Errno 32] Broken pipe\n",
      "Traceback (most recent call last):\n",
      "Traceback (most recent call last):\n",
      "Traceback (most recent call last):\n",
      "Traceback (most recent call last):\n",
      "  File \"/home/harshv834/anaconda3/envs/ffcv/lib/python3.9/multiprocessing/queues.py\", line 251, in _feed\n",
      "    send_bytes(obj)\n",
      "  File \"/home/harshv834/anaconda3/envs/ffcv/lib/python3.9/multiprocessing/connection.py\", line 205, in send_bytes\n",
      "    self._send_bytes(m[offset:offset + size])\n",
      "  File \"/home/harshv834/anaconda3/envs/ffcv/lib/python3.9/multiprocessing/connection.py\", line 416, in _send_bytes\n",
      "    self._send(header + buf)\n",
      "  File \"/home/harshv834/anaconda3/envs/ffcv/lib/python3.9/multiprocessing/queues.py\", line 251, in _feed\n",
      "    send_bytes(obj)\n",
      "  File \"/home/harshv834/anaconda3/envs/ffcv/lib/python3.9/multiprocessing/connection.py\", line 205, in send_bytes\n",
      "    self._send_bytes(m[offset:offset + size])\n",
      "  File \"/home/harshv834/anaconda3/envs/ffcv/lib/python3.9/multiprocessing/connection.py\", line 416, in _send_bytes\n",
      "    self._send(header + buf)\n",
      "  File \"/home/harshv834/anaconda3/envs/ffcv/lib/python3.9/multiprocessing/connection.py\", line 373, in _send\n",
      "    n = write(self._handle, buf)\n",
      "Traceback (most recent call last):\n",
      "  File \"/home/harshv834/anaconda3/envs/ffcv/lib/python3.9/multiprocessing/queues.py\", line 251, in _feed\n",
      "    send_bytes(obj)\n",
      "  File \"/home/harshv834/anaconda3/envs/ffcv/lib/python3.9/multiprocessing/connection.py\", line 205, in send_bytes\n",
      "    self._send_bytes(m[offset:offset + size])\n",
      "  File \"/home/harshv834/anaconda3/envs/ffcv/lib/python3.9/multiprocessing/queues.py\", line 251, in _feed\n",
      "    send_bytes(obj)\n",
      "  File \"/home/harshv834/anaconda3/envs/ffcv/lib/python3.9/multiprocessing/connection.py\", line 205, in send_bytes\n",
      "    self._send_bytes(m[offset:offset + size])\n",
      "  File \"/home/harshv834/anaconda3/envs/ffcv/lib/python3.9/multiprocessing/connection.py\", line 416, in _send_bytes\n",
      "    self._send(header + buf)\n",
      "  File \"/home/harshv834/anaconda3/envs/ffcv/lib/python3.9/multiprocessing/connection.py\", line 373, in _send\n",
      "    n = write(self._handle, buf)\n",
      "  File \"/home/harshv834/anaconda3/envs/ffcv/lib/python3.9/multiprocessing/connection.py\", line 416, in _send_bytes\n",
      "    self._send(header + buf)\n",
      "  File \"/home/harshv834/anaconda3/envs/ffcv/lib/python3.9/multiprocessing/connection.py\", line 373, in _send\n",
      "    n = write(self._handle, buf)\n",
      "BrokenPipeError: [Errno 32] Broken pipe\n",
      "BrokenPipeError: [Errno 32] Broken pipe\n",
      "BrokenPipeError: [Errno 32] Broken pipe\n",
      "Traceback (most recent call last):\n",
      "  File \"/home/harshv834/anaconda3/envs/ffcv/lib/python3.9/multiprocessing/queues.py\", line 251, in _feed\n",
      "    send_bytes(obj)\n",
      "  File \"/home/harshv834/anaconda3/envs/ffcv/lib/python3.9/multiprocessing/connection.py\", line 205, in send_bytes\n",
      "    self._send_bytes(m[offset:offset + size])\n",
      "  File \"/home/harshv834/anaconda3/envs/ffcv/lib/python3.9/multiprocessing/connection.py\", line 373, in _send\n",
      "    n = write(self._handle, buf)\n",
      "BrokenPipeError: [Errno 32] Broken pipe\n",
      "  File \"/home/harshv834/anaconda3/envs/ffcv/lib/python3.9/multiprocessing/queues.py\", line 251, in _feed\n",
      "    send_bytes(obj)\n",
      "  File \"/home/harshv834/anaconda3/envs/ffcv/lib/python3.9/multiprocessing/connection.py\", line 205, in send_bytes\n",
      "    self._send_bytes(m[offset:offset + size])\n",
      "  File \"/home/harshv834/anaconda3/envs/ffcv/lib/python3.9/multiprocessing/connection.py\", line 416, in _send_bytes\n",
      "    self._send(header + buf)\n",
      "  File \"/home/harshv834/anaconda3/envs/ffcv/lib/python3.9/multiprocessing/connection.py\", line 373, in _send\n",
      "    n = write(self._handle, buf)\n",
      "BrokenPipeError: [Errno 32] Broken pipe\n",
      "  File \"/home/harshv834/anaconda3/envs/ffcv/lib/python3.9/multiprocessing/connection.py\", line 416, in _send_bytes\n",
      "    self._send(header + buf)\n",
      "  File \"/home/harshv834/anaconda3/envs/ffcv/lib/python3.9/multiprocessing/connection.py\", line 373, in _send\n",
      "    n = write(self._handle, buf)\n",
      "BrokenPipeError: [Errno 32] Broken pipe\n"
     ]
    }
   ],
   "source": [
    "import torchvision.transforms as transforms\n",
    "\n",
    "\n",
    "\n",
    "config[\"train_batch\"] = 512\n",
    "config[\"test_batch\"] = 512\n",
    "client_loaders = []\n",
    "train_transforms = transforms.Compose([\n",
    "    transforms.RandomCrop(32, padding=4),\n",
    "    transforms.Normalize((0.4914, 0.4822, 0.4465), (0.2023, 0.1994, 0.2010)),\n",
    "])\n",
    "\n",
    "test_transforms = transforms.Compose([\n",
    "    transforms.Normalize((0.4914, 0.4822, 0.4465), (0.2023, 0.1994, 0.2010)),\n",
    "])\n",
    "\n",
    "for i in range(config[\"num_clusters\"]):\n",
    "    for j in range(config[\"num_clients_per_cluster\"]):\n",
    "        idx = i * config[\"num_clients_per_cluster\"] + j\n",
    "        x_train = torch.as_tensor(train_chunks[idx][0]).float()\n",
    "        x_test = torch.as_tensor(test_chunks[idx][0]).float()\n",
    "        x_train = x_train.permute(0,3,1,2)\n",
    "        x_test = x_test.permute(0,3,1,2)\n",
    "\n",
    "        if i >0:\n",
    "            x_train = torch.rot90(x_train, i*2, [2, 3])\n",
    "            x_test = torch.rot90(x_test, i*2, [2, 3])\n",
    "        client_loaders.append(\n",
    "            Client(\n",
    "                (x_train, torch.as_tensor(train_chunks[idx][1])),\n",
    "                (x_test, torch.as_tensor(test_chunks[idx][1])),\n",
    "                idx,\n",
    "                train_transforms=train_transforms,\n",
    "                test_transforms=None,\n",
    "                train_batch_size=config[\"train_batch\"],\n",
    "                test_batch_size=config[\"test_batch\"],\n",
    "                save_dir=config[\"results_dir\"],\n",
    "            )\n",
    "        )\n"
   ]
  },
  {
   "cell_type": "code",
   "execution_count": 19,
   "metadata": {},
   "outputs": [],
   "source": [
    "from torchvision.models import resnet18\n",
    "class ResNet(nn.Module):\n",
    "    def __init__(self):\n",
    "        super(ResNet, self).__init__()\n",
    "        self.model = resnet18(pretrained=True)\n",
    "        for param in self.model.parameters():\n",
    "            param.requires_grad=False\n",
    "        in_features = self.model.fc.in_features\n",
    "        self.model.fc = nn.Linear(in_features, 10)\n",
    "        \n",
    "    def forward(self, input):\n",
    "        x = self.model(input)\n",
    "        return x\n",
    "    \n",
    "class Net(nn.Module):\n",
    "    def __init__(self):\n",
    "        super().__init__()\n",
    "        self.conv1 = nn.Conv2d(3, 6, 5)\n",
    "        self.pool = nn.MaxPool2d(2, 2)\n",
    "        self.conv2 = nn.Conv2d(6, 16, 5)\n",
    "        self.fc1 = nn.Linear(16 * 5 * 5, 120)\n",
    "        self.fc2 = nn.Linear(120, 84)\n",
    "        layer_list = [self.conv1, self.conv2, self.pool, self.fc1, self.fc2]\n",
    "        for layer in layer_list:\n",
    "            for param in layer.parameters():\n",
    "                param.requires_grad = False\n",
    "        self.fc3 = nn.Linear(84, 10)\n",
    "\n",
    "    def forward(self, x):\n",
    "        x = self.pool(F.relu(self.conv1(x)))\n",
    "        x = self.pool(F.relu(self.conv2(x)))\n",
    "        x = torch.flatten(x, 1) # flatten all dimensions except batch\n",
    "        x = F.relu(self.fc1(x))\n",
    "        x = F.relu(self.fc2(x))\n",
    "        x = self.fc3(x)\n",
    "        return x\n",
    "\n",
    "\n"
   ]
  },
  {
   "cell_type": "code",
   "execution_count": null,
   "metadata": {},
   "outputs": [],
   "source": []
  },
  {
   "cell_type": "code",
   "execution_count": 43,
   "metadata": {},
   "outputs": [],
   "source": []
  },
  {
   "cell_type": "code",
   "execution_count": 46,
   "metadata": {},
   "outputs": [
    {
     "data": {
      "text/plain": [
       "512"
      ]
     },
     "execution_count": 46,
     "metadata": {},
     "output_type": "execute_result"
    }
   ],
   "source": []
  },
  {
   "cell_type": "code",
   "execution_count": null,
   "metadata": {},
   "outputs": [],
   "source": [
    "# def train_fedavg_model(train_chunks, test_chunks, config):\n",
    "# model = SimpleLinear()\n",
    "# model.to(torch.device(\"cuda:0\"))\n",
    "# train_data = []\n",
    "# train_labels = [chunk[1] for chunk in train_chunks]\n",
    "# test_labels = [chunk[1] for chunk in test_chunks]\n",
    "# test_data = []\n",
    "# for i in range(config[\"num_clusters\"]):\n",
    "#     for j in range(config['num_clients_per_cluster']):\n",
    "#         idx = i*config[\"num_clients_per_cluster\"] + j\n",
    "#         train_data.append()\n",
    "# train_set = ClientDataset(data)"
   ]
  },
  {
   "cell_type": "code",
   "execution_count": 21,
   "metadata": {},
   "outputs": [
    {
     "name": "stderr",
     "output_type": "stream",
     "text": [
      "  0%|          | 0/20 [00:00<?, ?it/s]"
     ]
    },
    {
     "name": "stdout",
     "output_type": "stream",
     "text": [
      "Iteration : 0 \n",
      " , Train Loss : 9.119747161865234 \n",
      ", Test Acc : 11.489818572998047 \n",
      ", Time : 0.4879488945007324\n",
      "\n"
     ]
    },
    {
     "name": "stderr",
     "output_type": "stream",
     "text": []
    },
    {
     "name": "stdout",
     "output_type": "stream",
     "text": [
      "Iteration : 10 \n",
      " , Train Loss : 4.583766460418701 \n",
      ", Test Acc : 13.457351684570312 \n",
      ", Time : 0.5162496566772461\n",
      "\n"
     ]
    },
    {
     "name": "stderr",
     "output_type": "stream",
     "text": []
    },
    {
     "name": "stdout",
     "output_type": "stream",
     "text": [
      "Iteration : 20 \n",
      " , Train Loss : 4.011845588684082 \n",
      ", Test Acc : 9.8008451461792 \n",
      ", Time : 0.5425963401794434\n",
      "\n"
     ]
    },
    {
     "name": "stderr",
     "output_type": "stream",
     "text": []
    },
    {
     "name": "stdout",
     "output_type": "stream",
     "text": [
      "Iteration : 30 \n",
      " , Train Loss : 3.6533756256103516 \n",
      ", Test Acc : 14.505955696105957 \n",
      ", Time : 0.5324900150299072\n",
      "\n"
     ]
    },
    {
     "name": "stderr",
     "output_type": "stream",
     "text": []
    },
    {
     "name": "stdout",
     "output_type": "stream",
     "text": [
      "Iteration : 40 \n",
      " , Train Loss : 3.2456367015838623 \n",
      ", Test Acc : 13.593429565429688 \n",
      ", Time : 0.5237395763397217\n",
      "\n"
     ]
    },
    {
     "name": "stderr",
     "output_type": "stream",
     "text": []
    },
    {
     "name": "stdout",
     "output_type": "stream",
     "text": [
      "Iteration : 50 \n",
      " , Train Loss : 3.156414270401001 \n",
      ", Test Acc : 13.012295722961426 \n",
      ", Time : 0.5247807502746582\n",
      "\n"
     ]
    },
    {
     "name": "stderr",
     "output_type": "stream",
     "text": [
      "  0%|          | 57/20000 [00:34<3:20:32,  1.66it/s]\n",
      "  0%|          | 0/20 [00:34<?, ?it/s]\n"
     ]
    },
    {
     "ename": "KeyboardInterrupt",
     "evalue": "",
     "output_type": "error",
     "traceback": [
      "\u001b[0;31m---------------------------------------------------------------------------\u001b[0m",
      "\u001b[0;31mKeyboardInterrupt\u001b[0m                         Traceback (most recent call last)",
      "Input \u001b[0;32mIn [21]\u001b[0m, in \u001b[0;36m<module>\u001b[0;34m\u001b[0m\n\u001b[1;32m    105\u001b[0m client_trainers \u001b[38;5;241m=\u001b[39m [ClientTrainer(config,os\u001b[38;5;241m.\u001b[39mpath\u001b[38;5;241m.\u001b[39mjoin(config[\u001b[38;5;124m\"\u001b[39m\u001b[38;5;124mresults_dir\u001b[39m\u001b[38;5;124m\"\u001b[39m], \u001b[38;5;124m\"\u001b[39m\u001b[38;5;124minit\u001b[39m\u001b[38;5;124m\"\u001b[39m, \u001b[38;5;124m\"\u001b[39m\u001b[38;5;124mnode_\u001b[39m\u001b[38;5;132;01m{}\u001b[39;00m\u001b[38;5;124m\"\u001b[39m\u001b[38;5;241m.\u001b[39mformat(i)), i) \u001b[38;5;28;01mfor\u001b[39;00m i \u001b[38;5;129;01min\u001b[39;00m \u001b[38;5;28mrange\u001b[39m(config[\u001b[38;5;124m\"\u001b[39m\u001b[38;5;124mnum_clients\u001b[39m\u001b[38;5;124m\"\u001b[39m])]\n\u001b[1;32m    108\u001b[0m \u001b[38;5;28;01mfor\u001b[39;00m i \u001b[38;5;129;01min\u001b[39;00m tqdm(\u001b[38;5;28mrange\u001b[39m(config[\u001b[38;5;124m\"\u001b[39m\u001b[38;5;124mnum_clients\u001b[39m\u001b[38;5;124m\"\u001b[39m])):\n\u001b[0;32m--> 109\u001b[0m     \u001b[43mclient_trainers\u001b[49m\u001b[43m[\u001b[49m\u001b[43mi\u001b[49m\u001b[43m]\u001b[49m\u001b[38;5;241;43m.\u001b[39;49m\u001b[43mtrain\u001b[49m\u001b[43m(\u001b[49m\u001b[43mclient_loaders\u001b[49m\u001b[43m[\u001b[49m\u001b[43mi\u001b[49m\u001b[43m]\u001b[49m\u001b[43m)\u001b[49m\n",
      "Input \u001b[0;32mIn [21]\u001b[0m, in \u001b[0;36mClientTrainer.train\u001b[0;34m(self, client_data)\u001b[0m\n\u001b[1;32m     65\u001b[0m train_loss \u001b[38;5;241m=\u001b[39m loss\u001b[38;5;241m.\u001b[39mdetach()\u001b[38;5;241m.\u001b[39mcpu()\u001b[38;5;241m.\u001b[39mnumpy()\u001b[38;5;241m.\u001b[39mitem()\n\u001b[1;32m     66\u001b[0m train_loss_list\u001b[38;5;241m.\u001b[39mappend(train_loss)\n\u001b[0;32m---> 67\u001b[0m test_acc \u001b[38;5;241m=\u001b[39m \u001b[43mcalc_acc\u001b[49m\u001b[43m(\u001b[49m\u001b[38;5;28;43mself\u001b[39;49m\u001b[38;5;241;43m.\u001b[39;49m\u001b[43mmodel\u001b[49m\u001b[43m,\u001b[49m\u001b[43m \u001b[49m\u001b[38;5;28;43mself\u001b[39;49m\u001b[38;5;241;43m.\u001b[39;49m\u001b[43mdevice\u001b[49m\u001b[43m,\u001b[49m\u001b[43m \u001b[49m\u001b[43mclient_data\u001b[49m\u001b[43m,\u001b[49m\u001b[43m \u001b[49m\u001b[43mtrain\u001b[49m\u001b[38;5;241;43m=\u001b[39;49m\u001b[38;5;28;43;01mFalse\u001b[39;49;00m\u001b[43m)\u001b[49m\n\u001b[1;32m     68\u001b[0m test_acc_list\u001b[38;5;241m.\u001b[39mappend(test_acc)\n\u001b[1;32m     69\u001b[0m \u001b[38;5;28mself\u001b[39m\u001b[38;5;241m.\u001b[39mmodel\u001b[38;5;241m.\u001b[39mtrain()\n",
      "Input \u001b[0;32mIn [21]\u001b[0m, in \u001b[0;36mcalc_acc\u001b[0;34m(model, device, client_data, train)\u001b[0m\n\u001b[1;32m      6\u001b[0m     \u001b[38;5;28;01mfor\u001b[39;00m (X,Y) \u001b[38;5;129;01min\u001b[39;00m loader:\n\u001b[1;32m      7\u001b[0m         X \u001b[38;5;241m=\u001b[39m X\u001b[38;5;241m.\u001b[39mto(device)\n\u001b[0;32m----> 8\u001b[0m         pred \u001b[38;5;241m=\u001b[39m \u001b[43mmodel\u001b[49m\u001b[43m(\u001b[49m\u001b[43mX\u001b[49m\u001b[43m)\u001b[49m\u001b[38;5;241;43m.\u001b[39;49m\u001b[43margmax\u001b[49m\u001b[43m(\u001b[49m\u001b[43maxis\u001b[49m\u001b[38;5;241;43m=\u001b[39;49m\u001b[38;5;241;43m1\u001b[39;49m\u001b[43m)\u001b[49m\u001b[38;5;241;43m.\u001b[39;49m\u001b[43mdetach\u001b[49m\u001b[43m(\u001b[49m\u001b[43m)\u001b[49m\u001b[38;5;241;43m.\u001b[39;49m\u001b[43mcpu\u001b[49m\u001b[43m(\u001b[49m\u001b[43m)\u001b[49m\n\u001b[1;32m      9\u001b[0m         acc \u001b[38;5;241m+\u001b[39m\u001b[38;5;241m=\u001b[39m (Y \u001b[38;5;241m==\u001b[39m pred)\u001b[38;5;241m.\u001b[39mfloat()\u001b[38;5;241m.\u001b[39mmean()\n\u001b[1;32m     10\u001b[0m acc \u001b[38;5;241m=\u001b[39m acc\u001b[38;5;241m/\u001b[39m\u001b[38;5;28mlen\u001b[39m(loader)\n",
      "\u001b[0;31mKeyboardInterrupt\u001b[0m: "
     ]
    }
   ],
   "source": [
    "def calc_acc(model, device, client_data, train):\n",
    "    loader = client_data.trainloader if train else client_data.testloader\n",
    "    model.eval()\n",
    "    acc = 0\n",
    "    with torch.no_grad():\n",
    "        for (X,Y) in loader:\n",
    "            X = X.to(device)\n",
    "            pred = model(X).argmax(axis=1).detach().cpu()\n",
    "            acc += (Y == pred).float().mean()\n",
    "    acc = acc/len(loader)\n",
    "    acc *= 100.0\n",
    "    return acc\n",
    "\n",
    "import time\n",
    "class BaseTrainer(ABC):\n",
    "    def __init__(self,config, save_dir):\n",
    "        super(BaseTrainer, self).__init__()\n",
    "        self.model = MODEL_LIST[config[\"model\"]](**config[\"model_params\"])\n",
    "        self.save_dir = save_dir\n",
    "        self.device = config[\"device\"]\n",
    "        self.loss_func = LOSSES[config[\"loss_func\"]]\n",
    "        self.config = config\n",
    "        os.makedirs(self.save_dir, exist_ok=True)\n",
    "\n",
    "    def train(self):\n",
    "        raise NotImplementedError\n",
    "    \n",
    "    def test(self):\n",
    "        raise NotImplementedError\n",
    "\n",
    "    def load_model_weights(self):\n",
    "        model_path  = os.path.join(self.save_dir, \"model.pth\")\n",
    "        if os.path.exists(model_path):\n",
    "            self.model.load_state_dict(torch.load(model_path))\n",
    "        else:\n",
    "            print(\"No model present at path : {}\".format())\n",
    "\n",
    "    def save_model_weights(self):\n",
    "        model_path  = os.path.join(self.save_dir, \"model.pth\")\n",
    "        torch.save(self.model.state_dict(), model_path)\n",
    "    def save_metrics(self, train_loss, test_acc):\n",
    "        torch.save({\"train_loss\": train_loss,  \"test_acc\" : test_acc}, os.path.join(self.save_dir,\"metrics.pkl\"))\n",
    "\n",
    "class ClientTrainer(BaseTrainer):\n",
    "    def __init__(self,  config, save_dir,client_id):\n",
    "        super(ClientTrainer, self).__init__(config, save_dir)\n",
    "        self.client_id = client_id\n",
    "    \n",
    "    def train(self, client_data):\n",
    "        train_loss_list = []\n",
    "        test_acc_list = []\n",
    "        self.model.to(self.device)\n",
    "        self.model.train()\n",
    "        optimizer = OPTIMIZER_LIST[self.config[\"optimizer\"]](self.model.parameters(), **self.config[\"optimizer_params\"])\n",
    "        for iteration in tqdm(range(self.config[\"iterations\"])):\n",
    "            t0 = time.time()\n",
    "            self.model.zero_grad()\n",
    "            (X,Y) = client_data.sample_batch(train=True)\n",
    "            X = X.to(self.device)\n",
    "            Y = Y.to(self.device)\n",
    "            out = self.model(X)\n",
    "            loss = self.loss_func(out, Y)\n",
    "            loss.backward()\n",
    "            optimizer.step()\n",
    "            train_loss = loss.detach().cpu().numpy().item()\n",
    "            train_loss_list.append(train_loss)\n",
    "            test_acc = calc_acc(self.model, self.device, client_data, train=False)\n",
    "            test_acc_list.append(test_acc)\n",
    "            self.model.train()\n",
    "            t1 = time.time()\n",
    "            time_taken = t1 - t0\n",
    "            if iteration % self.config[\"save_freq\"] == 0 or iteration == self.config[\"iterations\"] - 1:\n",
    "                self.save_model_weights()\n",
    "                self.save_metrics(train_loss_list, test_acc_list)\n",
    "                print(\"Iteration : {} \\n , Train Loss : {} \\n, Test Acc : {} \\n, Time : {}\\n\".format(iteration,  train_loss, test_acc, time_taken))\n",
    "                \n",
    "        self.model.eval()\n",
    "        self.model.cpu()\n",
    "\n",
    "\n",
    "    def test(self, client_data):\n",
    "        self.load_model_weights()\n",
    "        self.model.eval()\n",
    "        self.model.to(self.device)\n",
    "        acc =  calc_acc(self.model, client_data)\n",
    "        self.model.cpu()\n",
    "        return acc\n",
    "\n",
    "\n",
    "  \n",
    "MODEL_LIST = {\"resnet\" : ResNet, \"cnn\":Net}\n",
    "OPTIMIZER_LIST = {\"sgd\": optim.SGD, \"adam\": optim.Adam}\n",
    "LOSSES = {\"cross_entropy\": nn.CrossEntropyLoss()}\n",
    "# config[\"save_dir\"] = os.path.join(\"./results\")\n",
    "config[\"iterations\"] = 20000\n",
    "config[\"optimizer_params\"] = {\"lr\":0.001}\n",
    "config[\"save_freq\"] = 10\n",
    "config[\"model\"] = \"cnn\"\n",
    "config[\"optimizer\"] = \"adam\"\n",
    "config[\"loss_func\"] = \"cross_entropy\"\n",
    "#config[\"model_params\"] = {\"num_channels\": 1 , \"num_classes\"  : 62}\n",
    "config[\"model_params\"] = {}\n",
    "config[\"device\"] = torch.device(\"cuda:0\")\n",
    "import pickle\n",
    "client_trainers = [ClientTrainer(config,os.path.join(config[\"results_dir\"], \"init\", \"node_{}\".format(i)), i) for i in range(config[\"num_clients\"])]\n",
    "\n",
    "\n",
    "for i in tqdm(range(config[\"num_clients\"])):\n",
    "    client_trainers[i].train(client_loaders[i])\n",
    "    \n"
   ]
  },
  {
   "cell_type": "code",
   "execution_count": 78,
   "metadata": {},
   "outputs": [
    {
     "ename": "RuntimeError",
     "evalue": "norm(): input dtype should be either floating point or complex dtypes. Got Long instead.",
     "output_type": "error",
     "traceback": [
      "\u001b[0;31m---------------------------------------------------------------------------\u001b[0m",
      "\u001b[0;31mRuntimeError\u001b[0m                              Traceback (most recent call last)",
      "Input \u001b[0;32mIn [78]\u001b[0m, in \u001b[0;36m<module>\u001b[0;34m\u001b[0m\n\u001b[1;32m     12\u001b[0m wt \u001b[38;5;241m=\u001b[39m client_trainers[\u001b[38;5;241m0\u001b[39m]\u001b[38;5;241m.\u001b[39mmodel\u001b[38;5;241m.\u001b[39mstate_dict()\n\u001b[1;32m     13\u001b[0m \u001b[38;5;28;01mfor\u001b[39;00m key \u001b[38;5;129;01min\u001b[39;00m wt\u001b[38;5;241m.\u001b[39mkeys():\n\u001b[0;32m---> 14\u001b[0m     thresh \u001b[38;5;241m+\u001b[39m\u001b[38;5;241m=\u001b[39m \u001b[43mwt\u001b[49m\u001b[43m[\u001b[49m\u001b[43mkey\u001b[49m\u001b[43m]\u001b[49m\u001b[38;5;241;43m.\u001b[39;49m\u001b[43mnorm\u001b[49m\u001b[43m(\u001b[49m\u001b[43m)\u001b[49m\u001b[38;5;241m*\u001b[39m\u001b[38;5;241m*\u001b[39m\u001b[38;5;241m2\u001b[39m\n\u001b[1;32m     15\u001b[0m thresh \u001b[38;5;241m=\u001b[39m \u001b[38;5;241m37.68\u001b[39m\n\u001b[1;32m     17\u001b[0m all_pairs \u001b[38;5;241m=\u001b[39m \u001b[38;5;28mlist\u001b[39m(itertools\u001b[38;5;241m.\u001b[39mcombinations(\u001b[38;5;28mrange\u001b[39m(config[\u001b[38;5;124m\"\u001b[39m\u001b[38;5;124mnum_clients\u001b[39m\u001b[38;5;124m\"\u001b[39m]),\u001b[38;5;241m2\u001b[39m))\n",
      "File \u001b[0;32m~/anaconda3/envs/ffcv/lib/python3.9/site-packages/torch/_tensor.py:442\u001b[0m, in \u001b[0;36mTensor.norm\u001b[0;34m(self, p, dim, keepdim, dtype)\u001b[0m\n\u001b[1;32m    440\u001b[0m \u001b[38;5;28;01mif\u001b[39;00m has_torch_function_unary(\u001b[38;5;28mself\u001b[39m):\n\u001b[1;32m    441\u001b[0m     \u001b[38;5;28;01mreturn\u001b[39;00m handle_torch_function(Tensor\u001b[38;5;241m.\u001b[39mnorm, (\u001b[38;5;28mself\u001b[39m,), \u001b[38;5;28mself\u001b[39m, p\u001b[38;5;241m=\u001b[39mp, dim\u001b[38;5;241m=\u001b[39mdim, keepdim\u001b[38;5;241m=\u001b[39mkeepdim, dtype\u001b[38;5;241m=\u001b[39mdtype)\n\u001b[0;32m--> 442\u001b[0m \u001b[38;5;28;01mreturn\u001b[39;00m \u001b[43mtorch\u001b[49m\u001b[38;5;241;43m.\u001b[39;49m\u001b[43mnorm\u001b[49m\u001b[43m(\u001b[49m\u001b[38;5;28;43mself\u001b[39;49m\u001b[43m,\u001b[49m\u001b[43m \u001b[49m\u001b[43mp\u001b[49m\u001b[43m,\u001b[49m\u001b[43m \u001b[49m\u001b[43mdim\u001b[49m\u001b[43m,\u001b[49m\u001b[43m \u001b[49m\u001b[43mkeepdim\u001b[49m\u001b[43m,\u001b[49m\u001b[43m \u001b[49m\u001b[43mdtype\u001b[49m\u001b[38;5;241;43m=\u001b[39;49m\u001b[43mdtype\u001b[49m\u001b[43m)\u001b[49m\n",
      "File \u001b[0;32m~/anaconda3/envs/ffcv/lib/python3.9/site-packages/torch/functional.py:1418\u001b[0m, in \u001b[0;36mnorm\u001b[0;34m(input, p, dim, keepdim, out, dtype)\u001b[0m\n\u001b[1;32m   1416\u001b[0m \u001b[38;5;28;01mif\u001b[39;00m \u001b[38;5;28misinstance\u001b[39m(p, \u001b[38;5;28mstr\u001b[39m):\n\u001b[1;32m   1417\u001b[0m     \u001b[38;5;28;01mif\u001b[39;00m p \u001b[38;5;241m==\u001b[39m \u001b[38;5;124m\"\u001b[39m\u001b[38;5;124mfro\u001b[39m\u001b[38;5;124m\"\u001b[39m:\n\u001b[0;32m-> 1418\u001b[0m         \u001b[38;5;28;01mreturn\u001b[39;00m \u001b[43m_VF\u001b[49m\u001b[38;5;241;43m.\u001b[39;49m\u001b[43mfrobenius_norm\u001b[49m\u001b[43m(\u001b[49m\u001b[38;5;28;43minput\u001b[39;49m\u001b[43m,\u001b[49m\u001b[43m \u001b[49m\u001b[43mdim\u001b[49m\u001b[38;5;241;43m=\u001b[39;49m\u001b[43m(\u001b[49m\u001b[43m)\u001b[49m\u001b[43m,\u001b[49m\u001b[43m \u001b[49m\u001b[43mkeepdim\u001b[49m\u001b[38;5;241;43m=\u001b[39;49m\u001b[43mkeepdim\u001b[49m\u001b[43m)\u001b[49m\n\u001b[1;32m   1419\u001b[0m \u001b[38;5;28;01mif\u001b[39;00m \u001b[38;5;129;01mnot\u001b[39;00m \u001b[38;5;28misinstance\u001b[39m(p, \u001b[38;5;28mstr\u001b[39m):\n\u001b[1;32m   1420\u001b[0m     _dim \u001b[38;5;241m=\u001b[39m [i \u001b[38;5;28;01mfor\u001b[39;00m i \u001b[38;5;129;01min\u001b[39;00m \u001b[38;5;28mrange\u001b[39m(ndim)]  \u001b[38;5;66;03m# noqa: C416 TODO: rewrite as list(range(m))\u001b[39;00m\n",
      "\u001b[0;31mRuntimeError\u001b[0m: norm(): input dtype should be either floating point or complex dtypes. Got Long instead."
     ]
    }
   ],
   "source": [
    "import networkx as nx\n",
    "G = nx.Graph()\n",
    "G.add_nodes_from(range(config[\"num_clients\"]))\n",
    "import itertools\n",
    "def model_weights_diff(w_1, w_2):\n",
    "    norm_sq = 0\n",
    "    assert w_1.keys() == w_2.keys(), \"Model weights have different keys\"\n",
    "    for key in w_1.keys():\n",
    "        norm_sq  += (w_1[key] - w_2[key]).norm()**2\n",
    "    return np.sqrt(norm_sq)\n",
    "thresh = 0\n",
    "wt = client_trainers[0].model.state_dict()\n",
    "for key in wt.keys():\n",
    "    thresh += wt[key].norm()**2\n",
    "thresh = 37.68\n",
    "\n",
    "all_pairs = list(itertools.combinations(range(config[\"num_clients\"]),2))\n",
    "for pair in all_pairs:\n",
    "    w_1  = client_trainers[pair[0]].model.state_dict()\n",
    "    w_2 = client_trainers[pair[1]].model.state_dict()\n",
    "    norm_diff = model_weights_diff(w_1, w_2)\n",
    "    if norm_diff < thresh:\n",
    "        G.add_edge(pair[0], pair[1])\n",
    "        \n",
    "cliques = list(nx.algorithms.clique.enumerate_all_cliques(G))\n"
   ]
  },
  {
   "cell_type": "code",
   "execution_count": 64,
   "metadata": {},
   "outputs": [],
   "source": [
    "config[\"t\"] = 7\n",
    "t = config[\"t\"]\n",
    "clusters = [clique  for clique in cliques if len(clique) > t]\n",
    "cluster_map = {i: clusters[i] for i in range(len(clusters))}\n",
    "beta = 0.2"
   ]
  },
  {
   "cell_type": "code",
   "execution_count": 65,
   "metadata": {},
   "outputs": [],
   "source": []
  },
  {
   "cell_type": "code",
   "execution_count": 73,
   "metadata": {},
   "outputs": [],
   "source": [
    "class ClusterTrainer(BaseTrainer):\n",
    "    def __init__(self,  config, save_dir,cluster_id):\n",
    "        super(ClusterTrainer, self).__init__(config, save_dir)\n",
    "        self.cluster_id = cluster_id\n",
    "    \n",
    "    def train(self, client_data_list):\n",
    "        num_clients = len(client_data_list)\n",
    "\n",
    "        train_loss_list = []\n",
    "        test_acc_list = []\n",
    "        self.model.to(self.device)\n",
    "        self.model.train()\n",
    "        optimizer = OPTIMIZER_LIST[self.config[\"optimizer\"]](self.model.parameters(), **self.config[\"optimizer_params\"])\n",
    "        for iteration in tqdm(range(self.config[\"iterations\"])):\n",
    "\n",
    "            trmean_buffer = {}\n",
    "            for idx, param in self.model.named_parameters():\n",
    "                trmean_buffer[idx] = []\n",
    "            train_loss = 0\n",
    "            for client in client_data_list:\n",
    "                optimizer.zero_grad()\n",
    "                (X,Y) = client.sample_batch()\n",
    "                X = X.to(config[\"device\"])\n",
    "                Y = Y.to(config[\"device\"])\n",
    "                loss_func = nn.CrossEntropyLoss()\n",
    "                out = self.model(X)\n",
    "                loss = loss_func(out,Y)\n",
    "                loss.backward()\n",
    "                train_loss += loss.detach().cpu().numpy().item()\n",
    "                with torch.no_grad():\n",
    "                    for idx, param in self.model.named_parameters():\n",
    "                        trmean_buffer[idx].append(param.grad.clone())\n",
    "\n",
    "            optimizer.zero_grad()\n",
    "            for idx, param in self.model.named_parameters():\n",
    "                sorted, _  = torch.sort(torch.stack(trmean_buffer[idx], dim=0), dim=0)\n",
    "                new_grad = sorted[int(beta*num_clients):int((1-beta)*num_clients),...].mean(dim=0)\n",
    "                param.grad = new_grad\n",
    "                trmean_buffer[idx] = []\n",
    "            optimizer.step()\n",
    "            \n",
    "            train_loss_list.append(train_loss/num_clients)\n",
    "            test_acc = 0\n",
    "            for client_data in client_data_list:\n",
    "                test_acc += calc_acc(self.model, self.device, client_data, train=False)\n",
    "            test_acc = test_acc/num_clients\n",
    "            test_acc_list.append(test_acc)\n",
    "            self.model.train()\n",
    "            if iteration % self.config[\"save_freq\"] == 0 or iteration == self.config[\"iterations\"] - 1:\n",
    "                self.save_model_weights()\n",
    "                self.save_metrics(train_loss_list, test_acc_list)\n",
    "                print(\"Iteration : {} \\n , Train Loss : {} \\n, Test Acc : {} \\n\".format(iteration,  train_loss, test_acc))\n",
    "                \n",
    "        self.model.eval()\n",
    "        self.model.cpu()\n",
    "\n",
    "\n",
    "    def test(self, client_data_list):\n",
    "        self.load_model_weights()\n",
    "        self.model.eval()\n",
    "        self.model.to(self.device)\n",
    "        test_acc = 0\n",
    "        for client_data in client_data_list:\n",
    "            test_acc += calc_acc(self.model, self.device, client_data, train=False)\n",
    "        self.model.cpu()\n",
    "        return test_acc\n"
   ]
  },
  {
   "cell_type": "code",
   "execution_count": 78,
   "metadata": {},
   "outputs": [
    {
     "name": "stderr",
     "output_type": "stream",
     "text": [
      "  0%|          | 0/157 [00:00<?, ?it/s]"
     ]
    },
    {
     "name": "stdout",
     "output_type": "stream",
     "text": [
      "Iteration : 0 \n",
      " , Train Loss : 161.17435836791992 \n",
      ", Test Acc : 21.751054763793945 \n",
      "\n"
     ]
    },
    {
     "name": "stderr",
     "output_type": "stream",
     "text": []
    },
    {
     "name": "stdout",
     "output_type": "stream",
     "text": [
      "Iteration : 2 \n",
      " , Train Loss : 668.6630401611328 \n",
      ", Test Acc : 27.509302139282227 \n",
      "\n"
     ]
    },
    {
     "name": "stderr",
     "output_type": "stream",
     "text": []
    },
    {
     "name": "stdout",
     "output_type": "stream",
     "text": [
      "Iteration : 4 \n",
      " , Train Loss : 966.4324493408203 \n",
      ", Test Acc : 31.116979598999023 \n",
      "\n"
     ]
    },
    {
     "name": "stderr",
     "output_type": "stream",
     "text": []
    },
    {
     "name": "stdout",
     "output_type": "stream",
     "text": [
      "Iteration : 6 \n",
      " , Train Loss : 703.5293579101562 \n",
      ", Test Acc : 39.541622161865234 \n",
      "\n"
     ]
    },
    {
     "name": "stderr",
     "output_type": "stream",
     "text": []
    },
    {
     "name": "stdout",
     "output_type": "stream",
     "text": [
      "Iteration : 8 \n",
      " , Train Loss : 518.5962295532227 \n",
      ", Test Acc : 44.984798431396484 \n",
      "\n"
     ]
    },
    {
     "name": "stderr",
     "output_type": "stream",
     "text": []
    },
    {
     "name": "stdout",
     "output_type": "stream",
     "text": [
      "Iteration : 10 \n",
      " , Train Loss : 345.98187255859375 \n",
      ", Test Acc : 51.4713249206543 \n",
      "\n"
     ]
    },
    {
     "name": "stderr",
     "output_type": "stream",
     "text": []
    },
    {
     "name": "stdout",
     "output_type": "stream",
     "text": [
      "Iteration : 12 \n",
      " , Train Loss : 320.3457202911377 \n",
      ", Test Acc : 45.336639404296875 \n",
      "\n"
     ]
    },
    {
     "name": "stderr",
     "output_type": "stream",
     "text": []
    },
    {
     "name": "stdout",
     "output_type": "stream",
     "text": [
      "Iteration : 14 \n",
      " , Train Loss : 260.06474685668945 \n",
      ", Test Acc : 60.39608383178711 \n",
      "\n"
     ]
    },
    {
     "name": "stderr",
     "output_type": "stream",
     "text": []
    },
    {
     "name": "stdout",
     "output_type": "stream",
     "text": [
      "Iteration : 16 \n",
      " , Train Loss : 146.72627353668213 \n",
      ", Test Acc : 61.13846206665039 \n",
      "\n"
     ]
    },
    {
     "name": "stderr",
     "output_type": "stream",
     "text": []
    },
    {
     "name": "stdout",
     "output_type": "stream",
     "text": [
      "Iteration : 18 \n",
      " , Train Loss : 154.13679122924805 \n",
      ", Test Acc : 55.9078369140625 \n",
      "\n"
     ]
    },
    {
     "name": "stderr",
     "output_type": "stream",
     "text": [
      "100%|██████████| 20/20 [00:08<00:00,  2.36it/s]\n",
      "  1%|          | 1/157 [00:08<22:07,  8.51s/it]"
     ]
    },
    {
     "name": "stdout",
     "output_type": "stream",
     "text": [
      "Iteration : 19 \n",
      " , Train Loss : 184.60361099243164 \n",
      ", Test Acc : 56.98685073852539 \n",
      "\n"
     ]
    },
    {
     "name": "stderr",
     "output_type": "stream",
     "text": []
    },
    {
     "name": "stdout",
     "output_type": "stream",
     "text": [
      "Iteration : 0 \n",
      " , Train Loss : 172.81739044189453 \n",
      ", Test Acc : 25.074623107910156 \n",
      "\n"
     ]
    },
    {
     "name": "stderr",
     "output_type": "stream",
     "text": []
    },
    {
     "name": "stdout",
     "output_type": "stream",
     "text": [
      "Iteration : 2 \n",
      " , Train Loss : 685.8537445068359 \n",
      ", Test Acc : 28.886865615844727 \n",
      "\n"
     ]
    },
    {
     "name": "stderr",
     "output_type": "stream",
     "text": []
    },
    {
     "name": "stdout",
     "output_type": "stream",
     "text": [
      "Iteration : 4 \n",
      " , Train Loss : 634.6629028320312 \n",
      ", Test Acc : 28.739439010620117 \n",
      "\n"
     ]
    },
    {
     "name": "stderr",
     "output_type": "stream",
     "text": []
    },
    {
     "name": "stdout",
     "output_type": "stream",
     "text": [
      "Iteration : 6 \n",
      " , Train Loss : 351.9431953430176 \n",
      ", Test Acc : 42.453792572021484 \n",
      "\n"
     ]
    },
    {
     "name": "stderr",
     "output_type": "stream",
     "text": []
    },
    {
     "name": "stdout",
     "output_type": "stream",
     "text": [
      "Iteration : 8 \n",
      " , Train Loss : 241.5359992980957 \n",
      ", Test Acc : 48.74150466918945 \n",
      "\n"
     ]
    },
    {
     "name": "stderr",
     "output_type": "stream",
     "text": []
    },
    {
     "name": "stdout",
     "output_type": "stream",
     "text": [
      "Iteration : 10 \n",
      " , Train Loss : 218.77471160888672 \n",
      ", Test Acc : 48.67521667480469 \n",
      "\n"
     ]
    },
    {
     "name": "stderr",
     "output_type": "stream",
     "text": []
    },
    {
     "name": "stdout",
     "output_type": "stream",
     "text": [
      "Iteration : 12 \n",
      " , Train Loss : 180.9784870147705 \n",
      ", Test Acc : 60.455875396728516 \n",
      "\n"
     ]
    },
    {
     "name": "stderr",
     "output_type": "stream",
     "text": []
    },
    {
     "name": "stdout",
     "output_type": "stream",
     "text": [
      "Iteration : 14 \n",
      " , Train Loss : 120.68270683288574 \n",
      ", Test Acc : 67.06765747070312 \n",
      "\n"
     ]
    },
    {
     "name": "stderr",
     "output_type": "stream",
     "text": []
    },
    {
     "name": "stdout",
     "output_type": "stream",
     "text": [
      "Iteration : 16 \n",
      " , Train Loss : 146.8514232635498 \n",
      ", Test Acc : 64.01901245117188 \n",
      "\n"
     ]
    },
    {
     "name": "stderr",
     "output_type": "stream",
     "text": []
    },
    {
     "name": "stdout",
     "output_type": "stream",
     "text": [
      "Iteration : 18 \n",
      " , Train Loss : 151.37649154663086 \n",
      ", Test Acc : 69.4759750366211 \n",
      "\n"
     ]
    },
    {
     "name": "stderr",
     "output_type": "stream",
     "text": [
      "100%|██████████| 20/20 [00:10<00:00,  1.93it/s]\n",
      "  1%|▏         | 2/157 [00:18<24:47,  9.60s/it]"
     ]
    },
    {
     "name": "stdout",
     "output_type": "stream",
     "text": [
      "Iteration : 19 \n",
      " , Train Loss : 118.47192001342773 \n",
      ", Test Acc : 70.96072387695312 \n",
      "\n"
     ]
    },
    {
     "name": "stderr",
     "output_type": "stream",
     "text": []
    },
    {
     "name": "stdout",
     "output_type": "stream",
     "text": [
      "Iteration : 0 \n",
      " , Train Loss : 167.58623695373535 \n",
      ", Test Acc : 15.308773040771484 \n",
      "\n"
     ]
    },
    {
     "name": "stderr",
     "output_type": "stream",
     "text": []
    },
    {
     "name": "stdout",
     "output_type": "stream",
     "text": [
      "Iteration : 2 \n",
      " , Train Loss : 613.4272994995117 \n",
      ", Test Acc : 31.70347023010254 \n",
      "\n"
     ]
    },
    {
     "name": "stderr",
     "output_type": "stream",
     "text": []
    },
    {
     "name": "stdout",
     "output_type": "stream",
     "text": [
      "Iteration : 4 \n",
      " , Train Loss : 916.7829132080078 \n",
      ", Test Acc : 40.75291061401367 \n",
      "\n"
     ]
    },
    {
     "name": "stderr",
     "output_type": "stream",
     "text": []
    },
    {
     "name": "stdout",
     "output_type": "stream",
     "text": [
      "Iteration : 6 \n",
      " , Train Loss : 816.5673980712891 \n",
      ", Test Acc : 40.412174224853516 \n",
      "\n"
     ]
    },
    {
     "name": "stderr",
     "output_type": "stream",
     "text": []
    },
    {
     "name": "stdout",
     "output_type": "stream",
     "text": [
      "Iteration : 8 \n",
      " , Train Loss : 445.29821014404297 \n",
      ", Test Acc : 51.75002670288086 \n",
      "\n"
     ]
    },
    {
     "name": "stderr",
     "output_type": "stream",
     "text": []
    },
    {
     "name": "stdout",
     "output_type": "stream",
     "text": [
      "Iteration : 10 \n",
      " , Train Loss : 258.0555839538574 \n",
      ", Test Acc : 48.15785598754883 \n",
      "\n"
     ]
    },
    {
     "name": "stderr",
     "output_type": "stream",
     "text": []
    },
    {
     "name": "stdout",
     "output_type": "stream",
     "text": [
      "Iteration : 12 \n",
      " , Train Loss : 167.6319236755371 \n",
      ", Test Acc : 51.073551177978516 \n",
      "\n"
     ]
    },
    {
     "name": "stderr",
     "output_type": "stream",
     "text": []
    },
    {
     "name": "stdout",
     "output_type": "stream",
     "text": [
      "Iteration : 14 \n",
      " , Train Loss : 184.44001007080078 \n",
      ", Test Acc : 55.0382080078125 \n",
      "\n"
     ]
    },
    {
     "name": "stderr",
     "output_type": "stream",
     "text": []
    },
    {
     "name": "stdout",
     "output_type": "stream",
     "text": [
      "Iteration : 16 \n",
      " , Train Loss : 147.73598194122314 \n",
      ", Test Acc : 56.3632926940918 \n",
      "\n"
     ]
    },
    {
     "name": "stderr",
     "output_type": "stream",
     "text": []
    },
    {
     "name": "stdout",
     "output_type": "stream",
     "text": [
      "Iteration : 18 \n",
      " , Train Loss : 158.29829502105713 \n",
      ", Test Acc : 62.73905944824219 \n",
      "\n"
     ]
    },
    {
     "name": "stderr",
     "output_type": "stream",
     "text": [
      "100%|██████████| 20/20 [00:09<00:00,  2.20it/s]\n",
      "  2%|▏         | 3/157 [00:27<24:04,  9.38s/it]"
     ]
    },
    {
     "name": "stdout",
     "output_type": "stream",
     "text": [
      "Iteration : 19 \n",
      " , Train Loss : 139.18010711669922 \n",
      ", Test Acc : 66.15462493896484 \n",
      "\n"
     ]
    },
    {
     "name": "stderr",
     "output_type": "stream",
     "text": []
    },
    {
     "name": "stdout",
     "output_type": "stream",
     "text": [
      "Iteration : 0 \n",
      " , Train Loss : 192.32322311401367 \n",
      ", Test Acc : 23.00596809387207 \n",
      "\n"
     ]
    },
    {
     "name": "stderr",
     "output_type": "stream",
     "text": []
    },
    {
     "name": "stdout",
     "output_type": "stream",
     "text": [
      "Iteration : 2 \n",
      " , Train Loss : 719.6087951660156 \n",
      ", Test Acc : 21.32114028930664 \n",
      "\n"
     ]
    },
    {
     "name": "stderr",
     "output_type": "stream",
     "text": []
    },
    {
     "name": "stdout",
     "output_type": "stream",
     "text": [
      "Iteration : 4 \n",
      " , Train Loss : 691.3139114379883 \n",
      ", Test Acc : 32.40498352050781 \n",
      "\n"
     ]
    },
    {
     "name": "stderr",
     "output_type": "stream",
     "text": []
    },
    {
     "name": "stdout",
     "output_type": "stream",
     "text": [
      "Iteration : 6 \n",
      " , Train Loss : 682.3457565307617 \n",
      ", Test Acc : 38.148075103759766 \n",
      "\n"
     ]
    },
    {
     "name": "stderr",
     "output_type": "stream",
     "text": []
    },
    {
     "name": "stdout",
     "output_type": "stream",
     "text": [
      "Iteration : 8 \n",
      " , Train Loss : 325.6647834777832 \n",
      ", Test Acc : 47.92430114746094 \n",
      "\n"
     ]
    },
    {
     "name": "stderr",
     "output_type": "stream",
     "text": []
    },
    {
     "name": "stdout",
     "output_type": "stream",
     "text": [
      "Iteration : 10 \n",
      " , Train Loss : 170.10665702819824 \n",
      ", Test Acc : 42.164791107177734 \n",
      "\n"
     ]
    },
    {
     "name": "stderr",
     "output_type": "stream",
     "text": []
    },
    {
     "name": "stdout",
     "output_type": "stream",
     "text": [
      "Iteration : 12 \n",
      " , Train Loss : 289.6182613372803 \n",
      ", Test Acc : 41.27975082397461 \n",
      "\n"
     ]
    },
    {
     "name": "stderr",
     "output_type": "stream",
     "text": []
    },
    {
     "name": "stdout",
     "output_type": "stream",
     "text": [
      "Iteration : 14 \n",
      " , Train Loss : 192.0194091796875 \n",
      ", Test Acc : 52.97651290893555 \n",
      "\n"
     ]
    },
    {
     "name": "stderr",
     "output_type": "stream",
     "text": []
    },
    {
     "name": "stdout",
     "output_type": "stream",
     "text": [
      "Iteration : 16 \n",
      " , Train Loss : 141.32635641098022 \n",
      ", Test Acc : 59.04963684082031 \n",
      "\n"
     ]
    },
    {
     "name": "stderr",
     "output_type": "stream",
     "text": []
    },
    {
     "name": "stdout",
     "output_type": "stream",
     "text": [
      "Iteration : 18 \n",
      " , Train Loss : 121.2859263420105 \n",
      ", Test Acc : 60.6307373046875 \n",
      "\n"
     ]
    },
    {
     "name": "stderr",
     "output_type": "stream",
     "text": [
      "100%|██████████| 20/20 [00:09<00:00,  2.13it/s]\n",
      "  3%|▎         | 4/157 [00:37<23:57,  9.40s/it]"
     ]
    },
    {
     "name": "stdout",
     "output_type": "stream",
     "text": [
      "Iteration : 19 \n",
      " , Train Loss : 150.8592233657837 \n",
      ", Test Acc : 60.1822624206543 \n",
      "\n"
     ]
    },
    {
     "name": "stderr",
     "output_type": "stream",
     "text": []
    },
    {
     "name": "stdout",
     "output_type": "stream",
     "text": [
      "Iteration : 0 \n",
      " , Train Loss : 176.0837459564209 \n",
      ", Test Acc : 18.547460556030273 \n",
      "\n"
     ]
    },
    {
     "name": "stderr",
     "output_type": "stream",
     "text": []
    },
    {
     "name": "stdout",
     "output_type": "stream",
     "text": [
      "Iteration : 2 \n",
      " , Train Loss : 815.8803939819336 \n",
      ", Test Acc : 24.81827735900879 \n",
      "\n"
     ]
    },
    {
     "name": "stderr",
     "output_type": "stream",
     "text": []
    },
    {
     "name": "stdout",
     "output_type": "stream",
     "text": [
      "Iteration : 4 \n",
      " , Train Loss : 897.4627151489258 \n",
      ", Test Acc : 28.284860610961914 \n",
      "\n"
     ]
    },
    {
     "name": "stderr",
     "output_type": "stream",
     "text": []
    },
    {
     "name": "stdout",
     "output_type": "stream",
     "text": [
      "Iteration : 6 \n",
      " , Train Loss : 663.8372955322266 \n",
      ", Test Acc : 37.617069244384766 \n",
      "\n"
     ]
    },
    {
     "name": "stderr",
     "output_type": "stream",
     "text": []
    },
    {
     "name": "stdout",
     "output_type": "stream",
     "text": [
      "Iteration : 8 \n",
      " , Train Loss : 350.3607597351074 \n",
      ", Test Acc : 44.27897262573242 \n",
      "\n"
     ]
    },
    {
     "name": "stderr",
     "output_type": "stream",
     "text": []
    },
    {
     "name": "stdout",
     "output_type": "stream",
     "text": [
      "Iteration : 10 \n",
      " , Train Loss : 280.0703983306885 \n",
      ", Test Acc : 41.93229293823242 \n",
      "\n"
     ]
    },
    {
     "name": "stderr",
     "output_type": "stream",
     "text": []
    },
    {
     "name": "stdout",
     "output_type": "stream",
     "text": [
      "Iteration : 12 \n",
      " , Train Loss : 189.33848190307617 \n",
      ", Test Acc : 49.112213134765625 \n",
      "\n"
     ]
    },
    {
     "name": "stderr",
     "output_type": "stream",
     "text": []
    },
    {
     "name": "stdout",
     "output_type": "stream",
     "text": [
      "Iteration : 14 \n",
      " , Train Loss : 224.2925844192505 \n",
      ", Test Acc : 54.066253662109375 \n",
      "\n"
     ]
    },
    {
     "name": "stderr",
     "output_type": "stream",
     "text": []
    },
    {
     "name": "stdout",
     "output_type": "stream",
     "text": [
      "Iteration : 16 \n",
      " , Train Loss : 181.6115894317627 \n",
      ", Test Acc : 62.31232833862305 \n",
      "\n"
     ]
    },
    {
     "name": "stderr",
     "output_type": "stream",
     "text": []
    },
    {
     "name": "stdout",
     "output_type": "stream",
     "text": [
      "Iteration : 18 \n",
      " , Train Loss : 138.910325050354 \n",
      ", Test Acc : 64.6197280883789 \n",
      "\n"
     ]
    },
    {
     "name": "stderr",
     "output_type": "stream",
     "text": [
      "100%|██████████| 20/20 [00:11<00:00,  1.76it/s]\n",
      "  3%|▎         | 5/157 [00:48<25:36, 10.11s/it]"
     ]
    },
    {
     "name": "stdout",
     "output_type": "stream",
     "text": [
      "Iteration : 19 \n",
      " , Train Loss : 137.37751293182373 \n",
      ", Test Acc : 67.45743560791016 \n",
      "\n"
     ]
    },
    {
     "name": "stderr",
     "output_type": "stream",
     "text": []
    },
    {
     "name": "stdout",
     "output_type": "stream",
     "text": [
      "Iteration : 0 \n",
      " , Train Loss : 167.82132720947266 \n",
      ", Test Acc : 19.10091209411621 \n",
      "\n"
     ]
    },
    {
     "name": "stderr",
     "output_type": "stream",
     "text": []
    },
    {
     "name": "stdout",
     "output_type": "stream",
     "text": [
      "Iteration : 2 \n",
      " , Train Loss : 720.29736328125 \n",
      ", Test Acc : 18.32261085510254 \n",
      "\n"
     ]
    },
    {
     "name": "stderr",
     "output_type": "stream",
     "text": []
    },
    {
     "name": "stdout",
     "output_type": "stream",
     "text": [
      "Iteration : 4 \n",
      " , Train Loss : 984.1098327636719 \n",
      ", Test Acc : 14.833634376525879 \n",
      "\n"
     ]
    },
    {
     "name": "stderr",
     "output_type": "stream",
     "text": []
    },
    {
     "name": "stdout",
     "output_type": "stream",
     "text": [
      "Iteration : 6 \n",
      " , Train Loss : 485.8768196105957 \n",
      ", Test Acc : 36.80643081665039 \n",
      "\n"
     ]
    },
    {
     "name": "stderr",
     "output_type": "stream",
     "text": []
    },
    {
     "name": "stdout",
     "output_type": "stream",
     "text": [
      "Iteration : 8 \n",
      " , Train Loss : 378.6422233581543 \n",
      ", Test Acc : 39.425880432128906 \n",
      "\n"
     ]
    },
    {
     "name": "stderr",
     "output_type": "stream",
     "text": []
    },
    {
     "name": "stdout",
     "output_type": "stream",
     "text": [
      "Iteration : 10 \n",
      " , Train Loss : 363.9310836791992 \n",
      ", Test Acc : 36.947235107421875 \n",
      "\n"
     ]
    },
    {
     "name": "stderr",
     "output_type": "stream",
     "text": []
    },
    {
     "name": "stdout",
     "output_type": "stream",
     "text": [
      "Iteration : 12 \n",
      " , Train Loss : 344.49888610839844 \n",
      ", Test Acc : 47.428707122802734 \n",
      "\n"
     ]
    },
    {
     "name": "stderr",
     "output_type": "stream",
     "text": []
    },
    {
     "name": "stdout",
     "output_type": "stream",
     "text": [
      "Iteration : 14 \n",
      " , Train Loss : 231.03616333007812 \n",
      ", Test Acc : 48.691165924072266 \n",
      "\n"
     ]
    },
    {
     "name": "stderr",
     "output_type": "stream",
     "text": []
    },
    {
     "name": "stdout",
     "output_type": "stream",
     "text": [
      "Iteration : 16 \n",
      " , Train Loss : 216.07049179077148 \n",
      ", Test Acc : 53.87337875366211 \n",
      "\n"
     ]
    },
    {
     "name": "stderr",
     "output_type": "stream",
     "text": []
    },
    {
     "name": "stdout",
     "output_type": "stream",
     "text": [
      "Iteration : 18 \n",
      " , Train Loss : 150.90529584884644 \n",
      ", Test Acc : 58.56324768066406 \n",
      "\n"
     ]
    },
    {
     "name": "stderr",
     "output_type": "stream",
     "text": [
      "100%|██████████| 20/20 [00:07<00:00,  2.69it/s]\n",
      "  4%|▍         | 6/157 [00:56<23:11,  9.21s/it]"
     ]
    },
    {
     "name": "stdout",
     "output_type": "stream",
     "text": [
      "Iteration : 19 \n",
      " , Train Loss : 144.33347988128662 \n",
      ", Test Acc : 56.75227737426758 \n",
      "\n"
     ]
    },
    {
     "name": "stderr",
     "output_type": "stream",
     "text": []
    },
    {
     "name": "stdout",
     "output_type": "stream",
     "text": [
      "Iteration : 0 \n",
      " , Train Loss : 167.12700080871582 \n",
      ", Test Acc : 15.475552558898926 \n",
      "\n"
     ]
    },
    {
     "name": "stderr",
     "output_type": "stream",
     "text": []
    },
    {
     "name": "stdout",
     "output_type": "stream",
     "text": [
      "Iteration : 2 \n",
      " , Train Loss : 588.6973419189453 \n",
      ", Test Acc : 28.222715377807617 \n",
      "\n"
     ]
    },
    {
     "name": "stderr",
     "output_type": "stream",
     "text": []
    },
    {
     "name": "stdout",
     "output_type": "stream",
     "text": [
      "Iteration : 4 \n",
      " , Train Loss : 641.0649337768555 \n",
      ", Test Acc : 32.4710578918457 \n",
      "\n"
     ]
    },
    {
     "name": "stderr",
     "output_type": "stream",
     "text": []
    },
    {
     "name": "stdout",
     "output_type": "stream",
     "text": [
      "Iteration : 6 \n",
      " , Train Loss : 545.5966491699219 \n",
      ", Test Acc : 37.92578125 \n",
      "\n"
     ]
    },
    {
     "name": "stderr",
     "output_type": "stream",
     "text": []
    },
    {
     "name": "stdout",
     "output_type": "stream",
     "text": [
      "Iteration : 8 \n",
      " , Train Loss : 327.96253967285156 \n",
      ", Test Acc : 56.52601623535156 \n",
      "\n"
     ]
    },
    {
     "name": "stderr",
     "output_type": "stream",
     "text": []
    },
    {
     "name": "stdout",
     "output_type": "stream",
     "text": [
      "Iteration : 10 \n",
      " , Train Loss : 157.84502410888672 \n",
      ", Test Acc : 58.643280029296875 \n",
      "\n"
     ]
    },
    {
     "name": "stderr",
     "output_type": "stream",
     "text": []
    },
    {
     "name": "stdout",
     "output_type": "stream",
     "text": [
      "Iteration : 12 \n",
      " , Train Loss : 201.44493103027344 \n",
      ", Test Acc : 45.23737716674805 \n",
      "\n"
     ]
    },
    {
     "name": "stderr",
     "output_type": "stream",
     "text": []
    },
    {
     "name": "stdout",
     "output_type": "stream",
     "text": [
      "Iteration : 14 \n",
      " , Train Loss : 223.73389434814453 \n",
      ", Test Acc : 59.899105072021484 \n",
      "\n"
     ]
    },
    {
     "name": "stderr",
     "output_type": "stream",
     "text": []
    },
    {
     "name": "stdout",
     "output_type": "stream",
     "text": [
      "Iteration : 16 \n",
      " , Train Loss : 109.93510723114014 \n",
      ", Test Acc : 68.1683349609375 \n",
      "\n"
     ]
    },
    {
     "name": "stderr",
     "output_type": "stream",
     "text": []
    },
    {
     "name": "stdout",
     "output_type": "stream",
     "text": [
      "Iteration : 18 \n",
      " , Train Loss : 105.62549543380737 \n",
      ", Test Acc : 70.58708190917969 \n",
      "\n"
     ]
    },
    {
     "name": "stderr",
     "output_type": "stream",
     "text": [
      "100%|██████████| 20/20 [00:09<00:00,  2.19it/s]\n",
      "  4%|▍         | 7/157 [01:05<22:59,  9.20s/it]"
     ]
    },
    {
     "name": "stdout",
     "output_type": "stream",
     "text": [
      "Iteration : 19 \n",
      " , Train Loss : 107.74855136871338 \n",
      ", Test Acc : 69.82933807373047 \n",
      "\n"
     ]
    },
    {
     "name": "stderr",
     "output_type": "stream",
     "text": []
    },
    {
     "name": "stdout",
     "output_type": "stream",
     "text": [
      "Iteration : 0 \n",
      " , Train Loss : 156.13375282287598 \n",
      ", Test Acc : 24.659116744995117 \n",
      "\n"
     ]
    },
    {
     "name": "stderr",
     "output_type": "stream",
     "text": []
    },
    {
     "name": "stdout",
     "output_type": "stream",
     "text": [
      "Iteration : 2 \n",
      " , Train Loss : 721.3015213012695 \n",
      ", Test Acc : 28.90656280517578 \n",
      "\n"
     ]
    },
    {
     "name": "stderr",
     "output_type": "stream",
     "text": []
    },
    {
     "name": "stdout",
     "output_type": "stream",
     "text": [
      "Iteration : 4 \n",
      " , Train Loss : 758.2983474731445 \n",
      ", Test Acc : 34.564842224121094 \n",
      "\n"
     ]
    },
    {
     "name": "stderr",
     "output_type": "stream",
     "text": []
    },
    {
     "name": "stdout",
     "output_type": "stream",
     "text": [
      "Iteration : 6 \n",
      " , Train Loss : 519.7132034301758 \n",
      ", Test Acc : 47.084720611572266 \n",
      "\n"
     ]
    },
    {
     "name": "stderr",
     "output_type": "stream",
     "text": []
    },
    {
     "name": "stdout",
     "output_type": "stream",
     "text": [
      "Iteration : 8 \n",
      " , Train Loss : 308.14319229125977 \n",
      ", Test Acc : 43.286041259765625 \n",
      "\n"
     ]
    },
    {
     "name": "stderr",
     "output_type": "stream",
     "text": []
    },
    {
     "name": "stdout",
     "output_type": "stream",
     "text": [
      "Iteration : 10 \n",
      " , Train Loss : 245.4074420928955 \n",
      ", Test Acc : 47.73454284667969 \n",
      "\n"
     ]
    },
    {
     "name": "stderr",
     "output_type": "stream",
     "text": []
    },
    {
     "name": "stdout",
     "output_type": "stream",
     "text": [
      "Iteration : 12 \n",
      " , Train Loss : 228.47816276550293 \n",
      ", Test Acc : 54.000091552734375 \n",
      "\n"
     ]
    },
    {
     "name": "stderr",
     "output_type": "stream",
     "text": []
    },
    {
     "name": "stdout",
     "output_type": "stream",
     "text": [
      "Iteration : 14 \n",
      " , Train Loss : 208.0650691986084 \n",
      ", Test Acc : 55.65865707397461 \n",
      "\n"
     ]
    },
    {
     "name": "stderr",
     "output_type": "stream",
     "text": []
    },
    {
     "name": "stdout",
     "output_type": "stream",
     "text": [
      "Iteration : 16 \n",
      " , Train Loss : 160.45376586914062 \n",
      ", Test Acc : 63.03841018676758 \n",
      "\n"
     ]
    },
    {
     "name": "stderr",
     "output_type": "stream",
     "text": []
    },
    {
     "name": "stdout",
     "output_type": "stream",
     "text": [
      "Iteration : 18 \n",
      " , Train Loss : 118.45994853973389 \n",
      ", Test Acc : 64.16714477539062 \n",
      "\n"
     ]
    },
    {
     "name": "stderr",
     "output_type": "stream",
     "text": [
      "100%|██████████| 20/20 [00:09<00:00,  2.14it/s]\n",
      "  5%|▌         | 8/157 [01:14<22:58,  9.25s/it]"
     ]
    },
    {
     "name": "stdout",
     "output_type": "stream",
     "text": [
      "Iteration : 19 \n",
      " , Train Loss : 120.33520793914795 \n",
      ", Test Acc : 64.6968765258789 \n",
      "\n"
     ]
    },
    {
     "name": "stderr",
     "output_type": "stream",
     "text": []
    },
    {
     "name": "stdout",
     "output_type": "stream",
     "text": [
      "Iteration : 0 \n",
      " , Train Loss : 157.23861503601074 \n",
      ", Test Acc : 28.869272232055664 \n",
      "\n"
     ]
    },
    {
     "name": "stderr",
     "output_type": "stream",
     "text": []
    },
    {
     "name": "stdout",
     "output_type": "stream",
     "text": [
      "Iteration : 2 \n",
      " , Train Loss : 657.6568832397461 \n",
      ", Test Acc : 38.95725631713867 \n",
      "\n"
     ]
    },
    {
     "name": "stderr",
     "output_type": "stream",
     "text": []
    },
    {
     "name": "stdout",
     "output_type": "stream",
     "text": [
      "Iteration : 4 \n",
      " , Train Loss : 489.8471984863281 \n",
      ", Test Acc : 36.24876022338867 \n",
      "\n"
     ]
    },
    {
     "name": "stderr",
     "output_type": "stream",
     "text": []
    },
    {
     "name": "stdout",
     "output_type": "stream",
     "text": [
      "Iteration : 6 \n",
      " , Train Loss : 369.1315727233887 \n",
      ", Test Acc : 51.60063552856445 \n",
      "\n"
     ]
    },
    {
     "name": "stderr",
     "output_type": "stream",
     "text": []
    },
    {
     "name": "stdout",
     "output_type": "stream",
     "text": [
      "Iteration : 8 \n",
      " , Train Loss : 229.9357566833496 \n",
      ", Test Acc : 50.466243743896484 \n",
      "\n"
     ]
    },
    {
     "name": "stderr",
     "output_type": "stream",
     "text": []
    },
    {
     "name": "stdout",
     "output_type": "stream",
     "text": [
      "Iteration : 10 \n",
      " , Train Loss : 180.28240585327148 \n",
      ", Test Acc : 54.271392822265625 \n",
      "\n"
     ]
    },
    {
     "name": "stderr",
     "output_type": "stream",
     "text": []
    },
    {
     "name": "stdout",
     "output_type": "stream",
     "text": [
      "Iteration : 12 \n",
      " , Train Loss : 173.4389190673828 \n",
      ", Test Acc : 62.037044525146484 \n",
      "\n"
     ]
    },
    {
     "name": "stderr",
     "output_type": "stream",
     "text": []
    },
    {
     "name": "stdout",
     "output_type": "stream",
     "text": [
      "Iteration : 14 \n",
      " , Train Loss : 153.12767219543457 \n",
      ", Test Acc : 61.10457992553711 \n",
      "\n"
     ]
    },
    {
     "name": "stderr",
     "output_type": "stream",
     "text": []
    },
    {
     "name": "stdout",
     "output_type": "stream",
     "text": [
      "Iteration : 16 \n",
      " , Train Loss : 152.92782497406006 \n",
      ", Test Acc : 64.85907745361328 \n",
      "\n"
     ]
    },
    {
     "name": "stderr",
     "output_type": "stream",
     "text": []
    },
    {
     "name": "stdout",
     "output_type": "stream",
     "text": [
      "Iteration : 18 \n",
      " , Train Loss : 121.72775554656982 \n",
      ", Test Acc : 67.15396881103516 \n",
      "\n"
     ]
    },
    {
     "name": "stderr",
     "output_type": "stream",
     "text": [
      "100%|██████████| 20/20 [00:11<00:00,  1.75it/s]\n",
      "  6%|▌         | 9/157 [01:26<24:31,  9.94s/it]"
     ]
    },
    {
     "name": "stdout",
     "output_type": "stream",
     "text": [
      "Iteration : 19 \n",
      " , Train Loss : 119.45848226547241 \n",
      ", Test Acc : 67.12520599365234 \n",
      "\n"
     ]
    },
    {
     "name": "stderr",
     "output_type": "stream",
     "text": []
    },
    {
     "name": "stdout",
     "output_type": "stream",
     "text": [
      "Iteration : 0 \n",
      " , Train Loss : 190.61248588562012 \n",
      ", Test Acc : 24.770736694335938 \n",
      "\n"
     ]
    },
    {
     "name": "stderr",
     "output_type": "stream",
     "text": []
    },
    {
     "name": "stdout",
     "output_type": "stream",
     "text": [
      "Iteration : 2 \n",
      " , Train Loss : 754.3696670532227 \n",
      ", Test Acc : 28.570642471313477 \n",
      "\n"
     ]
    },
    {
     "name": "stderr",
     "output_type": "stream",
     "text": []
    },
    {
     "name": "stdout",
     "output_type": "stream",
     "text": [
      "Iteration : 4 \n",
      " , Train Loss : 681.6499481201172 \n",
      ", Test Acc : 37.33817672729492 \n",
      "\n"
     ]
    },
    {
     "name": "stderr",
     "output_type": "stream",
     "text": []
    },
    {
     "name": "stdout",
     "output_type": "stream",
     "text": [
      "Iteration : 6 \n",
      " , Train Loss : 417.0266532897949 \n",
      ", Test Acc : 39.90730667114258 \n",
      "\n"
     ]
    },
    {
     "name": "stderr",
     "output_type": "stream",
     "text": []
    },
    {
     "name": "stdout",
     "output_type": "stream",
     "text": [
      "Iteration : 8 \n",
      " , Train Loss : 292.53866386413574 \n",
      ", Test Acc : 50.7296142578125 \n",
      "\n"
     ]
    },
    {
     "name": "stderr",
     "output_type": "stream",
     "text": []
    },
    {
     "name": "stdout",
     "output_type": "stream",
     "text": [
      "Iteration : 10 \n",
      " , Train Loss : 222.20172500610352 \n",
      ", Test Acc : 53.25680923461914 \n",
      "\n"
     ]
    },
    {
     "name": "stderr",
     "output_type": "stream",
     "text": []
    },
    {
     "name": "stdout",
     "output_type": "stream",
     "text": [
      "Iteration : 12 \n",
      " , Train Loss : 149.07371425628662 \n",
      ", Test Acc : 44.67213439941406 \n",
      "\n"
     ]
    },
    {
     "name": "stderr",
     "output_type": "stream",
     "text": []
    },
    {
     "name": "stdout",
     "output_type": "stream",
     "text": [
      "Iteration : 14 \n",
      " , Train Loss : 175.71021842956543 \n",
      ", Test Acc : 61.861541748046875 \n",
      "\n"
     ]
    },
    {
     "name": "stderr",
     "output_type": "stream",
     "text": []
    },
    {
     "name": "stdout",
     "output_type": "stream",
     "text": [
      "Iteration : 16 \n",
      " , Train Loss : 105.22630405426025 \n",
      ", Test Acc : 64.8461685180664 \n",
      "\n"
     ]
    },
    {
     "name": "stderr",
     "output_type": "stream",
     "text": []
    },
    {
     "name": "stdout",
     "output_type": "stream",
     "text": [
      "Iteration : 18 \n",
      " , Train Loss : 124.27190399169922 \n",
      ", Test Acc : 63.362823486328125 \n",
      "\n"
     ]
    },
    {
     "name": "stderr",
     "output_type": "stream",
     "text": [
      "100%|██████████| 20/20 [00:09<00:00,  2.15it/s]\n",
      "  6%|▋         | 10/157 [01:35<23:52,  9.75s/it]"
     ]
    },
    {
     "name": "stdout",
     "output_type": "stream",
     "text": [
      "Iteration : 19 \n",
      " , Train Loss : 135.33491230010986 \n",
      ", Test Acc : 66.47542572021484 \n",
      "\n"
     ]
    },
    {
     "name": "stderr",
     "output_type": "stream",
     "text": []
    },
    {
     "name": "stdout",
     "output_type": "stream",
     "text": [
      "Iteration : 0 \n",
      " , Train Loss : 178.7065372467041 \n",
      ", Test Acc : 17.875417709350586 \n",
      "\n"
     ]
    },
    {
     "name": "stderr",
     "output_type": "stream",
     "text": []
    },
    {
     "name": "stdout",
     "output_type": "stream",
     "text": [
      "Iteration : 2 \n",
      " , Train Loss : 707.5499801635742 \n",
      ", Test Acc : 22.992074966430664 \n",
      "\n"
     ]
    },
    {
     "name": "stderr",
     "output_type": "stream",
     "text": []
    },
    {
     "name": "stdout",
     "output_type": "stream",
     "text": [
      "Iteration : 4 \n",
      " , Train Loss : 963.720947265625 \n",
      ", Test Acc : 22.20330810546875 \n",
      "\n"
     ]
    },
    {
     "name": "stderr",
     "output_type": "stream",
     "text": []
    },
    {
     "name": "stdout",
     "output_type": "stream",
     "text": [
      "Iteration : 6 \n",
      " , Train Loss : 830.3249664306641 \n",
      ", Test Acc : 21.887229919433594 \n",
      "\n"
     ]
    },
    {
     "name": "stderr",
     "output_type": "stream",
     "text": []
    },
    {
     "name": "stdout",
     "output_type": "stream",
     "text": [
      "Iteration : 8 \n",
      " , Train Loss : 511.5534973144531 \n",
      ", Test Acc : 24.49803924560547 \n",
      "\n"
     ]
    },
    {
     "name": "stderr",
     "output_type": "stream",
     "text": []
    },
    {
     "name": "stdout",
     "output_type": "stream",
     "text": [
      "Iteration : 10 \n",
      " , Train Loss : 288.68075942993164 \n",
      ", Test Acc : 36.021156311035156 \n",
      "\n"
     ]
    },
    {
     "name": "stderr",
     "output_type": "stream",
     "text": []
    },
    {
     "name": "stdout",
     "output_type": "stream",
     "text": [
      "Iteration : 12 \n",
      " , Train Loss : 251.39325332641602 \n",
      ", Test Acc : 46.49001693725586 \n",
      "\n"
     ]
    },
    {
     "name": "stderr",
     "output_type": "stream",
     "text": []
    },
    {
     "name": "stdout",
     "output_type": "stream",
     "text": [
      "Iteration : 14 \n",
      " , Train Loss : 241.00356483459473 \n",
      ", Test Acc : 45.76278305053711 \n",
      "\n"
     ]
    },
    {
     "name": "stderr",
     "output_type": "stream",
     "text": []
    },
    {
     "name": "stdout",
     "output_type": "stream",
     "text": [
      "Iteration : 16 \n",
      " , Train Loss : 275.2679901123047 \n",
      ", Test Acc : 47.82780456542969 \n",
      "\n"
     ]
    },
    {
     "name": "stderr",
     "output_type": "stream",
     "text": []
    },
    {
     "name": "stdout",
     "output_type": "stream",
     "text": [
      "Iteration : 18 \n",
      " , Train Loss : 202.4839096069336 \n",
      ", Test Acc : 57.84846496582031 \n",
      "\n"
     ]
    },
    {
     "name": "stderr",
     "output_type": "stream",
     "text": [
      "100%|██████████| 20/20 [00:09<00:00,  2.10it/s]\n",
      "  7%|▋         | 11/157 [01:45<23:34,  9.69s/it]"
     ]
    },
    {
     "name": "stdout",
     "output_type": "stream",
     "text": [
      "Iteration : 19 \n",
      " , Train Loss : 153.66362380981445 \n",
      ", Test Acc : 60.708648681640625 \n",
      "\n"
     ]
    },
    {
     "name": "stderr",
     "output_type": "stream",
     "text": []
    },
    {
     "name": "stdout",
     "output_type": "stream",
     "text": [
      "Iteration : 0 \n",
      " , Train Loss : 188.63423347473145 \n",
      ", Test Acc : 20.66927146911621 \n",
      "\n"
     ]
    },
    {
     "name": "stderr",
     "output_type": "stream",
     "text": []
    },
    {
     "name": "stdout",
     "output_type": "stream",
     "text": [
      "Iteration : 2 \n",
      " , Train Loss : 689.6486358642578 \n",
      ", Test Acc : 21.889589309692383 \n",
      "\n"
     ]
    },
    {
     "name": "stderr",
     "output_type": "stream",
     "text": []
    },
    {
     "name": "stdout",
     "output_type": "stream",
     "text": [
      "Iteration : 4 \n",
      " , Train Loss : 686.9891967773438 \n",
      ", Test Acc : 26.90314292907715 \n",
      "\n"
     ]
    },
    {
     "name": "stderr",
     "output_type": "stream",
     "text": []
    },
    {
     "name": "stdout",
     "output_type": "stream",
     "text": [
      "Iteration : 6 \n",
      " , Train Loss : 783.6880874633789 \n",
      ", Test Acc : 39.08208465576172 \n",
      "\n"
     ]
    },
    {
     "name": "stderr",
     "output_type": "stream",
     "text": []
    },
    {
     "name": "stdout",
     "output_type": "stream",
     "text": [
      "Iteration : 8 \n",
      " , Train Loss : 448.44676208496094 \n",
      ", Test Acc : 44.7398567199707 \n",
      "\n"
     ]
    },
    {
     "name": "stderr",
     "output_type": "stream",
     "text": []
    },
    {
     "name": "stdout",
     "output_type": "stream",
     "text": [
      "Iteration : 10 \n",
      " , Train Loss : 275.82203674316406 \n",
      ", Test Acc : 41.99030685424805 \n",
      "\n"
     ]
    },
    {
     "name": "stderr",
     "output_type": "stream",
     "text": []
    },
    {
     "name": "stdout",
     "output_type": "stream",
     "text": [
      "Iteration : 12 \n",
      " , Train Loss : 217.9810333251953 \n",
      ", Test Acc : 46.50795364379883 \n",
      "\n"
     ]
    },
    {
     "name": "stderr",
     "output_type": "stream",
     "text": []
    },
    {
     "name": "stdout",
     "output_type": "stream",
     "text": [
      "Iteration : 14 \n",
      " , Train Loss : 234.7824249267578 \n",
      ", Test Acc : 41.784358978271484 \n",
      "\n"
     ]
    },
    {
     "name": "stderr",
     "output_type": "stream",
     "text": []
    },
    {
     "name": "stdout",
     "output_type": "stream",
     "text": [
      "Iteration : 16 \n",
      " , Train Loss : 207.024507522583 \n",
      ", Test Acc : 52.56975173950195 \n",
      "\n"
     ]
    },
    {
     "name": "stderr",
     "output_type": "stream",
     "text": []
    },
    {
     "name": "stdout",
     "output_type": "stream",
     "text": [
      "Iteration : 18 \n",
      " , Train Loss : 143.62193870544434 \n",
      ", Test Acc : 59.87088394165039 \n",
      "\n"
     ]
    },
    {
     "name": "stderr",
     "output_type": "stream",
     "text": [
      "100%|██████████| 20/20 [00:11<00:00,  1.72it/s]\n",
      "  8%|▊         | 12/157 [01:56<24:50, 10.28s/it]"
     ]
    },
    {
     "name": "stdout",
     "output_type": "stream",
     "text": [
      "Iteration : 19 \n",
      " , Train Loss : 119.34465980529785 \n",
      ", Test Acc : 62.787872314453125 \n",
      "\n"
     ]
    },
    {
     "name": "stderr",
     "output_type": "stream",
     "text": []
    },
    {
     "name": "stdout",
     "output_type": "stream",
     "text": [
      "Iteration : 0 \n",
      " , Train Loss : 253.68972778320312 \n",
      ", Test Acc : 16.686803817749023 \n",
      "\n"
     ]
    },
    {
     "name": "stderr",
     "output_type": "stream",
     "text": []
    },
    {
     "name": "stdout",
     "output_type": "stream",
     "text": [
      "Iteration : 2 \n",
      " , Train Loss : 517.3683242797852 \n",
      ", Test Acc : 18.456787109375 \n",
      "\n"
     ]
    },
    {
     "name": "stderr",
     "output_type": "stream",
     "text": []
    },
    {
     "name": "stdout",
     "output_type": "stream",
     "text": [
      "Iteration : 4 \n",
      " , Train Loss : 486.88356018066406 \n",
      ", Test Acc : 23.278135299682617 \n",
      "\n"
     ]
    },
    {
     "name": "stderr",
     "output_type": "stream",
     "text": []
    },
    {
     "name": "stdout",
     "output_type": "stream",
     "text": [
      "Iteration : 6 \n",
      " , Train Loss : 554.5272445678711 \n",
      ", Test Acc : 29.214500427246094 \n",
      "\n"
     ]
    },
    {
     "name": "stderr",
     "output_type": "stream",
     "text": []
    },
    {
     "name": "stdout",
     "output_type": "stream",
     "text": [
      "Iteration : 8 \n",
      " , Train Loss : 517.1029891967773 \n",
      ", Test Acc : 36.436038970947266 \n",
      "\n"
     ]
    },
    {
     "name": "stderr",
     "output_type": "stream",
     "text": []
    },
    {
     "name": "stdout",
     "output_type": "stream",
     "text": [
      "Iteration : 10 \n",
      " , Train Loss : 301.0267868041992 \n",
      ", Test Acc : 39.857913970947266 \n",
      "\n"
     ]
    },
    {
     "name": "stderr",
     "output_type": "stream",
     "text": []
    },
    {
     "name": "stdout",
     "output_type": "stream",
     "text": [
      "Iteration : 12 \n",
      " , Train Loss : 242.70016479492188 \n",
      ", Test Acc : 46.46295166015625 \n",
      "\n"
     ]
    },
    {
     "name": "stderr",
     "output_type": "stream",
     "text": []
    },
    {
     "name": "stdout",
     "output_type": "stream",
     "text": [
      "Iteration : 14 \n",
      " , Train Loss : 250.857515335083 \n",
      ", Test Acc : 50.26019287109375 \n",
      "\n"
     ]
    },
    {
     "name": "stderr",
     "output_type": "stream",
     "text": []
    },
    {
     "name": "stdout",
     "output_type": "stream",
     "text": [
      "Iteration : 16 \n",
      " , Train Loss : 106.80038928985596 \n",
      ", Test Acc : 57.99626541137695 \n",
      "\n"
     ]
    },
    {
     "name": "stderr",
     "output_type": "stream",
     "text": []
    },
    {
     "name": "stdout",
     "output_type": "stream",
     "text": [
      "Iteration : 18 \n",
      " , Train Loss : 186.41238975524902 \n",
      ", Test Acc : 59.04646682739258 \n",
      "\n"
     ]
    },
    {
     "name": "stderr",
     "output_type": "stream",
     "text": [
      "100%|██████████| 20/20 [00:08<00:00,  2.36it/s]\n",
      "  8%|▊         | 13/157 [02:05<23:22,  9.74s/it]"
     ]
    },
    {
     "name": "stdout",
     "output_type": "stream",
     "text": [
      "Iteration : 19 \n",
      " , Train Loss : 187.97234535217285 \n",
      ", Test Acc : 62.30024337768555 \n",
      "\n"
     ]
    },
    {
     "name": "stderr",
     "output_type": "stream",
     "text": []
    },
    {
     "name": "stdout",
     "output_type": "stream",
     "text": [
      "Iteration : 0 \n",
      " , Train Loss : 141.55809020996094 \n",
      ", Test Acc : 22.74053955078125 \n",
      "\n"
     ]
    },
    {
     "name": "stderr",
     "output_type": "stream",
     "text": []
    },
    {
     "name": "stdout",
     "output_type": "stream",
     "text": [
      "Iteration : 2 \n",
      " , Train Loss : 884.1409606933594 \n",
      ", Test Acc : 19.7871036529541 \n",
      "\n"
     ]
    },
    {
     "name": "stderr",
     "output_type": "stream",
     "text": []
    },
    {
     "name": "stdout",
     "output_type": "stream",
     "text": [
      "Iteration : 4 \n",
      " , Train Loss : 612.4583435058594 \n",
      ", Test Acc : 25.155099868774414 \n",
      "\n"
     ]
    },
    {
     "name": "stderr",
     "output_type": "stream",
     "text": []
    },
    {
     "name": "stdout",
     "output_type": "stream",
     "text": [
      "Iteration : 6 \n",
      " , Train Loss : 328.2850151062012 \n",
      ", Test Acc : 31.084365844726562 \n",
      "\n"
     ]
    },
    {
     "name": "stderr",
     "output_type": "stream",
     "text": []
    },
    {
     "name": "stdout",
     "output_type": "stream",
     "text": [
      "Iteration : 8 \n",
      " , Train Loss : 393.9004211425781 \n",
      ", Test Acc : 33.127437591552734 \n",
      "\n"
     ]
    },
    {
     "name": "stderr",
     "output_type": "stream",
     "text": []
    },
    {
     "name": "stdout",
     "output_type": "stream",
     "text": [
      "Iteration : 10 \n",
      " , Train Loss : 242.1902961730957 \n",
      ", Test Acc : 46.901309967041016 \n",
      "\n"
     ]
    },
    {
     "name": "stderr",
     "output_type": "stream",
     "text": []
    },
    {
     "name": "stdout",
     "output_type": "stream",
     "text": [
      "Iteration : 12 \n",
      " , Train Loss : 196.90641593933105 \n",
      ", Test Acc : 51.13833236694336 \n",
      "\n"
     ]
    },
    {
     "name": "stderr",
     "output_type": "stream",
     "text": []
    },
    {
     "name": "stdout",
     "output_type": "stream",
     "text": [
      "Iteration : 14 \n",
      " , Train Loss : 171.01630783081055 \n",
      ", Test Acc : 45.20430374145508 \n",
      "\n"
     ]
    },
    {
     "name": "stderr",
     "output_type": "stream",
     "text": []
    },
    {
     "name": "stdout",
     "output_type": "stream",
     "text": [
      "Iteration : 16 \n",
      " , Train Loss : 190.2958755493164 \n",
      ", Test Acc : 51.378108978271484 \n",
      "\n"
     ]
    },
    {
     "name": "stderr",
     "output_type": "stream",
     "text": []
    },
    {
     "name": "stdout",
     "output_type": "stream",
     "text": [
      "Iteration : 18 \n",
      " , Train Loss : 119.74500179290771 \n",
      ", Test Acc : 60.03468704223633 \n",
      "\n"
     ]
    },
    {
     "name": "stderr",
     "output_type": "stream",
     "text": [
      "100%|██████████| 20/20 [00:09<00:00,  2.15it/s]\n",
      "  9%|▉         | 14/157 [02:14<22:54,  9.61s/it]"
     ]
    },
    {
     "name": "stdout",
     "output_type": "stream",
     "text": [
      "Iteration : 19 \n",
      " , Train Loss : 110.91548919677734 \n",
      ", Test Acc : 60.26628494262695 \n",
      "\n"
     ]
    },
    {
     "name": "stderr",
     "output_type": "stream",
     "text": []
    },
    {
     "name": "stdout",
     "output_type": "stream",
     "text": [
      "Iteration : 0 \n",
      " , Train Loss : 135.28390884399414 \n",
      ", Test Acc : 16.400602340698242 \n",
      "\n"
     ]
    },
    {
     "name": "stderr",
     "output_type": "stream",
     "text": []
    },
    {
     "name": "stdout",
     "output_type": "stream",
     "text": [
      "Iteration : 2 \n",
      " , Train Loss : 853.0176696777344 \n",
      ", Test Acc : 23.378854751586914 \n",
      "\n"
     ]
    },
    {
     "name": "stderr",
     "output_type": "stream",
     "text": []
    },
    {
     "name": "stdout",
     "output_type": "stream",
     "text": [
      "Iteration : 4 \n",
      " , Train Loss : 542.4593811035156 \n",
      ", Test Acc : 22.556798934936523 \n",
      "\n"
     ]
    },
    {
     "name": "stderr",
     "output_type": "stream",
     "text": []
    },
    {
     "name": "stdout",
     "output_type": "stream",
     "text": [
      "Iteration : 6 \n",
      " , Train Loss : 387.58655548095703 \n",
      ", Test Acc : 33.924285888671875 \n",
      "\n"
     ]
    },
    {
     "name": "stderr",
     "output_type": "stream",
     "text": []
    },
    {
     "name": "stdout",
     "output_type": "stream",
     "text": [
      "Iteration : 8 \n",
      " , Train Loss : 392.2035713195801 \n",
      ", Test Acc : 33.10874557495117 \n",
      "\n"
     ]
    },
    {
     "name": "stderr",
     "output_type": "stream",
     "text": []
    },
    {
     "name": "stdout",
     "output_type": "stream",
     "text": [
      "Iteration : 10 \n",
      " , Train Loss : 213.77052116394043 \n",
      ", Test Acc : 47.19266128540039 \n",
      "\n"
     ]
    },
    {
     "name": "stderr",
     "output_type": "stream",
     "text": []
    },
    {
     "name": "stdout",
     "output_type": "stream",
     "text": [
      "Iteration : 12 \n",
      " , Train Loss : 184.46655082702637 \n",
      ", Test Acc : 47.91618728637695 \n",
      "\n"
     ]
    },
    {
     "name": "stderr",
     "output_type": "stream",
     "text": []
    },
    {
     "name": "stdout",
     "output_type": "stream",
     "text": [
      "Iteration : 14 \n",
      " , Train Loss : 167.4149627685547 \n",
      ", Test Acc : 49.77488327026367 \n",
      "\n"
     ]
    },
    {
     "name": "stderr",
     "output_type": "stream",
     "text": []
    },
    {
     "name": "stdout",
     "output_type": "stream",
     "text": [
      "Iteration : 16 \n",
      " , Train Loss : 134.04240798950195 \n",
      ", Test Acc : 52.764034271240234 \n",
      "\n"
     ]
    },
    {
     "name": "stderr",
     "output_type": "stream",
     "text": []
    },
    {
     "name": "stdout",
     "output_type": "stream",
     "text": [
      "Iteration : 18 \n",
      " , Train Loss : 132.45760917663574 \n",
      ", Test Acc : 59.9658203125 \n",
      "\n"
     ]
    },
    {
     "name": "stderr",
     "output_type": "stream",
     "text": [
      "100%|██████████| 20/20 [00:08<00:00,  2.30it/s]\n",
      " 10%|▉         | 15/157 [02:23<22:06,  9.34s/it]"
     ]
    },
    {
     "name": "stdout",
     "output_type": "stream",
     "text": [
      "Iteration : 19 \n",
      " , Train Loss : 104.5729808807373 \n",
      ", Test Acc : 60.74417495727539 \n",
      "\n"
     ]
    },
    {
     "name": "stderr",
     "output_type": "stream",
     "text": []
    },
    {
     "name": "stdout",
     "output_type": "stream",
     "text": [
      "Iteration : 0 \n",
      " , Train Loss : 168.92778968811035 \n",
      ", Test Acc : 26.404722213745117 \n",
      "\n"
     ]
    },
    {
     "name": "stderr",
     "output_type": "stream",
     "text": []
    },
    {
     "name": "stdout",
     "output_type": "stream",
     "text": [
      "Iteration : 2 \n",
      " , Train Loss : 742.9272842407227 \n",
      ", Test Acc : 26.0949764251709 \n",
      "\n"
     ]
    },
    {
     "name": "stderr",
     "output_type": "stream",
     "text": []
    },
    {
     "name": "stdout",
     "output_type": "stream",
     "text": [
      "Iteration : 4 \n",
      " , Train Loss : 690.551643371582 \n",
      ", Test Acc : 24.722951889038086 \n",
      "\n"
     ]
    },
    {
     "name": "stderr",
     "output_type": "stream",
     "text": []
    },
    {
     "name": "stdout",
     "output_type": "stream",
     "text": [
      "Iteration : 6 \n",
      " , Train Loss : 529.1291351318359 \n",
      ", Test Acc : 35.464778900146484 \n",
      "\n"
     ]
    },
    {
     "name": "stderr",
     "output_type": "stream",
     "text": []
    },
    {
     "name": "stdout",
     "output_type": "stream",
     "text": [
      "Iteration : 8 \n",
      " , Train Loss : 295.6434803009033 \n",
      ", Test Acc : 44.011356353759766 \n",
      "\n"
     ]
    },
    {
     "name": "stderr",
     "output_type": "stream",
     "text": []
    },
    {
     "name": "stdout",
     "output_type": "stream",
     "text": [
      "Iteration : 10 \n",
      " , Train Loss : 222.7080841064453 \n",
      ", Test Acc : 45.00755310058594 \n",
      "\n"
     ]
    },
    {
     "name": "stderr",
     "output_type": "stream",
     "text": []
    },
    {
     "name": "stdout",
     "output_type": "stream",
     "text": [
      "Iteration : 12 \n",
      " , Train Loss : 234.47885513305664 \n",
      ", Test Acc : 45.96053695678711 \n",
      "\n"
     ]
    },
    {
     "name": "stderr",
     "output_type": "stream",
     "text": []
    },
    {
     "name": "stdout",
     "output_type": "stream",
     "text": [
      "Iteration : 14 \n",
      " , Train Loss : 185.60663604736328 \n",
      ", Test Acc : 54.78837203979492 \n",
      "\n"
     ]
    },
    {
     "name": "stderr",
     "output_type": "stream",
     "text": []
    },
    {
     "name": "stdout",
     "output_type": "stream",
     "text": [
      "Iteration : 16 \n",
      " , Train Loss : 131.67312240600586 \n",
      ", Test Acc : 57.98634719848633 \n",
      "\n"
     ]
    },
    {
     "name": "stderr",
     "output_type": "stream",
     "text": []
    },
    {
     "name": "stdout",
     "output_type": "stream",
     "text": [
      "Iteration : 18 \n",
      " , Train Loss : 157.29379653930664 \n",
      ", Test Acc : 52.42948532104492 \n",
      "\n"
     ]
    },
    {
     "name": "stderr",
     "output_type": "stream",
     "text": [
      "100%|██████████| 20/20 [00:09<00:00,  2.19it/s]\n",
      " 10%|█         | 16/157 [02:32<21:49,  9.29s/it]"
     ]
    },
    {
     "name": "stdout",
     "output_type": "stream",
     "text": [
      "Iteration : 19 \n",
      " , Train Loss : 160.5419921875 \n",
      ", Test Acc : 56.28053665161133 \n",
      "\n"
     ]
    },
    {
     "name": "stderr",
     "output_type": "stream",
     "text": []
    },
    {
     "name": "stdout",
     "output_type": "stream",
     "text": [
      "Iteration : 0 \n",
      " , Train Loss : 164.28137588500977 \n",
      ", Test Acc : 18.4871826171875 \n",
      "\n"
     ]
    },
    {
     "name": "stderr",
     "output_type": "stream",
     "text": []
    },
    {
     "name": "stdout",
     "output_type": "stream",
     "text": [
      "Iteration : 2 \n",
      " , Train Loss : 657.9001693725586 \n",
      ", Test Acc : 27.35976219177246 \n",
      "\n"
     ]
    },
    {
     "name": "stderr",
     "output_type": "stream",
     "text": []
    },
    {
     "name": "stdout",
     "output_type": "stream",
     "text": [
      "Iteration : 4 \n",
      " , Train Loss : 716.259162902832 \n",
      ", Test Acc : 32.412601470947266 \n",
      "\n"
     ]
    },
    {
     "name": "stderr",
     "output_type": "stream",
     "text": []
    },
    {
     "name": "stdout",
     "output_type": "stream",
     "text": [
      "Iteration : 6 \n",
      " , Train Loss : 438.680118560791 \n",
      ", Test Acc : 47.3001708984375 \n",
      "\n"
     ]
    },
    {
     "name": "stderr",
     "output_type": "stream",
     "text": []
    },
    {
     "name": "stdout",
     "output_type": "stream",
     "text": [
      "Iteration : 8 \n",
      " , Train Loss : 252.5938720703125 \n",
      ", Test Acc : 37.90725326538086 \n",
      "\n"
     ]
    },
    {
     "name": "stderr",
     "output_type": "stream",
     "text": []
    },
    {
     "name": "stdout",
     "output_type": "stream",
     "text": [
      "Iteration : 10 \n",
      " , Train Loss : 301.8758010864258 \n",
      ", Test Acc : 32.665042877197266 \n",
      "\n"
     ]
    },
    {
     "name": "stderr",
     "output_type": "stream",
     "text": []
    },
    {
     "name": "stdout",
     "output_type": "stream",
     "text": [
      "Iteration : 12 \n",
      " , Train Loss : 240.1855583190918 \n",
      ", Test Acc : 50.77566909790039 \n",
      "\n"
     ]
    },
    {
     "name": "stderr",
     "output_type": "stream",
     "text": []
    },
    {
     "name": "stdout",
     "output_type": "stream",
     "text": [
      "Iteration : 14 \n",
      " , Train Loss : 106.82535362243652 \n",
      ", Test Acc : 61.503387451171875 \n",
      "\n"
     ]
    },
    {
     "name": "stderr",
     "output_type": "stream",
     "text": []
    },
    {
     "name": "stdout",
     "output_type": "stream",
     "text": [
      "Iteration : 16 \n",
      " , Train Loss : 163.52638053894043 \n",
      ", Test Acc : 56.72172927856445 \n",
      "\n"
     ]
    },
    {
     "name": "stderr",
     "output_type": "stream",
     "text": []
    },
    {
     "name": "stdout",
     "output_type": "stream",
     "text": [
      "Iteration : 18 \n",
      " , Train Loss : 164.66819190979004 \n",
      ", Test Acc : 59.1679801940918 \n",
      "\n"
     ]
    },
    {
     "name": "stderr",
     "output_type": "stream",
     "text": [
      "100%|██████████| 20/20 [00:11<00:00,  1.76it/s]\n",
      " 11%|█         | 17/157 [02:43<23:07,  9.91s/it]"
     ]
    },
    {
     "name": "stdout",
     "output_type": "stream",
     "text": [
      "Iteration : 19 \n",
      " , Train Loss : 148.25091361999512 \n",
      ", Test Acc : 61.3890380859375 \n",
      "\n"
     ]
    },
    {
     "name": "stderr",
     "output_type": "stream",
     "text": []
    },
    {
     "name": "stdout",
     "output_type": "stream",
     "text": [
      "Iteration : 0 \n",
      " , Train Loss : 166.60931396484375 \n",
      ", Test Acc : 19.650590896606445 \n",
      "\n"
     ]
    },
    {
     "name": "stderr",
     "output_type": "stream",
     "text": []
    },
    {
     "name": "stdout",
     "output_type": "stream",
     "text": [
      "Iteration : 2 \n",
      " , Train Loss : 723.6754608154297 \n",
      ", Test Acc : 35.913475036621094 \n",
      "\n"
     ]
    },
    {
     "name": "stderr",
     "output_type": "stream",
     "text": []
    },
    {
     "name": "stdout",
     "output_type": "stream",
     "text": [
      "Iteration : 4 \n",
      " , Train Loss : 909.4237670898438 \n",
      ", Test Acc : 33.36795425415039 \n",
      "\n"
     ]
    },
    {
     "name": "stderr",
     "output_type": "stream",
     "text": []
    },
    {
     "name": "stdout",
     "output_type": "stream",
     "text": [
      "Iteration : 6 \n",
      " , Train Loss : 680.8864135742188 \n",
      ", Test Acc : 42.418827056884766 \n",
      "\n"
     ]
    },
    {
     "name": "stderr",
     "output_type": "stream",
     "text": []
    },
    {
     "name": "stdout",
     "output_type": "stream",
     "text": [
      "Iteration : 8 \n",
      " , Train Loss : 391.69005584716797 \n",
      ", Test Acc : 33.0097770690918 \n",
      "\n"
     ]
    },
    {
     "name": "stderr",
     "output_type": "stream",
     "text": []
    },
    {
     "name": "stdout",
     "output_type": "stream",
     "text": [
      "Iteration : 10 \n",
      " , Train Loss : 201.5042839050293 \n",
      ", Test Acc : 41.904052734375 \n",
      "\n"
     ]
    },
    {
     "name": "stderr",
     "output_type": "stream",
     "text": []
    },
    {
     "name": "stdout",
     "output_type": "stream",
     "text": [
      "Iteration : 12 \n",
      " , Train Loss : 229.74959564208984 \n",
      ", Test Acc : 43.64002990722656 \n",
      "\n"
     ]
    },
    {
     "name": "stderr",
     "output_type": "stream",
     "text": []
    },
    {
     "name": "stdout",
     "output_type": "stream",
     "text": [
      "Iteration : 14 \n",
      " , Train Loss : 214.1197681427002 \n",
      ", Test Acc : 52.55238723754883 \n",
      "\n"
     ]
    },
    {
     "name": "stderr",
     "output_type": "stream",
     "text": []
    },
    {
     "name": "stdout",
     "output_type": "stream",
     "text": [
      "Iteration : 16 \n",
      " , Train Loss : 115.45544528961182 \n",
      ", Test Acc : 64.88088989257812 \n",
      "\n"
     ]
    },
    {
     "name": "stderr",
     "output_type": "stream",
     "text": []
    },
    {
     "name": "stdout",
     "output_type": "stream",
     "text": [
      "Iteration : 18 \n",
      " , Train Loss : 122.05538940429688 \n",
      ", Test Acc : 59.816558837890625 \n",
      "\n"
     ]
    },
    {
     "name": "stderr",
     "output_type": "stream",
     "text": [
      "100%|██████████| 20/20 [00:10<00:00,  1.88it/s]\n",
      " 11%|█▏        | 18/157 [02:54<23:28, 10.14s/it]"
     ]
    },
    {
     "name": "stdout",
     "output_type": "stream",
     "text": [
      "Iteration : 19 \n",
      " , Train Loss : 143.40818405151367 \n",
      ", Test Acc : 62.13462829589844 \n",
      "\n"
     ]
    },
    {
     "name": "stderr",
     "output_type": "stream",
     "text": []
    },
    {
     "name": "stdout",
     "output_type": "stream",
     "text": [
      "Iteration : 0 \n",
      " , Train Loss : 171.41351127624512 \n",
      ", Test Acc : 15.145926475524902 \n",
      "\n"
     ]
    },
    {
     "name": "stderr",
     "output_type": "stream",
     "text": []
    },
    {
     "name": "stdout",
     "output_type": "stream",
     "text": [
      "Iteration : 2 \n",
      " , Train Loss : 510.0570068359375 \n",
      ", Test Acc : 24.611846923828125 \n",
      "\n"
     ]
    },
    {
     "name": "stderr",
     "output_type": "stream",
     "text": []
    },
    {
     "name": "stdout",
     "output_type": "stream",
     "text": [
      "Iteration : 4 \n",
      " , Train Loss : 756.3067092895508 \n",
      ", Test Acc : 21.678955078125 \n",
      "\n"
     ]
    },
    {
     "name": "stderr",
     "output_type": "stream",
     "text": []
    },
    {
     "name": "stdout",
     "output_type": "stream",
     "text": [
      "Iteration : 6 \n",
      " , Train Loss : 526.0648574829102 \n",
      ", Test Acc : 32.58302688598633 \n",
      "\n"
     ]
    },
    {
     "name": "stderr",
     "output_type": "stream",
     "text": []
    },
    {
     "name": "stdout",
     "output_type": "stream",
     "text": [
      "Iteration : 8 \n",
      " , Train Loss : 571.8960113525391 \n",
      ", Test Acc : 27.796728134155273 \n",
      "\n"
     ]
    },
    {
     "name": "stderr",
     "output_type": "stream",
     "text": []
    },
    {
     "name": "stdout",
     "output_type": "stream",
     "text": [
      "Iteration : 10 \n",
      " , Train Loss : 383.4855499267578 \n",
      ", Test Acc : 38.20894241333008 \n",
      "\n"
     ]
    },
    {
     "name": "stderr",
     "output_type": "stream",
     "text": []
    },
    {
     "name": "stdout",
     "output_type": "stream",
     "text": [
      "Iteration : 12 \n",
      " , Train Loss : 252.955322265625 \n",
      ", Test Acc : 39.6694450378418 \n",
      "\n"
     ]
    },
    {
     "name": "stderr",
     "output_type": "stream",
     "text": []
    },
    {
     "name": "stdout",
     "output_type": "stream",
     "text": [
      "Iteration : 14 \n",
      " , Train Loss : 221.03734016418457 \n",
      ", Test Acc : 55.752017974853516 \n",
      "\n"
     ]
    },
    {
     "name": "stderr",
     "output_type": "stream",
     "text": []
    },
    {
     "name": "stdout",
     "output_type": "stream",
     "text": [
      "Iteration : 16 \n",
      " , Train Loss : 143.34885597229004 \n",
      ", Test Acc : 56.26646041870117 \n",
      "\n"
     ]
    },
    {
     "name": "stderr",
     "output_type": "stream",
     "text": []
    },
    {
     "name": "stdout",
     "output_type": "stream",
     "text": [
      "Iteration : 18 \n",
      " , Train Loss : 200.55046844482422 \n",
      ", Test Acc : 56.09233093261719 \n",
      "\n"
     ]
    },
    {
     "name": "stderr",
     "output_type": "stream",
     "text": [
      "100%|██████████| 20/20 [00:09<00:00,  2.13it/s]\n",
      " 12%|█▏        | 19/157 [03:03<22:48,  9.91s/it]"
     ]
    },
    {
     "name": "stdout",
     "output_type": "stream",
     "text": [
      "Iteration : 19 \n",
      " , Train Loss : 173.99603462219238 \n",
      ", Test Acc : 61.9869384765625 \n",
      "\n"
     ]
    },
    {
     "name": "stderr",
     "output_type": "stream",
     "text": []
    },
    {
     "name": "stdout",
     "output_type": "stream",
     "text": [
      "Iteration : 0 \n",
      " , Train Loss : 178.83935165405273 \n",
      ", Test Acc : 20.60728645324707 \n",
      "\n"
     ]
    },
    {
     "name": "stderr",
     "output_type": "stream",
     "text": []
    },
    {
     "name": "stdout",
     "output_type": "stream",
     "text": [
      "Iteration : 2 \n",
      " , Train Loss : 777.5694351196289 \n",
      ", Test Acc : 23.612165451049805 \n",
      "\n"
     ]
    },
    {
     "name": "stderr",
     "output_type": "stream",
     "text": []
    },
    {
     "name": "stdout",
     "output_type": "stream",
     "text": [
      "Iteration : 4 \n",
      " , Train Loss : 830.6487503051758 \n",
      ", Test Acc : 27.85710906982422 \n",
      "\n"
     ]
    },
    {
     "name": "stderr",
     "output_type": "stream",
     "text": []
    },
    {
     "name": "stdout",
     "output_type": "stream",
     "text": [
      "Iteration : 6 \n",
      " , Train Loss : 573.672721862793 \n",
      ", Test Acc : 33.873844146728516 \n",
      "\n"
     ]
    },
    {
     "name": "stderr",
     "output_type": "stream",
     "text": []
    },
    {
     "name": "stdout",
     "output_type": "stream",
     "text": [
      "Iteration : 8 \n",
      " , Train Loss : 445.4053955078125 \n",
      ", Test Acc : 39.064117431640625 \n",
      "\n"
     ]
    },
    {
     "name": "stderr",
     "output_type": "stream",
     "text": []
    },
    {
     "name": "stdout",
     "output_type": "stream",
     "text": [
      "Iteration : 10 \n",
      " , Train Loss : 465.0929412841797 \n",
      ", Test Acc : 34.200435638427734 \n",
      "\n"
     ]
    },
    {
     "name": "stderr",
     "output_type": "stream",
     "text": []
    },
    {
     "name": "stdout",
     "output_type": "stream",
     "text": [
      "Iteration : 12 \n",
      " , Train Loss : 281.00395584106445 \n",
      ", Test Acc : 43.95758056640625 \n",
      "\n"
     ]
    },
    {
     "name": "stderr",
     "output_type": "stream",
     "text": []
    },
    {
     "name": "stdout",
     "output_type": "stream",
     "text": [
      "Iteration : 14 \n",
      " , Train Loss : 182.0889663696289 \n",
      ", Test Acc : 42.626224517822266 \n",
      "\n"
     ]
    },
    {
     "name": "stderr",
     "output_type": "stream",
     "text": []
    },
    {
     "name": "stdout",
     "output_type": "stream",
     "text": [
      "Iteration : 16 \n",
      " , Train Loss : 169.49783325195312 \n",
      ", Test Acc : 52.20012283325195 \n",
      "\n"
     ]
    },
    {
     "name": "stderr",
     "output_type": "stream",
     "text": []
    },
    {
     "name": "stdout",
     "output_type": "stream",
     "text": [
      "Iteration : 18 \n",
      " , Train Loss : 137.97355461120605 \n",
      ", Test Acc : 49.79435348510742 \n",
      "\n"
     ]
    },
    {
     "name": "stderr",
     "output_type": "stream",
     "text": [
      "100%|██████████| 20/20 [00:09<00:00,  2.17it/s]\n",
      " 13%|█▎        | 20/157 [03:13<22:10,  9.71s/it]"
     ]
    },
    {
     "name": "stdout",
     "output_type": "stream",
     "text": [
      "Iteration : 19 \n",
      " , Train Loss : 162.18606853485107 \n",
      ", Test Acc : 47.693363189697266 \n",
      "\n"
     ]
    },
    {
     "name": "stderr",
     "output_type": "stream",
     "text": []
    },
    {
     "name": "stdout",
     "output_type": "stream",
     "text": [
      "Iteration : 0 \n",
      " , Train Loss : 188.9948329925537 \n",
      ", Test Acc : 22.26533317565918 \n",
      "\n"
     ]
    },
    {
     "name": "stderr",
     "output_type": "stream",
     "text": []
    },
    {
     "name": "stdout",
     "output_type": "stream",
     "text": [
      "Iteration : 2 \n",
      " , Train Loss : 732.6408462524414 \n",
      ", Test Acc : 20.219926834106445 \n",
      "\n"
     ]
    },
    {
     "name": "stderr",
     "output_type": "stream",
     "text": []
    },
    {
     "name": "stdout",
     "output_type": "stream",
     "text": [
      "Iteration : 4 \n",
      " , Train Loss : 609.1990509033203 \n",
      ", Test Acc : 22.56598663330078 \n",
      "\n"
     ]
    },
    {
     "name": "stderr",
     "output_type": "stream",
     "text": []
    },
    {
     "name": "stdout",
     "output_type": "stream",
     "text": [
      "Iteration : 6 \n",
      " , Train Loss : 736.0574264526367 \n",
      ", Test Acc : 28.760162353515625 \n",
      "\n"
     ]
    },
    {
     "name": "stderr",
     "output_type": "stream",
     "text": []
    },
    {
     "name": "stdout",
     "output_type": "stream",
     "text": [
      "Iteration : 8 \n",
      " , Train Loss : 685.9262161254883 \n",
      ", Test Acc : 36.67917251586914 \n",
      "\n"
     ]
    },
    {
     "name": "stderr",
     "output_type": "stream",
     "text": []
    },
    {
     "name": "stdout",
     "output_type": "stream",
     "text": [
      "Iteration : 10 \n",
      " , Train Loss : 489.61017990112305 \n",
      ", Test Acc : 29.65618324279785 \n",
      "\n"
     ]
    },
    {
     "name": "stderr",
     "output_type": "stream",
     "text": []
    },
    {
     "name": "stdout",
     "output_type": "stream",
     "text": [
      "Iteration : 12 \n",
      " , Train Loss : 354.1329574584961 \n",
      ", Test Acc : 39.79461669921875 \n",
      "\n"
     ]
    },
    {
     "name": "stderr",
     "output_type": "stream",
     "text": []
    },
    {
     "name": "stdout",
     "output_type": "stream",
     "text": [
      "Iteration : 14 \n",
      " , Train Loss : 247.99131774902344 \n",
      ", Test Acc : 45.65884780883789 \n",
      "\n"
     ]
    },
    {
     "name": "stderr",
     "output_type": "stream",
     "text": []
    },
    {
     "name": "stdout",
     "output_type": "stream",
     "text": [
      "Iteration : 16 \n",
      " , Train Loss : 174.8031349182129 \n",
      ", Test Acc : 54.834598541259766 \n",
      "\n"
     ]
    },
    {
     "name": "stderr",
     "output_type": "stream",
     "text": []
    },
    {
     "name": "stdout",
     "output_type": "stream",
     "text": [
      "Iteration : 18 \n",
      " , Train Loss : 118.37157344818115 \n",
      ", Test Acc : 48.26279830932617 \n",
      "\n"
     ]
    },
    {
     "name": "stderr",
     "output_type": "stream",
     "text": [
      "100%|██████████| 20/20 [00:09<00:00,  2.10it/s]\n",
      " 13%|█▎        | 21/157 [03:22<21:54,  9.66s/it]"
     ]
    },
    {
     "name": "stdout",
     "output_type": "stream",
     "text": [
      "Iteration : 19 \n",
      " , Train Loss : 163.0421905517578 \n",
      ", Test Acc : 46.42194747924805 \n",
      "\n"
     ]
    },
    {
     "name": "stderr",
     "output_type": "stream",
     "text": []
    },
    {
     "name": "stdout",
     "output_type": "stream",
     "text": [
      "Iteration : 0 \n",
      " , Train Loss : 201.61157417297363 \n",
      ", Test Acc : 18.78264808654785 \n",
      "\n"
     ]
    },
    {
     "name": "stderr",
     "output_type": "stream",
     "text": []
    },
    {
     "name": "stdout",
     "output_type": "stream",
     "text": [
      "Iteration : 2 \n",
      " , Train Loss : 695.4858932495117 \n",
      ", Test Acc : 26.97222328186035 \n",
      "\n"
     ]
    },
    {
     "name": "stderr",
     "output_type": "stream",
     "text": []
    },
    {
     "name": "stdout",
     "output_type": "stream",
     "text": [
      "Iteration : 4 \n",
      " , Train Loss : 808.7652893066406 \n",
      ", Test Acc : 37.77741241455078 \n",
      "\n"
     ]
    },
    {
     "name": "stderr",
     "output_type": "stream",
     "text": []
    },
    {
     "name": "stdout",
     "output_type": "stream",
     "text": [
      "Iteration : 6 \n",
      " , Train Loss : 507.5519676208496 \n",
      ", Test Acc : 45.84910202026367 \n",
      "\n"
     ]
    },
    {
     "name": "stderr",
     "output_type": "stream",
     "text": []
    },
    {
     "name": "stdout",
     "output_type": "stream",
     "text": [
      "Iteration : 8 \n",
      " , Train Loss : 518.9376182556152 \n",
      ", Test Acc : 46.9199333190918 \n",
      "\n"
     ]
    },
    {
     "name": "stderr",
     "output_type": "stream",
     "text": []
    },
    {
     "name": "stdout",
     "output_type": "stream",
     "text": [
      "Iteration : 10 \n",
      " , Train Loss : 294.5909118652344 \n",
      ", Test Acc : 48.53139114379883 \n",
      "\n"
     ]
    },
    {
     "name": "stderr",
     "output_type": "stream",
     "text": []
    },
    {
     "name": "stdout",
     "output_type": "stream",
     "text": [
      "Iteration : 12 \n",
      " , Train Loss : 204.32684326171875 \n",
      ", Test Acc : 60.27482223510742 \n",
      "\n"
     ]
    },
    {
     "name": "stderr",
     "output_type": "stream",
     "text": []
    },
    {
     "name": "stdout",
     "output_type": "stream",
     "text": [
      "Iteration : 14 \n",
      " , Train Loss : 158.6466941833496 \n",
      ", Test Acc : 46.75275802612305 \n",
      "\n"
     ]
    },
    {
     "name": "stderr",
     "output_type": "stream",
     "text": []
    },
    {
     "name": "stdout",
     "output_type": "stream",
     "text": [
      "Iteration : 16 \n",
      " , Train Loss : 205.2360725402832 \n",
      ", Test Acc : 55.33034133911133 \n",
      "\n"
     ]
    },
    {
     "name": "stderr",
     "output_type": "stream",
     "text": []
    },
    {
     "name": "stdout",
     "output_type": "stream",
     "text": [
      "Iteration : 18 \n",
      " , Train Loss : 114.41537570953369 \n",
      ", Test Acc : 68.3215103149414 \n",
      "\n"
     ]
    },
    {
     "name": "stderr",
     "output_type": "stream",
     "text": [
      "100%|██████████| 20/20 [00:11<00:00,  1.73it/s]\n",
      " 14%|█▍        | 22/157 [03:34<23:03, 10.25s/it]"
     ]
    },
    {
     "name": "stdout",
     "output_type": "stream",
     "text": [
      "Iteration : 19 \n",
      " , Train Loss : 89.03614616394043 \n",
      ", Test Acc : 68.32501983642578 \n",
      "\n"
     ]
    },
    {
     "name": "stderr",
     "output_type": "stream",
     "text": []
    },
    {
     "name": "stdout",
     "output_type": "stream",
     "text": [
      "Iteration : 0 \n",
      " , Train Loss : 169.26185417175293 \n",
      ", Test Acc : 20.118350982666016 \n",
      "\n"
     ]
    },
    {
     "name": "stderr",
     "output_type": "stream",
     "text": []
    },
    {
     "name": "stdout",
     "output_type": "stream",
     "text": [
      "Iteration : 2 \n",
      " , Train Loss : 637.6788711547852 \n",
      ", Test Acc : 18.032230377197266 \n",
      "\n"
     ]
    },
    {
     "name": "stderr",
     "output_type": "stream",
     "text": []
    },
    {
     "name": "stdout",
     "output_type": "stream",
     "text": [
      "Iteration : 4 \n",
      " , Train Loss : 785.1585998535156 \n",
      ", Test Acc : 22.598312377929688 \n",
      "\n"
     ]
    },
    {
     "name": "stderr",
     "output_type": "stream",
     "text": []
    },
    {
     "name": "stdout",
     "output_type": "stream",
     "text": [
      "Iteration : 6 \n",
      " , Train Loss : 564.7854232788086 \n",
      ", Test Acc : 25.69414710998535 \n",
      "\n"
     ]
    },
    {
     "name": "stderr",
     "output_type": "stream",
     "text": []
    },
    {
     "name": "stdout",
     "output_type": "stream",
     "text": [
      "Iteration : 8 \n",
      " , Train Loss : 587.5071182250977 \n",
      ", Test Acc : 28.574296951293945 \n",
      "\n"
     ]
    },
    {
     "name": "stderr",
     "output_type": "stream",
     "text": []
    },
    {
     "name": "stdout",
     "output_type": "stream",
     "text": [
      "Iteration : 10 \n",
      " , Train Loss : 264.37068939208984 \n",
      ", Test Acc : 45.156253814697266 \n",
      "\n"
     ]
    },
    {
     "name": "stderr",
     "output_type": "stream",
     "text": []
    },
    {
     "name": "stdout",
     "output_type": "stream",
     "text": [
      "Iteration : 12 \n",
      " , Train Loss : 164.0210132598877 \n",
      ", Test Acc : 43.88547897338867 \n",
      "\n"
     ]
    },
    {
     "name": "stderr",
     "output_type": "stream",
     "text": []
    },
    {
     "name": "stdout",
     "output_type": "stream",
     "text": [
      "Iteration : 14 \n",
      " , Train Loss : 208.53916358947754 \n",
      ", Test Acc : 47.80691146850586 \n",
      "\n"
     ]
    },
    {
     "name": "stderr",
     "output_type": "stream",
     "text": []
    },
    {
     "name": "stdout",
     "output_type": "stream",
     "text": [
      "Iteration : 16 \n",
      " , Train Loss : 192.76157188415527 \n",
      ", Test Acc : 53.091617584228516 \n",
      "\n"
     ]
    },
    {
     "name": "stderr",
     "output_type": "stream",
     "text": []
    },
    {
     "name": "stdout",
     "output_type": "stream",
     "text": [
      "Iteration : 18 \n",
      " , Train Loss : 169.28280448913574 \n",
      ", Test Acc : 54.091827392578125 \n",
      "\n"
     ]
    },
    {
     "name": "stderr",
     "output_type": "stream",
     "text": [
      "100%|██████████| 20/20 [00:07<00:00,  2.67it/s]\n",
      " 15%|█▍        | 23/157 [03:41<21:03,  9.43s/it]"
     ]
    },
    {
     "name": "stdout",
     "output_type": "stream",
     "text": [
      "Iteration : 19 \n",
      " , Train Loss : 172.1941032409668 \n",
      ", Test Acc : 53.188663482666016 \n",
      "\n"
     ]
    },
    {
     "name": "stderr",
     "output_type": "stream",
     "text": []
    },
    {
     "name": "stdout",
     "output_type": "stream",
     "text": [
      "Iteration : 0 \n",
      " , Train Loss : 171.76344871520996 \n",
      ", Test Acc : 24.135345458984375 \n",
      "\n"
     ]
    },
    {
     "name": "stderr",
     "output_type": "stream",
     "text": []
    },
    {
     "name": "stdout",
     "output_type": "stream",
     "text": [
      "Iteration : 2 \n",
      " , Train Loss : 762.2372589111328 \n",
      ", Test Acc : 28.030685424804688 \n",
      "\n"
     ]
    },
    {
     "name": "stderr",
     "output_type": "stream",
     "text": []
    },
    {
     "name": "stdout",
     "output_type": "stream",
     "text": [
      "Iteration : 4 \n",
      " , Train Loss : 825.3479309082031 \n",
      ", Test Acc : 31.370668411254883 \n",
      "\n"
     ]
    },
    {
     "name": "stderr",
     "output_type": "stream",
     "text": []
    },
    {
     "name": "stdout",
     "output_type": "stream",
     "text": [
      "Iteration : 6 \n",
      " , Train Loss : 560.8532638549805 \n",
      ", Test Acc : 29.405603408813477 \n",
      "\n"
     ]
    },
    {
     "name": "stderr",
     "output_type": "stream",
     "text": []
    },
    {
     "name": "stdout",
     "output_type": "stream",
     "text": [
      "Iteration : 8 \n",
      " , Train Loss : 186.05122566223145 \n",
      ", Test Acc : 43.08542251586914 \n",
      "\n"
     ]
    },
    {
     "name": "stderr",
     "output_type": "stream",
     "text": []
    },
    {
     "name": "stdout",
     "output_type": "stream",
     "text": [
      "Iteration : 10 \n",
      " , Train Loss : 214.74471282958984 \n",
      ", Test Acc : 45.46274948120117 \n",
      "\n"
     ]
    },
    {
     "name": "stderr",
     "output_type": "stream",
     "text": []
    },
    {
     "name": "stdout",
     "output_type": "stream",
     "text": [
      "Iteration : 12 \n",
      " , Train Loss : 266.86175537109375 \n",
      ", Test Acc : 45.1174201965332 \n",
      "\n"
     ]
    },
    {
     "name": "stderr",
     "output_type": "stream",
     "text": []
    },
    {
     "name": "stdout",
     "output_type": "stream",
     "text": [
      "Iteration : 14 \n",
      " , Train Loss : 171.69912338256836 \n",
      ", Test Acc : 55.59553909301758 \n",
      "\n"
     ]
    },
    {
     "name": "stderr",
     "output_type": "stream",
     "text": []
    },
    {
     "name": "stdout",
     "output_type": "stream",
     "text": [
      "Iteration : 16 \n",
      " , Train Loss : 103.96247959136963 \n",
      ", Test Acc : 64.25597381591797 \n",
      "\n"
     ]
    },
    {
     "name": "stderr",
     "output_type": "stream",
     "text": []
    },
    {
     "name": "stdout",
     "output_type": "stream",
     "text": [
      "Iteration : 18 \n",
      " , Train Loss : 111.91498756408691 \n",
      ", Test Acc : 59.60200500488281 \n",
      "\n"
     ]
    },
    {
     "name": "stderr",
     "output_type": "stream",
     "text": [
      "100%|██████████| 20/20 [00:09<00:00,  2.14it/s]\n",
      " 15%|█▌        | 24/157 [03:51<20:51,  9.41s/it]"
     ]
    },
    {
     "name": "stdout",
     "output_type": "stream",
     "text": [
      "Iteration : 19 \n",
      " , Train Loss : 127.91413402557373 \n",
      ", Test Acc : 61.04738998413086 \n",
      "\n"
     ]
    },
    {
     "name": "stderr",
     "output_type": "stream",
     "text": []
    },
    {
     "name": "stdout",
     "output_type": "stream",
     "text": [
      "Iteration : 0 \n",
      " , Train Loss : 179.57912254333496 \n",
      ", Test Acc : 17.541101455688477 \n",
      "\n"
     ]
    },
    {
     "name": "stderr",
     "output_type": "stream",
     "text": []
    },
    {
     "name": "stdout",
     "output_type": "stream",
     "text": [
      "Iteration : 2 \n",
      " , Train Loss : 792.3453750610352 \n",
      ", Test Acc : 30.37781524658203 \n",
      "\n"
     ]
    },
    {
     "name": "stderr",
     "output_type": "stream",
     "text": []
    },
    {
     "name": "stdout",
     "output_type": "stream",
     "text": [
      "Iteration : 4 \n",
      " , Train Loss : 850.3329010009766 \n",
      ", Test Acc : 23.08024024963379 \n",
      "\n"
     ]
    },
    {
     "name": "stderr",
     "output_type": "stream",
     "text": []
    },
    {
     "name": "stdout",
     "output_type": "stream",
     "text": [
      "Iteration : 6 \n",
      " , Train Loss : 690.229606628418 \n",
      ", Test Acc : 31.995140075683594 \n",
      "\n"
     ]
    },
    {
     "name": "stderr",
     "output_type": "stream",
     "text": []
    },
    {
     "name": "stdout",
     "output_type": "stream",
     "text": [
      "Iteration : 8 \n",
      " , Train Loss : 327.4934883117676 \n",
      ", Test Acc : 29.62627410888672 \n",
      "\n"
     ]
    },
    {
     "name": "stderr",
     "output_type": "stream",
     "text": []
    },
    {
     "name": "stdout",
     "output_type": "stream",
     "text": [
      "Iteration : 10 \n",
      " , Train Loss : 275.19279861450195 \n",
      ", Test Acc : 49.47945022583008 \n",
      "\n"
     ]
    },
    {
     "name": "stderr",
     "output_type": "stream",
     "text": []
    },
    {
     "name": "stdout",
     "output_type": "stream",
     "text": [
      "Iteration : 12 \n",
      " , Train Loss : 296.39460372924805 \n",
      ", Test Acc : 38.165897369384766 \n",
      "\n"
     ]
    },
    {
     "name": "stderr",
     "output_type": "stream",
     "text": []
    },
    {
     "name": "stdout",
     "output_type": "stream",
     "text": [
      "Iteration : 14 \n",
      " , Train Loss : 326.1756401062012 \n",
      ", Test Acc : 47.00245666503906 \n",
      "\n"
     ]
    },
    {
     "name": "stderr",
     "output_type": "stream",
     "text": []
    },
    {
     "name": "stdout",
     "output_type": "stream",
     "text": [
      "Iteration : 16 \n",
      " , Train Loss : 213.3390293121338 \n",
      ", Test Acc : 54.1580696105957 \n",
      "\n"
     ]
    },
    {
     "name": "stderr",
     "output_type": "stream",
     "text": []
    },
    {
     "name": "stdout",
     "output_type": "stream",
     "text": [
      "Iteration : 18 \n",
      " , Train Loss : 129.9226541519165 \n",
      ", Test Acc : 55.016571044921875 \n",
      "\n"
     ]
    },
    {
     "name": "stderr",
     "output_type": "stream",
     "text": [
      "100%|██████████| 20/20 [00:07<00:00,  2.83it/s]\n",
      " 16%|█▌        | 25/157 [03:58<19:10,  8.72s/it]"
     ]
    },
    {
     "name": "stdout",
     "output_type": "stream",
     "text": [
      "Iteration : 19 \n",
      " , Train Loss : 130.50845336914062 \n",
      ", Test Acc : 51.92033004760742 \n",
      "\n"
     ]
    },
    {
     "name": "stderr",
     "output_type": "stream",
     "text": []
    },
    {
     "name": "stdout",
     "output_type": "stream",
     "text": [
      "Iteration : 0 \n",
      " , Train Loss : 197.00976181030273 \n",
      ", Test Acc : 14.58798885345459 \n",
      "\n"
     ]
    },
    {
     "name": "stderr",
     "output_type": "stream",
     "text": []
    },
    {
     "name": "stdout",
     "output_type": "stream",
     "text": [
      "Iteration : 2 \n",
      " , Train Loss : 671.2632522583008 \n",
      ", Test Acc : 19.47368621826172 \n",
      "\n"
     ]
    },
    {
     "name": "stderr",
     "output_type": "stream",
     "text": []
    },
    {
     "name": "stdout",
     "output_type": "stream",
     "text": [
      "Iteration : 4 \n",
      " , Train Loss : 801.3624725341797 \n",
      ", Test Acc : 29.579130172729492 \n",
      "\n"
     ]
    },
    {
     "name": "stderr",
     "output_type": "stream",
     "text": []
    },
    {
     "name": "stdout",
     "output_type": "stream",
     "text": [
      "Iteration : 6 \n",
      " , Train Loss : 625.9630126953125 \n",
      ", Test Acc : 31.7894344329834 \n",
      "\n"
     ]
    },
    {
     "name": "stderr",
     "output_type": "stream",
     "text": []
    },
    {
     "name": "stdout",
     "output_type": "stream",
     "text": [
      "Iteration : 8 \n",
      " , Train Loss : 392.37155532836914 \n",
      ", Test Acc : 40.5142822265625 \n",
      "\n"
     ]
    },
    {
     "name": "stderr",
     "output_type": "stream",
     "text": []
    },
    {
     "name": "stdout",
     "output_type": "stream",
     "text": [
      "Iteration : 10 \n",
      " , Train Loss : 244.9303321838379 \n",
      ", Test Acc : 33.54159164428711 \n",
      "\n"
     ]
    },
    {
     "name": "stderr",
     "output_type": "stream",
     "text": []
    },
    {
     "name": "stdout",
     "output_type": "stream",
     "text": [
      "Iteration : 12 \n",
      " , Train Loss : 161.8487720489502 \n",
      ", Test Acc : 48.287445068359375 \n",
      "\n"
     ]
    },
    {
     "name": "stderr",
     "output_type": "stream",
     "text": []
    },
    {
     "name": "stdout",
     "output_type": "stream",
     "text": [
      "Iteration : 14 \n",
      " , Train Loss : 144.89350605010986 \n",
      ", Test Acc : 47.735382080078125 \n",
      "\n"
     ]
    },
    {
     "name": "stderr",
     "output_type": "stream",
     "text": []
    },
    {
     "name": "stdout",
     "output_type": "stream",
     "text": [
      "Iteration : 16 \n",
      " , Train Loss : 215.57788753509521 \n",
      ", Test Acc : 53.079071044921875 \n",
      "\n"
     ]
    },
    {
     "name": "stderr",
     "output_type": "stream",
     "text": []
    },
    {
     "name": "stdout",
     "output_type": "stream",
     "text": [
      "Iteration : 18 \n",
      " , Train Loss : 111.47648429870605 \n",
      ", Test Acc : 59.226531982421875 \n",
      "\n"
     ]
    },
    {
     "name": "stderr",
     "output_type": "stream",
     "text": [
      "100%|██████████| 20/20 [00:06<00:00,  3.19it/s]\n",
      " 17%|█▋        | 26/157 [04:04<17:26,  7.99s/it]"
     ]
    },
    {
     "name": "stdout",
     "output_type": "stream",
     "text": [
      "Iteration : 19 \n",
      " , Train Loss : 87.72081518173218 \n",
      ", Test Acc : 58.043575286865234 \n",
      "\n"
     ]
    },
    {
     "name": "stderr",
     "output_type": "stream",
     "text": []
    },
    {
     "name": "stdout",
     "output_type": "stream",
     "text": [
      "Iteration : 0 \n",
      " , Train Loss : 179.730073928833 \n",
      ", Test Acc : 16.181798934936523 \n",
      "\n"
     ]
    },
    {
     "name": "stderr",
     "output_type": "stream",
     "text": []
    },
    {
     "name": "stdout",
     "output_type": "stream",
     "text": [
      "Iteration : 2 \n",
      " , Train Loss : 786.2763748168945 \n",
      ", Test Acc : 17.627626419067383 \n",
      "\n"
     ]
    },
    {
     "name": "stderr",
     "output_type": "stream",
     "text": []
    },
    {
     "name": "stdout",
     "output_type": "stream",
     "text": [
      "Iteration : 4 \n",
      " , Train Loss : 691.0909576416016 \n",
      ", Test Acc : 28.621652603149414 \n",
      "\n"
     ]
    },
    {
     "name": "stderr",
     "output_type": "stream",
     "text": []
    },
    {
     "name": "stdout",
     "output_type": "stream",
     "text": [
      "Iteration : 6 \n",
      " , Train Loss : 593.9508285522461 \n",
      ", Test Acc : 33.6236457824707 \n",
      "\n"
     ]
    },
    {
     "name": "stderr",
     "output_type": "stream",
     "text": []
    },
    {
     "name": "stdout",
     "output_type": "stream",
     "text": [
      "Iteration : 8 \n",
      " , Train Loss : 424.2372856140137 \n",
      ", Test Acc : 39.50196838378906 \n",
      "\n"
     ]
    },
    {
     "name": "stderr",
     "output_type": "stream",
     "text": []
    },
    {
     "name": "stdout",
     "output_type": "stream",
     "text": [
      "Iteration : 10 \n",
      " , Train Loss : 350.6700859069824 \n",
      ", Test Acc : 37.28107833862305 \n",
      "\n"
     ]
    },
    {
     "name": "stderr",
     "output_type": "stream",
     "text": []
    },
    {
     "name": "stdout",
     "output_type": "stream",
     "text": [
      "Iteration : 12 \n",
      " , Train Loss : 229.83644676208496 \n",
      ", Test Acc : 43.89633560180664 \n",
      "\n"
     ]
    },
    {
     "name": "stderr",
     "output_type": "stream",
     "text": []
    },
    {
     "name": "stdout",
     "output_type": "stream",
     "text": [
      "Iteration : 14 \n",
      " , Train Loss : 193.52108001708984 \n",
      ", Test Acc : 47.478031158447266 \n",
      "\n"
     ]
    },
    {
     "name": "stderr",
     "output_type": "stream",
     "text": []
    },
    {
     "name": "stdout",
     "output_type": "stream",
     "text": [
      "Iteration : 16 \n",
      " , Train Loss : 195.7264060974121 \n",
      ", Test Acc : 46.50840377807617 \n",
      "\n"
     ]
    },
    {
     "name": "stderr",
     "output_type": "stream",
     "text": []
    },
    {
     "name": "stdout",
     "output_type": "stream",
     "text": [
      "Iteration : 18 \n",
      " , Train Loss : 172.81948280334473 \n",
      ", Test Acc : 53.13467788696289 \n",
      "\n"
     ]
    },
    {
     "name": "stderr",
     "output_type": "stream",
     "text": [
      "100%|██████████| 20/20 [00:07<00:00,  2.67it/s]\n",
      " 17%|█▋        | 27/157 [04:12<17:00,  7.85s/it]"
     ]
    },
    {
     "name": "stdout",
     "output_type": "stream",
     "text": [
      "Iteration : 19 \n",
      " , Train Loss : 143.60619163513184 \n",
      ", Test Acc : 51.07844543457031 \n",
      "\n"
     ]
    },
    {
     "name": "stderr",
     "output_type": "stream",
     "text": []
    },
    {
     "name": "stdout",
     "output_type": "stream",
     "text": [
      "Iteration : 0 \n",
      " , Train Loss : 184.30012321472168 \n",
      ", Test Acc : 11.880906105041504 \n",
      "\n"
     ]
    },
    {
     "name": "stderr",
     "output_type": "stream",
     "text": []
    },
    {
     "name": "stdout",
     "output_type": "stream",
     "text": [
      "Iteration : 2 \n",
      " , Train Loss : 740.2768402099609 \n",
      ", Test Acc : 16.904640197753906 \n",
      "\n"
     ]
    },
    {
     "name": "stderr",
     "output_type": "stream",
     "text": []
    },
    {
     "name": "stdout",
     "output_type": "stream",
     "text": [
      "Iteration : 4 \n",
      " , Train Loss : 950.8116302490234 \n",
      ", Test Acc : 19.44770622253418 \n",
      "\n"
     ]
    },
    {
     "name": "stderr",
     "output_type": "stream",
     "text": []
    },
    {
     "name": "stdout",
     "output_type": "stream",
     "text": [
      "Iteration : 6 \n",
      " , Train Loss : 701.6249694824219 \n",
      ", Test Acc : 30.70381736755371 \n",
      "\n"
     ]
    },
    {
     "name": "stderr",
     "output_type": "stream",
     "text": []
    },
    {
     "name": "stdout",
     "output_type": "stream",
     "text": [
      "Iteration : 8 \n",
      " , Train Loss : 545.8868942260742 \n",
      ", Test Acc : 32.03916549682617 \n",
      "\n"
     ]
    },
    {
     "name": "stderr",
     "output_type": "stream",
     "text": []
    },
    {
     "name": "stdout",
     "output_type": "stream",
     "text": [
      "Iteration : 10 \n",
      " , Train Loss : 400.15735626220703 \n",
      ", Test Acc : 40.70413589477539 \n",
      "\n"
     ]
    },
    {
     "name": "stderr",
     "output_type": "stream",
     "text": []
    },
    {
     "name": "stdout",
     "output_type": "stream",
     "text": [
      "Iteration : 12 \n",
      " , Train Loss : 200.70121383666992 \n",
      ", Test Acc : 43.96982955932617 \n",
      "\n"
     ]
    },
    {
     "name": "stderr",
     "output_type": "stream",
     "text": []
    },
    {
     "name": "stdout",
     "output_type": "stream",
     "text": [
      "Iteration : 14 \n",
      " , Train Loss : 261.3997802734375 \n",
      ", Test Acc : 44.00192642211914 \n",
      "\n"
     ]
    },
    {
     "name": "stderr",
     "output_type": "stream",
     "text": []
    },
    {
     "name": "stdout",
     "output_type": "stream",
     "text": [
      "Iteration : 16 \n",
      " , Train Loss : 201.79749298095703 \n",
      ", Test Acc : 46.78254318237305 \n",
      "\n"
     ]
    },
    {
     "name": "stderr",
     "output_type": "stream",
     "text": []
    },
    {
     "name": "stdout",
     "output_type": "stream",
     "text": [
      "Iteration : 18 \n",
      " , Train Loss : 184.24177932739258 \n",
      ", Test Acc : 49.5573616027832 \n",
      "\n"
     ]
    },
    {
     "name": "stderr",
     "output_type": "stream",
     "text": [
      "100%|██████████| 20/20 [00:07<00:00,  2.76it/s]\n",
      " 18%|█▊        | 28/157 [04:19<16:30,  7.68s/it]"
     ]
    },
    {
     "name": "stdout",
     "output_type": "stream",
     "text": [
      "Iteration : 19 \n",
      " , Train Loss : 156.81582832336426 \n",
      ", Test Acc : 53.80928421020508 \n",
      "\n"
     ]
    },
    {
     "name": "stderr",
     "output_type": "stream",
     "text": []
    },
    {
     "name": "stdout",
     "output_type": "stream",
     "text": [
      "Iteration : 0 \n",
      " , Train Loss : 175.67685317993164 \n",
      ", Test Acc : 16.47174072265625 \n",
      "\n"
     ]
    },
    {
     "name": "stderr",
     "output_type": "stream",
     "text": []
    },
    {
     "name": "stdout",
     "output_type": "stream",
     "text": [
      "Iteration : 2 \n",
      " , Train Loss : 710.7183227539062 \n",
      ", Test Acc : 27.14853858947754 \n",
      "\n"
     ]
    },
    {
     "name": "stderr",
     "output_type": "stream",
     "text": []
    },
    {
     "name": "stdout",
     "output_type": "stream",
     "text": [
      "Iteration : 4 \n",
      " , Train Loss : 984.8221435546875 \n",
      ", Test Acc : 24.636171340942383 \n",
      "\n"
     ]
    },
    {
     "name": "stderr",
     "output_type": "stream",
     "text": []
    },
    {
     "name": "stdout",
     "output_type": "stream",
     "text": [
      "Iteration : 6 \n",
      " , Train Loss : 671.5791702270508 \n",
      ", Test Acc : 25.460573196411133 \n",
      "\n"
     ]
    },
    {
     "name": "stderr",
     "output_type": "stream",
     "text": []
    },
    {
     "name": "stdout",
     "output_type": "stream",
     "text": [
      "Iteration : 8 \n",
      " , Train Loss : 436.89501571655273 \n",
      ", Test Acc : 33.869441986083984 \n",
      "\n"
     ]
    },
    {
     "name": "stderr",
     "output_type": "stream",
     "text": []
    },
    {
     "name": "stdout",
     "output_type": "stream",
     "text": [
      "Iteration : 10 \n",
      " , Train Loss : 240.986722946167 \n",
      ", Test Acc : 52.42471694946289 \n",
      "\n"
     ]
    },
    {
     "name": "stderr",
     "output_type": "stream",
     "text": []
    },
    {
     "name": "stdout",
     "output_type": "stream",
     "text": [
      "Iteration : 12 \n",
      " , Train Loss : 148.29045867919922 \n",
      ", Test Acc : 50.25526428222656 \n",
      "\n"
     ]
    },
    {
     "name": "stderr",
     "output_type": "stream",
     "text": []
    },
    {
     "name": "stdout",
     "output_type": "stream",
     "text": [
      "Iteration : 14 \n",
      " , Train Loss : 253.27057266235352 \n",
      ", Test Acc : 39.81477737426758 \n",
      "\n"
     ]
    },
    {
     "name": "stderr",
     "output_type": "stream",
     "text": []
    },
    {
     "name": "stdout",
     "output_type": "stream",
     "text": [
      "Iteration : 16 \n",
      " , Train Loss : 219.09999656677246 \n",
      ", Test Acc : 51.93583297729492 \n",
      "\n"
     ]
    },
    {
     "name": "stderr",
     "output_type": "stream",
     "text": []
    },
    {
     "name": "stdout",
     "output_type": "stream",
     "text": [
      "Iteration : 18 \n",
      " , Train Loss : 157.59685516357422 \n",
      ", Test Acc : 57.126068115234375 \n",
      "\n"
     ]
    },
    {
     "name": "stderr",
     "output_type": "stream",
     "text": [
      "100%|██████████| 20/20 [00:06<00:00,  3.02it/s]\n",
      " 18%|█▊        | 29/157 [04:25<15:43,  7.37s/it]"
     ]
    },
    {
     "name": "stdout",
     "output_type": "stream",
     "text": [
      "Iteration : 19 \n",
      " , Train Loss : 131.5640697479248 \n",
      ", Test Acc : 59.024784088134766 \n",
      "\n"
     ]
    },
    {
     "name": "stderr",
     "output_type": "stream",
     "text": []
    },
    {
     "name": "stdout",
     "output_type": "stream",
     "text": [
      "Iteration : 0 \n",
      " , Train Loss : 169.82996368408203 \n",
      ", Test Acc : 18.395204544067383 \n",
      "\n"
     ]
    },
    {
     "name": "stderr",
     "output_type": "stream",
     "text": []
    },
    {
     "name": "stdout",
     "output_type": "stream",
     "text": [
      "Iteration : 2 \n",
      " , Train Loss : 644.7605361938477 \n",
      ", Test Acc : 21.49416160583496 \n",
      "\n"
     ]
    },
    {
     "name": "stderr",
     "output_type": "stream",
     "text": []
    },
    {
     "name": "stdout",
     "output_type": "stream",
     "text": [
      "Iteration : 4 \n",
      " , Train Loss : 758.0554809570312 \n",
      ", Test Acc : 28.040712356567383 \n",
      "\n"
     ]
    },
    {
     "name": "stderr",
     "output_type": "stream",
     "text": []
    },
    {
     "name": "stdout",
     "output_type": "stream",
     "text": [
      "Iteration : 6 \n",
      " , Train Loss : 573.4419784545898 \n",
      ", Test Acc : 34.74015426635742 \n",
      "\n"
     ]
    },
    {
     "name": "stderr",
     "output_type": "stream",
     "text": []
    },
    {
     "name": "stdout",
     "output_type": "stream",
     "text": [
      "Iteration : 8 \n",
      " , Train Loss : 350.1703567504883 \n",
      ", Test Acc : 46.25310134887695 \n",
      "\n"
     ]
    },
    {
     "name": "stderr",
     "output_type": "stream",
     "text": []
    },
    {
     "name": "stdout",
     "output_type": "stream",
     "text": [
      "Iteration : 10 \n",
      " , Train Loss : 217.624906539917 \n",
      ", Test Acc : 44.55513000488281 \n",
      "\n"
     ]
    },
    {
     "name": "stderr",
     "output_type": "stream",
     "text": []
    },
    {
     "name": "stdout",
     "output_type": "stream",
     "text": [
      "Iteration : 12 \n",
      " , Train Loss : 311.22522735595703 \n",
      ", Test Acc : 42.5265007019043 \n",
      "\n"
     ]
    },
    {
     "name": "stderr",
     "output_type": "stream",
     "text": []
    },
    {
     "name": "stdout",
     "output_type": "stream",
     "text": [
      "Iteration : 14 \n",
      " , Train Loss : 221.2663402557373 \n",
      ", Test Acc : 53.11717224121094 \n",
      "\n"
     ]
    },
    {
     "name": "stderr",
     "output_type": "stream",
     "text": []
    },
    {
     "name": "stdout",
     "output_type": "stream",
     "text": [
      "Iteration : 16 \n",
      " , Train Loss : 143.46221923828125 \n",
      ", Test Acc : 60.715511322021484 \n",
      "\n"
     ]
    },
    {
     "name": "stderr",
     "output_type": "stream",
     "text": []
    },
    {
     "name": "stdout",
     "output_type": "stream",
     "text": [
      "Iteration : 18 \n",
      " , Train Loss : 157.40223693847656 \n",
      ", Test Acc : 55.5566520690918 \n",
      "\n"
     ]
    },
    {
     "name": "stderr",
     "output_type": "stream",
     "text": [
      "100%|██████████| 20/20 [00:06<00:00,  2.88it/s]\n",
      " 19%|█▉        | 30/157 [04:32<15:20,  7.25s/it]"
     ]
    },
    {
     "name": "stdout",
     "output_type": "stream",
     "text": [
      "Iteration : 19 \n",
      " , Train Loss : 168.48406219482422 \n",
      ", Test Acc : 57.07157516479492 \n",
      "\n"
     ]
    },
    {
     "name": "stderr",
     "output_type": "stream",
     "text": []
    },
    {
     "name": "stdout",
     "output_type": "stream",
     "text": [
      "Iteration : 0 \n",
      " , Train Loss : 173.45055389404297 \n",
      ", Test Acc : 21.19783592224121 \n",
      "\n"
     ]
    },
    {
     "name": "stderr",
     "output_type": "stream",
     "text": []
    },
    {
     "name": "stdout",
     "output_type": "stream",
     "text": [
      "Iteration : 2 \n",
      " , Train Loss : 670.6597290039062 \n",
      ", Test Acc : 27.577606201171875 \n",
      "\n"
     ]
    },
    {
     "name": "stderr",
     "output_type": "stream",
     "text": []
    },
    {
     "name": "stdout",
     "output_type": "stream",
     "text": [
      "Iteration : 4 \n",
      " , Train Loss : 807.2057189941406 \n",
      ", Test Acc : 34.44624328613281 \n",
      "\n"
     ]
    },
    {
     "name": "stderr",
     "output_type": "stream",
     "text": []
    },
    {
     "name": "stdout",
     "output_type": "stream",
     "text": [
      "Iteration : 6 \n",
      " , Train Loss : 647.7279357910156 \n",
      ", Test Acc : 37.27470779418945 \n",
      "\n"
     ]
    },
    {
     "name": "stderr",
     "output_type": "stream",
     "text": []
    },
    {
     "name": "stdout",
     "output_type": "stream",
     "text": [
      "Iteration : 8 \n",
      " , Train Loss : 282.5572395324707 \n",
      ", Test Acc : 42.742008209228516 \n",
      "\n"
     ]
    },
    {
     "name": "stderr",
     "output_type": "stream",
     "text": []
    },
    {
     "name": "stdout",
     "output_type": "stream",
     "text": [
      "Iteration : 10 \n",
      " , Train Loss : 212.14756393432617 \n",
      ", Test Acc : 46.730464935302734 \n",
      "\n"
     ]
    },
    {
     "name": "stderr",
     "output_type": "stream",
     "text": []
    },
    {
     "name": "stdout",
     "output_type": "stream",
     "text": [
      "Iteration : 12 \n",
      " , Train Loss : 177.2492446899414 \n",
      ", Test Acc : 47.93576431274414 \n",
      "\n"
     ]
    },
    {
     "name": "stderr",
     "output_type": "stream",
     "text": []
    },
    {
     "name": "stdout",
     "output_type": "stream",
     "text": [
      "Iteration : 14 \n",
      " , Train Loss : 231.08661270141602 \n",
      ", Test Acc : 47.2841911315918 \n",
      "\n"
     ]
    },
    {
     "name": "stderr",
     "output_type": "stream",
     "text": []
    },
    {
     "name": "stdout",
     "output_type": "stream",
     "text": [
      "Iteration : 16 \n",
      " , Train Loss : 157.93947887420654 \n",
      ", Test Acc : 64.40950012207031 \n",
      "\n"
     ]
    },
    {
     "name": "stderr",
     "output_type": "stream",
     "text": []
    },
    {
     "name": "stdout",
     "output_type": "stream",
     "text": [
      "Iteration : 18 \n",
      " , Train Loss : 95.36792469024658 \n",
      ", Test Acc : 62.36466598510742 \n",
      "\n"
     ]
    },
    {
     "name": "stderr",
     "output_type": "stream",
     "text": [
      "100%|██████████| 20/20 [00:09<00:00,  2.09it/s]\n",
      " 20%|█▉        | 31/157 [04:42<16:41,  7.95s/it]"
     ]
    },
    {
     "name": "stdout",
     "output_type": "stream",
     "text": [
      "Iteration : 19 \n",
      " , Train Loss : 112.93249320983887 \n",
      ", Test Acc : 61.04024124145508 \n",
      "\n"
     ]
    },
    {
     "name": "stderr",
     "output_type": "stream",
     "text": []
    },
    {
     "name": "stdout",
     "output_type": "stream",
     "text": [
      "Iteration : 0 \n",
      " , Train Loss : 176.76238250732422 \n",
      ", Test Acc : 20.216215133666992 \n",
      "\n"
     ]
    },
    {
     "name": "stderr",
     "output_type": "stream",
     "text": []
    },
    {
     "name": "stdout",
     "output_type": "stream",
     "text": [
      "Iteration : 2 \n",
      " , Train Loss : 742.6587066650391 \n",
      ", Test Acc : 26.478422164916992 \n",
      "\n"
     ]
    },
    {
     "name": "stderr",
     "output_type": "stream",
     "text": []
    },
    {
     "name": "stdout",
     "output_type": "stream",
     "text": [
      "Iteration : 4 \n",
      " , Train Loss : 655.7884140014648 \n",
      ", Test Acc : 37.60691452026367 \n",
      "\n"
     ]
    },
    {
     "name": "stderr",
     "output_type": "stream",
     "text": []
    },
    {
     "name": "stdout",
     "output_type": "stream",
     "text": [
      "Iteration : 6 \n",
      " , Train Loss : 495.69923400878906 \n",
      ", Test Acc : 38.114559173583984 \n",
      "\n"
     ]
    },
    {
     "name": "stderr",
     "output_type": "stream",
     "text": []
    },
    {
     "name": "stdout",
     "output_type": "stream",
     "text": [
      "Iteration : 8 \n",
      " , Train Loss : 328.531982421875 \n",
      ", Test Acc : 52.54243850708008 \n",
      "\n"
     ]
    },
    {
     "name": "stderr",
     "output_type": "stream",
     "text": []
    },
    {
     "name": "stdout",
     "output_type": "stream",
     "text": [
      "Iteration : 10 \n",
      " , Train Loss : 328.75760650634766 \n",
      ", Test Acc : 44.45378494262695 \n",
      "\n"
     ]
    },
    {
     "name": "stderr",
     "output_type": "stream",
     "text": []
    },
    {
     "name": "stdout",
     "output_type": "stream",
     "text": [
      "Iteration : 12 \n",
      " , Train Loss : 253.78891944885254 \n",
      ", Test Acc : 58.485626220703125 \n",
      "\n"
     ]
    },
    {
     "name": "stderr",
     "output_type": "stream",
     "text": []
    },
    {
     "name": "stdout",
     "output_type": "stream",
     "text": [
      "Iteration : 14 \n",
      " , Train Loss : 142.54731845855713 \n",
      ", Test Acc : 58.05025863647461 \n",
      "\n"
     ]
    },
    {
     "name": "stderr",
     "output_type": "stream",
     "text": []
    },
    {
     "name": "stdout",
     "output_type": "stream",
     "text": [
      "Iteration : 16 \n",
      " , Train Loss : 132.60346031188965 \n",
      ", Test Acc : 59.87857437133789 \n",
      "\n"
     ]
    },
    {
     "name": "stderr",
     "output_type": "stream",
     "text": []
    },
    {
     "name": "stdout",
     "output_type": "stream",
     "text": [
      "Iteration : 18 \n",
      " , Train Loss : 165.30454635620117 \n",
      ", Test Acc : 59.264827728271484 \n",
      "\n"
     ]
    },
    {
     "name": "stderr",
     "output_type": "stream",
     "text": [
      "100%|██████████| 20/20 [00:09<00:00,  2.06it/s]\n",
      " 20%|██        | 32/157 [04:52<17:41,  8.49s/it]"
     ]
    },
    {
     "name": "stdout",
     "output_type": "stream",
     "text": [
      "Iteration : 19 \n",
      " , Train Loss : 168.06496334075928 \n",
      ", Test Acc : 61.434173583984375 \n",
      "\n"
     ]
    },
    {
     "name": "stderr",
     "output_type": "stream",
     "text": []
    },
    {
     "name": "stdout",
     "output_type": "stream",
     "text": [
      "Iteration : 0 \n",
      " , Train Loss : 239.57090759277344 \n",
      ", Test Acc : 20.851945877075195 \n",
      "\n"
     ]
    },
    {
     "name": "stderr",
     "output_type": "stream",
     "text": []
    },
    {
     "name": "stdout",
     "output_type": "stream",
     "text": [
      "Iteration : 2 \n",
      " , Train Loss : 623.9209365844727 \n",
      ", Test Acc : 27.865869522094727 \n",
      "\n"
     ]
    },
    {
     "name": "stderr",
     "output_type": "stream",
     "text": []
    },
    {
     "name": "stdout",
     "output_type": "stream",
     "text": [
      "Iteration : 4 \n",
      " , Train Loss : 606.756965637207 \n",
      ", Test Acc : 31.272811889648438 \n",
      "\n"
     ]
    },
    {
     "name": "stderr",
     "output_type": "stream",
     "text": []
    },
    {
     "name": "stdout",
     "output_type": "stream",
     "text": [
      "Iteration : 6 \n",
      " , Train Loss : 671.0642318725586 \n",
      ", Test Acc : 40.05255126953125 \n",
      "\n"
     ]
    },
    {
     "name": "stderr",
     "output_type": "stream",
     "text": []
    },
    {
     "name": "stdout",
     "output_type": "stream",
     "text": [
      "Iteration : 8 \n",
      " , Train Loss : 477.80284118652344 \n",
      ", Test Acc : 47.7272834777832 \n",
      "\n"
     ]
    },
    {
     "name": "stderr",
     "output_type": "stream",
     "text": []
    },
    {
     "name": "stdout",
     "output_type": "stream",
     "text": [
      "Iteration : 10 \n",
      " , Train Loss : 435.7597770690918 \n",
      ", Test Acc : 41.84784698486328 \n",
      "\n"
     ]
    },
    {
     "name": "stderr",
     "output_type": "stream",
     "text": []
    },
    {
     "name": "stdout",
     "output_type": "stream",
     "text": [
      "Iteration : 12 \n",
      " , Train Loss : 284.4739990234375 \n",
      ", Test Acc : 57.3848762512207 \n",
      "\n"
     ]
    },
    {
     "name": "stderr",
     "output_type": "stream",
     "text": []
    },
    {
     "name": "stdout",
     "output_type": "stream",
     "text": [
      "Iteration : 14 \n",
      " , Train Loss : 153.00352001190186 \n",
      ", Test Acc : 60.964725494384766 \n",
      "\n"
     ]
    },
    {
     "name": "stderr",
     "output_type": "stream",
     "text": []
    },
    {
     "name": "stdout",
     "output_type": "stream",
     "text": [
      "Iteration : 16 \n",
      " , Train Loss : 148.76362133026123 \n",
      ", Test Acc : 60.00558090209961 \n",
      "\n"
     ]
    },
    {
     "name": "stderr",
     "output_type": "stream",
     "text": []
    },
    {
     "name": "stdout",
     "output_type": "stream",
     "text": [
      "Iteration : 18 \n",
      " , Train Loss : 121.69424247741699 \n",
      ", Test Acc : 59.7696418762207 \n",
      "\n"
     ]
    },
    {
     "name": "stderr",
     "output_type": "stream",
     "text": [
      "100%|██████████| 20/20 [00:08<00:00,  2.26it/s]\n",
      " 21%|██        | 33/157 [05:01<17:47,  8.61s/it]"
     ]
    },
    {
     "name": "stdout",
     "output_type": "stream",
     "text": [
      "Iteration : 19 \n",
      " , Train Loss : 145.5562505722046 \n",
      ", Test Acc : 58.156246185302734 \n",
      "\n"
     ]
    },
    {
     "name": "stderr",
     "output_type": "stream",
     "text": []
    },
    {
     "name": "stdout",
     "output_type": "stream",
     "text": [
      "Iteration : 0 \n",
      " , Train Loss : 178.76823806762695 \n",
      ", Test Acc : 23.672224044799805 \n",
      "\n"
     ]
    },
    {
     "name": "stderr",
     "output_type": "stream",
     "text": []
    },
    {
     "name": "stdout",
     "output_type": "stream",
     "text": [
      "Iteration : 2 \n",
      " , Train Loss : 779.1558532714844 \n",
      ", Test Acc : 17.21525001525879 \n",
      "\n"
     ]
    },
    {
     "name": "stderr",
     "output_type": "stream",
     "text": []
    },
    {
     "name": "stdout",
     "output_type": "stream",
     "text": [
      "Iteration : 4 \n",
      " , Train Loss : 633.1030349731445 \n",
      ", Test Acc : 28.776296615600586 \n",
      "\n"
     ]
    },
    {
     "name": "stderr",
     "output_type": "stream",
     "text": []
    },
    {
     "name": "stdout",
     "output_type": "stream",
     "text": [
      "Iteration : 6 \n",
      " , Train Loss : 420.6224136352539 \n",
      ", Test Acc : 34.927066802978516 \n",
      "\n"
     ]
    },
    {
     "name": "stderr",
     "output_type": "stream",
     "text": []
    },
    {
     "name": "stdout",
     "output_type": "stream",
     "text": [
      "Iteration : 8 \n",
      " , Train Loss : 358.52138900756836 \n",
      ", Test Acc : 37.457210540771484 \n",
      "\n"
     ]
    },
    {
     "name": "stderr",
     "output_type": "stream",
     "text": []
    },
    {
     "name": "stdout",
     "output_type": "stream",
     "text": [
      "Iteration : 10 \n",
      " , Train Loss : 362.83426666259766 \n",
      ", Test Acc : 38.298030853271484 \n",
      "\n"
     ]
    },
    {
     "name": "stderr",
     "output_type": "stream",
     "text": []
    },
    {
     "name": "stdout",
     "output_type": "stream",
     "text": [
      "Iteration : 12 \n",
      " , Train Loss : 187.47344970703125 \n",
      ", Test Acc : 56.66075134277344 \n",
      "\n"
     ]
    },
    {
     "name": "stderr",
     "output_type": "stream",
     "text": []
    },
    {
     "name": "stdout",
     "output_type": "stream",
     "text": [
      "Iteration : 14 \n",
      " , Train Loss : 164.63369750976562 \n",
      ", Test Acc : 53.31278991699219 \n",
      "\n"
     ]
    },
    {
     "name": "stderr",
     "output_type": "stream",
     "text": []
    },
    {
     "name": "stdout",
     "output_type": "stream",
     "text": [
      "Iteration : 16 \n",
      " , Train Loss : 198.04872512817383 \n",
      ", Test Acc : 60.693511962890625 \n",
      "\n"
     ]
    },
    {
     "name": "stderr",
     "output_type": "stream",
     "text": []
    },
    {
     "name": "stdout",
     "output_type": "stream",
     "text": [
      "Iteration : 18 \n",
      " , Train Loss : 145.34222030639648 \n",
      ", Test Acc : 66.28085327148438 \n",
      "\n"
     ]
    },
    {
     "name": "stderr",
     "output_type": "stream",
     "text": [
      "100%|██████████| 20/20 [00:07<00:00,  2.74it/s]\n",
      " 22%|██▏       | 34/157 [05:08<16:51,  8.23s/it]"
     ]
    },
    {
     "name": "stdout",
     "output_type": "stream",
     "text": [
      "Iteration : 19 \n",
      " , Train Loss : 133.5400733947754 \n",
      ", Test Acc : 64.86834716796875 \n",
      "\n"
     ]
    },
    {
     "name": "stderr",
     "output_type": "stream",
     "text": []
    },
    {
     "name": "stdout",
     "output_type": "stream",
     "text": [
      "Iteration : 0 \n",
      " , Train Loss : 150.45282745361328 \n",
      ", Test Acc : 29.738449096679688 \n",
      "\n"
     ]
    },
    {
     "name": "stderr",
     "output_type": "stream",
     "text": []
    },
    {
     "name": "stdout",
     "output_type": "stream",
     "text": [
      "Iteration : 2 \n",
      " , Train Loss : 856.4467163085938 \n",
      ", Test Acc : 28.859254837036133 \n",
      "\n"
     ]
    },
    {
     "name": "stderr",
     "output_type": "stream",
     "text": []
    },
    {
     "name": "stdout",
     "output_type": "stream",
     "text": [
      "Iteration : 4 \n",
      " , Train Loss : 810.106086730957 \n",
      ", Test Acc : 29.330026626586914 \n",
      "\n"
     ]
    },
    {
     "name": "stderr",
     "output_type": "stream",
     "text": []
    },
    {
     "name": "stdout",
     "output_type": "stream",
     "text": [
      "Iteration : 6 \n",
      " , Train Loss : 406.8712158203125 \n",
      ", Test Acc : 32.9267463684082 \n",
      "\n"
     ]
    },
    {
     "name": "stderr",
     "output_type": "stream",
     "text": []
    },
    {
     "name": "stdout",
     "output_type": "stream",
     "text": [
      "Iteration : 8 \n",
      " , Train Loss : 322.02898025512695 \n",
      ", Test Acc : 30.577207565307617 \n",
      "\n"
     ]
    },
    {
     "name": "stderr",
     "output_type": "stream",
     "text": []
    },
    {
     "name": "stdout",
     "output_type": "stream",
     "text": [
      "Iteration : 10 \n",
      " , Train Loss : 319.2809066772461 \n",
      ", Test Acc : 40.52850341796875 \n",
      "\n"
     ]
    },
    {
     "name": "stderr",
     "output_type": "stream",
     "text": []
    },
    {
     "name": "stdout",
     "output_type": "stream",
     "text": [
      "Iteration : 12 \n",
      " , Train Loss : 185.03886032104492 \n",
      ", Test Acc : 54.62713623046875 \n",
      "\n"
     ]
    },
    {
     "name": "stderr",
     "output_type": "stream",
     "text": []
    },
    {
     "name": "stdout",
     "output_type": "stream",
     "text": [
      "Iteration : 14 \n",
      " , Train Loss : 132.6978931427002 \n",
      ", Test Acc : 57.03007125854492 \n",
      "\n"
     ]
    },
    {
     "name": "stderr",
     "output_type": "stream",
     "text": []
    },
    {
     "name": "stdout",
     "output_type": "stream",
     "text": [
      "Iteration : 16 \n",
      " , Train Loss : 147.80368995666504 \n",
      ", Test Acc : 56.83882141113281 \n",
      "\n"
     ]
    },
    {
     "name": "stderr",
     "output_type": "stream",
     "text": []
    },
    {
     "name": "stdout",
     "output_type": "stream",
     "text": [
      "Iteration : 18 \n",
      " , Train Loss : 144.73907661437988 \n",
      ", Test Acc : 63.278011322021484 \n",
      "\n"
     ]
    },
    {
     "name": "stderr",
     "output_type": "stream",
     "text": [
      "100%|██████████| 20/20 [00:07<00:00,  2.76it/s]\n",
      " 22%|██▏       | 35/157 [05:15<16:08,  7.94s/it]"
     ]
    },
    {
     "name": "stdout",
     "output_type": "stream",
     "text": [
      "Iteration : 19 \n",
      " , Train Loss : 119.24438095092773 \n",
      ", Test Acc : 66.59545135498047 \n",
      "\n"
     ]
    },
    {
     "name": "stderr",
     "output_type": "stream",
     "text": []
    },
    {
     "name": "stdout",
     "output_type": "stream",
     "text": [
      "Iteration : 0 \n",
      " , Train Loss : 165.22006797790527 \n",
      ", Test Acc : 28.250150680541992 \n",
      "\n"
     ]
    },
    {
     "name": "stderr",
     "output_type": "stream",
     "text": []
    },
    {
     "name": "stdout",
     "output_type": "stream",
     "text": [
      "Iteration : 2 \n",
      " , Train Loss : 693.4202270507812 \n",
      ", Test Acc : 28.49394989013672 \n",
      "\n"
     ]
    },
    {
     "name": "stderr",
     "output_type": "stream",
     "text": []
    },
    {
     "name": "stdout",
     "output_type": "stream",
     "text": [
      "Iteration : 4 \n",
      " , Train Loss : 847.1158828735352 \n",
      ", Test Acc : 39.02250289916992 \n",
      "\n"
     ]
    },
    {
     "name": "stderr",
     "output_type": "stream",
     "text": []
    },
    {
     "name": "stdout",
     "output_type": "stream",
     "text": [
      "Iteration : 6 \n",
      " , Train Loss : 522.3649749755859 \n",
      ", Test Acc : 37.895912170410156 \n",
      "\n"
     ]
    },
    {
     "name": "stderr",
     "output_type": "stream",
     "text": []
    },
    {
     "name": "stdout",
     "output_type": "stream",
     "text": [
      "Iteration : 8 \n",
      " , Train Loss : 342.98989486694336 \n",
      ", Test Acc : 40.283443450927734 \n",
      "\n"
     ]
    },
    {
     "name": "stderr",
     "output_type": "stream",
     "text": []
    },
    {
     "name": "stdout",
     "output_type": "stream",
     "text": [
      "Iteration : 10 \n",
      " , Train Loss : 317.9567680358887 \n",
      ", Test Acc : 38.174800872802734 \n",
      "\n"
     ]
    },
    {
     "name": "stderr",
     "output_type": "stream",
     "text": []
    },
    {
     "name": "stdout",
     "output_type": "stream",
     "text": [
      "Iteration : 12 \n",
      " , Train Loss : 184.5196361541748 \n",
      ", Test Acc : 59.53715515136719 \n",
      "\n"
     ]
    },
    {
     "name": "stderr",
     "output_type": "stream",
     "text": []
    },
    {
     "name": "stdout",
     "output_type": "stream",
     "text": [
      "Iteration : 14 \n",
      " , Train Loss : 148.58327198028564 \n",
      ", Test Acc : 58.268341064453125 \n",
      "\n"
     ]
    },
    {
     "name": "stderr",
     "output_type": "stream",
     "text": []
    },
    {
     "name": "stdout",
     "output_type": "stream",
     "text": [
      "Iteration : 16 \n",
      " , Train Loss : 143.07990741729736 \n",
      ", Test Acc : 64.3729248046875 \n",
      "\n"
     ]
    },
    {
     "name": "stderr",
     "output_type": "stream",
     "text": []
    },
    {
     "name": "stdout",
     "output_type": "stream",
     "text": [
      "Iteration : 18 \n",
      " , Train Loss : 142.73920726776123 \n",
      ", Test Acc : 61.65756607055664 \n",
      "\n"
     ]
    },
    {
     "name": "stderr",
     "output_type": "stream",
     "text": [
      "100%|██████████| 20/20 [00:07<00:00,  2.63it/s]\n",
      " 23%|██▎       | 36/157 [05:23<15:49,  7.85s/it]"
     ]
    },
    {
     "name": "stdout",
     "output_type": "stream",
     "text": [
      "Iteration : 19 \n",
      " , Train Loss : 152.18445682525635 \n",
      ", Test Acc : 61.53188705444336 \n",
      "\n"
     ]
    },
    {
     "name": "stderr",
     "output_type": "stream",
     "text": []
    },
    {
     "name": "stdout",
     "output_type": "stream",
     "text": [
      "Iteration : 0 \n",
      " , Train Loss : 193.80200576782227 \n",
      ", Test Acc : 26.614892959594727 \n",
      "\n"
     ]
    },
    {
     "name": "stderr",
     "output_type": "stream",
     "text": []
    },
    {
     "name": "stdout",
     "output_type": "stream",
     "text": [
      "Iteration : 2 \n",
      " , Train Loss : 624.6825408935547 \n",
      ", Test Acc : 23.577720642089844 \n",
      "\n"
     ]
    },
    {
     "name": "stderr",
     "output_type": "stream",
     "text": []
    },
    {
     "name": "stdout",
     "output_type": "stream",
     "text": [
      "Iteration : 4 \n",
      " , Train Loss : 575.5237503051758 \n",
      ", Test Acc : 37.28289794921875 \n",
      "\n"
     ]
    },
    {
     "name": "stderr",
     "output_type": "stream",
     "text": []
    },
    {
     "name": "stdout",
     "output_type": "stream",
     "text": [
      "Iteration : 6 \n",
      " , Train Loss : 266.5121078491211 \n",
      ", Test Acc : 42.83034133911133 \n",
      "\n"
     ]
    },
    {
     "name": "stderr",
     "output_type": "stream",
     "text": []
    },
    {
     "name": "stdout",
     "output_type": "stream",
     "text": [
      "Iteration : 8 \n",
      " , Train Loss : 344.3894233703613 \n",
      ", Test Acc : 48.68613052368164 \n",
      "\n"
     ]
    },
    {
     "name": "stderr",
     "output_type": "stream",
     "text": []
    },
    {
     "name": "stdout",
     "output_type": "stream",
     "text": [
      "Iteration : 10 \n",
      " , Train Loss : 156.2075490951538 \n",
      ", Test Acc : 65.69432830810547 \n",
      "\n"
     ]
    },
    {
     "name": "stderr",
     "output_type": "stream",
     "text": []
    },
    {
     "name": "stdout",
     "output_type": "stream",
     "text": [
      "Iteration : 12 \n",
      " , Train Loss : 138.8464183807373 \n",
      ", Test Acc : 67.72039031982422 \n",
      "\n"
     ]
    },
    {
     "name": "stderr",
     "output_type": "stream",
     "text": []
    },
    {
     "name": "stdout",
     "output_type": "stream",
     "text": [
      "Iteration : 14 \n",
      " , Train Loss : 150.27551078796387 \n",
      ", Test Acc : 71.8670883178711 \n",
      "\n"
     ]
    },
    {
     "name": "stderr",
     "output_type": "stream",
     "text": []
    },
    {
     "name": "stdout",
     "output_type": "stream",
     "text": [
      "Iteration : 16 \n",
      " , Train Loss : 117.20355319976807 \n",
      ", Test Acc : 72.94103240966797 \n",
      "\n"
     ]
    },
    {
     "name": "stderr",
     "output_type": "stream",
     "text": []
    },
    {
     "name": "stdout",
     "output_type": "stream",
     "text": [
      "Iteration : 18 \n",
      " , Train Loss : 100.78602886199951 \n",
      ", Test Acc : 75.89226531982422 \n",
      "\n"
     ]
    },
    {
     "name": "stderr",
     "output_type": "stream",
     "text": [
      "100%|██████████| 20/20 [00:09<00:00,  2.11it/s]\n",
      " 24%|██▎       | 37/157 [05:32<16:40,  8.34s/it]"
     ]
    },
    {
     "name": "stdout",
     "output_type": "stream",
     "text": [
      "Iteration : 19 \n",
      " , Train Loss : 91.6796817779541 \n",
      ", Test Acc : 78.12157440185547 \n",
      "\n"
     ]
    },
    {
     "name": "stderr",
     "output_type": "stream",
     "text": []
    },
    {
     "name": "stdout",
     "output_type": "stream",
     "text": [
      "Iteration : 0 \n",
      " , Train Loss : 166.07630157470703 \n",
      ", Test Acc : 19.124536514282227 \n",
      "\n"
     ]
    },
    {
     "name": "stderr",
     "output_type": "stream",
     "text": []
    },
    {
     "name": "stdout",
     "output_type": "stream",
     "text": [
      "Iteration : 2 \n",
      " , Train Loss : 649.2671813964844 \n",
      ", Test Acc : 29.344758987426758 \n",
      "\n"
     ]
    },
    {
     "name": "stderr",
     "output_type": "stream",
     "text": []
    },
    {
     "name": "stdout",
     "output_type": "stream",
     "text": [
      "Iteration : 4 \n",
      " , Train Loss : 902.2548980712891 \n",
      ", Test Acc : 26.443376541137695 \n",
      "\n"
     ]
    },
    {
     "name": "stderr",
     "output_type": "stream",
     "text": []
    },
    {
     "name": "stdout",
     "output_type": "stream",
     "text": [
      "Iteration : 6 \n",
      " , Train Loss : 662.7687072753906 \n",
      ", Test Acc : 32.99467849731445 \n",
      "\n"
     ]
    },
    {
     "name": "stderr",
     "output_type": "stream",
     "text": []
    },
    {
     "name": "stdout",
     "output_type": "stream",
     "text": [
      "Iteration : 8 \n",
      " , Train Loss : 342.89139556884766 \n",
      ", Test Acc : 41.82801818847656 \n",
      "\n"
     ]
    },
    {
     "name": "stderr",
     "output_type": "stream",
     "text": []
    },
    {
     "name": "stdout",
     "output_type": "stream",
     "text": [
      "Iteration : 10 \n",
      " , Train Loss : 318.03106117248535 \n",
      ", Test Acc : 34.33869552612305 \n",
      "\n"
     ]
    },
    {
     "name": "stderr",
     "output_type": "stream",
     "text": []
    },
    {
     "name": "stdout",
     "output_type": "stream",
     "text": [
      "Iteration : 12 \n",
      " , Train Loss : 342.1717414855957 \n",
      ", Test Acc : 30.937185287475586 \n",
      "\n"
     ]
    },
    {
     "name": "stderr",
     "output_type": "stream",
     "text": []
    },
    {
     "name": "stdout",
     "output_type": "stream",
     "text": [
      "Iteration : 14 \n",
      " , Train Loss : 274.13562202453613 \n",
      ", Test Acc : 42.50699996948242 \n",
      "\n"
     ]
    },
    {
     "name": "stderr",
     "output_type": "stream",
     "text": []
    },
    {
     "name": "stdout",
     "output_type": "stream",
     "text": [
      "Iteration : 16 \n",
      " , Train Loss : 153.86324977874756 \n",
      ", Test Acc : 48.20002365112305 \n",
      "\n"
     ]
    },
    {
     "name": "stderr",
     "output_type": "stream",
     "text": []
    },
    {
     "name": "stdout",
     "output_type": "stream",
     "text": [
      "Iteration : 18 \n",
      " , Train Loss : 144.14988803863525 \n",
      ", Test Acc : 52.71116256713867 \n",
      "\n"
     ]
    },
    {
     "name": "stderr",
     "output_type": "stream",
     "text": [
      "100%|██████████| 20/20 [00:09<00:00,  2.16it/s]\n",
      " 24%|██▍       | 38/157 [05:42<17:05,  8.62s/it]"
     ]
    },
    {
     "name": "stdout",
     "output_type": "stream",
     "text": [
      "Iteration : 19 \n",
      " , Train Loss : 151.27065658569336 \n",
      ", Test Acc : 55.07468032836914 \n",
      "\n"
     ]
    },
    {
     "name": "stderr",
     "output_type": "stream",
     "text": []
    },
    {
     "name": "stdout",
     "output_type": "stream",
     "text": [
      "Iteration : 0 \n",
      " , Train Loss : 142.3358669281006 \n",
      ", Test Acc : 20.693201065063477 \n",
      "\n"
     ]
    },
    {
     "name": "stderr",
     "output_type": "stream",
     "text": []
    },
    {
     "name": "stdout",
     "output_type": "stream",
     "text": [
      "Iteration : 2 \n",
      " , Train Loss : 724.490852355957 \n",
      ", Test Acc : 19.89713478088379 \n",
      "\n"
     ]
    },
    {
     "name": "stderr",
     "output_type": "stream",
     "text": []
    },
    {
     "name": "stdout",
     "output_type": "stream",
     "text": [
      "Iteration : 4 \n",
      " , Train Loss : 541.0612106323242 \n",
      ", Test Acc : 26.45795249938965 \n",
      "\n"
     ]
    },
    {
     "name": "stderr",
     "output_type": "stream",
     "text": []
    },
    {
     "name": "stdout",
     "output_type": "stream",
     "text": [
      "Iteration : 6 \n",
      " , Train Loss : 406.93900299072266 \n",
      ", Test Acc : 41.838096618652344 \n",
      "\n"
     ]
    },
    {
     "name": "stderr",
     "output_type": "stream",
     "text": []
    },
    {
     "name": "stdout",
     "output_type": "stream",
     "text": [
      "Iteration : 8 \n",
      " , Train Loss : 318.1730842590332 \n",
      ", Test Acc : 47.73074722290039 \n",
      "\n"
     ]
    },
    {
     "name": "stderr",
     "output_type": "stream",
     "text": []
    },
    {
     "name": "stdout",
     "output_type": "stream",
     "text": [
      "Iteration : 10 \n",
      " , Train Loss : 280.4339828491211 \n",
      ", Test Acc : 44.14231491088867 \n",
      "\n"
     ]
    },
    {
     "name": "stderr",
     "output_type": "stream",
     "text": []
    },
    {
     "name": "stdout",
     "output_type": "stream",
     "text": [
      "Iteration : 12 \n",
      " , Train Loss : 219.85275650024414 \n",
      ", Test Acc : 50.86357498168945 \n",
      "\n"
     ]
    },
    {
     "name": "stderr",
     "output_type": "stream",
     "text": []
    },
    {
     "name": "stdout",
     "output_type": "stream",
     "text": [
      "Iteration : 14 \n",
      " , Train Loss : 157.9823637008667 \n",
      ", Test Acc : 51.31540298461914 \n",
      "\n"
     ]
    },
    {
     "name": "stderr",
     "output_type": "stream",
     "text": []
    },
    {
     "name": "stdout",
     "output_type": "stream",
     "text": [
      "Iteration : 16 \n",
      " , Train Loss : 150.31240844726562 \n",
      ", Test Acc : 58.71537399291992 \n",
      "\n"
     ]
    },
    {
     "name": "stderr",
     "output_type": "stream",
     "text": []
    },
    {
     "name": "stdout",
     "output_type": "stream",
     "text": [
      "Iteration : 18 \n",
      " , Train Loss : 145.38799476623535 \n",
      ", Test Acc : 66.55902099609375 \n",
      "\n"
     ]
    },
    {
     "name": "stderr",
     "output_type": "stream",
     "text": [
      "100%|██████████| 20/20 [00:11<00:00,  1.75it/s]\n",
      " 25%|██▍       | 39/157 [05:53<18:38,  9.48s/it]"
     ]
    },
    {
     "name": "stdout",
     "output_type": "stream",
     "text": [
      "Iteration : 19 \n",
      " , Train Loss : 94.39774417877197 \n",
      ", Test Acc : 67.8750991821289 \n",
      "\n"
     ]
    },
    {
     "name": "stderr",
     "output_type": "stream",
     "text": []
    },
    {
     "name": "stdout",
     "output_type": "stream",
     "text": [
      "Iteration : 0 \n",
      " , Train Loss : 140.17625999450684 \n",
      ", Test Acc : 17.94242286682129 \n",
      "\n"
     ]
    },
    {
     "name": "stderr",
     "output_type": "stream",
     "text": []
    },
    {
     "name": "stdout",
     "output_type": "stream",
     "text": [
      "Iteration : 2 \n",
      " , Train Loss : 787.2098159790039 \n",
      ", Test Acc : 12.239364624023438 \n",
      "\n"
     ]
    },
    {
     "name": "stderr",
     "output_type": "stream",
     "text": []
    },
    {
     "name": "stdout",
     "output_type": "stream",
     "text": [
      "Iteration : 4 \n",
      " , Train Loss : 843.4394454956055 \n",
      ", Test Acc : 30.650598526000977 \n",
      "\n"
     ]
    },
    {
     "name": "stderr",
     "output_type": "stream",
     "text": []
    },
    {
     "name": "stdout",
     "output_type": "stream",
     "text": [
      "Iteration : 6 \n",
      " , Train Loss : 359.300687789917 \n",
      ", Test Acc : 36.65163040161133 \n",
      "\n"
     ]
    },
    {
     "name": "stderr",
     "output_type": "stream",
     "text": []
    },
    {
     "name": "stdout",
     "output_type": "stream",
     "text": [
      "Iteration : 8 \n",
      " , Train Loss : 400.1337089538574 \n",
      ", Test Acc : 40.952632904052734 \n",
      "\n"
     ]
    },
    {
     "name": "stderr",
     "output_type": "stream",
     "text": []
    },
    {
     "name": "stdout",
     "output_type": "stream",
     "text": [
      "Iteration : 10 \n",
      " , Train Loss : 352.2755355834961 \n",
      ", Test Acc : 43.59804153442383 \n",
      "\n"
     ]
    },
    {
     "name": "stderr",
     "output_type": "stream",
     "text": []
    },
    {
     "name": "stdout",
     "output_type": "stream",
     "text": [
      "Iteration : 12 \n",
      " , Train Loss : 267.7664566040039 \n",
      ", Test Acc : 51.6173210144043 \n",
      "\n"
     ]
    },
    {
     "name": "stderr",
     "output_type": "stream",
     "text": []
    },
    {
     "name": "stdout",
     "output_type": "stream",
     "text": [
      "Iteration : 14 \n",
      " , Train Loss : 147.37634181976318 \n",
      ", Test Acc : 51.49956130981445 \n",
      "\n"
     ]
    },
    {
     "name": "stderr",
     "output_type": "stream",
     "text": []
    },
    {
     "name": "stdout",
     "output_type": "stream",
     "text": [
      "Iteration : 16 \n",
      " , Train Loss : 205.618803024292 \n",
      ", Test Acc : 48.37301254272461 \n",
      "\n"
     ]
    },
    {
     "name": "stderr",
     "output_type": "stream",
     "text": []
    },
    {
     "name": "stdout",
     "output_type": "stream",
     "text": [
      "Iteration : 18 \n",
      " , Train Loss : 192.05485916137695 \n",
      ", Test Acc : 53.32731628417969 \n",
      "\n"
     ]
    },
    {
     "name": "stderr",
     "output_type": "stream",
     "text": [
      "100%|██████████| 20/20 [00:09<00:00,  2.11it/s]\n",
      " 25%|██▌       | 40/157 [06:03<18:29,  9.48s/it]"
     ]
    },
    {
     "name": "stdout",
     "output_type": "stream",
     "text": [
      "Iteration : 19 \n",
      " , Train Loss : 166.3657693862915 \n",
      ", Test Acc : 58.50700759887695 \n",
      "\n"
     ]
    },
    {
     "name": "stderr",
     "output_type": "stream",
     "text": []
    },
    {
     "name": "stdout",
     "output_type": "stream",
     "text": [
      "Iteration : 0 \n",
      " , Train Loss : 204.58264350891113 \n",
      ", Test Acc : 24.3665828704834 \n",
      "\n"
     ]
    },
    {
     "name": "stderr",
     "output_type": "stream",
     "text": []
    },
    {
     "name": "stdout",
     "output_type": "stream",
     "text": [
      "Iteration : 2 \n",
      " , Train Loss : 908.4823455810547 \n",
      ", Test Acc : 20.165678024291992 \n",
      "\n"
     ]
    },
    {
     "name": "stderr",
     "output_type": "stream",
     "text": []
    },
    {
     "name": "stdout",
     "output_type": "stream",
     "text": [
      "Iteration : 4 \n",
      " , Train Loss : 581.9178085327148 \n",
      ", Test Acc : 38.709346771240234 \n",
      "\n"
     ]
    },
    {
     "name": "stderr",
     "output_type": "stream",
     "text": []
    },
    {
     "name": "stdout",
     "output_type": "stream",
     "text": [
      "Iteration : 6 \n",
      " , Train Loss : 327.53498458862305 \n",
      ", Test Acc : 36.0223274230957 \n",
      "\n"
     ]
    },
    {
     "name": "stderr",
     "output_type": "stream",
     "text": []
    },
    {
     "name": "stdout",
     "output_type": "stream",
     "text": [
      "Iteration : 8 \n",
      " , Train Loss : 287.84879302978516 \n",
      ", Test Acc : 36.01218032836914 \n",
      "\n"
     ]
    },
    {
     "name": "stderr",
     "output_type": "stream",
     "text": []
    },
    {
     "name": "stdout",
     "output_type": "stream",
     "text": [
      "Iteration : 10 \n",
      " , Train Loss : 229.97867393493652 \n",
      ", Test Acc : 31.088449478149414 \n",
      "\n"
     ]
    },
    {
     "name": "stderr",
     "output_type": "stream",
     "text": []
    },
    {
     "name": "stdout",
     "output_type": "stream",
     "text": [
      "Iteration : 12 \n",
      " , Train Loss : 182.4146385192871 \n",
      ", Test Acc : 53.74018859863281 \n",
      "\n"
     ]
    },
    {
     "name": "stderr",
     "output_type": "stream",
     "text": []
    },
    {
     "name": "stdout",
     "output_type": "stream",
     "text": [
      "Iteration : 14 \n",
      " , Train Loss : 137.44378471374512 \n",
      ", Test Acc : 61.04166793823242 \n",
      "\n"
     ]
    },
    {
     "name": "stderr",
     "output_type": "stream",
     "text": []
    },
    {
     "name": "stdout",
     "output_type": "stream",
     "text": [
      "Iteration : 16 \n",
      " , Train Loss : 137.54090785980225 \n",
      ", Test Acc : 62.07265853881836 \n",
      "\n"
     ]
    },
    {
     "name": "stderr",
     "output_type": "stream",
     "text": []
    },
    {
     "name": "stdout",
     "output_type": "stream",
     "text": [
      "Iteration : 18 \n",
      " , Train Loss : 128.6147108078003 \n",
      ", Test Acc : 63.219818115234375 \n",
      "\n"
     ]
    },
    {
     "name": "stderr",
     "output_type": "stream",
     "text": [
      "100%|██████████| 20/20 [00:11<00:00,  1.74it/s]\n",
      " 26%|██▌       | 41/157 [06:14<19:31, 10.10s/it]"
     ]
    },
    {
     "name": "stdout",
     "output_type": "stream",
     "text": [
      "Iteration : 19 \n",
      " , Train Loss : 133.5145788192749 \n",
      ", Test Acc : 65.59453582763672 \n",
      "\n"
     ]
    },
    {
     "name": "stderr",
     "output_type": "stream",
     "text": []
    },
    {
     "name": "stdout",
     "output_type": "stream",
     "text": [
      "Iteration : 0 \n",
      " , Train Loss : 173.09972953796387 \n",
      ", Test Acc : 24.665998458862305 \n",
      "\n"
     ]
    },
    {
     "name": "stderr",
     "output_type": "stream",
     "text": []
    },
    {
     "name": "stdout",
     "output_type": "stream",
     "text": [
      "Iteration : 2 \n",
      " , Train Loss : 861.1440582275391 \n",
      ", Test Acc : 28.003881454467773 \n",
      "\n"
     ]
    },
    {
     "name": "stderr",
     "output_type": "stream",
     "text": []
    },
    {
     "name": "stdout",
     "output_type": "stream",
     "text": [
      "Iteration : 4 \n",
      " , Train Loss : 752.3901290893555 \n",
      ", Test Acc : 32.77143859863281 \n",
      "\n"
     ]
    },
    {
     "name": "stderr",
     "output_type": "stream",
     "text": []
    },
    {
     "name": "stdout",
     "output_type": "stream",
     "text": [
      "Iteration : 6 \n",
      " , Train Loss : 567.1120681762695 \n",
      ", Test Acc : 28.552339553833008 \n",
      "\n"
     ]
    },
    {
     "name": "stderr",
     "output_type": "stream",
     "text": []
    },
    {
     "name": "stdout",
     "output_type": "stream",
     "text": [
      "Iteration : 8 \n",
      " , Train Loss : 378.78662872314453 \n",
      ", Test Acc : 39.573734283447266 \n",
      "\n"
     ]
    },
    {
     "name": "stderr",
     "output_type": "stream",
     "text": []
    },
    {
     "name": "stdout",
     "output_type": "stream",
     "text": [
      "Iteration : 10 \n",
      " , Train Loss : 384.53394317626953 \n",
      ", Test Acc : 34.43982696533203 \n",
      "\n"
     ]
    },
    {
     "name": "stderr",
     "output_type": "stream",
     "text": []
    },
    {
     "name": "stdout",
     "output_type": "stream",
     "text": [
      "Iteration : 12 \n",
      " , Train Loss : 310.1372947692871 \n",
      ", Test Acc : 47.4548454284668 \n",
      "\n"
     ]
    },
    {
     "name": "stderr",
     "output_type": "stream",
     "text": []
    },
    {
     "name": "stdout",
     "output_type": "stream",
     "text": [
      "Iteration : 14 \n",
      " , Train Loss : 213.35962677001953 \n",
      ", Test Acc : 51.36207580566406 \n",
      "\n"
     ]
    },
    {
     "name": "stderr",
     "output_type": "stream",
     "text": []
    },
    {
     "name": "stdout",
     "output_type": "stream",
     "text": [
      "Iteration : 16 \n",
      " , Train Loss : 134.8719186782837 \n",
      ", Test Acc : 54.06901931762695 \n",
      "\n"
     ]
    },
    {
     "name": "stderr",
     "output_type": "stream",
     "text": []
    },
    {
     "name": "stdout",
     "output_type": "stream",
     "text": [
      "Iteration : 18 \n",
      " , Train Loss : 159.11043167114258 \n",
      ", Test Acc : 47.15043258666992 \n",
      "\n"
     ]
    },
    {
     "name": "stderr",
     "output_type": "stream",
     "text": [
      "100%|██████████| 20/20 [00:09<00:00,  2.20it/s]\n",
      " 27%|██▋       | 42/157 [06:23<18:47,  9.80s/it]"
     ]
    },
    {
     "name": "stdout",
     "output_type": "stream",
     "text": [
      "Iteration : 19 \n",
      " , Train Loss : 156.86952590942383 \n",
      ", Test Acc : 48.686344146728516 \n",
      "\n"
     ]
    },
    {
     "name": "stderr",
     "output_type": "stream",
     "text": []
    },
    {
     "name": "stdout",
     "output_type": "stream",
     "text": [
      "Iteration : 0 \n",
      " , Train Loss : 189.57638359069824 \n",
      ", Test Acc : 17.632204055786133 \n",
      "\n"
     ]
    },
    {
     "name": "stderr",
     "output_type": "stream",
     "text": []
    },
    {
     "name": "stdout",
     "output_type": "stream",
     "text": [
      "Iteration : 2 \n",
      " , Train Loss : 585.1105651855469 \n",
      ", Test Acc : 18.29843521118164 \n",
      "\n"
     ]
    },
    {
     "name": "stderr",
     "output_type": "stream",
     "text": []
    },
    {
     "name": "stdout",
     "output_type": "stream",
     "text": [
      "Iteration : 4 \n",
      " , Train Loss : 629.7530364990234 \n",
      ", Test Acc : 19.779077529907227 \n",
      "\n"
     ]
    },
    {
     "name": "stderr",
     "output_type": "stream",
     "text": []
    },
    {
     "name": "stdout",
     "output_type": "stream",
     "text": [
      "Iteration : 6 \n",
      " , Train Loss : 748.4408950805664 \n",
      ", Test Acc : 27.386728286743164 \n",
      "\n"
     ]
    },
    {
     "name": "stderr",
     "output_type": "stream",
     "text": []
    },
    {
     "name": "stdout",
     "output_type": "stream",
     "text": [
      "Iteration : 8 \n",
      " , Train Loss : 485.4463348388672 \n",
      ", Test Acc : 33.1776008605957 \n",
      "\n"
     ]
    },
    {
     "name": "stderr",
     "output_type": "stream",
     "text": []
    },
    {
     "name": "stdout",
     "output_type": "stream",
     "text": [
      "Iteration : 10 \n",
      " , Train Loss : 498.40135955810547 \n",
      ", Test Acc : 30.337682723999023 \n",
      "\n"
     ]
    },
    {
     "name": "stderr",
     "output_type": "stream",
     "text": []
    },
    {
     "name": "stdout",
     "output_type": "stream",
     "text": [
      "Iteration : 12 \n",
      " , Train Loss : 266.5054054260254 \n",
      ", Test Acc : 39.963417053222656 \n",
      "\n"
     ]
    },
    {
     "name": "stderr",
     "output_type": "stream",
     "text": []
    },
    {
     "name": "stdout",
     "output_type": "stream",
     "text": [
      "Iteration : 14 \n",
      " , Train Loss : 204.29299354553223 \n",
      ", Test Acc : 46.690704345703125 \n",
      "\n"
     ]
    },
    {
     "name": "stderr",
     "output_type": "stream",
     "text": []
    },
    {
     "name": "stdout",
     "output_type": "stream",
     "text": [
      "Iteration : 16 \n",
      " , Train Loss : 227.66077041625977 \n",
      ", Test Acc : 48.22412109375 \n",
      "\n"
     ]
    },
    {
     "name": "stderr",
     "output_type": "stream",
     "text": []
    },
    {
     "name": "stdout",
     "output_type": "stream",
     "text": [
      "Iteration : 18 \n",
      " , Train Loss : 169.10289573669434 \n",
      ", Test Acc : 53.81939697265625 \n",
      "\n"
     ]
    },
    {
     "name": "stderr",
     "output_type": "stream",
     "text": [
      "100%|██████████| 20/20 [00:09<00:00,  2.15it/s]\n",
      " 27%|██▋       | 43/157 [06:33<18:20,  9.66s/it]"
     ]
    },
    {
     "name": "stdout",
     "output_type": "stream",
     "text": [
      "Iteration : 19 \n",
      " , Train Loss : 180.79644584655762 \n",
      ", Test Acc : 53.87575912475586 \n",
      "\n"
     ]
    },
    {
     "name": "stderr",
     "output_type": "stream",
     "text": []
    },
    {
     "name": "stdout",
     "output_type": "stream",
     "text": [
      "Iteration : 0 \n",
      " , Train Loss : 180.36281967163086 \n",
      ", Test Acc : 15.1001558303833 \n",
      "\n"
     ]
    },
    {
     "name": "stderr",
     "output_type": "stream",
     "text": []
    },
    {
     "name": "stdout",
     "output_type": "stream",
     "text": [
      "Iteration : 2 \n",
      " , Train Loss : 667.6235275268555 \n",
      ", Test Acc : 30.141572952270508 \n",
      "\n"
     ]
    },
    {
     "name": "stderr",
     "output_type": "stream",
     "text": []
    },
    {
     "name": "stdout",
     "output_type": "stream",
     "text": [
      "Iteration : 4 \n",
      " , Train Loss : 770.0576858520508 \n",
      ", Test Acc : 31.795114517211914 \n",
      "\n"
     ]
    },
    {
     "name": "stderr",
     "output_type": "stream",
     "text": []
    },
    {
     "name": "stdout",
     "output_type": "stream",
     "text": [
      "Iteration : 6 \n",
      " , Train Loss : 429.4511375427246 \n",
      ", Test Acc : 35.481903076171875 \n",
      "\n"
     ]
    },
    {
     "name": "stderr",
     "output_type": "stream",
     "text": []
    },
    {
     "name": "stdout",
     "output_type": "stream",
     "text": [
      "Iteration : 8 \n",
      " , Train Loss : 404.1335906982422 \n",
      ", Test Acc : 45.0007209777832 \n",
      "\n"
     ]
    },
    {
     "name": "stderr",
     "output_type": "stream",
     "text": []
    },
    {
     "name": "stdout",
     "output_type": "stream",
     "text": [
      "Iteration : 10 \n",
      " , Train Loss : 286.40664863586426 \n",
      ", Test Acc : 48.313446044921875 \n",
      "\n"
     ]
    },
    {
     "name": "stderr",
     "output_type": "stream",
     "text": []
    },
    {
     "name": "stdout",
     "output_type": "stream",
     "text": [
      "Iteration : 12 \n",
      " , Train Loss : 186.73935794830322 \n",
      ", Test Acc : 49.586456298828125 \n",
      "\n"
     ]
    },
    {
     "name": "stderr",
     "output_type": "stream",
     "text": []
    },
    {
     "name": "stdout",
     "output_type": "stream",
     "text": [
      "Iteration : 14 \n",
      " , Train Loss : 226.71728515625 \n",
      ", Test Acc : 48.88382339477539 \n",
      "\n"
     ]
    },
    {
     "name": "stderr",
     "output_type": "stream",
     "text": []
    },
    {
     "name": "stdout",
     "output_type": "stream",
     "text": [
      "Iteration : 16 \n",
      " , Train Loss : 163.6815643310547 \n",
      ", Test Acc : 59.5424919128418 \n",
      "\n"
     ]
    },
    {
     "name": "stderr",
     "output_type": "stream",
     "text": []
    },
    {
     "name": "stdout",
     "output_type": "stream",
     "text": [
      "Iteration : 18 \n",
      " , Train Loss : 142.01580238342285 \n",
      ", Test Acc : 61.86665725708008 \n",
      "\n"
     ]
    },
    {
     "name": "stderr",
     "output_type": "stream",
     "text": [
      "100%|██████████| 20/20 [00:11<00:00,  1.67it/s]\n",
      " 28%|██▊       | 44/157 [06:45<19:29, 10.35s/it]"
     ]
    },
    {
     "name": "stdout",
     "output_type": "stream",
     "text": [
      "Iteration : 19 \n",
      " , Train Loss : 133.9067897796631 \n",
      ", Test Acc : 60.50223922729492 \n",
      "\n"
     ]
    },
    {
     "name": "stderr",
     "output_type": "stream",
     "text": []
    },
    {
     "name": "stdout",
     "output_type": "stream",
     "text": [
      "Iteration : 0 \n",
      " , Train Loss : 160.43288612365723 \n",
      ", Test Acc : 16.971284866333008 \n",
      "\n"
     ]
    },
    {
     "name": "stderr",
     "output_type": "stream",
     "text": []
    },
    {
     "name": "stdout",
     "output_type": "stream",
     "text": [
      "Iteration : 2 \n",
      " , Train Loss : 663.7336349487305 \n",
      ", Test Acc : 28.684494018554688 \n",
      "\n"
     ]
    },
    {
     "name": "stderr",
     "output_type": "stream",
     "text": []
    },
    {
     "name": "stdout",
     "output_type": "stream",
     "text": [
      "Iteration : 4 \n",
      " , Train Loss : 749.1660308837891 \n",
      ", Test Acc : 26.716344833374023 \n",
      "\n"
     ]
    },
    {
     "name": "stderr",
     "output_type": "stream",
     "text": []
    },
    {
     "name": "stdout",
     "output_type": "stream",
     "text": [
      "Iteration : 6 \n",
      " , Train Loss : 626.8382034301758 \n",
      ", Test Acc : 32.47279739379883 \n",
      "\n"
     ]
    },
    {
     "name": "stderr",
     "output_type": "stream",
     "text": []
    },
    {
     "name": "stdout",
     "output_type": "stream",
     "text": [
      "Iteration : 8 \n",
      " , Train Loss : 497.5144386291504 \n",
      ", Test Acc : 36.60390853881836 \n",
      "\n"
     ]
    },
    {
     "name": "stderr",
     "output_type": "stream",
     "text": []
    },
    {
     "name": "stdout",
     "output_type": "stream",
     "text": [
      "Iteration : 10 \n",
      " , Train Loss : 388.9551773071289 \n",
      ", Test Acc : 48.30405807495117 \n",
      "\n"
     ]
    },
    {
     "name": "stderr",
     "output_type": "stream",
     "text": []
    },
    {
     "name": "stdout",
     "output_type": "stream",
     "text": [
      "Iteration : 12 \n",
      " , Train Loss : 248.32484817504883 \n",
      ", Test Acc : 47.15922164916992 \n",
      "\n"
     ]
    },
    {
     "name": "stderr",
     "output_type": "stream",
     "text": []
    },
    {
     "name": "stdout",
     "output_type": "stream",
     "text": [
      "Iteration : 14 \n",
      " , Train Loss : 196.37075424194336 \n",
      ", Test Acc : 52.24757766723633 \n",
      "\n"
     ]
    },
    {
     "name": "stderr",
     "output_type": "stream",
     "text": []
    },
    {
     "name": "stdout",
     "output_type": "stream",
     "text": [
      "Iteration : 16 \n",
      " , Train Loss : 158.87029457092285 \n",
      ", Test Acc : 45.4705696105957 \n",
      "\n"
     ]
    },
    {
     "name": "stderr",
     "output_type": "stream",
     "text": []
    },
    {
     "name": "stdout",
     "output_type": "stream",
     "text": [
      "Iteration : 18 \n",
      " , Train Loss : 174.75041389465332 \n",
      ", Test Acc : 47.839229583740234 \n",
      "\n"
     ]
    },
    {
     "name": "stderr",
     "output_type": "stream",
     "text": [
      "100%|██████████| 20/20 [00:07<00:00,  2.81it/s]\n",
      " 29%|██▊       | 45/157 [06:52<17:31,  9.39s/it]"
     ]
    },
    {
     "name": "stdout",
     "output_type": "stream",
     "text": [
      "Iteration : 19 \n",
      " , Train Loss : 180.56568908691406 \n",
      ", Test Acc : 54.260128021240234 \n",
      "\n"
     ]
    },
    {
     "name": "stderr",
     "output_type": "stream",
     "text": []
    },
    {
     "name": "stdout",
     "output_type": "stream",
     "text": [
      "Iteration : 0 \n",
      " , Train Loss : 185.9699764251709 \n",
      ", Test Acc : 19.283369064331055 \n",
      "\n"
     ]
    },
    {
     "name": "stderr",
     "output_type": "stream",
     "text": []
    },
    {
     "name": "stdout",
     "output_type": "stream",
     "text": [
      "Iteration : 2 \n",
      " , Train Loss : 584.6768112182617 \n",
      ", Test Acc : 20.087360382080078 \n",
      "\n"
     ]
    },
    {
     "name": "stderr",
     "output_type": "stream",
     "text": []
    },
    {
     "name": "stdout",
     "output_type": "stream",
     "text": [
      "Iteration : 4 \n",
      " , Train Loss : 780.5447998046875 \n",
      ", Test Acc : 33.65298843383789 \n",
      "\n"
     ]
    },
    {
     "name": "stderr",
     "output_type": "stream",
     "text": []
    },
    {
     "name": "stdout",
     "output_type": "stream",
     "text": [
      "Iteration : 6 \n",
      " , Train Loss : 587.0072555541992 \n",
      ", Test Acc : 34.49614334106445 \n",
      "\n"
     ]
    },
    {
     "name": "stderr",
     "output_type": "stream",
     "text": []
    },
    {
     "name": "stdout",
     "output_type": "stream",
     "text": [
      "Iteration : 8 \n",
      " , Train Loss : 524.0798492431641 \n",
      ", Test Acc : 37.03070068359375 \n",
      "\n"
     ]
    },
    {
     "name": "stderr",
     "output_type": "stream",
     "text": []
    },
    {
     "name": "stdout",
     "output_type": "stream",
     "text": [
      "Iteration : 10 \n",
      " , Train Loss : 362.0092487335205 \n",
      ", Test Acc : 47.213802337646484 \n",
      "\n"
     ]
    },
    {
     "name": "stderr",
     "output_type": "stream",
     "text": []
    },
    {
     "name": "stdout",
     "output_type": "stream",
     "text": [
      "Iteration : 12 \n",
      " , Train Loss : 189.30802631378174 \n",
      ", Test Acc : 48.6649169921875 \n",
      "\n"
     ]
    },
    {
     "name": "stderr",
     "output_type": "stream",
     "text": []
    },
    {
     "name": "stdout",
     "output_type": "stream",
     "text": [
      "Iteration : 14 \n",
      " , Train Loss : 219.9433708190918 \n",
      ", Test Acc : 48.236995697021484 \n",
      "\n"
     ]
    },
    {
     "name": "stderr",
     "output_type": "stream",
     "text": []
    },
    {
     "name": "stdout",
     "output_type": "stream",
     "text": [
      "Iteration : 16 \n",
      " , Train Loss : 238.20221328735352 \n",
      ", Test Acc : 52.27924728393555 \n",
      "\n"
     ]
    },
    {
     "name": "stderr",
     "output_type": "stream",
     "text": []
    },
    {
     "name": "stdout",
     "output_type": "stream",
     "text": [
      "Iteration : 18 \n",
      " , Train Loss : 186.05306243896484 \n",
      ", Test Acc : 56.62179183959961 \n",
      "\n"
     ]
    },
    {
     "name": "stderr",
     "output_type": "stream",
     "text": [
      "100%|██████████| 20/20 [00:07<00:00,  2.61it/s]\n",
      " 29%|██▉       | 46/157 [06:59<16:26,  8.88s/it]"
     ]
    },
    {
     "name": "stdout",
     "output_type": "stream",
     "text": [
      "Iteration : 19 \n",
      " , Train Loss : 144.57932472229004 \n",
      ", Test Acc : 55.60556411743164 \n",
      "\n"
     ]
    },
    {
     "name": "stderr",
     "output_type": "stream",
     "text": []
    },
    {
     "name": "stdout",
     "output_type": "stream",
     "text": [
      "Iteration : 0 \n",
      " , Train Loss : 172.47114181518555 \n",
      ", Test Acc : 27.631547927856445 \n",
      "\n"
     ]
    },
    {
     "name": "stderr",
     "output_type": "stream",
     "text": []
    },
    {
     "name": "stdout",
     "output_type": "stream",
     "text": [
      "Iteration : 2 \n",
      " , Train Loss : 606.3112411499023 \n",
      ", Test Acc : 34.564701080322266 \n",
      "\n"
     ]
    },
    {
     "name": "stderr",
     "output_type": "stream",
     "text": []
    },
    {
     "name": "stdout",
     "output_type": "stream",
     "text": [
      "Iteration : 4 \n",
      " , Train Loss : 311.264892578125 \n",
      ", Test Acc : 46.64390563964844 \n",
      "\n"
     ]
    },
    {
     "name": "stderr",
     "output_type": "stream",
     "text": []
    },
    {
     "name": "stdout",
     "output_type": "stream",
     "text": [
      "Iteration : 6 \n",
      " , Train Loss : 306.5428237915039 \n",
      ", Test Acc : 46.48305892944336 \n",
      "\n"
     ]
    },
    {
     "name": "stderr",
     "output_type": "stream",
     "text": []
    },
    {
     "name": "stdout",
     "output_type": "stream",
     "text": [
      "Iteration : 8 \n",
      " , Train Loss : 296.45628547668457 \n",
      ", Test Acc : 54.82670211791992 \n",
      "\n"
     ]
    },
    {
     "name": "stderr",
     "output_type": "stream",
     "text": []
    },
    {
     "name": "stdout",
     "output_type": "stream",
     "text": [
      "Iteration : 10 \n",
      " , Train Loss : 165.4382939338684 \n",
      ", Test Acc : 59.44160079956055 \n",
      "\n"
     ]
    },
    {
     "name": "stderr",
     "output_type": "stream",
     "text": []
    },
    {
     "name": "stdout",
     "output_type": "stream",
     "text": [
      "Iteration : 12 \n",
      " , Train Loss : 171.87464904785156 \n",
      ", Test Acc : 57.683650970458984 \n",
      "\n"
     ]
    },
    {
     "name": "stderr",
     "output_type": "stream",
     "text": []
    },
    {
     "name": "stdout",
     "output_type": "stream",
     "text": [
      "Iteration : 14 \n",
      " , Train Loss : 177.33490180969238 \n",
      ", Test Acc : 63.93243408203125 \n",
      "\n"
     ]
    },
    {
     "name": "stderr",
     "output_type": "stream",
     "text": []
    },
    {
     "name": "stdout",
     "output_type": "stream",
     "text": [
      "Iteration : 16 \n",
      " , Train Loss : 157.3280258178711 \n",
      ", Test Acc : 66.72991943359375 \n",
      "\n"
     ]
    },
    {
     "name": "stderr",
     "output_type": "stream",
     "text": []
    },
    {
     "name": "stdout",
     "output_type": "stream",
     "text": [
      "Iteration : 18 \n",
      " , Train Loss : 110.27723264694214 \n",
      ", Test Acc : 65.90471649169922 \n",
      "\n"
     ]
    },
    {
     "name": "stderr",
     "output_type": "stream",
     "text": [
      "100%|██████████| 20/20 [00:09<00:00,  2.13it/s]\n",
      " 30%|██▉       | 47/157 [07:09<16:35,  9.05s/it]"
     ]
    },
    {
     "name": "stdout",
     "output_type": "stream",
     "text": [
      "Iteration : 19 \n",
      " , Train Loss : 121.59684658050537 \n",
      ", Test Acc : 64.241455078125 \n",
      "\n"
     ]
    },
    {
     "name": "stderr",
     "output_type": "stream",
     "text": []
    },
    {
     "name": "stdout",
     "output_type": "stream",
     "text": [
      "Iteration : 0 \n",
      " , Train Loss : 153.55776977539062 \n",
      ", Test Acc : 19.159555435180664 \n",
      "\n"
     ]
    },
    {
     "name": "stderr",
     "output_type": "stream",
     "text": []
    },
    {
     "name": "stdout",
     "output_type": "stream",
     "text": [
      "Iteration : 2 \n",
      " , Train Loss : 676.2455520629883 \n",
      ", Test Acc : 23.041841506958008 \n",
      "\n"
     ]
    },
    {
     "name": "stderr",
     "output_type": "stream",
     "text": []
    },
    {
     "name": "stdout",
     "output_type": "stream",
     "text": [
      "Iteration : 4 \n",
      " , Train Loss : 749.5591430664062 \n",
      ", Test Acc : 36.242671966552734 \n",
      "\n"
     ]
    },
    {
     "name": "stderr",
     "output_type": "stream",
     "text": []
    },
    {
     "name": "stdout",
     "output_type": "stream",
     "text": [
      "Iteration : 6 \n",
      " , Train Loss : 637.4794006347656 \n",
      ", Test Acc : 31.442466735839844 \n",
      "\n"
     ]
    },
    {
     "name": "stderr",
     "output_type": "stream",
     "text": []
    },
    {
     "name": "stdout",
     "output_type": "stream",
     "text": [
      "Iteration : 8 \n",
      " , Train Loss : 295.98494720458984 \n",
      ", Test Acc : 45.01713943481445 \n",
      "\n"
     ]
    },
    {
     "name": "stderr",
     "output_type": "stream",
     "text": []
    },
    {
     "name": "stdout",
     "output_type": "stream",
     "text": [
      "Iteration : 10 \n",
      " , Train Loss : 255.32607460021973 \n",
      ", Test Acc : 35.308162689208984 \n",
      "\n"
     ]
    },
    {
     "name": "stderr",
     "output_type": "stream",
     "text": []
    },
    {
     "name": "stdout",
     "output_type": "stream",
     "text": [
      "Iteration : 12 \n",
      " , Train Loss : 240.4676628112793 \n",
      ", Test Acc : 44.174259185791016 \n",
      "\n"
     ]
    },
    {
     "name": "stderr",
     "output_type": "stream",
     "text": []
    },
    {
     "name": "stdout",
     "output_type": "stream",
     "text": [
      "Iteration : 14 \n",
      " , Train Loss : 217.423095703125 \n",
      ", Test Acc : 53.661739349365234 \n",
      "\n"
     ]
    },
    {
     "name": "stderr",
     "output_type": "stream",
     "text": []
    },
    {
     "name": "stdout",
     "output_type": "stream",
     "text": [
      "Iteration : 16 \n",
      " , Train Loss : 145.60722637176514 \n",
      ", Test Acc : 54.832393646240234 \n",
      "\n"
     ]
    },
    {
     "name": "stderr",
     "output_type": "stream",
     "text": []
    },
    {
     "name": "stdout",
     "output_type": "stream",
     "text": [
      "Iteration : 18 \n",
      " , Train Loss : 190.1589593887329 \n",
      ", Test Acc : 54.910030364990234 \n",
      "\n"
     ]
    },
    {
     "name": "stderr",
     "output_type": "stream",
     "text": [
      "100%|██████████| 20/20 [00:07<00:00,  2.55it/s]\n",
      " 31%|███       | 48/157 [07:17<15:47,  8.69s/it]"
     ]
    },
    {
     "name": "stdout",
     "output_type": "stream",
     "text": [
      "Iteration : 19 \n",
      " , Train Loss : 172.7871551513672 \n",
      ", Test Acc : 54.884918212890625 \n",
      "\n"
     ]
    },
    {
     "name": "stderr",
     "output_type": "stream",
     "text": []
    },
    {
     "name": "stdout",
     "output_type": "stream",
     "text": [
      "Iteration : 0 \n",
      " , Train Loss : 196.27227592468262 \n",
      ", Test Acc : 13.735011100769043 \n",
      "\n"
     ]
    },
    {
     "name": "stderr",
     "output_type": "stream",
     "text": []
    },
    {
     "name": "stdout",
     "output_type": "stream",
     "text": [
      "Iteration : 2 \n",
      " , Train Loss : 606.5046997070312 \n",
      ", Test Acc : 23.15460777282715 \n",
      "\n"
     ]
    },
    {
     "name": "stderr",
     "output_type": "stream",
     "text": []
    },
    {
     "name": "stdout",
     "output_type": "stream",
     "text": [
      "Iteration : 4 \n",
      " , Train Loss : 928.6564636230469 \n",
      ", Test Acc : 29.35856056213379 \n",
      "\n"
     ]
    },
    {
     "name": "stderr",
     "output_type": "stream",
     "text": []
    },
    {
     "name": "stdout",
     "output_type": "stream",
     "text": [
      "Iteration : 6 \n",
      " , Train Loss : 661.1695556640625 \n",
      ", Test Acc : 33.20750045776367 \n",
      "\n"
     ]
    },
    {
     "name": "stderr",
     "output_type": "stream",
     "text": []
    },
    {
     "name": "stdout",
     "output_type": "stream",
     "text": [
      "Iteration : 8 \n",
      " , Train Loss : 474.7337112426758 \n",
      ", Test Acc : 40.51126480102539 \n",
      "\n"
     ]
    },
    {
     "name": "stderr",
     "output_type": "stream",
     "text": []
    },
    {
     "name": "stdout",
     "output_type": "stream",
     "text": [
      "Iteration : 10 \n",
      " , Train Loss : 394.4075164794922 \n",
      ", Test Acc : 38.64543151855469 \n",
      "\n"
     ]
    },
    {
     "name": "stderr",
     "output_type": "stream",
     "text": []
    },
    {
     "name": "stdout",
     "output_type": "stream",
     "text": [
      "Iteration : 12 \n",
      " , Train Loss : 373.7209892272949 \n",
      ", Test Acc : 39.11930465698242 \n",
      "\n"
     ]
    },
    {
     "name": "stderr",
     "output_type": "stream",
     "text": []
    },
    {
     "name": "stdout",
     "output_type": "stream",
     "text": [
      "Iteration : 14 \n",
      " , Train Loss : 220.8889274597168 \n",
      ", Test Acc : 50.09407424926758 \n",
      "\n"
     ]
    },
    {
     "name": "stderr",
     "output_type": "stream",
     "text": []
    },
    {
     "name": "stdout",
     "output_type": "stream",
     "text": [
      "Iteration : 16 \n",
      " , Train Loss : 158.05345153808594 \n",
      ", Test Acc : 49.02029037475586 \n",
      "\n"
     ]
    },
    {
     "name": "stderr",
     "output_type": "stream",
     "text": []
    },
    {
     "name": "stdout",
     "output_type": "stream",
     "text": [
      "Iteration : 18 \n",
      " , Train Loss : 109.46156311035156 \n",
      ", Test Acc : 56.123779296875 \n",
      "\n"
     ]
    },
    {
     "name": "stderr",
     "output_type": "stream",
     "text": [
      "100%|██████████| 20/20 [00:09<00:00,  2.03it/s]\n",
      " 31%|███       | 49/157 [07:27<16:17,  9.05s/it]"
     ]
    },
    {
     "name": "stdout",
     "output_type": "stream",
     "text": [
      "Iteration : 19 \n",
      " , Train Loss : 144.39686584472656 \n",
      ", Test Acc : 48.243961334228516 \n",
      "\n"
     ]
    },
    {
     "name": "stderr",
     "output_type": "stream",
     "text": []
    },
    {
     "name": "stdout",
     "output_type": "stream",
     "text": [
      "Iteration : 0 \n",
      " , Train Loss : 184.59254455566406 \n",
      ", Test Acc : 17.000215530395508 \n",
      "\n"
     ]
    },
    {
     "name": "stderr",
     "output_type": "stream",
     "text": []
    },
    {
     "name": "stdout",
     "output_type": "stream",
     "text": [
      "Iteration : 2 \n",
      " , Train Loss : 794.509651184082 \n",
      ", Test Acc : 32.07864761352539 \n",
      "\n"
     ]
    },
    {
     "name": "stderr",
     "output_type": "stream",
     "text": []
    },
    {
     "name": "stdout",
     "output_type": "stream",
     "text": [
      "Iteration : 4 \n",
      " , Train Loss : 852.8758239746094 \n",
      ", Test Acc : 34.41139221191406 \n",
      "\n"
     ]
    },
    {
     "name": "stderr",
     "output_type": "stream",
     "text": []
    },
    {
     "name": "stdout",
     "output_type": "stream",
     "text": [
      "Iteration : 6 \n",
      " , Train Loss : 415.74409103393555 \n",
      ", Test Acc : 37.17888641357422 \n",
      "\n"
     ]
    },
    {
     "name": "stderr",
     "output_type": "stream",
     "text": []
    },
    {
     "name": "stdout",
     "output_type": "stream",
     "text": [
      "Iteration : 8 \n",
      " , Train Loss : 347.8552589416504 \n",
      ", Test Acc : 37.48952102661133 \n",
      "\n"
     ]
    },
    {
     "name": "stderr",
     "output_type": "stream",
     "text": []
    },
    {
     "name": "stdout",
     "output_type": "stream",
     "text": [
      "Iteration : 10 \n",
      " , Train Loss : 246.17001342773438 \n",
      ", Test Acc : 45.24187088012695 \n",
      "\n"
     ]
    },
    {
     "name": "stderr",
     "output_type": "stream",
     "text": []
    },
    {
     "name": "stdout",
     "output_type": "stream",
     "text": [
      "Iteration : 12 \n",
      " , Train Loss : 207.5343017578125 \n",
      ", Test Acc : 42.065364837646484 \n",
      "\n"
     ]
    },
    {
     "name": "stderr",
     "output_type": "stream",
     "text": []
    },
    {
     "name": "stdout",
     "output_type": "stream",
     "text": [
      "Iteration : 14 \n",
      " , Train Loss : 203.62178802490234 \n",
      ", Test Acc : 48.3806037902832 \n",
      "\n"
     ]
    },
    {
     "name": "stderr",
     "output_type": "stream",
     "text": []
    },
    {
     "name": "stdout",
     "output_type": "stream",
     "text": [
      "Iteration : 16 \n",
      " , Train Loss : 145.4929323196411 \n",
      ", Test Acc : 54.51310348510742 \n",
      "\n"
     ]
    },
    {
     "name": "stderr",
     "output_type": "stream",
     "text": []
    },
    {
     "name": "stdout",
     "output_type": "stream",
     "text": [
      "Iteration : 18 \n",
      " , Train Loss : 144.41677284240723 \n",
      ", Test Acc : 57.24985885620117 \n",
      "\n"
     ]
    },
    {
     "name": "stderr",
     "output_type": "stream",
     "text": [
      "100%|██████████| 20/20 [00:07<00:00,  2.64it/s]\n",
      " 32%|███▏      | 50/157 [07:34<15:21,  8.61s/it]"
     ]
    },
    {
     "name": "stdout",
     "output_type": "stream",
     "text": [
      "Iteration : 19 \n",
      " , Train Loss : 134.62092208862305 \n",
      ", Test Acc : 58.028228759765625 \n",
      "\n"
     ]
    },
    {
     "name": "stderr",
     "output_type": "stream",
     "text": []
    },
    {
     "name": "stdout",
     "output_type": "stream",
     "text": [
      "Iteration : 0 \n",
      " , Train Loss : 191.2068977355957 \n",
      ", Test Acc : 18.45354461669922 \n",
      "\n"
     ]
    },
    {
     "name": "stderr",
     "output_type": "stream",
     "text": []
    },
    {
     "name": "stdout",
     "output_type": "stream",
     "text": [
      "Iteration : 2 \n",
      " , Train Loss : 683.1059188842773 \n",
      ", Test Acc : 13.782271385192871 \n",
      "\n"
     ]
    },
    {
     "name": "stderr",
     "output_type": "stream",
     "text": []
    },
    {
     "name": "stdout",
     "output_type": "stream",
     "text": [
      "Iteration : 4 \n",
      " , Train Loss : 725.2288131713867 \n",
      ", Test Acc : 22.69993019104004 \n",
      "\n"
     ]
    },
    {
     "name": "stderr",
     "output_type": "stream",
     "text": []
    },
    {
     "name": "stdout",
     "output_type": "stream",
     "text": [
      "Iteration : 6 \n",
      " , Train Loss : 562.0001373291016 \n",
      ", Test Acc : 33.29050827026367 \n",
      "\n"
     ]
    },
    {
     "name": "stderr",
     "output_type": "stream",
     "text": []
    },
    {
     "name": "stdout",
     "output_type": "stream",
     "text": [
      "Iteration : 8 \n",
      " , Train Loss : 379.7120018005371 \n",
      ", Test Acc : 41.49399185180664 \n",
      "\n"
     ]
    },
    {
     "name": "stderr",
     "output_type": "stream",
     "text": []
    },
    {
     "name": "stdout",
     "output_type": "stream",
     "text": [
      "Iteration : 10 \n",
      " , Train Loss : 241.07515335083008 \n",
      ", Test Acc : 42.8038444519043 \n",
      "\n"
     ]
    },
    {
     "name": "stderr",
     "output_type": "stream",
     "text": []
    },
    {
     "name": "stdout",
     "output_type": "stream",
     "text": [
      "Iteration : 12 \n",
      " , Train Loss : 235.02864837646484 \n",
      ", Test Acc : 40.60639953613281 \n",
      "\n"
     ]
    },
    {
     "name": "stderr",
     "output_type": "stream",
     "text": []
    },
    {
     "name": "stdout",
     "output_type": "stream",
     "text": [
      "Iteration : 14 \n",
      " , Train Loss : 239.6380786895752 \n",
      ", Test Acc : 42.25332260131836 \n",
      "\n"
     ]
    },
    {
     "name": "stderr",
     "output_type": "stream",
     "text": []
    },
    {
     "name": "stdout",
     "output_type": "stream",
     "text": [
      "Iteration : 16 \n",
      " , Train Loss : 183.60721969604492 \n",
      ", Test Acc : 46.1262321472168 \n",
      "\n"
     ]
    },
    {
     "name": "stderr",
     "output_type": "stream",
     "text": []
    },
    {
     "name": "stdout",
     "output_type": "stream",
     "text": [
      "Iteration : 18 \n",
      " , Train Loss : 143.54947471618652 \n",
      ", Test Acc : 50.672760009765625 \n",
      "\n"
     ]
    },
    {
     "name": "stderr",
     "output_type": "stream",
     "text": [
      "100%|██████████| 20/20 [00:07<00:00,  2.62it/s]\n",
      " 32%|███▏      | 51/157 [07:42<14:42,  8.32s/it]"
     ]
    },
    {
     "name": "stdout",
     "output_type": "stream",
     "text": [
      "Iteration : 19 \n",
      " , Train Loss : 146.5269432067871 \n",
      ", Test Acc : 53.456050872802734 \n",
      "\n"
     ]
    },
    {
     "name": "stderr",
     "output_type": "stream",
     "text": []
    },
    {
     "name": "stdout",
     "output_type": "stream",
     "text": [
      "Iteration : 0 \n",
      " , Train Loss : 177.7207908630371 \n",
      ", Test Acc : 17.871442794799805 \n",
      "\n"
     ]
    },
    {
     "name": "stderr",
     "output_type": "stream",
     "text": []
    },
    {
     "name": "stdout",
     "output_type": "stream",
     "text": [
      "Iteration : 2 \n",
      " , Train Loss : 729.3956298828125 \n",
      ", Test Acc : 28.36689567565918 \n",
      "\n"
     ]
    },
    {
     "name": "stderr",
     "output_type": "stream",
     "text": []
    },
    {
     "name": "stdout",
     "output_type": "stream",
     "text": [
      "Iteration : 4 \n",
      " , Train Loss : 729.9272003173828 \n",
      ", Test Acc : 28.416595458984375 \n",
      "\n"
     ]
    },
    {
     "name": "stderr",
     "output_type": "stream",
     "text": []
    },
    {
     "name": "stdout",
     "output_type": "stream",
     "text": [
      "Iteration : 6 \n",
      " , Train Loss : 436.4657440185547 \n",
      ", Test Acc : 35.51931381225586 \n",
      "\n"
     ]
    },
    {
     "name": "stderr",
     "output_type": "stream",
     "text": []
    },
    {
     "name": "stdout",
     "output_type": "stream",
     "text": [
      "Iteration : 8 \n",
      " , Train Loss : 361.3782653808594 \n",
      ", Test Acc : 38.444766998291016 \n",
      "\n"
     ]
    },
    {
     "name": "stderr",
     "output_type": "stream",
     "text": []
    },
    {
     "name": "stdout",
     "output_type": "stream",
     "text": [
      "Iteration : 10 \n",
      " , Train Loss : 333.8669204711914 \n",
      ", Test Acc : 42.10414505004883 \n",
      "\n"
     ]
    },
    {
     "name": "stderr",
     "output_type": "stream",
     "text": []
    },
    {
     "name": "stdout",
     "output_type": "stream",
     "text": [
      "Iteration : 12 \n",
      " , Train Loss : 171.14700889587402 \n",
      ", Test Acc : 46.89344787597656 \n",
      "\n"
     ]
    },
    {
     "name": "stderr",
     "output_type": "stream",
     "text": []
    },
    {
     "name": "stdout",
     "output_type": "stream",
     "text": [
      "Iteration : 14 \n",
      " , Train Loss : 135.17192459106445 \n",
      ", Test Acc : 43.99800109863281 \n",
      "\n"
     ]
    },
    {
     "name": "stderr",
     "output_type": "stream",
     "text": []
    },
    {
     "name": "stdout",
     "output_type": "stream",
     "text": [
      "Iteration : 16 \n",
      " , Train Loss : 186.20750045776367 \n",
      ", Test Acc : 42.70762252807617 \n",
      "\n"
     ]
    },
    {
     "name": "stderr",
     "output_type": "stream",
     "text": []
    },
    {
     "name": "stdout",
     "output_type": "stream",
     "text": [
      "Iteration : 18 \n",
      " , Train Loss : 166.9367961883545 \n",
      ", Test Acc : 53.463443756103516 \n",
      "\n"
     ]
    },
    {
     "name": "stderr",
     "output_type": "stream",
     "text": [
      "100%|██████████| 20/20 [00:07<00:00,  2.75it/s]\n",
      " 33%|███▎      | 52/157 [07:49<14:01,  8.01s/it]"
     ]
    },
    {
     "name": "stdout",
     "output_type": "stream",
     "text": [
      "Iteration : 19 \n",
      " , Train Loss : 147.69182205200195 \n",
      ", Test Acc : 57.68499755859375 \n",
      "\n"
     ]
    },
    {
     "name": "stderr",
     "output_type": "stream",
     "text": []
    },
    {
     "name": "stdout",
     "output_type": "stream",
     "text": [
      "Iteration : 0 \n",
      " , Train Loss : 204.1835479736328 \n",
      ", Test Acc : 15.32962703704834 \n",
      "\n"
     ]
    },
    {
     "name": "stderr",
     "output_type": "stream",
     "text": []
    },
    {
     "name": "stdout",
     "output_type": "stream",
     "text": [
      "Iteration : 2 \n",
      " , Train Loss : 794.2236862182617 \n",
      ", Test Acc : 28.011137008666992 \n",
      "\n"
     ]
    },
    {
     "name": "stderr",
     "output_type": "stream",
     "text": []
    },
    {
     "name": "stdout",
     "output_type": "stream",
     "text": [
      "Iteration : 4 \n",
      " , Train Loss : 762.4096145629883 \n",
      ", Test Acc : 29.8176326751709 \n",
      "\n"
     ]
    },
    {
     "name": "stderr",
     "output_type": "stream",
     "text": []
    },
    {
     "name": "stdout",
     "output_type": "stream",
     "text": [
      "Iteration : 6 \n",
      " , Train Loss : 411.54284286499023 \n",
      ", Test Acc : 33.05976867675781 \n",
      "\n"
     ]
    },
    {
     "name": "stderr",
     "output_type": "stream",
     "text": []
    },
    {
     "name": "stdout",
     "output_type": "stream",
     "text": [
      "Iteration : 8 \n",
      " , Train Loss : 280.28829765319824 \n",
      ", Test Acc : 32.09690475463867 \n",
      "\n"
     ]
    },
    {
     "name": "stderr",
     "output_type": "stream",
     "text": []
    },
    {
     "name": "stdout",
     "output_type": "stream",
     "text": [
      "Iteration : 10 \n",
      " , Train Loss : 226.53846740722656 \n",
      ", Test Acc : 29.695920944213867 \n",
      "\n"
     ]
    },
    {
     "name": "stderr",
     "output_type": "stream",
     "text": []
    },
    {
     "name": "stdout",
     "output_type": "stream",
     "text": [
      "Iteration : 12 \n",
      " , Train Loss : 234.08895111083984 \n",
      ", Test Acc : 47.10198974609375 \n",
      "\n"
     ]
    },
    {
     "name": "stderr",
     "output_type": "stream",
     "text": []
    },
    {
     "name": "stdout",
     "output_type": "stream",
     "text": [
      "Iteration : 14 \n",
      " , Train Loss : 113.89280891418457 \n",
      ", Test Acc : 48.069580078125 \n",
      "\n"
     ]
    },
    {
     "name": "stderr",
     "output_type": "stream",
     "text": []
    },
    {
     "name": "stdout",
     "output_type": "stream",
     "text": [
      "Iteration : 16 \n",
      " , Train Loss : 151.79730701446533 \n",
      ", Test Acc : 52.20770263671875 \n",
      "\n"
     ]
    },
    {
     "name": "stderr",
     "output_type": "stream",
     "text": []
    },
    {
     "name": "stdout",
     "output_type": "stream",
     "text": [
      "Iteration : 18 \n",
      " , Train Loss : 133.57201099395752 \n",
      ", Test Acc : 54.73004150390625 \n",
      "\n"
     ]
    },
    {
     "name": "stderr",
     "output_type": "stream",
     "text": [
      "100%|██████████| 20/20 [00:07<00:00,  2.57it/s]\n",
      " 34%|███▍      | 53/157 [07:57<13:46,  7.95s/it]"
     ]
    },
    {
     "name": "stdout",
     "output_type": "stream",
     "text": [
      "Iteration : 19 \n",
      " , Train Loss : 132.76272773742676 \n",
      ", Test Acc : 57.83352279663086 \n",
      "\n"
     ]
    },
    {
     "name": "stderr",
     "output_type": "stream",
     "text": []
    },
    {
     "name": "stdout",
     "output_type": "stream",
     "text": [
      "Iteration : 0 \n",
      " , Train Loss : 147.13543510437012 \n",
      ", Test Acc : 18.6802978515625 \n",
      "\n"
     ]
    },
    {
     "name": "stderr",
     "output_type": "stream",
     "text": []
    },
    {
     "name": "stdout",
     "output_type": "stream",
     "text": [
      "Iteration : 2 \n",
      " , Train Loss : 647.0429916381836 \n",
      ", Test Acc : 26.95808219909668 \n",
      "\n"
     ]
    },
    {
     "name": "stderr",
     "output_type": "stream",
     "text": []
    },
    {
     "name": "stdout",
     "output_type": "stream",
     "text": [
      "Iteration : 4 \n",
      " , Train Loss : 455.78512954711914 \n",
      ", Test Acc : 42.77676773071289 \n",
      "\n"
     ]
    },
    {
     "name": "stderr",
     "output_type": "stream",
     "text": []
    },
    {
     "name": "stdout",
     "output_type": "stream",
     "text": [
      "Iteration : 6 \n",
      " , Train Loss : 256.1746635437012 \n",
      ", Test Acc : 46.65561294555664 \n",
      "\n"
     ]
    },
    {
     "name": "stderr",
     "output_type": "stream",
     "text": []
    },
    {
     "name": "stdout",
     "output_type": "stream",
     "text": [
      "Iteration : 8 \n",
      " , Train Loss : 243.8021240234375 \n",
      ", Test Acc : 43.88679885864258 \n",
      "\n"
     ]
    },
    {
     "name": "stderr",
     "output_type": "stream",
     "text": []
    },
    {
     "name": "stdout",
     "output_type": "stream",
     "text": [
      "Iteration : 10 \n",
      " , Train Loss : 160.3628807067871 \n",
      ", Test Acc : 64.788818359375 \n",
      "\n"
     ]
    },
    {
     "name": "stderr",
     "output_type": "stream",
     "text": []
    },
    {
     "name": "stdout",
     "output_type": "stream",
     "text": [
      "Iteration : 12 \n",
      " , Train Loss : 114.44284057617188 \n",
      ", Test Acc : 61.810794830322266 \n",
      "\n"
     ]
    },
    {
     "name": "stderr",
     "output_type": "stream",
     "text": []
    },
    {
     "name": "stdout",
     "output_type": "stream",
     "text": [
      "Iteration : 14 \n",
      " , Train Loss : 154.22040367126465 \n",
      ", Test Acc : 61.80598449707031 \n",
      "\n"
     ]
    },
    {
     "name": "stderr",
     "output_type": "stream",
     "text": []
    },
    {
     "name": "stdout",
     "output_type": "stream",
     "text": [
      "Iteration : 16 \n",
      " , Train Loss : 138.3667516708374 \n",
      ", Test Acc : 67.52388000488281 \n",
      "\n"
     ]
    },
    {
     "name": "stderr",
     "output_type": "stream",
     "text": []
    },
    {
     "name": "stdout",
     "output_type": "stream",
     "text": [
      "Iteration : 18 \n",
      " , Train Loss : 93.21102142333984 \n",
      ", Test Acc : 71.1332778930664 \n",
      "\n"
     ]
    },
    {
     "name": "stderr",
     "output_type": "stream",
     "text": [
      "100%|██████████| 20/20 [00:06<00:00,  3.07it/s]\n",
      " 34%|███▍      | 54/157 [08:03<12:55,  7.53s/it]"
     ]
    },
    {
     "name": "stdout",
     "output_type": "stream",
     "text": [
      "Iteration : 19 \n",
      " , Train Loss : 97.06969165802002 \n",
      ", Test Acc : 69.17925262451172 \n",
      "\n"
     ]
    },
    {
     "name": "stderr",
     "output_type": "stream",
     "text": []
    },
    {
     "name": "stdout",
     "output_type": "stream",
     "text": [
      "Iteration : 0 \n",
      " , Train Loss : 178.98873710632324 \n",
      ", Test Acc : 18.993581771850586 \n",
      "\n"
     ]
    },
    {
     "name": "stderr",
     "output_type": "stream",
     "text": []
    },
    {
     "name": "stdout",
     "output_type": "stream",
     "text": [
      "Iteration : 2 \n",
      " , Train Loss : 578.2445449829102 \n",
      ", Test Acc : 42.474491119384766 \n",
      "\n"
     ]
    },
    {
     "name": "stderr",
     "output_type": "stream",
     "text": []
    },
    {
     "name": "stdout",
     "output_type": "stream",
     "text": [
      "Iteration : 4 \n",
      " , Train Loss : 832.9923477172852 \n",
      ", Test Acc : 42.79827880859375 \n",
      "\n"
     ]
    },
    {
     "name": "stderr",
     "output_type": "stream",
     "text": []
    },
    {
     "name": "stdout",
     "output_type": "stream",
     "text": [
      "Iteration : 6 \n",
      " , Train Loss : 605.2884521484375 \n",
      ", Test Acc : 47.27626419067383 \n",
      "\n"
     ]
    },
    {
     "name": "stderr",
     "output_type": "stream",
     "text": []
    },
    {
     "name": "stdout",
     "output_type": "stream",
     "text": [
      "Iteration : 8 \n",
      " , Train Loss : 329.2520179748535 \n",
      ", Test Acc : 55.46256637573242 \n",
      "\n"
     ]
    },
    {
     "name": "stderr",
     "output_type": "stream",
     "text": []
    },
    {
     "name": "stdout",
     "output_type": "stream",
     "text": [
      "Iteration : 10 \n",
      " , Train Loss : 220.14105606079102 \n",
      ", Test Acc : 45.96157455444336 \n",
      "\n"
     ]
    },
    {
     "name": "stderr",
     "output_type": "stream",
     "text": []
    },
    {
     "name": "stdout",
     "output_type": "stream",
     "text": [
      "Iteration : 12 \n",
      " , Train Loss : 206.9523868560791 \n",
      ", Test Acc : 47.41096115112305 \n",
      "\n"
     ]
    },
    {
     "name": "stderr",
     "output_type": "stream",
     "text": []
    },
    {
     "name": "stdout",
     "output_type": "stream",
     "text": [
      "Iteration : 14 \n",
      " , Train Loss : 183.94085311889648 \n",
      ", Test Acc : 61.04800033569336 \n",
      "\n"
     ]
    },
    {
     "name": "stderr",
     "output_type": "stream",
     "text": []
    },
    {
     "name": "stdout",
     "output_type": "stream",
     "text": [
      "Iteration : 16 \n",
      " , Train Loss : 130.89248847961426 \n",
      ", Test Acc : 62.811893463134766 \n",
      "\n"
     ]
    },
    {
     "name": "stderr",
     "output_type": "stream",
     "text": []
    },
    {
     "name": "stdout",
     "output_type": "stream",
     "text": [
      "Iteration : 18 \n",
      " , Train Loss : 122.02001953125 \n",
      ", Test Acc : 64.98408508300781 \n",
      "\n"
     ]
    },
    {
     "name": "stderr",
     "output_type": "stream",
     "text": [
      "100%|██████████| 20/20 [00:08<00:00,  2.41it/s]\n",
      " 35%|███▌      | 55/157 [08:12<13:12,  7.77s/it]"
     ]
    },
    {
     "name": "stdout",
     "output_type": "stream",
     "text": [
      "Iteration : 19 \n",
      " , Train Loss : 140.27488803863525 \n",
      ", Test Acc : 67.18859100341797 \n",
      "\n"
     ]
    },
    {
     "name": "stderr",
     "output_type": "stream",
     "text": []
    },
    {
     "name": "stdout",
     "output_type": "stream",
     "text": [
      "Iteration : 0 \n",
      " , Train Loss : 163.36928367614746 \n",
      ", Test Acc : 17.207548141479492 \n",
      "\n"
     ]
    },
    {
     "name": "stderr",
     "output_type": "stream",
     "text": []
    },
    {
     "name": "stdout",
     "output_type": "stream",
     "text": [
      "Iteration : 2 \n",
      " , Train Loss : 593.2430267333984 \n",
      ", Test Acc : 18.815946578979492 \n",
      "\n"
     ]
    },
    {
     "name": "stderr",
     "output_type": "stream",
     "text": []
    },
    {
     "name": "stdout",
     "output_type": "stream",
     "text": [
      "Iteration : 4 \n",
      " , Train Loss : 752.8109893798828 \n",
      ", Test Acc : 23.160781860351562 \n",
      "\n"
     ]
    },
    {
     "name": "stderr",
     "output_type": "stream",
     "text": []
    },
    {
     "name": "stdout",
     "output_type": "stream",
     "text": [
      "Iteration : 6 \n",
      " , Train Loss : 478.64468002319336 \n",
      ", Test Acc : 26.31470489501953 \n",
      "\n"
     ]
    },
    {
     "name": "stderr",
     "output_type": "stream",
     "text": []
    },
    {
     "name": "stdout",
     "output_type": "stream",
     "text": [
      "Iteration : 8 \n",
      " , Train Loss : 485.2395668029785 \n",
      ", Test Acc : 42.34243392944336 \n",
      "\n"
     ]
    },
    {
     "name": "stderr",
     "output_type": "stream",
     "text": []
    },
    {
     "name": "stdout",
     "output_type": "stream",
     "text": [
      "Iteration : 10 \n",
      " , Train Loss : 325.6857681274414 \n",
      ", Test Acc : 47.2061653137207 \n",
      "\n"
     ]
    },
    {
     "name": "stderr",
     "output_type": "stream",
     "text": []
    },
    {
     "name": "stdout",
     "output_type": "stream",
     "text": [
      "Iteration : 12 \n",
      " , Train Loss : 220.01427459716797 \n",
      ", Test Acc : 57.72373580932617 \n",
      "\n"
     ]
    },
    {
     "name": "stderr",
     "output_type": "stream",
     "text": []
    },
    {
     "name": "stdout",
     "output_type": "stream",
     "text": [
      "Iteration : 14 \n",
      " , Train Loss : 176.31267166137695 \n",
      ", Test Acc : 58.34186935424805 \n",
      "\n"
     ]
    },
    {
     "name": "stderr",
     "output_type": "stream",
     "text": []
    },
    {
     "name": "stdout",
     "output_type": "stream",
     "text": [
      "Iteration : 16 \n",
      " , Train Loss : 161.20486545562744 \n",
      ", Test Acc : 59.43571472167969 \n",
      "\n"
     ]
    },
    {
     "name": "stderr",
     "output_type": "stream",
     "text": []
    },
    {
     "name": "stdout",
     "output_type": "stream",
     "text": [
      "Iteration : 18 \n",
      " , Train Loss : 172.87691116333008 \n",
      ", Test Acc : 64.08708190917969 \n",
      "\n"
     ]
    },
    {
     "name": "stderr",
     "output_type": "stream",
     "text": [
      "100%|██████████| 20/20 [00:07<00:00,  2.75it/s]\n",
      " 36%|███▌      | 56/157 [08:19<12:50,  7.62s/it]"
     ]
    },
    {
     "name": "stdout",
     "output_type": "stream",
     "text": [
      "Iteration : 19 \n",
      " , Train Loss : 149.56820964813232 \n",
      ", Test Acc : 64.25183868408203 \n",
      "\n"
     ]
    },
    {
     "name": "stderr",
     "output_type": "stream",
     "text": []
    },
    {
     "name": "stdout",
     "output_type": "stream",
     "text": [
      "Iteration : 0 \n",
      " , Train Loss : 182.92818450927734 \n",
      ", Test Acc : 20.06340980529785 \n",
      "\n"
     ]
    },
    {
     "name": "stderr",
     "output_type": "stream",
     "text": []
    },
    {
     "name": "stdout",
     "output_type": "stream",
     "text": [
      "Iteration : 2 \n",
      " , Train Loss : 811.0524520874023 \n",
      ", Test Acc : 18.07916831970215 \n",
      "\n"
     ]
    },
    {
     "name": "stderr",
     "output_type": "stream",
     "text": []
    },
    {
     "name": "stdout",
     "output_type": "stream",
     "text": [
      "Iteration : 4 \n",
      " , Train Loss : 468.9113235473633 \n",
      ", Test Acc : 17.84682273864746 \n",
      "\n"
     ]
    },
    {
     "name": "stderr",
     "output_type": "stream",
     "text": []
    },
    {
     "name": "stdout",
     "output_type": "stream",
     "text": [
      "Iteration : 6 \n",
      " , Train Loss : 354.52490615844727 \n",
      ", Test Acc : 38.55551528930664 \n",
      "\n"
     ]
    },
    {
     "name": "stderr",
     "output_type": "stream",
     "text": []
    },
    {
     "name": "stdout",
     "output_type": "stream",
     "text": [
      "Iteration : 8 \n",
      " , Train Loss : 293.1979866027832 \n",
      ", Test Acc : 46.58718490600586 \n",
      "\n"
     ]
    },
    {
     "name": "stderr",
     "output_type": "stream",
     "text": []
    },
    {
     "name": "stdout",
     "output_type": "stream",
     "text": [
      "Iteration : 10 \n",
      " , Train Loss : 243.92443656921387 \n",
      ", Test Acc : 45.00242233276367 \n",
      "\n"
     ]
    },
    {
     "name": "stderr",
     "output_type": "stream",
     "text": []
    },
    {
     "name": "stdout",
     "output_type": "stream",
     "text": [
      "Iteration : 12 \n",
      " , Train Loss : 256.5941848754883 \n",
      ", Test Acc : 47.08880615234375 \n",
      "\n"
     ]
    },
    {
     "name": "stderr",
     "output_type": "stream",
     "text": []
    },
    {
     "name": "stdout",
     "output_type": "stream",
     "text": [
      "Iteration : 14 \n",
      " , Train Loss : 187.13509941101074 \n",
      ", Test Acc : 54.82121658325195 \n",
      "\n"
     ]
    },
    {
     "name": "stderr",
     "output_type": "stream",
     "text": []
    },
    {
     "name": "stdout",
     "output_type": "stream",
     "text": [
      "Iteration : 16 \n",
      " , Train Loss : 137.00669288635254 \n",
      ", Test Acc : 58.31509780883789 \n",
      "\n"
     ]
    },
    {
     "name": "stderr",
     "output_type": "stream",
     "text": []
    },
    {
     "name": "stdout",
     "output_type": "stream",
     "text": [
      "Iteration : 18 \n",
      " , Train Loss : 121.44460201263428 \n",
      ", Test Acc : 57.54933166503906 \n",
      "\n"
     ]
    },
    {
     "name": "stderr",
     "output_type": "stream",
     "text": [
      "100%|██████████| 20/20 [00:07<00:00,  2.69it/s]\n",
      " 36%|███▋      | 57/157 [08:27<12:37,  7.58s/it]"
     ]
    },
    {
     "name": "stdout",
     "output_type": "stream",
     "text": [
      "Iteration : 19 \n",
      " , Train Loss : 127.57082271575928 \n",
      ", Test Acc : 57.140743255615234 \n",
      "\n"
     ]
    },
    {
     "name": "stderr",
     "output_type": "stream",
     "text": []
    },
    {
     "name": "stdout",
     "output_type": "stream",
     "text": [
      "Iteration : 0 \n",
      " , Train Loss : 156.60515785217285 \n",
      ", Test Acc : 23.918609619140625 \n",
      "\n"
     ]
    },
    {
     "name": "stderr",
     "output_type": "stream",
     "text": []
    },
    {
     "name": "stdout",
     "output_type": "stream",
     "text": [
      "Iteration : 2 \n",
      " , Train Loss : 716.524772644043 \n",
      ", Test Acc : 20.089597702026367 \n",
      "\n"
     ]
    },
    {
     "name": "stderr",
     "output_type": "stream",
     "text": []
    },
    {
     "name": "stdout",
     "output_type": "stream",
     "text": [
      "Iteration : 4 \n",
      " , Train Loss : 550.0333404541016 \n",
      ", Test Acc : 25.31370735168457 \n",
      "\n"
     ]
    },
    {
     "name": "stderr",
     "output_type": "stream",
     "text": []
    },
    {
     "name": "stdout",
     "output_type": "stream",
     "text": [
      "Iteration : 6 \n",
      " , Train Loss : 595.8571166992188 \n",
      ", Test Acc : 30.10194969177246 \n",
      "\n"
     ]
    },
    {
     "name": "stderr",
     "output_type": "stream",
     "text": []
    },
    {
     "name": "stdout",
     "output_type": "stream",
     "text": [
      "Iteration : 8 \n",
      " , Train Loss : 345.41211318969727 \n",
      ", Test Acc : 42.70504379272461 \n",
      "\n"
     ]
    },
    {
     "name": "stderr",
     "output_type": "stream",
     "text": []
    },
    {
     "name": "stdout",
     "output_type": "stream",
     "text": [
      "Iteration : 10 \n",
      " , Train Loss : 297.2742805480957 \n",
      ", Test Acc : 44.45936965942383 \n",
      "\n"
     ]
    },
    {
     "name": "stderr",
     "output_type": "stream",
     "text": []
    },
    {
     "name": "stdout",
     "output_type": "stream",
     "text": [
      "Iteration : 12 \n",
      " , Train Loss : 229.16197776794434 \n",
      ", Test Acc : 47.39009475708008 \n",
      "\n"
     ]
    },
    {
     "name": "stderr",
     "output_type": "stream",
     "text": []
    },
    {
     "name": "stdout",
     "output_type": "stream",
     "text": [
      "Iteration : 14 \n",
      " , Train Loss : 216.06803512573242 \n",
      ", Test Acc : 53.11146926879883 \n",
      "\n"
     ]
    },
    {
     "name": "stderr",
     "output_type": "stream",
     "text": []
    },
    {
     "name": "stdout",
     "output_type": "stream",
     "text": [
      "Iteration : 16 \n",
      " , Train Loss : 116.56966400146484 \n",
      ", Test Acc : 62.522586822509766 \n",
      "\n"
     ]
    },
    {
     "name": "stderr",
     "output_type": "stream",
     "text": []
    },
    {
     "name": "stdout",
     "output_type": "stream",
     "text": [
      "Iteration : 18 \n",
      " , Train Loss : 153.20098495483398 \n",
      ", Test Acc : 57.853092193603516 \n",
      "\n"
     ]
    },
    {
     "name": "stderr",
     "output_type": "stream",
     "text": [
      "100%|██████████| 20/20 [00:09<00:00,  2.10it/s]\n",
      " 37%|███▋      | 58/157 [08:36<13:28,  8.16s/it]"
     ]
    },
    {
     "name": "stdout",
     "output_type": "stream",
     "text": [
      "Iteration : 19 \n",
      " , Train Loss : 186.75159454345703 \n",
      ", Test Acc : 59.56321716308594 \n",
      "\n"
     ]
    },
    {
     "name": "stderr",
     "output_type": "stream",
     "text": []
    },
    {
     "name": "stdout",
     "output_type": "stream",
     "text": [
      "Iteration : 0 \n",
      " , Train Loss : 202.29804611206055 \n",
      ", Test Acc : 18.924991607666016 \n",
      "\n"
     ]
    },
    {
     "name": "stderr",
     "output_type": "stream",
     "text": []
    },
    {
     "name": "stdout",
     "output_type": "stream",
     "text": [
      "Iteration : 2 \n",
      " , Train Loss : 660.28955078125 \n",
      ", Test Acc : 19.924875259399414 \n",
      "\n"
     ]
    },
    {
     "name": "stderr",
     "output_type": "stream",
     "text": []
    },
    {
     "name": "stdout",
     "output_type": "stream",
     "text": [
      "Iteration : 4 \n",
      " , Train Loss : 942.6617126464844 \n",
      ", Test Acc : 29.312498092651367 \n",
      "\n"
     ]
    },
    {
     "name": "stderr",
     "output_type": "stream",
     "text": []
    },
    {
     "name": "stdout",
     "output_type": "stream",
     "text": [
      "Iteration : 6 \n",
      " , Train Loss : 535.5427703857422 \n",
      ", Test Acc : 44.12154769897461 \n",
      "\n"
     ]
    },
    {
     "name": "stderr",
     "output_type": "stream",
     "text": []
    },
    {
     "name": "stdout",
     "output_type": "stream",
     "text": [
      "Iteration : 8 \n",
      " , Train Loss : 320.6250915527344 \n",
      ", Test Acc : 46.41132736206055 \n",
      "\n"
     ]
    },
    {
     "name": "stderr",
     "output_type": "stream",
     "text": []
    },
    {
     "name": "stdout",
     "output_type": "stream",
     "text": [
      "Iteration : 10 \n",
      " , Train Loss : 241.54776191711426 \n",
      ", Test Acc : 47.27248001098633 \n",
      "\n"
     ]
    },
    {
     "name": "stderr",
     "output_type": "stream",
     "text": []
    },
    {
     "name": "stdout",
     "output_type": "stream",
     "text": [
      "Iteration : 12 \n",
      " , Train Loss : 211.9691390991211 \n",
      ", Test Acc : 44.23258972167969 \n",
      "\n"
     ]
    },
    {
     "name": "stderr",
     "output_type": "stream",
     "text": []
    },
    {
     "name": "stdout",
     "output_type": "stream",
     "text": [
      "Iteration : 14 \n",
      " , Train Loss : 215.91983032226562 \n",
      ", Test Acc : 53.299373626708984 \n",
      "\n"
     ]
    },
    {
     "name": "stderr",
     "output_type": "stream",
     "text": []
    },
    {
     "name": "stdout",
     "output_type": "stream",
     "text": [
      "Iteration : 16 \n",
      " , Train Loss : 142.1656150817871 \n",
      ", Test Acc : 63.0661735534668 \n",
      "\n"
     ]
    },
    {
     "name": "stderr",
     "output_type": "stream",
     "text": []
    },
    {
     "name": "stdout",
     "output_type": "stream",
     "text": [
      "Iteration : 18 \n",
      " , Train Loss : 121.31426048278809 \n",
      ", Test Acc : 63.23951721191406 \n",
      "\n"
     ]
    },
    {
     "name": "stderr",
     "output_type": "stream",
     "text": [
      "100%|██████████| 20/20 [00:06<00:00,  3.10it/s]\n",
      " 38%|███▊      | 59/157 [08:43<12:30,  7.66s/it]"
     ]
    },
    {
     "name": "stdout",
     "output_type": "stream",
     "text": [
      "Iteration : 19 \n",
      " , Train Loss : 122.19182300567627 \n",
      ", Test Acc : 66.59352111816406 \n",
      "\n"
     ]
    },
    {
     "name": "stderr",
     "output_type": "stream",
     "text": []
    },
    {
     "name": "stdout",
     "output_type": "stream",
     "text": [
      "Iteration : 0 \n",
      " , Train Loss : 164.6047878265381 \n",
      ", Test Acc : 23.20389747619629 \n",
      "\n"
     ]
    },
    {
     "name": "stderr",
     "output_type": "stream",
     "text": []
    },
    {
     "name": "stdout",
     "output_type": "stream",
     "text": [
      "Iteration : 2 \n",
      " , Train Loss : 661.9269332885742 \n",
      ", Test Acc : 34.515933990478516 \n",
      "\n"
     ]
    },
    {
     "name": "stderr",
     "output_type": "stream",
     "text": []
    },
    {
     "name": "stdout",
     "output_type": "stream",
     "text": [
      "Iteration : 4 \n",
      " , Train Loss : 649.7559509277344 \n",
      ", Test Acc : 42.056861877441406 \n",
      "\n"
     ]
    },
    {
     "name": "stderr",
     "output_type": "stream",
     "text": []
    },
    {
     "name": "stdout",
     "output_type": "stream",
     "text": [
      "Iteration : 6 \n",
      " , Train Loss : 404.7520637512207 \n",
      ", Test Acc : 46.8558349609375 \n",
      "\n"
     ]
    },
    {
     "name": "stderr",
     "output_type": "stream",
     "text": []
    },
    {
     "name": "stdout",
     "output_type": "stream",
     "text": [
      "Iteration : 8 \n",
      " , Train Loss : 275.72104263305664 \n",
      ", Test Acc : 48.76423263549805 \n",
      "\n"
     ]
    },
    {
     "name": "stderr",
     "output_type": "stream",
     "text": []
    },
    {
     "name": "stdout",
     "output_type": "stream",
     "text": [
      "Iteration : 10 \n",
      " , Train Loss : 204.41644668579102 \n",
      ", Test Acc : 57.16762924194336 \n",
      "\n"
     ]
    },
    {
     "name": "stderr",
     "output_type": "stream",
     "text": []
    },
    {
     "name": "stdout",
     "output_type": "stream",
     "text": [
      "Iteration : 12 \n",
      " , Train Loss : 142.5505485534668 \n",
      ", Test Acc : 57.73143005371094 \n",
      "\n"
     ]
    },
    {
     "name": "stderr",
     "output_type": "stream",
     "text": []
    },
    {
     "name": "stdout",
     "output_type": "stream",
     "text": [
      "Iteration : 14 \n",
      " , Train Loss : 189.5767126083374 \n",
      ", Test Acc : 59.4953498840332 \n",
      "\n"
     ]
    },
    {
     "name": "stderr",
     "output_type": "stream",
     "text": []
    },
    {
     "name": "stdout",
     "output_type": "stream",
     "text": [
      "Iteration : 16 \n",
      " , Train Loss : 168.29758548736572 \n",
      ", Test Acc : 64.37035369873047 \n",
      "\n"
     ]
    },
    {
     "name": "stderr",
     "output_type": "stream",
     "text": []
    },
    {
     "name": "stdout",
     "output_type": "stream",
     "text": [
      "Iteration : 18 \n",
      " , Train Loss : 137.3467082977295 \n",
      ", Test Acc : 68.53536987304688 \n",
      "\n"
     ]
    },
    {
     "name": "stderr",
     "output_type": "stream",
     "text": [
      "100%|██████████| 20/20 [00:08<00:00,  2.40it/s]\n",
      " 38%|███▊      | 60/157 [08:51<12:42,  7.86s/it]"
     ]
    },
    {
     "name": "stdout",
     "output_type": "stream",
     "text": [
      "Iteration : 19 \n",
      " , Train Loss : 123.32097816467285 \n",
      ", Test Acc : 68.99909210205078 \n",
      "\n"
     ]
    },
    {
     "name": "stderr",
     "output_type": "stream",
     "text": []
    },
    {
     "name": "stdout",
     "output_type": "stream",
     "text": [
      "Iteration : 0 \n",
      " , Train Loss : 162.30312156677246 \n",
      ", Test Acc : 23.21343994140625 \n",
      "\n"
     ]
    },
    {
     "name": "stderr",
     "output_type": "stream",
     "text": []
    },
    {
     "name": "stdout",
     "output_type": "stream",
     "text": [
      "Iteration : 2 \n",
      " , Train Loss : 629.9095611572266 \n",
      ", Test Acc : 36.072242736816406 \n",
      "\n"
     ]
    },
    {
     "name": "stderr",
     "output_type": "stream",
     "text": []
    },
    {
     "name": "stdout",
     "output_type": "stream",
     "text": [
      "Iteration : 4 \n",
      " , Train Loss : 864.3146362304688 \n",
      ", Test Acc : 38.40940475463867 \n",
      "\n"
     ]
    },
    {
     "name": "stderr",
     "output_type": "stream",
     "text": []
    },
    {
     "name": "stdout",
     "output_type": "stream",
     "text": [
      "Iteration : 6 \n",
      " , Train Loss : 526.3849487304688 \n",
      ", Test Acc : 49.10749435424805 \n",
      "\n"
     ]
    },
    {
     "name": "stderr",
     "output_type": "stream",
     "text": []
    },
    {
     "name": "stdout",
     "output_type": "stream",
     "text": [
      "Iteration : 8 \n",
      " , Train Loss : 318.17633056640625 \n",
      ", Test Acc : 43.70167541503906 \n",
      "\n"
     ]
    },
    {
     "name": "stderr",
     "output_type": "stream",
     "text": []
    },
    {
     "name": "stdout",
     "output_type": "stream",
     "text": [
      "Iteration : 10 \n",
      " , Train Loss : 282.0802936553955 \n",
      ", Test Acc : 38.66569900512695 \n",
      "\n"
     ]
    },
    {
     "name": "stderr",
     "output_type": "stream",
     "text": []
    },
    {
     "name": "stdout",
     "output_type": "stream",
     "text": [
      "Iteration : 12 \n",
      " , Train Loss : 241.31115531921387 \n",
      ", Test Acc : 50.82148361206055 \n",
      "\n"
     ]
    },
    {
     "name": "stderr",
     "output_type": "stream",
     "text": []
    },
    {
     "name": "stdout",
     "output_type": "stream",
     "text": [
      "Iteration : 14 \n",
      " , Train Loss : 169.8001708984375 \n",
      ", Test Acc : 58.15383529663086 \n",
      "\n"
     ]
    },
    {
     "name": "stderr",
     "output_type": "stream",
     "text": []
    },
    {
     "name": "stdout",
     "output_type": "stream",
     "text": [
      "Iteration : 16 \n",
      " , Train Loss : 179.7179832458496 \n",
      ", Test Acc : 61.8487663269043 \n",
      "\n"
     ]
    },
    {
     "name": "stderr",
     "output_type": "stream",
     "text": []
    },
    {
     "name": "stdout",
     "output_type": "stream",
     "text": [
      "Iteration : 18 \n",
      " , Train Loss : 180.6540584564209 \n",
      ", Test Acc : 61.62479019165039 \n",
      "\n"
     ]
    },
    {
     "name": "stderr",
     "output_type": "stream",
     "text": [
      "100%|██████████| 20/20 [00:07<00:00,  2.83it/s]\n",
      " 39%|███▉      | 61/157 [08:58<12:12,  7.63s/it]"
     ]
    },
    {
     "name": "stdout",
     "output_type": "stream",
     "text": [
      "Iteration : 19 \n",
      " , Train Loss : 182.7081527709961 \n",
      ", Test Acc : 61.74428939819336 \n",
      "\n"
     ]
    },
    {
     "name": "stderr",
     "output_type": "stream",
     "text": []
    },
    {
     "name": "stdout",
     "output_type": "stream",
     "text": [
      "Iteration : 0 \n",
      " , Train Loss : 200.97991371154785 \n",
      ", Test Acc : 18.837223052978516 \n",
      "\n"
     ]
    },
    {
     "name": "stderr",
     "output_type": "stream",
     "text": []
    },
    {
     "name": "stdout",
     "output_type": "stream",
     "text": [
      "Iteration : 2 \n",
      " , Train Loss : 704.0983734130859 \n",
      ", Test Acc : 25.41167640686035 \n",
      "\n"
     ]
    },
    {
     "name": "stderr",
     "output_type": "stream",
     "text": []
    },
    {
     "name": "stdout",
     "output_type": "stream",
     "text": [
      "Iteration : 4 \n",
      " , Train Loss : 759.7905960083008 \n",
      ", Test Acc : 32.58156204223633 \n",
      "\n"
     ]
    },
    {
     "name": "stderr",
     "output_type": "stream",
     "text": []
    },
    {
     "name": "stdout",
     "output_type": "stream",
     "text": [
      "Iteration : 6 \n",
      " , Train Loss : 563.8728485107422 \n",
      ", Test Acc : 38.699161529541016 \n",
      "\n"
     ]
    },
    {
     "name": "stderr",
     "output_type": "stream",
     "text": []
    },
    {
     "name": "stdout",
     "output_type": "stream",
     "text": [
      "Iteration : 8 \n",
      " , Train Loss : 450.50061416625977 \n",
      ", Test Acc : 40.110748291015625 \n",
      "\n"
     ]
    },
    {
     "name": "stderr",
     "output_type": "stream",
     "text": []
    },
    {
     "name": "stdout",
     "output_type": "stream",
     "text": [
      "Iteration : 10 \n",
      " , Train Loss : 244.8540439605713 \n",
      ", Test Acc : 40.68962478637695 \n",
      "\n"
     ]
    },
    {
     "name": "stderr",
     "output_type": "stream",
     "text": []
    },
    {
     "name": "stdout",
     "output_type": "stream",
     "text": [
      "Iteration : 12 \n",
      " , Train Loss : 202.49312782287598 \n",
      ", Test Acc : 44.36997604370117 \n",
      "\n"
     ]
    },
    {
     "name": "stderr",
     "output_type": "stream",
     "text": []
    },
    {
     "name": "stdout",
     "output_type": "stream",
     "text": [
      "Iteration : 14 \n",
      " , Train Loss : 193.1461582183838 \n",
      ", Test Acc : 47.9399528503418 \n",
      "\n"
     ]
    },
    {
     "name": "stderr",
     "output_type": "stream",
     "text": []
    },
    {
     "name": "stdout",
     "output_type": "stream",
     "text": [
      "Iteration : 16 \n",
      " , Train Loss : 136.69021797180176 \n",
      ", Test Acc : 54.68989562988281 \n",
      "\n"
     ]
    },
    {
     "name": "stderr",
     "output_type": "stream",
     "text": []
    },
    {
     "name": "stdout",
     "output_type": "stream",
     "text": [
      "Iteration : 18 \n",
      " , Train Loss : 140.5952730178833 \n",
      ", Test Acc : 52.46311569213867 \n",
      "\n"
     ]
    },
    {
     "name": "stderr",
     "output_type": "stream",
     "text": [
      "100%|██████████| 20/20 [00:07<00:00,  2.73it/s]\n",
      " 39%|███▉      | 62/157 [09:05<11:56,  7.54s/it]"
     ]
    },
    {
     "name": "stdout",
     "output_type": "stream",
     "text": [
      "Iteration : 19 \n",
      " , Train Loss : 136.02458000183105 \n",
      ", Test Acc : 53.1815185546875 \n",
      "\n"
     ]
    },
    {
     "name": "stderr",
     "output_type": "stream",
     "text": []
    },
    {
     "name": "stdout",
     "output_type": "stream",
     "text": [
      "Iteration : 0 \n",
      " , Train Loss : 206.3650016784668 \n",
      ", Test Acc : 20.255651473999023 \n",
      "\n"
     ]
    },
    {
     "name": "stderr",
     "output_type": "stream",
     "text": []
    },
    {
     "name": "stdout",
     "output_type": "stream",
     "text": [
      "Iteration : 2 \n",
      " , Train Loss : 849.5340805053711 \n",
      ", Test Acc : 30.828603744506836 \n",
      "\n"
     ]
    },
    {
     "name": "stderr",
     "output_type": "stream",
     "text": []
    },
    {
     "name": "stdout",
     "output_type": "stream",
     "text": [
      "Iteration : 4 \n",
      " , Train Loss : 1026.7786254882812 \n",
      ", Test Acc : 25.8763484954834 \n",
      "\n"
     ]
    },
    {
     "name": "stderr",
     "output_type": "stream",
     "text": []
    },
    {
     "name": "stdout",
     "output_type": "stream",
     "text": [
      "Iteration : 6 \n",
      " , Train Loss : 510.3003845214844 \n",
      ", Test Acc : 42.01774215698242 \n",
      "\n"
     ]
    },
    {
     "name": "stderr",
     "output_type": "stream",
     "text": []
    },
    {
     "name": "stdout",
     "output_type": "stream",
     "text": [
      "Iteration : 8 \n",
      " , Train Loss : 243.8705825805664 \n",
      ", Test Acc : 34.852378845214844 \n",
      "\n"
     ]
    },
    {
     "name": "stderr",
     "output_type": "stream",
     "text": []
    },
    {
     "name": "stdout",
     "output_type": "stream",
     "text": [
      "Iteration : 10 \n",
      " , Train Loss : 236.09319686889648 \n",
      ", Test Acc : 37.5365104675293 \n",
      "\n"
     ]
    },
    {
     "name": "stderr",
     "output_type": "stream",
     "text": []
    },
    {
     "name": "stdout",
     "output_type": "stream",
     "text": [
      "Iteration : 12 \n",
      " , Train Loss : 238.0865077972412 \n",
      ", Test Acc : 44.09010314941406 \n",
      "\n"
     ]
    },
    {
     "name": "stderr",
     "output_type": "stream",
     "text": []
    },
    {
     "name": "stdout",
     "output_type": "stream",
     "text": [
      "Iteration : 14 \n",
      " , Train Loss : 166.7460231781006 \n",
      ", Test Acc : 56.72007751464844 \n",
      "\n"
     ]
    },
    {
     "name": "stderr",
     "output_type": "stream",
     "text": []
    },
    {
     "name": "stdout",
     "output_type": "stream",
     "text": [
      "Iteration : 16 \n",
      " , Train Loss : 116.25684642791748 \n",
      ", Test Acc : 59.18836975097656 \n",
      "\n"
     ]
    },
    {
     "name": "stderr",
     "output_type": "stream",
     "text": []
    },
    {
     "name": "stdout",
     "output_type": "stream",
     "text": [
      "Iteration : 18 \n",
      " , Train Loss : 93.09481239318848 \n",
      ", Test Acc : 63.00691604614258 \n",
      "\n"
     ]
    },
    {
     "name": "stderr",
     "output_type": "stream",
     "text": [
      "100%|██████████| 20/20 [00:09<00:00,  2.08it/s]\n",
      " 40%|████      | 63/157 [09:15<12:48,  8.18s/it]"
     ]
    },
    {
     "name": "stdout",
     "output_type": "stream",
     "text": [
      "Iteration : 19 \n",
      " , Train Loss : 88.06125259399414 \n",
      ", Test Acc : 64.2528305053711 \n",
      "\n"
     ]
    },
    {
     "name": "stderr",
     "output_type": "stream",
     "text": []
    },
    {
     "name": "stdout",
     "output_type": "stream",
     "text": [
      "Iteration : 0 \n",
      " , Train Loss : 190.43202590942383 \n",
      ", Test Acc : 16.804079055786133 \n",
      "\n"
     ]
    },
    {
     "name": "stderr",
     "output_type": "stream",
     "text": []
    },
    {
     "name": "stdout",
     "output_type": "stream",
     "text": [
      "Iteration : 2 \n",
      " , Train Loss : 802.230110168457 \n",
      ", Test Acc : 18.604848861694336 \n",
      "\n"
     ]
    },
    {
     "name": "stderr",
     "output_type": "stream",
     "text": []
    },
    {
     "name": "stdout",
     "output_type": "stream",
     "text": [
      "Iteration : 4 \n",
      " , Train Loss : 1001.0561828613281 \n",
      ", Test Acc : 24.66071891784668 \n",
      "\n"
     ]
    },
    {
     "name": "stderr",
     "output_type": "stream",
     "text": []
    },
    {
     "name": "stdout",
     "output_type": "stream",
     "text": [
      "Iteration : 6 \n",
      " , Train Loss : 796.3134765625 \n",
      ", Test Acc : 20.149316787719727 \n",
      "\n"
     ]
    },
    {
     "name": "stderr",
     "output_type": "stream",
     "text": []
    },
    {
     "name": "stdout",
     "output_type": "stream",
     "text": [
      "Iteration : 8 \n",
      " , Train Loss : 644.1463470458984 \n",
      ", Test Acc : 24.746267318725586 \n",
      "\n"
     ]
    },
    {
     "name": "stderr",
     "output_type": "stream",
     "text": []
    },
    {
     "name": "stdout",
     "output_type": "stream",
     "text": [
      "Iteration : 10 \n",
      " , Train Loss : 405.65168380737305 \n",
      ", Test Acc : 39.56867599487305 \n",
      "\n"
     ]
    },
    {
     "name": "stderr",
     "output_type": "stream",
     "text": []
    },
    {
     "name": "stdout",
     "output_type": "stream",
     "text": [
      "Iteration : 12 \n",
      " , Train Loss : 221.0751724243164 \n",
      ", Test Acc : 37.983970642089844 \n",
      "\n"
     ]
    },
    {
     "name": "stderr",
     "output_type": "stream",
     "text": []
    },
    {
     "name": "stdout",
     "output_type": "stream",
     "text": [
      "Iteration : 14 \n",
      " , Train Loss : 324.54684829711914 \n",
      ", Test Acc : 40.94676208496094 \n",
      "\n"
     ]
    },
    {
     "name": "stderr",
     "output_type": "stream",
     "text": []
    },
    {
     "name": "stdout",
     "output_type": "stream",
     "text": [
      "Iteration : 16 \n",
      " , Train Loss : 269.502405166626 \n",
      ", Test Acc : 49.7624397277832 \n",
      "\n"
     ]
    },
    {
     "name": "stderr",
     "output_type": "stream",
     "text": []
    },
    {
     "name": "stdout",
     "output_type": "stream",
     "text": [
      "Iteration : 18 \n",
      " , Train Loss : 186.50170230865479 \n",
      ", Test Acc : 52.62318420410156 \n",
      "\n"
     ]
    },
    {
     "name": "stderr",
     "output_type": "stream",
     "text": [
      "100%|██████████| 20/20 [00:07<00:00,  2.74it/s]\n",
      " 41%|████      | 64/157 [09:22<12:16,  7.92s/it]"
     ]
    },
    {
     "name": "stdout",
     "output_type": "stream",
     "text": [
      "Iteration : 19 \n",
      " , Train Loss : 170.71575736999512 \n",
      ", Test Acc : 53.82889938354492 \n",
      "\n"
     ]
    },
    {
     "name": "stderr",
     "output_type": "stream",
     "text": []
    },
    {
     "name": "stdout",
     "output_type": "stream",
     "text": [
      "Iteration : 0 \n",
      " , Train Loss : 226.14505004882812 \n",
      ", Test Acc : 14.630748748779297 \n",
      "\n"
     ]
    },
    {
     "name": "stderr",
     "output_type": "stream",
     "text": []
    },
    {
     "name": "stdout",
     "output_type": "stream",
     "text": [
      "Iteration : 2 \n",
      " , Train Loss : 558.8755722045898 \n",
      ", Test Acc : 22.97373390197754 \n",
      "\n"
     ]
    },
    {
     "name": "stderr",
     "output_type": "stream",
     "text": []
    },
    {
     "name": "stdout",
     "output_type": "stream",
     "text": [
      "Iteration : 4 \n",
      " , Train Loss : 789.7848815917969 \n",
      ", Test Acc : 23.697446823120117 \n",
      "\n"
     ]
    },
    {
     "name": "stderr",
     "output_type": "stream",
     "text": []
    },
    {
     "name": "stdout",
     "output_type": "stream",
     "text": [
      "Iteration : 6 \n",
      " , Train Loss : 607.1774139404297 \n",
      ", Test Acc : 47.32524490356445 \n",
      "\n"
     ]
    },
    {
     "name": "stderr",
     "output_type": "stream",
     "text": []
    },
    {
     "name": "stdout",
     "output_type": "stream",
     "text": [
      "Iteration : 8 \n",
      " , Train Loss : 583.1721496582031 \n",
      ", Test Acc : 42.25864028930664 \n",
      "\n"
     ]
    },
    {
     "name": "stderr",
     "output_type": "stream",
     "text": []
    },
    {
     "name": "stdout",
     "output_type": "stream",
     "text": [
      "Iteration : 10 \n",
      " , Train Loss : 483.0992774963379 \n",
      ", Test Acc : 46.82890701293945 \n",
      "\n"
     ]
    },
    {
     "name": "stderr",
     "output_type": "stream",
     "text": []
    },
    {
     "name": "stdout",
     "output_type": "stream",
     "text": [
      "Iteration : 12 \n",
      " , Train Loss : 299.4596481323242 \n",
      ", Test Acc : 53.161014556884766 \n",
      "\n"
     ]
    },
    {
     "name": "stderr",
     "output_type": "stream",
     "text": []
    },
    {
     "name": "stdout",
     "output_type": "stream",
     "text": [
      "Iteration : 14 \n",
      " , Train Loss : 291.07593536376953 \n",
      ", Test Acc : 51.94266891479492 \n",
      "\n"
     ]
    },
    {
     "name": "stderr",
     "output_type": "stream",
     "text": []
    },
    {
     "name": "stdout",
     "output_type": "stream",
     "text": [
      "Iteration : 16 \n",
      " , Train Loss : 213.77845001220703 \n",
      ", Test Acc : 56.58491134643555 \n",
      "\n"
     ]
    },
    {
     "name": "stderr",
     "output_type": "stream",
     "text": []
    },
    {
     "name": "stdout",
     "output_type": "stream",
     "text": [
      "Iteration : 18 \n",
      " , Train Loss : 102.90794277191162 \n",
      ", Test Acc : 65.5592041015625 \n",
      "\n"
     ]
    },
    {
     "name": "stderr",
     "output_type": "stream",
     "text": [
      "100%|██████████| 20/20 [00:09<00:00,  2.12it/s]\n",
      " 41%|████▏     | 65/157 [09:32<12:51,  8.39s/it]"
     ]
    },
    {
     "name": "stdout",
     "output_type": "stream",
     "text": [
      "Iteration : 19 \n",
      " , Train Loss : 84.89788722991943 \n",
      ", Test Acc : 56.11183547973633 \n",
      "\n"
     ]
    },
    {
     "name": "stderr",
     "output_type": "stream",
     "text": []
    },
    {
     "name": "stdout",
     "output_type": "stream",
     "text": [
      "Iteration : 0 \n",
      " , Train Loss : 159.42637825012207 \n",
      ", Test Acc : 23.195512771606445 \n",
      "\n"
     ]
    },
    {
     "name": "stderr",
     "output_type": "stream",
     "text": []
    },
    {
     "name": "stdout",
     "output_type": "stream",
     "text": [
      "Iteration : 2 \n",
      " , Train Loss : 813.6684875488281 \n",
      ", Test Acc : 25.791709899902344 \n",
      "\n"
     ]
    },
    {
     "name": "stderr",
     "output_type": "stream",
     "text": []
    },
    {
     "name": "stdout",
     "output_type": "stream",
     "text": [
      "Iteration : 4 \n",
      " , Train Loss : 786.466911315918 \n",
      ", Test Acc : 34.9179801940918 \n",
      "\n"
     ]
    },
    {
     "name": "stderr",
     "output_type": "stream",
     "text": []
    },
    {
     "name": "stdout",
     "output_type": "stream",
     "text": [
      "Iteration : 6 \n",
      " , Train Loss : 431.62939453125 \n",
      ", Test Acc : 28.425430297851562 \n",
      "\n"
     ]
    },
    {
     "name": "stderr",
     "output_type": "stream",
     "text": []
    },
    {
     "name": "stdout",
     "output_type": "stream",
     "text": [
      "Iteration : 8 \n",
      " , Train Loss : 194.3016414642334 \n",
      ", Test Acc : 33.30355453491211 \n",
      "\n"
     ]
    },
    {
     "name": "stderr",
     "output_type": "stream",
     "text": []
    },
    {
     "name": "stdout",
     "output_type": "stream",
     "text": [
      "Iteration : 10 \n",
      " , Train Loss : 353.9312286376953 \n",
      ", Test Acc : 41.58543014526367 \n",
      "\n"
     ]
    },
    {
     "name": "stderr",
     "output_type": "stream",
     "text": []
    },
    {
     "name": "stdout",
     "output_type": "stream",
     "text": [
      "Iteration : 12 \n",
      " , Train Loss : 271.8867721557617 \n",
      ", Test Acc : 47.7108154296875 \n",
      "\n"
     ]
    },
    {
     "name": "stderr",
     "output_type": "stream",
     "text": []
    },
    {
     "name": "stdout",
     "output_type": "stream",
     "text": [
      "Iteration : 14 \n",
      " , Train Loss : 149.25420951843262 \n",
      ", Test Acc : 54.82517623901367 \n",
      "\n"
     ]
    },
    {
     "name": "stderr",
     "output_type": "stream",
     "text": []
    },
    {
     "name": "stdout",
     "output_type": "stream",
     "text": [
      "Iteration : 16 \n",
      " , Train Loss : 139.40876960754395 \n",
      ", Test Acc : 50.2038459777832 \n",
      "\n"
     ]
    },
    {
     "name": "stderr",
     "output_type": "stream",
     "text": []
    },
    {
     "name": "stdout",
     "output_type": "stream",
     "text": [
      "Iteration : 18 \n",
      " , Train Loss : 165.20430374145508 \n",
      ", Test Acc : 57.38850784301758 \n",
      "\n"
     ]
    },
    {
     "name": "stderr",
     "output_type": "stream",
     "text": [
      "100%|██████████| 20/20 [00:05<00:00,  3.81it/s]\n",
      " 42%|████▏     | 66/157 [09:37<11:18,  7.45s/it]"
     ]
    },
    {
     "name": "stdout",
     "output_type": "stream",
     "text": [
      "Iteration : 19 \n",
      " , Train Loss : 136.67340183258057 \n",
      ", Test Acc : 59.68083190917969 \n",
      "\n"
     ]
    },
    {
     "name": "stderr",
     "output_type": "stream",
     "text": []
    },
    {
     "name": "stdout",
     "output_type": "stream",
     "text": [
      "Iteration : 0 \n",
      " , Train Loss : 183.3056182861328 \n",
      ", Test Acc : 15.560673713684082 \n",
      "\n"
     ]
    },
    {
     "name": "stderr",
     "output_type": "stream",
     "text": []
    },
    {
     "name": "stdout",
     "output_type": "stream",
     "text": [
      "Iteration : 2 \n",
      " , Train Loss : 608.3145294189453 \n",
      ", Test Acc : 21.31830406188965 \n",
      "\n"
     ]
    },
    {
     "name": "stderr",
     "output_type": "stream",
     "text": []
    },
    {
     "name": "stdout",
     "output_type": "stream",
     "text": [
      "Iteration : 4 \n",
      " , Train Loss : 609.2269668579102 \n",
      ", Test Acc : 32.512855529785156 \n",
      "\n"
     ]
    },
    {
     "name": "stderr",
     "output_type": "stream",
     "text": []
    },
    {
     "name": "stdout",
     "output_type": "stream",
     "text": [
      "Iteration : 6 \n",
      " , Train Loss : 449.80164337158203 \n",
      ", Test Acc : 41.932193756103516 \n",
      "\n"
     ]
    },
    {
     "name": "stderr",
     "output_type": "stream",
     "text": []
    },
    {
     "name": "stdout",
     "output_type": "stream",
     "text": [
      "Iteration : 8 \n",
      " , Train Loss : 268.79353523254395 \n",
      ", Test Acc : 46.07978439331055 \n",
      "\n"
     ]
    },
    {
     "name": "stderr",
     "output_type": "stream",
     "text": []
    },
    {
     "name": "stdout",
     "output_type": "stream",
     "text": [
      "Iteration : 10 \n",
      " , Train Loss : 177.19897270202637 \n",
      ", Test Acc : 41.88027572631836 \n",
      "\n"
     ]
    },
    {
     "name": "stderr",
     "output_type": "stream",
     "text": []
    },
    {
     "name": "stdout",
     "output_type": "stream",
     "text": [
      "Iteration : 12 \n",
      " , Train Loss : 298.56682777404785 \n",
      ", Test Acc : 44.85054016113281 \n",
      "\n"
     ]
    },
    {
     "name": "stderr",
     "output_type": "stream",
     "text": []
    },
    {
     "name": "stdout",
     "output_type": "stream",
     "text": [
      "Iteration : 14 \n",
      " , Train Loss : 195.83266830444336 \n",
      ", Test Acc : 56.29034423828125 \n",
      "\n"
     ]
    },
    {
     "name": "stderr",
     "output_type": "stream",
     "text": []
    },
    {
     "name": "stdout",
     "output_type": "stream",
     "text": [
      "Iteration : 16 \n",
      " , Train Loss : 106.76183223724365 \n",
      ", Test Acc : 61.53178787231445 \n",
      "\n"
     ]
    },
    {
     "name": "stderr",
     "output_type": "stream",
     "text": []
    },
    {
     "name": "stdout",
     "output_type": "stream",
     "text": [
      "Iteration : 18 \n",
      " , Train Loss : 126.66901683807373 \n",
      ", Test Acc : 62.4867057800293 \n",
      "\n"
     ]
    },
    {
     "name": "stderr",
     "output_type": "stream",
     "text": [
      "100%|██████████| 20/20 [00:07<00:00,  2.77it/s]\n",
      " 43%|████▎     | 67/157 [09:44<11:05,  7.39s/it]"
     ]
    },
    {
     "name": "stdout",
     "output_type": "stream",
     "text": [
      "Iteration : 19 \n",
      " , Train Loss : 131.9517822265625 \n",
      ", Test Acc : 61.22740173339844 \n",
      "\n"
     ]
    },
    {
     "name": "stderr",
     "output_type": "stream",
     "text": []
    },
    {
     "name": "stdout",
     "output_type": "stream",
     "text": [
      "Iteration : 0 \n",
      " , Train Loss : 153.79837799072266 \n",
      ", Test Acc : 18.83660888671875 \n",
      "\n"
     ]
    },
    {
     "name": "stderr",
     "output_type": "stream",
     "text": []
    },
    {
     "name": "stdout",
     "output_type": "stream",
     "text": [
      "Iteration : 2 \n",
      " , Train Loss : 632.8383407592773 \n",
      ", Test Acc : 16.278194427490234 \n",
      "\n"
     ]
    },
    {
     "name": "stderr",
     "output_type": "stream",
     "text": []
    },
    {
     "name": "stdout",
     "output_type": "stream",
     "text": [
      "Iteration : 4 \n",
      " , Train Loss : 754.3813552856445 \n",
      ", Test Acc : 22.686803817749023 \n",
      "\n"
     ]
    },
    {
     "name": "stderr",
     "output_type": "stream",
     "text": []
    },
    {
     "name": "stdout",
     "output_type": "stream",
     "text": [
      "Iteration : 6 \n",
      " , Train Loss : 386.5915832519531 \n",
      ", Test Acc : 30.471872329711914 \n",
      "\n"
     ]
    },
    {
     "name": "stderr",
     "output_type": "stream",
     "text": []
    },
    {
     "name": "stdout",
     "output_type": "stream",
     "text": [
      "Iteration : 8 \n",
      " , Train Loss : 320.36169815063477 \n",
      ", Test Acc : 35.177528381347656 \n",
      "\n"
     ]
    },
    {
     "name": "stderr",
     "output_type": "stream",
     "text": []
    },
    {
     "name": "stdout",
     "output_type": "stream",
     "text": [
      "Iteration : 10 \n",
      " , Train Loss : 266.0267143249512 \n",
      ", Test Acc : 45.23207092285156 \n",
      "\n"
     ]
    },
    {
     "name": "stderr",
     "output_type": "stream",
     "text": []
    },
    {
     "name": "stdout",
     "output_type": "stream",
     "text": [
      "Iteration : 12 \n",
      " , Train Loss : 167.75886631011963 \n",
      ", Test Acc : 47.990142822265625 \n",
      "\n"
     ]
    },
    {
     "name": "stderr",
     "output_type": "stream",
     "text": []
    },
    {
     "name": "stdout",
     "output_type": "stream",
     "text": [
      "Iteration : 14 \n",
      " , Train Loss : 219.62130546569824 \n",
      ", Test Acc : 50.00918197631836 \n",
      "\n"
     ]
    },
    {
     "name": "stderr",
     "output_type": "stream",
     "text": []
    },
    {
     "name": "stdout",
     "output_type": "stream",
     "text": [
      "Iteration : 16 \n",
      " , Train Loss : 180.12241172790527 \n",
      ", Test Acc : 52.476715087890625 \n",
      "\n"
     ]
    },
    {
     "name": "stderr",
     "output_type": "stream",
     "text": []
    },
    {
     "name": "stdout",
     "output_type": "stream",
     "text": [
      "Iteration : 18 \n",
      " , Train Loss : 137.56619834899902 \n",
      ", Test Acc : 59.599178314208984 \n",
      "\n"
     ]
    },
    {
     "name": "stderr",
     "output_type": "stream",
     "text": [
      "100%|██████████| 20/20 [00:04<00:00,  4.05it/s]\n",
      " 43%|████▎     | 68/157 [09:49<09:53,  6.66s/it]"
     ]
    },
    {
     "name": "stdout",
     "output_type": "stream",
     "text": [
      "Iteration : 19 \n",
      " , Train Loss : 105.40682888031006 \n",
      ", Test Acc : 59.34419631958008 \n",
      "\n"
     ]
    },
    {
     "name": "stderr",
     "output_type": "stream",
     "text": []
    },
    {
     "name": "stdout",
     "output_type": "stream",
     "text": [
      "Iteration : 0 \n",
      " , Train Loss : 174.83354377746582 \n",
      ", Test Acc : 21.6563720703125 \n",
      "\n"
     ]
    },
    {
     "name": "stderr",
     "output_type": "stream",
     "text": []
    },
    {
     "name": "stdout",
     "output_type": "stream",
     "text": [
      "Iteration : 2 \n",
      " , Train Loss : 687.3352279663086 \n",
      ", Test Acc : 27.775259017944336 \n",
      "\n"
     ]
    },
    {
     "name": "stderr",
     "output_type": "stream",
     "text": []
    },
    {
     "name": "stdout",
     "output_type": "stream",
     "text": [
      "Iteration : 4 \n",
      " , Train Loss : 700.8122787475586 \n",
      ", Test Acc : 42.41229248046875 \n",
      "\n"
     ]
    },
    {
     "name": "stderr",
     "output_type": "stream",
     "text": []
    },
    {
     "name": "stdout",
     "output_type": "stream",
     "text": [
      "Iteration : 6 \n",
      " , Train Loss : 546.5389938354492 \n",
      ", Test Acc : 42.122859954833984 \n",
      "\n"
     ]
    },
    {
     "name": "stderr",
     "output_type": "stream",
     "text": []
    },
    {
     "name": "stdout",
     "output_type": "stream",
     "text": [
      "Iteration : 8 \n",
      " , Train Loss : 388.88250732421875 \n",
      ", Test Acc : 45.07944869995117 \n",
      "\n"
     ]
    },
    {
     "name": "stderr",
     "output_type": "stream",
     "text": []
    },
    {
     "name": "stdout",
     "output_type": "stream",
     "text": [
      "Iteration : 10 \n",
      " , Train Loss : 139.88042640686035 \n",
      ", Test Acc : 51.9473762512207 \n",
      "\n"
     ]
    },
    {
     "name": "stderr",
     "output_type": "stream",
     "text": []
    },
    {
     "name": "stdout",
     "output_type": "stream",
     "text": [
      "Iteration : 12 \n",
      " , Train Loss : 232.26158714294434 \n",
      ", Test Acc : 46.11445999145508 \n",
      "\n"
     ]
    },
    {
     "name": "stderr",
     "output_type": "stream",
     "text": []
    },
    {
     "name": "stdout",
     "output_type": "stream",
     "text": [
      "Iteration : 14 \n",
      " , Train Loss : 193.62342834472656 \n",
      ", Test Acc : 55.37364196777344 \n",
      "\n"
     ]
    },
    {
     "name": "stderr",
     "output_type": "stream",
     "text": []
    },
    {
     "name": "stdout",
     "output_type": "stream",
     "text": [
      "Iteration : 16 \n",
      " , Train Loss : 130.2513084411621 \n",
      ", Test Acc : 60.836544036865234 \n",
      "\n"
     ]
    },
    {
     "name": "stderr",
     "output_type": "stream",
     "text": []
    },
    {
     "name": "stdout",
     "output_type": "stream",
     "text": [
      "Iteration : 18 \n",
      " , Train Loss : 122.71084213256836 \n",
      ", Test Acc : 63.429290771484375 \n",
      "\n"
     ]
    },
    {
     "name": "stderr",
     "output_type": "stream",
     "text": [
      "100%|██████████| 20/20 [00:06<00:00,  2.87it/s]\n",
      " 44%|████▍     | 69/157 [09:56<09:54,  6.76s/it]"
     ]
    },
    {
     "name": "stdout",
     "output_type": "stream",
     "text": [
      "Iteration : 19 \n",
      " , Train Loss : 97.52284336090088 \n",
      ", Test Acc : 64.47638702392578 \n",
      "\n"
     ]
    },
    {
     "name": "stderr",
     "output_type": "stream",
     "text": []
    },
    {
     "name": "stdout",
     "output_type": "stream",
     "text": [
      "Iteration : 0 \n",
      " , Train Loss : 150.2856960296631 \n",
      ", Test Acc : 26.48236083984375 \n",
      "\n"
     ]
    },
    {
     "name": "stderr",
     "output_type": "stream",
     "text": []
    },
    {
     "name": "stdout",
     "output_type": "stream",
     "text": [
      "Iteration : 2 \n",
      " , Train Loss : 527.3055953979492 \n",
      ", Test Acc : 29.48242950439453 \n",
      "\n"
     ]
    },
    {
     "name": "stderr",
     "output_type": "stream",
     "text": []
    },
    {
     "name": "stdout",
     "output_type": "stream",
     "text": [
      "Iteration : 4 \n",
      " , Train Loss : 599.6581382751465 \n",
      ", Test Acc : 19.147319793701172 \n",
      "\n"
     ]
    },
    {
     "name": "stderr",
     "output_type": "stream",
     "text": []
    },
    {
     "name": "stdout",
     "output_type": "stream",
     "text": [
      "Iteration : 6 \n",
      " , Train Loss : 342.71326446533203 \n",
      ", Test Acc : 47.4626579284668 \n",
      "\n"
     ]
    },
    {
     "name": "stderr",
     "output_type": "stream",
     "text": []
    },
    {
     "name": "stdout",
     "output_type": "stream",
     "text": [
      "Iteration : 8 \n",
      " , Train Loss : 297.67162895202637 \n",
      ", Test Acc : 54.28326416015625 \n",
      "\n"
     ]
    },
    {
     "name": "stderr",
     "output_type": "stream",
     "text": []
    },
    {
     "name": "stdout",
     "output_type": "stream",
     "text": [
      "Iteration : 10 \n",
      " , Train Loss : 270.9017086029053 \n",
      ", Test Acc : 57.7368049621582 \n",
      "\n"
     ]
    },
    {
     "name": "stderr",
     "output_type": "stream",
     "text": []
    },
    {
     "name": "stdout",
     "output_type": "stream",
     "text": [
      "Iteration : 12 \n",
      " , Train Loss : 184.64896202087402 \n",
      ", Test Acc : 62.078643798828125 \n",
      "\n"
     ]
    },
    {
     "name": "stderr",
     "output_type": "stream",
     "text": []
    },
    {
     "name": "stdout",
     "output_type": "stream",
     "text": [
      "Iteration : 14 \n",
      " , Train Loss : 184.25626945495605 \n",
      ", Test Acc : 61.31435012817383 \n",
      "\n"
     ]
    },
    {
     "name": "stderr",
     "output_type": "stream",
     "text": []
    },
    {
     "name": "stdout",
     "output_type": "stream",
     "text": [
      "Iteration : 16 \n",
      " , Train Loss : 198.04153060913086 \n",
      ", Test Acc : 63.63166809082031 \n",
      "\n"
     ]
    },
    {
     "name": "stderr",
     "output_type": "stream",
     "text": []
    },
    {
     "name": "stdout",
     "output_type": "stream",
     "text": [
      "Iteration : 18 \n",
      " , Train Loss : 152.9657907485962 \n",
      ", Test Acc : 67.92989349365234 \n",
      "\n"
     ]
    },
    {
     "name": "stderr",
     "output_type": "stream",
     "text": [
      "100%|██████████| 20/20 [00:07<00:00,  2.63it/s]\n",
      " 45%|████▍     | 70/157 [10:04<10:10,  7.02s/it]"
     ]
    },
    {
     "name": "stdout",
     "output_type": "stream",
     "text": [
      "Iteration : 19 \n",
      " , Train Loss : 148.2259006500244 \n",
      ", Test Acc : 66.92435455322266 \n",
      "\n"
     ]
    },
    {
     "name": "stderr",
     "output_type": "stream",
     "text": []
    },
    {
     "name": "stdout",
     "output_type": "stream",
     "text": [
      "Iteration : 0 \n",
      " , Train Loss : 233.15080642700195 \n",
      ", Test Acc : 16.4625186920166 \n",
      "\n"
     ]
    },
    {
     "name": "stderr",
     "output_type": "stream",
     "text": []
    },
    {
     "name": "stdout",
     "output_type": "stream",
     "text": [
      "Iteration : 2 \n",
      " , Train Loss : 630.4823226928711 \n",
      ", Test Acc : 24.514144897460938 \n",
      "\n"
     ]
    },
    {
     "name": "stderr",
     "output_type": "stream",
     "text": []
    },
    {
     "name": "stdout",
     "output_type": "stream",
     "text": [
      "Iteration : 4 \n",
      " , Train Loss : 831.1584320068359 \n",
      ", Test Acc : 37.16292953491211 \n",
      "\n"
     ]
    },
    {
     "name": "stderr",
     "output_type": "stream",
     "text": []
    },
    {
     "name": "stdout",
     "output_type": "stream",
     "text": [
      "Iteration : 6 \n",
      " , Train Loss : 548.8258895874023 \n",
      ", Test Acc : 34.59306716918945 \n",
      "\n"
     ]
    },
    {
     "name": "stderr",
     "output_type": "stream",
     "text": []
    },
    {
     "name": "stdout",
     "output_type": "stream",
     "text": [
      "Iteration : 8 \n",
      " , Train Loss : 341.90509033203125 \n",
      ", Test Acc : 47.211090087890625 \n",
      "\n"
     ]
    },
    {
     "name": "stderr",
     "output_type": "stream",
     "text": []
    },
    {
     "name": "stdout",
     "output_type": "stream",
     "text": [
      "Iteration : 10 \n",
      " , Train Loss : 186.77922821044922 \n",
      ", Test Acc : 59.05550765991211 \n",
      "\n"
     ]
    },
    {
     "name": "stderr",
     "output_type": "stream",
     "text": []
    },
    {
     "name": "stdout",
     "output_type": "stream",
     "text": [
      "Iteration : 12 \n",
      " , Train Loss : 193.75949573516846 \n",
      ", Test Acc : 54.15595626831055 \n",
      "\n"
     ]
    },
    {
     "name": "stderr",
     "output_type": "stream",
     "text": []
    },
    {
     "name": "stdout",
     "output_type": "stream",
     "text": [
      "Iteration : 14 \n",
      " , Train Loss : 247.53473472595215 \n",
      ", Test Acc : 55.17265319824219 \n",
      "\n"
     ]
    },
    {
     "name": "stderr",
     "output_type": "stream",
     "text": []
    },
    {
     "name": "stdout",
     "output_type": "stream",
     "text": [
      "Iteration : 16 \n",
      " , Train Loss : 186.54230213165283 \n",
      ", Test Acc : 60.6064338684082 \n",
      "\n"
     ]
    },
    {
     "name": "stderr",
     "output_type": "stream",
     "text": []
    },
    {
     "name": "stdout",
     "output_type": "stream",
     "text": [
      "Iteration : 18 \n",
      " , Train Loss : 141.04001569747925 \n",
      ", Test Acc : 63.10316467285156 \n",
      "\n"
     ]
    },
    {
     "name": "stderr",
     "output_type": "stream",
     "text": [
      "100%|██████████| 20/20 [00:09<00:00,  2.08it/s]\n",
      " 45%|████▌     | 71/157 [10:14<11:11,  7.81s/it]"
     ]
    },
    {
     "name": "stdout",
     "output_type": "stream",
     "text": [
      "Iteration : 19 \n",
      " , Train Loss : 146.89326190948486 \n",
      ", Test Acc : 64.62252807617188 \n",
      "\n"
     ]
    },
    {
     "name": "stderr",
     "output_type": "stream",
     "text": []
    },
    {
     "name": "stdout",
     "output_type": "stream",
     "text": [
      "Iteration : 0 \n",
      " , Train Loss : 173.98596572875977 \n",
      ", Test Acc : 17.908891677856445 \n",
      "\n"
     ]
    },
    {
     "name": "stderr",
     "output_type": "stream",
     "text": []
    },
    {
     "name": "stdout",
     "output_type": "stream",
     "text": [
      "Iteration : 2 \n",
      " , Train Loss : 687.8669509887695 \n",
      ", Test Acc : 28.376068115234375 \n",
      "\n"
     ]
    },
    {
     "name": "stderr",
     "output_type": "stream",
     "text": []
    },
    {
     "name": "stdout",
     "output_type": "stream",
     "text": [
      "Iteration : 4 \n",
      " , Train Loss : 523.3872032165527 \n",
      ", Test Acc : 34.357295989990234 \n",
      "\n"
     ]
    },
    {
     "name": "stderr",
     "output_type": "stream",
     "text": []
    },
    {
     "name": "stdout",
     "output_type": "stream",
     "text": [
      "Iteration : 6 \n",
      " , Train Loss : 381.84560775756836 \n",
      ", Test Acc : 53.27312088012695 \n",
      "\n"
     ]
    },
    {
     "name": "stderr",
     "output_type": "stream",
     "text": []
    },
    {
     "name": "stdout",
     "output_type": "stream",
     "text": [
      "Iteration : 8 \n",
      " , Train Loss : 238.22624588012695 \n",
      ", Test Acc : 53.419769287109375 \n",
      "\n"
     ]
    },
    {
     "name": "stderr",
     "output_type": "stream",
     "text": []
    },
    {
     "name": "stdout",
     "output_type": "stream",
     "text": [
      "Iteration : 10 \n",
      " , Train Loss : 184.103835105896 \n",
      ", Test Acc : 50.34653091430664 \n",
      "\n"
     ]
    },
    {
     "name": "stderr",
     "output_type": "stream",
     "text": []
    },
    {
     "name": "stdout",
     "output_type": "stream",
     "text": [
      "Iteration : 12 \n",
      " , Train Loss : 199.89078521728516 \n",
      ", Test Acc : 52.75534439086914 \n",
      "\n"
     ]
    },
    {
     "name": "stderr",
     "output_type": "stream",
     "text": []
    },
    {
     "name": "stdout",
     "output_type": "stream",
     "text": [
      "Iteration : 14 \n",
      " , Train Loss : 108.13474655151367 \n",
      ", Test Acc : 65.51331329345703 \n",
      "\n"
     ]
    },
    {
     "name": "stderr",
     "output_type": "stream",
     "text": []
    },
    {
     "name": "stdout",
     "output_type": "stream",
     "text": [
      "Iteration : 16 \n",
      " , Train Loss : 129.70463371276855 \n",
      ", Test Acc : 60.68368148803711 \n",
      "\n"
     ]
    },
    {
     "name": "stderr",
     "output_type": "stream",
     "text": []
    },
    {
     "name": "stdout",
     "output_type": "stream",
     "text": [
      "Iteration : 18 \n",
      " , Train Loss : 143.18324518203735 \n",
      ", Test Acc : 62.4075927734375 \n",
      "\n"
     ]
    },
    {
     "name": "stderr",
     "output_type": "stream",
     "text": [
      "100%|██████████| 20/20 [00:07<00:00,  2.64it/s]\n",
      " 46%|████▌     | 72/157 [10:21<10:58,  7.75s/it]"
     ]
    },
    {
     "name": "stdout",
     "output_type": "stream",
     "text": [
      "Iteration : 19 \n",
      " , Train Loss : 145.1039924621582 \n",
      ", Test Acc : 64.32501983642578 \n",
      "\n"
     ]
    },
    {
     "name": "stderr",
     "output_type": "stream",
     "text": []
    },
    {
     "name": "stdout",
     "output_type": "stream",
     "text": [
      "Iteration : 0 \n",
      " , Train Loss : 162.9899845123291 \n",
      ", Test Acc : 24.467241287231445 \n",
      "\n"
     ]
    },
    {
     "name": "stderr",
     "output_type": "stream",
     "text": []
    },
    {
     "name": "stdout",
     "output_type": "stream",
     "text": [
      "Iteration : 2 \n",
      " , Train Loss : 611.2330093383789 \n",
      ", Test Acc : 30.261083602905273 \n",
      "\n"
     ]
    },
    {
     "name": "stderr",
     "output_type": "stream",
     "text": []
    },
    {
     "name": "stdout",
     "output_type": "stream",
     "text": [
      "Iteration : 4 \n",
      " , Train Loss : 527.3363914489746 \n",
      ", Test Acc : 38.791866302490234 \n",
      "\n"
     ]
    },
    {
     "name": "stderr",
     "output_type": "stream",
     "text": []
    },
    {
     "name": "stdout",
     "output_type": "stream",
     "text": [
      "Iteration : 6 \n",
      " , Train Loss : 482.7457733154297 \n",
      ", Test Acc : 42.93268966674805 \n",
      "\n"
     ]
    },
    {
     "name": "stderr",
     "output_type": "stream",
     "text": []
    },
    {
     "name": "stdout",
     "output_type": "stream",
     "text": [
      "Iteration : 8 \n",
      " , Train Loss : 375.94498443603516 \n",
      ", Test Acc : 50.63802719116211 \n",
      "\n"
     ]
    },
    {
     "name": "stderr",
     "output_type": "stream",
     "text": []
    },
    {
     "name": "stdout",
     "output_type": "stream",
     "text": [
      "Iteration : 10 \n",
      " , Train Loss : 202.524169921875 \n",
      ", Test Acc : 49.027957916259766 \n",
      "\n"
     ]
    },
    {
     "name": "stderr",
     "output_type": "stream",
     "text": []
    },
    {
     "name": "stdout",
     "output_type": "stream",
     "text": [
      "Iteration : 12 \n",
      " , Train Loss : 203.9607276916504 \n",
      ", Test Acc : 49.050140380859375 \n",
      "\n"
     ]
    },
    {
     "name": "stderr",
     "output_type": "stream",
     "text": []
    },
    {
     "name": "stdout",
     "output_type": "stream",
     "text": [
      "Iteration : 14 \n",
      " , Train Loss : 154.58281707763672 \n",
      ", Test Acc : 51.76350784301758 \n",
      "\n"
     ]
    },
    {
     "name": "stderr",
     "output_type": "stream",
     "text": []
    },
    {
     "name": "stdout",
     "output_type": "stream",
     "text": [
      "Iteration : 16 \n",
      " , Train Loss : 149.50897598266602 \n",
      ", Test Acc : 53.51938247680664 \n",
      "\n"
     ]
    },
    {
     "name": "stderr",
     "output_type": "stream",
     "text": []
    },
    {
     "name": "stdout",
     "output_type": "stream",
     "text": [
      "Iteration : 18 \n",
      " , Train Loss : 134.12133026123047 \n",
      ", Test Acc : 62.068233489990234 \n",
      "\n"
     ]
    },
    {
     "name": "stderr",
     "output_type": "stream",
     "text": [
      "100%|██████████| 20/20 [00:07<00:00,  2.54it/s]\n",
      " 46%|████▋     | 73/157 [10:29<10:55,  7.80s/it]"
     ]
    },
    {
     "name": "stdout",
     "output_type": "stream",
     "text": [
      "Iteration : 19 \n",
      " , Train Loss : 117.38161945343018 \n",
      ", Test Acc : 62.97695541381836 \n",
      "\n"
     ]
    },
    {
     "name": "stderr",
     "output_type": "stream",
     "text": []
    },
    {
     "name": "stdout",
     "output_type": "stream",
     "text": [
      "Iteration : 0 \n",
      " , Train Loss : 150.94585990905762 \n",
      ", Test Acc : 17.816434860229492 \n",
      "\n"
     ]
    },
    {
     "name": "stderr",
     "output_type": "stream",
     "text": []
    },
    {
     "name": "stdout",
     "output_type": "stream",
     "text": [
      "Iteration : 2 \n",
      " , Train Loss : 724.6151428222656 \n",
      ", Test Acc : 14.182122230529785 \n",
      "\n"
     ]
    },
    {
     "name": "stderr",
     "output_type": "stream",
     "text": []
    },
    {
     "name": "stdout",
     "output_type": "stream",
     "text": [
      "Iteration : 4 \n",
      " , Train Loss : 668.3661575317383 \n",
      ", Test Acc : 28.352643966674805 \n",
      "\n"
     ]
    },
    {
     "name": "stderr",
     "output_type": "stream",
     "text": []
    },
    {
     "name": "stdout",
     "output_type": "stream",
     "text": [
      "Iteration : 6 \n",
      " , Train Loss : 324.7952575683594 \n",
      ", Test Acc : 36.61534118652344 \n",
      "\n"
     ]
    },
    {
     "name": "stderr",
     "output_type": "stream",
     "text": []
    },
    {
     "name": "stdout",
     "output_type": "stream",
     "text": [
      "Iteration : 8 \n",
      " , Train Loss : 378.3178291320801 \n",
      ", Test Acc : 33.85170364379883 \n",
      "\n"
     ]
    },
    {
     "name": "stderr",
     "output_type": "stream",
     "text": []
    },
    {
     "name": "stdout",
     "output_type": "stream",
     "text": [
      "Iteration : 10 \n",
      " , Train Loss : 301.08578872680664 \n",
      ", Test Acc : 44.9017333984375 \n",
      "\n"
     ]
    },
    {
     "name": "stderr",
     "output_type": "stream",
     "text": []
    },
    {
     "name": "stdout",
     "output_type": "stream",
     "text": [
      "Iteration : 12 \n",
      " , Train Loss : 234.60746002197266 \n",
      ", Test Acc : 52.16566848754883 \n",
      "\n"
     ]
    },
    {
     "name": "stderr",
     "output_type": "stream",
     "text": []
    },
    {
     "name": "stdout",
     "output_type": "stream",
     "text": [
      "Iteration : 14 \n",
      " , Train Loss : 138.31852102279663 \n",
      ", Test Acc : 60.07529830932617 \n",
      "\n"
     ]
    },
    {
     "name": "stderr",
     "output_type": "stream",
     "text": []
    },
    {
     "name": "stdout",
     "output_type": "stream",
     "text": [
      "Iteration : 16 \n",
      " , Train Loss : 169.70287895202637 \n",
      ", Test Acc : 55.6859016418457 \n",
      "\n"
     ]
    },
    {
     "name": "stderr",
     "output_type": "stream",
     "text": []
    },
    {
     "name": "stdout",
     "output_type": "stream",
     "text": [
      "Iteration : 18 \n",
      " , Train Loss : 148.42804718017578 \n",
      ", Test Acc : 55.11661911010742 \n",
      "\n"
     ]
    },
    {
     "name": "stderr",
     "output_type": "stream",
     "text": [
      "100%|██████████| 20/20 [00:09<00:00,  2.00it/s]\n",
      " 47%|████▋     | 74/157 [10:39<11:42,  8.47s/it]"
     ]
    },
    {
     "name": "stdout",
     "output_type": "stream",
     "text": [
      "Iteration : 19 \n",
      " , Train Loss : 157.45221042633057 \n",
      ", Test Acc : 55.51491165161133 \n",
      "\n"
     ]
    },
    {
     "name": "stderr",
     "output_type": "stream",
     "text": []
    },
    {
     "name": "stdout",
     "output_type": "stream",
     "text": [
      "Iteration : 0 \n",
      " , Train Loss : 175.5458469390869 \n",
      ", Test Acc : 20.925615310668945 \n",
      "\n"
     ]
    },
    {
     "name": "stderr",
     "output_type": "stream",
     "text": []
    },
    {
     "name": "stdout",
     "output_type": "stream",
     "text": [
      "Iteration : 2 \n",
      " , Train Loss : 570.2350921630859 \n",
      ", Test Acc : 32.937374114990234 \n",
      "\n"
     ]
    },
    {
     "name": "stderr",
     "output_type": "stream",
     "text": []
    },
    {
     "name": "stdout",
     "output_type": "stream",
     "text": [
      "Iteration : 4 \n",
      " , Train Loss : 475.2685317993164 \n",
      ", Test Acc : 33.30473709106445 \n",
      "\n"
     ]
    },
    {
     "name": "stderr",
     "output_type": "stream",
     "text": []
    },
    {
     "name": "stdout",
     "output_type": "stream",
     "text": [
      "Iteration : 6 \n",
      " , Train Loss : 294.3370132446289 \n",
      ", Test Acc : 55.203189849853516 \n",
      "\n"
     ]
    },
    {
     "name": "stderr",
     "output_type": "stream",
     "text": []
    },
    {
     "name": "stdout",
     "output_type": "stream",
     "text": [
      "Iteration : 8 \n",
      " , Train Loss : 214.70672988891602 \n",
      ", Test Acc : 54.3238639831543 \n",
      "\n"
     ]
    },
    {
     "name": "stderr",
     "output_type": "stream",
     "text": []
    },
    {
     "name": "stdout",
     "output_type": "stream",
     "text": [
      "Iteration : 10 \n",
      " , Train Loss : 247.3528289794922 \n",
      ", Test Acc : 53.234161376953125 \n",
      "\n"
     ]
    },
    {
     "name": "stderr",
     "output_type": "stream",
     "text": []
    },
    {
     "name": "stdout",
     "output_type": "stream",
     "text": [
      "Iteration : 12 \n",
      " , Train Loss : 196.01094722747803 \n",
      ", Test Acc : 57.770626068115234 \n",
      "\n"
     ]
    },
    {
     "name": "stderr",
     "output_type": "stream",
     "text": []
    },
    {
     "name": "stdout",
     "output_type": "stream",
     "text": [
      "Iteration : 14 \n",
      " , Train Loss : 148.74585151672363 \n",
      ", Test Acc : 62.50740432739258 \n",
      "\n"
     ]
    },
    {
     "name": "stderr",
     "output_type": "stream",
     "text": []
    },
    {
     "name": "stdout",
     "output_type": "stream",
     "text": [
      "Iteration : 16 \n",
      " , Train Loss : 141.92061567306519 \n",
      ", Test Acc : 63.7015495300293 \n",
      "\n"
     ]
    },
    {
     "name": "stderr",
     "output_type": "stream",
     "text": []
    },
    {
     "name": "stdout",
     "output_type": "stream",
     "text": [
      "Iteration : 18 \n",
      " , Train Loss : 131.90187168121338 \n",
      ", Test Acc : 67.41796875 \n",
      "\n"
     ]
    },
    {
     "name": "stderr",
     "output_type": "stream",
     "text": [
      "100%|██████████| 20/20 [00:07<00:00,  2.69it/s]\n",
      " 48%|████▊     | 75/157 [10:47<11:09,  8.17s/it]"
     ]
    },
    {
     "name": "stdout",
     "output_type": "stream",
     "text": [
      "Iteration : 19 \n",
      " , Train Loss : 138.15511226654053 \n",
      ", Test Acc : 68.09766387939453 \n",
      "\n"
     ]
    },
    {
     "name": "stderr",
     "output_type": "stream",
     "text": []
    },
    {
     "name": "stdout",
     "output_type": "stream",
     "text": [
      "Iteration : 0 \n",
      " , Train Loss : 174.31276512145996 \n",
      ", Test Acc : 32.5426139831543 \n",
      "\n"
     ]
    },
    {
     "name": "stderr",
     "output_type": "stream",
     "text": []
    },
    {
     "name": "stdout",
     "output_type": "stream",
     "text": [
      "Iteration : 2 \n",
      " , Train Loss : 767.0419692993164 \n",
      ", Test Acc : 20.74297332763672 \n",
      "\n"
     ]
    },
    {
     "name": "stderr",
     "output_type": "stream",
     "text": []
    },
    {
     "name": "stdout",
     "output_type": "stream",
     "text": [
      "Iteration : 4 \n",
      " , Train Loss : 446.2941246032715 \n",
      ", Test Acc : 35.37049865722656 \n",
      "\n"
     ]
    },
    {
     "name": "stderr",
     "output_type": "stream",
     "text": []
    },
    {
     "name": "stdout",
     "output_type": "stream",
     "text": [
      "Iteration : 6 \n",
      " , Train Loss : 453.4560852050781 \n",
      ", Test Acc : 44.368804931640625 \n",
      "\n"
     ]
    },
    {
     "name": "stderr",
     "output_type": "stream",
     "text": []
    },
    {
     "name": "stdout",
     "output_type": "stream",
     "text": [
      "Iteration : 8 \n",
      " , Train Loss : 202.17957305908203 \n",
      ", Test Acc : 55.90595626831055 \n",
      "\n"
     ]
    },
    {
     "name": "stderr",
     "output_type": "stream",
     "text": []
    },
    {
     "name": "stdout",
     "output_type": "stream",
     "text": [
      "Iteration : 10 \n",
      " , Train Loss : 219.74594116210938 \n",
      ", Test Acc : 50.18940353393555 \n",
      "\n"
     ]
    },
    {
     "name": "stderr",
     "output_type": "stream",
     "text": []
    },
    {
     "name": "stdout",
     "output_type": "stream",
     "text": [
      "Iteration : 12 \n",
      " , Train Loss : 243.44514083862305 \n",
      ", Test Acc : 55.703250885009766 \n",
      "\n"
     ]
    },
    {
     "name": "stderr",
     "output_type": "stream",
     "text": []
    },
    {
     "name": "stdout",
     "output_type": "stream",
     "text": [
      "Iteration : 14 \n",
      " , Train Loss : 152.52639770507812 \n",
      ", Test Acc : 64.49217987060547 \n",
      "\n"
     ]
    },
    {
     "name": "stderr",
     "output_type": "stream",
     "text": []
    },
    {
     "name": "stdout",
     "output_type": "stream",
     "text": [
      "Iteration : 16 \n",
      " , Train Loss : 151.32393598556519 \n",
      ", Test Acc : 66.56932830810547 \n",
      "\n"
     ]
    },
    {
     "name": "stderr",
     "output_type": "stream",
     "text": []
    },
    {
     "name": "stdout",
     "output_type": "stream",
     "text": [
      "Iteration : 18 \n",
      " , Train Loss : 157.46716022491455 \n",
      ", Test Acc : 67.39854431152344 \n",
      "\n"
     ]
    },
    {
     "name": "stderr",
     "output_type": "stream",
     "text": [
      "100%|██████████| 20/20 [00:09<00:00,  2.17it/s]\n",
      " 48%|████▊     | 76/157 [10:56<11:27,  8.49s/it]"
     ]
    },
    {
     "name": "stdout",
     "output_type": "stream",
     "text": [
      "Iteration : 19 \n",
      " , Train Loss : 143.30808210372925 \n",
      ", Test Acc : 67.0322036743164 \n",
      "\n"
     ]
    },
    {
     "name": "stderr",
     "output_type": "stream",
     "text": []
    },
    {
     "name": "stdout",
     "output_type": "stream",
     "text": [
      "Iteration : 0 \n",
      " , Train Loss : 170.9287986755371 \n",
      ", Test Acc : 23.362337112426758 \n",
      "\n"
     ]
    },
    {
     "name": "stderr",
     "output_type": "stream",
     "text": []
    },
    {
     "name": "stdout",
     "output_type": "stream",
     "text": [
      "Iteration : 2 \n",
      " , Train Loss : 512.6716690063477 \n",
      ", Test Acc : 18.655553817749023 \n",
      "\n"
     ]
    },
    {
     "name": "stderr",
     "output_type": "stream",
     "text": []
    },
    {
     "name": "stdout",
     "output_type": "stream",
     "text": [
      "Iteration : 4 \n",
      " , Train Loss : 334.1039009094238 \n",
      ", Test Acc : 38.43916702270508 \n",
      "\n"
     ]
    },
    {
     "name": "stderr",
     "output_type": "stream",
     "text": []
    },
    {
     "name": "stdout",
     "output_type": "stream",
     "text": [
      "Iteration : 6 \n",
      " , Train Loss : 314.8606662750244 \n",
      ", Test Acc : 41.488243103027344 \n",
      "\n"
     ]
    },
    {
     "name": "stderr",
     "output_type": "stream",
     "text": []
    },
    {
     "name": "stdout",
     "output_type": "stream",
     "text": [
      "Iteration : 8 \n",
      " , Train Loss : 325.5616855621338 \n",
      ", Test Acc : 55.83243179321289 \n",
      "\n"
     ]
    },
    {
     "name": "stderr",
     "output_type": "stream",
     "text": []
    },
    {
     "name": "stdout",
     "output_type": "stream",
     "text": [
      "Iteration : 10 \n",
      " , Train Loss : 203.89556503295898 \n",
      ", Test Acc : 57.59864807128906 \n",
      "\n"
     ]
    },
    {
     "name": "stderr",
     "output_type": "stream",
     "text": []
    },
    {
     "name": "stdout",
     "output_type": "stream",
     "text": [
      "Iteration : 12 \n",
      " , Train Loss : 212.98475742340088 \n",
      ", Test Acc : 59.31791687011719 \n",
      "\n"
     ]
    },
    {
     "name": "stderr",
     "output_type": "stream",
     "text": []
    },
    {
     "name": "stdout",
     "output_type": "stream",
     "text": [
      "Iteration : 14 \n",
      " , Train Loss : 224.5953950881958 \n",
      ", Test Acc : 60.081966400146484 \n",
      "\n"
     ]
    },
    {
     "name": "stderr",
     "output_type": "stream",
     "text": []
    },
    {
     "name": "stdout",
     "output_type": "stream",
     "text": [
      "Iteration : 16 \n",
      " , Train Loss : 220.12256622314453 \n",
      ", Test Acc : 64.66655731201172 \n",
      "\n"
     ]
    },
    {
     "name": "stderr",
     "output_type": "stream",
     "text": []
    },
    {
     "name": "stdout",
     "output_type": "stream",
     "text": [
      "Iteration : 18 \n",
      " , Train Loss : 179.09558010101318 \n",
      ", Test Acc : 67.2173843383789 \n",
      "\n"
     ]
    },
    {
     "name": "stderr",
     "output_type": "stream",
     "text": [
      "100%|██████████| 20/20 [00:07<00:00,  2.72it/s]\n",
      " 49%|████▉     | 77/157 [11:03<10:52,  8.16s/it]"
     ]
    },
    {
     "name": "stdout",
     "output_type": "stream",
     "text": [
      "Iteration : 19 \n",
      " , Train Loss : 179.9207887649536 \n",
      ", Test Acc : 68.25458526611328 \n",
      "\n"
     ]
    },
    {
     "name": "stderr",
     "output_type": "stream",
     "text": []
    },
    {
     "name": "stdout",
     "output_type": "stream",
     "text": [
      "Iteration : 0 \n",
      " , Train Loss : 170.90477180480957 \n",
      ", Test Acc : 21.34943389892578 \n",
      "\n"
     ]
    },
    {
     "name": "stderr",
     "output_type": "stream",
     "text": []
    },
    {
     "name": "stdout",
     "output_type": "stream",
     "text": [
      "Iteration : 2 \n",
      " , Train Loss : 764.6710205078125 \n",
      ", Test Acc : 21.21213722229004 \n",
      "\n"
     ]
    },
    {
     "name": "stderr",
     "output_type": "stream",
     "text": []
    },
    {
     "name": "stdout",
     "output_type": "stream",
     "text": [
      "Iteration : 4 \n",
      " , Train Loss : 873.1100234985352 \n",
      ", Test Acc : 28.073974609375 \n",
      "\n"
     ]
    },
    {
     "name": "stderr",
     "output_type": "stream",
     "text": []
    },
    {
     "name": "stdout",
     "output_type": "stream",
     "text": [
      "Iteration : 6 \n",
      " , Train Loss : 479.94054794311523 \n",
      ", Test Acc : 42.02704620361328 \n",
      "\n"
     ]
    },
    {
     "name": "stderr",
     "output_type": "stream",
     "text": []
    },
    {
     "name": "stdout",
     "output_type": "stream",
     "text": [
      "Iteration : 8 \n",
      " , Train Loss : 311.4251899719238 \n",
      ", Test Acc : 37.3928108215332 \n",
      "\n"
     ]
    },
    {
     "name": "stderr",
     "output_type": "stream",
     "text": []
    },
    {
     "name": "stdout",
     "output_type": "stream",
     "text": [
      "Iteration : 10 \n",
      " , Train Loss : 358.63148498535156 \n",
      ", Test Acc : 42.320892333984375 \n",
      "\n"
     ]
    },
    {
     "name": "stderr",
     "output_type": "stream",
     "text": []
    },
    {
     "name": "stdout",
     "output_type": "stream",
     "text": [
      "Iteration : 12 \n",
      " , Train Loss : 225.14625930786133 \n",
      ", Test Acc : 42.18368911743164 \n",
      "\n"
     ]
    },
    {
     "name": "stderr",
     "output_type": "stream",
     "text": []
    },
    {
     "name": "stdout",
     "output_type": "stream",
     "text": [
      "Iteration : 14 \n",
      " , Train Loss : 205.223952293396 \n",
      ", Test Acc : 48.2265739440918 \n",
      "\n"
     ]
    },
    {
     "name": "stderr",
     "output_type": "stream",
     "text": []
    },
    {
     "name": "stdout",
     "output_type": "stream",
     "text": [
      "Iteration : 16 \n",
      " , Train Loss : 175.63898038864136 \n",
      ", Test Acc : 56.87130355834961 \n",
      "\n"
     ]
    },
    {
     "name": "stderr",
     "output_type": "stream",
     "text": []
    },
    {
     "name": "stdout",
     "output_type": "stream",
     "text": [
      "Iteration : 18 \n",
      " , Train Loss : 155.9211311340332 \n",
      ", Test Acc : 57.95932388305664 \n",
      "\n"
     ]
    },
    {
     "name": "stderr",
     "output_type": "stream",
     "text": [
      "100%|██████████| 20/20 [00:11<00:00,  1.74it/s]\n",
      " 50%|████▉     | 78/157 [11:15<12:04,  9.17s/it]"
     ]
    },
    {
     "name": "stdout",
     "output_type": "stream",
     "text": [
      "Iteration : 19 \n",
      " , Train Loss : 171.78198719024658 \n",
      ", Test Acc : 58.14011764526367 \n",
      "\n"
     ]
    },
    {
     "name": "stderr",
     "output_type": "stream",
     "text": []
    },
    {
     "name": "stdout",
     "output_type": "stream",
     "text": [
      "Iteration : 0 \n",
      " , Train Loss : 182.5101375579834 \n",
      ", Test Acc : 20.641084671020508 \n",
      "\n"
     ]
    },
    {
     "name": "stderr",
     "output_type": "stream",
     "text": []
    },
    {
     "name": "stdout",
     "output_type": "stream",
     "text": [
      "Iteration : 2 \n",
      " , Train Loss : 535.5454025268555 \n",
      ", Test Acc : 23.277084350585938 \n",
      "\n"
     ]
    },
    {
     "name": "stderr",
     "output_type": "stream",
     "text": []
    },
    {
     "name": "stdout",
     "output_type": "stream",
     "text": [
      "Iteration : 4 \n",
      " , Train Loss : 895.3388061523438 \n",
      ", Test Acc : 39.10895919799805 \n",
      "\n"
     ]
    },
    {
     "name": "stderr",
     "output_type": "stream",
     "text": []
    },
    {
     "name": "stdout",
     "output_type": "stream",
     "text": [
      "Iteration : 6 \n",
      " , Train Loss : 630.5369110107422 \n",
      ", Test Acc : 38.4351806640625 \n",
      "\n"
     ]
    },
    {
     "name": "stderr",
     "output_type": "stream",
     "text": []
    },
    {
     "name": "stdout",
     "output_type": "stream",
     "text": [
      "Iteration : 8 \n",
      " , Train Loss : 712.3772964477539 \n",
      ", Test Acc : 41.26897048950195 \n",
      "\n"
     ]
    },
    {
     "name": "stderr",
     "output_type": "stream",
     "text": []
    },
    {
     "name": "stdout",
     "output_type": "stream",
     "text": [
      "Iteration : 10 \n",
      " , Train Loss : 459.9121856689453 \n",
      ", Test Acc : 51.87399673461914 \n",
      "\n"
     ]
    },
    {
     "name": "stderr",
     "output_type": "stream",
     "text": []
    },
    {
     "name": "stdout",
     "output_type": "stream",
     "text": [
      "Iteration : 12 \n",
      " , Train Loss : 294.26742362976074 \n",
      ", Test Acc : 45.8471794128418 \n",
      "\n"
     ]
    },
    {
     "name": "stderr",
     "output_type": "stream",
     "text": []
    },
    {
     "name": "stdout",
     "output_type": "stream",
     "text": [
      "Iteration : 14 \n",
      " , Train Loss : 332.1658134460449 \n",
      ", Test Acc : 47.662506103515625 \n",
      "\n"
     ]
    },
    {
     "name": "stderr",
     "output_type": "stream",
     "text": []
    },
    {
     "name": "stdout",
     "output_type": "stream",
     "text": [
      "Iteration : 16 \n",
      " , Train Loss : 179.57661819458008 \n",
      ", Test Acc : 54.97749328613281 \n",
      "\n"
     ]
    },
    {
     "name": "stderr",
     "output_type": "stream",
     "text": []
    },
    {
     "name": "stdout",
     "output_type": "stream",
     "text": [
      "Iteration : 18 \n",
      " , Train Loss : 119.58393669128418 \n",
      ", Test Acc : 50.23493576049805 \n",
      "\n"
     ]
    },
    {
     "name": "stderr",
     "output_type": "stream",
     "text": [
      "100%|██████████| 20/20 [00:09<00:00,  2.10it/s]\n",
      " 50%|█████     | 79/157 [11:24<12:04,  9.29s/it]"
     ]
    },
    {
     "name": "stdout",
     "output_type": "stream",
     "text": [
      "Iteration : 19 \n",
      " , Train Loss : 138.9538402557373 \n",
      ", Test Acc : 45.44883346557617 \n",
      "\n"
     ]
    },
    {
     "name": "stderr",
     "output_type": "stream",
     "text": []
    },
    {
     "name": "stdout",
     "output_type": "stream",
     "text": [
      "Iteration : 0 \n",
      " , Train Loss : 183.47278785705566 \n",
      ", Test Acc : 23.38551902770996 \n",
      "\n"
     ]
    },
    {
     "name": "stderr",
     "output_type": "stream",
     "text": []
    },
    {
     "name": "stdout",
     "output_type": "stream",
     "text": [
      "Iteration : 2 \n",
      " , Train Loss : 701.2492065429688 \n",
      ", Test Acc : 23.23602294921875 \n",
      "\n"
     ]
    },
    {
     "name": "stderr",
     "output_type": "stream",
     "text": []
    },
    {
     "name": "stdout",
     "output_type": "stream",
     "text": [
      "Iteration : 4 \n",
      " , Train Loss : 846.4469985961914 \n",
      ", Test Acc : 30.071245193481445 \n",
      "\n"
     ]
    },
    {
     "name": "stderr",
     "output_type": "stream",
     "text": []
    },
    {
     "name": "stdout",
     "output_type": "stream",
     "text": [
      "Iteration : 6 \n",
      " , Train Loss : 638.1397018432617 \n",
      ", Test Acc : 37.6883544921875 \n",
      "\n"
     ]
    },
    {
     "name": "stderr",
     "output_type": "stream",
     "text": []
    },
    {
     "name": "stdout",
     "output_type": "stream",
     "text": [
      "Iteration : 8 \n",
      " , Train Loss : 426.41405487060547 \n",
      ", Test Acc : 41.05066680908203 \n",
      "\n"
     ]
    },
    {
     "name": "stderr",
     "output_type": "stream",
     "text": []
    },
    {
     "name": "stdout",
     "output_type": "stream",
     "text": [
      "Iteration : 10 \n",
      " , Train Loss : 253.51786613464355 \n",
      ", Test Acc : 42.33110427856445 \n",
      "\n"
     ]
    },
    {
     "name": "stderr",
     "output_type": "stream",
     "text": []
    },
    {
     "name": "stdout",
     "output_type": "stream",
     "text": [
      "Iteration : 12 \n",
      " , Train Loss : 184.8594570159912 \n",
      ", Test Acc : 46.36684799194336 \n",
      "\n"
     ]
    },
    {
     "name": "stderr",
     "output_type": "stream",
     "text": []
    },
    {
     "name": "stdout",
     "output_type": "stream",
     "text": [
      "Iteration : 14 \n",
      " , Train Loss : 191.6451873779297 \n",
      ", Test Acc : 43.65983963012695 \n",
      "\n"
     ]
    },
    {
     "name": "stderr",
     "output_type": "stream",
     "text": []
    },
    {
     "name": "stdout",
     "output_type": "stream",
     "text": [
      "Iteration : 16 \n",
      " , Train Loss : 163.24180126190186 \n",
      ", Test Acc : 52.38302993774414 \n",
      "\n"
     ]
    },
    {
     "name": "stderr",
     "output_type": "stream",
     "text": []
    },
    {
     "name": "stdout",
     "output_type": "stream",
     "text": [
      "Iteration : 18 \n",
      " , Train Loss : 136.2395920753479 \n",
      ", Test Acc : 58.43167495727539 \n",
      "\n"
     ]
    },
    {
     "name": "stderr",
     "output_type": "stream",
     "text": [
      "100%|██████████| 20/20 [00:08<00:00,  2.50it/s]\n",
      " 51%|█████     | 80/157 [11:32<11:26,  8.91s/it]"
     ]
    },
    {
     "name": "stdout",
     "output_type": "stream",
     "text": [
      "Iteration : 19 \n",
      " , Train Loss : 126.72422695159912 \n",
      ", Test Acc : 59.72480392456055 \n",
      "\n"
     ]
    },
    {
     "name": "stderr",
     "output_type": "stream",
     "text": []
    },
    {
     "name": "stdout",
     "output_type": "stream",
     "text": [
      "Iteration : 0 \n",
      " , Train Loss : 188.3110179901123 \n",
      ", Test Acc : 27.873891830444336 \n",
      "\n"
     ]
    },
    {
     "name": "stderr",
     "output_type": "stream",
     "text": []
    },
    {
     "name": "stdout",
     "output_type": "stream",
     "text": [
      "Iteration : 2 \n",
      " , Train Loss : 819.5159759521484 \n",
      ", Test Acc : 19.403478622436523 \n",
      "\n"
     ]
    },
    {
     "name": "stderr",
     "output_type": "stream",
     "text": []
    },
    {
     "name": "stdout",
     "output_type": "stream",
     "text": [
      "Iteration : 4 \n",
      " , Train Loss : 447.3759002685547 \n",
      ", Test Acc : 29.27569580078125 \n",
      "\n"
     ]
    },
    {
     "name": "stderr",
     "output_type": "stream",
     "text": []
    },
    {
     "name": "stdout",
     "output_type": "stream",
     "text": [
      "Iteration : 6 \n",
      " , Train Loss : 353.03863525390625 \n",
      ", Test Acc : 34.90884017944336 \n",
      "\n"
     ]
    },
    {
     "name": "stderr",
     "output_type": "stream",
     "text": []
    },
    {
     "name": "stdout",
     "output_type": "stream",
     "text": [
      "Iteration : 8 \n",
      " , Train Loss : 389.0777397155762 \n",
      ", Test Acc : 38.112667083740234 \n",
      "\n"
     ]
    },
    {
     "name": "stderr",
     "output_type": "stream",
     "text": []
    },
    {
     "name": "stdout",
     "output_type": "stream",
     "text": [
      "Iteration : 10 \n",
      " , Train Loss : 271.90233039855957 \n",
      ", Test Acc : 47.568363189697266 \n",
      "\n"
     ]
    },
    {
     "name": "stderr",
     "output_type": "stream",
     "text": []
    },
    {
     "name": "stdout",
     "output_type": "stream",
     "text": [
      "Iteration : 12 \n",
      " , Train Loss : 206.44910717010498 \n",
      ", Test Acc : 53.15996170043945 \n",
      "\n"
     ]
    },
    {
     "name": "stderr",
     "output_type": "stream",
     "text": []
    },
    {
     "name": "stdout",
     "output_type": "stream",
     "text": [
      "Iteration : 14 \n",
      " , Train Loss : 160.29404735565186 \n",
      ", Test Acc : 60.59941101074219 \n",
      "\n"
     ]
    },
    {
     "name": "stderr",
     "output_type": "stream",
     "text": []
    },
    {
     "name": "stdout",
     "output_type": "stream",
     "text": [
      "Iteration : 16 \n",
      " , Train Loss : 163.41901206970215 \n",
      ", Test Acc : 55.89638137817383 \n",
      "\n"
     ]
    },
    {
     "name": "stderr",
     "output_type": "stream",
     "text": []
    },
    {
     "name": "stdout",
     "output_type": "stream",
     "text": [
      "Iteration : 18 \n",
      " , Train Loss : 164.33790397644043 \n",
      ", Test Acc : 62.01895523071289 \n",
      "\n"
     ]
    },
    {
     "name": "stderr",
     "output_type": "stream",
     "text": [
      "100%|██████████| 20/20 [00:09<00:00,  2.09it/s]\n",
      " 52%|█████▏    | 81/157 [11:42<11:33,  9.12s/it]"
     ]
    },
    {
     "name": "stdout",
     "output_type": "stream",
     "text": [
      "Iteration : 19 \n",
      " , Train Loss : 133.17362308502197 \n",
      ", Test Acc : 65.335205078125 \n",
      "\n"
     ]
    },
    {
     "name": "stderr",
     "output_type": "stream",
     "text": []
    },
    {
     "name": "stdout",
     "output_type": "stream",
     "text": [
      "Iteration : 0 \n",
      " , Train Loss : 148.6922435760498 \n",
      ", Test Acc : 23.370559692382812 \n",
      "\n"
     ]
    },
    {
     "name": "stderr",
     "output_type": "stream",
     "text": []
    },
    {
     "name": "stdout",
     "output_type": "stream",
     "text": [
      "Iteration : 2 \n",
      " , Train Loss : 769.2467193603516 \n",
      ", Test Acc : 26.26177215576172 \n",
      "\n"
     ]
    },
    {
     "name": "stderr",
     "output_type": "stream",
     "text": []
    },
    {
     "name": "stdout",
     "output_type": "stream",
     "text": [
      "Iteration : 4 \n",
      " , Train Loss : 589.4226150512695 \n",
      ", Test Acc : 28.289976119995117 \n",
      "\n"
     ]
    },
    {
     "name": "stderr",
     "output_type": "stream",
     "text": []
    },
    {
     "name": "stdout",
     "output_type": "stream",
     "text": [
      "Iteration : 6 \n",
      " , Train Loss : 439.96165466308594 \n",
      ", Test Acc : 28.581092834472656 \n",
      "\n"
     ]
    },
    {
     "name": "stderr",
     "output_type": "stream",
     "text": []
    },
    {
     "name": "stdout",
     "output_type": "stream",
     "text": [
      "Iteration : 8 \n",
      " , Train Loss : 352.27586364746094 \n",
      ", Test Acc : 35.43607711791992 \n",
      "\n"
     ]
    },
    {
     "name": "stderr",
     "output_type": "stream",
     "text": []
    },
    {
     "name": "stdout",
     "output_type": "stream",
     "text": [
      "Iteration : 10 \n",
      " , Train Loss : 324.3346538543701 \n",
      ", Test Acc : 42.9642333984375 \n",
      "\n"
     ]
    },
    {
     "name": "stderr",
     "output_type": "stream",
     "text": []
    },
    {
     "name": "stdout",
     "output_type": "stream",
     "text": [
      "Iteration : 12 \n",
      " , Train Loss : 239.34639072418213 \n",
      ", Test Acc : 53.476016998291016 \n",
      "\n"
     ]
    },
    {
     "name": "stderr",
     "output_type": "stream",
     "text": []
    },
    {
     "name": "stdout",
     "output_type": "stream",
     "text": [
      "Iteration : 14 \n",
      " , Train Loss : 142.42943572998047 \n",
      ", Test Acc : 55.647552490234375 \n",
      "\n"
     ]
    },
    {
     "name": "stderr",
     "output_type": "stream",
     "text": []
    },
    {
     "name": "stdout",
     "output_type": "stream",
     "text": [
      "Iteration : 16 \n",
      " , Train Loss : 192.53839111328125 \n",
      ", Test Acc : 52.14960861206055 \n",
      "\n"
     ]
    },
    {
     "name": "stderr",
     "output_type": "stream",
     "text": []
    },
    {
     "name": "stdout",
     "output_type": "stream",
     "text": [
      "Iteration : 18 \n",
      " , Train Loss : 173.49182605743408 \n",
      ", Test Acc : 57.52128601074219 \n",
      "\n"
     ]
    },
    {
     "name": "stderr",
     "output_type": "stream",
     "text": [
      "100%|██████████| 20/20 [00:07<00:00,  2.67it/s]\n",
      " 52%|█████▏    | 82/157 [11:49<10:48,  8.64s/it]"
     ]
    },
    {
     "name": "stdout",
     "output_type": "stream",
     "text": [
      "Iteration : 19 \n",
      " , Train Loss : 148.92388820648193 \n",
      ", Test Acc : 59.1164436340332 \n",
      "\n"
     ]
    },
    {
     "name": "stderr",
     "output_type": "stream",
     "text": []
    },
    {
     "name": "stdout",
     "output_type": "stream",
     "text": [
      "Iteration : 0 \n",
      " , Train Loss : 184.3803195953369 \n",
      ", Test Acc : 20.40654754638672 \n",
      "\n"
     ]
    },
    {
     "name": "stderr",
     "output_type": "stream",
     "text": []
    },
    {
     "name": "stdout",
     "output_type": "stream",
     "text": [
      "Iteration : 2 \n",
      " , Train Loss : 552.4132919311523 \n",
      ", Test Acc : 19.997486114501953 \n",
      "\n"
     ]
    },
    {
     "name": "stderr",
     "output_type": "stream",
     "text": []
    },
    {
     "name": "stdout",
     "output_type": "stream",
     "text": [
      "Iteration : 4 \n",
      " , Train Loss : 710.0678100585938 \n",
      ", Test Acc : 30.15061378479004 \n",
      "\n"
     ]
    },
    {
     "name": "stderr",
     "output_type": "stream",
     "text": []
    },
    {
     "name": "stdout",
     "output_type": "stream",
     "text": [
      "Iteration : 6 \n",
      " , Train Loss : 634.525993347168 \n",
      ", Test Acc : 40.31060028076172 \n",
      "\n"
     ]
    },
    {
     "name": "stderr",
     "output_type": "stream",
     "text": []
    },
    {
     "name": "stdout",
     "output_type": "stream",
     "text": [
      "Iteration : 8 \n",
      " , Train Loss : 481.666072845459 \n",
      ", Test Acc : 33.076717376708984 \n",
      "\n"
     ]
    },
    {
     "name": "stderr",
     "output_type": "stream",
     "text": []
    },
    {
     "name": "stdout",
     "output_type": "stream",
     "text": [
      "Iteration : 10 \n",
      " , Train Loss : 422.84606170654297 \n",
      ", Test Acc : 46.11747360229492 \n",
      "\n"
     ]
    },
    {
     "name": "stderr",
     "output_type": "stream",
     "text": []
    },
    {
     "name": "stdout",
     "output_type": "stream",
     "text": [
      "Iteration : 12 \n",
      " , Train Loss : 175.82825660705566 \n",
      ", Test Acc : 52.61175537109375 \n",
      "\n"
     ]
    },
    {
     "name": "stderr",
     "output_type": "stream",
     "text": []
    },
    {
     "name": "stdout",
     "output_type": "stream",
     "text": [
      "Iteration : 14 \n",
      " , Train Loss : 191.69435691833496 \n",
      ", Test Acc : 53.07794189453125 \n",
      "\n"
     ]
    },
    {
     "name": "stderr",
     "output_type": "stream",
     "text": []
    },
    {
     "name": "stdout",
     "output_type": "stream",
     "text": [
      "Iteration : 16 \n",
      " , Train Loss : 254.79949378967285 \n",
      ", Test Acc : 52.374446868896484 \n",
      "\n"
     ]
    },
    {
     "name": "stderr",
     "output_type": "stream",
     "text": []
    },
    {
     "name": "stdout",
     "output_type": "stream",
     "text": [
      "Iteration : 18 \n",
      " , Train Loss : 208.13764190673828 \n",
      ", Test Acc : 59.77565383911133 \n",
      "\n"
     ]
    },
    {
     "name": "stderr",
     "output_type": "stream",
     "text": [
      "100%|██████████| 20/20 [00:09<00:00,  2.09it/s]\n",
      " 53%|█████▎    | 83/157 [11:59<11:00,  8.92s/it]"
     ]
    },
    {
     "name": "stdout",
     "output_type": "stream",
     "text": [
      "Iteration : 19 \n",
      " , Train Loss : 184.5925807952881 \n",
      ", Test Acc : 62.91984176635742 \n",
      "\n"
     ]
    },
    {
     "name": "stderr",
     "output_type": "stream",
     "text": []
    },
    {
     "name": "stdout",
     "output_type": "stream",
     "text": [
      "Iteration : 0 \n",
      " , Train Loss : 154.2864055633545 \n",
      ", Test Acc : 14.425538063049316 \n",
      "\n"
     ]
    },
    {
     "name": "stderr",
     "output_type": "stream",
     "text": []
    },
    {
     "name": "stdout",
     "output_type": "stream",
     "text": [
      "Iteration : 2 \n",
      " , Train Loss : 714.8901901245117 \n",
      ", Test Acc : 26.211877822875977 \n",
      "\n"
     ]
    },
    {
     "name": "stderr",
     "output_type": "stream",
     "text": []
    },
    {
     "name": "stdout",
     "output_type": "stream",
     "text": [
      "Iteration : 4 \n",
      " , Train Loss : 558.3063888549805 \n",
      ", Test Acc : 26.255889892578125 \n",
      "\n"
     ]
    },
    {
     "name": "stderr",
     "output_type": "stream",
     "text": []
    },
    {
     "name": "stdout",
     "output_type": "stream",
     "text": [
      "Iteration : 6 \n",
      " , Train Loss : 333.6308364868164 \n",
      ", Test Acc : 35.91822052001953 \n",
      "\n"
     ]
    },
    {
     "name": "stderr",
     "output_type": "stream",
     "text": []
    },
    {
     "name": "stdout",
     "output_type": "stream",
     "text": [
      "Iteration : 8 \n",
      " , Train Loss : 417.1968574523926 \n",
      ", Test Acc : 40.52799606323242 \n",
      "\n"
     ]
    },
    {
     "name": "stderr",
     "output_type": "stream",
     "text": []
    },
    {
     "name": "stdout",
     "output_type": "stream",
     "text": [
      "Iteration : 10 \n",
      " , Train Loss : 239.4791774749756 \n",
      ", Test Acc : 42.475589752197266 \n",
      "\n"
     ]
    },
    {
     "name": "stderr",
     "output_type": "stream",
     "text": []
    },
    {
     "name": "stdout",
     "output_type": "stream",
     "text": [
      "Iteration : 12 \n",
      " , Train Loss : 179.0466079711914 \n",
      ", Test Acc : 48.034759521484375 \n",
      "\n"
     ]
    },
    {
     "name": "stderr",
     "output_type": "stream",
     "text": []
    },
    {
     "name": "stdout",
     "output_type": "stream",
     "text": [
      "Iteration : 14 \n",
      " , Train Loss : 195.31370162963867 \n",
      ", Test Acc : 47.164886474609375 \n",
      "\n"
     ]
    },
    {
     "name": "stderr",
     "output_type": "stream",
     "text": []
    },
    {
     "name": "stdout",
     "output_type": "stream",
     "text": [
      "Iteration : 16 \n",
      " , Train Loss : 186.71881294250488 \n",
      ", Test Acc : 57.4698600769043 \n",
      "\n"
     ]
    },
    {
     "name": "stderr",
     "output_type": "stream",
     "text": []
    },
    {
     "name": "stdout",
     "output_type": "stream",
     "text": [
      "Iteration : 18 \n",
      " , Train Loss : 135.95339584350586 \n",
      ", Test Acc : 53.90494155883789 \n",
      "\n"
     ]
    },
    {
     "name": "stderr",
     "output_type": "stream",
     "text": [
      "100%|██████████| 20/20 [00:11<00:00,  1.72it/s]\n",
      " 54%|█████▎    | 84/157 [12:11<11:50,  9.74s/it]"
     ]
    },
    {
     "name": "stdout",
     "output_type": "stream",
     "text": [
      "Iteration : 19 \n",
      " , Train Loss : 195.16243171691895 \n",
      ", Test Acc : 56.3995475769043 \n",
      "\n"
     ]
    },
    {
     "name": "stderr",
     "output_type": "stream",
     "text": []
    },
    {
     "name": "stdout",
     "output_type": "stream",
     "text": [
      "Iteration : 0 \n",
      " , Train Loss : 192.4129524230957 \n",
      ", Test Acc : 20.64711570739746 \n",
      "\n"
     ]
    },
    {
     "name": "stderr",
     "output_type": "stream",
     "text": []
    },
    {
     "name": "stdout",
     "output_type": "stream",
     "text": [
      "Iteration : 2 \n",
      " , Train Loss : 583.6858291625977 \n",
      ", Test Acc : 31.81464385986328 \n",
      "\n"
     ]
    },
    {
     "name": "stderr",
     "output_type": "stream",
     "text": []
    },
    {
     "name": "stdout",
     "output_type": "stream",
     "text": [
      "Iteration : 4 \n",
      " , Train Loss : 780.4682388305664 \n",
      ", Test Acc : 35.54618835449219 \n",
      "\n"
     ]
    },
    {
     "name": "stderr",
     "output_type": "stream",
     "text": []
    },
    {
     "name": "stdout",
     "output_type": "stream",
     "text": [
      "Iteration : 6 \n",
      " , Train Loss : 643.1158218383789 \n",
      ", Test Acc : 33.348785400390625 \n",
      "\n"
     ]
    },
    {
     "name": "stderr",
     "output_type": "stream",
     "text": []
    },
    {
     "name": "stdout",
     "output_type": "stream",
     "text": [
      "Iteration : 8 \n",
      " , Train Loss : 283.2575378417969 \n",
      ", Test Acc : 50.17441177368164 \n",
      "\n"
     ]
    },
    {
     "name": "stderr",
     "output_type": "stream",
     "text": []
    },
    {
     "name": "stdout",
     "output_type": "stream",
     "text": [
      "Iteration : 10 \n",
      " , Train Loss : 224.78155899047852 \n",
      ", Test Acc : 40.25344467163086 \n",
      "\n"
     ]
    },
    {
     "name": "stderr",
     "output_type": "stream",
     "text": []
    },
    {
     "name": "stdout",
     "output_type": "stream",
     "text": [
      "Iteration : 12 \n",
      " , Train Loss : 212.56241416931152 \n",
      ", Test Acc : 52.07143783569336 \n",
      "\n"
     ]
    },
    {
     "name": "stderr",
     "output_type": "stream",
     "text": []
    },
    {
     "name": "stdout",
     "output_type": "stream",
     "text": [
      "Iteration : 14 \n",
      " , Train Loss : 236.07855796813965 \n",
      ", Test Acc : 54.94903564453125 \n",
      "\n"
     ]
    },
    {
     "name": "stderr",
     "output_type": "stream",
     "text": []
    },
    {
     "name": "stdout",
     "output_type": "stream",
     "text": [
      "Iteration : 16 \n",
      " , Train Loss : 226.69503021240234 \n",
      ", Test Acc : 57.11701583862305 \n",
      "\n"
     ]
    },
    {
     "name": "stderr",
     "output_type": "stream",
     "text": []
    },
    {
     "name": "stdout",
     "output_type": "stream",
     "text": [
      "Iteration : 18 \n",
      " , Train Loss : 121.66437768936157 \n",
      ", Test Acc : 63.965816497802734 \n",
      "\n"
     ]
    },
    {
     "name": "stderr",
     "output_type": "stream",
     "text": [
      "100%|██████████| 20/20 [00:10<00:00,  1.97it/s]\n",
      " 54%|█████▍    | 85/157 [12:21<11:50,  9.87s/it]"
     ]
    },
    {
     "name": "stdout",
     "output_type": "stream",
     "text": [
      "Iteration : 19 \n",
      " , Train Loss : 108.4971661567688 \n",
      ", Test Acc : 61.337921142578125 \n",
      "\n"
     ]
    },
    {
     "name": "stderr",
     "output_type": "stream",
     "text": []
    },
    {
     "name": "stdout",
     "output_type": "stream",
     "text": [
      "Iteration : 0 \n",
      " , Train Loss : 140.80446434020996 \n",
      ", Test Acc : 19.45844841003418 \n",
      "\n"
     ]
    },
    {
     "name": "stderr",
     "output_type": "stream",
     "text": []
    },
    {
     "name": "stdout",
     "output_type": "stream",
     "text": [
      "Iteration : 2 \n",
      " , Train Loss : 624.8349456787109 \n",
      ", Test Acc : 35.01770782470703 \n",
      "\n"
     ]
    },
    {
     "name": "stderr",
     "output_type": "stream",
     "text": []
    },
    {
     "name": "stdout",
     "output_type": "stream",
     "text": [
      "Iteration : 4 \n",
      " , Train Loss : 555.8263473510742 \n",
      ", Test Acc : 30.559555053710938 \n",
      "\n"
     ]
    },
    {
     "name": "stderr",
     "output_type": "stream",
     "text": []
    },
    {
     "name": "stdout",
     "output_type": "stream",
     "text": [
      "Iteration : 6 \n",
      " , Train Loss : 340.6973075866699 \n",
      ", Test Acc : 29.475767135620117 \n",
      "\n"
     ]
    },
    {
     "name": "stderr",
     "output_type": "stream",
     "text": []
    },
    {
     "name": "stdout",
     "output_type": "stream",
     "text": [
      "Iteration : 8 \n",
      " , Train Loss : 290.5822067260742 \n",
      ", Test Acc : 46.4245719909668 \n",
      "\n"
     ]
    },
    {
     "name": "stderr",
     "output_type": "stream",
     "text": []
    },
    {
     "name": "stdout",
     "output_type": "stream",
     "text": [
      "Iteration : 10 \n",
      " , Train Loss : 206.28727531433105 \n",
      ", Test Acc : 49.51359939575195 \n",
      "\n"
     ]
    },
    {
     "name": "stderr",
     "output_type": "stream",
     "text": []
    },
    {
     "name": "stdout",
     "output_type": "stream",
     "text": [
      "Iteration : 12 \n",
      " , Train Loss : 227.38433265686035 \n",
      ", Test Acc : 49.80806350708008 \n",
      "\n"
     ]
    },
    {
     "name": "stderr",
     "output_type": "stream",
     "text": []
    },
    {
     "name": "stdout",
     "output_type": "stream",
     "text": [
      "Iteration : 14 \n",
      " , Train Loss : 248.82890129089355 \n",
      ", Test Acc : 54.741878509521484 \n",
      "\n"
     ]
    },
    {
     "name": "stderr",
     "output_type": "stream",
     "text": []
    },
    {
     "name": "stdout",
     "output_type": "stream",
     "text": [
      "Iteration : 16 \n",
      " , Train Loss : 173.03915691375732 \n",
      ", Test Acc : 61.63273620605469 \n",
      "\n"
     ]
    },
    {
     "name": "stderr",
     "output_type": "stream",
     "text": []
    },
    {
     "name": "stdout",
     "output_type": "stream",
     "text": [
      "Iteration : 18 \n",
      " , Train Loss : 128.54016876220703 \n",
      ", Test Acc : 58.41522216796875 \n",
      "\n"
     ]
    },
    {
     "name": "stderr",
     "output_type": "stream",
     "text": [
      "100%|██████████| 20/20 [00:07<00:00,  2.68it/s]\n",
      " 55%|█████▍    | 86/157 [12:28<10:50,  9.16s/it]"
     ]
    },
    {
     "name": "stdout",
     "output_type": "stream",
     "text": [
      "Iteration : 19 \n",
      " , Train Loss : 140.8607931137085 \n",
      ", Test Acc : 56.66682434082031 \n",
      "\n"
     ]
    },
    {
     "name": "stderr",
     "output_type": "stream",
     "text": []
    },
    {
     "name": "stdout",
     "output_type": "stream",
     "text": [
      "Iteration : 0 \n",
      " , Train Loss : 199.09293174743652 \n",
      ", Test Acc : 18.54073715209961 \n",
      "\n"
     ]
    },
    {
     "name": "stderr",
     "output_type": "stream",
     "text": []
    },
    {
     "name": "stdout",
     "output_type": "stream",
     "text": [
      "Iteration : 2 \n",
      " , Train Loss : 630.7687683105469 \n",
      ", Test Acc : 28.645357131958008 \n",
      "\n"
     ]
    },
    {
     "name": "stderr",
     "output_type": "stream",
     "text": []
    },
    {
     "name": "stdout",
     "output_type": "stream",
     "text": [
      "Iteration : 4 \n",
      " , Train Loss : 942.9539642333984 \n",
      ", Test Acc : 28.61905860900879 \n",
      "\n"
     ]
    },
    {
     "name": "stderr",
     "output_type": "stream",
     "text": []
    },
    {
     "name": "stdout",
     "output_type": "stream",
     "text": [
      "Iteration : 6 \n",
      " , Train Loss : 463.10618591308594 \n",
      ", Test Acc : 37.41862487792969 \n",
      "\n"
     ]
    },
    {
     "name": "stderr",
     "output_type": "stream",
     "text": []
    },
    {
     "name": "stdout",
     "output_type": "stream",
     "text": [
      "Iteration : 8 \n",
      " , Train Loss : 475.15299224853516 \n",
      ", Test Acc : 36.00898361206055 \n",
      "\n"
     ]
    },
    {
     "name": "stderr",
     "output_type": "stream",
     "text": []
    },
    {
     "name": "stdout",
     "output_type": "stream",
     "text": [
      "Iteration : 10 \n",
      " , Train Loss : 404.69322967529297 \n",
      ", Test Acc : 41.4791374206543 \n",
      "\n"
     ]
    },
    {
     "name": "stderr",
     "output_type": "stream",
     "text": []
    },
    {
     "name": "stdout",
     "output_type": "stream",
     "text": [
      "Iteration : 12 \n",
      " , Train Loss : 224.21219062805176 \n",
      ", Test Acc : 49.5458984375 \n",
      "\n"
     ]
    },
    {
     "name": "stderr",
     "output_type": "stream",
     "text": []
    },
    {
     "name": "stdout",
     "output_type": "stream",
     "text": [
      "Iteration : 14 \n",
      " , Train Loss : 175.27715492248535 \n",
      ", Test Acc : 48.90316390991211 \n",
      "\n"
     ]
    },
    {
     "name": "stderr",
     "output_type": "stream",
     "text": []
    },
    {
     "name": "stdout",
     "output_type": "stream",
     "text": [
      "Iteration : 16 \n",
      " , Train Loss : 239.6425323486328 \n",
      ", Test Acc : 48.56694030761719 \n",
      "\n"
     ]
    },
    {
     "name": "stderr",
     "output_type": "stream",
     "text": []
    },
    {
     "name": "stdout",
     "output_type": "stream",
     "text": [
      "Iteration : 18 \n",
      " , Train Loss : 166.65333938598633 \n",
      ", Test Acc : 59.00967025756836 \n",
      "\n"
     ]
    },
    {
     "name": "stderr",
     "output_type": "stream",
     "text": [
      "100%|██████████| 20/20 [00:06<00:00,  2.93it/s]\n",
      " 55%|█████▌    | 87/157 [12:35<09:52,  8.46s/it]"
     ]
    },
    {
     "name": "stdout",
     "output_type": "stream",
     "text": [
      "Iteration : 19 \n",
      " , Train Loss : 116.87738132476807 \n",
      ", Test Acc : 60.7666130065918 \n",
      "\n"
     ]
    },
    {
     "name": "stderr",
     "output_type": "stream",
     "text": []
    },
    {
     "name": "stdout",
     "output_type": "stream",
     "text": [
      "Iteration : 0 \n",
      " , Train Loss : 197.38410758972168 \n",
      ", Test Acc : 19.970815658569336 \n",
      "\n"
     ]
    },
    {
     "name": "stderr",
     "output_type": "stream",
     "text": []
    },
    {
     "name": "stdout",
     "output_type": "stream",
     "text": [
      "Iteration : 2 \n",
      " , Train Loss : 650.6598129272461 \n",
      ", Test Acc : 27.48729705810547 \n",
      "\n"
     ]
    },
    {
     "name": "stderr",
     "output_type": "stream",
     "text": []
    },
    {
     "name": "stdout",
     "output_type": "stream",
     "text": [
      "Iteration : 4 \n",
      " , Train Loss : 723.144905090332 \n",
      ", Test Acc : 31.410341262817383 \n",
      "\n"
     ]
    },
    {
     "name": "stderr",
     "output_type": "stream",
     "text": []
    },
    {
     "name": "stdout",
     "output_type": "stream",
     "text": [
      "Iteration : 6 \n",
      " , Train Loss : 529.4887924194336 \n",
      ", Test Acc : 35.24148178100586 \n",
      "\n"
     ]
    },
    {
     "name": "stderr",
     "output_type": "stream",
     "text": []
    },
    {
     "name": "stdout",
     "output_type": "stream",
     "text": [
      "Iteration : 8 \n",
      " , Train Loss : 481.36844635009766 \n",
      ", Test Acc : 44.202789306640625 \n",
      "\n"
     ]
    },
    {
     "name": "stderr",
     "output_type": "stream",
     "text": []
    },
    {
     "name": "stdout",
     "output_type": "stream",
     "text": [
      "Iteration : 10 \n",
      " , Train Loss : 409.71841049194336 \n",
      ", Test Acc : 50.79878616333008 \n",
      "\n"
     ]
    },
    {
     "name": "stderr",
     "output_type": "stream",
     "text": []
    },
    {
     "name": "stdout",
     "output_type": "stream",
     "text": [
      "Iteration : 12 \n",
      " , Train Loss : 330.63205337524414 \n",
      ", Test Acc : 52.80535888671875 \n",
      "\n"
     ]
    },
    {
     "name": "stderr",
     "output_type": "stream",
     "text": []
    },
    {
     "name": "stdout",
     "output_type": "stream",
     "text": [
      "Iteration : 14 \n",
      " , Train Loss : 194.13534545898438 \n",
      ", Test Acc : 58.9542121887207 \n",
      "\n"
     ]
    },
    {
     "name": "stderr",
     "output_type": "stream",
     "text": []
    },
    {
     "name": "stdout",
     "output_type": "stream",
     "text": [
      "Iteration : 16 \n",
      " , Train Loss : 186.90601921081543 \n",
      ", Test Acc : 55.39491653442383 \n",
      "\n"
     ]
    },
    {
     "name": "stderr",
     "output_type": "stream",
     "text": []
    },
    {
     "name": "stdout",
     "output_type": "stream",
     "text": [
      "Iteration : 18 \n",
      " , Train Loss : 134.08261013031006 \n",
      ", Test Acc : 62.31795883178711 \n",
      "\n"
     ]
    },
    {
     "name": "stderr",
     "output_type": "stream",
     "text": [
      "100%|██████████| 20/20 [00:09<00:00,  2.05it/s]\n",
      " 56%|█████▌    | 88/157 [12:45<10:10,  8.85s/it]"
     ]
    },
    {
     "name": "stdout",
     "output_type": "stream",
     "text": [
      "Iteration : 19 \n",
      " , Train Loss : 106.26465225219727 \n",
      ", Test Acc : 56.311187744140625 \n",
      "\n"
     ]
    },
    {
     "name": "stderr",
     "output_type": "stream",
     "text": []
    },
    {
     "name": "stdout",
     "output_type": "stream",
     "text": [
      "Iteration : 0 \n",
      " , Train Loss : 136.91169357299805 \n",
      ", Test Acc : 20.612937927246094 \n",
      "\n"
     ]
    },
    {
     "name": "stderr",
     "output_type": "stream",
     "text": []
    },
    {
     "name": "stdout",
     "output_type": "stream",
     "text": [
      "Iteration : 2 \n",
      " , Train Loss : 704.6891479492188 \n",
      ", Test Acc : 25.377397537231445 \n",
      "\n"
     ]
    },
    {
     "name": "stderr",
     "output_type": "stream",
     "text": []
    },
    {
     "name": "stdout",
     "output_type": "stream",
     "text": [
      "Iteration : 4 \n",
      " , Train Loss : 588.3895721435547 \n",
      ", Test Acc : 30.39290428161621 \n",
      "\n"
     ]
    },
    {
     "name": "stderr",
     "output_type": "stream",
     "text": []
    },
    {
     "name": "stdout",
     "output_type": "stream",
     "text": [
      "Iteration : 6 \n",
      " , Train Loss : 425.08436584472656 \n",
      ", Test Acc : 38.1804084777832 \n",
      "\n"
     ]
    },
    {
     "name": "stderr",
     "output_type": "stream",
     "text": []
    },
    {
     "name": "stdout",
     "output_type": "stream",
     "text": [
      "Iteration : 8 \n",
      " , Train Loss : 279.97990226745605 \n",
      ", Test Acc : 45.03194808959961 \n",
      "\n"
     ]
    },
    {
     "name": "stderr",
     "output_type": "stream",
     "text": []
    },
    {
     "name": "stdout",
     "output_type": "stream",
     "text": [
      "Iteration : 10 \n",
      " , Train Loss : 280.8146095275879 \n",
      ", Test Acc : 49.55488967895508 \n",
      "\n"
     ]
    },
    {
     "name": "stderr",
     "output_type": "stream",
     "text": []
    },
    {
     "name": "stdout",
     "output_type": "stream",
     "text": [
      "Iteration : 12 \n",
      " , Train Loss : 197.83929347991943 \n",
      ", Test Acc : 48.60434341430664 \n",
      "\n"
     ]
    },
    {
     "name": "stderr",
     "output_type": "stream",
     "text": []
    },
    {
     "name": "stdout",
     "output_type": "stream",
     "text": [
      "Iteration : 14 \n",
      " , Train Loss : 198.85187816619873 \n",
      ", Test Acc : 53.43528366088867 \n",
      "\n"
     ]
    },
    {
     "name": "stderr",
     "output_type": "stream",
     "text": []
    },
    {
     "name": "stdout",
     "output_type": "stream",
     "text": [
      "Iteration : 16 \n",
      " , Train Loss : 176.06219482421875 \n",
      ", Test Acc : 56.76581954956055 \n",
      "\n"
     ]
    },
    {
     "name": "stderr",
     "output_type": "stream",
     "text": []
    },
    {
     "name": "stdout",
     "output_type": "stream",
     "text": [
      "Iteration : 18 \n",
      " , Train Loss : 159.13800430297852 \n",
      ", Test Acc : 59.47802734375 \n",
      "\n"
     ]
    },
    {
     "name": "stderr",
     "output_type": "stream",
     "text": [
      "100%|██████████| 20/20 [00:09<00:00,  2.16it/s]\n",
      " 57%|█████▋    | 89/157 [12:54<10:11,  8.99s/it]"
     ]
    },
    {
     "name": "stdout",
     "output_type": "stream",
     "text": [
      "Iteration : 19 \n",
      " , Train Loss : 146.13658714294434 \n",
      ", Test Acc : 63.30141830444336 \n",
      "\n"
     ]
    },
    {
     "name": "stderr",
     "output_type": "stream",
     "text": []
    },
    {
     "name": "stdout",
     "output_type": "stream",
     "text": [
      "Iteration : 0 \n",
      " , Train Loss : 162.957612991333 \n",
      ", Test Acc : 24.91446876525879 \n",
      "\n"
     ]
    },
    {
     "name": "stderr",
     "output_type": "stream",
     "text": []
    },
    {
     "name": "stdout",
     "output_type": "stream",
     "text": [
      "Iteration : 2 \n",
      " , Train Loss : 721.8917236328125 \n",
      ", Test Acc : 26.85524559020996 \n",
      "\n"
     ]
    },
    {
     "name": "stderr",
     "output_type": "stream",
     "text": []
    },
    {
     "name": "stdout",
     "output_type": "stream",
     "text": [
      "Iteration : 4 \n",
      " , Train Loss : 813.7367935180664 \n",
      ", Test Acc : 32.98057556152344 \n",
      "\n"
     ]
    },
    {
     "name": "stderr",
     "output_type": "stream",
     "text": []
    },
    {
     "name": "stdout",
     "output_type": "stream",
     "text": [
      "Iteration : 6 \n",
      " , Train Loss : 616.5856628417969 \n",
      ", Test Acc : 30.32312774658203 \n",
      "\n"
     ]
    },
    {
     "name": "stderr",
     "output_type": "stream",
     "text": []
    },
    {
     "name": "stdout",
     "output_type": "stream",
     "text": [
      "Iteration : 8 \n",
      " , Train Loss : 266.94340324401855 \n",
      ", Test Acc : 47.265960693359375 \n",
      "\n"
     ]
    },
    {
     "name": "stderr",
     "output_type": "stream",
     "text": []
    },
    {
     "name": "stdout",
     "output_type": "stream",
     "text": [
      "Iteration : 10 \n",
      " , Train Loss : 197.73163986206055 \n",
      ", Test Acc : 49.64273452758789 \n",
      "\n"
     ]
    },
    {
     "name": "stderr",
     "output_type": "stream",
     "text": []
    },
    {
     "name": "stdout",
     "output_type": "stream",
     "text": [
      "Iteration : 12 \n",
      " , Train Loss : 232.99247932434082 \n",
      ", Test Acc : 47.31167984008789 \n",
      "\n"
     ]
    },
    {
     "name": "stderr",
     "output_type": "stream",
     "text": []
    },
    {
     "name": "stdout",
     "output_type": "stream",
     "text": [
      "Iteration : 14 \n",
      " , Train Loss : 217.50465774536133 \n",
      ", Test Acc : 52.143672943115234 \n",
      "\n"
     ]
    },
    {
     "name": "stderr",
     "output_type": "stream",
     "text": []
    },
    {
     "name": "stdout",
     "output_type": "stream",
     "text": [
      "Iteration : 16 \n",
      " , Train Loss : 144.47672271728516 \n",
      ", Test Acc : 61.039188385009766 \n",
      "\n"
     ]
    },
    {
     "name": "stderr",
     "output_type": "stream",
     "text": []
    },
    {
     "name": "stdout",
     "output_type": "stream",
     "text": [
      "Iteration : 18 \n",
      " , Train Loss : 113.24357318878174 \n",
      ", Test Acc : 57.48418045043945 \n",
      "\n"
     ]
    },
    {
     "name": "stderr",
     "output_type": "stream",
     "text": [
      "100%|██████████| 20/20 [00:07<00:00,  2.68it/s]\n",
      " 57%|█████▋    | 90/157 [13:02<09:32,  8.54s/it]"
     ]
    },
    {
     "name": "stdout",
     "output_type": "stream",
     "text": [
      "Iteration : 19 \n",
      " , Train Loss : 118.15553760528564 \n",
      ", Test Acc : 60.4567985534668 \n",
      "\n"
     ]
    },
    {
     "name": "stderr",
     "output_type": "stream",
     "text": []
    },
    {
     "name": "stdout",
     "output_type": "stream",
     "text": [
      "Iteration : 0 \n",
      " , Train Loss : 190.2868709564209 \n",
      ", Test Acc : 19.69485092163086 \n",
      "\n"
     ]
    },
    {
     "name": "stderr",
     "output_type": "stream",
     "text": []
    },
    {
     "name": "stdout",
     "output_type": "stream",
     "text": [
      "Iteration : 2 \n",
      " , Train Loss : 659.8031768798828 \n",
      ", Test Acc : 20.559778213500977 \n",
      "\n"
     ]
    },
    {
     "name": "stderr",
     "output_type": "stream",
     "text": []
    },
    {
     "name": "stdout",
     "output_type": "stream",
     "text": [
      "Iteration : 4 \n",
      " , Train Loss : 599.7354507446289 \n",
      ", Test Acc : 24.710256576538086 \n",
      "\n"
     ]
    },
    {
     "name": "stderr",
     "output_type": "stream",
     "text": []
    },
    {
     "name": "stdout",
     "output_type": "stream",
     "text": [
      "Iteration : 6 \n",
      " , Train Loss : 744.6396179199219 \n",
      ", Test Acc : 32.15945816040039 \n",
      "\n"
     ]
    },
    {
     "name": "stderr",
     "output_type": "stream",
     "text": []
    },
    {
     "name": "stdout",
     "output_type": "stream",
     "text": [
      "Iteration : 8 \n",
      " , Train Loss : 534.1255950927734 \n",
      ", Test Acc : 41.23870849609375 \n",
      "\n"
     ]
    },
    {
     "name": "stderr",
     "output_type": "stream",
     "text": []
    },
    {
     "name": "stdout",
     "output_type": "stream",
     "text": [
      "Iteration : 10 \n",
      " , Train Loss : 349.89562225341797 \n",
      ", Test Acc : 43.97013473510742 \n",
      "\n"
     ]
    },
    {
     "name": "stderr",
     "output_type": "stream",
     "text": []
    },
    {
     "name": "stdout",
     "output_type": "stream",
     "text": [
      "Iteration : 12 \n",
      " , Train Loss : 296.99200439453125 \n",
      ", Test Acc : 46.2706413269043 \n",
      "\n"
     ]
    },
    {
     "name": "stderr",
     "output_type": "stream",
     "text": []
    },
    {
     "name": "stdout",
     "output_type": "stream",
     "text": [
      "Iteration : 14 \n",
      " , Train Loss : 215.1079921722412 \n",
      ", Test Acc : 43.478458404541016 \n",
      "\n"
     ]
    },
    {
     "name": "stderr",
     "output_type": "stream",
     "text": []
    },
    {
     "name": "stdout",
     "output_type": "stream",
     "text": [
      "Iteration : 16 \n",
      " , Train Loss : 220.4028491973877 \n",
      ", Test Acc : 44.36252212524414 \n",
      "\n"
     ]
    },
    {
     "name": "stderr",
     "output_type": "stream",
     "text": []
    },
    {
     "name": "stdout",
     "output_type": "stream",
     "text": [
      "Iteration : 18 \n",
      " , Train Loss : 202.9064817428589 \n",
      ", Test Acc : 51.99103927612305 \n",
      "\n"
     ]
    },
    {
     "name": "stderr",
     "output_type": "stream",
     "text": [
      "100%|██████████| 20/20 [00:07<00:00,  2.52it/s]\n",
      " 58%|█████▊    | 91/157 [13:10<09:12,  8.37s/it]"
     ]
    },
    {
     "name": "stdout",
     "output_type": "stream",
     "text": [
      "Iteration : 19 \n",
      " , Train Loss : 145.31981372833252 \n",
      ", Test Acc : 55.0549201965332 \n",
      "\n"
     ]
    },
    {
     "name": "stderr",
     "output_type": "stream",
     "text": []
    },
    {
     "name": "stdout",
     "output_type": "stream",
     "text": [
      "Iteration : 0 \n",
      " , Train Loss : 183.11288261413574 \n",
      ", Test Acc : 19.005605697631836 \n",
      "\n"
     ]
    },
    {
     "name": "stderr",
     "output_type": "stream",
     "text": []
    },
    {
     "name": "stdout",
     "output_type": "stream",
     "text": [
      "Iteration : 2 \n",
      " , Train Loss : 737.4696731567383 \n",
      ", Test Acc : 25.535303115844727 \n",
      "\n"
     ]
    },
    {
     "name": "stderr",
     "output_type": "stream",
     "text": []
    },
    {
     "name": "stdout",
     "output_type": "stream",
     "text": [
      "Iteration : 4 \n",
      " , Train Loss : 538.7138786315918 \n",
      ", Test Acc : 37.7138557434082 \n",
      "\n"
     ]
    },
    {
     "name": "stderr",
     "output_type": "stream",
     "text": []
    },
    {
     "name": "stdout",
     "output_type": "stream",
     "text": [
      "Iteration : 6 \n",
      " , Train Loss : 363.4067153930664 \n",
      ", Test Acc : 39.03456115722656 \n",
      "\n"
     ]
    },
    {
     "name": "stderr",
     "output_type": "stream",
     "text": []
    },
    {
     "name": "stdout",
     "output_type": "stream",
     "text": [
      "Iteration : 8 \n",
      " , Train Loss : 346.9390678405762 \n",
      ", Test Acc : 46.423004150390625 \n",
      "\n"
     ]
    },
    {
     "name": "stderr",
     "output_type": "stream",
     "text": []
    },
    {
     "name": "stdout",
     "output_type": "stream",
     "text": [
      "Iteration : 10 \n",
      " , Train Loss : 240.61348724365234 \n",
      ", Test Acc : 47.04548263549805 \n",
      "\n"
     ]
    },
    {
     "name": "stderr",
     "output_type": "stream",
     "text": []
    },
    {
     "name": "stdout",
     "output_type": "stream",
     "text": [
      "Iteration : 12 \n",
      " , Train Loss : 162.29931354522705 \n",
      ", Test Acc : 54.7750129699707 \n",
      "\n"
     ]
    },
    {
     "name": "stderr",
     "output_type": "stream",
     "text": []
    },
    {
     "name": "stdout",
     "output_type": "stream",
     "text": [
      "Iteration : 14 \n",
      " , Train Loss : 151.0981330871582 \n",
      ", Test Acc : 53.72196960449219 \n",
      "\n"
     ]
    },
    {
     "name": "stderr",
     "output_type": "stream",
     "text": []
    },
    {
     "name": "stdout",
     "output_type": "stream",
     "text": [
      "Iteration : 16 \n",
      " , Train Loss : 154.62440490722656 \n",
      ", Test Acc : 57.0374755859375 \n",
      "\n"
     ]
    },
    {
     "name": "stderr",
     "output_type": "stream",
     "text": []
    },
    {
     "name": "stdout",
     "output_type": "stream",
     "text": [
      "Iteration : 18 \n",
      " , Train Loss : 137.33490657806396 \n",
      ", Test Acc : 65.0398178100586 \n",
      "\n"
     ]
    },
    {
     "name": "stderr",
     "output_type": "stream",
     "text": [
      "100%|██████████| 20/20 [00:09<00:00,  2.01it/s]\n",
      " 59%|█████▊    | 92/157 [13:20<09:35,  8.85s/it]"
     ]
    },
    {
     "name": "stdout",
     "output_type": "stream",
     "text": [
      "Iteration : 19 \n",
      " , Train Loss : 121.07936668395996 \n",
      ", Test Acc : 67.89168548583984 \n",
      "\n"
     ]
    },
    {
     "name": "stderr",
     "output_type": "stream",
     "text": []
    },
    {
     "name": "stdout",
     "output_type": "stream",
     "text": [
      "Iteration : 0 \n",
      " , Train Loss : 136.77276229858398 \n",
      ", Test Acc : 20.76343536376953 \n",
      "\n"
     ]
    },
    {
     "name": "stderr",
     "output_type": "stream",
     "text": []
    },
    {
     "name": "stdout",
     "output_type": "stream",
     "text": [
      "Iteration : 2 \n",
      " , Train Loss : 690.9597015380859 \n",
      ", Test Acc : 19.7788028717041 \n",
      "\n"
     ]
    },
    {
     "name": "stderr",
     "output_type": "stream",
     "text": []
    },
    {
     "name": "stdout",
     "output_type": "stream",
     "text": [
      "Iteration : 4 \n",
      " , Train Loss : 568.9736404418945 \n",
      ", Test Acc : 31.403305053710938 \n",
      "\n"
     ]
    },
    {
     "name": "stderr",
     "output_type": "stream",
     "text": []
    },
    {
     "name": "stdout",
     "output_type": "stream",
     "text": [
      "Iteration : 6 \n",
      " , Train Loss : 414.88873291015625 \n",
      ", Test Acc : 39.15664291381836 \n",
      "\n"
     ]
    },
    {
     "name": "stderr",
     "output_type": "stream",
     "text": []
    },
    {
     "name": "stdout",
     "output_type": "stream",
     "text": [
      "Iteration : 8 \n",
      " , Train Loss : 307.1858940124512 \n",
      ", Test Acc : 44.7838020324707 \n",
      "\n"
     ]
    },
    {
     "name": "stderr",
     "output_type": "stream",
     "text": []
    },
    {
     "name": "stdout",
     "output_type": "stream",
     "text": [
      "Iteration : 10 \n",
      " , Train Loss : 238.09306144714355 \n",
      ", Test Acc : 46.712032318115234 \n",
      "\n"
     ]
    },
    {
     "name": "stderr",
     "output_type": "stream",
     "text": []
    },
    {
     "name": "stdout",
     "output_type": "stream",
     "text": [
      "Iteration : 12 \n",
      " , Train Loss : 208.30855751037598 \n",
      ", Test Acc : 52.0297737121582 \n",
      "\n"
     ]
    },
    {
     "name": "stderr",
     "output_type": "stream",
     "text": []
    },
    {
     "name": "stdout",
     "output_type": "stream",
     "text": [
      "Iteration : 14 \n",
      " , Train Loss : 185.8157320022583 \n",
      ", Test Acc : 52.3619384765625 \n",
      "\n"
     ]
    },
    {
     "name": "stderr",
     "output_type": "stream",
     "text": []
    },
    {
     "name": "stdout",
     "output_type": "stream",
     "text": [
      "Iteration : 16 \n",
      " , Train Loss : 170.72806549072266 \n",
      ", Test Acc : 55.95603942871094 \n",
      "\n"
     ]
    },
    {
     "name": "stderr",
     "output_type": "stream",
     "text": []
    },
    {
     "name": "stdout",
     "output_type": "stream",
     "text": [
      "Iteration : 18 \n",
      " , Train Loss : 145.26146125793457 \n",
      ", Test Acc : 57.431949615478516 \n",
      "\n"
     ]
    },
    {
     "name": "stderr",
     "output_type": "stream",
     "text": [
      "100%|██████████| 20/20 [00:07<00:00,  2.70it/s]\n",
      " 59%|█████▉    | 93/157 [13:27<08:59,  8.43s/it]"
     ]
    },
    {
     "name": "stdout",
     "output_type": "stream",
     "text": [
      "Iteration : 19 \n",
      " , Train Loss : 149.02897310256958 \n",
      ", Test Acc : 59.13482666015625 \n",
      "\n"
     ]
    },
    {
     "name": "stderr",
     "output_type": "stream",
     "text": []
    },
    {
     "name": "stdout",
     "output_type": "stream",
     "text": [
      "Iteration : 0 \n",
      " , Train Loss : 185.08831596374512 \n",
      ", Test Acc : 22.058074951171875 \n",
      "\n"
     ]
    },
    {
     "name": "stderr",
     "output_type": "stream",
     "text": []
    },
    {
     "name": "stdout",
     "output_type": "stream",
     "text": [
      "Iteration : 2 \n",
      " , Train Loss : 798.7309188842773 \n",
      ", Test Acc : 17.18720245361328 \n",
      "\n"
     ]
    },
    {
     "name": "stderr",
     "output_type": "stream",
     "text": []
    },
    {
     "name": "stdout",
     "output_type": "stream",
     "text": [
      "Iteration : 4 \n",
      " , Train Loss : 794.8743515014648 \n",
      ", Test Acc : 27.388320922851562 \n",
      "\n"
     ]
    },
    {
     "name": "stderr",
     "output_type": "stream",
     "text": []
    },
    {
     "name": "stdout",
     "output_type": "stream",
     "text": [
      "Iteration : 6 \n",
      " , Train Loss : 533.542163848877 \n",
      ", Test Acc : 40.375186920166016 \n",
      "\n"
     ]
    },
    {
     "name": "stderr",
     "output_type": "stream",
     "text": []
    },
    {
     "name": "stdout",
     "output_type": "stream",
     "text": [
      "Iteration : 8 \n",
      " , Train Loss : 375.29041290283203 \n",
      ", Test Acc : 35.8446159362793 \n",
      "\n"
     ]
    },
    {
     "name": "stderr",
     "output_type": "stream",
     "text": []
    },
    {
     "name": "stdout",
     "output_type": "stream",
     "text": [
      "Iteration : 10 \n",
      " , Train Loss : 290.4300117492676 \n",
      ", Test Acc : 48.174407958984375 \n",
      "\n"
     ]
    },
    {
     "name": "stderr",
     "output_type": "stream",
     "text": []
    },
    {
     "name": "stdout",
     "output_type": "stream",
     "text": [
      "Iteration : 12 \n",
      " , Train Loss : 237.59750175476074 \n",
      ", Test Acc : 42.101680755615234 \n",
      "\n"
     ]
    },
    {
     "name": "stderr",
     "output_type": "stream",
     "text": []
    },
    {
     "name": "stdout",
     "output_type": "stream",
     "text": [
      "Iteration : 14 \n",
      " , Train Loss : 218.21942520141602 \n",
      ", Test Acc : 51.268672943115234 \n",
      "\n"
     ]
    },
    {
     "name": "stderr",
     "output_type": "stream",
     "text": []
    },
    {
     "name": "stdout",
     "output_type": "stream",
     "text": [
      "Iteration : 16 \n",
      " , Train Loss : 174.93577480316162 \n",
      ", Test Acc : 51.923824310302734 \n",
      "\n"
     ]
    },
    {
     "name": "stderr",
     "output_type": "stream",
     "text": []
    },
    {
     "name": "stdout",
     "output_type": "stream",
     "text": [
      "Iteration : 18 \n",
      " , Train Loss : 169.11455869674683 \n",
      ", Test Acc : 58.39727783203125 \n",
      "\n"
     ]
    },
    {
     "name": "stderr",
     "output_type": "stream",
     "text": [
      "100%|██████████| 20/20 [00:06<00:00,  3.01it/s]\n",
      " 60%|█████▉    | 94/157 [13:34<08:17,  7.90s/it]"
     ]
    },
    {
     "name": "stdout",
     "output_type": "stream",
     "text": [
      "Iteration : 19 \n",
      " , Train Loss : 139.32906436920166 \n",
      ", Test Acc : 58.002628326416016 \n",
      "\n"
     ]
    },
    {
     "name": "stderr",
     "output_type": "stream",
     "text": []
    },
    {
     "name": "stdout",
     "output_type": "stream",
     "text": [
      "Iteration : 0 \n",
      " , Train Loss : 219.9025650024414 \n",
      ", Test Acc : 14.935340881347656 \n",
      "\n"
     ]
    },
    {
     "name": "stderr",
     "output_type": "stream",
     "text": []
    },
    {
     "name": "stdout",
     "output_type": "stream",
     "text": [
      "Iteration : 2 \n",
      " , Train Loss : 659.5746841430664 \n",
      ", Test Acc : 27.106679916381836 \n",
      "\n"
     ]
    },
    {
     "name": "stderr",
     "output_type": "stream",
     "text": []
    },
    {
     "name": "stdout",
     "output_type": "stream",
     "text": [
      "Iteration : 4 \n",
      " , Train Loss : 818.7439346313477 \n",
      ", Test Acc : 24.359251022338867 \n",
      "\n"
     ]
    },
    {
     "name": "stderr",
     "output_type": "stream",
     "text": []
    },
    {
     "name": "stdout",
     "output_type": "stream",
     "text": [
      "Iteration : 6 \n",
      " , Train Loss : 542.3302841186523 \n",
      ", Test Acc : 48.497013092041016 \n",
      "\n"
     ]
    },
    {
     "name": "stderr",
     "output_type": "stream",
     "text": []
    },
    {
     "name": "stdout",
     "output_type": "stream",
     "text": [
      "Iteration : 8 \n",
      " , Train Loss : 350.4509391784668 \n",
      ", Test Acc : 43.45109176635742 \n",
      "\n"
     ]
    },
    {
     "name": "stderr",
     "output_type": "stream",
     "text": []
    },
    {
     "name": "stdout",
     "output_type": "stream",
     "text": [
      "Iteration : 10 \n",
      " , Train Loss : 167.12529754638672 \n",
      ", Test Acc : 56.6772346496582 \n",
      "\n"
     ]
    },
    {
     "name": "stderr",
     "output_type": "stream",
     "text": []
    },
    {
     "name": "stdout",
     "output_type": "stream",
     "text": [
      "Iteration : 12 \n",
      " , Train Loss : 151.89126682281494 \n",
      ", Test Acc : 46.46833419799805 \n",
      "\n"
     ]
    },
    {
     "name": "stderr",
     "output_type": "stream",
     "text": []
    },
    {
     "name": "stdout",
     "output_type": "stream",
     "text": [
      "Iteration : 14 \n",
      " , Train Loss : 200.48011589050293 \n",
      ", Test Acc : 50.759735107421875 \n",
      "\n"
     ]
    },
    {
     "name": "stderr",
     "output_type": "stream",
     "text": []
    },
    {
     "name": "stdout",
     "output_type": "stream",
     "text": [
      "Iteration : 16 \n",
      " , Train Loss : 133.9250841140747 \n",
      ", Test Acc : 59.6257209777832 \n",
      "\n"
     ]
    },
    {
     "name": "stderr",
     "output_type": "stream",
     "text": []
    },
    {
     "name": "stdout",
     "output_type": "stream",
     "text": [
      "Iteration : 18 \n",
      " , Train Loss : 105.2429895401001 \n",
      ", Test Acc : 62.94487380981445 \n",
      "\n"
     ]
    },
    {
     "name": "stderr",
     "output_type": "stream",
     "text": [
      "100%|██████████| 20/20 [00:09<00:00,  2.15it/s]\n",
      " 61%|██████    | 95/157 [13:43<08:36,  8.33s/it]"
     ]
    },
    {
     "name": "stdout",
     "output_type": "stream",
     "text": [
      "Iteration : 19 \n",
      " , Train Loss : 96.77344560623169 \n",
      ", Test Acc : 64.94974517822266 \n",
      "\n"
     ]
    },
    {
     "name": "stderr",
     "output_type": "stream",
     "text": []
    },
    {
     "name": "stdout",
     "output_type": "stream",
     "text": [
      "Iteration : 0 \n",
      " , Train Loss : 161.8232765197754 \n",
      ", Test Acc : 21.983659744262695 \n",
      "\n"
     ]
    },
    {
     "name": "stderr",
     "output_type": "stream",
     "text": []
    },
    {
     "name": "stdout",
     "output_type": "stream",
     "text": [
      "Iteration : 2 \n",
      " , Train Loss : 912.5223541259766 \n",
      ", Test Acc : 26.999624252319336 \n",
      "\n"
     ]
    },
    {
     "name": "stderr",
     "output_type": "stream",
     "text": []
    },
    {
     "name": "stdout",
     "output_type": "stream",
     "text": [
      "Iteration : 4 \n",
      " , Train Loss : 487.03604888916016 \n",
      ", Test Acc : 36.231422424316406 \n",
      "\n"
     ]
    },
    {
     "name": "stderr",
     "output_type": "stream",
     "text": []
    },
    {
     "name": "stdout",
     "output_type": "stream",
     "text": [
      "Iteration : 6 \n",
      " , Train Loss : 360.56879806518555 \n",
      ", Test Acc : 38.54411315917969 \n",
      "\n"
     ]
    },
    {
     "name": "stderr",
     "output_type": "stream",
     "text": []
    },
    {
     "name": "stdout",
     "output_type": "stream",
     "text": [
      "Iteration : 8 \n",
      " , Train Loss : 321.24209785461426 \n",
      ", Test Acc : 40.21811294555664 \n",
      "\n"
     ]
    },
    {
     "name": "stderr",
     "output_type": "stream",
     "text": []
    },
    {
     "name": "stdout",
     "output_type": "stream",
     "text": [
      "Iteration : 10 \n",
      " , Train Loss : 277.97827339172363 \n",
      ", Test Acc : 49.744869232177734 \n",
      "\n"
     ]
    },
    {
     "name": "stderr",
     "output_type": "stream",
     "text": []
    },
    {
     "name": "stdout",
     "output_type": "stream",
     "text": [
      "Iteration : 12 \n",
      " , Train Loss : 148.20537281036377 \n",
      ", Test Acc : 55.1573486328125 \n",
      "\n"
     ]
    },
    {
     "name": "stderr",
     "output_type": "stream",
     "text": []
    },
    {
     "name": "stdout",
     "output_type": "stream",
     "text": [
      "Iteration : 14 \n",
      " , Train Loss : 147.63516426086426 \n",
      ", Test Acc : 54.1963996887207 \n",
      "\n"
     ]
    },
    {
     "name": "stderr",
     "output_type": "stream",
     "text": []
    },
    {
     "name": "stdout",
     "output_type": "stream",
     "text": [
      "Iteration : 16 \n",
      " , Train Loss : 182.57021713256836 \n",
      ", Test Acc : 56.483097076416016 \n",
      "\n"
     ]
    },
    {
     "name": "stderr",
     "output_type": "stream",
     "text": []
    },
    {
     "name": "stdout",
     "output_type": "stream",
     "text": [
      "Iteration : 18 \n",
      " , Train Loss : 141.4285020828247 \n",
      ", Test Acc : 63.78024673461914 \n",
      "\n"
     ]
    },
    {
     "name": "stderr",
     "output_type": "stream",
     "text": [
      "100%|██████████| 20/20 [00:08<00:00,  2.34it/s]\n",
      " 61%|██████    | 96/157 [13:52<08:32,  8.40s/it]"
     ]
    },
    {
     "name": "stdout",
     "output_type": "stream",
     "text": [
      "Iteration : 19 \n",
      " , Train Loss : 107.34393501281738 \n",
      ", Test Acc : 64.71847534179688 \n",
      "\n"
     ]
    },
    {
     "name": "stderr",
     "output_type": "stream",
     "text": []
    },
    {
     "name": "stdout",
     "output_type": "stream",
     "text": [
      "Iteration : 0 \n",
      " , Train Loss : 198.3706398010254 \n",
      ", Test Acc : 24.560394287109375 \n",
      "\n"
     ]
    },
    {
     "name": "stderr",
     "output_type": "stream",
     "text": []
    },
    {
     "name": "stdout",
     "output_type": "stream",
     "text": [
      "Iteration : 2 \n",
      " , Train Loss : 619.3709945678711 \n",
      ", Test Acc : 20.030517578125 \n",
      "\n"
     ]
    },
    {
     "name": "stderr",
     "output_type": "stream",
     "text": []
    },
    {
     "name": "stdout",
     "output_type": "stream",
     "text": [
      "Iteration : 4 \n",
      " , Train Loss : 347.5455436706543 \n",
      ", Test Acc : 33.54936599731445 \n",
      "\n"
     ]
    },
    {
     "name": "stderr",
     "output_type": "stream",
     "text": []
    },
    {
     "name": "stdout",
     "output_type": "stream",
     "text": [
      "Iteration : 6 \n",
      " , Train Loss : 315.3648796081543 \n",
      ", Test Acc : 37.509483337402344 \n",
      "\n"
     ]
    },
    {
     "name": "stderr",
     "output_type": "stream",
     "text": []
    },
    {
     "name": "stdout",
     "output_type": "stream",
     "text": [
      "Iteration : 8 \n",
      " , Train Loss : 252.92629623413086 \n",
      ", Test Acc : 55.137054443359375 \n",
      "\n"
     ]
    },
    {
     "name": "stderr",
     "output_type": "stream",
     "text": []
    },
    {
     "name": "stdout",
     "output_type": "stream",
     "text": [
      "Iteration : 10 \n",
      " , Train Loss : 280.7743320465088 \n",
      ", Test Acc : 50.51504898071289 \n",
      "\n"
     ]
    },
    {
     "name": "stderr",
     "output_type": "stream",
     "text": []
    },
    {
     "name": "stdout",
     "output_type": "stream",
     "text": [
      "Iteration : 12 \n",
      " , Train Loss : 247.72738647460938 \n",
      ", Test Acc : 57.098907470703125 \n",
      "\n"
     ]
    },
    {
     "name": "stderr",
     "output_type": "stream",
     "text": []
    },
    {
     "name": "stdout",
     "output_type": "stream",
     "text": [
      "Iteration : 14 \n",
      " , Train Loss : 176.6911907196045 \n",
      ", Test Acc : 60.73150634765625 \n",
      "\n"
     ]
    },
    {
     "name": "stderr",
     "output_type": "stream",
     "text": []
    },
    {
     "name": "stdout",
     "output_type": "stream",
     "text": [
      "Iteration : 16 \n",
      " , Train Loss : 140.98434352874756 \n",
      ", Test Acc : 59.85252380371094 \n",
      "\n"
     ]
    },
    {
     "name": "stderr",
     "output_type": "stream",
     "text": []
    },
    {
     "name": "stdout",
     "output_type": "stream",
     "text": [
      "Iteration : 18 \n",
      " , Train Loss : 158.47025203704834 \n",
      ", Test Acc : 58.72091293334961 \n",
      "\n"
     ]
    },
    {
     "name": "stderr",
     "output_type": "stream",
     "text": [
      "100%|██████████| 20/20 [00:07<00:00,  2.69it/s]\n",
      " 62%|██████▏   | 97/157 [13:59<08:07,  8.12s/it]"
     ]
    },
    {
     "name": "stdout",
     "output_type": "stream",
     "text": [
      "Iteration : 19 \n",
      " , Train Loss : 161.35728931427002 \n",
      ", Test Acc : 62.07413101196289 \n",
      "\n"
     ]
    },
    {
     "name": "stderr",
     "output_type": "stream",
     "text": []
    },
    {
     "name": "stdout",
     "output_type": "stream",
     "text": [
      "Iteration : 0 \n",
      " , Train Loss : 145.96992111206055 \n",
      ", Test Acc : 23.513227462768555 \n",
      "\n"
     ]
    },
    {
     "name": "stderr",
     "output_type": "stream",
     "text": []
    },
    {
     "name": "stdout",
     "output_type": "stream",
     "text": [
      "Iteration : 2 \n",
      " , Train Loss : 718.0501403808594 \n",
      ", Test Acc : 30.581268310546875 \n",
      "\n"
     ]
    },
    {
     "name": "stderr",
     "output_type": "stream",
     "text": []
    },
    {
     "name": "stdout",
     "output_type": "stream",
     "text": [
      "Iteration : 4 \n",
      " , Train Loss : 842.8926239013672 \n",
      ", Test Acc : 27.19524574279785 \n",
      "\n"
     ]
    },
    {
     "name": "stderr",
     "output_type": "stream",
     "text": []
    },
    {
     "name": "stdout",
     "output_type": "stream",
     "text": [
      "Iteration : 6 \n",
      " , Train Loss : 454.8373680114746 \n",
      ", Test Acc : 30.289247512817383 \n",
      "\n"
     ]
    },
    {
     "name": "stderr",
     "output_type": "stream",
     "text": []
    },
    {
     "name": "stdout",
     "output_type": "stream",
     "text": [
      "Iteration : 8 \n",
      " , Train Loss : 228.83980751037598 \n",
      ", Test Acc : 44.21286392211914 \n",
      "\n"
     ]
    },
    {
     "name": "stderr",
     "output_type": "stream",
     "text": []
    },
    {
     "name": "stdout",
     "output_type": "stream",
     "text": [
      "Iteration : 10 \n",
      " , Train Loss : 211.5662670135498 \n",
      ", Test Acc : 30.10188865661621 \n",
      "\n"
     ]
    },
    {
     "name": "stderr",
     "output_type": "stream",
     "text": []
    },
    {
     "name": "stdout",
     "output_type": "stream",
     "text": [
      "Iteration : 12 \n",
      " , Train Loss : 271.7951488494873 \n",
      ", Test Acc : 41.51979064941406 \n",
      "\n"
     ]
    },
    {
     "name": "stderr",
     "output_type": "stream",
     "text": []
    },
    {
     "name": "stdout",
     "output_type": "stream",
     "text": [
      "Iteration : 14 \n",
      " , Train Loss : 166.84642791748047 \n",
      ", Test Acc : 54.76218032836914 \n",
      "\n"
     ]
    },
    {
     "name": "stderr",
     "output_type": "stream",
     "text": []
    },
    {
     "name": "stdout",
     "output_type": "stream",
     "text": [
      "Iteration : 16 \n",
      " , Train Loss : 124.07860946655273 \n",
      ", Test Acc : 53.14743423461914 \n",
      "\n"
     ]
    },
    {
     "name": "stderr",
     "output_type": "stream",
     "text": []
    },
    {
     "name": "stdout",
     "output_type": "stream",
     "text": [
      "Iteration : 18 \n",
      " , Train Loss : 115.84689235687256 \n",
      ", Test Acc : 54.77164077758789 \n",
      "\n"
     ]
    },
    {
     "name": "stderr",
     "output_type": "stream",
     "text": [
      "100%|██████████| 20/20 [00:10<00:00,  1.87it/s]\n",
      " 62%|██████▏   | 98/157 [14:10<08:44,  8.89s/it]"
     ]
    },
    {
     "name": "stdout",
     "output_type": "stream",
     "text": [
      "Iteration : 19 \n",
      " , Train Loss : 125.07917404174805 \n",
      ", Test Acc : 53.48830032348633 \n",
      "\n"
     ]
    },
    {
     "name": "stderr",
     "output_type": "stream",
     "text": []
    },
    {
     "name": "stdout",
     "output_type": "stream",
     "text": [
      "Iteration : 0 \n",
      " , Train Loss : 199.32604789733887 \n",
      ", Test Acc : 20.775033950805664 \n",
      "\n"
     ]
    },
    {
     "name": "stderr",
     "output_type": "stream",
     "text": []
    },
    {
     "name": "stdout",
     "output_type": "stream",
     "text": [
      "Iteration : 2 \n",
      " , Train Loss : 523.6099166870117 \n",
      ", Test Acc : 23.14249610900879 \n",
      "\n"
     ]
    },
    {
     "name": "stderr",
     "output_type": "stream",
     "text": []
    },
    {
     "name": "stdout",
     "output_type": "stream",
     "text": [
      "Iteration : 4 \n",
      " , Train Loss : 601.1571273803711 \n",
      ", Test Acc : 24.737266540527344 \n",
      "\n"
     ]
    },
    {
     "name": "stderr",
     "output_type": "stream",
     "text": []
    },
    {
     "name": "stdout",
     "output_type": "stream",
     "text": [
      "Iteration : 6 \n",
      " , Train Loss : 603.9162979125977 \n",
      ", Test Acc : 30.66868019104004 \n",
      "\n"
     ]
    },
    {
     "name": "stderr",
     "output_type": "stream",
     "text": []
    },
    {
     "name": "stdout",
     "output_type": "stream",
     "text": [
      "Iteration : 8 \n",
      " , Train Loss : 470.0464553833008 \n",
      ", Test Acc : 27.601171493530273 \n",
      "\n"
     ]
    },
    {
     "name": "stderr",
     "output_type": "stream",
     "text": []
    },
    {
     "name": "stdout",
     "output_type": "stream",
     "text": [
      "Iteration : 10 \n",
      " , Train Loss : 349.2077293395996 \n",
      ", Test Acc : 38.58052062988281 \n",
      "\n"
     ]
    },
    {
     "name": "stderr",
     "output_type": "stream",
     "text": []
    },
    {
     "name": "stdout",
     "output_type": "stream",
     "text": [
      "Iteration : 12 \n",
      " , Train Loss : 286.94305419921875 \n",
      ", Test Acc : 43.648738861083984 \n",
      "\n"
     ]
    },
    {
     "name": "stderr",
     "output_type": "stream",
     "text": []
    },
    {
     "name": "stdout",
     "output_type": "stream",
     "text": [
      "Iteration : 14 \n",
      " , Train Loss : 190.71593284606934 \n",
      ", Test Acc : 48.508296966552734 \n",
      "\n"
     ]
    },
    {
     "name": "stderr",
     "output_type": "stream",
     "text": []
    },
    {
     "name": "stdout",
     "output_type": "stream",
     "text": [
      "Iteration : 16 \n",
      " , Train Loss : 167.32947731018066 \n",
      ", Test Acc : 51.7137565612793 \n",
      "\n"
     ]
    },
    {
     "name": "stderr",
     "output_type": "stream",
     "text": []
    },
    {
     "name": "stdout",
     "output_type": "stream",
     "text": [
      "Iteration : 18 \n",
      " , Train Loss : 163.47702026367188 \n",
      ", Test Acc : 54.81351089477539 \n",
      "\n"
     ]
    },
    {
     "name": "stderr",
     "output_type": "stream",
     "text": [
      "100%|██████████| 20/20 [00:07<00:00,  2.74it/s]\n",
      " 63%|██████▎   | 99/157 [14:17<08:08,  8.42s/it]"
     ]
    },
    {
     "name": "stdout",
     "output_type": "stream",
     "text": [
      "Iteration : 19 \n",
      " , Train Loss : 147.12719440460205 \n",
      ", Test Acc : 58.61468505859375 \n",
      "\n"
     ]
    },
    {
     "name": "stderr",
     "output_type": "stream",
     "text": []
    },
    {
     "name": "stdout",
     "output_type": "stream",
     "text": [
      "Iteration : 0 \n",
      " , Train Loss : 156.00809478759766 \n",
      ", Test Acc : 22.612159729003906 \n",
      "\n"
     ]
    },
    {
     "name": "stderr",
     "output_type": "stream",
     "text": []
    },
    {
     "name": "stdout",
     "output_type": "stream",
     "text": [
      "Iteration : 2 \n",
      " , Train Loss : 894.8792266845703 \n",
      ", Test Acc : 20.274988174438477 \n",
      "\n"
     ]
    },
    {
     "name": "stderr",
     "output_type": "stream",
     "text": []
    },
    {
     "name": "stdout",
     "output_type": "stream",
     "text": [
      "Iteration : 4 \n",
      " , Train Loss : 715.0405731201172 \n",
      ", Test Acc : 22.39691734313965 \n",
      "\n"
     ]
    },
    {
     "name": "stderr",
     "output_type": "stream",
     "text": []
    },
    {
     "name": "stdout",
     "output_type": "stream",
     "text": [
      "Iteration : 6 \n",
      " , Train Loss : 453.56493759155273 \n",
      ", Test Acc : 29.24718475341797 \n",
      "\n"
     ]
    },
    {
     "name": "stderr",
     "output_type": "stream",
     "text": []
    },
    {
     "name": "stdout",
     "output_type": "stream",
     "text": [
      "Iteration : 8 \n",
      " , Train Loss : 273.8747978210449 \n",
      ", Test Acc : 25.93662452697754 \n",
      "\n"
     ]
    },
    {
     "name": "stderr",
     "output_type": "stream",
     "text": []
    },
    {
     "name": "stdout",
     "output_type": "stream",
     "text": [
      "Iteration : 10 \n",
      " , Train Loss : 307.1438293457031 \n",
      ", Test Acc : 37.3564567565918 \n",
      "\n"
     ]
    },
    {
     "name": "stderr",
     "output_type": "stream",
     "text": []
    },
    {
     "name": "stdout",
     "output_type": "stream",
     "text": [
      "Iteration : 12 \n",
      " , Train Loss : 240.75903129577637 \n",
      ", Test Acc : 42.84819030761719 \n",
      "\n"
     ]
    },
    {
     "name": "stderr",
     "output_type": "stream",
     "text": []
    },
    {
     "name": "stdout",
     "output_type": "stream",
     "text": [
      "Iteration : 14 \n",
      " , Train Loss : 213.13329696655273 \n",
      ", Test Acc : 52.05511474609375 \n",
      "\n"
     ]
    },
    {
     "name": "stderr",
     "output_type": "stream",
     "text": []
    },
    {
     "name": "stdout",
     "output_type": "stream",
     "text": [
      "Iteration : 16 \n",
      " , Train Loss : 139.83833026885986 \n",
      ", Test Acc : 54.13328170776367 \n",
      "\n"
     ]
    },
    {
     "name": "stderr",
     "output_type": "stream",
     "text": []
    },
    {
     "name": "stdout",
     "output_type": "stream",
     "text": [
      "Iteration : 18 \n",
      " , Train Loss : 145.61616802215576 \n",
      ", Test Acc : 51.708919525146484 \n",
      "\n"
     ]
    },
    {
     "name": "stderr",
     "output_type": "stream",
     "text": [
      "100%|██████████| 20/20 [00:07<00:00,  2.59it/s]\n",
      " 64%|██████▎   | 100/157 [14:25<07:48,  8.22s/it]"
     ]
    },
    {
     "name": "stdout",
     "output_type": "stream",
     "text": [
      "Iteration : 19 \n",
      " , Train Loss : 162.13977432250977 \n",
      ", Test Acc : 52.71113967895508 \n",
      "\n"
     ]
    },
    {
     "name": "stderr",
     "output_type": "stream",
     "text": []
    },
    {
     "name": "stdout",
     "output_type": "stream",
     "text": [
      "Iteration : 0 \n",
      " , Train Loss : 140.18587684631348 \n",
      ", Test Acc : 26.777694702148438 \n",
      "\n"
     ]
    },
    {
     "name": "stderr",
     "output_type": "stream",
     "text": []
    },
    {
     "name": "stdout",
     "output_type": "stream",
     "text": [
      "Iteration : 2 \n",
      " , Train Loss : 861.3792190551758 \n",
      ", Test Acc : 29.303359985351562 \n",
      "\n"
     ]
    },
    {
     "name": "stderr",
     "output_type": "stream",
     "text": []
    },
    {
     "name": "stdout",
     "output_type": "stream",
     "text": [
      "Iteration : 4 \n",
      " , Train Loss : 527.5216064453125 \n",
      ", Test Acc : 27.52031898498535 \n",
      "\n"
     ]
    },
    {
     "name": "stderr",
     "output_type": "stream",
     "text": []
    },
    {
     "name": "stdout",
     "output_type": "stream",
     "text": [
      "Iteration : 6 \n",
      " , Train Loss : 330.73912811279297 \n",
      ", Test Acc : 36.05323028564453 \n",
      "\n"
     ]
    },
    {
     "name": "stderr",
     "output_type": "stream",
     "text": []
    },
    {
     "name": "stdout",
     "output_type": "stream",
     "text": [
      "Iteration : 8 \n",
      " , Train Loss : 259.12562561035156 \n",
      ", Test Acc : 45.568058013916016 \n",
      "\n"
     ]
    },
    {
     "name": "stderr",
     "output_type": "stream",
     "text": []
    },
    {
     "name": "stdout",
     "output_type": "stream",
     "text": [
      "Iteration : 10 \n",
      " , Train Loss : 253.59936332702637 \n",
      ", Test Acc : 51.71244430541992 \n",
      "\n"
     ]
    },
    {
     "name": "stderr",
     "output_type": "stream",
     "text": []
    },
    {
     "name": "stdout",
     "output_type": "stream",
     "text": [
      "Iteration : 12 \n",
      " , Train Loss : 214.4191780090332 \n",
      ", Test Acc : 55.99113845825195 \n",
      "\n"
     ]
    },
    {
     "name": "stderr",
     "output_type": "stream",
     "text": []
    },
    {
     "name": "stdout",
     "output_type": "stream",
     "text": [
      "Iteration : 14 \n",
      " , Train Loss : 170.0512351989746 \n",
      ", Test Acc : 55.444278717041016 \n",
      "\n"
     ]
    },
    {
     "name": "stderr",
     "output_type": "stream",
     "text": []
    },
    {
     "name": "stdout",
     "output_type": "stream",
     "text": [
      "Iteration : 16 \n",
      " , Train Loss : 123.63678073883057 \n",
      ", Test Acc : 63.0236701965332 \n",
      "\n"
     ]
    },
    {
     "name": "stderr",
     "output_type": "stream",
     "text": []
    },
    {
     "name": "stdout",
     "output_type": "stream",
     "text": [
      "Iteration : 18 \n",
      " , Train Loss : 132.5687494277954 \n",
      ", Test Acc : 63.968719482421875 \n",
      "\n"
     ]
    },
    {
     "name": "stderr",
     "output_type": "stream",
     "text": [
      "100%|██████████| 20/20 [00:09<00:00,  2.06it/s]\n",
      " 64%|██████▍   | 101/157 [14:35<08:05,  8.67s/it]"
     ]
    },
    {
     "name": "stdout",
     "output_type": "stream",
     "text": [
      "Iteration : 19 \n",
      " , Train Loss : 110.73110961914062 \n",
      ", Test Acc : 63.51253890991211 \n",
      "\n"
     ]
    },
    {
     "name": "stderr",
     "output_type": "stream",
     "text": []
    },
    {
     "name": "stdout",
     "output_type": "stream",
     "text": [
      "Iteration : 0 \n",
      " , Train Loss : 238.3016586303711 \n",
      ", Test Acc : 16.60321044921875 \n",
      "\n"
     ]
    },
    {
     "name": "stderr",
     "output_type": "stream",
     "text": []
    },
    {
     "name": "stdout",
     "output_type": "stream",
     "text": [
      "Iteration : 2 \n",
      " , Train Loss : 667.4980621337891 \n",
      ", Test Acc : 17.949968338012695 \n",
      "\n"
     ]
    },
    {
     "name": "stderr",
     "output_type": "stream",
     "text": []
    },
    {
     "name": "stdout",
     "output_type": "stream",
     "text": [
      "Iteration : 4 \n",
      " , Train Loss : 1027.519058227539 \n",
      ", Test Acc : 23.220985412597656 \n",
      "\n"
     ]
    },
    {
     "name": "stderr",
     "output_type": "stream",
     "text": []
    },
    {
     "name": "stdout",
     "output_type": "stream",
     "text": [
      "Iteration : 6 \n",
      " , Train Loss : 944.7684020996094 \n",
      ", Test Acc : 20.655054092407227 \n",
      "\n"
     ]
    },
    {
     "name": "stderr",
     "output_type": "stream",
     "text": []
    },
    {
     "name": "stdout",
     "output_type": "stream",
     "text": [
      "Iteration : 8 \n",
      " , Train Loss : 691.8855133056641 \n",
      ", Test Acc : 40.89982986450195 \n",
      "\n"
     ]
    },
    {
     "name": "stderr",
     "output_type": "stream",
     "text": []
    },
    {
     "name": "stdout",
     "output_type": "stream",
     "text": [
      "Iteration : 10 \n",
      " , Train Loss : 523.9810638427734 \n",
      ", Test Acc : 29.109283447265625 \n",
      "\n"
     ]
    },
    {
     "name": "stderr",
     "output_type": "stream",
     "text": []
    },
    {
     "name": "stdout",
     "output_type": "stream",
     "text": [
      "Iteration : 12 \n",
      " , Train Loss : 470.3135757446289 \n",
      ", Test Acc : 42.54465103149414 \n",
      "\n"
     ]
    },
    {
     "name": "stderr",
     "output_type": "stream",
     "text": []
    },
    {
     "name": "stdout",
     "output_type": "stream",
     "text": [
      "Iteration : 14 \n",
      " , Train Loss : 354.52184677124023 \n",
      ", Test Acc : 41.71400833129883 \n",
      "\n"
     ]
    },
    {
     "name": "stderr",
     "output_type": "stream",
     "text": []
    },
    {
     "name": "stdout",
     "output_type": "stream",
     "text": [
      "Iteration : 16 \n",
      " , Train Loss : 259.7001304626465 \n",
      ", Test Acc : 47.11849594116211 \n",
      "\n"
     ]
    },
    {
     "name": "stderr",
     "output_type": "stream",
     "text": []
    },
    {
     "name": "stdout",
     "output_type": "stream",
     "text": [
      "Iteration : 18 \n",
      " , Train Loss : 145.80645751953125 \n",
      ", Test Acc : 50.66836929321289 \n",
      "\n"
     ]
    },
    {
     "name": "stderr",
     "output_type": "stream",
     "text": [
      "100%|██████████| 20/20 [00:07<00:00,  2.61it/s]\n",
      " 65%|██████▍   | 102/157 [14:42<07:40,  8.38s/it]"
     ]
    },
    {
     "name": "stdout",
     "output_type": "stream",
     "text": [
      "Iteration : 19 \n",
      " , Train Loss : 123.09369659423828 \n",
      ", Test Acc : 43.2259521484375 \n",
      "\n"
     ]
    },
    {
     "name": "stderr",
     "output_type": "stream",
     "text": []
    },
    {
     "name": "stdout",
     "output_type": "stream",
     "text": [
      "Iteration : 0 \n",
      " , Train Loss : 156.13263511657715 \n",
      ", Test Acc : 22.615781784057617 \n",
      "\n"
     ]
    },
    {
     "name": "stderr",
     "output_type": "stream",
     "text": []
    },
    {
     "name": "stdout",
     "output_type": "stream",
     "text": [
      "Iteration : 2 \n",
      " , Train Loss : 761.3109664916992 \n",
      ", Test Acc : 11.59106159210205 \n",
      "\n"
     ]
    },
    {
     "name": "stderr",
     "output_type": "stream",
     "text": []
    },
    {
     "name": "stdout",
     "output_type": "stream",
     "text": [
      "Iteration : 4 \n",
      " , Train Loss : 559.4789962768555 \n",
      ", Test Acc : 42.06852340698242 \n",
      "\n"
     ]
    },
    {
     "name": "stderr",
     "output_type": "stream",
     "text": []
    },
    {
     "name": "stdout",
     "output_type": "stream",
     "text": [
      "Iteration : 6 \n",
      " , Train Loss : 428.224308013916 \n",
      ", Test Acc : 40.08442306518555 \n",
      "\n"
     ]
    },
    {
     "name": "stderr",
     "output_type": "stream",
     "text": []
    },
    {
     "name": "stdout",
     "output_type": "stream",
     "text": [
      "Iteration : 8 \n",
      " , Train Loss : 367.1349563598633 \n",
      ", Test Acc : 43.85615539550781 \n",
      "\n"
     ]
    },
    {
     "name": "stderr",
     "output_type": "stream",
     "text": []
    },
    {
     "name": "stdout",
     "output_type": "stream",
     "text": [
      "Iteration : 10 \n",
      " , Train Loss : 364.7619171142578 \n",
      ", Test Acc : 47.86970901489258 \n",
      "\n"
     ]
    },
    {
     "name": "stderr",
     "output_type": "stream",
     "text": []
    },
    {
     "name": "stdout",
     "output_type": "stream",
     "text": [
      "Iteration : 12 \n",
      " , Train Loss : 228.13329315185547 \n",
      ", Test Acc : 58.90871810913086 \n",
      "\n"
     ]
    },
    {
     "name": "stderr",
     "output_type": "stream",
     "text": []
    },
    {
     "name": "stdout",
     "output_type": "stream",
     "text": [
      "Iteration : 14 \n",
      " , Train Loss : 162.7795467376709 \n",
      ", Test Acc : 56.450592041015625 \n",
      "\n"
     ]
    },
    {
     "name": "stderr",
     "output_type": "stream",
     "text": []
    },
    {
     "name": "stdout",
     "output_type": "stream",
     "text": [
      "Iteration : 16 \n",
      " , Train Loss : 143.55213356018066 \n",
      ", Test Acc : 57.08090591430664 \n",
      "\n"
     ]
    },
    {
     "name": "stderr",
     "output_type": "stream",
     "text": []
    },
    {
     "name": "stdout",
     "output_type": "stream",
     "text": [
      "Iteration : 18 \n",
      " , Train Loss : 150.5678424835205 \n",
      ", Test Acc : 60.625579833984375 \n",
      "\n"
     ]
    },
    {
     "name": "stderr",
     "output_type": "stream",
     "text": [
      "100%|██████████| 20/20 [00:09<00:00,  2.09it/s]\n",
      " 66%|██████▌   | 103/157 [14:52<07:51,  8.74s/it]"
     ]
    },
    {
     "name": "stdout",
     "output_type": "stream",
     "text": [
      "Iteration : 19 \n",
      " , Train Loss : 138.4934206008911 \n",
      ", Test Acc : 62.5504035949707 \n",
      "\n"
     ]
    },
    {
     "name": "stderr",
     "output_type": "stream",
     "text": []
    },
    {
     "name": "stdout",
     "output_type": "stream",
     "text": [
      "Iteration : 0 \n",
      " , Train Loss : 193.0266399383545 \n",
      ", Test Acc : 22.93505096435547 \n",
      "\n"
     ]
    },
    {
     "name": "stderr",
     "output_type": "stream",
     "text": []
    },
    {
     "name": "stdout",
     "output_type": "stream",
     "text": [
      "Iteration : 2 \n",
      " , Train Loss : 666.3663864135742 \n",
      ", Test Acc : 26.83268928527832 \n",
      "\n"
     ]
    },
    {
     "name": "stderr",
     "output_type": "stream",
     "text": []
    },
    {
     "name": "stdout",
     "output_type": "stream",
     "text": [
      "Iteration : 4 \n",
      " , Train Loss : 845.5359115600586 \n",
      ", Test Acc : 37.27903366088867 \n",
      "\n"
     ]
    },
    {
     "name": "stderr",
     "output_type": "stream",
     "text": []
    },
    {
     "name": "stdout",
     "output_type": "stream",
     "text": [
      "Iteration : 6 \n",
      " , Train Loss : 734.8146209716797 \n",
      ", Test Acc : 36.456302642822266 \n",
      "\n"
     ]
    },
    {
     "name": "stderr",
     "output_type": "stream",
     "text": []
    },
    {
     "name": "stdout",
     "output_type": "stream",
     "text": [
      "Iteration : 8 \n",
      " , Train Loss : 642.8787612915039 \n",
      ", Test Acc : 41.54969787597656 \n",
      "\n"
     ]
    },
    {
     "name": "stderr",
     "output_type": "stream",
     "text": []
    },
    {
     "name": "stdout",
     "output_type": "stream",
     "text": [
      "Iteration : 10 \n",
      " , Train Loss : 374.5322265625 \n",
      ", Test Acc : 45.86759948730469 \n",
      "\n"
     ]
    },
    {
     "name": "stderr",
     "output_type": "stream",
     "text": []
    },
    {
     "name": "stdout",
     "output_type": "stream",
     "text": [
      "Iteration : 12 \n",
      " , Train Loss : 260.4506492614746 \n",
      ", Test Acc : 45.07865905761719 \n",
      "\n"
     ]
    },
    {
     "name": "stderr",
     "output_type": "stream",
     "text": []
    },
    {
     "name": "stdout",
     "output_type": "stream",
     "text": [
      "Iteration : 14 \n",
      " , Train Loss : 224.5603542327881 \n",
      ", Test Acc : 40.62389373779297 \n",
      "\n"
     ]
    },
    {
     "name": "stderr",
     "output_type": "stream",
     "text": []
    },
    {
     "name": "stdout",
     "output_type": "stream",
     "text": [
      "Iteration : 16 \n",
      " , Train Loss : 159.71130466461182 \n",
      ", Test Acc : 49.44291687011719 \n",
      "\n"
     ]
    },
    {
     "name": "stderr",
     "output_type": "stream",
     "text": []
    },
    {
     "name": "stdout",
     "output_type": "stream",
     "text": [
      "Iteration : 18 \n",
      " , Train Loss : 171.01406860351562 \n",
      ", Test Acc : 51.3823356628418 \n",
      "\n"
     ]
    },
    {
     "name": "stderr",
     "output_type": "stream",
     "text": [
      "100%|██████████| 20/20 [00:05<00:00,  3.58it/s]\n",
      " 66%|██████▌   | 104/157 [14:58<06:53,  7.80s/it]"
     ]
    },
    {
     "name": "stdout",
     "output_type": "stream",
     "text": [
      "Iteration : 19 \n",
      " , Train Loss : 153.0755181312561 \n",
      ", Test Acc : 53.60498046875 \n",
      "\n"
     ]
    },
    {
     "name": "stderr",
     "output_type": "stream",
     "text": []
    },
    {
     "name": "stdout",
     "output_type": "stream",
     "text": [
      "Iteration : 0 \n",
      " , Train Loss : 155.36031532287598 \n",
      ", Test Acc : 26.30488395690918 \n",
      "\n"
     ]
    },
    {
     "name": "stderr",
     "output_type": "stream",
     "text": []
    },
    {
     "name": "stdout",
     "output_type": "stream",
     "text": [
      "Iteration : 2 \n",
      " , Train Loss : 528.7441787719727 \n",
      ", Test Acc : 31.7421875 \n",
      "\n"
     ]
    },
    {
     "name": "stderr",
     "output_type": "stream",
     "text": []
    },
    {
     "name": "stdout",
     "output_type": "stream",
     "text": [
      "Iteration : 4 \n",
      " , Train Loss : 365.9556999206543 \n",
      ", Test Acc : 34.75266647338867 \n",
      "\n"
     ]
    },
    {
     "name": "stderr",
     "output_type": "stream",
     "text": []
    },
    {
     "name": "stdout",
     "output_type": "stream",
     "text": [
      "Iteration : 6 \n",
      " , Train Loss : 307.8515853881836 \n",
      ", Test Acc : 37.396636962890625 \n",
      "\n"
     ]
    },
    {
     "name": "stderr",
     "output_type": "stream",
     "text": []
    },
    {
     "name": "stdout",
     "output_type": "stream",
     "text": [
      "Iteration : 8 \n",
      " , Train Loss : 191.29636573791504 \n",
      ", Test Acc : 53.8461799621582 \n",
      "\n"
     ]
    },
    {
     "name": "stderr",
     "output_type": "stream",
     "text": []
    },
    {
     "name": "stdout",
     "output_type": "stream",
     "text": [
      "Iteration : 10 \n",
      " , Train Loss : 213.75715923309326 \n",
      ", Test Acc : 55.124114990234375 \n",
      "\n"
     ]
    },
    {
     "name": "stderr",
     "output_type": "stream",
     "text": []
    },
    {
     "name": "stdout",
     "output_type": "stream",
     "text": [
      "Iteration : 12 \n",
      " , Train Loss : 157.01920700073242 \n",
      ", Test Acc : 60.22074508666992 \n",
      "\n"
     ]
    },
    {
     "name": "stderr",
     "output_type": "stream",
     "text": []
    },
    {
     "name": "stdout",
     "output_type": "stream",
     "text": [
      "Iteration : 14 \n",
      " , Train Loss : 181.62586307525635 \n",
      ", Test Acc : 60.195560455322266 \n",
      "\n"
     ]
    },
    {
     "name": "stderr",
     "output_type": "stream",
     "text": []
    },
    {
     "name": "stdout",
     "output_type": "stream",
     "text": [
      "Iteration : 16 \n",
      " , Train Loss : 132.1861276626587 \n",
      ", Test Acc : 66.375732421875 \n",
      "\n"
     ]
    },
    {
     "name": "stderr",
     "output_type": "stream",
     "text": []
    },
    {
     "name": "stdout",
     "output_type": "stream",
     "text": [
      "Iteration : 18 \n",
      " , Train Loss : 129.92445755004883 \n",
      ", Test Acc : 62.24127197265625 \n",
      "\n"
     ]
    },
    {
     "name": "stderr",
     "output_type": "stream",
     "text": [
      "100%|██████████| 20/20 [00:07<00:00,  2.69it/s]\n",
      " 67%|██████▋   | 105/157 [15:05<06:40,  7.70s/it]"
     ]
    },
    {
     "name": "stdout",
     "output_type": "stream",
     "text": [
      "Iteration : 19 \n",
      " , Train Loss : 136.07397556304932 \n",
      ", Test Acc : 64.83048248291016 \n",
      "\n"
     ]
    },
    {
     "name": "stderr",
     "output_type": "stream",
     "text": []
    },
    {
     "name": "stdout",
     "output_type": "stream",
     "text": [
      "Iteration : 0 \n",
      " , Train Loss : 157.4662094116211 \n",
      ", Test Acc : 21.95807456970215 \n",
      "\n"
     ]
    },
    {
     "name": "stderr",
     "output_type": "stream",
     "text": []
    },
    {
     "name": "stdout",
     "output_type": "stream",
     "text": [
      "Iteration : 2 \n",
      " , Train Loss : 703.4505920410156 \n",
      ", Test Acc : 28.37434959411621 \n",
      "\n"
     ]
    },
    {
     "name": "stderr",
     "output_type": "stream",
     "text": []
    },
    {
     "name": "stdout",
     "output_type": "stream",
     "text": [
      "Iteration : 4 \n",
      " , Train Loss : 711.6858291625977 \n",
      ", Test Acc : 29.09324836730957 \n",
      "\n"
     ]
    },
    {
     "name": "stderr",
     "output_type": "stream",
     "text": []
    },
    {
     "name": "stdout",
     "output_type": "stream",
     "text": [
      "Iteration : 6 \n",
      " , Train Loss : 460.31884002685547 \n",
      ", Test Acc : 45.46103286743164 \n",
      "\n"
     ]
    },
    {
     "name": "stderr",
     "output_type": "stream",
     "text": []
    },
    {
     "name": "stdout",
     "output_type": "stream",
     "text": [
      "Iteration : 8 \n",
      " , Train Loss : 314.29298210144043 \n",
      ", Test Acc : 45.787540435791016 \n",
      "\n"
     ]
    },
    {
     "name": "stderr",
     "output_type": "stream",
     "text": []
    },
    {
     "name": "stdout",
     "output_type": "stream",
     "text": [
      "Iteration : 10 \n",
      " , Train Loss : 223.65896224975586 \n",
      ", Test Acc : 45.69028854370117 \n",
      "\n"
     ]
    },
    {
     "name": "stderr",
     "output_type": "stream",
     "text": []
    },
    {
     "name": "stdout",
     "output_type": "stream",
     "text": [
      "Iteration : 12 \n",
      " , Train Loss : 226.95230293273926 \n",
      ", Test Acc : 36.79044723510742 \n",
      "\n"
     ]
    },
    {
     "name": "stderr",
     "output_type": "stream",
     "text": []
    },
    {
     "name": "stdout",
     "output_type": "stream",
     "text": [
      "Iteration : 14 \n",
      " , Train Loss : 173.33239269256592 \n",
      ", Test Acc : 55.34312438964844 \n",
      "\n"
     ]
    },
    {
     "name": "stderr",
     "output_type": "stream",
     "text": []
    },
    {
     "name": "stdout",
     "output_type": "stream",
     "text": [
      "Iteration : 16 \n",
      " , Train Loss : 124.89228868484497 \n",
      ", Test Acc : 56.5992546081543 \n",
      "\n"
     ]
    },
    {
     "name": "stderr",
     "output_type": "stream",
     "text": []
    },
    {
     "name": "stdout",
     "output_type": "stream",
     "text": [
      "Iteration : 18 \n",
      " , Train Loss : 161.8526258468628 \n",
      ", Test Acc : 57.090545654296875 \n",
      "\n"
     ]
    },
    {
     "name": "stderr",
     "output_type": "stream",
     "text": [
      "100%|██████████| 20/20 [00:05<00:00,  3.70it/s]\n",
      " 68%|██████▊   | 106/157 [15:10<05:58,  7.02s/it]"
     ]
    },
    {
     "name": "stdout",
     "output_type": "stream",
     "text": [
      "Iteration : 19 \n",
      " , Train Loss : 164.15251445770264 \n",
      ", Test Acc : 60.53062057495117 \n",
      "\n"
     ]
    },
    {
     "name": "stderr",
     "output_type": "stream",
     "text": []
    },
    {
     "name": "stdout",
     "output_type": "stream",
     "text": [
      "Iteration : 0 \n",
      " , Train Loss : 202.20218467712402 \n",
      ", Test Acc : 14.48476791381836 \n",
      "\n"
     ]
    },
    {
     "name": "stderr",
     "output_type": "stream",
     "text": []
    },
    {
     "name": "stdout",
     "output_type": "stream",
     "text": [
      "Iteration : 2 \n",
      " , Train Loss : 611.7771682739258 \n",
      ", Test Acc : 21.858919143676758 \n",
      "\n"
     ]
    },
    {
     "name": "stderr",
     "output_type": "stream",
     "text": []
    },
    {
     "name": "stdout",
     "output_type": "stream",
     "text": [
      "Iteration : 4 \n",
      " , Train Loss : 769.4072036743164 \n",
      ", Test Acc : 24.350305557250977 \n",
      "\n"
     ]
    },
    {
     "name": "stderr",
     "output_type": "stream",
     "text": []
    },
    {
     "name": "stdout",
     "output_type": "stream",
     "text": [
      "Iteration : 6 \n",
      " , Train Loss : 648.8190078735352 \n",
      ", Test Acc : 31.81666374206543 \n",
      "\n"
     ]
    },
    {
     "name": "stderr",
     "output_type": "stream",
     "text": []
    },
    {
     "name": "stdout",
     "output_type": "stream",
     "text": [
      "Iteration : 8 \n",
      " , Train Loss : 537.4800109863281 \n",
      ", Test Acc : 38.435245513916016 \n",
      "\n"
     ]
    },
    {
     "name": "stderr",
     "output_type": "stream",
     "text": []
    },
    {
     "name": "stdout",
     "output_type": "stream",
     "text": [
      "Iteration : 10 \n",
      " , Train Loss : 391.8806686401367 \n",
      ", Test Acc : 45.78914260864258 \n",
      "\n"
     ]
    },
    {
     "name": "stderr",
     "output_type": "stream",
     "text": []
    },
    {
     "name": "stdout",
     "output_type": "stream",
     "text": [
      "Iteration : 12 \n",
      " , Train Loss : 188.34643936157227 \n",
      ", Test Acc : 52.067440032958984 \n",
      "\n"
     ]
    },
    {
     "name": "stderr",
     "output_type": "stream",
     "text": []
    },
    {
     "name": "stdout",
     "output_type": "stream",
     "text": [
      "Iteration : 14 \n",
      " , Train Loss : 173.64192581176758 \n",
      ", Test Acc : 51.21955871582031 \n",
      "\n"
     ]
    },
    {
     "name": "stderr",
     "output_type": "stream",
     "text": []
    },
    {
     "name": "stdout",
     "output_type": "stream",
     "text": [
      "Iteration : 16 \n",
      " , Train Loss : 193.04552936553955 \n",
      ", Test Acc : 49.09220886230469 \n",
      "\n"
     ]
    },
    {
     "name": "stderr",
     "output_type": "stream",
     "text": []
    },
    {
     "name": "stdout",
     "output_type": "stream",
     "text": [
      "Iteration : 18 \n",
      " , Train Loss : 197.73617839813232 \n",
      ", Test Acc : 55.67945861816406 \n",
      "\n"
     ]
    },
    {
     "name": "stderr",
     "output_type": "stream",
     "text": [
      "100%|██████████| 20/20 [00:07<00:00,  2.68it/s]\n",
      " 68%|██████▊   | 107/157 [15:18<05:58,  7.16s/it]"
     ]
    },
    {
     "name": "stdout",
     "output_type": "stream",
     "text": [
      "Iteration : 19 \n",
      " , Train Loss : 164.7711000442505 \n",
      ", Test Acc : 60.532501220703125 \n",
      "\n"
     ]
    },
    {
     "name": "stderr",
     "output_type": "stream",
     "text": []
    },
    {
     "name": "stdout",
     "output_type": "stream",
     "text": [
      "Iteration : 0 \n",
      " , Train Loss : 214.8769817352295 \n",
      ", Test Acc : 17.3239688873291 \n",
      "\n"
     ]
    },
    {
     "name": "stderr",
     "output_type": "stream",
     "text": []
    },
    {
     "name": "stdout",
     "output_type": "stream",
     "text": [
      "Iteration : 2 \n",
      " , Train Loss : 905.8482666015625 \n",
      ", Test Acc : 19.611099243164062 \n",
      "\n"
     ]
    },
    {
     "name": "stderr",
     "output_type": "stream",
     "text": []
    },
    {
     "name": "stdout",
     "output_type": "stream",
     "text": [
      "Iteration : 4 \n",
      " , Train Loss : 465.69287109375 \n",
      ", Test Acc : 21.169572830200195 \n",
      "\n"
     ]
    },
    {
     "name": "stderr",
     "output_type": "stream",
     "text": []
    },
    {
     "name": "stdout",
     "output_type": "stream",
     "text": [
      "Iteration : 6 \n",
      " , Train Loss : 351.5704803466797 \n",
      ", Test Acc : 30.983261108398438 \n",
      "\n"
     ]
    },
    {
     "name": "stderr",
     "output_type": "stream",
     "text": []
    },
    {
     "name": "stdout",
     "output_type": "stream",
     "text": [
      "Iteration : 8 \n",
      " , Train Loss : 316.03025817871094 \n",
      ", Test Acc : 43.377811431884766 \n",
      "\n"
     ]
    },
    {
     "name": "stderr",
     "output_type": "stream",
     "text": []
    },
    {
     "name": "stdout",
     "output_type": "stream",
     "text": [
      "Iteration : 10 \n",
      " , Train Loss : 233.7037010192871 \n",
      ", Test Acc : 43.34718704223633 \n",
      "\n"
     ]
    },
    {
     "name": "stderr",
     "output_type": "stream",
     "text": []
    },
    {
     "name": "stdout",
     "output_type": "stream",
     "text": [
      "Iteration : 12 \n",
      " , Train Loss : 222.8795623779297 \n",
      ", Test Acc : 46.981719970703125 \n",
      "\n"
     ]
    },
    {
     "name": "stderr",
     "output_type": "stream",
     "text": []
    },
    {
     "name": "stdout",
     "output_type": "stream",
     "text": [
      "Iteration : 14 \n",
      " , Train Loss : 229.02600860595703 \n",
      ", Test Acc : 48.677433013916016 \n",
      "\n"
     ]
    },
    {
     "name": "stderr",
     "output_type": "stream",
     "text": []
    },
    {
     "name": "stdout",
     "output_type": "stream",
     "text": [
      "Iteration : 16 \n",
      " , Train Loss : 126.56762790679932 \n",
      ", Test Acc : 58.223419189453125 \n",
      "\n"
     ]
    },
    {
     "name": "stderr",
     "output_type": "stream",
     "text": []
    },
    {
     "name": "stdout",
     "output_type": "stream",
     "text": [
      "Iteration : 18 \n",
      " , Train Loss : 135.84210777282715 \n",
      ", Test Acc : 59.187747955322266 \n",
      "\n"
     ]
    },
    {
     "name": "stderr",
     "output_type": "stream",
     "text": [
      "100%|██████████| 20/20 [00:09<00:00,  2.07it/s]\n",
      " 69%|██████▉   | 108/157 [15:28<06:27,  7.91s/it]"
     ]
    },
    {
     "name": "stdout",
     "output_type": "stream",
     "text": [
      "Iteration : 19 \n",
      " , Train Loss : 126.06253814697266 \n",
      ", Test Acc : 56.1661491394043 \n",
      "\n"
     ]
    },
    {
     "name": "stderr",
     "output_type": "stream",
     "text": []
    },
    {
     "name": "stdout",
     "output_type": "stream",
     "text": [
      "Iteration : 0 \n",
      " , Train Loss : 185.37179565429688 \n",
      ", Test Acc : 16.749753952026367 \n",
      "\n"
     ]
    },
    {
     "name": "stderr",
     "output_type": "stream",
     "text": []
    },
    {
     "name": "stdout",
     "output_type": "stream",
     "text": [
      "Iteration : 2 \n",
      " , Train Loss : 816.3078155517578 \n",
      ", Test Acc : 22.236310958862305 \n",
      "\n"
     ]
    },
    {
     "name": "stderr",
     "output_type": "stream",
     "text": []
    },
    {
     "name": "stdout",
     "output_type": "stream",
     "text": [
      "Iteration : 4 \n",
      " , Train Loss : 692.7904510498047 \n",
      ", Test Acc : 29.831710815429688 \n",
      "\n"
     ]
    },
    {
     "name": "stderr",
     "output_type": "stream",
     "text": []
    },
    {
     "name": "stdout",
     "output_type": "stream",
     "text": [
      "Iteration : 6 \n",
      " , Train Loss : 612.2909164428711 \n",
      ", Test Acc : 29.81358528137207 \n",
      "\n"
     ]
    },
    {
     "name": "stderr",
     "output_type": "stream",
     "text": []
    },
    {
     "name": "stdout",
     "output_type": "stream",
     "text": [
      "Iteration : 8 \n",
      " , Train Loss : 426.3251953125 \n",
      ", Test Acc : 39.34140396118164 \n",
      "\n"
     ]
    },
    {
     "name": "stderr",
     "output_type": "stream",
     "text": []
    },
    {
     "name": "stdout",
     "output_type": "stream",
     "text": [
      "Iteration : 10 \n",
      " , Train Loss : 246.78352737426758 \n",
      ", Test Acc : 42.171451568603516 \n",
      "\n"
     ]
    },
    {
     "name": "stderr",
     "output_type": "stream",
     "text": []
    },
    {
     "name": "stdout",
     "output_type": "stream",
     "text": [
      "Iteration : 12 \n",
      " , Train Loss : 197.2549114227295 \n",
      ", Test Acc : 47.39109420776367 \n",
      "\n"
     ]
    },
    {
     "name": "stderr",
     "output_type": "stream",
     "text": []
    },
    {
     "name": "stdout",
     "output_type": "stream",
     "text": [
      "Iteration : 14 \n",
      " , Train Loss : 174.7741298675537 \n",
      ", Test Acc : 44.23855209350586 \n",
      "\n"
     ]
    },
    {
     "name": "stderr",
     "output_type": "stream",
     "text": []
    },
    {
     "name": "stdout",
     "output_type": "stream",
     "text": [
      "Iteration : 16 \n",
      " , Train Loss : 224.3523941040039 \n",
      ", Test Acc : 46.73127365112305 \n",
      "\n"
     ]
    },
    {
     "name": "stderr",
     "output_type": "stream",
     "text": []
    },
    {
     "name": "stdout",
     "output_type": "stream",
     "text": [
      "Iteration : 18 \n",
      " , Train Loss : 162.4400863647461 \n",
      ", Test Acc : 51.691497802734375 \n",
      "\n"
     ]
    },
    {
     "name": "stderr",
     "output_type": "stream",
     "text": [
      "100%|██████████| 20/20 [00:05<00:00,  3.41it/s]\n",
      " 69%|██████▉   | 109/157 [15:33<05:50,  7.31s/it]"
     ]
    },
    {
     "name": "stdout",
     "output_type": "stream",
     "text": [
      "Iteration : 19 \n",
      " , Train Loss : 137.5071258544922 \n",
      ", Test Acc : 54.311222076416016 \n",
      "\n"
     ]
    },
    {
     "name": "stderr",
     "output_type": "stream",
     "text": []
    },
    {
     "name": "stdout",
     "output_type": "stream",
     "text": [
      "Iteration : 0 \n",
      " , Train Loss : 155.66954231262207 \n",
      ", Test Acc : 27.445520401000977 \n",
      "\n"
     ]
    },
    {
     "name": "stderr",
     "output_type": "stream",
     "text": []
    },
    {
     "name": "stdout",
     "output_type": "stream",
     "text": [
      "Iteration : 2 \n",
      " , Train Loss : 833.1858139038086 \n",
      ", Test Acc : 26.83551597595215 \n",
      "\n"
     ]
    },
    {
     "name": "stderr",
     "output_type": "stream",
     "text": []
    },
    {
     "name": "stdout",
     "output_type": "stream",
     "text": [
      "Iteration : 4 \n",
      " , Train Loss : 338.8232002258301 \n",
      ", Test Acc : 41.64496994018555 \n",
      "\n"
     ]
    },
    {
     "name": "stderr",
     "output_type": "stream",
     "text": []
    },
    {
     "name": "stdout",
     "output_type": "stream",
     "text": [
      "Iteration : 6 \n",
      " , Train Loss : 346.26848220825195 \n",
      ", Test Acc : 40.55257797241211 \n",
      "\n"
     ]
    },
    {
     "name": "stderr",
     "output_type": "stream",
     "text": []
    },
    {
     "name": "stdout",
     "output_type": "stream",
     "text": [
      "Iteration : 8 \n",
      " , Train Loss : 207.51321411132812 \n",
      ", Test Acc : 38.790531158447266 \n",
      "\n"
     ]
    },
    {
     "name": "stderr",
     "output_type": "stream",
     "text": []
    },
    {
     "name": "stdout",
     "output_type": "stream",
     "text": [
      "Iteration : 10 \n",
      " , Train Loss : 200.99905109405518 \n",
      ", Test Acc : 51.4908332824707 \n",
      "\n"
     ]
    },
    {
     "name": "stderr",
     "output_type": "stream",
     "text": []
    },
    {
     "name": "stdout",
     "output_type": "stream",
     "text": [
      "Iteration : 12 \n",
      " , Train Loss : 171.08610153198242 \n",
      ", Test Acc : 57.33830642700195 \n",
      "\n"
     ]
    },
    {
     "name": "stderr",
     "output_type": "stream",
     "text": []
    },
    {
     "name": "stdout",
     "output_type": "stream",
     "text": [
      "Iteration : 14 \n",
      " , Train Loss : 116.12086296081543 \n",
      ", Test Acc : 60.77558517456055 \n",
      "\n"
     ]
    },
    {
     "name": "stderr",
     "output_type": "stream",
     "text": []
    },
    {
     "name": "stdout",
     "output_type": "stream",
     "text": [
      "Iteration : 16 \n",
      " , Train Loss : 135.09869956970215 \n",
      ", Test Acc : 63.31454849243164 \n",
      "\n"
     ]
    },
    {
     "name": "stderr",
     "output_type": "stream",
     "text": []
    },
    {
     "name": "stdout",
     "output_type": "stream",
     "text": [
      "Iteration : 18 \n",
      " , Train Loss : 104.80822658538818 \n",
      ", Test Acc : 64.22515106201172 \n",
      "\n"
     ]
    },
    {
     "name": "stderr",
     "output_type": "stream",
     "text": [
      "100%|██████████| 20/20 [00:07<00:00,  2.58it/s]\n",
      " 70%|███████   | 110/157 [15:41<05:50,  7.45s/it]"
     ]
    },
    {
     "name": "stdout",
     "output_type": "stream",
     "text": [
      "Iteration : 19 \n",
      " , Train Loss : 108.41731834411621 \n",
      ", Test Acc : 65.39789581298828 \n",
      "\n"
     ]
    },
    {
     "name": "stderr",
     "output_type": "stream",
     "text": []
    },
    {
     "name": "stdout",
     "output_type": "stream",
     "text": [
      "Iteration : 0 \n",
      " , Train Loss : 194.54491806030273 \n",
      ", Test Acc : 18.96868133544922 \n",
      "\n"
     ]
    },
    {
     "name": "stderr",
     "output_type": "stream",
     "text": []
    },
    {
     "name": "stdout",
     "output_type": "stream",
     "text": [
      "Iteration : 2 \n",
      " , Train Loss : 543.7559356689453 \n",
      ", Test Acc : 26.5439453125 \n",
      "\n"
     ]
    },
    {
     "name": "stderr",
     "output_type": "stream",
     "text": []
    },
    {
     "name": "stdout",
     "output_type": "stream",
     "text": [
      "Iteration : 4 \n",
      " , Train Loss : 633.2144012451172 \n",
      ", Test Acc : 27.814516067504883 \n",
      "\n"
     ]
    },
    {
     "name": "stderr",
     "output_type": "stream",
     "text": []
    },
    {
     "name": "stdout",
     "output_type": "stream",
     "text": [
      "Iteration : 6 \n",
      " , Train Loss : 664.0938034057617 \n",
      ", Test Acc : 32.3974494934082 \n",
      "\n"
     ]
    },
    {
     "name": "stderr",
     "output_type": "stream",
     "text": []
    },
    {
     "name": "stdout",
     "output_type": "stream",
     "text": [
      "Iteration : 8 \n",
      " , Train Loss : 444.620361328125 \n",
      ", Test Acc : 31.365564346313477 \n",
      "\n"
     ]
    },
    {
     "name": "stderr",
     "output_type": "stream",
     "text": []
    },
    {
     "name": "stdout",
     "output_type": "stream",
     "text": [
      "Iteration : 10 \n",
      " , Train Loss : 378.3326225280762 \n",
      ", Test Acc : 40.592018127441406 \n",
      "\n"
     ]
    },
    {
     "name": "stderr",
     "output_type": "stream",
     "text": []
    },
    {
     "name": "stdout",
     "output_type": "stream",
     "text": [
      "Iteration : 12 \n",
      " , Train Loss : 299.5735778808594 \n",
      ", Test Acc : 43.81523513793945 \n",
      "\n"
     ]
    },
    {
     "name": "stderr",
     "output_type": "stream",
     "text": []
    },
    {
     "name": "stdout",
     "output_type": "stream",
     "text": [
      "Iteration : 14 \n",
      " , Train Loss : 265.9339828491211 \n",
      ", Test Acc : 49.03728103637695 \n",
      "\n"
     ]
    },
    {
     "name": "stderr",
     "output_type": "stream",
     "text": []
    },
    {
     "name": "stdout",
     "output_type": "stream",
     "text": [
      "Iteration : 16 \n",
      " , Train Loss : 135.41049098968506 \n",
      ", Test Acc : 51.26547622680664 \n",
      "\n"
     ]
    },
    {
     "name": "stderr",
     "output_type": "stream",
     "text": []
    },
    {
     "name": "stdout",
     "output_type": "stream",
     "text": [
      "Iteration : 18 \n",
      " , Train Loss : 121.8303050994873 \n",
      ", Test Acc : 54.50554275512695 \n",
      "\n"
     ]
    },
    {
     "name": "stderr",
     "output_type": "stream",
     "text": [
      "100%|██████████| 20/20 [00:05<00:00,  3.48it/s]\n",
      " 71%|███████   | 111/157 [15:47<05:19,  6.95s/it]"
     ]
    },
    {
     "name": "stdout",
     "output_type": "stream",
     "text": [
      "Iteration : 19 \n",
      " , Train Loss : 121.68423652648926 \n",
      ", Test Acc : 51.25404739379883 \n",
      "\n"
     ]
    },
    {
     "name": "stderr",
     "output_type": "stream",
     "text": []
    },
    {
     "name": "stdout",
     "output_type": "stream",
     "text": [
      "Iteration : 0 \n",
      " , Train Loss : 204.7714385986328 \n",
      ", Test Acc : 17.532472610473633 \n",
      "\n"
     ]
    },
    {
     "name": "stderr",
     "output_type": "stream",
     "text": []
    },
    {
     "name": "stdout",
     "output_type": "stream",
     "text": [
      "Iteration : 2 \n",
      " , Train Loss : 616.6978302001953 \n",
      ", Test Acc : 31.9046573638916 \n",
      "\n"
     ]
    },
    {
     "name": "stderr",
     "output_type": "stream",
     "text": []
    },
    {
     "name": "stdout",
     "output_type": "stream",
     "text": [
      "Iteration : 4 \n",
      " , Train Loss : 769.9402313232422 \n",
      ", Test Acc : 41.3330192565918 \n",
      "\n"
     ]
    },
    {
     "name": "stderr",
     "output_type": "stream",
     "text": []
    },
    {
     "name": "stdout",
     "output_type": "stream",
     "text": [
      "Iteration : 6 \n",
      " , Train Loss : 824.6785507202148 \n",
      ", Test Acc : 42.99396896362305 \n",
      "\n"
     ]
    },
    {
     "name": "stderr",
     "output_type": "stream",
     "text": []
    },
    {
     "name": "stdout",
     "output_type": "stream",
     "text": [
      "Iteration : 8 \n",
      " , Train Loss : 436.88875579833984 \n",
      ", Test Acc : 54.636775970458984 \n",
      "\n"
     ]
    },
    {
     "name": "stderr",
     "output_type": "stream",
     "text": []
    },
    {
     "name": "stdout",
     "output_type": "stream",
     "text": [
      "Iteration : 10 \n",
      " , Train Loss : 322.56803131103516 \n",
      ", Test Acc : 37.13640594482422 \n",
      "\n"
     ]
    },
    {
     "name": "stderr",
     "output_type": "stream",
     "text": []
    },
    {
     "name": "stdout",
     "output_type": "stream",
     "text": [
      "Iteration : 12 \n",
      " , Train Loss : 258.404052734375 \n",
      ", Test Acc : 42.32493209838867 \n",
      "\n"
     ]
    },
    {
     "name": "stderr",
     "output_type": "stream",
     "text": []
    },
    {
     "name": "stdout",
     "output_type": "stream",
     "text": [
      "Iteration : 14 \n",
      " , Train Loss : 145.59039306640625 \n",
      ", Test Acc : 58.06201171875 \n",
      "\n"
     ]
    },
    {
     "name": "stderr",
     "output_type": "stream",
     "text": []
    },
    {
     "name": "stdout",
     "output_type": "stream",
     "text": [
      "Iteration : 16 \n",
      " , Train Loss : 121.1701192855835 \n",
      ", Test Acc : 52.174129486083984 \n",
      "\n"
     ]
    },
    {
     "name": "stderr",
     "output_type": "stream",
     "text": []
    },
    {
     "name": "stdout",
     "output_type": "stream",
     "text": [
      "Iteration : 18 \n",
      " , Train Loss : 156.38246154785156 \n",
      ", Test Acc : 58.60015869140625 \n",
      "\n"
     ]
    },
    {
     "name": "stderr",
     "output_type": "stream",
     "text": [
      "100%|██████████| 20/20 [00:07<00:00,  2.69it/s]\n",
      " 71%|███████▏  | 112/157 [15:54<05:19,  7.10s/it]"
     ]
    },
    {
     "name": "stdout",
     "output_type": "stream",
     "text": [
      "Iteration : 19 \n",
      " , Train Loss : 113.84090805053711 \n",
      ", Test Acc : 60.25120162963867 \n",
      "\n"
     ]
    },
    {
     "name": "stderr",
     "output_type": "stream",
     "text": []
    },
    {
     "name": "stdout",
     "output_type": "stream",
     "text": [
      "Iteration : 0 \n",
      " , Train Loss : 199.18234825134277 \n",
      ", Test Acc : 19.1440486907959 \n",
      "\n"
     ]
    },
    {
     "name": "stderr",
     "output_type": "stream",
     "text": []
    },
    {
     "name": "stdout",
     "output_type": "stream",
     "text": [
      "Iteration : 2 \n",
      " , Train Loss : 793.4110412597656 \n",
      ", Test Acc : 25.429349899291992 \n",
      "\n"
     ]
    },
    {
     "name": "stderr",
     "output_type": "stream",
     "text": []
    },
    {
     "name": "stdout",
     "output_type": "stream",
     "text": [
      "Iteration : 4 \n",
      " , Train Loss : 690.9715728759766 \n",
      ", Test Acc : 36.01310729980469 \n",
      "\n"
     ]
    },
    {
     "name": "stderr",
     "output_type": "stream",
     "text": []
    },
    {
     "name": "stdout",
     "output_type": "stream",
     "text": [
      "Iteration : 6 \n",
      " , Train Loss : 566.8111190795898 \n",
      ", Test Acc : 38.372615814208984 \n",
      "\n"
     ]
    },
    {
     "name": "stderr",
     "output_type": "stream",
     "text": []
    },
    {
     "name": "stdout",
     "output_type": "stream",
     "text": [
      "Iteration : 8 \n",
      " , Train Loss : 447.6913528442383 \n",
      ", Test Acc : 38.962345123291016 \n",
      "\n"
     ]
    },
    {
     "name": "stderr",
     "output_type": "stream",
     "text": []
    },
    {
     "name": "stdout",
     "output_type": "stream",
     "text": [
      "Iteration : 10 \n",
      " , Train Loss : 339.7206115722656 \n",
      ", Test Acc : 46.656009674072266 \n",
      "\n"
     ]
    },
    {
     "name": "stderr",
     "output_type": "stream",
     "text": []
    },
    {
     "name": "stdout",
     "output_type": "stream",
     "text": [
      "Iteration : 12 \n",
      " , Train Loss : 217.13173007965088 \n",
      ", Test Acc : 51.65543746948242 \n",
      "\n"
     ]
    },
    {
     "name": "stderr",
     "output_type": "stream",
     "text": []
    },
    {
     "name": "stdout",
     "output_type": "stream",
     "text": [
      "Iteration : 14 \n",
      " , Train Loss : 177.67844581604004 \n",
      ", Test Acc : 41.7230339050293 \n",
      "\n"
     ]
    },
    {
     "name": "stderr",
     "output_type": "stream",
     "text": []
    },
    {
     "name": "stdout",
     "output_type": "stream",
     "text": [
      "Iteration : 16 \n",
      " , Train Loss : 158.99193954467773 \n",
      ", Test Acc : 52.3371696472168 \n",
      "\n"
     ]
    },
    {
     "name": "stderr",
     "output_type": "stream",
     "text": []
    },
    {
     "name": "stdout",
     "output_type": "stream",
     "text": [
      "Iteration : 18 \n",
      " , Train Loss : 152.62723350524902 \n",
      ", Test Acc : 54.58146286010742 \n",
      "\n"
     ]
    },
    {
     "name": "stderr",
     "output_type": "stream",
     "text": [
      "100%|██████████| 20/20 [00:08<00:00,  2.27it/s]\n",
      " 72%|███████▏  | 113/157 [16:03<05:35,  7.62s/it]"
     ]
    },
    {
     "name": "stdout",
     "output_type": "stream",
     "text": [
      "Iteration : 19 \n",
      " , Train Loss : 155.89562702178955 \n",
      ", Test Acc : 55.61507034301758 \n",
      "\n"
     ]
    },
    {
     "name": "stderr",
     "output_type": "stream",
     "text": []
    },
    {
     "name": "stdout",
     "output_type": "stream",
     "text": [
      "Iteration : 0 \n",
      " , Train Loss : 175.25468826293945 \n",
      ", Test Acc : 23.165184020996094 \n",
      "\n"
     ]
    },
    {
     "name": "stderr",
     "output_type": "stream",
     "text": []
    },
    {
     "name": "stdout",
     "output_type": "stream",
     "text": [
      "Iteration : 2 \n",
      " , Train Loss : 657.6777801513672 \n",
      ", Test Acc : 33.485069274902344 \n",
      "\n"
     ]
    },
    {
     "name": "stderr",
     "output_type": "stream",
     "text": []
    },
    {
     "name": "stdout",
     "output_type": "stream",
     "text": [
      "Iteration : 4 \n",
      " , Train Loss : 851.150749206543 \n",
      ", Test Acc : 33.63212203979492 \n",
      "\n"
     ]
    },
    {
     "name": "stderr",
     "output_type": "stream",
     "text": []
    },
    {
     "name": "stdout",
     "output_type": "stream",
     "text": [
      "Iteration : 6 \n",
      " , Train Loss : 357.42967987060547 \n",
      ", Test Acc : 29.6031436920166 \n",
      "\n"
     ]
    },
    {
     "name": "stderr",
     "output_type": "stream",
     "text": []
    },
    {
     "name": "stdout",
     "output_type": "stream",
     "text": [
      "Iteration : 8 \n",
      " , Train Loss : 345.82583236694336 \n",
      ", Test Acc : 38.57613754272461 \n",
      "\n"
     ]
    },
    {
     "name": "stderr",
     "output_type": "stream",
     "text": []
    },
    {
     "name": "stdout",
     "output_type": "stream",
     "text": [
      "Iteration : 10 \n",
      " , Train Loss : 190.85437774658203 \n",
      ", Test Acc : 40.59566116333008 \n",
      "\n"
     ]
    },
    {
     "name": "stderr",
     "output_type": "stream",
     "text": []
    },
    {
     "name": "stdout",
     "output_type": "stream",
     "text": [
      "Iteration : 12 \n",
      " , Train Loss : 242.07069969177246 \n",
      ", Test Acc : 48.218814849853516 \n",
      "\n"
     ]
    },
    {
     "name": "stderr",
     "output_type": "stream",
     "text": []
    },
    {
     "name": "stdout",
     "output_type": "stream",
     "text": [
      "Iteration : 14 \n",
      " , Train Loss : 186.34945106506348 \n",
      ", Test Acc : 53.16163635253906 \n",
      "\n"
     ]
    },
    {
     "name": "stderr",
     "output_type": "stream",
     "text": []
    },
    {
     "name": "stdout",
     "output_type": "stream",
     "text": [
      "Iteration : 16 \n",
      " , Train Loss : 160.35790252685547 \n",
      ", Test Acc : 57.322574615478516 \n",
      "\n"
     ]
    },
    {
     "name": "stderr",
     "output_type": "stream",
     "text": []
    },
    {
     "name": "stdout",
     "output_type": "stream",
     "text": [
      "Iteration : 18 \n",
      " , Train Loss : 110.86460399627686 \n",
      ", Test Acc : 53.90658950805664 \n",
      "\n"
     ]
    },
    {
     "name": "stderr",
     "output_type": "stream",
     "text": [
      "100%|██████████| 20/20 [00:05<00:00,  3.77it/s]\n",
      " 73%|███████▎  | 114/157 [16:09<04:58,  6.94s/it]"
     ]
    },
    {
     "name": "stdout",
     "output_type": "stream",
     "text": [
      "Iteration : 19 \n",
      " , Train Loss : 131.90164852142334 \n",
      ", Test Acc : 52.791072845458984 \n",
      "\n"
     ]
    },
    {
     "name": "stderr",
     "output_type": "stream",
     "text": []
    },
    {
     "name": "stdout",
     "output_type": "stream",
     "text": [
      "Iteration : 0 \n",
      " , Train Loss : 227.8848876953125 \n",
      ", Test Acc : 17.44332504272461 \n",
      "\n"
     ]
    },
    {
     "name": "stderr",
     "output_type": "stream",
     "text": []
    },
    {
     "name": "stdout",
     "output_type": "stream",
     "text": [
      "Iteration : 2 \n",
      " , Train Loss : 628.5445098876953 \n",
      ", Test Acc : 25.573457717895508 \n",
      "\n"
     ]
    },
    {
     "name": "stderr",
     "output_type": "stream",
     "text": []
    },
    {
     "name": "stdout",
     "output_type": "stream",
     "text": [
      "Iteration : 4 \n",
      " , Train Loss : 727.6980438232422 \n",
      ", Test Acc : 30.67195701599121 \n",
      "\n"
     ]
    },
    {
     "name": "stderr",
     "output_type": "stream",
     "text": []
    },
    {
     "name": "stdout",
     "output_type": "stream",
     "text": [
      "Iteration : 6 \n",
      " , Train Loss : 688.5017547607422 \n",
      ", Test Acc : 22.09217643737793 \n",
      "\n"
     ]
    },
    {
     "name": "stderr",
     "output_type": "stream",
     "text": []
    },
    {
     "name": "stdout",
     "output_type": "stream",
     "text": [
      "Iteration : 8 \n",
      " , Train Loss : 678.140022277832 \n",
      ", Test Acc : 31.597509384155273 \n",
      "\n"
     ]
    },
    {
     "name": "stderr",
     "output_type": "stream",
     "text": []
    },
    {
     "name": "stdout",
     "output_type": "stream",
     "text": [
      "Iteration : 10 \n",
      " , Train Loss : 493.78718185424805 \n",
      ", Test Acc : 42.092529296875 \n",
      "\n"
     ]
    },
    {
     "name": "stderr",
     "output_type": "stream",
     "text": []
    },
    {
     "name": "stdout",
     "output_type": "stream",
     "text": [
      "Iteration : 12 \n",
      " , Train Loss : 367.2244338989258 \n",
      ", Test Acc : 48.96574783325195 \n",
      "\n"
     ]
    },
    {
     "name": "stderr",
     "output_type": "stream",
     "text": []
    },
    {
     "name": "stdout",
     "output_type": "stream",
     "text": [
      "Iteration : 14 \n",
      " , Train Loss : 296.6251029968262 \n",
      ", Test Acc : 43.71757888793945 \n",
      "\n"
     ]
    },
    {
     "name": "stderr",
     "output_type": "stream",
     "text": []
    },
    {
     "name": "stdout",
     "output_type": "stream",
     "text": [
      "Iteration : 16 \n",
      " , Train Loss : 259.0108242034912 \n",
      ", Test Acc : 50.47226333618164 \n",
      "\n"
     ]
    },
    {
     "name": "stderr",
     "output_type": "stream",
     "text": []
    },
    {
     "name": "stdout",
     "output_type": "stream",
     "text": [
      "Iteration : 18 \n",
      " , Train Loss : 168.22382164001465 \n",
      ", Test Acc : 52.14716720581055 \n",
      "\n"
     ]
    },
    {
     "name": "stderr",
     "output_type": "stream",
     "text": [
      "100%|██████████| 20/20 [00:05<00:00,  3.76it/s]\n",
      " 73%|███████▎  | 115/157 [16:14<04:31,  6.46s/it]"
     ]
    },
    {
     "name": "stdout",
     "output_type": "stream",
     "text": [
      "Iteration : 19 \n",
      " , Train Loss : 148.9478931427002 \n",
      ", Test Acc : 52.419246673583984 \n",
      "\n"
     ]
    },
    {
     "name": "stderr",
     "output_type": "stream",
     "text": []
    },
    {
     "name": "stdout",
     "output_type": "stream",
     "text": [
      "Iteration : 0 \n",
      " , Train Loss : 186.89881134033203 \n",
      ", Test Acc : 16.823034286499023 \n",
      "\n"
     ]
    },
    {
     "name": "stderr",
     "output_type": "stream",
     "text": []
    },
    {
     "name": "stdout",
     "output_type": "stream",
     "text": [
      "Iteration : 2 \n",
      " , Train Loss : 463.56463623046875 \n",
      ", Test Acc : 21.477354049682617 \n",
      "\n"
     ]
    },
    {
     "name": "stderr",
     "output_type": "stream",
     "text": []
    },
    {
     "name": "stdout",
     "output_type": "stream",
     "text": [
      "Iteration : 4 \n",
      " , Train Loss : 736.7909164428711 \n",
      ", Test Acc : 23.7480411529541 \n",
      "\n"
     ]
    },
    {
     "name": "stderr",
     "output_type": "stream",
     "text": []
    },
    {
     "name": "stdout",
     "output_type": "stream",
     "text": [
      "Iteration : 6 \n",
      " , Train Loss : 723.1455078125 \n",
      ", Test Acc : 23.52530860900879 \n",
      "\n"
     ]
    },
    {
     "name": "stderr",
     "output_type": "stream",
     "text": []
    },
    {
     "name": "stdout",
     "output_type": "stream",
     "text": [
      "Iteration : 8 \n",
      " , Train Loss : 405.92931747436523 \n",
      ", Test Acc : 35.908782958984375 \n",
      "\n"
     ]
    },
    {
     "name": "stderr",
     "output_type": "stream",
     "text": []
    },
    {
     "name": "stdout",
     "output_type": "stream",
     "text": [
      "Iteration : 10 \n",
      " , Train Loss : 424.99219512939453 \n",
      ", Test Acc : 33.5455207824707 \n",
      "\n"
     ]
    },
    {
     "name": "stderr",
     "output_type": "stream",
     "text": []
    },
    {
     "name": "stdout",
     "output_type": "stream",
     "text": [
      "Iteration : 12 \n",
      " , Train Loss : 343.5307083129883 \n",
      ", Test Acc : 40.39188766479492 \n",
      "\n"
     ]
    },
    {
     "name": "stderr",
     "output_type": "stream",
     "text": []
    },
    {
     "name": "stdout",
     "output_type": "stream",
     "text": [
      "Iteration : 14 \n",
      " , Train Loss : 257.42613887786865 \n",
      ", Test Acc : 53.14918518066406 \n",
      "\n"
     ]
    },
    {
     "name": "stderr",
     "output_type": "stream",
     "text": []
    },
    {
     "name": "stdout",
     "output_type": "stream",
     "text": [
      "Iteration : 16 \n",
      " , Train Loss : 170.36488485336304 \n",
      ", Test Acc : 49.5528564453125 \n",
      "\n"
     ]
    },
    {
     "name": "stderr",
     "output_type": "stream",
     "text": []
    },
    {
     "name": "stdout",
     "output_type": "stream",
     "text": [
      "Iteration : 18 \n",
      " , Train Loss : 189.29052543640137 \n",
      ", Test Acc : 52.5116081237793 \n",
      "\n"
     ]
    },
    {
     "name": "stderr",
     "output_type": "stream",
     "text": [
      "100%|██████████| 20/20 [00:05<00:00,  3.54it/s]\n",
      " 74%|███████▍  | 116/157 [16:20<04:15,  6.23s/it]"
     ]
    },
    {
     "name": "stdout",
     "output_type": "stream",
     "text": [
      "Iteration : 19 \n",
      " , Train Loss : 176.78435707092285 \n",
      ", Test Acc : 55.99248123168945 \n",
      "\n"
     ]
    },
    {
     "name": "stderr",
     "output_type": "stream",
     "text": []
    },
    {
     "name": "stdout",
     "output_type": "stream",
     "text": [
      "Iteration : 0 \n",
      " , Train Loss : 198.31985664367676 \n",
      ", Test Acc : 29.311874389648438 \n",
      "\n"
     ]
    },
    {
     "name": "stderr",
     "output_type": "stream",
     "text": []
    },
    {
     "name": "stdout",
     "output_type": "stream",
     "text": [
      "Iteration : 2 \n",
      " , Train Loss : 632.4386520385742 \n",
      ", Test Acc : 32.36370086669922 \n",
      "\n"
     ]
    },
    {
     "name": "stderr",
     "output_type": "stream",
     "text": []
    },
    {
     "name": "stdout",
     "output_type": "stream",
     "text": [
      "Iteration : 4 \n",
      " , Train Loss : 515.9547653198242 \n",
      ", Test Acc : 37.1272087097168 \n",
      "\n"
     ]
    },
    {
     "name": "stderr",
     "output_type": "stream",
     "text": []
    },
    {
     "name": "stdout",
     "output_type": "stream",
     "text": [
      "Iteration : 6 \n",
      " , Train Loss : 593.1012573242188 \n",
      ", Test Acc : 51.131622314453125 \n",
      "\n"
     ]
    },
    {
     "name": "stderr",
     "output_type": "stream",
     "text": []
    },
    {
     "name": "stdout",
     "output_type": "stream",
     "text": [
      "Iteration : 8 \n",
      " , Train Loss : 358.88159561157227 \n",
      ", Test Acc : 54.0722541809082 \n",
      "\n"
     ]
    },
    {
     "name": "stderr",
     "output_type": "stream",
     "text": []
    },
    {
     "name": "stdout",
     "output_type": "stream",
     "text": [
      "Iteration : 10 \n",
      " , Train Loss : 305.3656005859375 \n",
      ", Test Acc : 45.51611328125 \n",
      "\n"
     ]
    },
    {
     "name": "stderr",
     "output_type": "stream",
     "text": []
    },
    {
     "name": "stdout",
     "output_type": "stream",
     "text": [
      "Iteration : 12 \n",
      " , Train Loss : 286.6709613800049 \n",
      ", Test Acc : 56.633174896240234 \n",
      "\n"
     ]
    },
    {
     "name": "stderr",
     "output_type": "stream",
     "text": []
    },
    {
     "name": "stdout",
     "output_type": "stream",
     "text": [
      "Iteration : 14 \n",
      " , Train Loss : 144.64391136169434 \n",
      ", Test Acc : 64.63196563720703 \n",
      "\n"
     ]
    },
    {
     "name": "stderr",
     "output_type": "stream",
     "text": []
    },
    {
     "name": "stdout",
     "output_type": "stream",
     "text": [
      "Iteration : 16 \n",
      " , Train Loss : 115.97285556793213 \n",
      ", Test Acc : 64.12169647216797 \n",
      "\n"
     ]
    },
    {
     "name": "stderr",
     "output_type": "stream",
     "text": []
    },
    {
     "name": "stdout",
     "output_type": "stream",
     "text": [
      "Iteration : 18 \n",
      " , Train Loss : 142.4423542022705 \n",
      ", Test Acc : 56.71406555175781 \n",
      "\n"
     ]
    },
    {
     "name": "stderr",
     "output_type": "stream",
     "text": [
      "100%|██████████| 20/20 [00:07<00:00,  2.59it/s]\n",
      " 75%|███████▍  | 117/157 [16:27<04:27,  6.68s/it]"
     ]
    },
    {
     "name": "stdout",
     "output_type": "stream",
     "text": [
      "Iteration : 19 \n",
      " , Train Loss : 159.9998483657837 \n",
      ", Test Acc : 60.95748519897461 \n",
      "\n"
     ]
    },
    {
     "name": "stderr",
     "output_type": "stream",
     "text": []
    },
    {
     "name": "stdout",
     "output_type": "stream",
     "text": [
      "Iteration : 0 \n",
      " , Train Loss : 164.73346710205078 \n",
      ", Test Acc : 21.811792373657227 \n",
      "\n"
     ]
    },
    {
     "name": "stderr",
     "output_type": "stream",
     "text": []
    },
    {
     "name": "stdout",
     "output_type": "stream",
     "text": [
      "Iteration : 2 \n",
      " , Train Loss : 594.4805908203125 \n",
      ", Test Acc : 23.901214599609375 \n",
      "\n"
     ]
    },
    {
     "name": "stderr",
     "output_type": "stream",
     "text": []
    },
    {
     "name": "stdout",
     "output_type": "stream",
     "text": [
      "Iteration : 4 \n",
      " , Train Loss : 478.47503662109375 \n",
      ", Test Acc : 29.787694931030273 \n",
      "\n"
     ]
    },
    {
     "name": "stderr",
     "output_type": "stream",
     "text": []
    },
    {
     "name": "stdout",
     "output_type": "stream",
     "text": [
      "Iteration : 6 \n",
      " , Train Loss : 381.82703399658203 \n",
      ", Test Acc : 27.064620971679688 \n",
      "\n"
     ]
    },
    {
     "name": "stderr",
     "output_type": "stream",
     "text": []
    },
    {
     "name": "stdout",
     "output_type": "stream",
     "text": [
      "Iteration : 8 \n",
      " , Train Loss : 271.9059524536133 \n",
      ", Test Acc : 47.538822174072266 \n",
      "\n"
     ]
    },
    {
     "name": "stderr",
     "output_type": "stream",
     "text": []
    },
    {
     "name": "stdout",
     "output_type": "stream",
     "text": [
      "Iteration : 10 \n",
      " , Train Loss : 202.43421363830566 \n",
      ", Test Acc : 48.194637298583984 \n",
      "\n"
     ]
    },
    {
     "name": "stderr",
     "output_type": "stream",
     "text": []
    },
    {
     "name": "stdout",
     "output_type": "stream",
     "text": [
      "Iteration : 12 \n",
      " , Train Loss : 216.41259002685547 \n",
      ", Test Acc : 51.20417785644531 \n",
      "\n"
     ]
    },
    {
     "name": "stderr",
     "output_type": "stream",
     "text": []
    },
    {
     "name": "stdout",
     "output_type": "stream",
     "text": [
      "Iteration : 14 \n",
      " , Train Loss : 224.77503967285156 \n",
      ", Test Acc : 52.092098236083984 \n",
      "\n"
     ]
    },
    {
     "name": "stderr",
     "output_type": "stream",
     "text": []
    },
    {
     "name": "stdout",
     "output_type": "stream",
     "text": [
      "Iteration : 16 \n",
      " , Train Loss : 145.38649940490723 \n",
      ", Test Acc : 60.39137649536133 \n",
      "\n"
     ]
    },
    {
     "name": "stderr",
     "output_type": "stream",
     "text": []
    },
    {
     "name": "stdout",
     "output_type": "stream",
     "text": [
      "Iteration : 18 \n",
      " , Train Loss : 130.49522733688354 \n",
      ", Test Acc : 58.9698600769043 \n",
      "\n"
     ]
    },
    {
     "name": "stderr",
     "output_type": "stream",
     "text": [
      "100%|██████████| 20/20 [00:07<00:00,  2.61it/s]\n",
      " 75%|███████▌  | 118/157 [16:35<04:32,  6.98s/it]"
     ]
    },
    {
     "name": "stdout",
     "output_type": "stream",
     "text": [
      "Iteration : 19 \n",
      " , Train Loss : 136.43274974822998 \n",
      ", Test Acc : 58.58212661743164 \n",
      "\n"
     ]
    },
    {
     "name": "stderr",
     "output_type": "stream",
     "text": []
    },
    {
     "name": "stdout",
     "output_type": "stream",
     "text": [
      "Iteration : 0 \n",
      " , Train Loss : 220.60905838012695 \n",
      ", Test Acc : 20.437685012817383 \n",
      "\n"
     ]
    },
    {
     "name": "stderr",
     "output_type": "stream",
     "text": []
    },
    {
     "name": "stdout",
     "output_type": "stream",
     "text": [
      "Iteration : 2 \n",
      " , Train Loss : 535.1227073669434 \n",
      ", Test Acc : 22.246442794799805 \n",
      "\n"
     ]
    },
    {
     "name": "stderr",
     "output_type": "stream",
     "text": []
    },
    {
     "name": "stdout",
     "output_type": "stream",
     "text": [
      "Iteration : 4 \n",
      " , Train Loss : 646.2328643798828 \n",
      ", Test Acc : 40.4111442565918 \n",
      "\n"
     ]
    },
    {
     "name": "stderr",
     "output_type": "stream",
     "text": []
    },
    {
     "name": "stdout",
     "output_type": "stream",
     "text": [
      "Iteration : 6 \n",
      " , Train Loss : 600.0490112304688 \n",
      ", Test Acc : 29.99350929260254 \n",
      "\n"
     ]
    },
    {
     "name": "stderr",
     "output_type": "stream",
     "text": []
    },
    {
     "name": "stdout",
     "output_type": "stream",
     "text": [
      "Iteration : 8 \n",
      " , Train Loss : 517.5947570800781 \n",
      ", Test Acc : 44.660980224609375 \n",
      "\n"
     ]
    },
    {
     "name": "stderr",
     "output_type": "stream",
     "text": []
    },
    {
     "name": "stdout",
     "output_type": "stream",
     "text": [
      "Iteration : 10 \n",
      " , Train Loss : 332.3210792541504 \n",
      ", Test Acc : 55.6094970703125 \n",
      "\n"
     ]
    },
    {
     "name": "stderr",
     "output_type": "stream",
     "text": []
    },
    {
     "name": "stdout",
     "output_type": "stream",
     "text": [
      "Iteration : 12 \n",
      " , Train Loss : 240.5534725189209 \n",
      ", Test Acc : 49.843902587890625 \n",
      "\n"
     ]
    },
    {
     "name": "stderr",
     "output_type": "stream",
     "text": []
    },
    {
     "name": "stdout",
     "output_type": "stream",
     "text": [
      "Iteration : 14 \n",
      " , Train Loss : 183.23661613464355 \n",
      ", Test Acc : 53.02277755737305 \n",
      "\n"
     ]
    },
    {
     "name": "stderr",
     "output_type": "stream",
     "text": []
    },
    {
     "name": "stdout",
     "output_type": "stream",
     "text": [
      "Iteration : 16 \n",
      " , Train Loss : 110.40216255187988 \n",
      ", Test Acc : 59.130802154541016 \n",
      "\n"
     ]
    },
    {
     "name": "stderr",
     "output_type": "stream",
     "text": []
    },
    {
     "name": "stdout",
     "output_type": "stream",
     "text": [
      "Iteration : 18 \n",
      " , Train Loss : 141.5220069885254 \n",
      ", Test Acc : 56.63407516479492 \n",
      "\n"
     ]
    },
    {
     "name": "stderr",
     "output_type": "stream",
     "text": [
      "100%|██████████| 20/20 [00:09<00:00,  2.12it/s]\n",
      " 76%|███████▌  | 119/157 [16:45<04:53,  7.72s/it]"
     ]
    },
    {
     "name": "stdout",
     "output_type": "stream",
     "text": [
      "Iteration : 19 \n",
      " , Train Loss : 155.1297092437744 \n",
      ", Test Acc : 55.3228645324707 \n",
      "\n"
     ]
    },
    {
     "name": "stderr",
     "output_type": "stream",
     "text": []
    },
    {
     "name": "stdout",
     "output_type": "stream",
     "text": [
      "Iteration : 0 \n",
      " , Train Loss : 181.31640815734863 \n",
      ", Test Acc : 22.25648307800293 \n",
      "\n"
     ]
    },
    {
     "name": "stderr",
     "output_type": "stream",
     "text": []
    },
    {
     "name": "stdout",
     "output_type": "stream",
     "text": [
      "Iteration : 2 \n",
      " , Train Loss : 753.7192001342773 \n",
      ", Test Acc : 23.28745460510254 \n",
      "\n"
     ]
    },
    {
     "name": "stderr",
     "output_type": "stream",
     "text": []
    },
    {
     "name": "stdout",
     "output_type": "stream",
     "text": [
      "Iteration : 4 \n",
      " , Train Loss : 843.7965087890625 \n",
      ", Test Acc : 31.301054000854492 \n",
      "\n"
     ]
    },
    {
     "name": "stderr",
     "output_type": "stream",
     "text": []
    },
    {
     "name": "stdout",
     "output_type": "stream",
     "text": [
      "Iteration : 6 \n",
      " , Train Loss : 723.4992446899414 \n",
      ", Test Acc : 33.71077346801758 \n",
      "\n"
     ]
    },
    {
     "name": "stderr",
     "output_type": "stream",
     "text": []
    },
    {
     "name": "stdout",
     "output_type": "stream",
     "text": [
      "Iteration : 8 \n",
      " , Train Loss : 574.8199501037598 \n",
      ", Test Acc : 34.12388229370117 \n",
      "\n"
     ]
    },
    {
     "name": "stderr",
     "output_type": "stream",
     "text": []
    },
    {
     "name": "stdout",
     "output_type": "stream",
     "text": [
      "Iteration : 10 \n",
      " , Train Loss : 332.87350273132324 \n",
      ", Test Acc : 50.202911376953125 \n",
      "\n"
     ]
    },
    {
     "name": "stderr",
     "output_type": "stream",
     "text": []
    },
    {
     "name": "stdout",
     "output_type": "stream",
     "text": [
      "Iteration : 12 \n",
      " , Train Loss : 238.58589363098145 \n",
      ", Test Acc : 49.481510162353516 \n",
      "\n"
     ]
    },
    {
     "name": "stderr",
     "output_type": "stream",
     "text": []
    },
    {
     "name": "stdout",
     "output_type": "stream",
     "text": [
      "Iteration : 14 \n",
      " , Train Loss : 269.65992546081543 \n",
      ", Test Acc : 44.01875686645508 \n",
      "\n"
     ]
    },
    {
     "name": "stderr",
     "output_type": "stream",
     "text": []
    },
    {
     "name": "stdout",
     "output_type": "stream",
     "text": [
      "Iteration : 16 \n",
      " , Train Loss : 246.52224731445312 \n",
      ", Test Acc : 52.15156173706055 \n",
      "\n"
     ]
    },
    {
     "name": "stderr",
     "output_type": "stream",
     "text": []
    },
    {
     "name": "stdout",
     "output_type": "stream",
     "text": [
      "Iteration : 18 \n",
      " , Train Loss : 145.5406665802002 \n",
      ", Test Acc : 60.52113342285156 \n",
      "\n"
     ]
    },
    {
     "name": "stderr",
     "output_type": "stream",
     "text": [
      "100%|██████████| 20/20 [00:07<00:00,  2.76it/s]\n",
      " 76%|███████▋  | 120/157 [16:52<04:40,  7.59s/it]"
     ]
    },
    {
     "name": "stdout",
     "output_type": "stream",
     "text": [
      "Iteration : 19 \n",
      " , Train Loss : 140.54496479034424 \n",
      ", Test Acc : 60.13005065917969 \n",
      "\n"
     ]
    },
    {
     "name": "stderr",
     "output_type": "stream",
     "text": []
    },
    {
     "name": "stdout",
     "output_type": "stream",
     "text": [
      "Iteration : 0 \n",
      " , Train Loss : 154.8656940460205 \n",
      ", Test Acc : 17.82991600036621 \n",
      "\n"
     ]
    },
    {
     "name": "stderr",
     "output_type": "stream",
     "text": []
    },
    {
     "name": "stdout",
     "output_type": "stream",
     "text": [
      "Iteration : 2 \n",
      " , Train Loss : 708.0304565429688 \n",
      ", Test Acc : 31.426666259765625 \n",
      "\n"
     ]
    },
    {
     "name": "stderr",
     "output_type": "stream",
     "text": []
    },
    {
     "name": "stdout",
     "output_type": "stream",
     "text": [
      "Iteration : 4 \n",
      " , Train Loss : 719.5576705932617 \n",
      ", Test Acc : 39.031494140625 \n",
      "\n"
     ]
    },
    {
     "name": "stderr",
     "output_type": "stream",
     "text": []
    },
    {
     "name": "stdout",
     "output_type": "stream",
     "text": [
      "Iteration : 6 \n",
      " , Train Loss : 477.68250274658203 \n",
      ", Test Acc : 39.24564743041992 \n",
      "\n"
     ]
    },
    {
     "name": "stderr",
     "output_type": "stream",
     "text": []
    },
    {
     "name": "stdout",
     "output_type": "stream",
     "text": [
      "Iteration : 8 \n",
      " , Train Loss : 228.6808204650879 \n",
      ", Test Acc : 48.00114059448242 \n",
      "\n"
     ]
    },
    {
     "name": "stderr",
     "output_type": "stream",
     "text": []
    },
    {
     "name": "stdout",
     "output_type": "stream",
     "text": [
      "Iteration : 10 \n",
      " , Train Loss : 200.15731048583984 \n",
      ", Test Acc : 45.27811050415039 \n",
      "\n"
     ]
    },
    {
     "name": "stderr",
     "output_type": "stream",
     "text": []
    },
    {
     "name": "stdout",
     "output_type": "stream",
     "text": [
      "Iteration : 12 \n",
      " , Train Loss : 252.1449489593506 \n",
      ", Test Acc : 45.14546585083008 \n",
      "\n"
     ]
    },
    {
     "name": "stderr",
     "output_type": "stream",
     "text": []
    },
    {
     "name": "stdout",
     "output_type": "stream",
     "text": [
      "Iteration : 14 \n",
      " , Train Loss : 179.7747049331665 \n",
      ", Test Acc : 59.28354263305664 \n",
      "\n"
     ]
    },
    {
     "name": "stderr",
     "output_type": "stream",
     "text": []
    },
    {
     "name": "stdout",
     "output_type": "stream",
     "text": [
      "Iteration : 16 \n",
      " , Train Loss : 146.11968231201172 \n",
      ", Test Acc : 60.825069427490234 \n",
      "\n"
     ]
    },
    {
     "name": "stderr",
     "output_type": "stream",
     "text": []
    },
    {
     "name": "stdout",
     "output_type": "stream",
     "text": [
      "Iteration : 18 \n",
      " , Train Loss : 125.77230024337769 \n",
      ", Test Acc : 64.48371124267578 \n",
      "\n"
     ]
    },
    {
     "name": "stderr",
     "output_type": "stream",
     "text": [
      "100%|██████████| 20/20 [00:09<00:00,  2.18it/s]\n",
      " 77%|███████▋  | 121/157 [17:01<04:50,  8.07s/it]"
     ]
    },
    {
     "name": "stdout",
     "output_type": "stream",
     "text": [
      "Iteration : 19 \n",
      " , Train Loss : 103.64313173294067 \n",
      ", Test Acc : 63.43061828613281 \n",
      "\n"
     ]
    },
    {
     "name": "stderr",
     "output_type": "stream",
     "text": []
    },
    {
     "name": "stdout",
     "output_type": "stream",
     "text": [
      "Iteration : 0 \n",
      " , Train Loss : 168.66241073608398 \n",
      ", Test Acc : 30.2519588470459 \n",
      "\n"
     ]
    },
    {
     "name": "stderr",
     "output_type": "stream",
     "text": []
    },
    {
     "name": "stdout",
     "output_type": "stream",
     "text": [
      "Iteration : 2 \n",
      " , Train Loss : 588.892707824707 \n",
      ", Test Acc : 34.67329025268555 \n",
      "\n"
     ]
    },
    {
     "name": "stderr",
     "output_type": "stream",
     "text": []
    },
    {
     "name": "stdout",
     "output_type": "stream",
     "text": [
      "Iteration : 4 \n",
      " , Train Loss : 444.39146423339844 \n",
      ", Test Acc : 36.18082809448242 \n",
      "\n"
     ]
    },
    {
     "name": "stderr",
     "output_type": "stream",
     "text": []
    },
    {
     "name": "stdout",
     "output_type": "stream",
     "text": [
      "Iteration : 6 \n",
      " , Train Loss : 348.97689056396484 \n",
      ", Test Acc : 45.416015625 \n",
      "\n"
     ]
    },
    {
     "name": "stderr",
     "output_type": "stream",
     "text": []
    },
    {
     "name": "stdout",
     "output_type": "stream",
     "text": [
      "Iteration : 8 \n",
      " , Train Loss : 267.7755355834961 \n",
      ", Test Acc : 54.577877044677734 \n",
      "\n"
     ]
    },
    {
     "name": "stderr",
     "output_type": "stream",
     "text": []
    },
    {
     "name": "stdout",
     "output_type": "stream",
     "text": [
      "Iteration : 10 \n",
      " , Train Loss : 150.4309959411621 \n",
      ", Test Acc : 62.70676040649414 \n",
      "\n"
     ]
    },
    {
     "name": "stderr",
     "output_type": "stream",
     "text": []
    },
    {
     "name": "stdout",
     "output_type": "stream",
     "text": [
      "Iteration : 12 \n",
      " , Train Loss : 187.4080696105957 \n",
      ", Test Acc : 57.07583236694336 \n",
      "\n"
     ]
    },
    {
     "name": "stderr",
     "output_type": "stream",
     "text": []
    },
    {
     "name": "stdout",
     "output_type": "stream",
     "text": [
      "Iteration : 14 \n",
      " , Train Loss : 202.97664642333984 \n",
      ", Test Acc : 58.66217041015625 \n",
      "\n"
     ]
    },
    {
     "name": "stderr",
     "output_type": "stream",
     "text": []
    },
    {
     "name": "stdout",
     "output_type": "stream",
     "text": [
      "Iteration : 16 \n",
      " , Train Loss : 163.0974736213684 \n",
      ", Test Acc : 66.29132080078125 \n",
      "\n"
     ]
    },
    {
     "name": "stderr",
     "output_type": "stream",
     "text": []
    },
    {
     "name": "stdout",
     "output_type": "stream",
     "text": [
      "Iteration : 18 \n",
      " , Train Loss : 114.72576189041138 \n",
      ", Test Acc : 67.54174041748047 \n",
      "\n"
     ]
    },
    {
     "name": "stderr",
     "output_type": "stream",
     "text": [
      "100%|██████████| 20/20 [00:07<00:00,  2.66it/s]\n",
      " 78%|███████▊  | 122/157 [17:09<04:37,  7.92s/it]"
     ]
    },
    {
     "name": "stdout",
     "output_type": "stream",
     "text": [
      "Iteration : 19 \n",
      " , Train Loss : 128.8260154724121 \n",
      ", Test Acc : 67.43868255615234 \n",
      "\n"
     ]
    },
    {
     "name": "stderr",
     "output_type": "stream",
     "text": []
    },
    {
     "name": "stdout",
     "output_type": "stream",
     "text": [
      "Iteration : 0 \n",
      " , Train Loss : 161.4968719482422 \n",
      ", Test Acc : 23.736120223999023 \n",
      "\n"
     ]
    },
    {
     "name": "stderr",
     "output_type": "stream",
     "text": []
    },
    {
     "name": "stdout",
     "output_type": "stream",
     "text": [
      "Iteration : 2 \n",
      " , Train Loss : 736.0232467651367 \n",
      ", Test Acc : 27.39786720275879 \n",
      "\n"
     ]
    },
    {
     "name": "stderr",
     "output_type": "stream",
     "text": []
    },
    {
     "name": "stdout",
     "output_type": "stream",
     "text": [
      "Iteration : 4 \n",
      " , Train Loss : 654.4186782836914 \n",
      ", Test Acc : 37.45698547363281 \n",
      "\n"
     ]
    },
    {
     "name": "stderr",
     "output_type": "stream",
     "text": []
    },
    {
     "name": "stdout",
     "output_type": "stream",
     "text": [
      "Iteration : 6 \n",
      " , Train Loss : 511.43707275390625 \n",
      ", Test Acc : 41.77882766723633 \n",
      "\n"
     ]
    },
    {
     "name": "stderr",
     "output_type": "stream",
     "text": []
    },
    {
     "name": "stdout",
     "output_type": "stream",
     "text": [
      "Iteration : 8 \n",
      " , Train Loss : 297.01347732543945 \n",
      ", Test Acc : 45.31412124633789 \n",
      "\n"
     ]
    },
    {
     "name": "stderr",
     "output_type": "stream",
     "text": []
    },
    {
     "name": "stdout",
     "output_type": "stream",
     "text": [
      "Iteration : 10 \n",
      " , Train Loss : 153.53619575500488 \n",
      ", Test Acc : 55.5408821105957 \n",
      "\n"
     ]
    },
    {
     "name": "stderr",
     "output_type": "stream",
     "text": []
    },
    {
     "name": "stdout",
     "output_type": "stream",
     "text": [
      "Iteration : 12 \n",
      " , Train Loss : 221.85317420959473 \n",
      ", Test Acc : 54.168399810791016 \n",
      "\n"
     ]
    },
    {
     "name": "stderr",
     "output_type": "stream",
     "text": []
    },
    {
     "name": "stdout",
     "output_type": "stream",
     "text": [
      "Iteration : 14 \n",
      " , Train Loss : 153.42886447906494 \n",
      ", Test Acc : 65.15972137451172 \n",
      "\n"
     ]
    },
    {
     "name": "stderr",
     "output_type": "stream",
     "text": []
    },
    {
     "name": "stdout",
     "output_type": "stream",
     "text": [
      "Iteration : 16 \n",
      " , Train Loss : 116.61398792266846 \n",
      ", Test Acc : 66.05500793457031 \n",
      "\n"
     ]
    },
    {
     "name": "stderr",
     "output_type": "stream",
     "text": []
    },
    {
     "name": "stdout",
     "output_type": "stream",
     "text": [
      "Iteration : 18 \n",
      " , Train Loss : 103.89177894592285 \n",
      ", Test Acc : 66.54180145263672 \n",
      "\n"
     ]
    },
    {
     "name": "stderr",
     "output_type": "stream",
     "text": [
      "100%|██████████| 20/20 [00:09<00:00,  2.09it/s]\n",
      " 78%|███████▊  | 123/157 [17:18<04:46,  8.42s/it]"
     ]
    },
    {
     "name": "stdout",
     "output_type": "stream",
     "text": [
      "Iteration : 19 \n",
      " , Train Loss : 86.65136432647705 \n",
      ", Test Acc : 67.75122833251953 \n",
      "\n"
     ]
    },
    {
     "name": "stderr",
     "output_type": "stream",
     "text": []
    },
    {
     "name": "stdout",
     "output_type": "stream",
     "text": [
      "Iteration : 0 \n",
      " , Train Loss : 166.2276668548584 \n",
      ", Test Acc : 32.32242965698242 \n",
      "\n"
     ]
    },
    {
     "name": "stderr",
     "output_type": "stream",
     "text": []
    },
    {
     "name": "stdout",
     "output_type": "stream",
     "text": [
      "Iteration : 2 \n",
      " , Train Loss : 734.3583374023438 \n",
      ", Test Acc : 18.05312156677246 \n",
      "\n"
     ]
    },
    {
     "name": "stderr",
     "output_type": "stream",
     "text": []
    },
    {
     "name": "stdout",
     "output_type": "stream",
     "text": [
      "Iteration : 4 \n",
      " , Train Loss : 883.872802734375 \n",
      ", Test Acc : 28.370359420776367 \n",
      "\n"
     ]
    },
    {
     "name": "stderr",
     "output_type": "stream",
     "text": []
    },
    {
     "name": "stdout",
     "output_type": "stream",
     "text": [
      "Iteration : 6 \n",
      " , Train Loss : 621.1182174682617 \n",
      ", Test Acc : 42.8947639465332 \n",
      "\n"
     ]
    },
    {
     "name": "stderr",
     "output_type": "stream",
     "text": []
    },
    {
     "name": "stdout",
     "output_type": "stream",
     "text": [
      "Iteration : 8 \n",
      " , Train Loss : 436.9962730407715 \n",
      ", Test Acc : 39.78071975708008 \n",
      "\n"
     ]
    },
    {
     "name": "stderr",
     "output_type": "stream",
     "text": []
    },
    {
     "name": "stdout",
     "output_type": "stream",
     "text": [
      "Iteration : 10 \n",
      " , Train Loss : 409.7756118774414 \n",
      ", Test Acc : 36.89835739135742 \n",
      "\n"
     ]
    },
    {
     "name": "stderr",
     "output_type": "stream",
     "text": []
    },
    {
     "name": "stdout",
     "output_type": "stream",
     "text": [
      "Iteration : 12 \n",
      " , Train Loss : 338.3624610900879 \n",
      ", Test Acc : 46.20803451538086 \n",
      "\n"
     ]
    },
    {
     "name": "stderr",
     "output_type": "stream",
     "text": []
    },
    {
     "name": "stdout",
     "output_type": "stream",
     "text": [
      "Iteration : 14 \n",
      " , Train Loss : 191.5201358795166 \n",
      ", Test Acc : 56.31047058105469 \n",
      "\n"
     ]
    },
    {
     "name": "stderr",
     "output_type": "stream",
     "text": []
    },
    {
     "name": "stdout",
     "output_type": "stream",
     "text": [
      "Iteration : 16 \n",
      " , Train Loss : 151.01755619049072 \n",
      ", Test Acc : 59.24812698364258 \n",
      "\n"
     ]
    },
    {
     "name": "stderr",
     "output_type": "stream",
     "text": []
    },
    {
     "name": "stdout",
     "output_type": "stream",
     "text": [
      "Iteration : 18 \n",
      " , Train Loss : 184.39400005340576 \n",
      ", Test Acc : 59.858036041259766 \n",
      "\n"
     ]
    },
    {
     "name": "stderr",
     "output_type": "stream",
     "text": [
      "100%|██████████| 20/20 [00:07<00:00,  2.53it/s]\n",
      " 79%|███████▉  | 124/157 [17:26<04:33,  8.27s/it]"
     ]
    },
    {
     "name": "stdout",
     "output_type": "stream",
     "text": [
      "Iteration : 19 \n",
      " , Train Loss : 180.9094476699829 \n",
      ", Test Acc : 61.74177932739258 \n",
      "\n"
     ]
    },
    {
     "name": "stderr",
     "output_type": "stream",
     "text": []
    },
    {
     "name": "stdout",
     "output_type": "stream",
     "text": [
      "Iteration : 0 \n",
      " , Train Loss : 181.76054000854492 \n",
      ", Test Acc : 24.259275436401367 \n",
      "\n"
     ]
    },
    {
     "name": "stderr",
     "output_type": "stream",
     "text": []
    },
    {
     "name": "stdout",
     "output_type": "stream",
     "text": [
      "Iteration : 2 \n",
      " , Train Loss : 679.5015640258789 \n",
      ", Test Acc : 33.71052169799805 \n",
      "\n"
     ]
    },
    {
     "name": "stderr",
     "output_type": "stream",
     "text": []
    },
    {
     "name": "stdout",
     "output_type": "stream",
     "text": [
      "Iteration : 4 \n",
      " , Train Loss : 669.9133605957031 \n",
      ", Test Acc : 31.26947784423828 \n",
      "\n"
     ]
    },
    {
     "name": "stderr",
     "output_type": "stream",
     "text": []
    },
    {
     "name": "stdout",
     "output_type": "stream",
     "text": [
      "Iteration : 6 \n",
      " , Train Loss : 625.008186340332 \n",
      ", Test Acc : 37.77641677856445 \n",
      "\n"
     ]
    },
    {
     "name": "stderr",
     "output_type": "stream",
     "text": []
    },
    {
     "name": "stdout",
     "output_type": "stream",
     "text": [
      "Iteration : 8 \n",
      " , Train Loss : 334.7057685852051 \n",
      ", Test Acc : 53.35830307006836 \n",
      "\n"
     ]
    },
    {
     "name": "stderr",
     "output_type": "stream",
     "text": []
    },
    {
     "name": "stdout",
     "output_type": "stream",
     "text": [
      "Iteration : 10 \n",
      " , Train Loss : 223.7968864440918 \n",
      ", Test Acc : 50.41399002075195 \n",
      "\n"
     ]
    },
    {
     "name": "stderr",
     "output_type": "stream",
     "text": []
    },
    {
     "name": "stdout",
     "output_type": "stream",
     "text": [
      "Iteration : 12 \n",
      " , Train Loss : 198.72633743286133 \n",
      ", Test Acc : 51.92921447753906 \n",
      "\n"
     ]
    },
    {
     "name": "stderr",
     "output_type": "stream",
     "text": []
    },
    {
     "name": "stdout",
     "output_type": "stream",
     "text": [
      "Iteration : 14 \n",
      " , Train Loss : 216.9900426864624 \n",
      ", Test Acc : 52.651031494140625 \n",
      "\n"
     ]
    },
    {
     "name": "stderr",
     "output_type": "stream",
     "text": []
    },
    {
     "name": "stdout",
     "output_type": "stream",
     "text": [
      "Iteration : 16 \n",
      " , Train Loss : 188.21154594421387 \n",
      ", Test Acc : 57.777069091796875 \n",
      "\n"
     ]
    },
    {
     "name": "stderr",
     "output_type": "stream",
     "text": []
    },
    {
     "name": "stdout",
     "output_type": "stream",
     "text": [
      "Iteration : 18 \n",
      " , Train Loss : 143.6090545654297 \n",
      ", Test Acc : 61.73533630371094 \n",
      "\n"
     ]
    },
    {
     "name": "stderr",
     "output_type": "stream",
     "text": [
      "100%|██████████| 20/20 [00:09<00:00,  2.02it/s]\n",
      " 80%|███████▉  | 125/157 [17:36<04:40,  8.78s/it]"
     ]
    },
    {
     "name": "stdout",
     "output_type": "stream",
     "text": [
      "Iteration : 19 \n",
      " , Train Loss : 144.75210189819336 \n",
      ", Test Acc : 61.68586730957031 \n",
      "\n"
     ]
    },
    {
     "name": "stderr",
     "output_type": "stream",
     "text": []
    },
    {
     "name": "stdout",
     "output_type": "stream",
     "text": [
      "Iteration : 0 \n",
      " , Train Loss : 191.83941078186035 \n",
      ", Test Acc : 25.107688903808594 \n",
      "\n"
     ]
    },
    {
     "name": "stderr",
     "output_type": "stream",
     "text": []
    },
    {
     "name": "stdout",
     "output_type": "stream",
     "text": [
      "Iteration : 2 \n",
      " , Train Loss : 554.5659637451172 \n",
      ", Test Acc : 39.64835739135742 \n",
      "\n"
     ]
    },
    {
     "name": "stderr",
     "output_type": "stream",
     "text": []
    },
    {
     "name": "stdout",
     "output_type": "stream",
     "text": [
      "Iteration : 4 \n",
      " , Train Loss : 691.5637359619141 \n",
      ", Test Acc : 42.63446807861328 \n",
      "\n"
     ]
    },
    {
     "name": "stderr",
     "output_type": "stream",
     "text": []
    },
    {
     "name": "stdout",
     "output_type": "stream",
     "text": [
      "Iteration : 6 \n",
      " , Train Loss : 539.5770606994629 \n",
      ", Test Acc : 50.621063232421875 \n",
      "\n"
     ]
    },
    {
     "name": "stderr",
     "output_type": "stream",
     "text": []
    },
    {
     "name": "stdout",
     "output_type": "stream",
     "text": [
      "Iteration : 8 \n",
      " , Train Loss : 404.09690856933594 \n",
      ", Test Acc : 47.942352294921875 \n",
      "\n"
     ]
    },
    {
     "name": "stderr",
     "output_type": "stream",
     "text": []
    },
    {
     "name": "stdout",
     "output_type": "stream",
     "text": [
      "Iteration : 10 \n",
      " , Train Loss : 298.74877738952637 \n",
      ", Test Acc : 55.27175521850586 \n",
      "\n"
     ]
    },
    {
     "name": "stderr",
     "output_type": "stream",
     "text": []
    },
    {
     "name": "stdout",
     "output_type": "stream",
     "text": [
      "Iteration : 12 \n",
      " , Train Loss : 127.92904567718506 \n",
      ", Test Acc : 57.84555435180664 \n",
      "\n"
     ]
    },
    {
     "name": "stderr",
     "output_type": "stream",
     "text": []
    },
    {
     "name": "stdout",
     "output_type": "stream",
     "text": [
      "Iteration : 14 \n",
      " , Train Loss : 151.48740005493164 \n",
      ", Test Acc : 55.13456344604492 \n",
      "\n"
     ]
    },
    {
     "name": "stderr",
     "output_type": "stream",
     "text": []
    },
    {
     "name": "stdout",
     "output_type": "stream",
     "text": [
      "Iteration : 16 \n",
      " , Train Loss : 172.2019453048706 \n",
      ", Test Acc : 56.46664047241211 \n",
      "\n"
     ]
    },
    {
     "name": "stderr",
     "output_type": "stream",
     "text": []
    },
    {
     "name": "stdout",
     "output_type": "stream",
     "text": [
      "Iteration : 18 \n",
      " , Train Loss : 163.71900463104248 \n",
      ", Test Acc : 62.25101089477539 \n",
      "\n"
     ]
    },
    {
     "name": "stderr",
     "output_type": "stream",
     "text": [
      "100%|██████████| 20/20 [00:07<00:00,  2.70it/s]\n",
      " 80%|████████  | 126/157 [17:44<04:19,  8.37s/it]"
     ]
    },
    {
     "name": "stdout",
     "output_type": "stream",
     "text": [
      "Iteration : 19 \n",
      " , Train Loss : 135.85639333724976 \n",
      ", Test Acc : 65.17596435546875 \n",
      "\n"
     ]
    },
    {
     "name": "stderr",
     "output_type": "stream",
     "text": []
    },
    {
     "name": "stdout",
     "output_type": "stream",
     "text": [
      "Iteration : 0 \n",
      " , Train Loss : 181.53223037719727 \n",
      ", Test Acc : 28.52678680419922 \n",
      "\n"
     ]
    },
    {
     "name": "stderr",
     "output_type": "stream",
     "text": []
    },
    {
     "name": "stdout",
     "output_type": "stream",
     "text": [
      "Iteration : 2 \n",
      " , Train Loss : 754.5005187988281 \n",
      ", Test Acc : 32.83222579956055 \n",
      "\n"
     ]
    },
    {
     "name": "stderr",
     "output_type": "stream",
     "text": []
    },
    {
     "name": "stdout",
     "output_type": "stream",
     "text": [
      "Iteration : 4 \n",
      " , Train Loss : 646.5825958251953 \n",
      ", Test Acc : 34.097110748291016 \n",
      "\n"
     ]
    },
    {
     "name": "stderr",
     "output_type": "stream",
     "text": []
    },
    {
     "name": "stdout",
     "output_type": "stream",
     "text": [
      "Iteration : 6 \n",
      " , Train Loss : 318.0110206604004 \n",
      ", Test Acc : 52.508026123046875 \n",
      "\n"
     ]
    },
    {
     "name": "stderr",
     "output_type": "stream",
     "text": []
    },
    {
     "name": "stdout",
     "output_type": "stream",
     "text": [
      "Iteration : 8 \n",
      " , Train Loss : 236.26231002807617 \n",
      ", Test Acc : 47.05198669433594 \n",
      "\n"
     ]
    },
    {
     "name": "stderr",
     "output_type": "stream",
     "text": []
    },
    {
     "name": "stdout",
     "output_type": "stream",
     "text": [
      "Iteration : 10 \n",
      " , Train Loss : 168.40376663208008 \n",
      ", Test Acc : 56.345340728759766 \n",
      "\n"
     ]
    },
    {
     "name": "stderr",
     "output_type": "stream",
     "text": []
    },
    {
     "name": "stdout",
     "output_type": "stream",
     "text": [
      "Iteration : 12 \n",
      " , Train Loss : 156.70289516448975 \n",
      ", Test Acc : 60.051082611083984 \n",
      "\n"
     ]
    },
    {
     "name": "stderr",
     "output_type": "stream",
     "text": []
    },
    {
     "name": "stdout",
     "output_type": "stream",
     "text": [
      "Iteration : 14 \n",
      " , Train Loss : 151.34891510009766 \n",
      ", Test Acc : 66.65734100341797 \n",
      "\n"
     ]
    },
    {
     "name": "stderr",
     "output_type": "stream",
     "text": []
    },
    {
     "name": "stdout",
     "output_type": "stream",
     "text": [
      "Iteration : 16 \n",
      " , Train Loss : 100.77337646484375 \n",
      ", Test Acc : 69.12395477294922 \n",
      "\n"
     ]
    },
    {
     "name": "stderr",
     "output_type": "stream",
     "text": []
    },
    {
     "name": "stdout",
     "output_type": "stream",
     "text": [
      "Iteration : 18 \n",
      " , Train Loss : 99.50880289077759 \n",
      ", Test Acc : 71.78236389160156 \n",
      "\n"
     ]
    },
    {
     "name": "stderr",
     "output_type": "stream",
     "text": [
      "100%|██████████| 20/20 [00:09<00:00,  2.14it/s]\n",
      " 81%|████████  | 127/157 [17:53<04:20,  8.67s/it]"
     ]
    },
    {
     "name": "stdout",
     "output_type": "stream",
     "text": [
      "Iteration : 19 \n",
      " , Train Loss : 92.95357513427734 \n",
      ", Test Acc : 72.5357666015625 \n",
      "\n"
     ]
    },
    {
     "name": "stderr",
     "output_type": "stream",
     "text": []
    },
    {
     "name": "stdout",
     "output_type": "stream",
     "text": [
      "Iteration : 0 \n",
      " , Train Loss : 216.97455978393555 \n",
      ", Test Acc : 25.046295166015625 \n",
      "\n"
     ]
    },
    {
     "name": "stderr",
     "output_type": "stream",
     "text": []
    },
    {
     "name": "stdout",
     "output_type": "stream",
     "text": [
      "Iteration : 2 \n",
      " , Train Loss : 841.5591506958008 \n",
      ", Test Acc : 26.24066734313965 \n",
      "\n"
     ]
    },
    {
     "name": "stderr",
     "output_type": "stream",
     "text": []
    },
    {
     "name": "stdout",
     "output_type": "stream",
     "text": [
      "Iteration : 4 \n",
      " , Train Loss : 678.5911102294922 \n",
      ", Test Acc : 36.4481315612793 \n",
      "\n"
     ]
    },
    {
     "name": "stderr",
     "output_type": "stream",
     "text": []
    },
    {
     "name": "stdout",
     "output_type": "stream",
     "text": [
      "Iteration : 6 \n",
      " , Train Loss : 491.77558517456055 \n",
      ", Test Acc : 40.714317321777344 \n",
      "\n"
     ]
    },
    {
     "name": "stderr",
     "output_type": "stream",
     "text": []
    },
    {
     "name": "stdout",
     "output_type": "stream",
     "text": [
      "Iteration : 8 \n",
      " , Train Loss : 320.30006217956543 \n",
      ", Test Acc : 40.379703521728516 \n",
      "\n"
     ]
    },
    {
     "name": "stderr",
     "output_type": "stream",
     "text": []
    },
    {
     "name": "stdout",
     "output_type": "stream",
     "text": [
      "Iteration : 10 \n",
      " , Train Loss : 233.31939697265625 \n",
      ", Test Acc : 51.17721176147461 \n",
      "\n"
     ]
    },
    {
     "name": "stderr",
     "output_type": "stream",
     "text": []
    },
    {
     "name": "stdout",
     "output_type": "stream",
     "text": [
      "Iteration : 12 \n",
      " , Train Loss : 208.6524658203125 \n",
      ", Test Acc : 53.15921401977539 \n",
      "\n"
     ]
    },
    {
     "name": "stderr",
     "output_type": "stream",
     "text": []
    },
    {
     "name": "stdout",
     "output_type": "stream",
     "text": [
      "Iteration : 14 \n",
      " , Train Loss : 199.37787246704102 \n",
      ", Test Acc : 58.69375991821289 \n",
      "\n"
     ]
    },
    {
     "name": "stderr",
     "output_type": "stream",
     "text": []
    },
    {
     "name": "stdout",
     "output_type": "stream",
     "text": [
      "Iteration : 16 \n",
      " , Train Loss : 120.20735931396484 \n",
      ", Test Acc : 60.8333625793457 \n",
      "\n"
     ]
    },
    {
     "name": "stderr",
     "output_type": "stream",
     "text": []
    },
    {
     "name": "stdout",
     "output_type": "stream",
     "text": [
      "Iteration : 18 \n",
      " , Train Loss : 130.08910083770752 \n",
      ", Test Acc : 60.088836669921875 \n",
      "\n"
     ]
    },
    {
     "name": "stderr",
     "output_type": "stream",
     "text": [
      "100%|██████████| 20/20 [00:11<00:00,  1.73it/s]\n",
      " 82%|████████▏ | 128/157 [18:04<04:36,  9.54s/it]"
     ]
    },
    {
     "name": "stdout",
     "output_type": "stream",
     "text": [
      "Iteration : 19 \n",
      " , Train Loss : 133.16930055618286 \n",
      ", Test Acc : 63.14686965942383 \n",
      "\n"
     ]
    },
    {
     "name": "stderr",
     "output_type": "stream",
     "text": []
    },
    {
     "name": "stdout",
     "output_type": "stream",
     "text": [
      "Iteration : 0 \n",
      " , Train Loss : 227.14768981933594 \n",
      ", Test Acc : 22.062896728515625 \n",
      "\n"
     ]
    },
    {
     "name": "stderr",
     "output_type": "stream",
     "text": []
    },
    {
     "name": "stdout",
     "output_type": "stream",
     "text": [
      "Iteration : 2 \n",
      " , Train Loss : 707.1152191162109 \n",
      ", Test Acc : 29.408681869506836 \n",
      "\n"
     ]
    },
    {
     "name": "stderr",
     "output_type": "stream",
     "text": []
    },
    {
     "name": "stdout",
     "output_type": "stream",
     "text": [
      "Iteration : 4 \n",
      " , Train Loss : 831.3673477172852 \n",
      ", Test Acc : 24.653974533081055 \n",
      "\n"
     ]
    },
    {
     "name": "stderr",
     "output_type": "stream",
     "text": []
    },
    {
     "name": "stdout",
     "output_type": "stream",
     "text": [
      "Iteration : 6 \n",
      " , Train Loss : 543.7427597045898 \n",
      ", Test Acc : 40.27872848510742 \n",
      "\n"
     ]
    },
    {
     "name": "stderr",
     "output_type": "stream",
     "text": []
    },
    {
     "name": "stdout",
     "output_type": "stream",
     "text": [
      "Iteration : 8 \n",
      " , Train Loss : 544.2410583496094 \n",
      ", Test Acc : 33.375213623046875 \n",
      "\n"
     ]
    },
    {
     "name": "stderr",
     "output_type": "stream",
     "text": []
    },
    {
     "name": "stdout",
     "output_type": "stream",
     "text": [
      "Iteration : 10 \n",
      " , Train Loss : 383.7602233886719 \n",
      ", Test Acc : 36.92506408691406 \n",
      "\n"
     ]
    },
    {
     "name": "stderr",
     "output_type": "stream",
     "text": []
    },
    {
     "name": "stdout",
     "output_type": "stream",
     "text": [
      "Iteration : 12 \n",
      " , Train Loss : 260.6744918823242 \n",
      ", Test Acc : 45.65573501586914 \n",
      "\n"
     ]
    },
    {
     "name": "stderr",
     "output_type": "stream",
     "text": []
    },
    {
     "name": "stdout",
     "output_type": "stream",
     "text": [
      "Iteration : 14 \n",
      " , Train Loss : 153.77921962738037 \n",
      ", Test Acc : 51.0164680480957 \n",
      "\n"
     ]
    },
    {
     "name": "stderr",
     "output_type": "stream",
     "text": []
    },
    {
     "name": "stdout",
     "output_type": "stream",
     "text": [
      "Iteration : 16 \n",
      " , Train Loss : 171.61260223388672 \n",
      ", Test Acc : 49.12497329711914 \n",
      "\n"
     ]
    },
    {
     "name": "stderr",
     "output_type": "stream",
     "text": []
    },
    {
     "name": "stdout",
     "output_type": "stream",
     "text": [
      "Iteration : 18 \n",
      " , Train Loss : 154.9938268661499 \n",
      ", Test Acc : 54.60457992553711 \n",
      "\n"
     ]
    },
    {
     "name": "stderr",
     "output_type": "stream",
     "text": [
      "100%|██████████| 20/20 [00:07<00:00,  2.68it/s]\n",
      " 82%|████████▏ | 129/157 [18:12<04:09,  8.93s/it]"
     ]
    },
    {
     "name": "stdout",
     "output_type": "stream",
     "text": [
      "Iteration : 19 \n",
      " , Train Loss : 137.27575969696045 \n",
      ", Test Acc : 60.684635162353516 \n",
      "\n"
     ]
    },
    {
     "name": "stderr",
     "output_type": "stream",
     "text": []
    },
    {
     "name": "stdout",
     "output_type": "stream",
     "text": [
      "Iteration : 0 \n",
      " , Train Loss : 178.336669921875 \n",
      ", Test Acc : 26.243927001953125 \n",
      "\n"
     ]
    },
    {
     "name": "stderr",
     "output_type": "stream",
     "text": []
    },
    {
     "name": "stdout",
     "output_type": "stream",
     "text": [
      "Iteration : 2 \n",
      " , Train Loss : 530.3080215454102 \n",
      ", Test Acc : 26.33910369873047 \n",
      "\n"
     ]
    },
    {
     "name": "stderr",
     "output_type": "stream",
     "text": []
    },
    {
     "name": "stdout",
     "output_type": "stream",
     "text": [
      "Iteration : 4 \n",
      " , Train Loss : 872.6466827392578 \n",
      ", Test Acc : 31.639089584350586 \n",
      "\n"
     ]
    },
    {
     "name": "stderr",
     "output_type": "stream",
     "text": []
    },
    {
     "name": "stdout",
     "output_type": "stream",
     "text": [
      "Iteration : 6 \n",
      " , Train Loss : 537.7549133300781 \n",
      ", Test Acc : 44.343505859375 \n",
      "\n"
     ]
    },
    {
     "name": "stderr",
     "output_type": "stream",
     "text": []
    },
    {
     "name": "stdout",
     "output_type": "stream",
     "text": [
      "Iteration : 8 \n",
      " , Train Loss : 397.6799125671387 \n",
      ", Test Acc : 49.57882308959961 \n",
      "\n"
     ]
    },
    {
     "name": "stderr",
     "output_type": "stream",
     "text": []
    },
    {
     "name": "stdout",
     "output_type": "stream",
     "text": [
      "Iteration : 10 \n",
      " , Train Loss : 269.8336639404297 \n",
      ", Test Acc : 42.42612075805664 \n",
      "\n"
     ]
    },
    {
     "name": "stderr",
     "output_type": "stream",
     "text": []
    },
    {
     "name": "stdout",
     "output_type": "stream",
     "text": [
      "Iteration : 12 \n",
      " , Train Loss : 206.58765029907227 \n",
      ", Test Acc : 53.20199203491211 \n",
      "\n"
     ]
    },
    {
     "name": "stderr",
     "output_type": "stream",
     "text": []
    },
    {
     "name": "stdout",
     "output_type": "stream",
     "text": [
      "Iteration : 14 \n",
      " , Train Loss : 104.59692096710205 \n",
      ", Test Acc : 58.869441986083984 \n",
      "\n"
     ]
    },
    {
     "name": "stderr",
     "output_type": "stream",
     "text": []
    },
    {
     "name": "stdout",
     "output_type": "stream",
     "text": [
      "Iteration : 16 \n",
      " , Train Loss : 132.33795738220215 \n",
      ", Test Acc : 59.1124267578125 \n",
      "\n"
     ]
    },
    {
     "name": "stderr",
     "output_type": "stream",
     "text": []
    },
    {
     "name": "stdout",
     "output_type": "stream",
     "text": [
      "Iteration : 18 \n",
      " , Train Loss : 111.5064525604248 \n",
      ", Test Acc : 69.37104034423828 \n",
      "\n"
     ]
    },
    {
     "name": "stderr",
     "output_type": "stream",
     "text": [
      "100%|██████████| 20/20 [00:09<00:00,  2.12it/s]\n",
      " 83%|████████▎ | 130/157 [18:21<04:05,  9.09s/it]"
     ]
    },
    {
     "name": "stdout",
     "output_type": "stream",
     "text": [
      "Iteration : 19 \n",
      " , Train Loss : 81.08143711090088 \n",
      ", Test Acc : 70.06700134277344 \n",
      "\n"
     ]
    },
    {
     "name": "stderr",
     "output_type": "stream",
     "text": []
    },
    {
     "name": "stdout",
     "output_type": "stream",
     "text": [
      "Iteration : 0 \n",
      " , Train Loss : 210.74338150024414 \n",
      ", Test Acc : 17.649341583251953 \n",
      "\n"
     ]
    },
    {
     "name": "stderr",
     "output_type": "stream",
     "text": []
    },
    {
     "name": "stdout",
     "output_type": "stream",
     "text": [
      "Iteration : 2 \n",
      " , Train Loss : 616.3192672729492 \n",
      ", Test Acc : 28.78778839111328 \n",
      "\n"
     ]
    },
    {
     "name": "stderr",
     "output_type": "stream",
     "text": []
    },
    {
     "name": "stdout",
     "output_type": "stream",
     "text": [
      "Iteration : 4 \n",
      " , Train Loss : 915.6782913208008 \n",
      ", Test Acc : 36.036048889160156 \n",
      "\n"
     ]
    },
    {
     "name": "stderr",
     "output_type": "stream",
     "text": []
    },
    {
     "name": "stdout",
     "output_type": "stream",
     "text": [
      "Iteration : 6 \n",
      " , Train Loss : 763.3893127441406 \n",
      ", Test Acc : 39.64130401611328 \n",
      "\n"
     ]
    },
    {
     "name": "stderr",
     "output_type": "stream",
     "text": []
    },
    {
     "name": "stdout",
     "output_type": "stream",
     "text": [
      "Iteration : 8 \n",
      " , Train Loss : 515.5769958496094 \n",
      ", Test Acc : 30.891576766967773 \n",
      "\n"
     ]
    },
    {
     "name": "stderr",
     "output_type": "stream",
     "text": []
    },
    {
     "name": "stdout",
     "output_type": "stream",
     "text": [
      "Iteration : 10 \n",
      " , Train Loss : 354.512882232666 \n",
      ", Test Acc : 48.48691940307617 \n",
      "\n"
     ]
    },
    {
     "name": "stderr",
     "output_type": "stream",
     "text": []
    },
    {
     "name": "stdout",
     "output_type": "stream",
     "text": [
      "Iteration : 12 \n",
      " , Train Loss : 348.39670181274414 \n",
      ", Test Acc : 47.27745056152344 \n",
      "\n"
     ]
    },
    {
     "name": "stderr",
     "output_type": "stream",
     "text": []
    },
    {
     "name": "stdout",
     "output_type": "stream",
     "text": [
      "Iteration : 14 \n",
      " , Train Loss : 238.8937644958496 \n",
      ", Test Acc : 53.414249420166016 \n",
      "\n"
     ]
    },
    {
     "name": "stderr",
     "output_type": "stream",
     "text": []
    },
    {
     "name": "stdout",
     "output_type": "stream",
     "text": [
      "Iteration : 16 \n",
      " , Train Loss : 247.1719970703125 \n",
      ", Test Acc : 55.44236755371094 \n",
      "\n"
     ]
    },
    {
     "name": "stderr",
     "output_type": "stream",
     "text": []
    },
    {
     "name": "stdout",
     "output_type": "stream",
     "text": [
      "Iteration : 18 \n",
      " , Train Loss : 145.03656578063965 \n",
      ", Test Acc : 61.75344467163086 \n",
      "\n"
     ]
    },
    {
     "name": "stderr",
     "output_type": "stream",
     "text": [
      "100%|██████████| 20/20 [00:07<00:00,  2.54it/s]\n",
      " 83%|████████▎ | 131/157 [18:29<03:47,  8.73s/it]"
     ]
    },
    {
     "name": "stdout",
     "output_type": "stream",
     "text": [
      "Iteration : 19 \n",
      " , Train Loss : 92.40181732177734 \n",
      ", Test Acc : 60.86030578613281 \n",
      "\n"
     ]
    },
    {
     "name": "stderr",
     "output_type": "stream",
     "text": []
    },
    {
     "name": "stdout",
     "output_type": "stream",
     "text": [
      "Iteration : 0 \n",
      " , Train Loss : 172.31218910217285 \n",
      ", Test Acc : 18.85484504699707 \n",
      "\n"
     ]
    },
    {
     "name": "stderr",
     "output_type": "stream",
     "text": []
    },
    {
     "name": "stdout",
     "output_type": "stream",
     "text": [
      "Iteration : 2 \n",
      " , Train Loss : 682.870361328125 \n",
      ", Test Acc : 33.84027862548828 \n",
      "\n"
     ]
    },
    {
     "name": "stderr",
     "output_type": "stream",
     "text": []
    },
    {
     "name": "stdout",
     "output_type": "stream",
     "text": [
      "Iteration : 4 \n",
      " , Train Loss : 475.5401916503906 \n",
      ", Test Acc : 43.04093551635742 \n",
      "\n"
     ]
    },
    {
     "name": "stderr",
     "output_type": "stream",
     "text": []
    },
    {
     "name": "stdout",
     "output_type": "stream",
     "text": [
      "Iteration : 6 \n",
      " , Train Loss : 325.53896713256836 \n",
      ", Test Acc : 39.766136169433594 \n",
      "\n"
     ]
    },
    {
     "name": "stderr",
     "output_type": "stream",
     "text": []
    },
    {
     "name": "stdout",
     "output_type": "stream",
     "text": [
      "Iteration : 8 \n",
      " , Train Loss : 176.66311645507812 \n",
      ", Test Acc : 38.130149841308594 \n",
      "\n"
     ]
    },
    {
     "name": "stderr",
     "output_type": "stream",
     "text": []
    },
    {
     "name": "stdout",
     "output_type": "stream",
     "text": [
      "Iteration : 10 \n",
      " , Train Loss : 259.5090751647949 \n",
      ", Test Acc : 50.67055892944336 \n",
      "\n"
     ]
    },
    {
     "name": "stderr",
     "output_type": "stream",
     "text": []
    },
    {
     "name": "stdout",
     "output_type": "stream",
     "text": [
      "Iteration : 12 \n",
      " , Train Loss : 163.25316524505615 \n",
      ", Test Acc : 57.36387252807617 \n",
      "\n"
     ]
    },
    {
     "name": "stderr",
     "output_type": "stream",
     "text": []
    },
    {
     "name": "stdout",
     "output_type": "stream",
     "text": [
      "Iteration : 14 \n",
      " , Train Loss : 147.31081581115723 \n",
      ", Test Acc : 58.2642936706543 \n",
      "\n"
     ]
    },
    {
     "name": "stderr",
     "output_type": "stream",
     "text": []
    },
    {
     "name": "stdout",
     "output_type": "stream",
     "text": [
      "Iteration : 16 \n",
      " , Train Loss : 108.09890842437744 \n",
      ", Test Acc : 63.982513427734375 \n",
      "\n"
     ]
    },
    {
     "name": "stderr",
     "output_type": "stream",
     "text": []
    },
    {
     "name": "stdout",
     "output_type": "stream",
     "text": [
      "Iteration : 18 \n",
      " , Train Loss : 114.03106498718262 \n",
      ", Test Acc : 64.2493896484375 \n",
      "\n"
     ]
    },
    {
     "name": "stderr",
     "output_type": "stream",
     "text": [
      "100%|██████████| 20/20 [00:09<00:00,  2.01it/s]\n",
      " 84%|████████▍ | 132/157 [18:39<03:47,  9.11s/it]"
     ]
    },
    {
     "name": "stdout",
     "output_type": "stream",
     "text": [
      "Iteration : 19 \n",
      " , Train Loss : 111.22486782073975 \n",
      ", Test Acc : 68.55907440185547 \n",
      "\n"
     ]
    },
    {
     "name": "stderr",
     "output_type": "stream",
     "text": []
    },
    {
     "name": "stdout",
     "output_type": "stream",
     "text": [
      "Iteration : 0 \n",
      " , Train Loss : 181.03489303588867 \n",
      ", Test Acc : 27.029586791992188 \n",
      "\n"
     ]
    },
    {
     "name": "stderr",
     "output_type": "stream",
     "text": []
    },
    {
     "name": "stdout",
     "output_type": "stream",
     "text": [
      "Iteration : 2 \n",
      " , Train Loss : 626.0348510742188 \n",
      ", Test Acc : 25.14949607849121 \n",
      "\n"
     ]
    },
    {
     "name": "stderr",
     "output_type": "stream",
     "text": []
    },
    {
     "name": "stdout",
     "output_type": "stream",
     "text": [
      "Iteration : 4 \n",
      " , Train Loss : 472.7448387145996 \n",
      ", Test Acc : 42.589622497558594 \n",
      "\n"
     ]
    },
    {
     "name": "stderr",
     "output_type": "stream",
     "text": []
    },
    {
     "name": "stdout",
     "output_type": "stream",
     "text": [
      "Iteration : 6 \n",
      " , Train Loss : 471.67384338378906 \n",
      ", Test Acc : 47.28167724609375 \n",
      "\n"
     ]
    },
    {
     "name": "stderr",
     "output_type": "stream",
     "text": []
    },
    {
     "name": "stdout",
     "output_type": "stream",
     "text": [
      "Iteration : 8 \n",
      " , Train Loss : 293.80328369140625 \n",
      ", Test Acc : 43.879241943359375 \n",
      "\n"
     ]
    },
    {
     "name": "stderr",
     "output_type": "stream",
     "text": []
    },
    {
     "name": "stdout",
     "output_type": "stream",
     "text": [
      "Iteration : 10 \n",
      " , Train Loss : 313.5314483642578 \n",
      ", Test Acc : 49.49906539916992 \n",
      "\n"
     ]
    },
    {
     "name": "stderr",
     "output_type": "stream",
     "text": []
    },
    {
     "name": "stdout",
     "output_type": "stream",
     "text": [
      "Iteration : 12 \n",
      " , Train Loss : 178.2697696685791 \n",
      ", Test Acc : 59.39580154418945 \n",
      "\n"
     ]
    },
    {
     "name": "stderr",
     "output_type": "stream",
     "text": []
    },
    {
     "name": "stdout",
     "output_type": "stream",
     "text": [
      "Iteration : 14 \n",
      " , Train Loss : 151.03529739379883 \n",
      ", Test Acc : 59.96653366088867 \n",
      "\n"
     ]
    },
    {
     "name": "stderr",
     "output_type": "stream",
     "text": []
    },
    {
     "name": "stdout",
     "output_type": "stream",
     "text": [
      "Iteration : 16 \n",
      " , Train Loss : 159.4010238647461 \n",
      ", Test Acc : 56.16001510620117 \n",
      "\n"
     ]
    },
    {
     "name": "stderr",
     "output_type": "stream",
     "text": []
    },
    {
     "name": "stdout",
     "output_type": "stream",
     "text": [
      "Iteration : 18 \n",
      " , Train Loss : 141.9438772201538 \n",
      ", Test Acc : 61.326141357421875 \n",
      "\n"
     ]
    },
    {
     "name": "stderr",
     "output_type": "stream",
     "text": [
      "100%|██████████| 20/20 [00:07<00:00,  2.72it/s]\n",
      " 85%|████████▍ | 133/157 [18:47<03:26,  8.59s/it]"
     ]
    },
    {
     "name": "stdout",
     "output_type": "stream",
     "text": [
      "Iteration : 19 \n",
      " , Train Loss : 128.32907390594482 \n",
      ", Test Acc : 64.4579086303711 \n",
      "\n"
     ]
    },
    {
     "name": "stderr",
     "output_type": "stream",
     "text": []
    },
    {
     "name": "stdout",
     "output_type": "stream",
     "text": [
      "Iteration : 0 \n",
      " , Train Loss : 180.38978004455566 \n",
      ", Test Acc : 27.803253173828125 \n",
      "\n"
     ]
    },
    {
     "name": "stderr",
     "output_type": "stream",
     "text": []
    },
    {
     "name": "stdout",
     "output_type": "stream",
     "text": [
      "Iteration : 2 \n",
      " , Train Loss : 683.1208267211914 \n",
      ", Test Acc : 31.613630294799805 \n",
      "\n"
     ]
    },
    {
     "name": "stderr",
     "output_type": "stream",
     "text": []
    },
    {
     "name": "stdout",
     "output_type": "stream",
     "text": [
      "Iteration : 4 \n",
      " , Train Loss : 611.3274688720703 \n",
      ", Test Acc : 50.13581466674805 \n",
      "\n"
     ]
    },
    {
     "name": "stderr",
     "output_type": "stream",
     "text": []
    },
    {
     "name": "stdout",
     "output_type": "stream",
     "text": [
      "Iteration : 6 \n",
      " , Train Loss : 425.2784194946289 \n",
      ", Test Acc : 46.68343734741211 \n",
      "\n"
     ]
    },
    {
     "name": "stderr",
     "output_type": "stream",
     "text": []
    },
    {
     "name": "stdout",
     "output_type": "stream",
     "text": [
      "Iteration : 8 \n",
      " , Train Loss : 233.98152923583984 \n",
      ", Test Acc : 41.06302261352539 \n",
      "\n"
     ]
    },
    {
     "name": "stderr",
     "output_type": "stream",
     "text": []
    },
    {
     "name": "stdout",
     "output_type": "stream",
     "text": [
      "Iteration : 10 \n",
      " , Train Loss : 262.4740333557129 \n",
      ", Test Acc : 46.53081130981445 \n",
      "\n"
     ]
    },
    {
     "name": "stderr",
     "output_type": "stream",
     "text": []
    },
    {
     "name": "stdout",
     "output_type": "stream",
     "text": [
      "Iteration : 12 \n",
      " , Train Loss : 139.2525463104248 \n",
      ", Test Acc : 63.90462112426758 \n",
      "\n"
     ]
    },
    {
     "name": "stderr",
     "output_type": "stream",
     "text": []
    },
    {
     "name": "stdout",
     "output_type": "stream",
     "text": [
      "Iteration : 14 \n",
      " , Train Loss : 100.11344623565674 \n",
      ", Test Acc : 60.04426956176758 \n",
      "\n"
     ]
    },
    {
     "name": "stderr",
     "output_type": "stream",
     "text": []
    },
    {
     "name": "stdout",
     "output_type": "stream",
     "text": [
      "Iteration : 16 \n",
      " , Train Loss : 108.96555423736572 \n",
      ", Test Acc : 64.92296600341797 \n",
      "\n"
     ]
    },
    {
     "name": "stderr",
     "output_type": "stream",
     "text": []
    },
    {
     "name": "stdout",
     "output_type": "stream",
     "text": [
      "Iteration : 18 \n",
      " , Train Loss : 80.04437828063965 \n",
      ", Test Acc : 65.38563537597656 \n",
      "\n"
     ]
    },
    {
     "name": "stderr",
     "output_type": "stream",
     "text": [
      "100%|██████████| 20/20 [00:09<00:00,  2.14it/s]\n",
      " 85%|████████▌ | 134/157 [18:56<03:22,  8.82s/it]"
     ]
    },
    {
     "name": "stdout",
     "output_type": "stream",
     "text": [
      "Iteration : 19 \n",
      " , Train Loss : 82.1768856048584 \n",
      ", Test Acc : 68.05826568603516 \n",
      "\n"
     ]
    },
    {
     "name": "stderr",
     "output_type": "stream",
     "text": []
    },
    {
     "name": "stdout",
     "output_type": "stream",
     "text": [
      "Iteration : 0 \n",
      " , Train Loss : 201.0560073852539 \n",
      ", Test Acc : 21.827945709228516 \n",
      "\n"
     ]
    },
    {
     "name": "stderr",
     "output_type": "stream",
     "text": []
    },
    {
     "name": "stdout",
     "output_type": "stream",
     "text": [
      "Iteration : 2 \n",
      " , Train Loss : 702.8842620849609 \n",
      ", Test Acc : 34.02122497558594 \n",
      "\n"
     ]
    },
    {
     "name": "stderr",
     "output_type": "stream",
     "text": []
    },
    {
     "name": "stdout",
     "output_type": "stream",
     "text": [
      "Iteration : 4 \n",
      " , Train Loss : 951.6884155273438 \n",
      ", Test Acc : 32.58256149291992 \n",
      "\n"
     ]
    },
    {
     "name": "stderr",
     "output_type": "stream",
     "text": []
    },
    {
     "name": "stdout",
     "output_type": "stream",
     "text": [
      "Iteration : 6 \n",
      " , Train Loss : 574.8073883056641 \n",
      ", Test Acc : 46.873897552490234 \n",
      "\n"
     ]
    },
    {
     "name": "stderr",
     "output_type": "stream",
     "text": []
    },
    {
     "name": "stdout",
     "output_type": "stream",
     "text": [
      "Iteration : 8 \n",
      " , Train Loss : 539.3250312805176 \n",
      ", Test Acc : 34.712337493896484 \n",
      "\n"
     ]
    },
    {
     "name": "stderr",
     "output_type": "stream",
     "text": []
    },
    {
     "name": "stdout",
     "output_type": "stream",
     "text": [
      "Iteration : 10 \n",
      " , Train Loss : 327.4043884277344 \n",
      ", Test Acc : 50.87493896484375 \n",
      "\n"
     ]
    },
    {
     "name": "stderr",
     "output_type": "stream",
     "text": []
    },
    {
     "name": "stdout",
     "output_type": "stream",
     "text": [
      "Iteration : 12 \n",
      " , Train Loss : 211.69781684875488 \n",
      ", Test Acc : 54.860530853271484 \n",
      "\n"
     ]
    },
    {
     "name": "stderr",
     "output_type": "stream",
     "text": []
    },
    {
     "name": "stdout",
     "output_type": "stream",
     "text": [
      "Iteration : 14 \n",
      " , Train Loss : 146.46784019470215 \n",
      ", Test Acc : 54.21817398071289 \n",
      "\n"
     ]
    },
    {
     "name": "stderr",
     "output_type": "stream",
     "text": []
    },
    {
     "name": "stdout",
     "output_type": "stream",
     "text": [
      "Iteration : 16 \n",
      " , Train Loss : 128.69715023040771 \n",
      ", Test Acc : 50.812808990478516 \n",
      "\n"
     ]
    },
    {
     "name": "stderr",
     "output_type": "stream",
     "text": []
    },
    {
     "name": "stdout",
     "output_type": "stream",
     "text": [
      "Iteration : 18 \n",
      " , Train Loss : 146.79405689239502 \n",
      ", Test Acc : 58.885562896728516 \n",
      "\n"
     ]
    },
    {
     "name": "stderr",
     "output_type": "stream",
     "text": [
      "100%|██████████| 20/20 [00:10<00:00,  1.98it/s]\n",
      " 86%|████████▌ | 135/157 [19:06<03:22,  9.21s/it]"
     ]
    },
    {
     "name": "stdout",
     "output_type": "stream",
     "text": [
      "Iteration : 19 \n",
      " , Train Loss : 99.58226203918457 \n",
      ", Test Acc : 63.69356918334961 \n",
      "\n"
     ]
    },
    {
     "name": "stderr",
     "output_type": "stream",
     "text": []
    },
    {
     "name": "stdout",
     "output_type": "stream",
     "text": [
      "Iteration : 0 \n",
      " , Train Loss : 175.9278049468994 \n",
      ", Test Acc : 19.491117477416992 \n",
      "\n"
     ]
    },
    {
     "name": "stderr",
     "output_type": "stream",
     "text": []
    },
    {
     "name": "stdout",
     "output_type": "stream",
     "text": [
      "Iteration : 2 \n",
      " , Train Loss : 823.1921463012695 \n",
      ", Test Acc : 23.124242782592773 \n",
      "\n"
     ]
    },
    {
     "name": "stderr",
     "output_type": "stream",
     "text": []
    },
    {
     "name": "stdout",
     "output_type": "stream",
     "text": [
      "Iteration : 4 \n",
      " , Train Loss : 706.7893981933594 \n",
      ", Test Acc : 41.815589904785156 \n",
      "\n"
     ]
    },
    {
     "name": "stderr",
     "output_type": "stream",
     "text": []
    },
    {
     "name": "stdout",
     "output_type": "stream",
     "text": [
      "Iteration : 6 \n",
      " , Train Loss : 570.5542602539062 \n",
      ", Test Acc : 40.77471160888672 \n",
      "\n"
     ]
    },
    {
     "name": "stderr",
     "output_type": "stream",
     "text": []
    },
    {
     "name": "stdout",
     "output_type": "stream",
     "text": [
      "Iteration : 8 \n",
      " , Train Loss : 255.33852005004883 \n",
      ", Test Acc : 43.88142013549805 \n",
      "\n"
     ]
    },
    {
     "name": "stderr",
     "output_type": "stream",
     "text": []
    },
    {
     "name": "stdout",
     "output_type": "stream",
     "text": [
      "Iteration : 10 \n",
      " , Train Loss : 340.32454681396484 \n",
      ", Test Acc : 47.95378875732422 \n",
      "\n"
     ]
    },
    {
     "name": "stderr",
     "output_type": "stream",
     "text": []
    },
    {
     "name": "stdout",
     "output_type": "stream",
     "text": [
      "Iteration : 12 \n",
      " , Train Loss : 173.5642852783203 \n",
      ", Test Acc : 61.10028839111328 \n",
      "\n"
     ]
    },
    {
     "name": "stderr",
     "output_type": "stream",
     "text": []
    },
    {
     "name": "stdout",
     "output_type": "stream",
     "text": [
      "Iteration : 14 \n",
      " , Train Loss : 154.19845867156982 \n",
      ", Test Acc : 56.72373580932617 \n",
      "\n"
     ]
    },
    {
     "name": "stderr",
     "output_type": "stream",
     "text": []
    },
    {
     "name": "stdout",
     "output_type": "stream",
     "text": [
      "Iteration : 16 \n",
      " , Train Loss : 180.86060333251953 \n",
      ", Test Acc : 59.69048309326172 \n",
      "\n"
     ]
    },
    {
     "name": "stderr",
     "output_type": "stream",
     "text": []
    },
    {
     "name": "stdout",
     "output_type": "stream",
     "text": [
      "Iteration : 18 \n",
      " , Train Loss : 142.76409435272217 \n",
      ", Test Acc : 65.28031921386719 \n",
      "\n"
     ]
    },
    {
     "name": "stderr",
     "output_type": "stream",
     "text": [
      "100%|██████████| 20/20 [00:11<00:00,  1.68it/s]\n",
      " 87%|████████▋ | 136/157 [19:18<03:30, 10.02s/it]"
     ]
    },
    {
     "name": "stdout",
     "output_type": "stream",
     "text": [
      "Iteration : 19 \n",
      " , Train Loss : 115.30612564086914 \n",
      ", Test Acc : 66.04911041259766 \n",
      "\n"
     ]
    },
    {
     "name": "stderr",
     "output_type": "stream",
     "text": []
    },
    {
     "name": "stdout",
     "output_type": "stream",
     "text": [
      "Iteration : 0 \n",
      " , Train Loss : 168.94499588012695 \n",
      ", Test Acc : 24.586898803710938 \n",
      "\n"
     ]
    },
    {
     "name": "stderr",
     "output_type": "stream",
     "text": []
    },
    {
     "name": "stdout",
     "output_type": "stream",
     "text": [
      "Iteration : 2 \n",
      " , Train Loss : 786.6929550170898 \n",
      ", Test Acc : 25.739200592041016 \n",
      "\n"
     ]
    },
    {
     "name": "stderr",
     "output_type": "stream",
     "text": []
    },
    {
     "name": "stdout",
     "output_type": "stream",
     "text": [
      "Iteration : 4 \n",
      " , Train Loss : 499.6826820373535 \n",
      ", Test Acc : 32.113380432128906 \n",
      "\n"
     ]
    },
    {
     "name": "stderr",
     "output_type": "stream",
     "text": []
    },
    {
     "name": "stdout",
     "output_type": "stream",
     "text": [
      "Iteration : 6 \n",
      " , Train Loss : 513.0942459106445 \n",
      ", Test Acc : 40.48893356323242 \n",
      "\n"
     ]
    },
    {
     "name": "stderr",
     "output_type": "stream",
     "text": []
    },
    {
     "name": "stdout",
     "output_type": "stream",
     "text": [
      "Iteration : 8 \n",
      " , Train Loss : 360.0249137878418 \n",
      ", Test Acc : 45.13728713989258 \n",
      "\n"
     ]
    },
    {
     "name": "stderr",
     "output_type": "stream",
     "text": []
    },
    {
     "name": "stdout",
     "output_type": "stream",
     "text": [
      "Iteration : 10 \n",
      " , Train Loss : 321.9631576538086 \n",
      ", Test Acc : 46.67730712890625 \n",
      "\n"
     ]
    },
    {
     "name": "stderr",
     "output_type": "stream",
     "text": []
    },
    {
     "name": "stdout",
     "output_type": "stream",
     "text": [
      "Iteration : 12 \n",
      " , Train Loss : 217.18422508239746 \n",
      ", Test Acc : 55.4538459777832 \n",
      "\n"
     ]
    },
    {
     "name": "stderr",
     "output_type": "stream",
     "text": []
    },
    {
     "name": "stdout",
     "output_type": "stream",
     "text": [
      "Iteration : 14 \n",
      " , Train Loss : 235.87065601348877 \n",
      ", Test Acc : 50.93404769897461 \n",
      "\n"
     ]
    },
    {
     "name": "stderr",
     "output_type": "stream",
     "text": []
    },
    {
     "name": "stdout",
     "output_type": "stream",
     "text": [
      "Iteration : 16 \n",
      " , Train Loss : 234.62413024902344 \n",
      ", Test Acc : 57.73609161376953 \n",
      "\n"
     ]
    },
    {
     "name": "stderr",
     "output_type": "stream",
     "text": []
    },
    {
     "name": "stdout",
     "output_type": "stream",
     "text": [
      "Iteration : 18 \n",
      " , Train Loss : 147.93254470825195 \n",
      ", Test Acc : 61.436031341552734 \n",
      "\n"
     ]
    },
    {
     "name": "stderr",
     "output_type": "stream",
     "text": [
      "100%|██████████| 20/20 [00:11<00:00,  1.75it/s]\n",
      " 87%|████████▋ | 137/157 [19:30<03:29, 10.45s/it]"
     ]
    },
    {
     "name": "stdout",
     "output_type": "stream",
     "text": [
      "Iteration : 19 \n",
      " , Train Loss : 139.9801082611084 \n",
      ", Test Acc : 61.20070266723633 \n",
      "\n"
     ]
    },
    {
     "name": "stderr",
     "output_type": "stream",
     "text": []
    },
    {
     "name": "stdout",
     "output_type": "stream",
     "text": [
      "Iteration : 0 \n",
      " , Train Loss : 183.16062545776367 \n",
      ", Test Acc : 16.393177032470703 \n",
      "\n"
     ]
    },
    {
     "name": "stderr",
     "output_type": "stream",
     "text": []
    },
    {
     "name": "stdout",
     "output_type": "stream",
     "text": [
      "Iteration : 2 \n",
      " , Train Loss : 824.5268325805664 \n",
      ", Test Acc : 21.24236488342285 \n",
      "\n"
     ]
    },
    {
     "name": "stderr",
     "output_type": "stream",
     "text": []
    },
    {
     "name": "stdout",
     "output_type": "stream",
     "text": [
      "Iteration : 4 \n",
      " , Train Loss : 808.5758361816406 \n",
      ", Test Acc : 36.3007698059082 \n",
      "\n"
     ]
    },
    {
     "name": "stderr",
     "output_type": "stream",
     "text": []
    },
    {
     "name": "stdout",
     "output_type": "stream",
     "text": [
      "Iteration : 6 \n",
      " , Train Loss : 624.7497253417969 \n",
      ", Test Acc : 39.54913330078125 \n",
      "\n"
     ]
    },
    {
     "name": "stderr",
     "output_type": "stream",
     "text": []
    },
    {
     "name": "stdout",
     "output_type": "stream",
     "text": [
      "Iteration : 8 \n",
      " , Train Loss : 265.7384223937988 \n",
      ", Test Acc : 42.973121643066406 \n",
      "\n"
     ]
    },
    {
     "name": "stderr",
     "output_type": "stream",
     "text": []
    },
    {
     "name": "stdout",
     "output_type": "stream",
     "text": [
      "Iteration : 10 \n",
      " , Train Loss : 265.5015125274658 \n",
      ", Test Acc : 47.086177825927734 \n",
      "\n"
     ]
    },
    {
     "name": "stderr",
     "output_type": "stream",
     "text": []
    },
    {
     "name": "stdout",
     "output_type": "stream",
     "text": [
      "Iteration : 12 \n",
      " , Train Loss : 300.68788146972656 \n",
      ", Test Acc : 51.18196487426758 \n",
      "\n"
     ]
    },
    {
     "name": "stderr",
     "output_type": "stream",
     "text": []
    },
    {
     "name": "stdout",
     "output_type": "stream",
     "text": [
      "Iteration : 14 \n",
      " , Train Loss : 160.4140625 \n",
      ", Test Acc : 58.41274642944336 \n",
      "\n"
     ]
    },
    {
     "name": "stderr",
     "output_type": "stream",
     "text": []
    },
    {
     "name": "stdout",
     "output_type": "stream",
     "text": [
      "Iteration : 16 \n",
      " , Train Loss : 145.70967483520508 \n",
      ", Test Acc : 61.160831451416016 \n",
      "\n"
     ]
    },
    {
     "name": "stderr",
     "output_type": "stream",
     "text": []
    },
    {
     "name": "stdout",
     "output_type": "stream",
     "text": [
      "Iteration : 18 \n",
      " , Train Loss : 128.52199840545654 \n",
      ", Test Acc : 55.00461959838867 \n",
      "\n"
     ]
    },
    {
     "name": "stderr",
     "output_type": "stream",
     "text": [
      "100%|██████████| 20/20 [00:12<00:00,  1.58it/s]\n",
      " 88%|████████▊ | 138/157 [19:42<03:31, 11.13s/it]"
     ]
    },
    {
     "name": "stdout",
     "output_type": "stream",
     "text": [
      "Iteration : 19 \n",
      " , Train Loss : 153.6530704498291 \n",
      ", Test Acc : 60.19498825073242 \n",
      "\n"
     ]
    },
    {
     "name": "stderr",
     "output_type": "stream",
     "text": []
    },
    {
     "name": "stdout",
     "output_type": "stream",
     "text": [
      "Iteration : 0 \n",
      " , Train Loss : 288.1863327026367 \n",
      ", Test Acc : 18.605220794677734 \n",
      "\n"
     ]
    },
    {
     "name": "stderr",
     "output_type": "stream",
     "text": []
    },
    {
     "name": "stdout",
     "output_type": "stream",
     "text": [
      "Iteration : 2 \n",
      " , Train Loss : 804.6787948608398 \n",
      ", Test Acc : 16.68047523498535 \n",
      "\n"
     ]
    },
    {
     "name": "stderr",
     "output_type": "stream",
     "text": []
    },
    {
     "name": "stdout",
     "output_type": "stream",
     "text": [
      "Iteration : 4 \n",
      " , Train Loss : 1086.8907165527344 \n",
      ", Test Acc : 16.935409545898438 \n",
      "\n"
     ]
    },
    {
     "name": "stderr",
     "output_type": "stream",
     "text": []
    },
    {
     "name": "stdout",
     "output_type": "stream",
     "text": [
      "Iteration : 6 \n",
      " , Train Loss : 981.6048126220703 \n",
      ", Test Acc : 21.824445724487305 \n",
      "\n"
     ]
    },
    {
     "name": "stderr",
     "output_type": "stream",
     "text": []
    },
    {
     "name": "stdout",
     "output_type": "stream",
     "text": [
      "Iteration : 8 \n",
      " , Train Loss : 756.6643524169922 \n",
      ", Test Acc : 25.305944442749023 \n",
      "\n"
     ]
    },
    {
     "name": "stderr",
     "output_type": "stream",
     "text": []
    },
    {
     "name": "stdout",
     "output_type": "stream",
     "text": [
      "Iteration : 10 \n",
      " , Train Loss : 622.7725219726562 \n",
      ", Test Acc : 20.56180763244629 \n",
      "\n"
     ]
    },
    {
     "name": "stderr",
     "output_type": "stream",
     "text": []
    },
    {
     "name": "stdout",
     "output_type": "stream",
     "text": [
      "Iteration : 12 \n",
      " , Train Loss : 421.58383560180664 \n",
      ", Test Acc : 36.865150451660156 \n",
      "\n"
     ]
    },
    {
     "name": "stderr",
     "output_type": "stream",
     "text": []
    },
    {
     "name": "stdout",
     "output_type": "stream",
     "text": [
      "Iteration : 14 \n",
      " , Train Loss : 251.68642807006836 \n",
      ", Test Acc : 47.28018569946289 \n",
      "\n"
     ]
    },
    {
     "name": "stderr",
     "output_type": "stream",
     "text": []
    },
    {
     "name": "stdout",
     "output_type": "stream",
     "text": [
      "Iteration : 16 \n",
      " , Train Loss : 142.0465316772461 \n",
      ", Test Acc : 47.384796142578125 \n",
      "\n"
     ]
    },
    {
     "name": "stderr",
     "output_type": "stream",
     "text": []
    },
    {
     "name": "stdout",
     "output_type": "stream",
     "text": [
      "Iteration : 18 \n",
      " , Train Loss : 269.28409004211426 \n",
      ", Test Acc : 45.13842010498047 \n",
      "\n"
     ]
    },
    {
     "name": "stderr",
     "output_type": "stream",
     "text": [
      "100%|██████████| 20/20 [00:10<00:00,  1.87it/s]\n",
      " 89%|████████▊ | 139/157 [19:53<03:18, 11.01s/it]"
     ]
    },
    {
     "name": "stdout",
     "output_type": "stream",
     "text": [
      "Iteration : 19 \n",
      " , Train Loss : 218.36524200439453 \n",
      ", Test Acc : 46.80770492553711 \n",
      "\n"
     ]
    },
    {
     "name": "stderr",
     "output_type": "stream",
     "text": []
    },
    {
     "name": "stdout",
     "output_type": "stream",
     "text": [
      "Iteration : 0 \n",
      " , Train Loss : 186.29941177368164 \n",
      ", Test Acc : 20.094696044921875 \n",
      "\n"
     ]
    },
    {
     "name": "stderr",
     "output_type": "stream",
     "text": []
    },
    {
     "name": "stdout",
     "output_type": "stream",
     "text": [
      "Iteration : 2 \n",
      " , Train Loss : 934.1261749267578 \n",
      ", Test Acc : 28.198413848876953 \n",
      "\n"
     ]
    },
    {
     "name": "stderr",
     "output_type": "stream",
     "text": []
    },
    {
     "name": "stdout",
     "output_type": "stream",
     "text": [
      "Iteration : 4 \n",
      " , Train Loss : 785.761100769043 \n",
      ", Test Acc : 34.24947738647461 \n",
      "\n"
     ]
    },
    {
     "name": "stderr",
     "output_type": "stream",
     "text": []
    },
    {
     "name": "stdout",
     "output_type": "stream",
     "text": [
      "Iteration : 6 \n",
      " , Train Loss : 502.2897262573242 \n",
      ", Test Acc : 33.55363845825195 \n",
      "\n"
     ]
    },
    {
     "name": "stderr",
     "output_type": "stream",
     "text": []
    },
    {
     "name": "stdout",
     "output_type": "stream",
     "text": [
      "Iteration : 8 \n",
      " , Train Loss : 583.7883377075195 \n",
      ", Test Acc : 30.376131057739258 \n",
      "\n"
     ]
    },
    {
     "name": "stderr",
     "output_type": "stream",
     "text": []
    },
    {
     "name": "stdout",
     "output_type": "stream",
     "text": [
      "Iteration : 10 \n",
      " , Train Loss : 417.4924011230469 \n",
      ", Test Acc : 42.18175506591797 \n",
      "\n"
     ]
    },
    {
     "name": "stderr",
     "output_type": "stream",
     "text": []
    },
    {
     "name": "stdout",
     "output_type": "stream",
     "text": [
      "Iteration : 12 \n",
      " , Train Loss : 316.13965606689453 \n",
      ", Test Acc : 48.69997024536133 \n",
      "\n"
     ]
    },
    {
     "name": "stderr",
     "output_type": "stream",
     "text": []
    },
    {
     "name": "stdout",
     "output_type": "stream",
     "text": [
      "Iteration : 14 \n",
      " , Train Loss : 222.52266311645508 \n",
      ", Test Acc : 45.84497833251953 \n",
      "\n"
     ]
    },
    {
     "name": "stderr",
     "output_type": "stream",
     "text": []
    },
    {
     "name": "stdout",
     "output_type": "stream",
     "text": [
      "Iteration : 16 \n",
      " , Train Loss : 184.0119915008545 \n",
      ", Test Acc : 51.39680862426758 \n",
      "\n"
     ]
    },
    {
     "name": "stderr",
     "output_type": "stream",
     "text": []
    },
    {
     "name": "stdout",
     "output_type": "stream",
     "text": [
      "Iteration : 18 \n",
      " , Train Loss : 164.99915504455566 \n",
      ", Test Acc : 52.40824508666992 \n",
      "\n"
     ]
    },
    {
     "name": "stderr",
     "output_type": "stream",
     "text": [
      "100%|██████████| 20/20 [00:10<00:00,  1.95it/s]\n",
      " 89%|████████▉ | 140/157 [20:03<03:03, 10.78s/it]"
     ]
    },
    {
     "name": "stdout",
     "output_type": "stream",
     "text": [
      "Iteration : 19 \n",
      " , Train Loss : 165.62328624725342 \n",
      ", Test Acc : 53.704341888427734 \n",
      "\n"
     ]
    },
    {
     "name": "stderr",
     "output_type": "stream",
     "text": []
    },
    {
     "name": "stdout",
     "output_type": "stream",
     "text": [
      "Iteration : 0 \n",
      " , Train Loss : 204.5616512298584 \n",
      ", Test Acc : 16.763967514038086 \n",
      "\n"
     ]
    },
    {
     "name": "stderr",
     "output_type": "stream",
     "text": []
    },
    {
     "name": "stdout",
     "output_type": "stream",
     "text": [
      "Iteration : 2 \n",
      " , Train Loss : 806.4373397827148 \n",
      ", Test Acc : 31.94087791442871 \n",
      "\n"
     ]
    },
    {
     "name": "stderr",
     "output_type": "stream",
     "text": []
    },
    {
     "name": "stdout",
     "output_type": "stream",
     "text": [
      "Iteration : 4 \n",
      " , Train Loss : 774.0870666503906 \n",
      ", Test Acc : 34.389225006103516 \n",
      "\n"
     ]
    },
    {
     "name": "stderr",
     "output_type": "stream",
     "text": []
    },
    {
     "name": "stdout",
     "output_type": "stream",
     "text": [
      "Iteration : 6 \n",
      " , Train Loss : 522.879638671875 \n",
      ", Test Acc : 39.03886795043945 \n",
      "\n"
     ]
    },
    {
     "name": "stderr",
     "output_type": "stream",
     "text": []
    },
    {
     "name": "stdout",
     "output_type": "stream",
     "text": [
      "Iteration : 8 \n",
      " , Train Loss : 395.12659072875977 \n",
      ", Test Acc : 53.9498405456543 \n",
      "\n"
     ]
    },
    {
     "name": "stderr",
     "output_type": "stream",
     "text": []
    },
    {
     "name": "stdout",
     "output_type": "stream",
     "text": [
      "Iteration : 10 \n",
      " , Train Loss : 224.00783348083496 \n",
      ", Test Acc : 56.46530532836914 \n",
      "\n"
     ]
    },
    {
     "name": "stderr",
     "output_type": "stream",
     "text": []
    },
    {
     "name": "stdout",
     "output_type": "stream",
     "text": [
      "Iteration : 12 \n",
      " , Train Loss : 176.48000144958496 \n",
      ", Test Acc : 53.75368881225586 \n",
      "\n"
     ]
    },
    {
     "name": "stderr",
     "output_type": "stream",
     "text": []
    },
    {
     "name": "stdout",
     "output_type": "stream",
     "text": [
      "Iteration : 14 \n",
      " , Train Loss : 192.3860149383545 \n",
      ", Test Acc : 52.88141632080078 \n",
      "\n"
     ]
    },
    {
     "name": "stderr",
     "output_type": "stream",
     "text": []
    },
    {
     "name": "stdout",
     "output_type": "stream",
     "text": [
      "Iteration : 16 \n",
      " , Train Loss : 132.64298915863037 \n",
      ", Test Acc : 60.727500915527344 \n",
      "\n"
     ]
    },
    {
     "name": "stderr",
     "output_type": "stream",
     "text": []
    },
    {
     "name": "stdout",
     "output_type": "stream",
     "text": [
      "Iteration : 18 \n",
      " , Train Loss : 113.18534564971924 \n",
      ", Test Acc : 67.58777618408203 \n",
      "\n"
     ]
    },
    {
     "name": "stderr",
     "output_type": "stream",
     "text": [
      "100%|██████████| 20/20 [00:12<00:00,  1.61it/s]\n",
      " 90%|████████▉ | 141/157 [20:16<03:00, 11.28s/it]"
     ]
    },
    {
     "name": "stdout",
     "output_type": "stream",
     "text": [
      "Iteration : 19 \n",
      " , Train Loss : 91.51108741760254 \n",
      ", Test Acc : 69.89514923095703 \n",
      "\n"
     ]
    },
    {
     "name": "stderr",
     "output_type": "stream",
     "text": []
    },
    {
     "name": "stdout",
     "output_type": "stream",
     "text": [
      "Iteration : 0 \n",
      " , Train Loss : 189.4575481414795 \n",
      ", Test Acc : 13.234698295593262 \n",
      "\n"
     ]
    },
    {
     "name": "stderr",
     "output_type": "stream",
     "text": []
    },
    {
     "name": "stdout",
     "output_type": "stream",
     "text": [
      "Iteration : 2 \n",
      " , Train Loss : 874.0905303955078 \n",
      ", Test Acc : 20.44692611694336 \n",
      "\n"
     ]
    },
    {
     "name": "stderr",
     "output_type": "stream",
     "text": []
    },
    {
     "name": "stdout",
     "output_type": "stream",
     "text": [
      "Iteration : 4 \n",
      " , Train Loss : 875.1381454467773 \n",
      ", Test Acc : 26.52153968811035 \n",
      "\n"
     ]
    },
    {
     "name": "stderr",
     "output_type": "stream",
     "text": []
    },
    {
     "name": "stdout",
     "output_type": "stream",
     "text": [
      "Iteration : 6 \n",
      " , Train Loss : 760.0718460083008 \n",
      ", Test Acc : 30.0288028717041 \n",
      "\n"
     ]
    },
    {
     "name": "stderr",
     "output_type": "stream",
     "text": []
    },
    {
     "name": "stdout",
     "output_type": "stream",
     "text": [
      "Iteration : 8 \n",
      " , Train Loss : 396.40349197387695 \n",
      ", Test Acc : 43.76677703857422 \n",
      "\n"
     ]
    },
    {
     "name": "stderr",
     "output_type": "stream",
     "text": []
    },
    {
     "name": "stdout",
     "output_type": "stream",
     "text": [
      "Iteration : 10 \n",
      " , Train Loss : 233.01827239990234 \n",
      ", Test Acc : 39.36962127685547 \n",
      "\n"
     ]
    },
    {
     "name": "stderr",
     "output_type": "stream",
     "text": []
    },
    {
     "name": "stdout",
     "output_type": "stream",
     "text": [
      "Iteration : 12 \n",
      " , Train Loss : 280.4734802246094 \n",
      ", Test Acc : 43.87017059326172 \n",
      "\n"
     ]
    },
    {
     "name": "stderr",
     "output_type": "stream",
     "text": []
    },
    {
     "name": "stdout",
     "output_type": "stream",
     "text": [
      "Iteration : 14 \n",
      " , Train Loss : 187.88849449157715 \n",
      ", Test Acc : 44.290042877197266 \n",
      "\n"
     ]
    },
    {
     "name": "stderr",
     "output_type": "stream",
     "text": []
    },
    {
     "name": "stdout",
     "output_type": "stream",
     "text": [
      "Iteration : 16 \n",
      " , Train Loss : 165.46465301513672 \n",
      ", Test Acc : 53.55077362060547 \n",
      "\n"
     ]
    },
    {
     "name": "stderr",
     "output_type": "stream",
     "text": []
    },
    {
     "name": "stdout",
     "output_type": "stream",
     "text": [
      "Iteration : 18 \n",
      " , Train Loss : 157.30066108703613 \n",
      ", Test Acc : 51.17738723754883 \n",
      "\n"
     ]
    },
    {
     "name": "stderr",
     "output_type": "stream",
     "text": [
      "100%|██████████| 20/20 [00:08<00:00,  2.47it/s]\n",
      " 90%|█████████ | 142/157 [20:24<02:34, 10.33s/it]"
     ]
    },
    {
     "name": "stdout",
     "output_type": "stream",
     "text": [
      "Iteration : 19 \n",
      " , Train Loss : 166.00902938842773 \n",
      ", Test Acc : 54.22908401489258 \n",
      "\n"
     ]
    },
    {
     "name": "stderr",
     "output_type": "stream",
     "text": []
    },
    {
     "name": "stdout",
     "output_type": "stream",
     "text": [
      "Iteration : 0 \n",
      " , Train Loss : 213.62207984924316 \n",
      ", Test Acc : 25.92757797241211 \n",
      "\n"
     ]
    },
    {
     "name": "stderr",
     "output_type": "stream",
     "text": []
    },
    {
     "name": "stdout",
     "output_type": "stream",
     "text": [
      "Iteration : 2 \n",
      " , Train Loss : 924.2103424072266 \n",
      ", Test Acc : 27.113971710205078 \n",
      "\n"
     ]
    },
    {
     "name": "stderr",
     "output_type": "stream",
     "text": []
    },
    {
     "name": "stdout",
     "output_type": "stream",
     "text": [
      "Iteration : 4 \n",
      " , Train Loss : 929.3535690307617 \n",
      ", Test Acc : 31.324954986572266 \n",
      "\n"
     ]
    },
    {
     "name": "stderr",
     "output_type": "stream",
     "text": []
    },
    {
     "name": "stdout",
     "output_type": "stream",
     "text": [
      "Iteration : 6 \n",
      " , Train Loss : 598.6134300231934 \n",
      ", Test Acc : 26.699907302856445 \n",
      "\n"
     ]
    },
    {
     "name": "stderr",
     "output_type": "stream",
     "text": []
    },
    {
     "name": "stdout",
     "output_type": "stream",
     "text": [
      "Iteration : 8 \n",
      " , Train Loss : 400.45095443725586 \n",
      ", Test Acc : 33.996219635009766 \n",
      "\n"
     ]
    },
    {
     "name": "stderr",
     "output_type": "stream",
     "text": []
    },
    {
     "name": "stdout",
     "output_type": "stream",
     "text": [
      "Iteration : 10 \n",
      " , Train Loss : 257.9326343536377 \n",
      ", Test Acc : 36.2922248840332 \n",
      "\n"
     ]
    },
    {
     "name": "stderr",
     "output_type": "stream",
     "text": []
    },
    {
     "name": "stdout",
     "output_type": "stream",
     "text": [
      "Iteration : 12 \n",
      " , Train Loss : 284.4436683654785 \n",
      ", Test Acc : 44.334285736083984 \n",
      "\n"
     ]
    },
    {
     "name": "stderr",
     "output_type": "stream",
     "text": []
    },
    {
     "name": "stdout",
     "output_type": "stream",
     "text": [
      "Iteration : 14 \n",
      " , Train Loss : 225.63700008392334 \n",
      ", Test Acc : 51.34287643432617 \n",
      "\n"
     ]
    },
    {
     "name": "stderr",
     "output_type": "stream",
     "text": []
    },
    {
     "name": "stdout",
     "output_type": "stream",
     "text": [
      "Iteration : 16 \n",
      " , Train Loss : 153.39048099517822 \n",
      ", Test Acc : 55.2724494934082 \n",
      "\n"
     ]
    },
    {
     "name": "stderr",
     "output_type": "stream",
     "text": []
    },
    {
     "name": "stdout",
     "output_type": "stream",
     "text": [
      "Iteration : 18 \n",
      " , Train Loss : 145.24326086044312 \n",
      ", Test Acc : 59.94926071166992 \n",
      "\n"
     ]
    },
    {
     "name": "stderr",
     "output_type": "stream",
     "text": [
      "100%|██████████| 20/20 [00:08<00:00,  2.48it/s]\n",
      " 91%|█████████ | 143/157 [20:32<02:15,  9.66s/it]"
     ]
    },
    {
     "name": "stdout",
     "output_type": "stream",
     "text": [
      "Iteration : 19 \n",
      " , Train Loss : 116.89477300643921 \n",
      ", Test Acc : 60.26418685913086 \n",
      "\n"
     ]
    },
    {
     "name": "stderr",
     "output_type": "stream",
     "text": []
    },
    {
     "name": "stdout",
     "output_type": "stream",
     "text": [
      "Iteration : 0 \n",
      " , Train Loss : 203.85052680969238 \n",
      ", Test Acc : 18.872636795043945 \n",
      "\n"
     ]
    },
    {
     "name": "stderr",
     "output_type": "stream",
     "text": []
    },
    {
     "name": "stdout",
     "output_type": "stream",
     "text": [
      "Iteration : 2 \n",
      " , Train Loss : 882.693000793457 \n",
      ", Test Acc : 25.424671173095703 \n",
      "\n"
     ]
    },
    {
     "name": "stderr",
     "output_type": "stream",
     "text": []
    },
    {
     "name": "stdout",
     "output_type": "stream",
     "text": [
      "Iteration : 4 \n",
      " , Train Loss : 679.0392913818359 \n",
      ", Test Acc : 31.921995162963867 \n",
      "\n"
     ]
    },
    {
     "name": "stderr",
     "output_type": "stream",
     "text": []
    },
    {
     "name": "stdout",
     "output_type": "stream",
     "text": [
      "Iteration : 6 \n",
      " , Train Loss : 494.5351142883301 \n",
      ", Test Acc : 34.548828125 \n",
      "\n"
     ]
    },
    {
     "name": "stderr",
     "output_type": "stream",
     "text": []
    },
    {
     "name": "stdout",
     "output_type": "stream",
     "text": [
      "Iteration : 8 \n",
      " , Train Loss : 467.61449813842773 \n",
      ", Test Acc : 40.69370651245117 \n",
      "\n"
     ]
    },
    {
     "name": "stderr",
     "output_type": "stream",
     "text": []
    },
    {
     "name": "stdout",
     "output_type": "stream",
     "text": [
      "Iteration : 10 \n",
      " , Train Loss : 216.47348594665527 \n",
      ", Test Acc : 62.648597717285156 \n",
      "\n"
     ]
    },
    {
     "name": "stderr",
     "output_type": "stream",
     "text": []
    },
    {
     "name": "stdout",
     "output_type": "stream",
     "text": [
      "Iteration : 12 \n",
      " , Train Loss : 143.34116411209106 \n",
      ", Test Acc : 60.88151168823242 \n",
      "\n"
     ]
    },
    {
     "name": "stderr",
     "output_type": "stream",
     "text": []
    },
    {
     "name": "stdout",
     "output_type": "stream",
     "text": [
      "Iteration : 14 \n",
      " , Train Loss : 214.99735260009766 \n",
      ", Test Acc : 57.86083984375 \n",
      "\n"
     ]
    },
    {
     "name": "stderr",
     "output_type": "stream",
     "text": []
    },
    {
     "name": "stdout",
     "output_type": "stream",
     "text": [
      "Iteration : 16 \n",
      " , Train Loss : 234.71572589874268 \n",
      ", Test Acc : 63.56502914428711 \n",
      "\n"
     ]
    },
    {
     "name": "stderr",
     "output_type": "stream",
     "text": []
    },
    {
     "name": "stdout",
     "output_type": "stream",
     "text": [
      "Iteration : 18 \n",
      " , Train Loss : 153.8074436187744 \n",
      ", Test Acc : 65.95470428466797 \n",
      "\n"
     ]
    },
    {
     "name": "stderr",
     "output_type": "stream",
     "text": [
      "100%|██████████| 20/20 [00:10<00:00,  1.97it/s]\n",
      " 92%|█████████▏| 144/157 [20:42<02:07,  9.81s/it]"
     ]
    },
    {
     "name": "stdout",
     "output_type": "stream",
     "text": [
      "Iteration : 19 \n",
      " , Train Loss : 142.1413803100586 \n",
      ", Test Acc : 65.87287902832031 \n",
      "\n"
     ]
    },
    {
     "name": "stderr",
     "output_type": "stream",
     "text": []
    },
    {
     "name": "stdout",
     "output_type": "stream",
     "text": [
      "Iteration : 0 \n",
      " , Train Loss : 213.4193515777588 \n",
      ", Test Acc : 18.212209701538086 \n",
      "\n"
     ]
    },
    {
     "name": "stderr",
     "output_type": "stream",
     "text": []
    },
    {
     "name": "stdout",
     "output_type": "stream",
     "text": [
      "Iteration : 2 \n",
      " , Train Loss : 809.8523635864258 \n",
      ", Test Acc : 26.150630950927734 \n",
      "\n"
     ]
    },
    {
     "name": "stderr",
     "output_type": "stream",
     "text": []
    },
    {
     "name": "stdout",
     "output_type": "stream",
     "text": [
      "Iteration : 4 \n",
      " , Train Loss : 990.7380676269531 \n",
      ", Test Acc : 26.594802856445312 \n",
      "\n"
     ]
    },
    {
     "name": "stderr",
     "output_type": "stream",
     "text": []
    },
    {
     "name": "stdout",
     "output_type": "stream",
     "text": [
      "Iteration : 6 \n",
      " , Train Loss : 733.5455093383789 \n",
      ", Test Acc : 36.15192794799805 \n",
      "\n"
     ]
    },
    {
     "name": "stderr",
     "output_type": "stream",
     "text": []
    },
    {
     "name": "stdout",
     "output_type": "stream",
     "text": [
      "Iteration : 8 \n",
      " , Train Loss : 276.481201171875 \n",
      ", Test Acc : 40.57608413696289 \n",
      "\n"
     ]
    },
    {
     "name": "stderr",
     "output_type": "stream",
     "text": []
    },
    {
     "name": "stdout",
     "output_type": "stream",
     "text": [
      "Iteration : 10 \n",
      " , Train Loss : 296.1812915802002 \n",
      ", Test Acc : 37.3870849609375 \n",
      "\n"
     ]
    },
    {
     "name": "stderr",
     "output_type": "stream",
     "text": []
    },
    {
     "name": "stdout",
     "output_type": "stream",
     "text": [
      "Iteration : 12 \n",
      " , Train Loss : 285.0295639038086 \n",
      ", Test Acc : 46.240840911865234 \n",
      "\n"
     ]
    },
    {
     "name": "stderr",
     "output_type": "stream",
     "text": []
    },
    {
     "name": "stdout",
     "output_type": "stream",
     "text": [
      "Iteration : 14 \n",
      " , Train Loss : 203.04059600830078 \n",
      ", Test Acc : 51.992183685302734 \n",
      "\n"
     ]
    },
    {
     "name": "stderr",
     "output_type": "stream",
     "text": []
    },
    {
     "name": "stdout",
     "output_type": "stream",
     "text": [
      "Iteration : 16 \n",
      " , Train Loss : 181.95673274993896 \n",
      ", Test Acc : 57.54735565185547 \n",
      "\n"
     ]
    },
    {
     "name": "stderr",
     "output_type": "stream",
     "text": []
    },
    {
     "name": "stdout",
     "output_type": "stream",
     "text": [
      "Iteration : 18 \n",
      " , Train Loss : 152.09382390975952 \n",
      ", Test Acc : 62.904136657714844 \n",
      "\n"
     ]
    },
    {
     "name": "stderr",
     "output_type": "stream",
     "text": [
      "100%|██████████| 20/20 [00:08<00:00,  2.49it/s]\n",
      " 92%|█████████▏| 145/157 [20:50<01:51,  9.28s/it]"
     ]
    },
    {
     "name": "stdout",
     "output_type": "stream",
     "text": [
      "Iteration : 19 \n",
      " , Train Loss : 126.14948558807373 \n",
      ", Test Acc : 61.206661224365234 \n",
      "\n"
     ]
    },
    {
     "name": "stderr",
     "output_type": "stream",
     "text": []
    },
    {
     "name": "stdout",
     "output_type": "stream",
     "text": [
      "Iteration : 0 \n",
      " , Train Loss : 200.65490913391113 \n",
      ", Test Acc : 18.549779891967773 \n",
      "\n"
     ]
    },
    {
     "name": "stderr",
     "output_type": "stream",
     "text": []
    },
    {
     "name": "stdout",
     "output_type": "stream",
     "text": [
      "Iteration : 2 \n",
      " , Train Loss : 709.0695724487305 \n",
      ", Test Acc : 32.42438888549805 \n",
      "\n"
     ]
    },
    {
     "name": "stderr",
     "output_type": "stream",
     "text": []
    },
    {
     "name": "stdout",
     "output_type": "stream",
     "text": [
      "Iteration : 4 \n",
      " , Train Loss : 993.8958053588867 \n",
      ", Test Acc : 39.73317337036133 \n",
      "\n"
     ]
    },
    {
     "name": "stderr",
     "output_type": "stream",
     "text": []
    },
    {
     "name": "stdout",
     "output_type": "stream",
     "text": [
      "Iteration : 6 \n",
      " , Train Loss : 835.4227523803711 \n",
      ", Test Acc : 45.63502883911133 \n",
      "\n"
     ]
    },
    {
     "name": "stderr",
     "output_type": "stream",
     "text": []
    },
    {
     "name": "stdout",
     "output_type": "stream",
     "text": [
      "Iteration : 8 \n",
      " , Train Loss : 557.0221099853516 \n",
      ", Test Acc : 43.294044494628906 \n",
      "\n"
     ]
    },
    {
     "name": "stderr",
     "output_type": "stream",
     "text": []
    },
    {
     "name": "stdout",
     "output_type": "stream",
     "text": [
      "Iteration : 10 \n",
      " , Train Loss : 237.55383491516113 \n",
      ", Test Acc : 50.69919204711914 \n",
      "\n"
     ]
    },
    {
     "name": "stderr",
     "output_type": "stream",
     "text": []
    },
    {
     "name": "stdout",
     "output_type": "stream",
     "text": [
      "Iteration : 12 \n",
      " , Train Loss : 221.68402671813965 \n",
      ", Test Acc : 48.25913619995117 \n",
      "\n"
     ]
    },
    {
     "name": "stderr",
     "output_type": "stream",
     "text": []
    },
    {
     "name": "stdout",
     "output_type": "stream",
     "text": [
      "Iteration : 14 \n",
      " , Train Loss : 180.19915390014648 \n",
      ", Test Acc : 48.458763122558594 \n",
      "\n"
     ]
    },
    {
     "name": "stderr",
     "output_type": "stream",
     "text": []
    },
    {
     "name": "stdout",
     "output_type": "stream",
     "text": [
      "Iteration : 16 \n",
      " , Train Loss : 192.03654956817627 \n",
      ", Test Acc : 51.925636291503906 \n",
      "\n"
     ]
    },
    {
     "name": "stderr",
     "output_type": "stream",
     "text": []
    },
    {
     "name": "stdout",
     "output_type": "stream",
     "text": [
      "Iteration : 18 \n",
      " , Train Loss : 131.207510471344 \n",
      ", Test Acc : 63.86205291748047 \n",
      "\n"
     ]
    },
    {
     "name": "stderr",
     "output_type": "stream",
     "text": [
      "100%|██████████| 20/20 [00:10<00:00,  2.00it/s]\n",
      " 93%|█████████▎| 146/157 [21:00<01:44,  9.50s/it]"
     ]
    },
    {
     "name": "stdout",
     "output_type": "stream",
     "text": [
      "Iteration : 19 \n",
      " , Train Loss : 98.60366249084473 \n",
      ", Test Acc : 66.15897369384766 \n",
      "\n"
     ]
    },
    {
     "name": "stderr",
     "output_type": "stream",
     "text": []
    },
    {
     "name": "stdout",
     "output_type": "stream",
     "text": [
      "Iteration : 0 \n",
      " , Train Loss : 230.32061767578125 \n",
      ", Test Acc : 17.05088233947754 \n",
      "\n"
     ]
    },
    {
     "name": "stderr",
     "output_type": "stream",
     "text": []
    },
    {
     "name": "stdout",
     "output_type": "stream",
     "text": [
      "Iteration : 2 \n",
      " , Train Loss : 764.9552612304688 \n",
      ", Test Acc : 27.114105224609375 \n",
      "\n"
     ]
    },
    {
     "name": "stderr",
     "output_type": "stream",
     "text": []
    },
    {
     "name": "stdout",
     "output_type": "stream",
     "text": [
      "Iteration : 4 \n",
      " , Train Loss : 979.557014465332 \n",
      ", Test Acc : 29.66404914855957 \n",
      "\n"
     ]
    },
    {
     "name": "stderr",
     "output_type": "stream",
     "text": []
    },
    {
     "name": "stdout",
     "output_type": "stream",
     "text": [
      "Iteration : 6 \n",
      " , Train Loss : 579.1430511474609 \n",
      ", Test Acc : 38.76201248168945 \n",
      "\n"
     ]
    },
    {
     "name": "stderr",
     "output_type": "stream",
     "text": []
    },
    {
     "name": "stdout",
     "output_type": "stream",
     "text": [
      "Iteration : 8 \n",
      " , Train Loss : 523.6284332275391 \n",
      ", Test Acc : 36.72863006591797 \n",
      "\n"
     ]
    },
    {
     "name": "stderr",
     "output_type": "stream",
     "text": []
    },
    {
     "name": "stdout",
     "output_type": "stream",
     "text": [
      "Iteration : 10 \n",
      " , Train Loss : 447.9797592163086 \n",
      ", Test Acc : 54.024070739746094 \n",
      "\n"
     ]
    },
    {
     "name": "stderr",
     "output_type": "stream",
     "text": []
    },
    {
     "name": "stdout",
     "output_type": "stream",
     "text": [
      "Iteration : 12 \n",
      " , Train Loss : 325.9968910217285 \n",
      ", Test Acc : 53.76907730102539 \n",
      "\n"
     ]
    },
    {
     "name": "stderr",
     "output_type": "stream",
     "text": []
    },
    {
     "name": "stdout",
     "output_type": "stream",
     "text": [
      "Iteration : 14 \n",
      " , Train Loss : 216.88300895690918 \n",
      ", Test Acc : 52.08086395263672 \n",
      "\n"
     ]
    },
    {
     "name": "stderr",
     "output_type": "stream",
     "text": []
    },
    {
     "name": "stdout",
     "output_type": "stream",
     "text": [
      "Iteration : 16 \n",
      " , Train Loss : 188.96403408050537 \n",
      ", Test Acc : 55.27070999145508 \n",
      "\n"
     ]
    },
    {
     "name": "stderr",
     "output_type": "stream",
     "text": []
    },
    {
     "name": "stdout",
     "output_type": "stream",
     "text": [
      "Iteration : 18 \n",
      " , Train Loss : 186.4974718093872 \n",
      ", Test Acc : 52.35198211669922 \n",
      "\n"
     ]
    },
    {
     "name": "stderr",
     "output_type": "stream",
     "text": [
      "100%|██████████| 20/20 [00:07<00:00,  2.55it/s]\n",
      " 94%|█████████▎| 147/157 [21:08<01:30,  9.01s/it]"
     ]
    },
    {
     "name": "stdout",
     "output_type": "stream",
     "text": [
      "Iteration : 19 \n",
      " , Train Loss : 162.85427808761597 \n",
      ", Test Acc : 57.571353912353516 \n",
      "\n"
     ]
    },
    {
     "name": "stderr",
     "output_type": "stream",
     "text": []
    },
    {
     "name": "stdout",
     "output_type": "stream",
     "text": [
      "Iteration : 0 \n",
      " , Train Loss : 180.43095016479492 \n",
      ", Test Acc : 19.957477569580078 \n",
      "\n"
     ]
    },
    {
     "name": "stderr",
     "output_type": "stream",
     "text": []
    },
    {
     "name": "stdout",
     "output_type": "stream",
     "text": [
      "Iteration : 2 \n",
      " , Train Loss : 708.7191696166992 \n",
      ", Test Acc : 29.56154441833496 \n",
      "\n"
     ]
    },
    {
     "name": "stderr",
     "output_type": "stream",
     "text": []
    },
    {
     "name": "stdout",
     "output_type": "stream",
     "text": [
      "Iteration : 4 \n",
      " , Train Loss : 838.5902404785156 \n",
      ", Test Acc : 38.87237548828125 \n",
      "\n"
     ]
    },
    {
     "name": "stderr",
     "output_type": "stream",
     "text": []
    },
    {
     "name": "stdout",
     "output_type": "stream",
     "text": [
      "Iteration : 6 \n",
      " , Train Loss : 774.7065124511719 \n",
      ", Test Acc : 41.01747512817383 \n",
      "\n"
     ]
    },
    {
     "name": "stderr",
     "output_type": "stream",
     "text": []
    },
    {
     "name": "stdout",
     "output_type": "stream",
     "text": [
      "Iteration : 8 \n",
      " , Train Loss : 424.3382568359375 \n",
      ", Test Acc : 54.63248825073242 \n",
      "\n"
     ]
    },
    {
     "name": "stderr",
     "output_type": "stream",
     "text": []
    },
    {
     "name": "stdout",
     "output_type": "stream",
     "text": [
      "Iteration : 10 \n",
      " , Train Loss : 189.82458114624023 \n",
      ", Test Acc : 55.375022888183594 \n",
      "\n"
     ]
    },
    {
     "name": "stderr",
     "output_type": "stream",
     "text": []
    },
    {
     "name": "stdout",
     "output_type": "stream",
     "text": [
      "Iteration : 12 \n",
      " , Train Loss : 168.03245067596436 \n",
      ", Test Acc : 50.26951217651367 \n",
      "\n"
     ]
    },
    {
     "name": "stderr",
     "output_type": "stream",
     "text": []
    },
    {
     "name": "stdout",
     "output_type": "stream",
     "text": [
      "Iteration : 14 \n",
      " , Train Loss : 218.85799598693848 \n",
      ", Test Acc : 46.959983825683594 \n",
      "\n"
     ]
    },
    {
     "name": "stderr",
     "output_type": "stream",
     "text": []
    },
    {
     "name": "stdout",
     "output_type": "stream",
     "text": [
      "Iteration : 16 \n",
      " , Train Loss : 158.93432331085205 \n",
      ", Test Acc : 60.03833770751953 \n",
      "\n"
     ]
    },
    {
     "name": "stderr",
     "output_type": "stream",
     "text": []
    },
    {
     "name": "stdout",
     "output_type": "stream",
     "text": [
      "Iteration : 18 \n",
      " , Train Loss : 80.60480308532715 \n",
      ", Test Acc : 67.57498931884766 \n",
      "\n"
     ]
    },
    {
     "name": "stderr",
     "output_type": "stream",
     "text": [
      "100%|██████████| 20/20 [00:10<00:00,  1.92it/s]\n",
      " 94%|█████████▍| 148/157 [21:18<01:24,  9.44s/it]"
     ]
    },
    {
     "name": "stdout",
     "output_type": "stream",
     "text": [
      "Iteration : 19 \n",
      " , Train Loss : 86.46810150146484 \n",
      ", Test Acc : 64.87397766113281 \n",
      "\n"
     ]
    },
    {
     "name": "stderr",
     "output_type": "stream",
     "text": []
    },
    {
     "name": "stdout",
     "output_type": "stream",
     "text": [
      "Iteration : 0 \n",
      " , Train Loss : 201.49859809875488 \n",
      ", Test Acc : 19.891530990600586 \n",
      "\n"
     ]
    },
    {
     "name": "stderr",
     "output_type": "stream",
     "text": []
    },
    {
     "name": "stdout",
     "output_type": "stream",
     "text": [
      "Iteration : 2 \n",
      " , Train Loss : 710.722770690918 \n",
      ", Test Acc : 26.490915298461914 \n",
      "\n"
     ]
    },
    {
     "name": "stderr",
     "output_type": "stream",
     "text": []
    },
    {
     "name": "stdout",
     "output_type": "stream",
     "text": [
      "Iteration : 4 \n",
      " , Train Loss : 858.8246307373047 \n",
      ", Test Acc : 21.86336326599121 \n",
      "\n"
     ]
    },
    {
     "name": "stderr",
     "output_type": "stream",
     "text": []
    },
    {
     "name": "stdout",
     "output_type": "stream",
     "text": [
      "Iteration : 6 \n",
      " , Train Loss : 472.50976181030273 \n",
      ", Test Acc : 35.09452438354492 \n",
      "\n"
     ]
    },
    {
     "name": "stderr",
     "output_type": "stream",
     "text": []
    },
    {
     "name": "stdout",
     "output_type": "stream",
     "text": [
      "Iteration : 8 \n",
      " , Train Loss : 397.45938873291016 \n",
      ", Test Acc : 39.58013153076172 \n",
      "\n"
     ]
    },
    {
     "name": "stderr",
     "output_type": "stream",
     "text": []
    },
    {
     "name": "stdout",
     "output_type": "stream",
     "text": [
      "Iteration : 10 \n",
      " , Train Loss : 292.04364013671875 \n",
      ", Test Acc : 46.699337005615234 \n",
      "\n"
     ]
    },
    {
     "name": "stderr",
     "output_type": "stream",
     "text": []
    },
    {
     "name": "stdout",
     "output_type": "stream",
     "text": [
      "Iteration : 12 \n",
      " , Train Loss : 266.984263420105 \n",
      ", Test Acc : 54.17815399169922 \n",
      "\n"
     ]
    },
    {
     "name": "stderr",
     "output_type": "stream",
     "text": []
    },
    {
     "name": "stdout",
     "output_type": "stream",
     "text": [
      "Iteration : 14 \n",
      " , Train Loss : 217.50013542175293 \n",
      ", Test Acc : 57.03799819946289 \n",
      "\n"
     ]
    },
    {
     "name": "stderr",
     "output_type": "stream",
     "text": []
    },
    {
     "name": "stdout",
     "output_type": "stream",
     "text": [
      "Iteration : 16 \n",
      " , Train Loss : 239.38546085357666 \n",
      ", Test Acc : 57.41838455200195 \n",
      "\n"
     ]
    },
    {
     "name": "stderr",
     "output_type": "stream",
     "text": []
    },
    {
     "name": "stdout",
     "output_type": "stream",
     "text": [
      "Iteration : 18 \n",
      " , Train Loss : 203.18240642547607 \n",
      ", Test Acc : 62.08799362182617 \n",
      "\n"
     ]
    },
    {
     "name": "stderr",
     "output_type": "stream",
     "text": [
      "100%|██████████| 20/20 [00:08<00:00,  2.41it/s]\n",
      " 95%|█████████▍| 149/157 [21:27<01:12,  9.11s/it]"
     ]
    },
    {
     "name": "stdout",
     "output_type": "stream",
     "text": [
      "Iteration : 19 \n",
      " , Train Loss : 196.33725547790527 \n",
      ", Test Acc : 62.219825744628906 \n",
      "\n"
     ]
    },
    {
     "name": "stderr",
     "output_type": "stream",
     "text": []
    },
    {
     "name": "stdout",
     "output_type": "stream",
     "text": [
      "Iteration : 0 \n",
      " , Train Loss : 160.46939659118652 \n",
      ", Test Acc : 21.511825561523438 \n",
      "\n"
     ]
    },
    {
     "name": "stderr",
     "output_type": "stream",
     "text": []
    },
    {
     "name": "stdout",
     "output_type": "stream",
     "text": [
      "Iteration : 2 \n",
      " , Train Loss : 780.7166366577148 \n",
      ", Test Acc : 21.617267608642578 \n",
      "\n"
     ]
    },
    {
     "name": "stderr",
     "output_type": "stream",
     "text": []
    },
    {
     "name": "stdout",
     "output_type": "stream",
     "text": [
      "Iteration : 4 \n",
      " , Train Loss : 656.727912902832 \n",
      ", Test Acc : 40.7127799987793 \n",
      "\n"
     ]
    },
    {
     "name": "stderr",
     "output_type": "stream",
     "text": []
    },
    {
     "name": "stdout",
     "output_type": "stream",
     "text": [
      "Iteration : 6 \n",
      " , Train Loss : 573.7634963989258 \n",
      ", Test Acc : 43.23798370361328 \n",
      "\n"
     ]
    },
    {
     "name": "stderr",
     "output_type": "stream",
     "text": []
    },
    {
     "name": "stdout",
     "output_type": "stream",
     "text": [
      "Iteration : 8 \n",
      " , Train Loss : 286.4520835876465 \n",
      ", Test Acc : 46.15842819213867 \n",
      "\n"
     ]
    },
    {
     "name": "stderr",
     "output_type": "stream",
     "text": []
    },
    {
     "name": "stdout",
     "output_type": "stream",
     "text": [
      "Iteration : 10 \n",
      " , Train Loss : 208.85830116271973 \n",
      ", Test Acc : 51.47447967529297 \n",
      "\n"
     ]
    },
    {
     "name": "stderr",
     "output_type": "stream",
     "text": []
    },
    {
     "name": "stdout",
     "output_type": "stream",
     "text": [
      "Iteration : 12 \n",
      " , Train Loss : 227.1400327682495 \n",
      ", Test Acc : 55.50736618041992 \n",
      "\n"
     ]
    },
    {
     "name": "stderr",
     "output_type": "stream",
     "text": []
    },
    {
     "name": "stdout",
     "output_type": "stream",
     "text": [
      "Iteration : 14 \n",
      " , Train Loss : 184.07149600982666 \n",
      ", Test Acc : 60.95183563232422 \n",
      "\n"
     ]
    },
    {
     "name": "stderr",
     "output_type": "stream",
     "text": []
    },
    {
     "name": "stdout",
     "output_type": "stream",
     "text": [
      "Iteration : 16 \n",
      " , Train Loss : 180.54533195495605 \n",
      ", Test Acc : 60.6904296875 \n",
      "\n"
     ]
    },
    {
     "name": "stderr",
     "output_type": "stream",
     "text": []
    },
    {
     "name": "stdout",
     "output_type": "stream",
     "text": [
      "Iteration : 18 \n",
      " , Train Loss : 160.65502071380615 \n",
      ", Test Acc : 64.97035217285156 \n",
      "\n"
     ]
    },
    {
     "name": "stderr",
     "output_type": "stream",
     "text": [
      "100%|██████████| 20/20 [00:10<00:00,  1.92it/s]\n",
      " 96%|█████████▌| 150/157 [21:37<01:06,  9.51s/it]"
     ]
    },
    {
     "name": "stdout",
     "output_type": "stream",
     "text": [
      "Iteration : 19 \n",
      " , Train Loss : 166.23470211029053 \n",
      ", Test Acc : 66.41614532470703 \n",
      "\n"
     ]
    },
    {
     "name": "stderr",
     "output_type": "stream",
     "text": []
    },
    {
     "name": "stdout",
     "output_type": "stream",
     "text": [
      "Iteration : 0 \n",
      " , Train Loss : 214.7116527557373 \n",
      ", Test Acc : 21.03859519958496 \n",
      "\n"
     ]
    },
    {
     "name": "stderr",
     "output_type": "stream",
     "text": []
    },
    {
     "name": "stdout",
     "output_type": "stream",
     "text": [
      "Iteration : 2 \n",
      " , Train Loss : 581.2442321777344 \n",
      ", Test Acc : 22.916711807250977 \n",
      "\n"
     ]
    },
    {
     "name": "stderr",
     "output_type": "stream",
     "text": []
    },
    {
     "name": "stdout",
     "output_type": "stream",
     "text": [
      "Iteration : 4 \n",
      " , Train Loss : 777.6450653076172 \n",
      ", Test Acc : 28.238779067993164 \n",
      "\n"
     ]
    },
    {
     "name": "stderr",
     "output_type": "stream",
     "text": []
    },
    {
     "name": "stdout",
     "output_type": "stream",
     "text": [
      "Iteration : 6 \n",
      " , Train Loss : 770.3158493041992 \n",
      ", Test Acc : 32.08629608154297 \n",
      "\n"
     ]
    },
    {
     "name": "stderr",
     "output_type": "stream",
     "text": []
    },
    {
     "name": "stdout",
     "output_type": "stream",
     "text": [
      "Iteration : 8 \n",
      " , Train Loss : 518.183349609375 \n",
      ", Test Acc : 22.61057472229004 \n",
      "\n"
     ]
    },
    {
     "name": "stderr",
     "output_type": "stream",
     "text": []
    },
    {
     "name": "stdout",
     "output_type": "stream",
     "text": [
      "Iteration : 10 \n",
      " , Train Loss : 489.6668815612793 \n",
      ", Test Acc : 43.61494827270508 \n",
      "\n"
     ]
    },
    {
     "name": "stderr",
     "output_type": "stream",
     "text": []
    },
    {
     "name": "stdout",
     "output_type": "stream",
     "text": [
      "Iteration : 12 \n",
      " , Train Loss : 259.9517660140991 \n",
      ", Test Acc : 49.10341262817383 \n",
      "\n"
     ]
    },
    {
     "name": "stderr",
     "output_type": "stream",
     "text": []
    },
    {
     "name": "stdout",
     "output_type": "stream",
     "text": [
      "Iteration : 14 \n",
      " , Train Loss : 261.46868896484375 \n",
      ", Test Acc : 52.15486526489258 \n",
      "\n"
     ]
    },
    {
     "name": "stderr",
     "output_type": "stream",
     "text": []
    },
    {
     "name": "stdout",
     "output_type": "stream",
     "text": [
      "Iteration : 16 \n",
      " , Train Loss : 260.937780380249 \n",
      ", Test Acc : 51.04540252685547 \n",
      "\n"
     ]
    },
    {
     "name": "stderr",
     "output_type": "stream",
     "text": []
    },
    {
     "name": "stdout",
     "output_type": "stream",
     "text": [
      "Iteration : 18 \n",
      " , Train Loss : 201.29676628112793 \n",
      ", Test Acc : 58.8880615234375 \n",
      "\n"
     ]
    },
    {
     "name": "stderr",
     "output_type": "stream",
     "text": [
      "100%|██████████| 20/20 [00:08<00:00,  2.36it/s]\n",
      " 96%|█████████▌| 151/157 [21:46<00:55,  9.20s/it]"
     ]
    },
    {
     "name": "stdout",
     "output_type": "stream",
     "text": [
      "Iteration : 19 \n",
      " , Train Loss : 160.7484188079834 \n",
      ", Test Acc : 60.51809310913086 \n",
      "\n"
     ]
    },
    {
     "name": "stderr",
     "output_type": "stream",
     "text": []
    },
    {
     "name": "stdout",
     "output_type": "stream",
     "text": [
      "Iteration : 0 \n",
      " , Train Loss : 183.74995613098145 \n",
      ", Test Acc : 24.79825782775879 \n",
      "\n"
     ]
    },
    {
     "name": "stderr",
     "output_type": "stream",
     "text": []
    },
    {
     "name": "stdout",
     "output_type": "stream",
     "text": [
      "Iteration : 2 \n",
      " , Train Loss : 746.9255676269531 \n",
      ", Test Acc : 29.164443969726562 \n",
      "\n"
     ]
    },
    {
     "name": "stderr",
     "output_type": "stream",
     "text": []
    },
    {
     "name": "stdout",
     "output_type": "stream",
     "text": [
      "Iteration : 4 \n",
      " , Train Loss : 930.4428482055664 \n",
      ", Test Acc : 35.329002380371094 \n",
      "\n"
     ]
    },
    {
     "name": "stderr",
     "output_type": "stream",
     "text": []
    },
    {
     "name": "stdout",
     "output_type": "stream",
     "text": [
      "Iteration : 6 \n",
      " , Train Loss : 715.8092346191406 \n",
      ", Test Acc : 45.392635345458984 \n",
      "\n"
     ]
    },
    {
     "name": "stderr",
     "output_type": "stream",
     "text": []
    },
    {
     "name": "stdout",
     "output_type": "stream",
     "text": [
      "Iteration : 8 \n",
      " , Train Loss : 452.56515884399414 \n",
      ", Test Acc : 43.74048614501953 \n",
      "\n"
     ]
    },
    {
     "name": "stderr",
     "output_type": "stream",
     "text": []
    },
    {
     "name": "stdout",
     "output_type": "stream",
     "text": [
      "Iteration : 10 \n",
      " , Train Loss : 225.33332538604736 \n",
      ", Test Acc : 50.835105895996094 \n",
      "\n"
     ]
    },
    {
     "name": "stderr",
     "output_type": "stream",
     "text": []
    },
    {
     "name": "stdout",
     "output_type": "stream",
     "text": [
      "Iteration : 12 \n",
      " , Train Loss : 223.62302017211914 \n",
      ", Test Acc : 43.986419677734375 \n",
      "\n"
     ]
    },
    {
     "name": "stderr",
     "output_type": "stream",
     "text": []
    },
    {
     "name": "stdout",
     "output_type": "stream",
     "text": [
      "Iteration : 14 \n",
      " , Train Loss : 248.6630687713623 \n",
      ", Test Acc : 48.39488983154297 \n",
      "\n"
     ]
    },
    {
     "name": "stderr",
     "output_type": "stream",
     "text": []
    },
    {
     "name": "stdout",
     "output_type": "stream",
     "text": [
      "Iteration : 16 \n",
      " , Train Loss : 138.69100046157837 \n",
      ", Test Acc : 63.2168083190918 \n",
      "\n"
     ]
    },
    {
     "name": "stderr",
     "output_type": "stream",
     "text": []
    },
    {
     "name": "stdout",
     "output_type": "stream",
     "text": [
      "Iteration : 18 \n",
      " , Train Loss : 153.45112228393555 \n",
      ", Test Acc : 61.052215576171875 \n",
      "\n"
     ]
    },
    {
     "name": "stderr",
     "output_type": "stream",
     "text": [
      "100%|██████████| 20/20 [00:10<00:00,  1.95it/s]\n",
      " 97%|█████████▋| 152/157 [21:56<00:47,  9.52s/it]"
     ]
    },
    {
     "name": "stdout",
     "output_type": "stream",
     "text": [
      "Iteration : 19 \n",
      " , Train Loss : 151.79318237304688 \n",
      ", Test Acc : 61.40635299682617 \n",
      "\n"
     ]
    },
    {
     "name": "stderr",
     "output_type": "stream",
     "text": []
    },
    {
     "name": "stdout",
     "output_type": "stream",
     "text": [
      "Iteration : 0 \n",
      " , Train Loss : 235.95387649536133 \n",
      ", Test Acc : 15.14441204071045 \n",
      "\n"
     ]
    },
    {
     "name": "stderr",
     "output_type": "stream",
     "text": []
    },
    {
     "name": "stdout",
     "output_type": "stream",
     "text": [
      "Iteration : 2 \n",
      " , Train Loss : 598.5722274780273 \n",
      ", Test Acc : 21.512802124023438 \n",
      "\n"
     ]
    },
    {
     "name": "stderr",
     "output_type": "stream",
     "text": []
    },
    {
     "name": "stdout",
     "output_type": "stream",
     "text": [
      "Iteration : 4 \n",
      " , Train Loss : 1042.1957092285156 \n",
      ", Test Acc : 20.270986557006836 \n",
      "\n"
     ]
    },
    {
     "name": "stderr",
     "output_type": "stream",
     "text": []
    },
    {
     "name": "stdout",
     "output_type": "stream",
     "text": [
      "Iteration : 6 \n",
      " , Train Loss : 853.8827514648438 \n",
      ", Test Acc : 26.15062141418457 \n",
      "\n"
     ]
    },
    {
     "name": "stderr",
     "output_type": "stream",
     "text": []
    },
    {
     "name": "stdout",
     "output_type": "stream",
     "text": [
      "Iteration : 8 \n",
      " , Train Loss : 480.7570915222168 \n",
      ", Test Acc : 30.788850784301758 \n",
      "\n"
     ]
    },
    {
     "name": "stderr",
     "output_type": "stream",
     "text": []
    },
    {
     "name": "stdout",
     "output_type": "stream",
     "text": [
      "Iteration : 10 \n",
      " , Train Loss : 417.79210090637207 \n",
      ", Test Acc : 42.5770149230957 \n",
      "\n"
     ]
    },
    {
     "name": "stderr",
     "output_type": "stream",
     "text": []
    },
    {
     "name": "stdout",
     "output_type": "stream",
     "text": [
      "Iteration : 12 \n",
      " , Train Loss : 373.50671005249023 \n",
      ", Test Acc : 39.769927978515625 \n",
      "\n"
     ]
    },
    {
     "name": "stderr",
     "output_type": "stream",
     "text": []
    },
    {
     "name": "stdout",
     "output_type": "stream",
     "text": [
      "Iteration : 14 \n",
      " , Train Loss : 271.9780502319336 \n",
      ", Test Acc : 48.4898567199707 \n",
      "\n"
     ]
    },
    {
     "name": "stderr",
     "output_type": "stream",
     "text": []
    },
    {
     "name": "stdout",
     "output_type": "stream",
     "text": [
      "Iteration : 16 \n",
      " , Train Loss : 210.2896375656128 \n",
      ", Test Acc : 55.51431655883789 \n",
      "\n"
     ]
    },
    {
     "name": "stderr",
     "output_type": "stream",
     "text": []
    },
    {
     "name": "stdout",
     "output_type": "stream",
     "text": [
      "Iteration : 18 \n",
      " , Train Loss : 167.74244213104248 \n",
      ", Test Acc : 54.02680587768555 \n",
      "\n"
     ]
    },
    {
     "name": "stderr",
     "output_type": "stream",
     "text": [
      "100%|██████████| 20/20 [00:12<00:00,  1.60it/s]\n",
      " 97%|█████████▋| 153/157 [22:08<00:41, 10.41s/it]"
     ]
    },
    {
     "name": "stdout",
     "output_type": "stream",
     "text": [
      "Iteration : 19 \n",
      " , Train Loss : 179.34891986846924 \n",
      ", Test Acc : 53.75571823120117 \n",
      "\n"
     ]
    },
    {
     "name": "stderr",
     "output_type": "stream",
     "text": []
    },
    {
     "name": "stdout",
     "output_type": "stream",
     "text": [
      "Iteration : 0 \n",
      " , Train Loss : 185.343412399292 \n",
      ", Test Acc : 18.917585372924805 \n",
      "\n"
     ]
    },
    {
     "name": "stderr",
     "output_type": "stream",
     "text": []
    },
    {
     "name": "stdout",
     "output_type": "stream",
     "text": [
      "Iteration : 2 \n",
      " , Train Loss : 750.4932250976562 \n",
      ", Test Acc : 15.944299697875977 \n",
      "\n"
     ]
    },
    {
     "name": "stderr",
     "output_type": "stream",
     "text": []
    },
    {
     "name": "stdout",
     "output_type": "stream",
     "text": [
      "Iteration : 4 \n",
      " , Train Loss : 1079.606185913086 \n",
      ", Test Acc : 27.474227905273438 \n",
      "\n"
     ]
    },
    {
     "name": "stderr",
     "output_type": "stream",
     "text": []
    },
    {
     "name": "stdout",
     "output_type": "stream",
     "text": [
      "Iteration : 6 \n",
      " , Train Loss : 625.7098999023438 \n",
      ", Test Acc : 40.47439956665039 \n",
      "\n"
     ]
    },
    {
     "name": "stderr",
     "output_type": "stream",
     "text": []
    },
    {
     "name": "stdout",
     "output_type": "stream",
     "text": [
      "Iteration : 8 \n",
      " , Train Loss : 301.2513847351074 \n",
      ", Test Acc : 45.712425231933594 \n",
      "\n"
     ]
    },
    {
     "name": "stderr",
     "output_type": "stream",
     "text": []
    },
    {
     "name": "stdout",
     "output_type": "stream",
     "text": [
      "Iteration : 10 \n",
      " , Train Loss : 330.5128707885742 \n",
      ", Test Acc : 44.67351531982422 \n",
      "\n"
     ]
    },
    {
     "name": "stderr",
     "output_type": "stream",
     "text": []
    },
    {
     "name": "stdout",
     "output_type": "stream",
     "text": [
      "Iteration : 12 \n",
      " , Train Loss : 210.76337814331055 \n",
      ", Test Acc : 40.116615295410156 \n",
      "\n"
     ]
    },
    {
     "name": "stderr",
     "output_type": "stream",
     "text": []
    },
    {
     "name": "stdout",
     "output_type": "stream",
     "text": [
      "Iteration : 14 \n",
      " , Train Loss : 191.5167465209961 \n",
      ", Test Acc : 52.08293533325195 \n",
      "\n"
     ]
    },
    {
     "name": "stderr",
     "output_type": "stream",
     "text": []
    },
    {
     "name": "stdout",
     "output_type": "stream",
     "text": [
      "Iteration : 16 \n",
      " , Train Loss : 121.47977304458618 \n",
      ", Test Acc : 57.789249420166016 \n",
      "\n"
     ]
    },
    {
     "name": "stderr",
     "output_type": "stream",
     "text": []
    },
    {
     "name": "stdout",
     "output_type": "stream",
     "text": [
      "Iteration : 18 \n",
      " , Train Loss : 147.80743217468262 \n",
      ", Test Acc : 57.6337890625 \n",
      "\n"
     ]
    },
    {
     "name": "stderr",
     "output_type": "stream",
     "text": [
      "100%|██████████| 20/20 [00:08<00:00,  2.40it/s]\n",
      " 98%|█████████▊| 154/157 [22:17<00:29,  9.80s/it]"
     ]
    },
    {
     "name": "stdout",
     "output_type": "stream",
     "text": [
      "Iteration : 19 \n",
      " , Train Loss : 158.2231044769287 \n",
      ", Test Acc : 58.996864318847656 \n",
      "\n"
     ]
    },
    {
     "name": "stderr",
     "output_type": "stream",
     "text": []
    },
    {
     "name": "stdout",
     "output_type": "stream",
     "text": [
      "Iteration : 0 \n",
      " , Train Loss : 271.9632759094238 \n",
      ", Test Acc : 12.276719093322754 \n",
      "\n"
     ]
    },
    {
     "name": "stderr",
     "output_type": "stream",
     "text": []
    },
    {
     "name": "stdout",
     "output_type": "stream",
     "text": [
      "Iteration : 2 \n",
      " , Train Loss : 646.8808059692383 \n",
      ", Test Acc : 32.851966857910156 \n",
      "\n"
     ]
    },
    {
     "name": "stderr",
     "output_type": "stream",
     "text": []
    },
    {
     "name": "stdout",
     "output_type": "stream",
     "text": [
      "Iteration : 4 \n",
      " , Train Loss : 935.7068252563477 \n",
      ", Test Acc : 41.02431106567383 \n",
      "\n"
     ]
    },
    {
     "name": "stderr",
     "output_type": "stream",
     "text": []
    },
    {
     "name": "stdout",
     "output_type": "stream",
     "text": [
      "Iteration : 6 \n",
      " , Train Loss : 754.1172485351562 \n",
      ", Test Acc : 46.668949127197266 \n",
      "\n"
     ]
    },
    {
     "name": "stderr",
     "output_type": "stream",
     "text": []
    },
    {
     "name": "stdout",
     "output_type": "stream",
     "text": [
      "Iteration : 8 \n",
      " , Train Loss : 571.6804046630859 \n",
      ", Test Acc : 43.54718017578125 \n",
      "\n"
     ]
    },
    {
     "name": "stderr",
     "output_type": "stream",
     "text": []
    },
    {
     "name": "stdout",
     "output_type": "stream",
     "text": [
      "Iteration : 10 \n",
      " , Train Loss : 386.4444580078125 \n",
      ", Test Acc : 53.877235412597656 \n",
      "\n"
     ]
    },
    {
     "name": "stderr",
     "output_type": "stream",
     "text": []
    },
    {
     "name": "stdout",
     "output_type": "stream",
     "text": [
      "Iteration : 12 \n",
      " , Train Loss : 340.20602798461914 \n",
      ", Test Acc : 49.06272506713867 \n",
      "\n"
     ]
    },
    {
     "name": "stderr",
     "output_type": "stream",
     "text": []
    },
    {
     "name": "stdout",
     "output_type": "stream",
     "text": [
      "Iteration : 14 \n",
      " , Train Loss : 235.24665069580078 \n",
      ", Test Acc : 59.9916877746582 \n",
      "\n"
     ]
    },
    {
     "name": "stderr",
     "output_type": "stream",
     "text": []
    },
    {
     "name": "stdout",
     "output_type": "stream",
     "text": [
      "Iteration : 16 \n",
      " , Train Loss : 177.7754030227661 \n",
      ", Test Acc : 60.58121871948242 \n",
      "\n"
     ]
    },
    {
     "name": "stderr",
     "output_type": "stream",
     "text": []
    },
    {
     "name": "stdout",
     "output_type": "stream",
     "text": [
      "Iteration : 18 \n",
      " , Train Loss : 127.01964569091797 \n",
      ", Test Acc : 62.12241744995117 \n",
      "\n"
     ]
    },
    {
     "name": "stderr",
     "output_type": "stream",
     "text": [
      "100%|██████████| 20/20 [00:10<00:00,  1.94it/s]\n",
      " 99%|█████████▊| 155/157 [22:27<00:19,  9.96s/it]"
     ]
    },
    {
     "name": "stdout",
     "output_type": "stream",
     "text": [
      "Iteration : 19 \n",
      " , Train Loss : 105.44964599609375 \n",
      ", Test Acc : 62.69913101196289 \n",
      "\n"
     ]
    },
    {
     "name": "stderr",
     "output_type": "stream",
     "text": []
    },
    {
     "name": "stdout",
     "output_type": "stream",
     "text": [
      "Iteration : 0 \n",
      " , Train Loss : 239.2905788421631 \n",
      ", Test Acc : 18.269399642944336 \n",
      "\n"
     ]
    },
    {
     "name": "stderr",
     "output_type": "stream",
     "text": []
    },
    {
     "name": "stdout",
     "output_type": "stream",
     "text": [
      "Iteration : 2 \n",
      " , Train Loss : 698.0326690673828 \n",
      ", Test Acc : 30.866947174072266 \n",
      "\n"
     ]
    },
    {
     "name": "stderr",
     "output_type": "stream",
     "text": []
    },
    {
     "name": "stdout",
     "output_type": "stream",
     "text": [
      "Iteration : 4 \n",
      " , Train Loss : 908.3023529052734 \n",
      ", Test Acc : 35.32614517211914 \n",
      "\n"
     ]
    },
    {
     "name": "stderr",
     "output_type": "stream",
     "text": []
    },
    {
     "name": "stdout",
     "output_type": "stream",
     "text": [
      "Iteration : 6 \n",
      " , Train Loss : 672.4528350830078 \n",
      ", Test Acc : 31.373746871948242 \n",
      "\n"
     ]
    },
    {
     "name": "stderr",
     "output_type": "stream",
     "text": []
    },
    {
     "name": "stdout",
     "output_type": "stream",
     "text": [
      "Iteration : 8 \n",
      " , Train Loss : 539.2317733764648 \n",
      ", Test Acc : 30.166154861450195 \n",
      "\n"
     ]
    },
    {
     "name": "stderr",
     "output_type": "stream",
     "text": []
    },
    {
     "name": "stdout",
     "output_type": "stream",
     "text": [
      "Iteration : 10 \n",
      " , Train Loss : 418.00379943847656 \n",
      ", Test Acc : 39.42660140991211 \n",
      "\n"
     ]
    },
    {
     "name": "stderr",
     "output_type": "stream",
     "text": []
    },
    {
     "name": "stdout",
     "output_type": "stream",
     "text": [
      "Iteration : 12 \n",
      " , Train Loss : 292.54288482666016 \n",
      ", Test Acc : 52.26503372192383 \n",
      "\n"
     ]
    },
    {
     "name": "stderr",
     "output_type": "stream",
     "text": []
    },
    {
     "name": "stdout",
     "output_type": "stream",
     "text": [
      "Iteration : 14 \n",
      " , Train Loss : 201.23061084747314 \n",
      ", Test Acc : 51.29195022583008 \n",
      "\n"
     ]
    },
    {
     "name": "stderr",
     "output_type": "stream",
     "text": []
    },
    {
     "name": "stdout",
     "output_type": "stream",
     "text": [
      "Iteration : 16 \n",
      " , Train Loss : 175.45507431030273 \n",
      ", Test Acc : 55.118309020996094 \n",
      "\n"
     ]
    },
    {
     "name": "stderr",
     "output_type": "stream",
     "text": []
    },
    {
     "name": "stdout",
     "output_type": "stream",
     "text": [
      "Iteration : 18 \n",
      " , Train Loss : 173.47774982452393 \n",
      ", Test Acc : 50.383670806884766 \n",
      "\n"
     ]
    },
    {
     "name": "stderr",
     "output_type": "stream",
     "text": [
      "100%|██████████| 20/20 [00:08<00:00,  2.49it/s]\n",
      " 99%|█████████▉| 156/157 [22:35<00:09,  9.39s/it]"
     ]
    },
    {
     "name": "stdout",
     "output_type": "stream",
     "text": [
      "Iteration : 19 \n",
      " , Train Loss : 177.6903600692749 \n",
      ", Test Acc : 53.8737678527832 \n",
      "\n"
     ]
    },
    {
     "name": "stderr",
     "output_type": "stream",
     "text": []
    },
    {
     "name": "stdout",
     "output_type": "stream",
     "text": [
      "Iteration : 0 \n",
      " , Train Loss : 246.1330108642578 \n",
      ", Test Acc : 28.86607551574707 \n",
      "\n"
     ]
    },
    {
     "name": "stderr",
     "output_type": "stream",
     "text": []
    },
    {
     "name": "stdout",
     "output_type": "stream",
     "text": [
      "Iteration : 2 \n",
      " , Train Loss : 1001.3379974365234 \n",
      ", Test Acc : 21.13887596130371 \n",
      "\n"
     ]
    },
    {
     "name": "stderr",
     "output_type": "stream",
     "text": []
    },
    {
     "name": "stdout",
     "output_type": "stream",
     "text": [
      "Iteration : 4 \n",
      " , Train Loss : 601.4025192260742 \n",
      ", Test Acc : 32.06458282470703 \n",
      "\n"
     ]
    },
    {
     "name": "stderr",
     "output_type": "stream",
     "text": []
    },
    {
     "name": "stdout",
     "output_type": "stream",
     "text": [
      "Iteration : 6 \n",
      " , Train Loss : 493.5701560974121 \n",
      ", Test Acc : 32.19313430786133 \n",
      "\n"
     ]
    },
    {
     "name": "stderr",
     "output_type": "stream",
     "text": []
    },
    {
     "name": "stdout",
     "output_type": "stream",
     "text": [
      "Iteration : 8 \n",
      " , Train Loss : 452.8735580444336 \n",
      ", Test Acc : 43.235755920410156 \n",
      "\n"
     ]
    },
    {
     "name": "stderr",
     "output_type": "stream",
     "text": []
    },
    {
     "name": "stdout",
     "output_type": "stream",
     "text": [
      "Iteration : 10 \n",
      " , Train Loss : 222.6069107055664 \n",
      ", Test Acc : 54.50083541870117 \n",
      "\n"
     ]
    },
    {
     "name": "stderr",
     "output_type": "stream",
     "text": []
    },
    {
     "name": "stdout",
     "output_type": "stream",
     "text": [
      "Iteration : 12 \n",
      " , Train Loss : 144.6877565383911 \n",
      ", Test Acc : 48.62108612060547 \n",
      "\n"
     ]
    },
    {
     "name": "stderr",
     "output_type": "stream",
     "text": []
    },
    {
     "name": "stdout",
     "output_type": "stream",
     "text": [
      "Iteration : 14 \n",
      " , Train Loss : 246.76281356811523 \n",
      ", Test Acc : 47.5426139831543 \n",
      "\n"
     ]
    },
    {
     "name": "stderr",
     "output_type": "stream",
     "text": []
    },
    {
     "name": "stdout",
     "output_type": "stream",
     "text": [
      "Iteration : 16 \n",
      " , Train Loss : 156.58898258209229 \n",
      ", Test Acc : 60.839542388916016 \n",
      "\n"
     ]
    },
    {
     "name": "stderr",
     "output_type": "stream",
     "text": []
    },
    {
     "name": "stdout",
     "output_type": "stream",
     "text": [
      "Iteration : 18 \n",
      " , Train Loss : 107.62056732177734 \n",
      ", Test Acc : 63.467533111572266 \n",
      "\n"
     ]
    },
    {
     "name": "stderr",
     "output_type": "stream",
     "text": [
      "100%|██████████| 20/20 [00:10<00:00,  1.95it/s]\n",
      "100%|██████████| 157/157 [22:45<00:00,  8.70s/it]"
     ]
    },
    {
     "name": "stdout",
     "output_type": "stream",
     "text": [
      "Iteration : 19 \n",
      " , Train Loss : 102.45139598846436 \n",
      ", Test Acc : 62.21410369873047 \n",
      "\n",
      "CPU times: user 22min 42s, sys: 16.1 s, total: 22min 58s\n",
      "Wall time: 22min 45s\n"
     ]
    },
    {
     "name": "stderr",
     "output_type": "stream",
     "text": [
      "\n"
     ]
    }
   ],
   "source": [
    "%%time \n",
    "config[\"refine_steps\"] = 3\n",
    "for refine_step in tqdm(range(config[\"refine_steps\"])):\n",
    "    beta = 0.2\n",
    "    cluster_trainers = []\n",
    "    for cluster_id in tqdm(cluster_map.keys()):\n",
    "        cluster_clients = [client_loaders[i] for i in cluster_map[cluster_id]]\n",
    "        cluster_trainer = ClusterTrainer(config, os.path.join(config['results_dir'], \"refine_{}\".format(refine_step), \"cluster_{}\".format(cluster_id)), cluster_id)\n",
    "        cluster_trainer.train(cluster_clients)\n",
    "        cluster_trainers.append(cluster_trainer)\n",
    "    with open(os.path.join(config[\"results_dir\"],\"refine_{}\".format(refine_step), \"cluster_maps.pkl\"), 'wb') as handle:\n",
    "        pickle.dump(cluster_map, handle, protocol=pickle.HIGHEST_PROTOCOL)\n",
    "    cluster_map_recluster = {}\n",
    "    for key in cluster_map.keys():\n",
    "        cluster_map_recluster[key] = []\n",
    "\n",
    "    for i in tqdm(range(config[\"num_clients\"])):\n",
    "        w_node = client_trainers[i].model.state_dict()\n",
    "        norm_diff = np.infty\n",
    "        new_cluster_id = 0\n",
    "        for cluster_id in cluster_map.keys():\n",
    "            w_cluster = cluster_trainers[cluster_id].model.state_dict()\n",
    "            curr_norm_diff = model_weights_diff(w_node, w_cluster)\n",
    "            if norm_diff > curr_norm_diff:\n",
    "                new_cluster_id = cluster_id\n",
    "                norm_diff = curr_norm_diff\n",
    "        \n",
    "        cluster_map_recluster[new_cluster_id].append(i)\n",
    "    cluster_map = cluster_map_recluster\n",
    "\n",
    "\n",
    "    G = nx.Graph()\n",
    "    G.add_nodes_from(cluster_map.keys())\n",
    "\n",
    "    all_pairs = list(itertools.combinations(cluster_map.keys(),2))\n",
    "    for pair in tqdm(all_pairs):\n",
    "        w_1  = cluster_trainers[pair[0]].model.state_dict()\n",
    "        w_2 = cluster_trainers[pair[1]].model.state_dict()\n",
    "        norm_diff = model_weights_diff(w_1, w_2)\n",
    "        if norm_diff < thresh:\n",
    "            G.add_edge(pair[0], pair[1])\n",
    "            \n",
    "    clusters = list(nx.algorithms.clique.enumerate_all_cliques(G))\n",
    "    cluster_map_new = {}\n",
    "    for i in range(len(clusters)):\n",
    "        cluster_map_new[i] = []\n",
    "        for j in clusters[i]:\n",
    "            cluster_map_new[i] += cluster_map[j]\n",
    "    cluster_map = cluster_map_new\n"
   ]
  },
  {
   "cell_type": "code",
   "execution_count": 83,
   "metadata": {},
   "outputs": [
    {
     "name": "stderr",
     "output_type": "stream",
     "text": [
      "100%|██████████| 32/32 [00:05<00:00,  5.41it/s]\n",
      "100%|██████████| 12246/12246 [00:14<00:00, 820.48it/s]\n"
     ]
    }
   ],
   "source": [
    "with open(os.path.join(config[\"results_dir\"],\"refine_{}\".format(refine_step), \"cluster_maps.pkl\"), 'wb') as handle:\n",
    "    pickle.dump(cluster_map, handle, protocol=pickle.HIGHEST_PROTOCOL)\n",
    "cluster_map_recluster = {}\n",
    "for key in cluster_map.keys():\n",
    "    cluster_map_recluster[key] = []\n",
    "\n",
    "for i in tqdm(range(config[\"num_clients\"])):\n",
    "    w_node = client_trainers[i].model.state_dict()\n",
    "    norm_diff = np.infty\n",
    "    new_cluster_id = 0\n",
    "    for cluster_id in cluster_map.keys():\n",
    "        w_cluster = cluster_trainers[cluster_id].model.state_dict()\n",
    "        curr_norm_diff = model_weights_diff(w_node, w_cluster)\n",
    "        if norm_diff > curr_norm_diff:\n",
    "            new_cluster_id = cluster_id\n",
    "            norm_diff = curr_norm_diff\n",
    "    \n",
    "    cluster_map_recluster[new_cluster_id].append(i)\n",
    "cluster_map = cluster_map_recluster\n",
    "\n",
    "\n",
    "G = nx.Graph()\n",
    "G.add_nodes_from(cluster_map.keys())\n",
    "\n",
    "all_pairs = list(itertools.combinations(cluster_map.keys(),2))\n",
    "for pair in tqdm(all_pairs):\n",
    "    w_1  = cluster_trainers[pair[0]].model.state_dict()\n",
    "    w_2 = cluster_trainers[pair[1]].model.state_dict()\n",
    "    norm_diff = model_weights_diff(w_1, w_2)\n",
    "    if norm_diff < thresh:\n",
    "        G.add_edge(pair[0], pair[1])\n",
    "        \n",
    "clusters = list(nx.algorithms.clique.enumerate_all_cliques(G))\n"
   ]
  },
  {
   "cell_type": "code",
   "execution_count": 85,
   "metadata": {},
   "outputs": [],
   "source": [
    "cluster_map_new = {}\n",
    "for i in range(len(clusters)):\n",
    "    cluster_map_new[i] = []\n",
    "    for j in clusters[i]:\n",
    "        cluster_map_new[i] += cluster_map[j]\n",
    "cluster_map = cluster_map_new"
   ]
  },
  {
   "cell_type": "code",
   "execution_count": 88,
   "metadata": {},
   "outputs": [
    {
     "data": {
      "text/plain": [
       "668"
      ]
     },
     "execution_count": 88,
     "metadata": {},
     "output_type": "execute_result"
    }
   ],
   "source": [
    "len(clusters)"
   ]
  },
  {
   "cell_type": "code",
   "execution_count": null,
   "metadata": {},
   "outputs": [],
   "source": []
  }
 ],
 "metadata": {
  "interpreter": {
   "hash": "c6e470d1113f1d3694e67b12a97a2a56d33eb5b1360332580fa82cd96e4a9609"
  },
  "kernelspec": {
   "display_name": "Python 3.9.9 64-bit ('ffcv': conda)",
   "language": "python",
   "name": "python3"
  },
  "language_info": {
   "codemirror_mode": {
    "name": "ipython",
    "version": 3
   },
   "file_extension": ".py",
   "mimetype": "text/x-python",
   "name": "python",
   "nbconvert_exporter": "python",
   "pygments_lexer": "ipython3",
   "version": "3.9.9"
  },
  "orig_nbformat": 4
 },
 "nbformat": 4,
 "nbformat_minor": 2
}
