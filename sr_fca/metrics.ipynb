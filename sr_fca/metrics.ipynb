{
 "cells": [
  {
   "cell_type": "code",
   "execution_count": 2,
   "metadata": {},
   "outputs": [],
   "source": [
    "%load_ext autoreload\n",
    "%autoreload 2"
   ]
  },
  {
   "cell_type": "code",
   "execution_count": 3,
   "metadata": {},
   "outputs": [],
   "source": [
    "import torch\n",
    "import pickle\n",
    "import os"
   ]
  },
  {
   "cell_type": "code",
   "execution_count": 24,
   "metadata": {},
   "outputs": [],
   "source": [
    "path_mnist = os.path.join(\"/home/harshv834/sr-fca/sr_fca/experiments/results/mnist\")\n",
    "seed_list = [42,43,44]\n",
    "seed = seed_list[1]\n",
    "path_seed = os.path.join(path_mnist, \"seed_{}\".format(seed))"
   ]
  },
  {
   "cell_type": "code",
   "execution_count": 25,
   "metadata": {},
   "outputs": [
    {
     "name": "stdout",
     "output_type": "stream",
     "text": [
      "Global acc : 85.12500762939453\n"
     ]
    }
   ],
   "source": [
    "global_model = torch.load(os.path.join(path_seed, \"global\", \"metrics.pkl\"))\n",
    "print(\"Global acc : {}\".format(global_model['test_acc'][-1]))"
   ]
  },
  {
   "cell_type": "code",
   "execution_count": 26,
   "metadata": {},
   "outputs": [],
   "source": [
    "refine_models = [torch.load(os.path.join(path_seed, \"refine_{}\".format(step),\"avg_acc.pth\")) for step in range(2)]"
   ]
  },
  {
   "cell_type": "code",
   "execution_count": 27,
   "metadata": {},
   "outputs": [
    {
     "name": "stdout",
     "output_type": "stream",
     "text": [
      "[tensor(61.1656), tensor(75.7250)]\n"
     ]
    }
   ],
   "source": [
    "print(refine_models)"
   ]
  },
  {
   "cell_type": "code",
   "execution_count": 28,
   "metadata": {},
   "outputs": [],
   "source": [
    "local_models = [torch.load(os.path.join(path_seed, \"init\", \"node_{}\".format(step),\"metrics.pkl\"))['test_acc'][-1] for step in range(32)]"
   ]
  },
  {
   "cell_type": "code",
   "execution_count": 29,
   "metadata": {},
   "outputs": [
    {
     "data": {
      "text/plain": [
       "tensor(88.2250)"
      ]
     },
     "execution_count": 29,
     "metadata": {},
     "output_type": "execute_result"
    }
   ],
   "source": [
    "torch.tensor(local_models).mean()"
   ]
  },
  {
   "cell_type": "code",
   "execution_count": 33,
   "metadata": {},
   "outputs": [],
   "source": [
    "path_mnist = os.path.join(\"/home/harshv834/sr-fca/sr_fca/experiments/results/cifar10\")\n",
    "seed_list = [42,43,44]\n",
    "seed = seed_list[2]\n",
    "path_seed = os.path.join(path_mnist, \"seed_{}\".format(seed))"
   ]
  },
  {
   "cell_type": "code",
   "execution_count": 16,
   "metadata": {},
   "outputs": [
    {
     "name": "stdout",
     "output_type": "stream",
     "text": [
      "Global acc : 88.08\n"
     ]
    }
   ],
   "source": [
    "global_model = torch.load(os.path.join(path_seed, \"global\", \"metrics_2399.pkl\"))\n",
    "print(\"Global acc : {}\".format(global_model['test_acc'][-1]))"
   ]
  },
  {
   "cell_type": "code",
   "execution_count": 18,
   "metadata": {},
   "outputs": [
    {
     "name": "stdout",
     "output_type": "stream",
     "text": [
      "[43.141333333333336, 74.07854545454546]\n"
     ]
    }
   ],
   "source": [
    "refine_models = [torch.load(os.path.join(path_seed, \"refine_{}\".format(step),\"avg_acc.pth\")) for step in range(2)]\n",
    "print(refine_models)\n"
   ]
  },
  {
   "cell_type": "code",
   "execution_count": 17,
   "metadata": {},
   "outputs": [
    {
     "name": "stdout",
     "output_type": "stream",
     "text": [
      "tensor(75.6100)\n"
     ]
    }
   ],
   "source": [
    "local_models = [torch.load(os.path.join(path_seed, \"init\", \"node_{}\".format(step),\"metrics_2399.pkl\"))['test_acc'][-1] for step in range(16)]\n",
    "print(torch.tensor(local_models).mean())"
   ]
  },
  {
   "cell_type": "code",
   "execution_count": 34,
   "metadata": {},
   "outputs": [
    {
     "name": "stdout",
     "output_type": "stream",
     "text": [
      "[39.946666666666665, 23.84, 75.68, 74.88, 73.36, 73.28, 76.8]\n"
     ]
    }
   ],
   "source": [
    "refine_models_0 = [torch.load(os.path.join(path_seed, \"refine_0\", \"cluster_{}\".format(step),\"metrics_2399.pkl\"))['test_acc'][-1] for step in range(7)]\n",
    "print(refine_models_0)"
   ]
  },
  {
   "cell_type": "code",
   "execution_count": 36,
   "metadata": {},
   "outputs": [
    {
     "name": "stdout",
     "output_type": "stream",
     "text": [
      "[88.576, 77.76]\n"
     ]
    }
   ],
   "source": [
    "refine_models_1 = [torch.load(os.path.join(path_seed, \"refine_1\", \"cluster_{}\".format(step),\"metrics_2399.pkl\"))['test_acc'][-1] for step in range(2)]\n",
    "print(refine_models_1)"
   ]
  },
  {
   "cell_type": "code",
   "execution_count": 40,
   "metadata": {},
   "outputs": [],
   "source": [
    "\n",
    "with open(os.path.join(path_seed, \"refine_1\", \"cluster_maps.pkl\"), \"rb\") as f:\n",
    "    maps = pickle.load(f)"
   ]
  },
  {
   "cell_type": "code",
   "execution_count": 41,
   "metadata": {},
   "outputs": [
    {
     "name": "stdout",
     "output_type": "stream",
     "text": [
      "{0: [1, 2, 3, 6, 7, 10, 11, 12, 14, 0, 5, 8, 13, 15, 9], 1: [4]}\n"
     ]
    }
   ],
   "source": [
    "print(maps)"
   ]
  },
  {
   "cell_type": "code",
   "execution_count": 42,
   "metadata": {},
   "outputs": [
    {
     "data": {
      "text/plain": [
       "87.89999999999999"
      ]
     },
     "execution_count": 42,
     "metadata": {},
     "output_type": "execute_result"
    }
   ],
   "source": [
    "(88.576*15 + 77.76)/16"
   ]
  },
  {
   "cell_type": "code",
   "execution_count": null,
   "metadata": {},
   "outputs": [],
   "source": []
  }
 ],
 "metadata": {
  "interpreter": {
   "hash": "c6e470d1113f1d3694e67b12a97a2a56d33eb5b1360332580fa82cd96e4a9609"
  },
  "kernelspec": {
   "display_name": "Python 3.9.9 64-bit ('ffcv': conda)",
   "language": "python",
   "name": "python3"
  },
  "language_info": {
   "codemirror_mode": {
    "name": "ipython",
    "version": 3
   },
   "file_extension": ".py",
   "mimetype": "text/x-python",
   "name": "python",
   "nbconvert_exporter": "python",
   "pygments_lexer": "ipython3",
   "version": "3.9.9"
  },
  "orig_nbformat": 4
 },
 "nbformat": 4,
 "nbformat_minor": 2
}
