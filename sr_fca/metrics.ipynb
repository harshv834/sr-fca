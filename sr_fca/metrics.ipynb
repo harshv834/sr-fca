{
 "cells": [
  {
   "cell_type": "code",
   "execution_count": 1,
   "metadata": {},
   "outputs": [],
   "source": [
    "%load_ext autoreload\n",
    "%autoreload 2"
   ]
  },
  {
   "cell_type": "code",
   "execution_count": 2,
   "metadata": {},
   "outputs": [],
   "source": [
    "import torch\n",
    "import pickle\n",
    "import os"
   ]
  },
  {
   "cell_type": "code",
   "execution_count": null,
   "metadata": {},
   "outputs": [],
   "source": []
  },
  {
   "cell_type": "code",
   "execution_count": 13,
   "metadata": {},
   "outputs": [],
   "source": [
    "path_mnist = os.path.join(\"/base_vol/sr-fca/sr_fca/experiments/results/femnistifca\")\n",
    "seed_list = [42,43,44]\n",
    "seed = seed_list[1]\n",
    "seed = 0\n",
    "path_seed = os.path.join(path_mnist, \"seed_{}_4\".format(seed))"
   ]
  },
  {
   "cell_type": "code",
   "execution_count": 62,
   "metadata": {},
   "outputs": [
    {
     "name": "stdout",
     "output_type": "stream",
     "text": [
      "Global acc : 75.6397705078125\n"
     ]
    }
   ],
   "source": [
    "global_model = torch.load(os.path.join(path_seed, \"global\", \"metrics_99.pkl\"))\n",
    "print(\"Global acc : {}\".format(global_model['test_acc'][-1]))"
   ]
  },
  {
   "cell_type": "code",
   "execution_count": 26,
   "metadata": {},
   "outputs": [],
   "source": [
    "refine_models = [torch.load(os.path.join(path_seed, \"refine_{}\".format(step),\"avg_acc.pth\")) for step in range(2)]"
   ]
  },
  {
   "cell_type": "code",
   "execution_count": 27,
   "metadata": {},
   "outputs": [
    {
     "name": "stdout",
     "output_type": "stream",
     "text": [
      "[tensor(61.1656), tensor(75.7250)]\n"
     ]
    }
   ],
   "source": [
    "print(refine_models)"
   ]
  },
  {
   "cell_type": "code",
   "execution_count": 63,
   "metadata": {},
   "outputs": [],
   "source": [
    "init_path = os.path.join(path_seed, \"init\")\n",
    "local_models = [torch.load(os.path.join(init_path, s,\"metrics_99.pkl\"))['test_acc'][-1] for s in os.listdir(init_path) if os.path.isdir(os.path.join(init_path, s))]"
   ]
  },
  {
   "cell_type": "code",
   "execution_count": 64,
   "metadata": {},
   "outputs": [
    {
     "data": {
      "text/plain": [
       "tensor(66.9169)"
      ]
     },
     "execution_count": 64,
     "metadata": {},
     "output_type": "execute_result"
    }
   ],
   "source": [
    "torch.Tensor(local_models).mean()"
   ]
  },
  {
   "cell_type": "code",
   "execution_count": 33,
   "metadata": {},
   "outputs": [],
   "source": [
    "path_mnist = os.path.join(\"/home/harshv834/sr-fca/sr_fca/experiments/results/cifar10\")\n",
    "seed_list = [42,43,44]\n",
    "seed = seed_list[2]\n",
    "path_seed = os.path.join(path_mnist, \"seed_{}\".format(seed))"
   ]
  },
  {
   "cell_type": "code",
   "execution_count": 16,
   "metadata": {},
   "outputs": [
    {
     "name": "stdout",
     "output_type": "stream",
     "text": [
      "Global acc : 88.08\n"
     ]
    }
   ],
   "source": [
    "global_model = torch.load(os.path.join(path_seed, \"global\", \"metrics_2399.pkl\"))\n",
    "print(\"Global acc : {}\".format(global_model['test_acc'][-1]))"
   ]
  },
  {
   "cell_type": "code",
   "execution_count": 18,
   "metadata": {},
   "outputs": [
    {
     "name": "stdout",
     "output_type": "stream",
     "text": [
      "[43.141333333333336, 74.07854545454546]\n"
     ]
    }
   ],
   "source": [
    "refine_models = [torch.load(os.path.join(path_seed, \"refine_{}\".format(step),\"avg_acc.pth\")) for step in range(2)]\n",
    "print(refine_models)\n"
   ]
  },
  {
   "cell_type": "code",
   "execution_count": 17,
   "metadata": {},
   "outputs": [
    {
     "name": "stdout",
     "output_type": "stream",
     "text": [
      "tensor(75.6100)\n"
     ]
    }
   ],
   "source": [
    "local_models = [torch.load(os.path.join(path_seed, \"init\", \"node_{}\".format(step),\"metrics_2399.pkl\"))['test_acc'][-1] for step in range(16)]\n",
    "print(torch.tensor(local_models).mean())"
   ]
  },
  {
   "cell_type": "code",
   "execution_count": 34,
   "metadata": {},
   "outputs": [
    {
     "name": "stdout",
     "output_type": "stream",
     "text": [
      "[39.946666666666665, 23.84, 75.68, 74.88, 73.36, 73.28, 76.8]\n"
     ]
    }
   ],
   "source": [
    "refine_models_0 = [torch.load(os.path.join(path_seed, \"refine_0\", \"cluster_{}\".format(step),\"metrics_2399.pkl\"))['test_acc'][-1] for step in range(7)]\n",
    "print(refine_models_0)"
   ]
  },
  {
   "cell_type": "code",
   "execution_count": 36,
   "metadata": {},
   "outputs": [
    {
     "name": "stdout",
     "output_type": "stream",
     "text": [
      "[88.576, 77.76]\n"
     ]
    }
   ],
   "source": [
    "refine_models_1 = [torch.load(os.path.join(path_seed, \"refine_1\", \"cluster_{}\".format(step),\"metrics_2399.pkl\"))['test_acc'][-1] for step in range(2)]\n",
    "print(refine_models_1)"
   ]
  },
  {
   "cell_type": "code",
   "execution_count": 21,
   "metadata": {},
   "outputs": [
    {
     "ename": "FileNotFoundError",
     "evalue": "[Errno 2] No such file or directory: '/base_vol/sr-fca/sr_fca/experiments/results/femnistifca/seed_9999_2/refine_0/cluster_maps.pkl'",
     "output_type": "error",
     "traceback": [
      "\u001b[0;31m---------------------------------------------------------------------------\u001b[0m",
      "\u001b[0;31mFileNotFoundError\u001b[0m                         Traceback (most recent call last)",
      "Input \u001b[0;32mIn [21]\u001b[0m, in \u001b[0;36m<module>\u001b[0;34m\u001b[0m\n\u001b[0;32m----> 1\u001b[0m \u001b[38;5;28;01mwith\u001b[39;00m \u001b[38;5;28;43mopen\u001b[39;49m\u001b[43m(\u001b[49m\u001b[43mos\u001b[49m\u001b[38;5;241;43m.\u001b[39;49m\u001b[43mpath\u001b[49m\u001b[38;5;241;43m.\u001b[39;49m\u001b[43mjoin\u001b[49m\u001b[43m(\u001b[49m\u001b[43mpath_seed\u001b[49m\u001b[43m,\u001b[49m\u001b[43m \u001b[49m\u001b[38;5;124;43m\"\u001b[39;49m\u001b[38;5;124;43mrefine_0\u001b[39;49m\u001b[38;5;124;43m\"\u001b[39;49m\u001b[43m,\u001b[49m\u001b[43m \u001b[49m\u001b[38;5;124;43m\"\u001b[39;49m\u001b[38;5;124;43mcluster_maps.pkl\u001b[39;49m\u001b[38;5;124;43m\"\u001b[39;49m\u001b[43m)\u001b[49m\u001b[43m,\u001b[49m\u001b[43m \u001b[49m\u001b[38;5;124;43m\"\u001b[39;49m\u001b[38;5;124;43mrb\u001b[39;49m\u001b[38;5;124;43m\"\u001b[39;49m\u001b[43m)\u001b[49m \u001b[38;5;28;01mas\u001b[39;00m f:\n\u001b[1;32m      2\u001b[0m     maps \u001b[38;5;241m=\u001b[39m pickle\u001b[38;5;241m.\u001b[39mload(f)\n",
      "\u001b[0;31mFileNotFoundError\u001b[0m: [Errno 2] No such file or directory: '/base_vol/sr-fca/sr_fca/experiments/results/femnistifca/seed_9999_2/refine_0/cluster_maps.pkl'"
     ]
    }
   ],
   "source": [
    "\n",
    "with open(os.path.join(path_seed, \"refine_0\", \"cluster_maps.pkl\"), \"rb\") as f:\n",
    "    maps = pickle.load(f)"
   ]
  },
  {
   "cell_type": "code",
   "execution_count": null,
   "metadata": {},
   "outputs": [],
   "source": [
    "print(maps)"
   ]
  },
  {
   "cell_type": "code",
   "execution_count": 24,
   "metadata": {},
   "outputs": [
    {
     "name": "stdout",
     "output_type": "stream",
     "text": [
      "[tensor(65.0239), tensor(64.3810), tensor(71.7105), tensor(53.2508)]\n"
     ]
    }
   ],
   "source": [
    "refine_models_0 = [torch.load(os.path.join(path_seed, \"refine_0\", \"cluster_{}\".format(step),\"metrics_99.pkl\"))['test_acc'][-1] for step in range(4)]\n",
    "print(refine_models_0)"
   ]
  },
  {
   "cell_type": "code",
   "execution_count": 25,
   "metadata": {},
   "outputs": [
    {
     "name": "stdout",
     "output_type": "stream",
     "text": [
      "tensor(63.7633)\n"
     ]
    }
   ],
   "source": [
    "tot = 0\n",
    "num = 0\n",
    "for i in range(len(maps.keys())):\n",
    "    num += len(maps[i])\n",
    "    tot += refine_models_0[i] * len(maps[i])\n",
    "print(tot/num)"
   ]
  },
  {
   "cell_type": "code",
   "execution_count": 32,
   "metadata": {},
   "outputs": [
    {
     "data": {
      "text/plain": [
       "tensor([])"
      ]
     },
     "execution_count": 32,
     "metadata": {},
     "output_type": "execute_result"
    }
   ],
   "source": [
    "tot + refine_models_0[i]*len(maps[i])"
   ]
  },
  {
   "cell_type": "code",
   "execution_count": 14,
   "metadata": {},
   "outputs": [
    {
     "name": "stdout",
     "output_type": "stream",
     "text": [
      "{0: [2, 6, 14, 16, 23, 24], 1: [1, 4, 11, 26], 2: [3, 7, 9, 12, 13, 15, 18, 20, 21, 22, 25, 27, 29, 31], 3: [0, 5, 8, 10, 17, 19, 28, 30]}\n"
     ]
    }
   ],
   "source": [
    "\n",
    "with open(os.path.join(path_seed, \"round_0\", \"cluster_maps.pkl\"), \"rb\") as f:\n",
    "    maps = pickle.load(f)\n",
    "print(maps)"
   ]
  },
  {
   "cell_type": "code",
   "execution_count": 15,
   "metadata": {},
   "outputs": [
    {
     "name": "stdout",
     "output_type": "stream",
     "text": [
      "[tensor(64.8365), tensor(46.1539), tensor(71.3934), tensor(70.6764)]\n"
     ]
    }
   ],
   "source": [
    "refine_models_1 = [torch.load(os.path.join(path_seed, \"round_2\", \"cluster_{}\".format(step),\"metrics_99.pkl\"))['test_acc'][-1] for step in range(len(maps.keys()))]\n",
    "print(refine_models_1)"
   ]
  },
  {
   "cell_type": "code",
   "execution_count": 16,
   "metadata": {},
   "outputs": [
    {
     "name": "stdout",
     "output_type": "stream",
     "text": [
      "tensor(66.8298)\n"
     ]
    }
   ],
   "source": [
    "tot = 0\n",
    "num = 0\n",
    "for i in range(len(maps.keys())):\n",
    "    num += len(maps[i])\n",
    "    tot += refine_models_1[i] * len(maps[i])\n",
    "print(tot/num)"
   ]
  },
  {
   "cell_type": "code",
   "execution_count": null,
   "metadata": {},
   "outputs": [],
   "source": []
  }
 ],
 "metadata": {
  "interpreter": {
   "hash": "c6e470d1113f1d3694e67b12a97a2a56d33eb5b1360332580fa82cd96e4a9609"
  },
  "kernelspec": {
   "display_name": "Python 3 (ipykernel)",
   "language": "python",
   "name": "python3"
  },
  "language_info": {
   "codemirror_mode": {
    "name": "ipython",
    "version": 3
   },
   "file_extension": ".py",
   "mimetype": "text/x-python",
   "name": "python",
   "nbconvert_exporter": "python",
   "pygments_lexer": "ipython3",
   "version": "3.9.7"
  }
 },
 "nbformat": 4,
 "nbformat_minor": 4
}
