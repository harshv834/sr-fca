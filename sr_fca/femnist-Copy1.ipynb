{
 "cells": [
  {
   "cell_type": "code",
   "execution_count": 1,
   "id": "ce87c6fe-bf60-4768-b95c-eb69eb911f85",
   "metadata": {},
   "outputs": [],
   "source": [
    "%load_ext autoreload\n",
    "%autoreload 2"
   ]
  },
  {
   "cell_type": "code",
   "execution_count": 2,
   "id": "89f0770d-397b-478b-ac3d-e95a971a083f",
   "metadata": {},
   "outputs": [],
   "source": [
    "\n",
    "\n",
    "\n",
    "\n",
    "import torch\n",
    "import numpy as np\n",
    "from torch.utils.data import Dataset, DataLoader \n",
    "from abc import ABC\n",
    "from tqdm import tqdm\n",
    "import torchvision\n",
    "import os\n",
    "import torch.nn as nn\n",
    "import torch.nn.functional as F\n",
    "import torch.optim as optim\n",
    "import random\n",
    "import json\n",
    "from collections import OrderedDict\n",
    "import shutil"
   ]
  },
  {
   "cell_type": "code",
   "execution_count": 5,
   "id": "288c0905-d9b3-44ad-a6c7-a09097b1e95d",
   "metadata": {},
   "outputs": [],
   "source": [
    "shutil.rmtree(\"./experiments/results/femnist/seed_9998\")"
   ]
  },
  {
   "cell_type": "code",
   "execution_count": 3,
   "id": "1605b678-fae8-49b9-a586-455fd73292a6",
   "metadata": {},
   "outputs": [],
   "source": [
    "torch.cuda.empty_cache()"
   ]
  },
  {
   "cell_type": "code",
   "execution_count": 7,
   "id": "b20a7e62-cf87-4ad2-971c-26d41772364a",
   "metadata": {},
   "outputs": [
    {
     "data": {
      "text/plain": [
       "301"
      ]
     },
     "execution_count": 7,
     "metadata": {},
     "output_type": "execute_result"
    }
   ],
   "source": []
  },
  {
   "cell_type": "code",
   "execution_count": null,
   "id": "d89c067e-d9a7-4bdc-9af8-f7f908c3cc84",
   "metadata": {},
   "outputs": [],
   "source": []
  },
  {
   "cell_type": "code",
   "execution_count": 3,
   "id": "23339004-f519-4f3f-81a0-f38bcf11ddbf",
   "metadata": {},
   "outputs": [],
   "source": [
    "config = {}\n"
   ]
  },
  {
   "cell_type": "code",
   "execution_count": 4,
   "id": "99f06350-63c9-4001-af6c-33c15cf3bddb",
   "metadata": {},
   "outputs": [],
   "source": [
    "config[\"seed\"] = 0\n",
    "seed = config[\"seed\"]\n",
    "os.environ['PYTHONHASHSEED'] = str(seed)\n",
    "# Torch RNG\n",
    "torch.manual_seed(seed)\n",
    "torch.cuda.manual_seed(seed)\n",
    "torch.cuda.manual_seed_all(seed)\n",
    "# Python RNG\n",
    "np.random.seed(seed)\n",
    "random.seed(seed)\n"
   ]
  },
  {
   "cell_type": "code",
   "execution_count": 5,
   "id": "362df591-0392-4234-b2fc-7e983c715520",
   "metadata": {},
   "outputs": [],
   "source": [
    "config[\"participation_ratio\"] = 0.05/6\n",
    "#config[\"total_num_clients_per_cluster\"] = 80\n",
    "#config[\"num_clients_per_cluster\"] = int(config[\"participation_ratio\"]*config[\"total_num_clients_per_cluster\"])\n",
    "#config[\"num_clusters\"] = 4\n",
    "#config[\"num_clients\"] = config[\"num_clients_per_cluster\"]*config[\"num_clusters\"]\n",
    "config[\"dataset\"] = \"femnist\"\n",
    "#DATASET_LIB = {\"mnist\" : torchvision.datasets.MNIST, \"emnist\": torchvision.datasets.EMNIST, \"cifar10\": torchvision.datasets.CIFAR10}\n",
    "config[\"dataset_dir\"] = \"/base_vol/femnist/data\"\n",
    "config[\"results_dir\"] = \"./experiments/results\"\n",
    "config[\"results_dir\"] = os.path.join(config[\"results_dir\"], config[\"dataset\"], \"seed_{}\".format(seed))\n",
    "os.makedirs(config[\"results_dir\"], exist_ok=True)\n"
   ]
  },
  {
   "cell_type": "code",
   "execution_count": 6,
   "id": "d313418d-9e3b-4f6a-aae1-351246a958ab",
   "metadata": {},
   "outputs": [],
   "source": [
    "from collections import defaultdict\n",
    "def read_dir(data_dir):\n",
    "    clients = []\n",
    "    groups = []\n",
    "    data = defaultdict(lambda : None)\n",
    "\n",
    "    files = os.listdir(data_dir)\n",
    "    files = [f for f in files if f.endswith('.json')]\n",
    "    for f in files:\n",
    "        file_path = os.path.join(data_dir,f)\n",
    "        with open(file_path, 'r') as inf:\n",
    "            cdata = json.load(inf)\n",
    "        clients.extend(cdata['users'])\n",
    "        if 'hierarchies' in cdata:\n",
    "            groups.extend(cdata['hierarchies'])\n",
    "        data.update(cdata['user_data'])\n",
    "\n",
    "    clients = list(sorted(data.keys()))\n",
    "    return clients, groups, data\n",
    "\n",
    "\n",
    "def read_data(train_data_dir, test_data_dir):\n",
    "    '''parses data in given train and test data directories\n",
    "    assumes:\n",
    "    - the data in the input directories are .json files with \n",
    "        keys 'users' and 'user_data'\n",
    "    - the set of train set users is the same as the set of test set users\n",
    "    \n",
    "    Return:\n",
    "        clients: list of client ids\n",
    "        groups: list of group ids; empty list if none found\n",
    "        train_data: dictionary of train data\n",
    "        test_data: dictionary of test data\n",
    "    '''\n",
    "    train_clients, train_groups, train_data = read_dir(train_data_dir)\n",
    "    test_clients, test_groups, test_data = read_dir(test_data_dir)\n",
    "\n",
    "    assert train_clients == test_clients\n",
    "    assert train_groups == test_groups\n",
    "\n",
    "    return train_clients, train_groups, train_data, test_data\n"
   ]
  },
  {
   "cell_type": "code",
   "execution_count": 7,
   "id": "fd0a5184-7e62-4c94-8238-0e75eca8f13d",
   "metadata": {},
   "outputs": [],
   "source": [
    "config[\"total_clients\"], _, train_data, test_data = read_data(os.path.join(config[\"dataset_dir\"],\"train\"), os.path.join(config[\"dataset_dir\"],\"test\"))\n"
   ]
  },
  {
   "cell_type": "code",
   "execution_count": 8,
   "id": "1ea3ea78-2a6a-4634-9fec-a5ffb6c81d61",
   "metadata": {},
   "outputs": [],
   "source": [
    "class ClientDataset(Dataset):\n",
    "    def __init__(self, data,transforms = None):\n",
    "        super(ClientDataset,self).__init__()\n",
    "        self.data = data[0]\n",
    "        self.labels = data[1]\n",
    "        self.transforms = transforms\n",
    "\n",
    "    def __len__(self):\n",
    "        return len(self.data)\n",
    "    \n",
    "    def __getitem__(self,idx):\n",
    "        idx_data = self.data[idx].reshape(28,28)\n",
    "        if self.transforms is not None:\n",
    "            transformed_data =self.transforms(idx_data)\n",
    "        else:\n",
    "            transformed_data = idx_data\n",
    "        idx_labels = self.labels[idx]\n",
    "        return (transformed_data.float(), idx_labels)\n",
    "\n",
    "class Client():\n",
    "    def __init__(self, train_data, test_data, client_id,  train_transforms, test_transforms, train_batch_size, test_batch_size, save_dir):\n",
    "        self.trainset = ClientDataset(train_data, train_transforms)\n",
    "        self.testset = ClientDataset(test_data, test_transforms)\n",
    "        self.trainloader = DataLoader(self.trainset, batch_size = train_batch_size, shuffle=True)\n",
    "        self.testloader = DataLoader(self.testset, batch_size = test_batch_size, shuffle=False)\n",
    "        self.train_iterator = iter(self.trainloader)\n",
    "        self.test_iterator = iter(self.testloader)\n",
    "        self.client_id = client_id\n",
    "        self.save_dir = os.path.join(save_dir, \"init\", \"client_{}\".format(client_id))\n",
    "\n",
    "    def sample_batch(self, train=True):\n",
    "        iterator = self.train_iterator if train else self.test_iterator\n",
    "        try:\n",
    "            (data, labels) = next(iterator)\n",
    "        except StopIteration:\n",
    "            if train:\n",
    "                self.train_iterator = iter(self.trainloader)\n",
    "                iterator = self.train_iterator\n",
    "            else:\n",
    "                self.test_iterator = iter(self.testloader)\n",
    "                iterator = self.test_iterator\n",
    "            (data, labels) = next(iterator)\n",
    "        return (data, labels)\n"
   ]
  },
  {
   "cell_type": "code",
   "execution_count": 9,
   "id": "4474942d-2aa5-462a-acd9-c22b676167a0",
   "metadata": {},
   "outputs": [],
   "source": [
    "config[\"train_batch\"] = 64\n",
    "config[\"test_batch\"] = 512\n",
    "config[\"num_clients\"] = int(len(config[\"total_clients\"])/6)\n"
   ]
  },
  {
   "cell_type": "code",
   "execution_count": null,
   "id": "7c19c755-d961-40da-929a-03600334f42f",
   "metadata": {},
   "outputs": [],
   "source": []
  },
  {
   "cell_type": "code",
   "execution_count": 10,
   "id": "da8c4ee8-c626-4301-8edb-46ec43f3952e",
   "metadata": {},
   "outputs": [],
   "source": [
    "## Generate new clients\n",
    "selected_clients_path = os.path.join(config[\"results_dir\"], \"selected_clients.json\")\n",
    "if os.path.exists(selected_clients_path):\n",
    "    with open(selected_clients_path, \"r\") as f:\n",
    "        config[\"selected_clients\"] = json.load(f)\n",
    "else:\n",
    "    config[\"selected_clients\"] = random.sample(config[\"total_clients\"], config[\"num_clients\"])\n",
    "    with open(selected_clients_path, \"w\") as f:\n",
    "        json.dump(config[\"selected_clients\"], f)"
   ]
  },
  {
   "cell_type": "code",
   "execution_count": 11,
   "id": "7c5ccec3-dc97-4205-8830-52c1792a4e82",
   "metadata": {},
   "outputs": [],
   "source": [
    "client_loaders = []\n",
    "for client_id in config[\"selected_clients\"]:\n",
    "        client_loaders.append(\n",
    "            Client(\n",
    "                (np.array(train_data[client_id]['x']), np.array(train_data[client_id]['y'])),\n",
    "                (np.array(test_data[client_id]['x']), np.array(test_data[client_id]['y'])),\n",
    "                client_id,\n",
    "                train_transforms=torchvision.transforms.ToTensor(),\n",
    "                test_transforms=torchvision.transforms.ToTensor(),\n",
    "                train_batch_size=config[\"train_batch\"],\n",
    "                test_batch_size=config[\"test_batch\"],\n",
    "                save_dir=config[\"results_dir\"],\n",
    "            )\n",
    "        )\n"
   ]
  },
  {
   "cell_type": "code",
   "execution_count": 12,
   "id": "ebad52b1-a170-4aa4-8b96-095eb57ee01f",
   "metadata": {},
   "outputs": [],
   "source": [
    "class SimpleCNN(torch.nn.Module):\n",
    "\n",
    "    def __init__(self, h1=2048):\n",
    "        super().__init__()\n",
    "        self.conv1 = torch.nn.Conv2d(1, 32, kernel_size = (5,5), padding=\"same\")\n",
    "        self.pool1 = torch.nn.MaxPool2d((2,2), stride=2)\n",
    "        self.conv2 = torch.nn.Conv2d(32, 64, kernel_size= (5,5), padding = \"same\")\n",
    "        self.pool2 = torch.nn.MaxPool2d((2,2), stride=2)\n",
    "        self.fc1 = torch.nn.Linear(64*7*7, 2048)\n",
    "        self.fc2 = torch.nn.Linear(2048, 62)\n",
    "\n",
    "    def forward(self, x):\n",
    "        x = F.relu(self.conv1(x))\n",
    "        x = self.pool1(x)\n",
    "        x = self.conv2(x)\n",
    "        x = F.relu(x)\n",
    "        x = self.pool2(x)\n",
    "        x = x.flatten(start_dim=1)\n",
    "        x = F.relu(self.fc1(x))\n",
    "        x = self.fc2(x)\n",
    "        return x\n"
   ]
  },
  {
   "cell_type": "code",
   "execution_count": 13,
   "id": "986ddb6c-2a34-4608-bcd2-9737ba60f689",
   "metadata": {},
   "outputs": [],
   "source": [
    "def set_weights(model):\n",
    "    model_wt = torch.load('/base_vol/model_wt_dict.pt')\n",
    "    new_wts = OrderedDict()\n",
    "    new_wts['fc2.weight'] = torch.Tensor(model_wt[\"dense_1/kernel\"]).t()\n",
    "    new_wts['fc2.bias'] = torch.Tensor(model_wt[\"dense_1/bias\"])\n",
    "    new_wts['fc1.weight'] = torch.Tensor(model_wt[\"dense/kernel\"]).t()\n",
    "    new_wts['fc1.bias'] = torch.Tensor(model_wt[\"dense/bias\"])\n",
    "    new_wts[\"conv1.weight\"] = torch.Tensor(model_wt[\"conv2d/kernel\"]).permute(3,2,0,1)\n",
    "    new_wts[\"conv2.weight\"] = torch.Tensor(model_wt[\"conv2d_1/kernel\"]).permute(3,2,0,1)\n",
    "    new_wts[\"conv1.bias\"] = torch.Tensor(model_wt[\"conv2d/bias\"])\n",
    "    new_wts[\"conv2.bias\"] = torch.Tensor(model_wt[\"conv2d_1/bias\"])\n",
    "    model.load_state_dict(new_wts)\n",
    "    return freeze_layers(model)\n",
    "def freeze_layers(model):\n",
    "    model.conv1.weight.requires_grad =False\n",
    "    model.conv2.weight.requires_grad =False\n",
    "    model.fc1.weight.requires_grad =True\n",
    "    model.fc2.weight.requires_grad =True\n",
    "    model.conv1.bias.requires_grad =False\n",
    "    model.conv2.bias.requires_grad =False\n",
    "    model.fc1.bias.requires_grad =True\n",
    "    model.fc2.bias.requires_grad =True\n",
    "    return model"
   ]
  },
  {
   "cell_type": "code",
   "execution_count": null,
   "id": "614782bb-8725-4297-a722-53ed090efd48",
   "metadata": {},
   "outputs": [],
   "source": []
  },
  {
   "cell_type": "code",
   "execution_count": null,
   "id": "2a950d86-a9f7-4a3e-b2d4-f785ec2f3f38",
   "metadata": {},
   "outputs": [],
   "source": []
  },
  {
   "cell_type": "code",
   "execution_count": null,
   "id": "31fa6de6-1250-4d7c-b61c-26fffa5735ee",
   "metadata": {},
   "outputs": [],
   "source": []
  },
  {
   "cell_type": "code",
   "execution_count": null,
   "id": "f6bacb47-a8c9-4cf5-944b-f6f4929455fe",
   "metadata": {},
   "outputs": [],
   "source": []
  },
  {
   "cell_type": "code",
   "execution_count": null,
   "id": "91f40e36-4e93-42f5-9495-c0609922c517",
   "metadata": {},
   "outputs": [],
   "source": []
  },
  {
   "cell_type": "code",
   "execution_count": null,
   "id": "5b4a177e-6dc1-402e-a931-659848f2f5ac",
   "metadata": {},
   "outputs": [],
   "source": []
  },
  {
   "cell_type": "code",
   "execution_count": 14,
   "id": "ff88ffc7-fbdc-4784-a9b4-e97562b36e3a",
   "metadata": {},
   "outputs": [],
   "source": [
    "def calc_acc(model, device, client_data, train):\n",
    "    loader = client_data.trainloader if train else client_data.testloader\n",
    "    model.eval()\n",
    "    model.to(device)\n",
    "    num_corr = 0\n",
    "    tot_num = 0\n",
    "    with torch.no_grad():\n",
    "        for (X,Y) in loader:\n",
    "            X = X.to(device)\n",
    "            pred = model(X).argmax(axis=1).detach().cpu()\n",
    "            num_corr += (Y == pred).float().sum()\n",
    "            tot_num += Y.shape[0]\n",
    "    acc = num_corr/tot_num\n",
    "    acc *= 100.0\n",
    "    return acc\n"
   ]
  },
  {
   "cell_type": "code",
   "execution_count": 15,
   "id": "bbc75130-2001-468c-9720-0d7c038d6bfe",
   "metadata": {},
   "outputs": [],
   "source": [
    "class BaseTrainer(ABC):\n",
    "    def __init__(self,config, save_dir):\n",
    "        super(BaseTrainer, self).__init__()\n",
    "        self.model = set_weights(MODEL_LIST[config[\"model\"]](**config[\"model_params\"]))\n",
    "        self.save_dir = save_dir\n",
    "        self.device = config[\"device\"]\n",
    "        self.loss_func = LOSSES[config[\"loss_func\"]]\n",
    "        self.config = config\n",
    "        os.makedirs(self.save_dir, exist_ok=True)\n",
    "\n",
    "    def train(self):\n",
    "        raise NotImplementedError\n",
    "    \n",
    "    def test(self):\n",
    "        raise NotImplementedError\n",
    "\n",
    "    def load_model_weights(self):\n",
    "        model_path  = os.path.join(self.save_dir, \"model.pth\")\n",
    "        if os.path.exists(model_path):\n",
    "            self.model.load_state_dict(torch.load(model_path))\n",
    "        else:\n",
    "            print(\"No model present at path : {}\".format())\n",
    "\n",
    "    def save_model_weights(self):\n",
    "        model_path  = os.path.join(self.save_dir, \"model.pth\")\n",
    "        torch.save(self.model.state_dict(), model_path)\n",
    "    def save_metrics(self, train_loss, test_acc, iteration):\n",
    "        torch.save({\"train_loss\": train_loss,  \"test_acc\" : test_acc}, os.path.join(self.save_dir,\"metrics_{}.pkl\".format(iteration)))\n",
    "\n",
    "class ClientTrainer(BaseTrainer):\n",
    "    def __init__(self,  config, save_dir,client_id):\n",
    "        super(ClientTrainer, self).__init__(config, save_dir)\n",
    "        self.client_id = client_id\n",
    "    \n",
    "    def train(self, client_data):\n",
    "        train_loss_list = []\n",
    "        test_acc_list = []\n",
    "        self.model.to(self.device)\n",
    "        self.model.train()\n",
    "        optimizer = OPTIMIZER_LIST[self.config[\"optimizer\"]](self.model.parameters(), **self.config[\"optimizer_params\"])\n",
    "        for iteration in range(self.config[\"iterations\"]):\n",
    "            self.model.zero_grad()\n",
    "            (X,Y) = client_data.sample_batch(train=True)\n",
    "            X = X.to(self.device)\n",
    "            Y = Y.to(self.device)\n",
    "            out = self.model(X)\n",
    "            loss = self.loss_func(out, Y)\n",
    "            loss.backward()\n",
    "            optimizer.step()\n",
    "            train_loss = loss.detach().cpu().numpy().item()\n",
    "            train_loss_list.append(train_loss)\n",
    "            test_acc = calc_acc(self.model, self.device, client_data, train=False)\n",
    "            test_acc_list.append(test_acc)\n",
    "            self.model.train()\n",
    "            if iteration % self.config[\"save_freq\"] == 0 or iteration == self.config[\"iterations\"] - 1:\n",
    "                self.save_model_weights()\n",
    "                self.save_metrics(train_loss_list, test_acc_list, iteration)\n",
    "            if iteration % self.config[\"print_freq\"] == 0 or iteration == self.config[\"iterations\"] - 1:\n",
    "                print(\"Iteration : {} \\n , Train Loss : {} \\n, Test Acc : {} \\n\".format(iteration,  train_loss, test_acc))\n",
    "                \n",
    "        self.model.eval()\n",
    "        self.model.cpu()\n",
    "\n",
    "\n",
    "    def test(self, client_data):\n",
    "        self.load_model_weights()\n",
    "        self.model.eval()\n",
    "        self.model.to(self.device)\n",
    "        acc =  calc_acc(self.model, client_data)\n",
    "        self.model.cpu()\n",
    "        return acc\n",
    "\n",
    "\n"
   ]
  },
  {
   "cell_type": "code",
   "execution_count": 16,
   "id": "0ceaf01d-a71b-4ffa-965d-4aa5e2cc7553",
   "metadata": {},
   "outputs": [],
   "source": [
    "  \n",
    "MODEL_LIST = {\"cnn\" : SimpleCNN}\n",
    "OPTIMIZER_LIST = {\"sgd\": optim.SGD, \"adam\": optim.Adam}\n",
    "LOSSES = {\"cross_entropy\": nn.CrossEntropyLoss()}\n",
    "# config[\"save_dir\"] = os.path.join(\"./results\")\n",
    "config[\"iterations\"] = 100\n",
    "config[\"optimizer_params\"] = {\"lr\":0.001}\n",
    "config[\"save_freq\"] = 2\n",
    "config[\"print_freq\"]  = 50\n",
    "config[\"model\"] = \"cnn\"\n",
    "config[\"optimizer\"] = \"adam\"\n",
    "config[\"loss_func\"] = \"cross_entropy\"\n",
    "#config[\"model_params\"] = {\"num_channels\": 1 , \"num_classes\"  : 62}\n",
    "config[\"model_params\"] = {}\n",
    "config[\"device\"] = torch.device(\"cuda:0\")\n",
    "import pickle\n",
    "\n",
    "\n",
    "\n",
    "\n"
   ]
  },
  {
   "cell_type": "code",
   "execution_count": 21,
   "id": "c5028313-cf08-4044-b734-c5939f4e116c",
   "metadata": {},
   "outputs": [],
   "source": [
    "client_trainers = [ClientTrainer(config,os.path.join(config[\"results_dir\"], \"init\", client_id), client_id) for client_id in config[\"selected_clients\"]]\n"
   ]
  },
  {
   "cell_type": "code",
   "execution_count": 23,
   "id": "4b422335-62cb-44fa-a3f5-1925fe60b3ce",
   "metadata": {},
   "outputs": [
    {
     "name": "stderr",
     "output_type": "stream",
     "text": [
      "  0%|                                                                         | 0/32 [00:00<?, ?it/s]"
     ]
    },
    {
     "name": "stdout",
     "output_type": "stream",
     "text": [
      "Iteration : 0 \n",
      " , Train Loss : 8.403800010681152 \n",
      ", Test Acc : 12.5 \n",
      "\n",
      "Iteration : 50 \n",
      " , Train Loss : 0.036591965705156326 \n",
      ", Test Acc : 68.75 \n",
      "\n"
     ]
    },
    {
     "name": "stderr",
     "output_type": "stream",
     "text": [
      "  3%|██                                                               | 1/32 [00:16<08:43, 16.88s/it]"
     ]
    },
    {
     "name": "stdout",
     "output_type": "stream",
     "text": [
      "Iteration : 99 \n",
      " , Train Loss : 0.025636300444602966 \n",
      ", Test Acc : 68.75 \n",
      "\n",
      "Iteration : 0 \n",
      " , Train Loss : 5.6712965965271 \n",
      ", Test Acc : 0.0 \n",
      "\n",
      "Iteration : 50 \n",
      " , Train Loss : 0.011240771971642971 \n",
      ", Test Acc : 0.0 \n",
      "\n"
     ]
    },
    {
     "name": "stderr",
     "output_type": "stream",
     "text": [
      "  6%|████                                                             | 2/32 [00:26<06:22, 12.75s/it]"
     ]
    },
    {
     "name": "stdout",
     "output_type": "stream",
     "text": [
      "Iteration : 99 \n",
      " , Train Loss : 0.004137152340263128 \n",
      ", Test Acc : 0.0 \n",
      "\n",
      "Iteration : 0 \n",
      " , Train Loss : 9.131110191345215 \n",
      ", Test Acc : 14.285715103149414 \n",
      "\n",
      "Iteration : 50 \n",
      " , Train Loss : 0.016862623393535614 \n",
      ", Test Acc : 64.28571319580078 \n",
      "\n"
     ]
    },
    {
     "name": "stderr",
     "output_type": "stream",
     "text": [
      "  9%|██████                                                           | 3/32 [00:44<07:12, 14.90s/it]"
     ]
    },
    {
     "name": "stdout",
     "output_type": "stream",
     "text": [
      "Iteration : 99 \n",
      " , Train Loss : 0.002873397897928953 \n",
      ", Test Acc : 71.42857360839844 \n",
      "\n",
      "Iteration : 0 \n",
      " , Train Loss : 6.688961505889893 \n",
      ", Test Acc : 8.0 \n",
      "\n",
      "Iteration : 50 \n",
      " , Train Loss : 0.16330811381340027 \n",
      ", Test Acc : 60.000003814697266 \n",
      "\n"
     ]
    },
    {
     "name": "stderr",
     "output_type": "stream",
     "text": [
      " 12%|████████▏                                                        | 4/32 [01:00<07:13, 15.48s/it]"
     ]
    },
    {
     "name": "stdout",
     "output_type": "stream",
     "text": [
      "Iteration : 99 \n",
      " , Train Loss : 0.037593211978673935 \n",
      ", Test Acc : 60.000003814697266 \n",
      "\n",
      "Iteration : 0 \n",
      " , Train Loss : 7.267025947570801 \n",
      ", Test Acc : 18.75 \n",
      "\n",
      "Iteration : 50 \n",
      " , Train Loss : 0.1442040055990219 \n",
      ", Test Acc : 75.0 \n",
      "\n"
     ]
    },
    {
     "name": "stderr",
     "output_type": "stream",
     "text": [
      " 16%|██████████▏                                                      | 5/32 [01:37<10:29, 23.32s/it]"
     ]
    },
    {
     "name": "stdout",
     "output_type": "stream",
     "text": [
      "Iteration : 99 \n",
      " , Train Loss : 0.10409393161535263 \n",
      ", Test Acc : 68.75 \n",
      "\n",
      "Iteration : 0 \n",
      " , Train Loss : 7.497664451599121 \n",
      ", Test Acc : 28.571430206298828 \n",
      "\n",
      "Iteration : 50 \n",
      " , Train Loss : 0.0009631660650484264 \n",
      ", Test Acc : 71.42857360839844 \n",
      "\n"
     ]
    },
    {
     "name": "stderr",
     "output_type": "stream",
     "text": [
      " 19%|████████████▏                                                    | 6/32 [01:47<08:04, 18.63s/it]"
     ]
    },
    {
     "name": "stdout",
     "output_type": "stream",
     "text": [
      "Iteration : 99 \n",
      " , Train Loss : 0.0004981413367204368 \n",
      ", Test Acc : 71.42857360839844 \n",
      "\n",
      "Iteration : 0 \n",
      " , Train Loss : 7.037042617797852 \n",
      ", Test Acc : 0.0 \n",
      "\n",
      "Iteration : 50 \n",
      " , Train Loss : 0.031065799295902252 \n",
      ", Test Acc : 20.0 \n",
      "\n"
     ]
    },
    {
     "name": "stderr",
     "output_type": "stream",
     "text": [
      " 22%|██████████████▏                                                  | 7/32 [01:55<06:18, 15.15s/it]"
     ]
    },
    {
     "name": "stdout",
     "output_type": "stream",
     "text": [
      "Iteration : 99 \n",
      " , Train Loss : 0.008788074366748333 \n",
      ", Test Acc : 20.0 \n",
      "\n",
      "Iteration : 0 \n",
      " , Train Loss : 6.559217929840088 \n",
      ", Test Acc : 11.111111640930176 \n",
      "\n",
      "Iteration : 50 \n",
      " , Train Loss : 0.09433613717556 \n",
      ", Test Acc : 66.66667175292969 \n",
      "\n"
     ]
    },
    {
     "name": "stderr",
     "output_type": "stream",
     "text": [
      " 25%|████████████████▎                                                | 8/32 [02:04<05:21, 13.41s/it]"
     ]
    },
    {
     "name": "stdout",
     "output_type": "stream",
     "text": [
      "Iteration : 99 \n",
      " , Train Loss : 0.02506203018128872 \n",
      ", Test Acc : 66.66667175292969 \n",
      "\n",
      "Iteration : 0 \n",
      " , Train Loss : 6.957663536071777 \n",
      ", Test Acc : 7.142857551574707 \n",
      "\n",
      "Iteration : 50 \n",
      " , Train Loss : 0.26551195979118347 \n",
      ", Test Acc : 50.0 \n",
      "\n"
     ]
    },
    {
     "name": "stderr",
     "output_type": "stream",
     "text": [
      " 28%|██████████████████▎                                              | 9/32 [03:01<10:17, 26.86s/it]"
     ]
    },
    {
     "name": "stdout",
     "output_type": "stream",
     "text": [
      "Iteration : 99 \n",
      " , Train Loss : 0.08959253877401352 \n",
      ", Test Acc : 50.0 \n",
      "\n",
      "Iteration : 0 \n",
      " , Train Loss : 8.287491798400879 \n",
      ", Test Acc : 36.3636360168457 \n",
      "\n",
      "Iteration : 50 \n",
      " , Train Loss : 0.0012678930070251226 \n",
      ", Test Acc : 90.90909576416016 \n",
      "\n"
     ]
    },
    {
     "name": "stderr",
     "output_type": "stream",
     "text": [
      " 31%|████████████████████                                            | 10/32 [03:46<11:52, 32.37s/it]"
     ]
    },
    {
     "name": "stdout",
     "output_type": "stream",
     "text": [
      "Iteration : 99 \n",
      " , Train Loss : 0.0007202834822237492 \n",
      ", Test Acc : 90.90909576416016 \n",
      "\n",
      "Iteration : 0 \n",
      " , Train Loss : 7.022873401641846 \n",
      ", Test Acc : 17.647058486938477 \n",
      "\n",
      "Iteration : 50 \n",
      " , Train Loss : 0.04264714941382408 \n",
      ", Test Acc : 58.82353210449219 \n",
      "\n"
     ]
    },
    {
     "name": "stderr",
     "output_type": "stream",
     "text": [
      " 34%|██████████████████████                                          | 11/32 [04:01<09:30, 27.19s/it]"
     ]
    },
    {
     "name": "stdout",
     "output_type": "stream",
     "text": [
      "Iteration : 99 \n",
      " , Train Loss : 0.014498859643936157 \n",
      ", Test Acc : 58.82353210449219 \n",
      "\n",
      "Iteration : 0 \n",
      " , Train Loss : 7.97418212890625 \n",
      ", Test Acc : 100.0 \n",
      "\n",
      "Iteration : 50 \n",
      " , Train Loss : 0.0 \n",
      ", Test Acc : 100.0 \n",
      "\n"
     ]
    },
    {
     "name": "stderr",
     "output_type": "stream",
     "text": [
      " 38%|████████████████████████                                        | 12/32 [04:09<07:05, 21.25s/it]"
     ]
    },
    {
     "name": "stdout",
     "output_type": "stream",
     "text": [
      "Iteration : 99 \n",
      " , Train Loss : 0.0 \n",
      ", Test Acc : 100.0 \n",
      "\n",
      "Iteration : 0 \n",
      " , Train Loss : 6.342329502105713 \n",
      ", Test Acc : 16.666667938232422 \n",
      "\n",
      "Iteration : 50 \n",
      " , Train Loss : 0.10455552488565445 \n",
      ", Test Acc : 72.22222137451172 \n",
      "\n"
     ]
    },
    {
     "name": "stderr",
     "output_type": "stream",
     "text": [
      " 41%|██████████████████████████                                      | 13/32 [04:16<05:23, 17.03s/it]"
     ]
    },
    {
     "name": "stdout",
     "output_type": "stream",
     "text": [
      "Iteration : 99 \n",
      " , Train Loss : 0.03691640496253967 \n",
      ", Test Acc : 77.77777862548828 \n",
      "\n",
      "Iteration : 0 \n",
      " , Train Loss : 6.055566310882568 \n",
      ", Test Acc : 5.714285850524902 \n",
      "\n",
      "Iteration : 50 \n",
      " , Train Loss : 0.21863023936748505 \n",
      ", Test Acc : 65.71428680419922 \n",
      "\n"
     ]
    },
    {
     "name": "stderr",
     "output_type": "stream",
     "text": [
      " 44%|████████████████████████████                                    | 14/32 [04:28<04:36, 15.38s/it]"
     ]
    },
    {
     "name": "stdout",
     "output_type": "stream",
     "text": [
      "Iteration : 99 \n",
      " , Train Loss : 0.09655528515577316 \n",
      ", Test Acc : 68.5714340209961 \n",
      "\n",
      "Iteration : 0 \n",
      " , Train Loss : 6.021806240081787 \n",
      ", Test Acc : 0.0 \n",
      "\n",
      "Iteration : 50 \n",
      " , Train Loss : 0.12935380637645721 \n",
      ", Test Acc : 63.15789031982422 \n",
      "\n"
     ]
    },
    {
     "name": "stderr",
     "output_type": "stream",
     "text": [
      " 47%|██████████████████████████████                                  | 15/32 [04:36<03:43, 13.16s/it]"
     ]
    },
    {
     "name": "stdout",
     "output_type": "stream",
     "text": [
      "Iteration : 99 \n",
      " , Train Loss : 0.027539853006601334 \n",
      ", Test Acc : 68.42105102539062 \n",
      "\n",
      "Iteration : 0 \n",
      " , Train Loss : 7.837393283843994 \n",
      ", Test Acc : 18.75 \n",
      "\n",
      "Iteration : 50 \n",
      " , Train Loss : 0.08174458146095276 \n",
      ", Test Acc : 87.5 \n",
      "\n"
     ]
    },
    {
     "name": "stderr",
     "output_type": "stream",
     "text": [
      " 50%|████████████████████████████████                                | 16/32 [04:44<03:06, 11.64s/it]"
     ]
    },
    {
     "name": "stdout",
     "output_type": "stream",
     "text": [
      "Iteration : 99 \n",
      " , Train Loss : 0.06681635230779648 \n",
      ", Test Acc : 87.5 \n",
      "\n",
      "Iteration : 0 \n",
      " , Train Loss : 6.74637508392334 \n",
      ", Test Acc : 9.523809432983398 \n",
      "\n",
      "Iteration : 50 \n",
      " , Train Loss : 0.11120343953371048 \n",
      ", Test Acc : 76.19047546386719 \n",
      "\n"
     ]
    },
    {
     "name": "stderr",
     "output_type": "stream",
     "text": [
      " 53%|██████████████████████████████████                              | 17/32 [05:09<03:57, 15.82s/it]"
     ]
    },
    {
     "name": "stdout",
     "output_type": "stream",
     "text": [
      "Iteration : 99 \n",
      " , Train Loss : 0.056501198559999466 \n",
      ", Test Acc : 76.19047546386719 \n",
      "\n",
      "Iteration : 0 \n",
      " , Train Loss : 7.328262805938721 \n",
      ", Test Acc : 5.555555820465088 \n",
      "\n",
      "Iteration : 50 \n",
      " , Train Loss : 0.12258609384298325 \n",
      ", Test Acc : 72.22222137451172 \n",
      "\n"
     ]
    },
    {
     "name": "stderr",
     "output_type": "stream",
     "text": [
      " 56%|████████████████████████████████████                            | 18/32 [05:18<03:11, 13.67s/it]"
     ]
    },
    {
     "name": "stdout",
     "output_type": "stream",
     "text": [
      "Iteration : 99 \n",
      " , Train Loss : 0.04092942178249359 \n",
      ", Test Acc : 72.22222137451172 \n",
      "\n",
      "Iteration : 0 \n",
      " , Train Loss : 5.433204650878906 \n",
      ", Test Acc : 33.333335876464844 \n",
      "\n",
      "Iteration : 50 \n",
      " , Train Loss : 0.08512686938047409 \n",
      ", Test Acc : 77.77777862548828 \n",
      "\n"
     ]
    },
    {
     "name": "stderr",
     "output_type": "stream",
     "text": [
      " 59%|██████████████████████████████████████                          | 19/32 [05:26<02:34, 11.87s/it]"
     ]
    },
    {
     "name": "stdout",
     "output_type": "stream",
     "text": [
      "Iteration : 99 \n",
      " , Train Loss : 0.017638977617025375 \n",
      ", Test Acc : 66.66667175292969 \n",
      "\n",
      "Iteration : 0 \n",
      " , Train Loss : 8.199926376342773 \n",
      ", Test Acc : 23.52941131591797 \n",
      "\n",
      "Iteration : 50 \n",
      " , Train Loss : 0.08586252480745316 \n",
      ", Test Acc : 52.94117736816406 \n",
      "\n"
     ]
    },
    {
     "name": "stderr",
     "output_type": "stream",
     "text": [
      " 62%|████████████████████████████████████████                        | 20/32 [05:40<02:32, 12.72s/it]"
     ]
    },
    {
     "name": "stdout",
     "output_type": "stream",
     "text": [
      "Iteration : 99 \n",
      " , Train Loss : 0.042928822338581085 \n",
      ", Test Acc : 52.94117736816406 \n",
      "\n",
      "Iteration : 0 \n",
      " , Train Loss : 7.489833831787109 \n",
      ", Test Acc : 12.5 \n",
      "\n",
      "Iteration : 50 \n",
      " , Train Loss : 0.34132108092308044 \n",
      ", Test Acc : 62.5 \n",
      "\n"
     ]
    },
    {
     "name": "stderr",
     "output_type": "stream",
     "text": [
      " 66%|██████████████████████████████████████████                      | 21/32 [05:53<02:19, 12.66s/it]"
     ]
    },
    {
     "name": "stdout",
     "output_type": "stream",
     "text": [
      "Iteration : 99 \n",
      " , Train Loss : 0.08666824549436569 \n",
      ", Test Acc : 62.5 \n",
      "\n",
      "Iteration : 0 \n",
      " , Train Loss : 6.907412052154541 \n",
      ", Test Acc : 0.0 \n",
      "\n",
      "Iteration : 50 \n",
      " , Train Loss : 0.1850575953722 \n",
      ", Test Acc : 67.64705657958984 \n",
      "\n"
     ]
    },
    {
     "name": "stderr",
     "output_type": "stream",
     "text": [
      " 69%|████████████████████████████████████████████                    | 22/32 [06:07<02:11, 13.15s/it]"
     ]
    },
    {
     "name": "stdout",
     "output_type": "stream",
     "text": [
      "Iteration : 99 \n",
      " , Train Loss : 0.04333963617682457 \n",
      ", Test Acc : 70.5882339477539 \n",
      "\n",
      "Iteration : 0 \n",
      " , Train Loss : 7.1721086502075195 \n",
      ", Test Acc : 8.333333969116211 \n",
      "\n",
      "Iteration : 50 \n",
      " , Train Loss : 0.10060359537601471 \n",
      ", Test Acc : 79.16667175292969 \n",
      "\n"
     ]
    },
    {
     "name": "stderr",
     "output_type": "stream",
     "text": [
      " 72%|██████████████████████████████████████████████                  | 23/32 [06:26<02:14, 14.99s/it]"
     ]
    },
    {
     "name": "stdout",
     "output_type": "stream",
     "text": [
      "Iteration : 99 \n",
      " , Train Loss : 0.010694082826375961 \n",
      ", Test Acc : 83.33332824707031 \n",
      "\n",
      "Iteration : 0 \n",
      " , Train Loss : 6.145168781280518 \n",
      ", Test Acc : 9.67741870880127 \n",
      "\n",
      "Iteration : 50 \n",
      " , Train Loss : 0.2902585566043854 \n",
      ", Test Acc : 58.06451416015625 \n",
      "\n"
     ]
    },
    {
     "name": "stderr",
     "output_type": "stream",
     "text": [
      " 75%|████████████████████████████████████████████████                | 24/32 [06:41<01:58, 14.83s/it]"
     ]
    },
    {
     "name": "stdout",
     "output_type": "stream",
     "text": [
      "Iteration : 99 \n",
      " , Train Loss : 0.12190034240484238 \n",
      ", Test Acc : 64.51612854003906 \n",
      "\n",
      "Iteration : 0 \n",
      " , Train Loss : 5.732304573059082 \n",
      ", Test Acc : 14.634145736694336 \n",
      "\n",
      "Iteration : 50 \n",
      " , Train Loss : 0.3019353449344635 \n",
      ", Test Acc : 87.80487823486328 \n",
      "\n"
     ]
    },
    {
     "name": "stderr",
     "output_type": "stream",
     "text": [
      " 78%|██████████████████████████████████████████████████              | 25/32 [07:15<02:25, 20.75s/it]"
     ]
    },
    {
     "name": "stdout",
     "output_type": "stream",
     "text": [
      "Iteration : 99 \n",
      " , Train Loss : 0.1557682901620865 \n",
      ", Test Acc : 87.80487823486328 \n",
      "\n",
      "Iteration : 0 \n",
      " , Train Loss : 7.57725715637207 \n",
      ", Test Acc : 9.090909004211426 \n",
      "\n",
      "Iteration : 50 \n",
      " , Train Loss : 0.04681456461548805 \n",
      ", Test Acc : 63.6363639831543 \n",
      "\n"
     ]
    },
    {
     "name": "stderr",
     "output_type": "stream",
     "text": [
      " 81%|████████████████████████████████████████████████████            | 26/32 [07:23<01:41, 16.86s/it]"
     ]
    },
    {
     "name": "stdout",
     "output_type": "stream",
     "text": [
      "Iteration : 99 \n",
      " , Train Loss : 0.02719501033425331 \n",
      ", Test Acc : 72.7272720336914 \n",
      "\n",
      "Iteration : 0 \n",
      " , Train Loss : 6.136054992675781 \n",
      ", Test Acc : 15.384615898132324 \n",
      "\n",
      "Iteration : 50 \n",
      " , Train Loss : 0.09329338371753693 \n",
      ", Test Acc : 53.84615707397461 \n",
      "\n"
     ]
    },
    {
     "name": "stderr",
     "output_type": "stream",
     "text": [
      " 84%|██████████████████████████████████████████████████████          | 27/32 [07:29<01:08, 13.63s/it]"
     ]
    },
    {
     "name": "stdout",
     "output_type": "stream",
     "text": [
      "Iteration : 99 \n",
      " , Train Loss : 0.027593420818448067 \n",
      ", Test Acc : 53.84615707397461 \n",
      "\n",
      "Iteration : 0 \n",
      " , Train Loss : 6.9609832763671875 \n",
      ", Test Acc : 11.764705657958984 \n",
      "\n",
      "Iteration : 50 \n",
      " , Train Loss : 0.06471414864063263 \n",
      ", Test Acc : 64.70588684082031 \n",
      "\n"
     ]
    },
    {
     "name": "stderr",
     "output_type": "stream",
     "text": [
      " 88%|████████████████████████████████████████████████████████        | 28/32 [07:37<00:46, 11.73s/it]"
     ]
    },
    {
     "name": "stdout",
     "output_type": "stream",
     "text": [
      "Iteration : 99 \n",
      " , Train Loss : 0.05900261551141739 \n",
      ", Test Acc : 64.70588684082031 \n",
      "\n",
      "Iteration : 0 \n",
      " , Train Loss : 8.158488273620605 \n",
      ", Test Acc : 6.25 \n",
      "\n",
      "Iteration : 50 \n",
      " , Train Loss : 0.035312116146087646 \n",
      ", Test Acc : 68.75 \n",
      "\n"
     ]
    },
    {
     "name": "stderr",
     "output_type": "stream",
     "text": [
      " 91%|██████████████████████████████████████████████████████████      | 29/32 [08:05<00:50, 16.70s/it]"
     ]
    },
    {
     "name": "stdout",
     "output_type": "stream",
     "text": [
      "Iteration : 99 \n",
      " , Train Loss : 0.003174713347107172 \n",
      ", Test Acc : 68.75 \n",
      "\n",
      "Iteration : 0 \n",
      " , Train Loss : 7.357988357543945 \n",
      ", Test Acc : 17.647058486938477 \n",
      "\n",
      "Iteration : 50 \n",
      " , Train Loss : 0.054672472178936005 \n",
      ", Test Acc : 76.47058868408203 \n",
      "\n"
     ]
    },
    {
     "name": "stderr",
     "output_type": "stream",
     "text": [
      " 94%|████████████████████████████████████████████████████████████    | 30/32 [08:13<00:28, 14.14s/it]"
     ]
    },
    {
     "name": "stdout",
     "output_type": "stream",
     "text": [
      "Iteration : 99 \n",
      " , Train Loss : 0.01016292441636324 \n",
      ", Test Acc : 76.47058868408203 \n",
      "\n",
      "Iteration : 0 \n",
      " , Train Loss : 6.999804496765137 \n",
      ", Test Acc : 14.285715103149414 \n",
      "\n",
      "Iteration : 50 \n",
      " , Train Loss : 0.020850175991654396 \n",
      ", Test Acc : 78.57142639160156 \n",
      "\n"
     ]
    },
    {
     "name": "stderr",
     "output_type": "stream",
     "text": [
      " 97%|██████████████████████████████████████████████████████████████  | 31/32 [08:21<00:12, 12.36s/it]"
     ]
    },
    {
     "name": "stdout",
     "output_type": "stream",
     "text": [
      "Iteration : 99 \n",
      " , Train Loss : 0.00518223037943244 \n",
      ", Test Acc : 85.71428680419922 \n",
      "\n",
      "Iteration : 0 \n",
      " , Train Loss : 5.453310489654541 \n",
      ", Test Acc : 18.18181800842285 \n",
      "\n",
      "Iteration : 50 \n",
      " , Train Loss : 0.08098278194665909 \n",
      ", Test Acc : 81.81818389892578 \n",
      "\n"
     ]
    },
    {
     "name": "stderr",
     "output_type": "stream",
     "text": [
      "100%|████████████████████████████████████████████████████████████████| 32/32 [08:45<00:00, 16.43s/it]"
     ]
    },
    {
     "name": "stdout",
     "output_type": "stream",
     "text": [
      "Iteration : 99 \n",
      " , Train Loss : 0.013384316116571426 \n",
      ", Test Acc : 81.81818389892578 \n",
      "\n"
     ]
    },
    {
     "name": "stderr",
     "output_type": "stream",
     "text": [
      "\n"
     ]
    }
   ],
   "source": [
    "for i in tqdm(range(len(config[\"selected_clients\"]))):\n",
    "    client_trainers[i].train(client_loaders[i])\n"
   ]
  },
  {
   "cell_type": "code",
   "execution_count": 21,
   "id": "a5720b00-7adf-43db-bc72-3801f9289209",
   "metadata": {},
   "outputs": [],
   "source": [
    "## Load model weights\n",
    "for trainer in client_trainers:\n",
    "    trainer.load_model_weights()\n"
   ]
  },
  {
   "cell_type": "code",
   "execution_count": 24,
   "id": "2c7578d8-e366-4188-9462-a164bf682c2d",
   "metadata": {},
   "outputs": [
    {
     "name": "stdout",
     "output_type": "stream",
     "text": [
      "Local Accuracy : 67.80694580078125\n"
     ]
    }
   ],
   "source": [
    "local_acc = 0\n",
    "for i in range(len(client_loaders)):\n",
    "    local_acc += calc_acc(client_trainers[i].model, config[\"device\"], client_loaders[i], train=False)\n",
    "local_acc = local_acc/len(client_loaders)\n",
    "print(f\"Local Accuracy : {local_acc}\")"
   ]
  },
  {
   "cell_type": "code",
   "execution_count": 2,
   "id": "ec56b3b9-f395-4672-b262-c2336bdfef81",
   "metadata": {},
   "outputs": [
    {
     "ename": "NameError",
     "evalue": "name 'client_trainers' is not defined",
     "output_type": "error",
     "traceback": [
      "\u001b[0;31m---------------------------------------------------------------------------\u001b[0m",
      "\u001b[0;31mNameError\u001b[0m                                 Traceback (most recent call last)",
      "Input \u001b[0;32mIn [2]\u001b[0m, in \u001b[0;36m<module>\u001b[0;34m\u001b[0m\n\u001b[0;32m----> 1\u001b[0m \u001b[43mclient_trainers\u001b[49m\n",
      "\u001b[0;31mNameError\u001b[0m: name 'client_trainers' is not defined"
     ]
    }
   ],
   "source": [
    "prin"
   ]
  },
  {
   "cell_type": "code",
   "execution_count": 18,
   "id": "942f7386-d355-4bed-b967-41d664b14dce",
   "metadata": {},
   "outputs": [],
   "source": [
    "a = 0\n",
    "for i, trainer in enumerate(client_trainers):\n",
    "    a+= calc_acc(trainer.model, config[\"device\"], client_loaders[i], train=False)"
   ]
  },
  {
   "cell_type": "code",
   "execution_count": 19,
   "id": "ad9d0abc-f513-40d6-88eb-9c88f3f15332",
   "metadata": {},
   "outputs": [
    {
     "name": "stdout",
     "output_type": "stream",
     "text": [
      "tensor(66.1461)\n"
     ]
    }
   ],
   "source": [
    "print(a/len(client_trainers))"
   ]
  },
  {
   "cell_type": "code",
   "execution_count": 59,
   "id": "61231284-c353-4c67-a040-49c082476ce2",
   "metadata": {},
   "outputs": [],
   "source": [
    "# config[\"iterations\"] = 100\n",
    "# config[\"optimizer_params\"] = {\"lr\":0.001}\n",
    "# config[\"save_freq\"] = 2\n",
    "# config[\"print_freq\"]  = 40\n",
    "# config[\"model\"] = \"cnn\"\n",
    "# config[\"optimizer\"] = \"adam\"\n",
    "# config[\"loss_func\"] = \"cross_entropy\"\n",
    "# #config[\"model_params\"] = {\"num_channels\": 1 , \"num_classes\"  : 62}\n",
    "# config[\"model_params\"] = {}\n",
    "# config[\"device\"] = torch.device(\"cuda:0\")\n",
    "\n",
    "# client_id = config[\"selected_clients\"][0]\n",
    "# client_trainers[0] = ClientTrainer(config,os.path.join(config[\"results_dir\"], \"init\", client_id), client_id)\n",
    "# client_trainers[0].train(client_loaders[0])\n",
    "import networkx as nx\n",
    "\n"
   ]
  },
  {
   "cell_type": "code",
   "execution_count": 25,
   "id": "8b3f3c8c-b68e-43b4-86b2-f63dbf98fb71",
   "metadata": {},
   "outputs": [],
   "source": [
    "import networkx as nx\n",
    "G = nx.Graph()\n",
    "G.add_nodes_from(range(config[\"num_clients\"]))\n",
    "import itertools\n",
    "def model_weights_diff(w_1, w_2):\n",
    "    norm_sq = 0\n",
    "    assert w_1.keys() == w_2.keys(), \"Model weights have different keys\"\n",
    "    for key in w_1.keys():\n",
    "        norm_sq  += (w_1[key].cpu() - w_2[key].cpu()).norm()**2\n",
    "    return np.sqrt(norm_sq)\n",
    "wt = client_trainers[0].model.state_dict()\n"
   ]
  },
  {
   "cell_type": "code",
   "execution_count": 26,
   "id": "7d381a82-e77b-484e-8012-a8d4707430eb",
   "metadata": {},
   "outputs": [],
   "source": [
    "all_pairs = list(itertools.combinations(range(config[\"num_clients\"]),2))\n",
    "arr = []\n",
    "for pair in all_pairs:\n",
    "    w_1  = client_trainers[pair[0]].model.state_dict()\n",
    "    w_2 = client_trainers[pair[1]].model.state_dict()\n",
    "    norm_diff = model_weights_diff(w_1, w_2)\n",
    "    arr.append(norm_diff)\n",
    "#thresh = torch.mean(torch.tensor(arr))\n"
   ]
  },
  {
   "cell_type": "code",
   "execution_count": 27,
   "id": "15682b83-25ae-4cf7-bdb1-19e47ae5954c",
   "metadata": {},
   "outputs": [],
   "source": [
    "thresh = arr[torch.tensor(arr).argsort()[int(0.3*len(arr))-1]]\n"
   ]
  },
  {
   "cell_type": "code",
   "execution_count": null,
   "id": "7bda696c-c5c2-49bd-b885-2437e72981ee",
   "metadata": {},
   "outputs": [],
   "source": []
  },
  {
   "cell_type": "code",
   "execution_count": null,
   "id": "cbfd6f7e-55f7-4806-8db8-bb0b3e906e43",
   "metadata": {},
   "outputs": [],
   "source": []
  },
  {
   "cell_type": "code",
   "execution_count": 28,
   "id": "275cf64b-9bb9-420a-bc82-9405d56f2063",
   "metadata": {},
   "outputs": [],
   "source": [
    "clustering = []\n",
    "def correlation_clustering(G):\n",
    "    global clustering\n",
    "    if len(G.nodes) == 0:\n",
    "        return\n",
    "    else:\n",
    "        cluster = []\n",
    "        new_cluster_pivot = random.sample(G.nodes,1)[0]\n",
    "        cluster.append(new_cluster_pivot)\n",
    "        neighbors = G[new_cluster_pivot].copy()\n",
    "        for node in neighbors:\n",
    "            cluster.append(node)\n",
    "            G.remove_node(node)\n",
    "        G.remove_node(new_cluster_pivot)\n",
    "        clustering.append(cluster)\n",
    "        correlation_clustering(G)\n"
   ]
  },
  {
   "cell_type": "code",
   "execution_count": 29,
   "id": "f7166e1d-da1b-4daf-ad35-25a154dc55d1",
   "metadata": {},
   "outputs": [
    {
     "name": "stdout",
     "output_type": "stream",
     "text": [
      "4\n"
     ]
    },
    {
     "name": "stderr",
     "output_type": "stream",
     "text": [
      "/tmp/ipykernel_86397/3212757151.py:8: DeprecationWarning: Sampling from a set deprecated\n",
      "since Python 3.9 and will be removed in a subsequent version.\n",
      "  new_cluster_pivot = random.sample(G.nodes,1)[0]\n"
     ]
    }
   ],
   "source": [
    "while True:\n",
    "    G = nx.Graph()\n",
    "    G.add_nodes_from(range(config[\"num_clients\"]))\n",
    "    for i in range(len(all_pairs)):\n",
    "        if arr[i] < thresh:\n",
    "            G.add_edge(all_pairs[i][0], all_pairs[i][1])\n",
    "    G = G.to_undirected()\n",
    "    clustering = []\n",
    "    correlation_clustering(G)\n",
    "    clusters = [cluster  for cluster in clustering if len(cluster) > 1 ]\n",
    "    print(len(clusters))\n",
    "    if len(clusters) >= 2:\n",
    "        break\n",
    "    \n",
    "cluster_map = {i: clusters[i] for i in range(len(clusters))}\n",
    "beta = 0.2"
   ]
  },
  {
   "cell_type": "code",
   "execution_count": 30,
   "id": "af49998a-f12c-4396-8b47-7654d9c336a6",
   "metadata": {},
   "outputs": [],
   "source": [
    "os.makedirs(os.path.join(config[\"results_dir\"],\"refine_0\"),exist_ok=True)\n",
    "with open(os.path.join(config[\"results_dir\"],\"refine_0\", \"cluster_maps.pkl\"), 'wb') as handle:\n",
    "    pickle.dump(cluster_map, handle, protocol=pickle.HIGHEST_PROTOCOL)"
   ]
  },
  {
   "cell_type": "code",
   "execution_count": 56,
   "id": "ea59ac26-d489-45ea-a507-63e7bb218d19",
   "metadata": {},
   "outputs": [
    {
     "data": {
      "text/plain": [
       "{0: [8, 2, 3, 21, 22, 27, 29, 30, 31],\n",
       " 1: [0, 15, 24, 25],\n",
       " 2: [6, 10, 17],\n",
       " 3: [26, 5],\n",
       " 4: [16, 13]}"
      ]
     },
     "execution_count": 56,
     "metadata": {},
     "output_type": "execute_result"
    }
   ],
   "source": [
    "cluster_map"
   ]
  },
  {
   "cell_type": "code",
   "execution_count": null,
   "id": "30be3c3a-9206-4927-a6f7-8905cea9c4be",
   "metadata": {},
   "outputs": [],
   "source": []
  },
  {
   "cell_type": "code",
   "execution_count": 31,
   "id": "787ff6cb-755c-43a6-9382-4aa001ba97b2",
   "metadata": {},
   "outputs": [],
   "source": [
    "class ClusterTrainer(BaseTrainer):\n",
    "    def __init__(self,  config, save_dir,cluster_id):\n",
    "        super(ClusterTrainer, self).__init__(config, save_dir)\n",
    "        self.cluster_id = cluster_id\n",
    "    \n",
    "    def train(self, client_data_list):\n",
    "        num_clients = len(client_data_list)\n",
    "\n",
    "        train_loss_list = []\n",
    "        test_acc_list = []\n",
    "        self.model.to(self.device)\n",
    "        self.model.train()\n",
    "        \n",
    "        \n",
    "        optimizer = OPTIMIZER_LIST[self.config[\"optimizer\"]](self.model.parameters(), **self.config[\"optimizer_params\"])\n",
    "        #eff_num_workers = int(num_clients/(1 - 2*beta))\n",
    "        # if eff_num_workers > 0:\n",
    "        #     eff_batch_size = self.config[\"train_batch\"]/eff_num_workers\n",
    "        #     for i in range(num_clients):\n",
    "        #         client_data_list[i].trainloader.batch_size = eff_batch_size\n",
    "                \n",
    "        for iteration in tqdm(range(self.config[\"iterations\"])):\n",
    "            trmean_buffer = {}\n",
    "            for idx, param in self.model.named_parameters():\n",
    "                if param.requires_grad:\n",
    "                    trmean_buffer[idx] = []\n",
    "            train_loss = 0\n",
    "            #optimizer.zero_grad(set_to_none=True)\n",
    "\n",
    "            for client in client_data_list:\n",
    "                #if eff_num_workers>0:\n",
    "                optimizer.zero_grad(set_to_none=True)\n",
    "                (X,Y) = client.sample_batch()\n",
    "                X = X.to(config[\"device\"])\n",
    "                Y = Y.to(config[\"device\"])\n",
    "                loss_func = nn.CrossEntropyLoss()\n",
    "                out = self.model(X)\n",
    "                loss = loss_func(out,Y)\n",
    "                loss.backward()\n",
    "                train_loss += loss.detach().cpu().numpy().item()\n",
    "                \n",
    "                with torch.no_grad():\n",
    "                    for idx, param in self.model.named_parameters():\n",
    "                        if param.requires_grad:\n",
    "                            trmean_buffer[idx].append(param.grad.clone())\n",
    "            train_loss = train_loss/num_clients\n",
    "            optimizer.zero_grad()\n",
    "            \n",
    "            start_idx = int(beta*num_clients)\n",
    "            end_idx = int((1-beta)*num_clients)\n",
    "            if end_idx <= start_idx + 1:\n",
    "                start_idx = 0\n",
    "                end_idx = num_clients\n",
    "\n",
    "\n",
    "            for idx, param in self.model.named_parameters():\n",
    "                if param.requires_grad:\n",
    "                    sorted, _  = torch.sort(torch.stack(trmean_buffer[idx], dim=0), dim=0)\n",
    "                    new_grad = sorted[start_idx:end_idx,...].mean(dim=0)\n",
    "                    param.grad = new_grad\n",
    "                    trmean_buffer[idx] = []\n",
    "            optimizer.step()\n",
    "            \n",
    "            train_loss_list.append(train_loss)\n",
    "            test_acc = 0\n",
    "            for client_data in client_data_list:\n",
    "                test_acc += calc_acc(self.model, self.device, client_data, train=False)\n",
    "            test_acc = test_acc/num_clients\n",
    "            test_acc_list.append(test_acc)\n",
    "            self.model.train()\n",
    "            if iteration % self.config[\"save_freq\"] == 0 or iteration == self.config[\"iterations\"] - 1:\n",
    "                self.save_model_weights()\n",
    "                self.save_metrics(train_loss_list, test_acc_list, iteration)\n",
    "            if iteration % self.config[\"print_freq\"] == 0 or iteration == self.config[\"iterations\"] - 1:\n",
    "                print(\"Iteration : {} \\n , Train Loss : {} \\n, Test Acc : {} \\n\".format(iteration,  train_loss, test_acc))\n",
    "                \n",
    "        self.model.eval()\n",
    "        self.model.cpu()\n",
    "\n",
    "\n",
    "    def test(self, client_data_list):\n",
    "        self.load_model_weights()\n",
    "        self.model.eval()\n",
    "        self.model.to(self.device)\n",
    "        test_acc = 0\n",
    "        for client_data in client_data_list:\n",
    "            test_acc += calc_acc(self.model, self.device, client_data, train=False)\n",
    "        test_acc = test_acc/len(client_data_list)\n",
    "        self.model.cpu()\n",
    "        return test_acc\n",
    "\n",
    "\n",
    "def avg_acc(model_wts, client_data_list):\n",
    "    orig = model_wts[0]\n",
    "    if len(model_wts) > 0:\n",
    "        for wt in model_wts[1:]:\n",
    "            for key in orig.keys():\n",
    "                if orig[key].dtype == torch.float32:\n",
    "                    orig[key] += wt[key] \n",
    "        for key in orig.keys():\n",
    "            if orig[key].dtype == torch.float32:\n",
    "                orig[key] = orig[key]/len(model_wts)\n",
    "    model = SimpleCNN()\n",
    "    model.load_state_dict(orig)\n",
    "    model.to(memory_format = torch.channels_last).cuda()\n",
    "    test_acc = 0\n",
    "    for client_data in client_data_list:\n",
    "        test_acc += calc_acc(model, torch.device(\"cuda:0\"), client_data, train=False)\n",
    "    test_acc = test_acc/len(client_data_list)\n",
    "    return test_acc, orig\n"
   ]
  },
  {
   "cell_type": "code",
   "execution_count": 32,
   "id": "4a7a5282-1489-4ae8-a3b2-9d29c0821c05",
   "metadata": {},
   "outputs": [],
   "source": [
    "config[\"refine_steps\"] = 2"
   ]
  },
  {
   "cell_type": "code",
   "execution_count": null,
   "id": "b9a424c4-10d5-4fb5-ba14-d6e62d56348b",
   "metadata": {},
   "outputs": [],
   "source": [
    "import re\n",
    "\n",
    "refine_step = 0\n",
    "refine_path = os.path.join(config[\"results_dir\"], f\"refine_{refine_step}\")\n",
    "num_clusters = [x for x in os.listdir(refine_path) if re.match(\"cluster_\\d\", x) is not None]\n",
    "\n",
    "with open(os.path.join(config[\"results_dir\"], \"refine_1\", \"cluster_maps.pkl\"), \"rb\") as handle:\n",
    "    cluster_map = pickle.load(handle)"
   ]
  },
  {
   "cell_type": "code",
   "execution_count": null,
   "id": "f12d0409-2d8b-4044-8110-637e57706477",
   "metadata": {},
   "outputs": [],
   "source": [
    "import re\n",
    "if re.match(\"cluster_\\d\", \"cluster_1\") is not None:\n",
    "    print(\"here\")\n",
    "os.listdir(os.path.join(refine_path, \"cluster_0\", \"model.pth\"))"
   ]
  },
  {
   "cell_type": "code",
   "execution_count": null,
   "id": "47f105df-3d55-4d56-a745-800e7037d16e",
   "metadata": {},
   "outputs": [],
   "source": []
  },
  {
   "cell_type": "code",
   "execution_count": 60,
   "id": "95918b7d-2f83-4bbe-ad8a-8f4850582996",
   "metadata": {},
   "outputs": [],
   "source": [
    "with open(os.path.join(config[\"results_dir\"],\"refine_1\", \"cluster_maps.pkl\"), 'rb') as handle:\n",
    "    cluster_map = pickle.load(handle)\n"
   ]
  },
  {
   "cell_type": "code",
   "execution_count": 64,
   "id": "2b69b7b7-fea9-4a3e-bbaa-8fc2aa8165bf",
   "metadata": {},
   "outputs": [
    {
     "data": {
      "text/plain": [
       "72.13379859924316"
      ]
     },
     "execution_count": 64,
     "metadata": {},
     "output_type": "execute_result"
    }
   ],
   "source": [
    "(len(cluster_map[0]) *80.82542419433594 + len(cluster_map[1])*68.18305969238281)/(len(cluster_map[0]) + len(cluster_map[1]))"
   ]
  },
  {
   "cell_type": "code",
   "execution_count": 33,
   "id": "28f1895f-b3b4-4d98-8623-f1dc102f61d1",
   "metadata": {},
   "outputs": [
    {
     "name": "stderr",
     "output_type": "stream",
     "text": [
      "  0%|                                                                          | 0/2 [00:00<?, ?it/s]\n",
      "  0%|                                                                          | 0/4 [00:00<?, ?it/s]\u001b[A\n",
      "\n",
      "  0%|                                                                        | 0/100 [00:00<?, ?it/s]\u001b[A\u001b[A\n",
      "\n",
      "  1%|▋                                                               | 1/100 [00:00<00:14,  6.65it/s]\u001b[A\u001b[A"
     ]
    },
    {
     "name": "stdout",
     "output_type": "stream",
     "text": [
      "Iteration : 0 \n",
      " , Train Loss : 6.860051155090332 \n",
      ", Test Acc : 5.2920637130737305 \n",
      "\n"
     ]
    },
    {
     "name": "stderr",
     "output_type": "stream",
     "text": [
      "\n",
      "\n",
      "  3%|█▉                                                              | 3/100 [00:00<00:13,  7.25it/s]\u001b[A\u001b[A\n",
      "\n",
      "  5%|███▏                                                            | 5/100 [00:00<00:15,  5.98it/s]\u001b[A\u001b[A\n",
      "\n",
      "  7%|████▍                                                           | 7/100 [00:01<00:12,  7.17it/s]\u001b[A\u001b[A\n",
      "\n",
      "  9%|█████▊                                                          | 9/100 [00:01<00:12,  7.14it/s]\u001b[A\u001b[A\n",
      "\n",
      " 11%|██████▉                                                        | 11/100 [00:01<00:13,  6.50it/s]\u001b[A\u001b[A\n",
      "\n",
      " 13%|████████▏                                                      | 13/100 [00:01<00:12,  6.94it/s]\u001b[A\u001b[A\n",
      "\n",
      " 15%|█████████▍                                                     | 15/100 [00:02<00:10,  7.81it/s]\u001b[A\u001b[A\n",
      "\n",
      " 17%|██████████▋                                                    | 17/100 [00:02<00:09,  8.47it/s]\u001b[A\u001b[A\n",
      "\n",
      " 19%|███████████▉                                                   | 19/100 [00:02<00:10,  7.48it/s]\u001b[A\u001b[A\n",
      "\n",
      " 21%|█████████████▏                                                 | 21/100 [00:02<00:09,  8.32it/s]\u001b[A\u001b[A\n",
      "\n",
      " 23%|██████████████▍                                                | 23/100 [00:02<00:08,  8.94it/s]\u001b[A\u001b[A\n",
      "\n",
      " 25%|███████████████▊                                               | 25/100 [00:03<00:07,  9.51it/s]\u001b[A\u001b[A\n",
      "\n",
      " 27%|█████████████████                                              | 27/100 [00:03<00:08,  9.06it/s]\u001b[A\u001b[A\n",
      "\n",
      " 29%|██████████████████▎                                            | 29/100 [00:03<00:08,  8.00it/s]\u001b[A\u001b[A\n",
      "\n",
      " 31%|███████████████████▌                                           | 31/100 [00:03<00:07,  8.71it/s]\u001b[A\u001b[A\n",
      "\n",
      " 33%|████████████████████▊                                          | 33/100 [00:04<00:07,  9.04it/s]\u001b[A\u001b[A\n",
      "\n",
      " 35%|██████████████████████                                         | 35/100 [00:04<00:07,  8.54it/s]\u001b[A\u001b[A\n",
      "\n",
      " 37%|███████████████████████▎                                       | 37/100 [00:04<00:07,  8.07it/s]\u001b[A\u001b[A\n",
      "\n",
      " 39%|████████████████████████▌                                      | 39/100 [00:04<00:07,  7.95it/s]\u001b[A\u001b[A\n",
      "\n",
      " 41%|█████████████████████████▊                                     | 41/100 [00:05<00:08,  6.69it/s]\u001b[A\u001b[A\n",
      "\n",
      " 43%|███████████████████████████                                    | 43/100 [00:05<00:07,  7.14it/s]\u001b[A\u001b[A\n",
      "\n",
      " 45%|████████████████████████████▎                                  | 45/100 [00:05<00:07,  7.21it/s]\u001b[A\u001b[A\n",
      "\n",
      " 47%|█████████████████████████████▌                                 | 47/100 [00:06<00:06,  7.87it/s]\u001b[A\u001b[A\n",
      "\n",
      " 49%|██████████████████████████████▊                                | 49/100 [00:06<00:05,  8.54it/s]\u001b[A\u001b[A\n",
      "\n",
      " 51%|████████████████████████████████▏                              | 51/100 [00:06<00:05,  9.06it/s]\u001b[A\u001b[A"
     ]
    },
    {
     "name": "stdout",
     "output_type": "stream",
     "text": [
      "Iteration : 50 \n",
      " , Train Loss : 0.8610170364379883 \n",
      ", Test Acc : 62.780426025390625 \n",
      "\n"
     ]
    },
    {
     "name": "stderr",
     "output_type": "stream",
     "text": [
      "\n",
      "\n",
      " 53%|█████████████████████████████████▍                             | 53/100 [00:06<00:05,  8.99it/s]\u001b[A\u001b[A\n",
      "\n",
      " 55%|██████████████████████████████████▋                            | 55/100 [00:06<00:04,  9.47it/s]\u001b[A\u001b[A\n",
      "\n",
      " 57%|███████████████████████████████████▉                           | 57/100 [00:07<00:04,  9.77it/s]\u001b[A\u001b[A\n",
      "\n",
      " 59%|█████████████████████████████████████▏                         | 59/100 [00:07<00:04,  9.10it/s]\u001b[A\u001b[A\n",
      "\n",
      " 61%|██████████████████████████████████████▍                        | 61/100 [00:07<00:04,  9.35it/s]\u001b[A\u001b[A\n",
      "\n",
      " 63%|███████████████████████████████████████▋                       | 63/100 [00:07<00:04,  7.94it/s]\u001b[A\u001b[A\n",
      "\n",
      " 65%|████████████████████████████████████████▉                      | 65/100 [00:08<00:05,  6.48it/s]\u001b[A\u001b[A\n",
      "\n",
      " 67%|██████████████████████████████████████████▏                    | 67/100 [00:08<00:05,  5.98it/s]\u001b[A\u001b[A\n",
      "\n",
      " 69%|███████████████████████████████████████████▍                   | 69/100 [00:08<00:04,  6.74it/s]\u001b[A\u001b[A\n",
      "\n",
      " 71%|████████████████████████████████████████████▋                  | 71/100 [00:09<00:03,  7.48it/s]\u001b[A\u001b[A\n",
      "\n",
      " 73%|█████████████████████████████████████████████▉                 | 73/100 [00:09<00:04,  6.24it/s]\u001b[A\u001b[A\n",
      "\n",
      " 75%|███████████████████████████████████████████████▎               | 75/100 [00:09<00:04,  5.47it/s]\u001b[A\u001b[A\n",
      "\n",
      " 77%|████████████████████████████████████████████████▌              | 77/100 [00:10<00:04,  5.69it/s]\u001b[A\u001b[A\n",
      "\n",
      " 79%|█████████████████████████████████████████████████▊             | 79/100 [00:10<00:03,  6.27it/s]\u001b[A\u001b[A\n",
      "\n",
      " 81%|███████████████████████████████████████████████████            | 81/100 [00:10<00:02,  7.05it/s]\u001b[A\u001b[A\n",
      "\n",
      " 83%|████████████████████████████████████████████████████▎          | 83/100 [00:10<00:02,  7.71it/s]\u001b[A\u001b[A\n",
      "\n",
      " 85%|█████████████████████████████████████████████████████▌         | 85/100 [00:11<00:01,  8.15it/s]\u001b[A\u001b[A\n",
      "\n",
      " 87%|██████████████████████████████████████████████████████▊        | 87/100 [00:11<00:01,  8.00it/s]\u001b[A\u001b[A\n",
      "\n",
      " 89%|████████████████████████████████████████████████████████       | 89/100 [00:11<00:01,  8.46it/s]\u001b[A\u001b[A\n",
      "\n",
      " 91%|█████████████████████████████████████████████████████████▎     | 91/100 [00:11<00:01,  8.68it/s]\u001b[A\u001b[A\n",
      "\n",
      " 93%|██████████████████████████████████████████████████████████▌    | 93/100 [00:12<00:00,  8.70it/s]\u001b[A\u001b[A\n",
      "\n",
      " 95%|███████████████████████████████████████████████████████████▊   | 95/100 [00:12<00:00,  8.25it/s]\u001b[A\u001b[A\n",
      "\n",
      " 97%|█████████████████████████████████████████████████████████████  | 97/100 [00:12<00:00,  8.87it/s]\u001b[A\u001b[A\n",
      "\n",
      " 99%|██████████████████████████████████████████████████████████████▎| 99/100 [00:12<00:00,  9.30it/s]\u001b[A\u001b[A\n",
      "\n",
      "100%|██████████████████████████████████████████████████████████████| 100/100 [00:12<00:00,  7.74it/s]\u001b[A\u001b[A\n",
      "\n",
      " 25%|████████████████▌                                                 | 1/4 [00:13<00:39, 13.26s/it]\u001b[A"
     ]
    },
    {
     "name": "stdout",
     "output_type": "stream",
     "text": [
      "Iteration : 99 \n",
      " , Train Loss : 5.9776934623718265 \n",
      ", Test Acc : 58.84391403198242 \n",
      "\n"
     ]
    },
    {
     "name": "stderr",
     "output_type": "stream",
     "text": [
      "\n",
      "\n",
      "  0%|                                                                        | 0/100 [00:00<?, ?it/s]\u001b[A\u001b[A\n",
      "\n",
      "  1%|▋                                                               | 1/100 [00:00<00:16,  5.94it/s]\u001b[A\u001b[A"
     ]
    },
    {
     "name": "stdout",
     "output_type": "stream",
     "text": [
      "Iteration : 0 \n",
      " , Train Loss : 8.302072683970133 \n",
      ", Test Acc : 11.180607795715332 \n",
      "\n"
     ]
    },
    {
     "name": "stderr",
     "output_type": "stream",
     "text": [
      "\n",
      "\n",
      "  3%|█▉                                                              | 3/100 [00:00<00:11,  8.11it/s]\u001b[A\u001b[A\n",
      "\n",
      "  5%|███▏                                                            | 5/100 [00:00<00:10,  9.08it/s]\u001b[A\u001b[A\n",
      "\n",
      "  7%|████▍                                                           | 7/100 [00:00<00:10,  9.28it/s]\u001b[A\u001b[A\n",
      "\n",
      "  9%|█████▊                                                          | 9/100 [00:01<00:10,  8.77it/s]\u001b[A\u001b[A\n",
      "\n",
      " 11%|██████▉                                                        | 11/100 [00:01<00:09,  9.09it/s]\u001b[A\u001b[A\n",
      "\n",
      " 13%|████████▏                                                      | 13/100 [00:01<00:10,  8.22it/s]\u001b[A\u001b[A\n",
      "\n",
      " 15%|█████████▍                                                     | 15/100 [00:01<00:11,  7.60it/s]\u001b[A\u001b[A\n",
      "\n",
      " 17%|██████████▋                                                    | 17/100 [00:02<00:10,  8.15it/s]\u001b[A\u001b[A\n",
      "\n",
      " 19%|███████████▉                                                   | 19/100 [00:02<00:11,  7.12it/s]\u001b[A\u001b[A\n",
      "\n",
      " 21%|█████████████▏                                                 | 21/100 [00:02<00:13,  5.98it/s]\u001b[A\u001b[A\n",
      "\n",
      " 23%|██████████████▍                                                | 23/100 [00:03<00:13,  5.66it/s]\u001b[A\u001b[A\n",
      "\n",
      " 25%|███████████████▊                                               | 25/100 [00:03<00:12,  6.20it/s]\u001b[A\u001b[A\n",
      "\n",
      " 27%|█████████████████                                              | 27/100 [00:03<00:12,  6.04it/s]\u001b[A\u001b[A\n",
      "\n",
      " 29%|██████████████████▎                                            | 29/100 [00:04<00:10,  6.87it/s]\u001b[A\u001b[A\n",
      "\n",
      " 31%|███████████████████▌                                           | 31/100 [00:04<00:10,  6.35it/s]\u001b[A\u001b[A\n",
      "\n",
      " 33%|████████████████████▊                                          | 33/100 [00:04<00:10,  6.29it/s]\u001b[A\u001b[A\n",
      "\n",
      " 35%|██████████████████████                                         | 35/100 [00:05<00:13,  4.95it/s]\u001b[A\u001b[A\n",
      "\n",
      " 37%|███████████████████████▎                                       | 37/100 [00:05<00:11,  5.51it/s]\u001b[A\u001b[A\n",
      "\n",
      " 39%|████████████████████████▌                                      | 39/100 [00:05<00:10,  6.02it/s]\u001b[A\u001b[A\n",
      "\n",
      " 41%|█████████████████████████▊                                     | 41/100 [00:06<00:09,  6.13it/s]\u001b[A\u001b[A\n",
      "\n",
      " 43%|███████████████████████████                                    | 43/100 [00:06<00:09,  5.76it/s]\u001b[A\u001b[A\n",
      "\n",
      " 45%|████████████████████████████▎                                  | 45/100 [00:06<00:08,  6.25it/s]\u001b[A\u001b[A\n",
      "\n",
      " 47%|█████████████████████████████▌                                 | 47/100 [00:07<00:09,  5.83it/s]\u001b[A\u001b[A\n",
      "\n",
      " 49%|██████████████████████████████▊                                | 49/100 [00:07<00:07,  6.39it/s]\u001b[A\u001b[A\n",
      "\n",
      " 51%|████████████████████████████████▏                              | 51/100 [00:07<00:08,  5.89it/s]\u001b[A\u001b[A"
     ]
    },
    {
     "name": "stdout",
     "output_type": "stream",
     "text": [
      "Iteration : 50 \n",
      " , Train Loss : 0.9069405868649483 \n",
      ", Test Acc : 70.22774505615234 \n",
      "\n"
     ]
    },
    {
     "name": "stderr",
     "output_type": "stream",
     "text": [
      "\n",
      "\n",
      " 53%|█████████████████████████████████▍                             | 53/100 [00:08<00:07,  6.64it/s]\u001b[A\u001b[A\n",
      "\n",
      " 55%|██████████████████████████████████▋                            | 55/100 [00:08<00:06,  7.32it/s]\u001b[A\u001b[A\n",
      "\n",
      " 57%|███████████████████████████████████▉                           | 57/100 [00:08<00:05,  7.51it/s]\u001b[A\u001b[A\n",
      "\n",
      " 59%|█████████████████████████████████████▏                         | 59/100 [00:08<00:05,  7.26it/s]\u001b[A\u001b[A\n",
      "\n",
      " 61%|██████████████████████████████████████▍                        | 61/100 [00:09<00:05,  7.20it/s]\u001b[A\u001b[A\n",
      "\n",
      " 63%|███████████████████████████████████████▋                       | 63/100 [00:09<00:05,  6.32it/s]\u001b[A\u001b[A\n",
      "\n",
      " 65%|████████████████████████████████████████▉                      | 65/100 [00:09<00:05,  6.77it/s]\u001b[A\u001b[A\n",
      "\n",
      " 67%|██████████████████████████████████████████▏                    | 67/100 [00:09<00:04,  7.67it/s]\u001b[A\u001b[A\n",
      "\n",
      " 69%|███████████████████████████████████████████▍                   | 69/100 [00:10<00:03,  8.33it/s]\u001b[A\u001b[A\n",
      "\n",
      " 71%|████████████████████████████████████████████▋                  | 71/100 [00:10<00:04,  6.35it/s]\u001b[A\u001b[A\n",
      "\n",
      " 73%|█████████████████████████████████████████████▉                 | 73/100 [00:10<00:04,  6.58it/s]\u001b[A\u001b[A\n",
      "\n",
      " 75%|███████████████████████████████████████████████▎               | 75/100 [00:11<00:03,  6.79it/s]\u001b[A\u001b[A\n",
      "\n",
      " 77%|████████████████████████████████████████████████▌              | 77/100 [00:11<00:03,  7.56it/s]\u001b[A\u001b[A\n",
      "\n",
      " 79%|█████████████████████████████████████████████████▊             | 79/100 [00:11<00:02,  8.28it/s]\u001b[A\u001b[A\n",
      "\n",
      " 81%|███████████████████████████████████████████████████            | 81/100 [00:11<00:02,  8.15it/s]\u001b[A\u001b[A\n",
      "\n",
      " 83%|████████████████████████████████████████████████████▎          | 83/100 [00:12<00:02,  7.97it/s]\u001b[A\u001b[A\n",
      "\n",
      " 85%|█████████████████████████████████████████████████████▌         | 85/100 [00:12<00:01,  8.14it/s]\u001b[A\u001b[A\n",
      "\n",
      " 87%|██████████████████████████████████████████████████████▊        | 87/100 [00:12<00:01,  8.45it/s]\u001b[A\u001b[A\n",
      "\n",
      " 89%|████████████████████████████████████████████████████████       | 89/100 [00:12<00:01,  8.72it/s]\u001b[A\u001b[A\n",
      "\n",
      " 91%|█████████████████████████████████████████████████████████▎     | 91/100 [00:13<00:01,  8.55it/s]\u001b[A\u001b[A\n",
      "\n",
      " 93%|██████████████████████████████████████████████████████████▌    | 93/100 [00:13<00:00,  9.07it/s]\u001b[A\u001b[A\n",
      "\n",
      " 95%|███████████████████████████████████████████████████████████▊   | 95/100 [00:13<00:00,  8.29it/s]\u001b[A\u001b[A\n",
      "\n",
      " 97%|█████████████████████████████████████████████████████████████  | 97/100 [00:13<00:00,  8.92it/s]\u001b[A\u001b[A\n",
      "\n",
      " 99%|██████████████████████████████████████████████████████████████▎| 99/100 [00:13<00:00,  8.41it/s]\u001b[A\u001b[A\n",
      "\n",
      "100%|██████████████████████████████████████████████████████████████| 100/100 [00:14<00:00,  7.06it/s]\u001b[A\u001b[A\n",
      "\n",
      " 50%|█████████████████████████████████                                 | 2/4 [00:27<00:27, 13.98s/it]\u001b[A"
     ]
    },
    {
     "name": "stdout",
     "output_type": "stream",
     "text": [
      "Iteration : 99 \n",
      " , Train Loss : 4.893404783986625 \n",
      ", Test Acc : 66.44702911376953 \n",
      "\n"
     ]
    },
    {
     "name": "stderr",
     "output_type": "stream",
     "text": [
      "\n",
      "\n",
      "  0%|                                                                        | 0/100 [00:00<?, ?it/s]\u001b[A\u001b[A\n",
      "\n",
      "  1%|▋                                                               | 1/100 [00:00<00:12,  7.66it/s]\u001b[A\u001b[A\n",
      "\n"
     ]
    },
    {
     "name": "stdout",
     "output_type": "stream",
     "text": [
      "Iteration : 0 \n",
      " , Train Loss : 7.267216682434082 \n",
      ", Test Acc : 13.115544319152832 \n",
      "\n"
     ]
    },
    {
     "name": "stderr",
     "output_type": "stream",
     "text": [
      "  3%|█▉                                                              | 3/100 [00:00<00:10,  9.28it/s]\u001b[A\u001b[A\n",
      "\n",
      "  5%|███▏                                                            | 5/100 [00:00<00:09,  9.74it/s]\u001b[A\u001b[A\n",
      "\n",
      "  7%|████▍                                                           | 7/100 [00:00<00:09,  9.56it/s]\u001b[A\u001b[A\n",
      "\n",
      "  9%|█████▊                                                          | 9/100 [00:00<00:09,  9.52it/s]\u001b[A\u001b[A\n",
      "\n",
      " 11%|██████▉                                                        | 11/100 [00:01<00:09,  9.72it/s]\u001b[A\u001b[A\n",
      "\n",
      " 13%|████████▏                                                      | 13/100 [00:01<00:13,  6.56it/s]\u001b[A\u001b[A\n",
      "\n",
      " 15%|█████████▍                                                     | 15/100 [00:02<00:22,  3.72it/s]\u001b[A\u001b[A\n",
      "\n",
      " 17%|██████████▋                                                    | 17/100 [00:05<00:47,  1.75it/s]\u001b[A\u001b[A\n",
      "\n",
      " 19%|███████████▉                                                   | 19/100 [00:10<01:40,  1.24s/it]\u001b[A\u001b[A\n",
      "\n",
      " 21%|█████████████▏                                                 | 21/100 [00:11<01:15,  1.05it/s]\u001b[A\u001b[A\n",
      "\n",
      " 23%|██████████████▍                                                | 23/100 [00:11<00:55,  1.39it/s]\u001b[A\u001b[A\n",
      "\n",
      " 25%|███████████████▊                                               | 25/100 [00:11<00:41,  1.81it/s]\u001b[A\u001b[A\n",
      "\n",
      " 27%|█████████████████                                              | 27/100 [00:13<00:43,  1.68it/s]\u001b[A\u001b[A\n",
      "\n",
      " 29%|██████████████████▎                                            | 29/100 [00:13<00:32,  2.17it/s]\u001b[A\u001b[A\n",
      "\n",
      " 31%|███████████████████▌                                           | 31/100 [00:13<00:25,  2.73it/s]\u001b[A\u001b[A\n",
      "\n",
      " 33%|████████████████████▊                                          | 33/100 [00:14<00:21,  3.14it/s]\u001b[A\u001b[A\n",
      "\n",
      " 35%|██████████████████████                                         | 35/100 [00:14<00:19,  3.38it/s]\u001b[A\u001b[A\n",
      "\n",
      " 37%|███████████████████████▎                                       | 37/100 [00:15<00:24,  2.62it/s]\u001b[A\u001b[A\n",
      "\n",
      " 39%|████████████████████████▌                                      | 39/100 [00:17<00:29,  2.06it/s]\u001b[A\u001b[A\n",
      "\n",
      " 41%|█████████████████████████▊                                     | 41/100 [00:17<00:23,  2.50it/s]\u001b[A\u001b[A\n",
      "\n",
      " 43%|███████████████████████████                                    | 43/100 [00:18<00:18,  3.15it/s]\u001b[A\u001b[A\n",
      "\n",
      " 45%|████████████████████████████▎                                  | 45/100 [00:18<00:14,  3.91it/s]\u001b[A\u001b[A\n",
      "\n",
      " 47%|█████████████████████████████▌                                 | 47/100 [00:18<00:11,  4.73it/s]\u001b[A\u001b[A\n",
      "\n",
      " 49%|██████████████████████████████▊                                | 49/100 [00:18<00:09,  5.57it/s]\u001b[A\u001b[A\n",
      "\n",
      " 51%|████████████████████████████████▏                              | 51/100 [00:18<00:07,  6.35it/s]\u001b[A\u001b[A"
     ]
    },
    {
     "name": "stdout",
     "output_type": "stream",
     "text": [
      "Iteration : 50 \n",
      " , Train Loss : 0.5129024535417557 \n",
      ", Test Acc : 68.73974609375 \n",
      "\n"
     ]
    },
    {
     "name": "stderr",
     "output_type": "stream",
     "text": [
      "\n",
      "\n",
      " 53%|█████████████████████████████████▍                             | 53/100 [00:19<00:06,  6.98it/s]\u001b[A\u001b[A\n",
      "\n",
      " 55%|██████████████████████████████████▋                            | 55/100 [00:19<00:05,  7.50it/s]\u001b[A\u001b[A\n",
      "\n",
      " 57%|███████████████████████████████████▉                           | 57/100 [00:19<00:06,  6.66it/s]\u001b[A\u001b[A\n",
      "\n",
      " 59%|█████████████████████████████████████▏                         | 59/100 [00:20<00:06,  6.19it/s]\u001b[A\u001b[A\n",
      "\n",
      " 61%|██████████████████████████████████████▍                        | 61/100 [00:21<00:09,  4.02it/s]\u001b[A\u001b[A\n",
      "\n",
      " 63%|███████████████████████████████████████▋                       | 63/100 [00:22<00:14,  2.63it/s]\u001b[A\u001b[A\n",
      "\n",
      " 65%|████████████████████████████████████████▉                      | 65/100 [00:23<00:17,  2.04it/s]\u001b[A\u001b[A\n",
      "\n",
      " 66%|█████████████████████████████████████████▌                     | 66/100 [00:23<00:14,  2.37it/s]\u001b[A\u001b[A\n",
      "\n",
      " 67%|██████████████████████████████████████████▏                    | 67/100 [00:25<00:19,  1.68it/s]\u001b[A\u001b[A\n",
      "\n",
      " 69%|███████████████████████████████████████████▍                   | 69/100 [00:27<00:22,  1.38it/s]\u001b[A\u001b[A\n",
      "\n",
      " 71%|████████████████████████████████████████████▋                  | 71/100 [00:28<00:22,  1.28it/s]\u001b[A\u001b[A\n",
      "\n",
      " 73%|█████████████████████████████████████████████▉                 | 73/100 [00:35<00:41,  1.53s/it]\u001b[A\u001b[A\n",
      "\n",
      " 75%|███████████████████████████████████████████████▎               | 75/100 [00:44<01:02,  2.51s/it]\u001b[A\u001b[A\n",
      "\n",
      " 77%|████████████████████████████████████████████████▌              | 77/100 [00:46<00:47,  2.07s/it]\u001b[A\u001b[A\n",
      "\n",
      " 79%|█████████████████████████████████████████████████▊             | 79/100 [00:52<00:48,  2.32s/it]\u001b[A\u001b[A\n",
      "\n",
      " 80%|██████████████████████████████████████████████████▍            | 80/100 [00:52<00:38,  1.92s/it]\u001b[A\u001b[A\n",
      "\n",
      " 81%|███████████████████████████████████████████████████            | 81/100 [00:58<00:53,  2.81s/it]\u001b[A\u001b[A\n",
      "\n",
      " 82%|███████████████████████████████████████████████████▋           | 82/100 [00:58<00:39,  2.19s/it]\u001b[A\u001b[A\n",
      "\n",
      " 83%|████████████████████████████████████████████████████▎          | 83/100 [00:59<00:31,  1.87s/it]\u001b[A\u001b[A\n",
      "\n",
      " 84%|████████████████████████████████████████████████████▉          | 84/100 [00:59<00:22,  1.41s/it]\u001b[A\u001b[A\n",
      "\n",
      " 85%|█████████████████████████████████████████████████████▌         | 85/100 [01:00<00:20,  1.34s/it]\u001b[A\u001b[A\n",
      "\n",
      " 87%|██████████████████████████████████████████████████████▊        | 87/100 [01:02<00:13,  1.03s/it]\u001b[A\u001b[A\n",
      "\n",
      " 89%|████████████████████████████████████████████████████████       | 89/100 [01:03<00:09,  1.20it/s]\u001b[A\u001b[A\n",
      "\n",
      " 91%|█████████████████████████████████████████████████████████▎     | 91/100 [01:03<00:05,  1.67it/s]\u001b[A\u001b[A\n",
      "\n",
      " 93%|██████████████████████████████████████████████████████████▌    | 93/100 [01:03<00:03,  2.27it/s]\u001b[A\u001b[A\n",
      "\n",
      " 95%|███████████████████████████████████████████████████████████▊   | 95/100 [01:03<00:01,  2.92it/s]\u001b[A\u001b[A\n",
      "\n",
      " 96%|████████████████████████████████████████████████████████████▍  | 96/100 [01:04<00:01,  3.35it/s]\u001b[A\u001b[A\n",
      "\n",
      " 97%|█████████████████████████████████████████████████████████████  | 97/100 [01:04<00:01,  2.79it/s]\u001b[A\u001b[A\n",
      "\n",
      " 98%|█████████████████████████████████████████████████████████████▋ | 98/100 [01:04<00:00,  3.33it/s]\u001b[A\u001b[A\n",
      "\n",
      " 99%|██████████████████████████████████████████████████████████████▎| 99/100 [01:05<00:00,  2.16it/s]\u001b[A\u001b[A\n",
      "\n",
      "100%|██████████████████████████████████████████████████████████████| 100/100 [01:07<00:00,  1.49it/s]\u001b[A\u001b[A\n",
      "\n",
      " 75%|█████████████████████████████████████████████████▌                | 3/4 [01:35<00:38, 38.43s/it]\u001b[A"
     ]
    },
    {
     "name": "stdout",
     "output_type": "stream",
     "text": [
      "Iteration : 99 \n",
      " , Train Loss : 0.5947947651147842 \n",
      ", Test Acc : 72.68962860107422 \n",
      "\n"
     ]
    },
    {
     "name": "stderr",
     "output_type": "stream",
     "text": [
      "\n",
      "\n",
      "  0%|                                                                        | 0/100 [00:00<?, ?it/s]\u001b[A\u001b[A\n",
      "\n",
      "  1%|▋                                                               | 1/100 [00:00<01:21,  1.21it/s]\u001b[A\u001b[A"
     ]
    },
    {
     "name": "stdout",
     "output_type": "stream",
     "text": [
      "Iteration : 0 \n",
      " , Train Loss : 5.938006401062012 \n",
      ", Test Acc : 10.43360424041748 \n",
      "\n"
     ]
    },
    {
     "name": "stderr",
     "output_type": "stream",
     "text": [
      "\n",
      "\n",
      "  3%|█▉                                                              | 3/100 [00:02<01:12,  1.33it/s]\u001b[A\u001b[A\n",
      "\n",
      "  5%|███▏                                                            | 5/100 [00:03<01:13,  1.29it/s]\u001b[A\u001b[A\n",
      "\n",
      "  7%|████▍                                                           | 7/100 [00:05<01:21,  1.14it/s]\u001b[A\u001b[A\n",
      "\n",
      "  9%|█████▊                                                          | 9/100 [00:06<00:55,  1.63it/s]\u001b[A\u001b[A\n",
      "\n",
      " 11%|██████▉                                                        | 11/100 [00:06<00:37,  2.35it/s]\u001b[A\u001b[A\n",
      "\n",
      " 13%|████████▏                                                      | 13/100 [00:06<00:29,  2.96it/s]\u001b[A\u001b[A\n",
      "\n",
      " 15%|█████████▍                                                     | 15/100 [00:06<00:22,  3.83it/s]\u001b[A\u001b[A\n",
      "\n",
      " 17%|██████████▋                                                    | 17/100 [00:07<00:22,  3.67it/s]\u001b[A\u001b[A\n",
      "\n",
      " 19%|███████████▉                                                   | 19/100 [00:08<00:32,  2.49it/s]\u001b[A\u001b[A\n",
      "\n",
      " 21%|█████████████▏                                                 | 21/100 [00:10<00:44,  1.77it/s]\u001b[A\u001b[A\n",
      "\n",
      " 23%|██████████████▍                                                | 23/100 [00:12<00:46,  1.67it/s]\u001b[A\u001b[A\n",
      "\n",
      " 25%|███████████████▊                                               | 25/100 [00:13<00:45,  1.65it/s]\u001b[A\u001b[A\n",
      "\n",
      " 27%|█████████████████                                              | 27/100 [00:15<00:55,  1.32it/s]\u001b[A\u001b[A\n",
      "\n",
      " 29%|██████████████████▎                                            | 29/100 [00:17<00:54,  1.31it/s]\u001b[A\u001b[A\n",
      "\n",
      " 31%|███████████████████▌                                           | 31/100 [00:18<00:55,  1.25it/s]\u001b[A\u001b[A\n",
      "\n",
      " 33%|████████████████████▊                                          | 33/100 [00:19<00:46,  1.44it/s]\u001b[A\u001b[A\n",
      "\n",
      " 35%|██████████████████████                                         | 35/100 [00:21<00:44,  1.47it/s]\u001b[A\u001b[A\n",
      "\n",
      " 37%|███████████████████████▎                                       | 37/100 [00:21<00:32,  1.92it/s]\u001b[A\u001b[A\n",
      "\n",
      " 39%|████████████████████████▌                                      | 39/100 [00:21<00:24,  2.54it/s]\u001b[A\u001b[A\n",
      "\n",
      " 41%|█████████████████████████▊                                     | 41/100 [00:21<00:18,  3.20it/s]\u001b[A\u001b[A\n",
      "\n",
      " 43%|███████████████████████████                                    | 43/100 [00:22<00:15,  3.79it/s]\u001b[A\u001b[A\n",
      "\n",
      " 45%|████████████████████████████▎                                  | 45/100 [00:22<00:15,  3.56it/s]\u001b[A\u001b[A\n",
      "\n",
      " 47%|█████████████████████████████▌                                 | 47/100 [00:25<00:31,  1.70it/s]\u001b[A\u001b[A\n",
      "\n",
      " 49%|██████████████████████████████▊                                | 49/100 [00:28<00:43,  1.18it/s]\u001b[A\u001b[A\n",
      "\n",
      " 51%|████████████████████████████████▏                              | 51/100 [00:32<01:01,  1.25s/it]\u001b[A\u001b[A"
     ]
    },
    {
     "name": "stdout",
     "output_type": "stream",
     "text": [
      "Iteration : 50 \n",
      " , Train Loss : 0.2583047188818455 \n",
      ", Test Acc : 80.35230255126953 \n",
      "\n"
     ]
    },
    {
     "name": "stderr",
     "output_type": "stream",
     "text": [
      "\n",
      "\n",
      " 53%|█████████████████████████████████▍                             | 53/100 [00:35<01:03,  1.34s/it]\u001b[A\u001b[A\n",
      "\n",
      " 55%|██████████████████████████████████▋                            | 55/100 [00:37<00:54,  1.20s/it]\u001b[A\u001b[A\n",
      "\n",
      " 57%|███████████████████████████████████▉                           | 57/100 [00:38<00:42,  1.01it/s]\u001b[A\u001b[A\n",
      "\n",
      " 59%|█████████████████████████████████████▏                         | 59/100 [00:39<00:34,  1.19it/s]\u001b[A\u001b[A\n",
      "\n",
      " 61%|██████████████████████████████████████▍                        | 61/100 [00:40<00:26,  1.46it/s]\u001b[A\u001b[A\n",
      "\n",
      " 63%|███████████████████████████████████████▋                       | 63/100 [00:40<00:21,  1.74it/s]\u001b[A\u001b[A\n",
      "\n",
      " 65%|████████████████████████████████████████▉                      | 65/100 [00:42<00:20,  1.69it/s]\u001b[A\u001b[A\n",
      "\n",
      " 67%|██████████████████████████████████████████▏                    | 67/100 [00:43<00:19,  1.68it/s]\u001b[A\u001b[A\n",
      "\n",
      " 69%|███████████████████████████████████████████▍                   | 69/100 [00:44<00:20,  1.49it/s]\u001b[A\u001b[A\n",
      "\n",
      " 71%|████████████████████████████████████████████▋                  | 71/100 [00:46<00:19,  1.47it/s]\u001b[A\u001b[A\n",
      "\n",
      " 73%|█████████████████████████████████████████████▉                 | 73/100 [00:47<00:17,  1.53it/s]\u001b[A\u001b[A\n",
      "\n",
      " 75%|███████████████████████████████████████████████▎               | 75/100 [00:49<00:17,  1.44it/s]\u001b[A\u001b[A\n",
      "\n",
      " 77%|████████████████████████████████████████████████▌              | 77/100 [00:51<00:17,  1.29it/s]\u001b[A\u001b[A\n",
      "\n",
      " 79%|█████████████████████████████████████████████████▊             | 79/100 [00:51<00:13,  1.53it/s]\u001b[A\u001b[A\n",
      "\n",
      " 81%|███████████████████████████████████████████████████            | 81/100 [00:53<00:12,  1.55it/s]\u001b[A\u001b[A\n",
      "\n",
      " 83%|████████████████████████████████████████████████████▎          | 83/100 [00:54<00:11,  1.47it/s]\u001b[A\u001b[A\n",
      "\n",
      " 85%|█████████████████████████████████████████████████████▌         | 85/100 [00:56<00:10,  1.44it/s]\u001b[A\u001b[A\n",
      "\n",
      " 87%|██████████████████████████████████████████████████████▊        | 87/100 [00:57<00:09,  1.36it/s]\u001b[A\u001b[A\n",
      "\n",
      " 89%|████████████████████████████████████████████████████████       | 89/100 [00:59<00:08,  1.29it/s]\u001b[A\u001b[A\n",
      "\n",
      " 91%|█████████████████████████████████████████████████████████▎     | 91/100 [01:02<00:08,  1.07it/s]\u001b[A\u001b[A\n",
      "\n",
      " 93%|██████████████████████████████████████████████████████████▌    | 93/100 [01:02<00:05,  1.35it/s]\u001b[A\u001b[A\n",
      "\n",
      " 95%|███████████████████████████████████████████████████████████▊   | 95/100 [01:04<00:03,  1.34it/s]\u001b[A\u001b[A\n",
      "\n",
      " 97%|█████████████████████████████████████████████████████████████  | 97/100 [01:05<00:02,  1.45it/s]\u001b[A\u001b[A\n",
      "\n",
      " 99%|██████████████████████████████████████████████████████████████▎| 99/100 [01:05<00:00,  1.81it/s]\u001b[A\u001b[A\n",
      "\n",
      "100%|██████████████████████████████████████████████████████████████| 100/100 [01:06<00:00,  1.51it/s]\u001b[A\u001b[A\n",
      "\n",
      "100%|██████████████████████████████████████████████████████████████████| 4/4 [02:41<00:00, 40.48s/it]\u001b[A\n"
     ]
    },
    {
     "name": "stdout",
     "output_type": "stream",
     "text": [
      "Iteration : 99 \n",
      " , Train Loss : 0.14426066353917122 \n",
      ", Test Acc : 80.35230255126953 \n",
      "\n"
     ]
    },
    {
     "name": "stderr",
     "output_type": "stream",
     "text": [
      "\n",
      "  0%|                                                                         | 0/32 [00:00<?, ?it/s]\u001b[A\n",
      "  3%|██                                                               | 1/32 [00:00<00:13,  2.26it/s]\u001b[A\n",
      "  6%|████                                                             | 2/32 [00:00<00:12,  2.32it/s]\u001b[A\n",
      "  9%|██████                                                           | 3/32 [00:01<00:10,  2.68it/s]\u001b[A\n",
      " 12%|████████▏                                                        | 4/32 [00:01<00:09,  2.90it/s]\u001b[A\n",
      " 16%|██████████▏                                                      | 5/32 [00:01<00:08,  3.08it/s]\u001b[A\n",
      " 19%|████████████▏                                                    | 6/32 [00:01<00:07,  3.42it/s]\u001b[A\n",
      " 22%|██████████████▏                                                  | 7/32 [00:02<00:07,  3.50it/s]\u001b[A\n",
      " 25%|████████████████▎                                                | 8/32 [00:02<00:06,  3.86it/s]\u001b[A\n",
      " 28%|██████████████████▎                                              | 9/32 [00:02<00:05,  4.27it/s]\u001b[A\n",
      " 31%|████████████████████                                            | 10/32 [00:02<00:04,  4.88it/s]\u001b[A\n",
      " 34%|██████████████████████                                          | 11/32 [00:02<00:04,  5.22it/s]\u001b[A\n",
      " 38%|████████████████████████                                        | 12/32 [00:03<00:03,  5.48it/s]\u001b[A\n",
      " 41%|██████████████████████████                                      | 13/32 [00:03<00:04,  3.82it/s]\u001b[A\n",
      " 44%|████████████████████████████                                    | 14/32 [00:03<00:05,  3.22it/s]\u001b[A\n",
      " 47%|██████████████████████████████                                  | 15/32 [00:04<00:07,  2.20it/s]\u001b[A\n",
      " 50%|████████████████████████████████                                | 16/32 [00:05<00:10,  1.46it/s]\u001b[A\n",
      " 53%|██████████████████████████████████                              | 17/32 [00:07<00:11,  1.25it/s]\u001b[A\n",
      " 56%|████████████████████████████████████                            | 18/32 [00:08<00:13,  1.08it/s]\u001b[A\n",
      " 59%|██████████████████████████████████████                          | 19/32 [00:08<00:10,  1.21it/s]\u001b[A\n",
      " 62%|████████████████████████████████████████                        | 20/32 [00:09<00:07,  1.60it/s]\u001b[A\n",
      " 66%|██████████████████████████████████████████                      | 21/32 [00:09<00:05,  2.09it/s]\u001b[A\n",
      " 69%|████████████████████████████████████████████                    | 22/32 [00:09<00:03,  2.70it/s]\u001b[A\n",
      " 72%|██████████████████████████████████████████████                  | 23/32 [00:09<00:02,  3.24it/s]\u001b[A\n",
      " 75%|████████████████████████████████████████████████                | 24/32 [00:09<00:02,  3.98it/s]\u001b[A\n",
      " 81%|████████████████████████████████████████████████████            | 26/32 [00:09<00:01,  5.62it/s]\u001b[A\n",
      " 88%|████████████████████████████████████████████████████████        | 28/32 [00:09<00:00,  7.40it/s]\u001b[A\n",
      " 94%|████████████████████████████████████████████████████████████    | 30/32 [00:10<00:00,  6.43it/s]\u001b[A\n",
      " 97%|██████████████████████████████████████████████████████████████  | 31/32 [00:11<00:00,  3.30it/s]\u001b[A\n",
      "100%|████████████████████████████████████████████████████████████████| 32/32 [00:11<00:00,  2.77it/s]\u001b[A\n",
      "\n",
      "0it [00:00, ?it/s]\u001b[A\n",
      "/tmp/ipykernel_86397/3212757151.py:8: DeprecationWarning: Sampling from a set deprecated\n",
      "since Python 3.9 and will be removed in a subsequent version.\n",
      "  new_cluster_pivot = random.sample(G.nodes,1)[0]\n",
      "\n",
      "  0%|                                                                          | 0/1 [00:00<?, ?it/s]\u001b[A\n",
      "100%|██████████████████████████████████████████████████████████████████| 1/1 [00:00<00:00,  4.10it/s]\u001b[A\n",
      " 50%|████████████████████████████████▌                                | 1/2 [02:53<02:53, 173.82s/it]\n",
      "  0%|                                                                          | 0/1 [00:00<?, ?it/s]\u001b[A\n",
      "\n",
      "  0%|                                                                        | 0/100 [00:00<?, ?it/s]\u001b[A\u001b[A\n",
      "\n",
      "  1%|▋                                                               | 1/100 [00:00<00:28,  3.50it/s]\u001b[A\u001b[A"
     ]
    },
    {
     "name": "stdout",
     "output_type": "stream",
     "text": [
      "Iteration : 0 \n",
      " , Train Loss : 7.023851171135902 \n",
      ", Test Acc : 7.08223295211792 \n",
      "\n"
     ]
    },
    {
     "name": "stderr",
     "output_type": "stream",
     "text": [
      "\n",
      "\n",
      "  2%|█▎                                                              | 2/100 [00:00<00:23,  4.20it/s]\u001b[A\u001b[A\n",
      "\n",
      "  3%|█▉                                                              | 3/100 [00:00<00:24,  4.01it/s]\u001b[A\u001b[A\n",
      "\n",
      "  4%|██▌                                                             | 4/100 [00:00<00:22,  4.35it/s]\u001b[A\u001b[A\n",
      "\n",
      "  5%|███▏                                                            | 5/100 [00:01<00:22,  4.14it/s]\u001b[A\u001b[A\n",
      "\n",
      "  6%|███▊                                                            | 6/100 [00:01<00:21,  4.44it/s]\u001b[A\u001b[A\n",
      "\n",
      "  7%|████▍                                                           | 7/100 [00:01<00:22,  4.17it/s]\u001b[A\u001b[A\n",
      "\n",
      "  8%|█████                                                           | 8/100 [00:01<00:20,  4.41it/s]\u001b[A\u001b[A\n",
      "\n",
      "  9%|█████▊                                                          | 9/100 [00:02<00:21,  4.25it/s]\u001b[A\u001b[A\n",
      "\n",
      " 10%|██████▎                                                        | 10/100 [00:02<00:20,  4.48it/s]\u001b[A\u001b[A\n",
      "\n",
      " 11%|██████▉                                                        | 11/100 [00:02<00:28,  3.09it/s]\u001b[A\u001b[A\n",
      "\n",
      " 12%|███████▌                                                       | 12/100 [00:03<00:35,  2.46it/s]\u001b[A\u001b[A\n",
      "\n",
      " 13%|████████▏                                                      | 13/100 [00:04<00:40,  2.13it/s]\u001b[A\u001b[A\n",
      "\n",
      " 14%|████████▊                                                      | 14/100 [00:04<00:33,  2.57it/s]\u001b[A\u001b[A\n",
      "\n",
      " 15%|█████████▍                                                     | 15/100 [00:04<00:29,  2.84it/s]\u001b[A\u001b[A\n",
      "\n",
      " 16%|██████████                                                     | 16/100 [00:04<00:25,  3.27it/s]\u001b[A\u001b[A\n",
      "\n",
      " 17%|██████████▋                                                    | 17/100 [00:05<00:24,  3.35it/s]\u001b[A\u001b[A\n",
      "\n",
      " 18%|███████████▎                                                   | 18/100 [00:05<00:21,  3.73it/s]\u001b[A\u001b[A\n",
      "\n",
      " 19%|███████████▉                                                   | 19/100 [00:05<00:21,  3.72it/s]\u001b[A\u001b[A\n",
      "\n",
      " 20%|████████████▌                                                  | 20/100 [00:05<00:20,  3.87it/s]\u001b[A\u001b[A\n",
      "\n",
      " 21%|█████████████▏                                                 | 21/100 [00:06<00:24,  3.19it/s]\u001b[A\u001b[A\n",
      "\n",
      " 22%|█████████████▊                                                 | 22/100 [00:06<00:25,  3.11it/s]\u001b[A\u001b[A\n",
      "\n",
      " 23%|██████████████▍                                                | 23/100 [00:07<00:28,  2.70it/s]\u001b[A\u001b[A\n",
      "\n",
      " 24%|███████████████                                                | 24/100 [00:07<00:27,  2.73it/s]\u001b[A\u001b[A\n",
      "\n",
      " 25%|███████████████▊                                               | 25/100 [00:07<00:31,  2.40it/s]\u001b[A\u001b[A\n",
      "\n",
      " 26%|████████████████▍                                              | 26/100 [00:08<00:28,  2.64it/s]\u001b[A\u001b[A\n",
      "\n",
      " 27%|█████████████████                                              | 27/100 [00:08<00:32,  2.24it/s]\u001b[A\u001b[A\n",
      "\n",
      " 28%|█████████████████▋                                             | 28/100 [00:09<00:29,  2.43it/s]\u001b[A\u001b[A\n",
      "\n",
      " 29%|██████████████████▎                                            | 29/100 [00:09<00:35,  2.00it/s]\u001b[A\u001b[A\n",
      "\n",
      " 30%|██████████████████▉                                            | 30/100 [00:10<00:32,  2.16it/s]\u001b[A\u001b[A\n",
      "\n",
      " 31%|███████████████████▌                                           | 31/100 [00:10<00:34,  2.01it/s]\u001b[A\u001b[A\n",
      "\n",
      " 32%|████████████████████▏                                          | 32/100 [00:11<00:30,  2.22it/s]\u001b[A\u001b[A\n",
      "\n",
      " 33%|████████████████████▊                                          | 33/100 [00:11<00:31,  2.15it/s]\u001b[A\u001b[A\n",
      "\n",
      " 34%|█████████████████████▍                                         | 34/100 [00:11<00:28,  2.31it/s]\u001b[A\u001b[A\n",
      "\n",
      " 35%|██████████████████████                                         | 35/100 [00:12<00:31,  2.04it/s]\u001b[A\u001b[A\n",
      "\n",
      " 36%|██████████████████████▋                                        | 36/100 [00:12<00:28,  2.21it/s]\u001b[A\u001b[A\n",
      "\n",
      " 37%|███████████████████████▎                                       | 37/100 [00:13<00:32,  1.95it/s]\u001b[A\u001b[A\n",
      "\n",
      " 38%|███████████████████████▉                                       | 38/100 [00:13<00:29,  2.13it/s]\u001b[A\u001b[A\n",
      "\n",
      " 39%|████████████████████████▌                                      | 39/100 [00:14<00:28,  2.12it/s]\u001b[A\u001b[A\n",
      "\n",
      " 40%|█████████████████████████▏                                     | 40/100 [00:14<00:26,  2.29it/s]\u001b[A\u001b[A\n",
      "\n",
      " 41%|█████████████████████████▊                                     | 41/100 [00:15<00:26,  2.24it/s]\u001b[A\u001b[A\n",
      "\n",
      " 42%|██████████████████████████▍                                    | 42/100 [00:15<00:23,  2.49it/s]\u001b[A\u001b[A\n",
      "\n",
      " 43%|███████████████████████████                                    | 43/100 [00:16<00:24,  2.30it/s]\u001b[A\u001b[A\n",
      "\n",
      " 44%|███████████████████████████▋                                   | 44/100 [00:16<00:23,  2.39it/s]\u001b[A\u001b[A\n",
      "\n",
      " 45%|████████████████████████████▎                                  | 45/100 [00:17<00:24,  2.23it/s]\u001b[A\u001b[A\n",
      "\n",
      " 46%|████████████████████████████▉                                  | 46/100 [00:17<00:22,  2.35it/s]\u001b[A\u001b[A\n",
      "\n",
      " 47%|█████████████████████████████▌                                 | 47/100 [00:18<00:26,  2.00it/s]\u001b[A\u001b[A\n",
      "\n",
      " 48%|██████████████████████████████▏                                | 48/100 [00:18<00:23,  2.20it/s]\u001b[A\u001b[A\n",
      "\n",
      " 49%|██████████████████████████████▊                                | 49/100 [00:18<00:23,  2.20it/s]\u001b[A\u001b[A\n",
      "\n",
      " 50%|███████████████████████████████▌                               | 50/100 [00:19<00:20,  2.43it/s]\u001b[A\u001b[A\n",
      "\n",
      " 51%|████████████████████████████████▏                              | 51/100 [00:19<00:21,  2.31it/s]\u001b[A\u001b[A"
     ]
    },
    {
     "name": "stdout",
     "output_type": "stream",
     "text": [
      "Iteration : 50 \n",
      " , Train Loss : 1.036673075548606 \n",
      ", Test Acc : 68.19358825683594 \n",
      "\n"
     ]
    },
    {
     "name": "stderr",
     "output_type": "stream",
     "text": [
      "\n",
      "\n",
      " 52%|████████████████████████████████▊                              | 52/100 [00:19<00:19,  2.47it/s]\u001b[A\u001b[A\n",
      "\n",
      " 53%|█████████████████████████████████▍                             | 53/100 [00:20<00:19,  2.37it/s]\u001b[A\u001b[A\n",
      "\n",
      " 54%|██████████████████████████████████                             | 54/100 [00:20<00:18,  2.55it/s]\u001b[A\u001b[A\n",
      "\n",
      " 55%|██████████████████████████████████▋                            | 55/100 [00:21<00:18,  2.38it/s]\u001b[A\u001b[A\n",
      "\n",
      " 56%|███████████████████████████████████▎                           | 56/100 [00:21<00:17,  2.57it/s]\u001b[A\u001b[A\n",
      "\n",
      " 57%|███████████████████████████████████▉                           | 57/100 [00:22<00:17,  2.44it/s]\u001b[A\u001b[A\n",
      "\n",
      " 58%|████████████████████████████████████▌                          | 58/100 [00:22<00:16,  2.57it/s]\u001b[A\u001b[A\n",
      "\n",
      " 59%|█████████████████████████████████████▏                         | 59/100 [00:22<00:16,  2.43it/s]\u001b[A\u001b[A\n",
      "\n",
      " 60%|█████████████████████████████████████▊                         | 60/100 [00:23<00:15,  2.62it/s]\u001b[A\u001b[A\n",
      "\n",
      " 61%|██████████████████████████████████████▍                        | 61/100 [00:23<00:17,  2.28it/s]\u001b[A\u001b[A\n",
      "\n",
      " 62%|███████████████████████████████████████                        | 62/100 [00:24<00:15,  2.42it/s]\u001b[A\u001b[A\n",
      "\n",
      " 63%|███████████████████████████████████████▋                       | 63/100 [00:25<00:25,  1.45it/s]\u001b[A\u001b[A\n",
      "\n",
      " 64%|████████████████████████████████████████▎                      | 64/100 [00:25<00:21,  1.68it/s]\u001b[A\u001b[A\n",
      "\n",
      " 65%|████████████████████████████████████████▉                      | 65/100 [00:26<00:24,  1.41it/s]\u001b[A\u001b[A\n",
      "\n",
      " 66%|█████████████████████████████████████████▌                     | 66/100 [00:27<00:19,  1.72it/s]\u001b[A\u001b[A\n",
      "\n",
      " 67%|██████████████████████████████████████████▏                    | 67/100 [00:27<00:21,  1.51it/s]\u001b[A\u001b[A\n",
      "\n",
      " 68%|██████████████████████████████████████████▊                    | 68/100 [00:28<00:17,  1.80it/s]\u001b[A\u001b[A\n",
      "\n",
      " 69%|███████████████████████████████████████████▍                   | 69/100 [00:29<00:25,  1.24it/s]\u001b[A\u001b[A\n",
      "\n",
      " 70%|████████████████████████████████████████████                   | 70/100 [00:29<00:19,  1.51it/s]\u001b[A\u001b[A\n",
      "\n",
      " 71%|████████████████████████████████████████████▋                  | 71/100 [00:31<00:27,  1.07it/s]\u001b[A\u001b[A\n",
      "\n",
      " 72%|█████████████████████████████████████████████▎                 | 72/100 [00:31<00:20,  1.34it/s]\u001b[A\u001b[A\n",
      "\n",
      " 73%|█████████████████████████████████████████████▉                 | 73/100 [00:32<00:21,  1.27it/s]\u001b[A\u001b[A\n",
      "\n",
      " 74%|██████████████████████████████████████████████▌                | 74/100 [00:32<00:16,  1.55it/s]\u001b[A\u001b[A\n",
      "\n",
      " 75%|███████████████████████████████████████████████▎               | 75/100 [00:33<00:17,  1.46it/s]\u001b[A\u001b[A\n",
      "\n",
      " 76%|███████████████████████████████████████████████▉               | 76/100 [00:34<00:14,  1.67it/s]\u001b[A\u001b[A\n",
      "\n",
      " 77%|████████████████████████████████████████████████▌              | 77/100 [00:35<00:19,  1.17it/s]\u001b[A\u001b[A\n",
      "\n",
      " 78%|█████████████████████████████████████████████████▏             | 78/100 [00:35<00:15,  1.46it/s]\u001b[A\u001b[A\n",
      "\n",
      " 79%|█████████████████████████████████████████████████▊             | 79/100 [00:37<00:17,  1.22it/s]\u001b[A\u001b[A\n",
      "\n",
      " 80%|██████████████████████████████████████████████████▍            | 80/100 [00:37<00:13,  1.51it/s]\u001b[A\u001b[A\n",
      "\n",
      " 81%|███████████████████████████████████████████████████            | 81/100 [00:38<00:12,  1.46it/s]\u001b[A\u001b[A\n",
      "\n",
      " 82%|███████████████████████████████████████████████████▋           | 82/100 [00:38<00:10,  1.79it/s]\u001b[A\u001b[A\n",
      "\n",
      " 83%|████████████████████████████████████████████████████▎          | 83/100 [00:39<00:10,  1.69it/s]\u001b[A\u001b[A\n",
      "\n",
      " 84%|████████████████████████████████████████████████████▉          | 84/100 [00:39<00:07,  2.02it/s]\u001b[A\u001b[A\n",
      "\n",
      " 85%|█████████████████████████████████████████████████████▌         | 85/100 [00:41<00:15,  1.04s/it]\u001b[A\u001b[A\n",
      "\n",
      " 86%|██████████████████████████████████████████████████████▏        | 86/100 [00:41<00:11,  1.23it/s]\u001b[A\u001b[A\n",
      "\n",
      " 87%|██████████████████████████████████████████████████████▊        | 87/100 [00:42<00:09,  1.35it/s]\u001b[A\u001b[A\n",
      "\n",
      " 88%|███████████████████████████████████████████████████████▍       | 88/100 [00:43<00:08,  1.46it/s]\u001b[A\u001b[A\n",
      "\n",
      " 89%|████████████████████████████████████████████████████████       | 89/100 [00:43<00:07,  1.41it/s]\u001b[A\u001b[A\n",
      "\n",
      " 90%|████████████████████████████████████████████████████████▋      | 90/100 [00:44<00:06,  1.55it/s]\u001b[A\u001b[A\n",
      "\n",
      " 91%|█████████████████████████████████████████████████████████▎     | 91/100 [00:44<00:05,  1.65it/s]\u001b[A\u001b[A\n",
      "\n",
      " 92%|█████████████████████████████████████████████████████████▉     | 92/100 [00:45<00:03,  2.04it/s]\u001b[A\u001b[A\n",
      "\n",
      " 93%|██████████████████████████████████████████████████████████▌    | 93/100 [00:45<00:02,  2.35it/s]\u001b[A\u001b[A\n",
      "\n",
      " 94%|███████████████████████████████████████████████████████████▏   | 94/100 [00:45<00:02,  2.77it/s]\u001b[A\u001b[A\n",
      "\n",
      " 95%|███████████████████████████████████████████████████████████▊   | 95/100 [00:45<00:01,  3.00it/s]\u001b[A\u001b[A\n",
      "\n",
      " 96%|████████████████████████████████████████████████████████████▍  | 96/100 [00:45<00:01,  3.45it/s]\u001b[A\u001b[A\n",
      "\n",
      " 97%|█████████████████████████████████████████████████████████████  | 97/100 [00:46<00:00,  3.56it/s]\u001b[A\u001b[A\n",
      "\n",
      " 98%|█████████████████████████████████████████████████████████████▋ | 98/100 [00:46<00:00,  3.87it/s]\u001b[A\u001b[A\n",
      "\n",
      " 99%|██████████████████████████████████████████████████████████████▎| 99/100 [00:46<00:00,  3.67it/s]\u001b[A\u001b[A\n",
      "\n",
      "100%|██████████████████████████████████████████████████████████████| 100/100 [00:46<00:00,  2.13it/s]\u001b[A\u001b[A\n",
      "\n",
      "100%|██████████████████████████████████████████████████████████████████| 1/1 [00:47<00:00, 47.32s/it]\u001b[A\n"
     ]
    },
    {
     "name": "stdout",
     "output_type": "stream",
     "text": [
      "Iteration : 99 \n",
      " , Train Loss : 0.713878551061498 \n",
      ", Test Acc : 72.79914093017578 \n",
      "\n"
     ]
    },
    {
     "name": "stderr",
     "output_type": "stream",
     "text": [
      "\n",
      "  0%|                                                                         | 0/32 [00:00<?, ?it/s]\u001b[A\n",
      " 16%|██████████▏                                                      | 5/32 [00:00<00:02, 10.22it/s]\u001b[A\n",
      " 22%|██████████████▏                                                  | 7/32 [00:00<00:03,  8.22it/s]\u001b[A\n",
      " 25%|████████████████▎                                                | 8/32 [00:01<00:04,  5.59it/s]\u001b[A\n",
      " 28%|██████████████████▎                                              | 9/32 [00:01<00:05,  3.99it/s]\u001b[A\n",
      " 31%|████████████████████                                            | 10/32 [00:02<00:06,  3.46it/s]\u001b[A\n",
      " 34%|██████████████████████                                          | 11/32 [00:02<00:06,  3.43it/s]\u001b[A\n",
      " 38%|████████████████████████                                        | 12/32 [00:02<00:06,  3.14it/s]\u001b[A\n",
      " 41%|██████████████████████████                                      | 13/32 [00:03<00:06,  2.74it/s]\u001b[A\n",
      " 44%|████████████████████████████                                    | 14/32 [00:03<00:06,  2.68it/s]\u001b[A\n",
      " 47%|██████████████████████████████                                  | 15/32 [00:04<00:06,  2.62it/s]\u001b[A\n",
      " 50%|████████████████████████████████                                | 16/32 [00:04<00:06,  2.54it/s]\u001b[A\n",
      " 53%|██████████████████████████████████                              | 17/32 [00:04<00:05,  2.77it/s]\u001b[A\n",
      " 56%|████████████████████████████████████                            | 18/32 [00:04<00:04,  3.41it/s]\u001b[A\n",
      " 62%|████████████████████████████████████████                        | 20/32 [00:05<00:02,  4.40it/s]\u001b[A\n",
      " 66%|██████████████████████████████████████████                      | 21/32 [00:05<00:02,  4.52it/s]\u001b[A\n",
      " 69%|████████████████████████████████████████████                    | 22/32 [00:05<00:02,  4.29it/s]\u001b[A\n",
      " 72%|██████████████████████████████████████████████                  | 23/32 [00:05<00:01,  4.50it/s]\u001b[A\n",
      " 75%|████████████████████████████████████████████████                | 24/32 [00:06<00:01,  4.34it/s]\u001b[A\n",
      " 78%|██████████████████████████████████████████████████              | 25/32 [00:06<00:01,  4.21it/s]\u001b[A\n",
      " 81%|████████████████████████████████████████████████████            | 26/32 [00:06<00:01,  3.92it/s]\u001b[A\n",
      " 84%|██████████████████████████████████████████████████████          | 27/32 [00:06<00:01,  4.19it/s]\u001b[A\n",
      " 88%|████████████████████████████████████████████████████████        | 28/32 [00:07<00:00,  4.29it/s]\u001b[A\n",
      " 91%|██████████████████████████████████████████████████████████      | 29/32 [00:07<00:00,  4.44it/s]\u001b[A\n",
      " 94%|████████████████████████████████████████████████████████████    | 30/32 [00:07<00:00,  4.00it/s]\u001b[A\n",
      " 97%|██████████████████████████████████████████████████████████████  | 31/32 [00:07<00:00,  3.82it/s]\u001b[A\n",
      "100%|████████████████████████████████████████████████████████████████| 32/32 [00:08<00:00,  3.85it/s]\u001b[A\n",
      "\n",
      "0it [00:00, ?it/s]\u001b[A\n",
      "\n",
      "  0%|                                                                          | 0/1 [00:00<?, ?it/s]\u001b[A\n",
      "100%|██████████████████████████████████████████████████████████████████| 1/1 [00:00<00:00,  1.21it/s]\u001b[A\n",
      "100%|█████████████████████████████████████████████████████████████████| 2/2 [03:50<00:00, 115.15s/it]\n"
     ]
    }
   ],
   "source": [
    "config[\"refine_steps\"] = 2\n",
    "for refine_step in tqdm(range(config[\"refine_steps\"])):\n",
    "    if os.path.exists(os.path.join(config[\"results_dir\"],\"refine_{}\".format(refine_step), \"cluster_maps.pkl\")):\n",
    "        shutil.rmtree(os.path.join(config[\"results_dir\"],\"refine_{}\".format(refine_step)))\n",
    "    beta = 0.15\n",
    "    cluster_trainers = []\n",
    "    \n",
    "    for cluster_id in tqdm(cluster_map.keys()):\n",
    "        cluster_clients = [client_loaders[i] for i in cluster_map[cluster_id]]\n",
    "        cluster_trainer = ClusterTrainer(config, os.path.join(config['results_dir'], \"refine_{}\".format(refine_step), \"cluster_{}\".format(cluster_id)), cluster_id)\n",
    "        cluster_trainer.train(cluster_clients)\n",
    "        cluster_trainers.append(cluster_trainer)\n",
    "    with open(os.path.join(config[\"results_dir\"],\"refine_{}\".format(refine_step), \"cluster_maps.pkl\"), 'wb') as handle:\n",
    "        pickle.dump(cluster_map, handle, protocol=pickle.HIGHEST_PROTOCOL)\n",
    "    cluster_map_recluster = {}\n",
    "    for key in cluster_map.keys():\n",
    "        cluster_map_recluster[key] = []\n",
    "\n",
    "    for i in tqdm(range(config[\"num_clients\"])):\n",
    "        w_node = client_trainers[i].model.state_dict()\n",
    "        norm_diff = np.infty\n",
    "        new_cluster_id = 0\n",
    "        for cluster_id in cluster_map.keys():\n",
    "            w_cluster = cluster_trainers[cluster_id].model.state_dict()\n",
    "            curr_norm_diff = model_weights_diff(w_node, w_cluster)\n",
    "            if norm_diff > curr_norm_diff:\n",
    "                new_cluster_id = cluster_id\n",
    "                norm_diff = curr_norm_diff\n",
    "        \n",
    "        cluster_map_recluster[new_cluster_id].append(i)\n",
    "    keys = list(cluster_map_recluster.keys()).copy()\n",
    "    for key in keys:\n",
    "        if len(cluster_map_recluster[key]) == 0:\n",
    "            cluster_map_recluster.pop(key)\n",
    "    cluster_map = cluster_map_recluster\n",
    "\n",
    "    \n",
    "    G = nx.Graph()\n",
    "    G.add_nodes_from(cluster_map.keys())\n",
    "\n",
    "    all_pairs = list(itertools.combinations(cluster_map.keys(),2))\n",
    "    for pair in tqdm(all_pairs):\n",
    "        w_1  = cluster_trainers[pair[0]].model.state_dict()\n",
    "        w_2 = cluster_trainers[pair[1]].model.state_dict()\n",
    "        norm_diff = model_weights_diff(w_1, w_2)\n",
    "        if norm_diff < thresh:\n",
    "            G.add_edge(pair[0], pair[1])\n",
    "    G = G.to_undirected()\n",
    "    clustering = []        \n",
    "    correlation_clustering(G)\n",
    "    merge_clusters = [cluster  for cluster in clustering if len(cluster) > 0]\n",
    "    \n",
    "    #merge_cluster_map = {i: clusters[i] for i in range(len(clusters))}\n",
    "    #clusters = list(nx.algorithms.clique.enumerate_all_cliques(G))\n",
    "    cluster_map_new = {}\n",
    "    for i in range(len(merge_clusters)):\n",
    "        cluster_map_new[i] = []\n",
    "        for j in merge_clusters[i]:\n",
    "            cluster_map_new[i] += cluster_map[j]\n",
    "    cluster_map = cluster_map_new\n",
    "    test_acc = 0\n",
    "    for cluster_id in tqdm(cluster_map.keys()):\n",
    "        cluster_clients = [client_loaders[i] for i in cluster_map[cluster_id]]\n",
    "        model_wts = [cluster_trainers[j].model.state_dict() for j in merge_clusters[cluster_id]]\n",
    "        test_acc_cluster, model_avg_wt =avg_acc(model_wts,cluster_clients)\n",
    "        torch.save(model_avg_wt, os.path.join(config['results_dir'], \"refine_{}\".format(refine_step), \"merged_cluster_{}.pth\".format(cluster_id)))\n",
    "        test_acc += test_acc_cluster\n",
    "    test_acc = test_acc/len(cluster_map.keys())\n",
    "    torch.save(test_acc, os.path.join(config['results_dir'], \"refine_{}\".format(refine_step), \"avg_acc.pth\"))\n"
   ]
  },
  {
   "cell_type": "code",
   "execution_count": 58,
   "id": "033141ef-0236-416e-b25a-512575c83798",
   "metadata": {},
   "outputs": [
    {
     "data": {
      "text/plain": [
       "{0: [0,\n",
       "  1,\n",
       "  2,\n",
       "  3,\n",
       "  4,\n",
       "  5,\n",
       "  6,\n",
       "  7,\n",
       "  8,\n",
       "  9,\n",
       "  10,\n",
       "  11,\n",
       "  12,\n",
       "  13,\n",
       "  14,\n",
       "  15,\n",
       "  16,\n",
       "  17,\n",
       "  18,\n",
       "  19,\n",
       "  20,\n",
       "  21,\n",
       "  22,\n",
       "  23,\n",
       "  24,\n",
       "  25,\n",
       "  26,\n",
       "  27,\n",
       "  28,\n",
       "  29,\n",
       "  30,\n",
       "  31]}"
      ]
     },
     "execution_count": 58,
     "metadata": {},
     "output_type": "execute_result"
    }
   ],
   "source": []
  },
  {
   "cell_type": "code",
   "execution_count": 34,
   "id": "a8e09a61-aa8a-4a3c-b72c-2e0af39d81c0",
   "metadata": {},
   "outputs": [
    {
     "name": "stdout",
     "output_type": "stream",
     "text": [
      "tensor(72.7991)\n"
     ]
    }
   ],
   "source": [
    "print(test_acc)"
   ]
  },
  {
   "cell_type": "code",
   "execution_count": 19,
   "id": "3f18abb1-03d4-4bf3-8f60-e4768c372581",
   "metadata": {},
   "outputs": [
    {
     "name": "stderr",
     "output_type": "stream",
     "text": [
      "  1%|▋                                                               | 1/100 [00:00<00:32,  3.01it/s]"
     ]
    },
    {
     "name": "stdout",
     "output_type": "stream",
     "text": [
      "Iteration : 0 \n",
      " , Train Loss : 6.9710216373205185 \n",
      ", Test Acc : 8.685996055603027 \n",
      "\n"
     ]
    },
    {
     "name": "stderr",
     "output_type": "stream",
     "text": [
      " 52%|████████████████████████████████▊                              | 52/100 [00:16<00:11,  4.34it/s]"
     ]
    },
    {
     "name": "stdout",
     "output_type": "stream",
     "text": [
      "Iteration : 50 \n",
      " , Train Loss : 0.8661993985515437 \n",
      ", Test Acc : 69.55622100830078 \n",
      "\n"
     ]
    },
    {
     "name": "stderr",
     "output_type": "stream",
     "text": [
      "100%|██████████████████████████████████████████████████████████████| 100/100 [00:37<00:00,  2.64it/s]"
     ]
    },
    {
     "name": "stdout",
     "output_type": "stream",
     "text": [
      "Iteration : 99 \n",
      " , Train Loss : 0.5586700489147916 \n",
      ", Test Acc : 72.58793640136719 \n",
      "\n"
     ]
    },
    {
     "name": "stderr",
     "output_type": "stream",
     "text": [
      "\n"
     ]
    }
   ],
   "source": [
    "class GlobalTrainer(BaseTrainer):\n",
    "    def __init__(self,  config, save_dir):\n",
    "        super(GlobalTrainer, self).__init__(config, save_dir)\n",
    "        \n",
    "    def train(self, client_data_list):\n",
    "        num_clients = len(client_data_list)\n",
    "\n",
    "        train_loss_list = []\n",
    "        test_acc_list = []\n",
    "        self.model.to(self.device)\n",
    "        self.model.train()\n",
    "        \n",
    "        \n",
    "        optimizer = OPTIMIZER_LIST[self.config[\"optimizer\"]](self.model.parameters(), **self.config[\"optimizer_params\"])\n",
    "        #eff_num_workers = int(num_clients/(1 - 2*beta))\n",
    "        # if eff_num_workers > 0:\n",
    "        #     eff_batch_size = self.config[\"train_batch\"]/eff_num_workers\n",
    "        #     for i in range(num_clients):\n",
    "        #         client_data_list[i].trainloader.batch_size = eff_batch_size\n",
    "                \n",
    "        for iteration in tqdm(range(self.config[\"iterations\"])):\n",
    "            trmean_buffer = {}\n",
    "            for idx, param in self.model.named_parameters():\n",
    "                if param.requires_grad:\n",
    "                    trmean_buffer[idx] = []\n",
    "            train_loss = 0\n",
    "            #optimizer.zero_grad(set_to_none=True)\n",
    "\n",
    "            for client in client_data_list:\n",
    "                #if eff_num_workers>0:\n",
    "                optimizer.zero_grad(set_to_none=True)\n",
    "                (X,Y) = client.sample_batch()\n",
    "                X = X.to(config[\"device\"])\n",
    "                Y = Y.to(config[\"device\"])\n",
    "                loss_func = nn.CrossEntropyLoss()\n",
    "                out = self.model(X)\n",
    "                loss = loss_func(out,Y)\n",
    "                loss.backward()\n",
    "                train_loss += loss.detach().cpu().numpy().item()\n",
    "                \n",
    "                with torch.no_grad():\n",
    "                    for idx, param in self.model.named_parameters():\n",
    "                        if param.requires_grad:\n",
    "                            trmean_buffer[idx].append(param.grad.clone())\n",
    "            train_loss = train_loss/num_clients\n",
    "            optimizer.zero_grad()\n",
    "            \n",
    "            start_idx = 0\n",
    "            end_idx = num_clients\n",
    "\n",
    "\n",
    "            for idx, param in self.model.named_parameters():\n",
    "                if param.requires_grad:\n",
    "                    sorted, _  = torch.sort(torch.stack(trmean_buffer[idx], dim=0), dim=0)\n",
    "                    new_grad = sorted[start_idx:end_idx,...].mean(dim=0)\n",
    "                    param.grad = new_grad\n",
    "                    trmean_buffer[idx] = []\n",
    "            optimizer.step()\n",
    "            \n",
    "            train_loss_list.append(train_loss)\n",
    "            test_acc = 0\n",
    "            for client_data in client_data_list:\n",
    "                test_acc += calc_acc(self.model, self.device, client_data, train=False)\n",
    "            test_acc = test_acc/num_clients\n",
    "            test_acc_list.append(test_acc)\n",
    "            self.model.train()\n",
    "            if iteration % self.config[\"save_freq\"] == 0 or iteration == self.config[\"iterations\"] - 1:\n",
    "                self.save_model_weights()\n",
    "                self.save_metrics(train_loss_list, test_acc_list, iteration)\n",
    "            if iteration % self.config[\"print_freq\"] == 0 or iteration == self.config[\"iterations\"] - 1:\n",
    "                print(\"Iteration : {} \\n , Train Loss : {} \\n, Test Acc : {} \\n\".format(iteration,  train_loss, test_acc))\n",
    "                \n",
    "        self.model.eval()\n",
    "        self.model.cpu()\n",
    "\n",
    "\n",
    "    def test(self, client_data_list):\n",
    "        self.load_model_weights()\n",
    "        self.model.eval()\n",
    "        self.model.to(self.device)\n",
    "        test_acc = 0\n",
    "        for client_data in client_data_list:\n",
    "            test_acc += calc_acc(self.model, self.device, client_data, train=False)\n",
    "        self.model.cpu()\n",
    "        return test_acc\n",
    "\n",
    "global_trainer = GlobalTrainer(config, os.path.join(config[\"results_dir\"], \"global\"))\n",
    "global_trainer.train(client_loaders)\n"
   ]
  },
  {
   "cell_type": "code",
   "execution_count": 20,
   "id": "5129aa66-94b9-45fd-8865-d9c6eeb6c2ff",
   "metadata": {},
   "outputs": [],
   "source": [
    "del global_trainer\n",
    "import gc\n",
    "gc.collect()\n",
    "torch.cuda.empty_cache()"
   ]
  },
  {
   "cell_type": "code",
   "execution_count": null,
   "id": "918e88a5-85a1-402d-97bc-22fd13e5e44c",
   "metadata": {},
   "outputs": [],
   "source": []
  }
 ],
 "metadata": {
  "kernelspec": {
   "display_name": "Python 3 (ipykernel)",
   "language": "python",
   "name": "python3"
  },
  "language_info": {
   "codemirror_mode": {
    "name": "ipython",
    "version": 3
   },
   "file_extension": ".py",
   "mimetype": "text/x-python",
   "name": "python",
   "nbconvert_exporter": "python",
   "pygments_lexer": "ipython3",
   "version": "3.9.7"
  }
 },
 "nbformat": 4,
 "nbformat_minor": 5
}
