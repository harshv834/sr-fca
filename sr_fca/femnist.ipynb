{
 "cells": [
  {
   "cell_type": "code",
   "execution_count": 1,
   "id": "ce87c6fe-bf60-4768-b95c-eb69eb911f85",
   "metadata": {},
   "outputs": [],
   "source": [
    "%load_ext autoreload\n",
    "%autoreload 2"
   ]
  },
  {
   "cell_type": "code",
   "execution_count": 2,
   "id": "89f0770d-397b-478b-ac3d-e95a971a083f",
   "metadata": {},
   "outputs": [],
   "source": [
    "\n",
    "\n",
    "\n",
    "\n",
    "import torch\n",
    "import numpy as np\n",
    "from torch.utils.data import Dataset, DataLoader \n",
    "from abc import ABC\n",
    "from tqdm import tqdm\n",
    "import torchvision\n",
    "import os\n",
    "import torch.nn as nn\n",
    "import torch.nn.functional as F\n",
    "import torch.optim as optim\n",
    "import random\n",
    "import json\n",
    "from collections import OrderedDict\n",
    "import shutil"
   ]
  },
  {
   "cell_type": "code",
   "execution_count": 5,
   "id": "288c0905-d9b3-44ad-a6c7-a09097b1e95d",
   "metadata": {},
   "outputs": [],
   "source": [
    "shutil.rmtree(\"./experiments/results/femnist/seed_9998\")"
   ]
  },
  {
   "cell_type": "code",
   "execution_count": 3,
   "id": "1605b678-fae8-49b9-a586-455fd73292a6",
   "metadata": {},
   "outputs": [],
   "source": [
    "torch.cuda.empty_cache()"
   ]
  },
  {
   "cell_type": "code",
   "execution_count": 7,
   "id": "b20a7e62-cf87-4ad2-971c-26d41772364a",
   "metadata": {},
   "outputs": [
    {
     "data": {
      "text/plain": [
       "301"
      ]
     },
     "execution_count": 7,
     "metadata": {},
     "output_type": "execute_result"
    }
   ],
   "source": []
  },
  {
   "cell_type": "code",
   "execution_count": null,
   "id": "d89c067e-d9a7-4bdc-9af8-f7f908c3cc84",
   "metadata": {},
   "outputs": [],
   "source": []
  },
  {
   "cell_type": "code",
   "execution_count": null,
   "id": "23339004-f519-4f3f-81a0-f38bcf11ddbf",
   "metadata": {},
   "outputs": [],
   "source": [
    "config = {}\n"
   ]
  },
  {
   "cell_type": "code",
   "execution_count": 76,
   "id": "99f06350-63c9-4001-af6c-33c15cf3bddb",
   "metadata": {},
   "outputs": [],
   "source": [
    "config[\"seed\"] = 8\n",
    "seed = config[\"seed\"]\n",
    "os.environ['PYTHONHASHSEED'] = str(seed)\n",
    "# Torch RNG\n",
    "torch.manual_seed(seed)\n",
    "torch.cuda.manual_seed(seed)\n",
    "torch.cuda.manual_seed_all(seed)\n",
    "# Python RNG\n",
    "np.random.seed(seed)\n",
    "random.seed(seed)\n"
   ]
  },
  {
   "cell_type": "code",
   "execution_count": 71,
   "id": "362df591-0392-4234-b2fc-7e983c715520",
   "metadata": {},
   "outputs": [],
   "source": [
    "config[\"participation_ratio\"] = 0.05/6\n",
    "#config[\"total_num_clients_per_cluster\"] = 80\n",
    "#config[\"num_clients_per_cluster\"] = int(config[\"participation_ratio\"]*config[\"total_num_clients_per_cluster\"])\n",
    "#config[\"num_clusters\"] = 4\n",
    "#config[\"num_clients\"] = config[\"num_clients_per_cluster\"]*config[\"num_clusters\"]\n",
    "config[\"dataset\"] = \"femnist\"\n",
    "#DATASET_LIB = {\"mnist\" : torchvision.datasets.MNIST, \"emnist\": torchvision.datasets.EMNIST, \"cifar10\": torchvision.datasets.CIFAR10}\n",
    "config[\"dataset_dir\"] = \"/base_vol/femnist/data\"\n",
    "config[\"results_dir\"] = \"./experiments/results\"\n",
    "config[\"results_dir\"] = os.path.join(config[\"results_dir\"], config[\"dataset\"], \"seed_{}\".format(seed))\n",
    "os.makedirs(config[\"results_dir\"], exist_ok=True)\n"
   ]
  },
  {
   "cell_type": "code",
   "execution_count": 72,
   "id": "d313418d-9e3b-4f6a-aae1-351246a958ab",
   "metadata": {},
   "outputs": [],
   "source": [
    "from collections import defaultdict\n",
    "def read_dir(data_dir):\n",
    "    clients = []\n",
    "    groups = []\n",
    "    data = defaultdict(lambda : None)\n",
    "\n",
    "    files = os.listdir(data_dir)\n",
    "    files = [f for f in files if f.endswith('.json')]\n",
    "    for f in files:\n",
    "        file_path = os.path.join(data_dir,f)\n",
    "        with open(file_path, 'r') as inf:\n",
    "            cdata = json.load(inf)\n",
    "        clients.extend(cdata['users'])\n",
    "        if 'hierarchies' in cdata:\n",
    "            groups.extend(cdata['hierarchies'])\n",
    "        data.update(cdata['user_data'])\n",
    "\n",
    "    clients = list(sorted(data.keys()))\n",
    "    return clients, groups, data\n",
    "\n",
    "\n",
    "def read_data(train_data_dir, test_data_dir):\n",
    "    '''parses data in given train and test data directories\n",
    "    assumes:\n",
    "    - the data in the input directories are .json files with \n",
    "        keys 'users' and 'user_data'\n",
    "    - the set of train set users is the same as the set of test set users\n",
    "    \n",
    "    Return:\n",
    "        clients: list of client ids\n",
    "        groups: list of group ids; empty list if none found\n",
    "        train_data: dictionary of train data\n",
    "        test_data: dictionary of test data\n",
    "    '''\n",
    "    train_clients, train_groups, train_data = read_dir(train_data_dir)\n",
    "    test_clients, test_groups, test_data = read_dir(test_data_dir)\n",
    "\n",
    "    assert train_clients == test_clients\n",
    "    assert train_groups == test_groups\n",
    "\n",
    "    return train_clients, train_groups, train_data, test_data\n"
   ]
  },
  {
   "cell_type": "code",
   "execution_count": 38,
   "id": "fd0a5184-7e62-4c94-8238-0e75eca8f13d",
   "metadata": {},
   "outputs": [],
   "source": [
    "config[\"total_clients\"], _, train_data, test_data = read_data(os.path.join(config[\"dataset_dir\"],\"train\"), os.path.join(config[\"dataset_dir\"],\"test\"))\n"
   ]
  },
  {
   "cell_type": "code",
   "execution_count": 7,
   "id": "1ea3ea78-2a6a-4634-9fec-a5ffb6c81d61",
   "metadata": {},
   "outputs": [],
   "source": [
    "class ClientDataset(Dataset):\n",
    "    def __init__(self, data,transforms = None):\n",
    "        super(ClientDataset,self).__init__()\n",
    "        self.data = data[0]\n",
    "        self.labels = data[1]\n",
    "        self.transforms = transforms\n",
    "\n",
    "    def __len__(self):\n",
    "        return len(self.data)\n",
    "    \n",
    "    def __getitem__(self,idx):\n",
    "        idx_data = self.data[idx].reshape(28,28)\n",
    "        if self.transforms is not None:\n",
    "            transformed_data =self.transforms(idx_data)\n",
    "        else:\n",
    "            transformed_data = idx_data\n",
    "        idx_labels = self.labels[idx]\n",
    "        return (transformed_data.float(), idx_labels)\n",
    "\n",
    "class Client():\n",
    "    def __init__(self, train_data, test_data, client_id,  train_transforms, test_transforms, train_batch_size, test_batch_size, save_dir):\n",
    "        self.trainset = ClientDataset(train_data, train_transforms)\n",
    "        self.testset = ClientDataset(test_data, test_transforms)\n",
    "        self.trainloader = DataLoader(self.trainset, batch_size = train_batch_size, shuffle=True)\n",
    "        self.testloader = DataLoader(self.testset, batch_size = test_batch_size, shuffle=False)\n",
    "        self.train_iterator = iter(self.trainloader)\n",
    "        self.test_iterator = iter(self.testloader)\n",
    "        self.client_id = client_id\n",
    "        self.save_dir = os.path.join(save_dir, \"init\", \"client_{}\".format(client_id))\n",
    "\n",
    "    def sample_batch(self, train=True):\n",
    "        iterator = self.train_iterator if train else self.test_iterator\n",
    "        try:\n",
    "            (data, labels) = next(iterator)\n",
    "        except StopIteration:\n",
    "            if train:\n",
    "                self.train_iterator = iter(self.trainloader)\n",
    "                iterator = self.train_iterator\n",
    "            else:\n",
    "                self.test_iterator = iter(self.testloader)\n",
    "                iterator = self.test_iterator\n",
    "            (data, labels) = next(iterator)\n",
    "        return (data, labels)\n"
   ]
  },
  {
   "cell_type": "code",
   "execution_count": 39,
   "id": "4474942d-2aa5-462a-acd9-c22b676167a0",
   "metadata": {},
   "outputs": [],
   "source": [
    "config[\"train_batch\"] = 64\n",
    "config[\"test_batch\"] = 512\n",
    "config[\"num_clients\"] = int(len(config[\"total_clients\"])/6)\n"
   ]
  },
  {
   "cell_type": "code",
   "execution_count": null,
   "id": "7c19c755-d961-40da-929a-03600334f42f",
   "metadata": {},
   "outputs": [],
   "source": []
  },
  {
   "cell_type": "code",
   "execution_count": 77,
   "id": "da8c4ee8-c626-4301-8edb-46ec43f3952e",
   "metadata": {},
   "outputs": [],
   "source": [
    "## Generate new clients\n",
    "selected_clients_path = os.path.join(config[\"results_dir\"], \"selected_clients.json\")\n",
    "if os.path.exists(selected_clients_path):\n",
    "    with open(selected_clients_path, \"r\") as f:\n",
    "        config[\"selected_clients\"] = json.load(f)\n",
    "else:\n",
    "    config[\"selected_clients\"] = random.sample(config[\"total_clients\"], config[\"num_clients\"])\n",
    "    with open(selected_clients_path, \"w\") as f:\n",
    "        json.dump(config[\"selected_clients\"], f)"
   ]
  },
  {
   "cell_type": "code",
   "execution_count": 78,
   "id": "7c5ccec3-dc97-4205-8830-52c1792a4e82",
   "metadata": {},
   "outputs": [],
   "source": [
    "client_loaders = []\n",
    "for client_id in config[\"selected_clients\"]:\n",
    "        client_loaders.append(\n",
    "            Client(\n",
    "                (np.array(train_data[client_id]['x']), np.array(train_data[client_id]['y'])),\n",
    "                (np.array(test_data[client_id]['x']), np.array(test_data[client_id]['y'])),\n",
    "                client_id,\n",
    "                train_transforms=torchvision.transforms.ToTensor(),\n",
    "                test_transforms=torchvision.transforms.ToTensor(),\n",
    "                train_batch_size=config[\"train_batch\"],\n",
    "                test_batch_size=config[\"test_batch\"],\n",
    "                save_dir=config[\"results_dir\"],\n",
    "            )\n",
    "        )\n"
   ]
  },
  {
   "cell_type": "code",
   "execution_count": 42,
   "id": "ebad52b1-a170-4aa4-8b96-095eb57ee01f",
   "metadata": {},
   "outputs": [],
   "source": [
    "class SimpleCNN(torch.nn.Module):\n",
    "\n",
    "    def __init__(self, h1=2048):\n",
    "        super().__init__()\n",
    "        self.conv1 = torch.nn.Conv2d(1, 32, kernel_size = (5,5), padding=\"same\")\n",
    "        self.pool1 = torch.nn.MaxPool2d((2,2), stride=2)\n",
    "        self.conv2 = torch.nn.Conv2d(32, 64, kernel_size= (5,5), padding = \"same\")\n",
    "        self.pool2 = torch.nn.MaxPool2d((2,2), stride=2)\n",
    "        self.fc1 = torch.nn.Linear(64*7*7, 2048)\n",
    "        self.fc2 = torch.nn.Linear(2048, 62)\n",
    "\n",
    "    def forward(self, x):\n",
    "        x = F.relu(self.conv1(x))\n",
    "        x = self.pool1(x)\n",
    "        x = self.conv2(x)\n",
    "        x = F.relu(x)\n",
    "        x = self.pool2(x)\n",
    "        x = x.flatten(start_dim=1)\n",
    "        x = F.relu(self.fc1(x))\n",
    "        x = self.fc2(x)\n",
    "        return x\n"
   ]
  },
  {
   "cell_type": "code",
   "execution_count": 12,
   "id": "986ddb6c-2a34-4608-bcd2-9737ba60f689",
   "metadata": {},
   "outputs": [],
   "source": [
    "def set_weights(model):\n",
    "    model_wt = torch.load('/base_vol/model_wt_dict.pt')\n",
    "    new_wts = OrderedDict()\n",
    "    new_wts['fc2.weight'] = torch.Tensor(model_wt[\"dense_1/kernel\"]).t()\n",
    "    new_wts['fc2.bias'] = torch.Tensor(model_wt[\"dense_1/bias\"])\n",
    "    new_wts['fc1.weight'] = torch.Tensor(model_wt[\"dense/kernel\"]).t()\n",
    "    new_wts['fc1.bias'] = torch.Tensor(model_wt[\"dense/bias\"])\n",
    "    new_wts[\"conv1.weight\"] = torch.Tensor(model_wt[\"conv2d/kernel\"]).permute(3,2,0,1)\n",
    "    new_wts[\"conv2.weight\"] = torch.Tensor(model_wt[\"conv2d_1/kernel\"]).permute(3,2,0,1)\n",
    "    new_wts[\"conv1.bias\"] = torch.Tensor(model_wt[\"conv2d/bias\"])\n",
    "    new_wts[\"conv2.bias\"] = torch.Tensor(model_wt[\"conv2d_1/bias\"])\n",
    "    model.load_state_dict(new_wts)\n",
    "    return freeze_layers(model)\n",
    "def freeze_layers(model):\n",
    "    model.conv1.weight.requires_grad =False\n",
    "    model.conv2.weight.requires_grad =False\n",
    "    model.fc1.weight.requires_grad =True\n",
    "    model.fc2.weight.requires_grad =True\n",
    "    model.conv1.bias.requires_grad =False\n",
    "    model.conv2.bias.requires_grad =False\n",
    "    model.fc1.bias.requires_grad =True\n",
    "    model.fc2.bias.requires_grad =True\n",
    "    return model"
   ]
  },
  {
   "cell_type": "code",
   "execution_count": null,
   "id": "614782bb-8725-4297-a722-53ed090efd48",
   "metadata": {},
   "outputs": [],
   "source": []
  },
  {
   "cell_type": "code",
   "execution_count": null,
   "id": "2a950d86-a9f7-4a3e-b2d4-f785ec2f3f38",
   "metadata": {},
   "outputs": [],
   "source": []
  },
  {
   "cell_type": "code",
   "execution_count": null,
   "id": "31fa6de6-1250-4d7c-b61c-26fffa5735ee",
   "metadata": {},
   "outputs": [],
   "source": []
  },
  {
   "cell_type": "code",
   "execution_count": null,
   "id": "f6bacb47-a8c9-4cf5-944b-f6f4929455fe",
   "metadata": {},
   "outputs": [],
   "source": []
  },
  {
   "cell_type": "code",
   "execution_count": null,
   "id": "91f40e36-4e93-42f5-9495-c0609922c517",
   "metadata": {},
   "outputs": [],
   "source": []
  },
  {
   "cell_type": "code",
   "execution_count": null,
   "id": "5b4a177e-6dc1-402e-a931-659848f2f5ac",
   "metadata": {},
   "outputs": [],
   "source": []
  },
  {
   "cell_type": "code",
   "execution_count": 13,
   "id": "ff88ffc7-fbdc-4784-a9b4-e97562b36e3a",
   "metadata": {},
   "outputs": [],
   "source": [
    "def calc_acc(model, device, client_data, train):\n",
    "    loader = client_data.trainloader if train else client_data.testloader\n",
    "    model.eval()\n",
    "    model.to(device)\n",
    "    num_corr = 0\n",
    "    tot_num = 0\n",
    "    with torch.no_grad():\n",
    "        for (X,Y) in loader:\n",
    "            X = X.to(device)\n",
    "            pred = model(X).argmax(axis=1).detach().cpu()\n",
    "            num_corr += (Y == pred).float().sum()\n",
    "            tot_num += Y.shape[0]\n",
    "    acc = num_corr/tot_num\n",
    "    acc *= 100.0\n",
    "    return acc\n"
   ]
  },
  {
   "cell_type": "code",
   "execution_count": 14,
   "id": "bbc75130-2001-468c-9720-0d7c038d6bfe",
   "metadata": {},
   "outputs": [],
   "source": [
    "class BaseTrainer(ABC):\n",
    "    def __init__(self,config, save_dir):\n",
    "        super(BaseTrainer, self).__init__()\n",
    "        self.model = set_weights(MODEL_LIST[config[\"model\"]](**config[\"model_params\"]))\n",
    "        self.save_dir = save_dir\n",
    "        self.device = config[\"device\"]\n",
    "        self.loss_func = LOSSES[config[\"loss_func\"]]\n",
    "        self.config = config\n",
    "        os.makedirs(self.save_dir, exist_ok=True)\n",
    "\n",
    "    def train(self):\n",
    "        raise NotImplementedError\n",
    "    \n",
    "    def test(self):\n",
    "        raise NotImplementedError\n",
    "\n",
    "    def load_model_weights(self):\n",
    "        model_path  = os.path.join(self.save_dir, \"model.pth\")\n",
    "        if os.path.exists(model_path):\n",
    "            self.model.load_state_dict(torch.load(model_path))\n",
    "        else:\n",
    "            print(\"No model present at path : {}\".format())\n",
    "\n",
    "    def save_model_weights(self):\n",
    "        model_path  = os.path.join(self.save_dir, \"model.pth\")\n",
    "        torch.save(self.model.state_dict(), model_path)\n",
    "    def save_metrics(self, train_loss, test_acc, iteration):\n",
    "        torch.save({\"train_loss\": train_loss,  \"test_acc\" : test_acc}, os.path.join(self.save_dir,\"metrics_{}.pkl\".format(iteration)))\n",
    "\n",
    "class ClientTrainer(BaseTrainer):\n",
    "    def __init__(self,  config, save_dir,client_id):\n",
    "        super(ClientTrainer, self).__init__(config, save_dir)\n",
    "        self.client_id = client_id\n",
    "    \n",
    "    def train(self, client_data):\n",
    "        train_loss_list = []\n",
    "        test_acc_list = []\n",
    "        self.model.to(self.device)\n",
    "        self.model.train()\n",
    "        optimizer = OPTIMIZER_LIST[self.config[\"optimizer\"]](self.model.parameters(), **self.config[\"optimizer_params\"])\n",
    "        for iteration in range(self.config[\"iterations\"]):\n",
    "            self.model.zero_grad()\n",
    "            (X,Y) = client_data.sample_batch(train=True)\n",
    "            X = X.to(self.device)\n",
    "            Y = Y.to(self.device)\n",
    "            out = self.model(X)\n",
    "            loss = self.loss_func(out, Y)\n",
    "            loss.backward()\n",
    "            optimizer.step()\n",
    "            train_loss = loss.detach().cpu().numpy().item()\n",
    "            train_loss_list.append(train_loss)\n",
    "            test_acc = calc_acc(self.model, self.device, client_data, train=False)\n",
    "            test_acc_list.append(test_acc)\n",
    "            self.model.train()\n",
    "            if iteration % self.config[\"save_freq\"] == 0 or iteration == self.config[\"iterations\"] - 1:\n",
    "                self.save_model_weights()\n",
    "                self.save_metrics(train_loss_list, test_acc_list, iteration)\n",
    "            if iteration % self.config[\"print_freq\"] == 0 or iteration == self.config[\"iterations\"] - 1:\n",
    "                print(\"Iteration : {} \\n , Train Loss : {} \\n, Test Acc : {} \\n\".format(iteration,  train_loss, test_acc))\n",
    "                \n",
    "        self.model.eval()\n",
    "        self.model.cpu()\n",
    "\n",
    "\n",
    "    def test(self, client_data):\n",
    "        self.load_model_weights()\n",
    "        self.model.eval()\n",
    "        self.model.to(self.device)\n",
    "        acc =  calc_acc(self.model, client_data)\n",
    "        self.model.cpu()\n",
    "        return acc\n",
    "\n",
    "\n"
   ]
  },
  {
   "cell_type": "code",
   "execution_count": 43,
   "id": "0ceaf01d-a71b-4ffa-965d-4aa5e2cc7553",
   "metadata": {},
   "outputs": [],
   "source": [
    "  \n",
    "MODEL_LIST = {\"cnn\" : SimpleCNN}\n",
    "OPTIMIZER_LIST = {\"sgd\": optim.SGD, \"adam\": optim.Adam}\n",
    "LOSSES = {\"cross_entropy\": nn.CrossEntropyLoss()}\n",
    "# config[\"save_dir\"] = os.path.join(\"./results\")\n",
    "config[\"iterations\"] = 100\n",
    "config[\"optimizer_params\"] = {\"lr\":0.001}\n",
    "config[\"save_freq\"] = 2\n",
    "config[\"print_freq\"]  = 50\n",
    "config[\"model\"] = \"cnn\"\n",
    "config[\"optimizer\"] = \"adam\"\n",
    "config[\"loss_func\"] = \"cross_entropy\"\n",
    "#config[\"model_params\"] = {\"num_channels\": 1 , \"num_classes\"  : 62}\n",
    "config[\"model_params\"] = {}\n",
    "config[\"device\"] = torch.device(\"cuda:0\")\n",
    "import pickle\n",
    "\n",
    "\n",
    "\n",
    "\n"
   ]
  },
  {
   "cell_type": "code",
   "execution_count": 46,
   "id": "c5028313-cf08-4044-b734-c5939f4e116c",
   "metadata": {},
   "outputs": [],
   "source": [
    "client_trainers = [ClientTrainer(config,os.path.join(config[\"results_dir\"], \"init\", client_id), client_id) for client_id in config[\"selected_clients\"]]\n"
   ]
  },
  {
   "cell_type": "code",
   "execution_count": 47,
   "id": "4b422335-62cb-44fa-a3f5-1925fe60b3ce",
   "metadata": {},
   "outputs": [
    {
     "name": "stderr",
     "output_type": "stream",
     "text": [
      "  0%|                                                                         | 0/32 [00:00<?, ?it/s]"
     ]
    },
    {
     "name": "stdout",
     "output_type": "stream",
     "text": [
      "Iteration : 0 \n",
      " , Train Loss : 6.637035846710205 \n",
      ", Test Acc : 3.7037036418914795 \n",
      "\n",
      "Iteration : 50 \n",
      " , Train Loss : 0.29978856444358826 \n",
      ", Test Acc : 85.18518829345703 \n",
      "\n"
     ]
    },
    {
     "name": "stderr",
     "output_type": "stream",
     "text": [
      "  3%|██                                                               | 1/32 [00:11<05:53, 11.40s/it]"
     ]
    },
    {
     "name": "stdout",
     "output_type": "stream",
     "text": [
      "Iteration : 99 \n",
      " , Train Loss : 0.03732234239578247 \n",
      ", Test Acc : 85.18518829345703 \n",
      "\n",
      "Iteration : 0 \n",
      " , Train Loss : 6.662721157073975 \n",
      ", Test Acc : 5.263157844543457 \n",
      "\n",
      "Iteration : 50 \n",
      " , Train Loss : 0.2584386467933655 \n",
      ", Test Acc : 81.57894897460938 \n",
      "\n"
     ]
    },
    {
     "name": "stderr",
     "output_type": "stream",
     "text": [
      "  6%|████                                                             | 2/32 [00:21<05:26, 10.90s/it]"
     ]
    },
    {
     "name": "stdout",
     "output_type": "stream",
     "text": [
      "Iteration : 99 \n",
      " , Train Loss : 0.09703311324119568 \n",
      ", Test Acc : 92.10526275634766 \n",
      "\n",
      "Iteration : 0 \n",
      " , Train Loss : 8.357836723327637 \n",
      ", Test Acc : 27.77777862548828 \n",
      "\n",
      "Iteration : 50 \n",
      " , Train Loss : 0.012913631275296211 \n",
      ", Test Acc : 66.66667175292969 \n",
      "\n"
     ]
    },
    {
     "name": "stderr",
     "output_type": "stream",
     "text": [
      "  9%|██████                                                           | 3/32 [00:34<05:35, 11.57s/it]"
     ]
    },
    {
     "name": "stdout",
     "output_type": "stream",
     "text": [
      "Iteration : 99 \n",
      " , Train Loss : 0.002325940178707242 \n",
      ", Test Acc : 66.66667175292969 \n",
      "\n",
      "Iteration : 0 \n",
      " , Train Loss : 7.451553821563721 \n",
      ", Test Acc : 11.111111640930176 \n",
      "\n",
      "Iteration : 50 \n",
      " , Train Loss : 0.0485992431640625 \n",
      ", Test Acc : 55.55555725097656 \n",
      "\n"
     ]
    },
    {
     "name": "stderr",
     "output_type": "stream",
     "text": [
      " 12%|████████▏                                                        | 4/32 [01:00<08:07, 17.41s/it]"
     ]
    },
    {
     "name": "stdout",
     "output_type": "stream",
     "text": [
      "Iteration : 99 \n",
      " , Train Loss : 0.02243007719516754 \n",
      ", Test Acc : 55.55555725097656 \n",
      "\n",
      "Iteration : 0 \n",
      " , Train Loss : 8.230623245239258 \n",
      ", Test Acc : 8.333333969116211 \n",
      "\n",
      "Iteration : 50 \n",
      " , Train Loss : 0.027989299967885017 \n",
      ", Test Acc : 33.333335876464844 \n",
      "\n"
     ]
    },
    {
     "name": "stderr",
     "output_type": "stream",
     "text": [
      " 16%|██████████▏                                                      | 5/32 [01:11<06:48, 15.15s/it]"
     ]
    },
    {
     "name": "stdout",
     "output_type": "stream",
     "text": [
      "Iteration : 99 \n",
      " , Train Loss : 0.011420486494898796 \n",
      ", Test Acc : 33.333335876464844 \n",
      "\n",
      "Iteration : 0 \n",
      " , Train Loss : 8.040980339050293 \n",
      ", Test Acc : 9.090909004211426 \n",
      "\n",
      "Iteration : 50 \n",
      " , Train Loss : 0.03169284760951996 \n",
      ", Test Acc : 36.3636360168457 \n",
      "\n"
     ]
    },
    {
     "name": "stderr",
     "output_type": "stream",
     "text": [
      " 19%|████████████▏                                                    | 6/32 [01:22<05:52, 13.57s/it]"
     ]
    },
    {
     "name": "stdout",
     "output_type": "stream",
     "text": [
      "Iteration : 99 \n",
      " , Train Loss : 0.03318779170513153 \n",
      ", Test Acc : 36.3636360168457 \n",
      "\n",
      "Iteration : 0 \n",
      " , Train Loss : 6.923524856567383 \n",
      ", Test Acc : 35.29411697387695 \n",
      "\n",
      "Iteration : 50 \n",
      " , Train Loss : 0.0794343501329422 \n",
      ", Test Acc : 70.5882339477539 \n",
      "\n"
     ]
    },
    {
     "name": "stderr",
     "output_type": "stream",
     "text": [
      " 22%|██████████████▏                                                  | 7/32 [01:32<05:13, 12.54s/it]"
     ]
    },
    {
     "name": "stdout",
     "output_type": "stream",
     "text": [
      "Iteration : 99 \n",
      " , Train Loss : 0.013054211623966694 \n",
      ", Test Acc : 70.5882339477539 \n",
      "\n",
      "Iteration : 0 \n",
      " , Train Loss : 5.4641242027282715 \n",
      ", Test Acc : 7.692307949066162 \n",
      "\n",
      "Iteration : 50 \n",
      " , Train Loss : 0.4184598922729492 \n",
      ", Test Acc : 71.79487609863281 \n",
      "\n"
     ]
    },
    {
     "name": "stderr",
     "output_type": "stream",
     "text": [
      " 25%|████████████████▎                                                | 8/32 [01:40<04:22, 10.95s/it]"
     ]
    },
    {
     "name": "stdout",
     "output_type": "stream",
     "text": [
      "Iteration : 99 \n",
      " , Train Loss : 0.16541633009910583 \n",
      ", Test Acc : 76.92308044433594 \n",
      "\n",
      "Iteration : 0 \n",
      " , Train Loss : 6.554172992706299 \n",
      ", Test Acc : 11.764705657958984 \n",
      "\n",
      "Iteration : 50 \n",
      " , Train Loss : 0.07564735412597656 \n",
      ", Test Acc : 64.70588684082031 \n",
      "\n"
     ]
    },
    {
     "name": "stderr",
     "output_type": "stream",
     "text": [
      " 28%|██████████████████▎                                              | 9/32 [01:59<05:12, 13.60s/it]"
     ]
    },
    {
     "name": "stdout",
     "output_type": "stream",
     "text": [
      "Iteration : 99 \n",
      " , Train Loss : 0.015431844629347324 \n",
      ", Test Acc : 70.5882339477539 \n",
      "\n",
      "Iteration : 0 \n",
      " , Train Loss : 6.708613872528076 \n",
      ", Test Acc : 6.45161247253418 \n",
      "\n",
      "Iteration : 50 \n",
      " , Train Loss : 0.18339774012565613 \n",
      ", Test Acc : 67.74193572998047 \n",
      "\n"
     ]
    },
    {
     "name": "stderr",
     "output_type": "stream",
     "text": [
      " 31%|████████████████████                                            | 10/32 [02:23<06:09, 16.79s/it]"
     ]
    },
    {
     "name": "stdout",
     "output_type": "stream",
     "text": [
      "Iteration : 99 \n",
      " , Train Loss : 0.05663880333304405 \n",
      ", Test Acc : 61.29032516479492 \n",
      "\n",
      "Iteration : 0 \n",
      " , Train Loss : 8.799028396606445 \n",
      ", Test Acc : 18.75 \n",
      "\n",
      "Iteration : 50 \n",
      " , Train Loss : 0.2048787772655487 \n",
      ", Test Acc : 62.5 \n",
      "\n"
     ]
    },
    {
     "name": "stderr",
     "output_type": "stream",
     "text": [
      " 34%|██████████████████████                                          | 11/32 [02:32<05:01, 14.37s/it]"
     ]
    },
    {
     "name": "stdout",
     "output_type": "stream",
     "text": [
      "Iteration : 99 \n",
      " , Train Loss : 0.04977525770664215 \n",
      ", Test Acc : 62.5 \n",
      "\n",
      "Iteration : 0 \n",
      " , Train Loss : 5.952098846435547 \n",
      ", Test Acc : 0.0 \n",
      "\n",
      "Iteration : 50 \n",
      " , Train Loss : 0.0030323301907628775 \n",
      ", Test Acc : 0.0 \n",
      "\n"
     ]
    },
    {
     "name": "stderr",
     "output_type": "stream",
     "text": [
      " 38%|████████████████████████                                        | 12/32 [03:02<06:20, 19.03s/it]"
     ]
    },
    {
     "name": "stdout",
     "output_type": "stream",
     "text": [
      "Iteration : 99 \n",
      " , Train Loss : 0.0009455641265958548 \n",
      ", Test Acc : 0.0 \n",
      "\n",
      "Iteration : 0 \n",
      " , Train Loss : 6.376664638519287 \n",
      ", Test Acc : 12.5 \n",
      "\n",
      "Iteration : 50 \n",
      " , Train Loss : 0.17541885375976562 \n",
      ", Test Acc : 50.0 \n",
      "\n"
     ]
    },
    {
     "name": "stderr",
     "output_type": "stream",
     "text": [
      " 41%|██████████████████████████                                      | 13/32 [03:09<04:51, 15.36s/it]"
     ]
    },
    {
     "name": "stdout",
     "output_type": "stream",
     "text": [
      "Iteration : 99 \n",
      " , Train Loss : 0.08128704130649567 \n",
      ", Test Acc : 62.5 \n",
      "\n",
      "Iteration : 0 \n",
      " , Train Loss : 6.298201084136963 \n",
      ", Test Acc : 3.0303030014038086 \n",
      "\n",
      "Iteration : 50 \n",
      " , Train Loss : 0.18745236098766327 \n",
      ", Test Acc : 69.69696807861328 \n",
      "\n"
     ]
    },
    {
     "name": "stderr",
     "output_type": "stream",
     "text": [
      " 44%|████████████████████████████                                    | 14/32 [03:19<04:07, 13.77s/it]"
     ]
    },
    {
     "name": "stdout",
     "output_type": "stream",
     "text": [
      "Iteration : 99 \n",
      " , Train Loss : 0.11385001987218857 \n",
      ", Test Acc : 75.75757598876953 \n",
      "\n",
      "Iteration : 0 \n",
      " , Train Loss : 6.094166278839111 \n",
      ", Test Acc : 9.375 \n",
      "\n",
      "Iteration : 50 \n",
      " , Train Loss : 0.29447534680366516 \n",
      ", Test Acc : 59.375 \n",
      "\n"
     ]
    },
    {
     "name": "stderr",
     "output_type": "stream",
     "text": [
      " 47%|██████████████████████████████                                  | 15/32 [03:50<05:25, 19.13s/it]"
     ]
    },
    {
     "name": "stdout",
     "output_type": "stream",
     "text": [
      "Iteration : 99 \n",
      " , Train Loss : 0.09123311936855316 \n",
      ", Test Acc : 68.75 \n",
      "\n",
      "Iteration : 0 \n",
      " , Train Loss : 6.213800430297852 \n",
      ", Test Acc : 0.0 \n",
      "\n",
      "Iteration : 50 \n",
      " , Train Loss : 0.31023669242858887 \n",
      ", Test Acc : 85.36585235595703 \n",
      "\n"
     ]
    },
    {
     "name": "stderr",
     "output_type": "stream",
     "text": [
      " 50%|████████████████████████████████                                | 16/32 [04:00<04:22, 16.39s/it]"
     ]
    },
    {
     "name": "stdout",
     "output_type": "stream",
     "text": [
      "Iteration : 99 \n",
      " , Train Loss : 0.13614115118980408 \n",
      ", Test Acc : 85.36585235595703 \n",
      "\n",
      "Iteration : 0 \n",
      " , Train Loss : 6.590491771697998 \n",
      ", Test Acc : 6.25 \n",
      "\n",
      "Iteration : 50 \n",
      " , Train Loss : 0.29671910405158997 \n",
      ", Test Acc : 78.125 \n",
      "\n"
     ]
    },
    {
     "name": "stderr",
     "output_type": "stream",
     "text": [
      " 53%|██████████████████████████████████                              | 17/32 [04:39<05:48, 23.23s/it]"
     ]
    },
    {
     "name": "stdout",
     "output_type": "stream",
     "text": [
      "Iteration : 99 \n",
      " , Train Loss : 0.25083592534065247 \n",
      ", Test Acc : 84.375 \n",
      "\n",
      "Iteration : 0 \n",
      " , Train Loss : 8.519227027893066 \n",
      ", Test Acc : 12.5 \n",
      "\n",
      "Iteration : 50 \n",
      " , Train Loss : 0.012801522389054298 \n",
      ", Test Acc : 62.5 \n",
      "\n"
     ]
    },
    {
     "name": "stderr",
     "output_type": "stream",
     "text": [
      " 56%|████████████████████████████████████                            | 18/32 [04:59<05:08, 22.03s/it]"
     ]
    },
    {
     "name": "stdout",
     "output_type": "stream",
     "text": [
      "Iteration : 99 \n",
      " , Train Loss : 0.0015451579820364714 \n",
      ", Test Acc : 68.75 \n",
      "\n",
      "Iteration : 0 \n",
      " , Train Loss : 7.674419403076172 \n",
      ", Test Acc : 3.7037036418914795 \n",
      "\n",
      "Iteration : 50 \n",
      " , Train Loss : 0.09918440133333206 \n",
      ", Test Acc : 55.55555725097656 \n",
      "\n"
     ]
    },
    {
     "name": "stderr",
     "output_type": "stream",
     "text": [
      " 59%|██████████████████████████████████████                          | 19/32 [05:25<05:05, 23.47s/it]"
     ]
    },
    {
     "name": "stdout",
     "output_type": "stream",
     "text": [
      "Iteration : 99 \n",
      " , Train Loss : 0.08216364681720734 \n",
      ", Test Acc : 55.55555725097656 \n",
      "\n",
      "Iteration : 0 \n",
      " , Train Loss : 5.907440185546875 \n",
      ", Test Acc : 8.108107566833496 \n",
      "\n",
      "Iteration : 50 \n",
      " , Train Loss : 0.2748275399208069 \n",
      ", Test Acc : 78.37837982177734 \n",
      "\n"
     ]
    },
    {
     "name": "stderr",
     "output_type": "stream",
     "text": [
      " 62%|████████████████████████████████████████                        | 20/32 [06:34<07:22, 36.91s/it]"
     ]
    },
    {
     "name": "stdout",
     "output_type": "stream",
     "text": [
      "Iteration : 99 \n",
      " , Train Loss : 0.08560672402381897 \n",
      ", Test Acc : 67.56756591796875 \n",
      "\n",
      "Iteration : 0 \n",
      " , Train Loss : 7.155414581298828 \n",
      ", Test Acc : 46.66666793823242 \n",
      "\n",
      "Iteration : 50 \n",
      " , Train Loss : 2.5978810787200928 \n",
      ", Test Acc : 86.66666412353516 \n",
      "\n"
     ]
    },
    {
     "name": "stderr",
     "output_type": "stream",
     "text": [
      " 66%|██████████████████████████████████████████                      | 21/32 [07:00<06:11, 33.80s/it]"
     ]
    },
    {
     "name": "stdout",
     "output_type": "stream",
     "text": [
      "Iteration : 99 \n",
      " , Train Loss : 0.02516932785511017 \n",
      ", Test Acc : 93.33333587646484 \n",
      "\n",
      "Iteration : 0 \n",
      " , Train Loss : 8.825970649719238 \n",
      ", Test Acc : 16.666667938232422 \n",
      "\n",
      "Iteration : 50 \n",
      " , Train Loss : 0.013488389551639557 \n",
      ", Test Acc : 88.8888931274414 \n",
      "\n"
     ]
    },
    {
     "name": "stderr",
     "output_type": "stream",
     "text": [
      " 69%|████████████████████████████████████████████                    | 22/32 [07:15<04:40, 28.07s/it]"
     ]
    },
    {
     "name": "stdout",
     "output_type": "stream",
     "text": [
      "Iteration : 99 \n",
      " , Train Loss : 0.0031321528367698193 \n",
      ", Test Acc : 88.8888931274414 \n",
      "\n",
      "Iteration : 0 \n",
      " , Train Loss : 6.891552448272705 \n",
      ", Test Acc : 6.6666669845581055 \n",
      "\n",
      "Iteration : 50 \n",
      " , Train Loss : 0.05447373911738396 \n",
      ", Test Acc : 80.0 \n",
      "\n"
     ]
    },
    {
     "name": "stderr",
     "output_type": "stream",
     "text": [
      " 72%|██████████████████████████████████████████████                  | 23/32 [07:35<03:51, 25.71s/it]"
     ]
    },
    {
     "name": "stdout",
     "output_type": "stream",
     "text": [
      "Iteration : 99 \n",
      " , Train Loss : 0.006795903202146292 \n",
      ", Test Acc : 80.0 \n",
      "\n",
      "Iteration : 0 \n",
      " , Train Loss : 6.029994964599609 \n",
      ", Test Acc : 7.317072868347168 \n",
      "\n",
      "Iteration : 50 \n",
      " , Train Loss : 0.09322480857372284 \n",
      ", Test Acc : 78.04877471923828 \n",
      "\n"
     ]
    },
    {
     "name": "stderr",
     "output_type": "stream",
     "text": [
      " 75%|████████████████████████████████████████████████                | 24/32 [07:42<02:41, 20.17s/it]"
     ]
    },
    {
     "name": "stdout",
     "output_type": "stream",
     "text": [
      "Iteration : 99 \n",
      " , Train Loss : 0.04787515476346016 \n",
      ", Test Acc : 78.04877471923828 \n",
      "\n",
      "Iteration : 0 \n",
      " , Train Loss : 5.696196556091309 \n",
      ", Test Acc : 14.285715103149414 \n",
      "\n",
      "Iteration : 50 \n",
      " , Train Loss : 0.1754637509584427 \n",
      ", Test Acc : 82.85714721679688 \n",
      "\n"
     ]
    },
    {
     "name": "stderr",
     "output_type": "stream",
     "text": [
      " 78%|██████████████████████████████████████████████████              | 25/32 [07:53<02:00, 17.16s/it]"
     ]
    },
    {
     "name": "stdout",
     "output_type": "stream",
     "text": [
      "Iteration : 99 \n",
      " , Train Loss : 0.09427152574062347 \n",
      ", Test Acc : 80.0 \n",
      "\n",
      "Iteration : 0 \n",
      " , Train Loss : 6.438925266265869 \n",
      ", Test Acc : 9.756096839904785 \n",
      "\n",
      "Iteration : 50 \n",
      " , Train Loss : 0.11693454533815384 \n",
      ", Test Acc : 80.48780822753906 \n",
      "\n"
     ]
    },
    {
     "name": "stderr",
     "output_type": "stream",
     "text": [
      " 81%|████████████████████████████████████████████████████            | 26/32 [08:25<02:09, 21.66s/it]"
     ]
    },
    {
     "name": "stdout",
     "output_type": "stream",
     "text": [
      "Iteration : 99 \n",
      " , Train Loss : 0.031470321118831635 \n",
      ", Test Acc : 80.48780822753906 \n",
      "\n",
      "Iteration : 0 \n",
      " , Train Loss : 9.238253593444824 \n",
      ", Test Acc : 5.882352828979492 \n",
      "\n",
      "Iteration : 50 \n",
      " , Train Loss : 0.08145651966333389 \n",
      ", Test Acc : 58.82353210449219 \n",
      "\n"
     ]
    },
    {
     "name": "stderr",
     "output_type": "stream",
     "text": [
      " 84%|██████████████████████████████████████████████████████          | 27/32 [08:33<01:27, 17.51s/it]"
     ]
    },
    {
     "name": "stdout",
     "output_type": "stream",
     "text": [
      "Iteration : 99 \n",
      " , Train Loss : 0.05059973523020744 \n",
      ", Test Acc : 70.5882339477539 \n",
      "\n",
      "Iteration : 0 \n",
      " , Train Loss : 8.057792663574219 \n",
      ", Test Acc : 6.25 \n",
      "\n",
      "Iteration : 50 \n",
      " , Train Loss : 0.018014831468462944 \n",
      ", Test Acc : 87.5 \n",
      "\n"
     ]
    },
    {
     "name": "stderr",
     "output_type": "stream",
     "text": [
      " 88%|████████████████████████████████████████████████████████        | 28/32 [08:48<01:07, 16.89s/it]"
     ]
    },
    {
     "name": "stdout",
     "output_type": "stream",
     "text": [
      "Iteration : 99 \n",
      " , Train Loss : 0.028324808925390244 \n",
      ", Test Acc : 87.5 \n",
      "\n",
      "Iteration : 0 \n",
      " , Train Loss : 5.508042335510254 \n",
      ", Test Acc : 13.88888931274414 \n",
      "\n",
      "Iteration : 50 \n",
      " , Train Loss : 0.13821065425872803 \n",
      ", Test Acc : 75.0 \n",
      "\n"
     ]
    },
    {
     "name": "stderr",
     "output_type": "stream",
     "text": [
      " 91%|██████████████████████████████████████████████████████████      | 29/32 [09:05<00:51, 17.00s/it]"
     ]
    },
    {
     "name": "stdout",
     "output_type": "stream",
     "text": [
      "Iteration : 99 \n",
      " , Train Loss : 0.1260848492383957 \n",
      ", Test Acc : 75.0 \n",
      "\n",
      "Iteration : 0 \n",
      " , Train Loss : 7.068293571472168 \n",
      ", Test Acc : 6.25 \n",
      "\n"
     ]
    },
    {
     "name": "stderr",
     "output_type": "stream",
     "text": [
      " 91%|██████████████████████████████████████████████████████████      | 29/32 [09:09<00:56, 18.94s/it]\n"
     ]
    },
    {
     "ename": "KeyboardInterrupt",
     "evalue": "",
     "output_type": "error",
     "traceback": [
      "\u001b[0;31m---------------------------------------------------------------------------\u001b[0m",
      "\u001b[0;31mKeyboardInterrupt\u001b[0m                         Traceback (most recent call last)",
      "Input \u001b[0;32mIn [47]\u001b[0m, in \u001b[0;36m<module>\u001b[0;34m\u001b[0m\n\u001b[1;32m      1\u001b[0m \u001b[38;5;28;01mfor\u001b[39;00m i \u001b[38;5;129;01min\u001b[39;00m tqdm(\u001b[38;5;28mrange\u001b[39m(\u001b[38;5;28mlen\u001b[39m(config[\u001b[38;5;124m\"\u001b[39m\u001b[38;5;124mselected_clients\u001b[39m\u001b[38;5;124m\"\u001b[39m]))):\n\u001b[0;32m----> 2\u001b[0m     \u001b[43mclient_trainers\u001b[49m\u001b[43m[\u001b[49m\u001b[43mi\u001b[49m\u001b[43m]\u001b[49m\u001b[38;5;241;43m.\u001b[39;49m\u001b[43mtrain\u001b[49m\u001b[43m(\u001b[49m\u001b[43mclient_loaders\u001b[49m\u001b[43m[\u001b[49m\u001b[43mi\u001b[49m\u001b[43m]\u001b[49m\u001b[43m)\u001b[49m\n",
      "Input \u001b[0;32mIn [14]\u001b[0m, in \u001b[0;36mClientTrainer.train\u001b[0;34m(self, client_data)\u001b[0m\n\u001b[1;32m     54\u001b[0m \u001b[38;5;28mself\u001b[39m\u001b[38;5;241m.\u001b[39mmodel\u001b[38;5;241m.\u001b[39mtrain()\n\u001b[1;32m     55\u001b[0m \u001b[38;5;28;01mif\u001b[39;00m iteration \u001b[38;5;241m%\u001b[39m \u001b[38;5;28mself\u001b[39m\u001b[38;5;241m.\u001b[39mconfig[\u001b[38;5;124m\"\u001b[39m\u001b[38;5;124msave_freq\u001b[39m\u001b[38;5;124m\"\u001b[39m] \u001b[38;5;241m==\u001b[39m \u001b[38;5;241m0\u001b[39m \u001b[38;5;129;01mor\u001b[39;00m iteration \u001b[38;5;241m==\u001b[39m \u001b[38;5;28mself\u001b[39m\u001b[38;5;241m.\u001b[39mconfig[\u001b[38;5;124m\"\u001b[39m\u001b[38;5;124miterations\u001b[39m\u001b[38;5;124m\"\u001b[39m] \u001b[38;5;241m-\u001b[39m \u001b[38;5;241m1\u001b[39m:\n\u001b[0;32m---> 56\u001b[0m     \u001b[38;5;28;43mself\u001b[39;49m\u001b[38;5;241;43m.\u001b[39;49m\u001b[43msave_model_weights\u001b[49m\u001b[43m(\u001b[49m\u001b[43m)\u001b[49m\n\u001b[1;32m     57\u001b[0m     \u001b[38;5;28mself\u001b[39m\u001b[38;5;241m.\u001b[39msave_metrics(train_loss_list, test_acc_list, iteration)\n\u001b[1;32m     58\u001b[0m \u001b[38;5;28;01mif\u001b[39;00m iteration \u001b[38;5;241m%\u001b[39m \u001b[38;5;28mself\u001b[39m\u001b[38;5;241m.\u001b[39mconfig[\u001b[38;5;124m\"\u001b[39m\u001b[38;5;124mprint_freq\u001b[39m\u001b[38;5;124m\"\u001b[39m] \u001b[38;5;241m==\u001b[39m \u001b[38;5;241m0\u001b[39m \u001b[38;5;129;01mor\u001b[39;00m iteration \u001b[38;5;241m==\u001b[39m \u001b[38;5;28mself\u001b[39m\u001b[38;5;241m.\u001b[39mconfig[\u001b[38;5;124m\"\u001b[39m\u001b[38;5;124miterations\u001b[39m\u001b[38;5;124m\"\u001b[39m] \u001b[38;5;241m-\u001b[39m \u001b[38;5;241m1\u001b[39m:\n",
      "Input \u001b[0;32mIn [14]\u001b[0m, in \u001b[0;36mBaseTrainer.save_model_weights\u001b[0;34m(self)\u001b[0m\n\u001b[1;32m     24\u001b[0m \u001b[38;5;28;01mdef\u001b[39;00m \u001b[38;5;21msave_model_weights\u001b[39m(\u001b[38;5;28mself\u001b[39m):\n\u001b[1;32m     25\u001b[0m     model_path  \u001b[38;5;241m=\u001b[39m os\u001b[38;5;241m.\u001b[39mpath\u001b[38;5;241m.\u001b[39mjoin(\u001b[38;5;28mself\u001b[39m\u001b[38;5;241m.\u001b[39msave_dir, \u001b[38;5;124m\"\u001b[39m\u001b[38;5;124mmodel.pth\u001b[39m\u001b[38;5;124m\"\u001b[39m)\n\u001b[0;32m---> 26\u001b[0m     \u001b[43mtorch\u001b[49m\u001b[38;5;241;43m.\u001b[39;49m\u001b[43msave\u001b[49m\u001b[43m(\u001b[49m\u001b[38;5;28;43mself\u001b[39;49m\u001b[38;5;241;43m.\u001b[39;49m\u001b[43mmodel\u001b[49m\u001b[38;5;241;43m.\u001b[39;49m\u001b[43mstate_dict\u001b[49m\u001b[43m(\u001b[49m\u001b[43m)\u001b[49m\u001b[43m,\u001b[49m\u001b[43m \u001b[49m\u001b[43mmodel_path\u001b[49m\u001b[43m)\u001b[49m\n",
      "File \u001b[0;32m/opt/conda/lib/python3.9/site-packages/torch/serialization.py:379\u001b[0m, in \u001b[0;36msave\u001b[0;34m(obj, f, pickle_module, pickle_protocol, _use_new_zipfile_serialization)\u001b[0m\n\u001b[1;32m    377\u001b[0m \u001b[38;5;28;01mif\u001b[39;00m _use_new_zipfile_serialization:\n\u001b[1;32m    378\u001b[0m     \u001b[38;5;28;01mwith\u001b[39;00m _open_zipfile_writer(opened_file) \u001b[38;5;28;01mas\u001b[39;00m opened_zipfile:\n\u001b[0;32m--> 379\u001b[0m         \u001b[43m_save\u001b[49m\u001b[43m(\u001b[49m\u001b[43mobj\u001b[49m\u001b[43m,\u001b[49m\u001b[43m \u001b[49m\u001b[43mopened_zipfile\u001b[49m\u001b[43m,\u001b[49m\u001b[43m \u001b[49m\u001b[43mpickle_module\u001b[49m\u001b[43m,\u001b[49m\u001b[43m \u001b[49m\u001b[43mpickle_protocol\u001b[49m\u001b[43m)\u001b[49m\n\u001b[1;32m    380\u001b[0m         \u001b[38;5;28;01mreturn\u001b[39;00m\n\u001b[1;32m    381\u001b[0m _legacy_save(obj, opened_file, pickle_module, pickle_protocol)\n",
      "File \u001b[0;32m/opt/conda/lib/python3.9/site-packages/torch/serialization.py:496\u001b[0m, in \u001b[0;36m_save\u001b[0;34m(obj, zip_file, pickle_module, pickle_protocol)\u001b[0m\n\u001b[1;32m    492\u001b[0m \u001b[38;5;66;03m# given that we copy things around anyway, we might use storage.cpu()\u001b[39;00m\n\u001b[1;32m    493\u001b[0m \u001b[38;5;66;03m# this means to that to get tensors serialized, you need to implement\u001b[39;00m\n\u001b[1;32m    494\u001b[0m \u001b[38;5;66;03m# .cpu() on the underlying Storage\u001b[39;00m\n\u001b[1;32m    495\u001b[0m \u001b[38;5;28;01mif\u001b[39;00m storage\u001b[38;5;241m.\u001b[39mdevice\u001b[38;5;241m.\u001b[39mtype \u001b[38;5;241m!=\u001b[39m \u001b[38;5;124m'\u001b[39m\u001b[38;5;124mcpu\u001b[39m\u001b[38;5;124m'\u001b[39m:\n\u001b[0;32m--> 496\u001b[0m     storage \u001b[38;5;241m=\u001b[39m \u001b[43mstorage\u001b[49m\u001b[38;5;241;43m.\u001b[39;49m\u001b[43mcpu\u001b[49m\u001b[43m(\u001b[49m\u001b[43m)\u001b[49m\n\u001b[1;32m    497\u001b[0m \u001b[38;5;66;03m# Now that it is on the CPU we can directly copy it into the zip file\u001b[39;00m\n\u001b[1;32m    498\u001b[0m num_bytes \u001b[38;5;241m=\u001b[39m storage\u001b[38;5;241m.\u001b[39msize() \u001b[38;5;241m*\u001b[39m storage\u001b[38;5;241m.\u001b[39melement_size()\n",
      "File \u001b[0;32m/opt/conda/lib/python3.9/site-packages/torch/storage.py:72\u001b[0m, in \u001b[0;36m_StorageBase.cpu\u001b[0;34m(self)\u001b[0m\n\u001b[1;32m     70\u001b[0m \u001b[38;5;28;01mdef\u001b[39;00m \u001b[38;5;21mcpu\u001b[39m(\u001b[38;5;28mself\u001b[39m):\n\u001b[1;32m     71\u001b[0m     \u001b[38;5;124;03m\"\"\"Returns a CPU copy of this storage if it's not already on the CPU\"\"\"\u001b[39;00m\n\u001b[0;32m---> 72\u001b[0m     \u001b[38;5;28;01mreturn\u001b[39;00m \u001b[38;5;28;43mself\u001b[39;49m\u001b[38;5;241;43m.\u001b[39;49m\u001b[43mtype\u001b[49m\u001b[43m(\u001b[49m\u001b[38;5;28;43mgetattr\u001b[39;49m\u001b[43m(\u001b[49m\u001b[43mtorch\u001b[49m\u001b[43m,\u001b[49m\u001b[43m \u001b[49m\u001b[38;5;28;43mself\u001b[39;49m\u001b[38;5;241;43m.\u001b[39;49m\u001b[38;5;18;43m__class__\u001b[39;49m\u001b[38;5;241;43m.\u001b[39;49m\u001b[38;5;18;43m__name__\u001b[39;49m\u001b[43m)\u001b[49m\u001b[43m)\u001b[49m\n",
      "File \u001b[0;32m/opt/conda/lib/python3.9/site-packages/torch/cuda/__init__.py:618\u001b[0m, in \u001b[0;36m_CudaBase.type\u001b[0;34m(self, *args, **kwargs)\u001b[0m\n\u001b[1;32m    613\u001b[0m \u001b[38;5;28;01mdef\u001b[39;00m \u001b[38;5;21mtype\u001b[39m(\u001b[38;5;28mself\u001b[39m, \u001b[38;5;241m*\u001b[39margs, \u001b[38;5;241m*\u001b[39m\u001b[38;5;241m*\u001b[39mkwargs):\n\u001b[1;32m    614\u001b[0m     \u001b[38;5;66;03m# We could use a Protocol here to tell mypy that self has `get_device` method\u001b[39;00m\n\u001b[1;32m    615\u001b[0m     \u001b[38;5;66;03m# but it is only available in the typing module on Python >= 3.8\u001b[39;00m\n\u001b[1;32m    616\u001b[0m     \u001b[38;5;66;03m# or on typing_extensions module on Python >= 3.6\u001b[39;00m\n\u001b[1;32m    617\u001b[0m     \u001b[38;5;28;01mwith\u001b[39;00m device(\u001b[38;5;28mself\u001b[39m\u001b[38;5;241m.\u001b[39mget_device()):  \u001b[38;5;66;03m# type: ignore[attr-defined]\u001b[39;00m\n\u001b[0;32m--> 618\u001b[0m         \u001b[38;5;28;01mreturn\u001b[39;00m \u001b[38;5;28;43msuper\u001b[39;49m\u001b[43m(\u001b[49m\u001b[43m_CudaBase\u001b[49m\u001b[43m,\u001b[49m\u001b[43m \u001b[49m\u001b[38;5;28;43mself\u001b[39;49m\u001b[43m)\u001b[49m\u001b[38;5;241;43m.\u001b[39;49m\u001b[43mtype\u001b[49m\u001b[43m(\u001b[49m\u001b[38;5;241;43m*\u001b[39;49m\u001b[43margs\u001b[49m\u001b[43m,\u001b[49m\u001b[43m \u001b[49m\u001b[38;5;241;43m*\u001b[39;49m\u001b[38;5;241;43m*\u001b[39;49m\u001b[43mkwargs\u001b[49m\u001b[43m)\u001b[49m\n",
      "File \u001b[0;32m/opt/conda/lib/python3.9/site-packages/torch/_utils.py:45\u001b[0m, in \u001b[0;36m_type\u001b[0;34m(self, dtype, non_blocking, **kwargs)\u001b[0m\n\u001b[1;32m     43\u001b[0m \u001b[38;5;28;01mif\u001b[39;00m dtype\u001b[38;5;241m.\u001b[39mis_sparse:\n\u001b[1;32m     44\u001b[0m     \u001b[38;5;28;01mraise\u001b[39;00m \u001b[38;5;167;01mRuntimeError\u001b[39;00m(\u001b[38;5;124m\"\u001b[39m\u001b[38;5;124mCannot cast dense tensor to sparse tensor\u001b[39m\u001b[38;5;124m\"\u001b[39m)\n\u001b[0;32m---> 45\u001b[0m \u001b[38;5;28;01mreturn\u001b[39;00m \u001b[43mdtype\u001b[49m\u001b[43m(\u001b[49m\u001b[38;5;28;43mself\u001b[39;49m\u001b[38;5;241;43m.\u001b[39;49m\u001b[43msize\u001b[49m\u001b[43m(\u001b[49m\u001b[43m)\u001b[49m\u001b[43m)\u001b[49m\u001b[38;5;241;43m.\u001b[39;49m\u001b[43mcopy_\u001b[49m\u001b[43m(\u001b[49m\u001b[38;5;28;43mself\u001b[39;49m\u001b[43m,\u001b[49m\u001b[43m \u001b[49m\u001b[43mnon_blocking\u001b[49m\u001b[43m)\u001b[49m\n",
      "\u001b[0;31mKeyboardInterrupt\u001b[0m: "
     ]
    }
   ],
   "source": [
    "for i in tqdm(range(len(config[\"selected_clients\"]))):\n",
    "    client_trainers[i].train(client_loaders[i])\n"
   ]
  },
  {
   "cell_type": "code",
   "execution_count": 21,
   "id": "a5720b00-7adf-43db-bc72-3801f9289209",
   "metadata": {},
   "outputs": [],
   "source": [
    "## Load model weights\n",
    "for trainer in client_trainers:\n",
    "    trainer.load_model_weights()\n"
   ]
  },
  {
   "cell_type": "code",
   "execution_count": 22,
   "id": "2c7578d8-e366-4188-9462-a164bf682c2d",
   "metadata": {},
   "outputs": [
    {
     "name": "stdout",
     "output_type": "stream",
     "text": [
      "Local Accuracy : 67.0177001953125\n"
     ]
    }
   ],
   "source": [
    "local_acc = 0\n",
    "for i in range(len(client_loaders)):\n",
    "    local_acc += calc_acc(client_trainers[i].model, config[\"device\"], client_loaders[i], train=False)\n",
    "local_acc = local_acc/len(client_loaders)\n",
    "print(f\"Local Accuracy : {local_acc}\")"
   ]
  },
  {
   "cell_type": "code",
   "execution_count": 2,
   "id": "ec56b3b9-f395-4672-b262-c2336bdfef81",
   "metadata": {},
   "outputs": [
    {
     "ename": "NameError",
     "evalue": "name 'client_trainers' is not defined",
     "output_type": "error",
     "traceback": [
      "\u001b[0;31m---------------------------------------------------------------------------\u001b[0m",
      "\u001b[0;31mNameError\u001b[0m                                 Traceback (most recent call last)",
      "Input \u001b[0;32mIn [2]\u001b[0m, in \u001b[0;36m<module>\u001b[0;34m\u001b[0m\n\u001b[0;32m----> 1\u001b[0m \u001b[43mclient_trainers\u001b[49m\n",
      "\u001b[0;31mNameError\u001b[0m: name 'client_trainers' is not defined"
     ]
    }
   ],
   "source": [
    "prin"
   ]
  },
  {
   "cell_type": "code",
   "execution_count": 18,
   "id": "942f7386-d355-4bed-b967-41d664b14dce",
   "metadata": {},
   "outputs": [],
   "source": [
    "a = 0\n",
    "for i, trainer in enumerate(client_trainers):\n",
    "    a+= calc_acc(trainer.model, config[\"device\"], client_loaders[i], train=False)"
   ]
  },
  {
   "cell_type": "code",
   "execution_count": 19,
   "id": "ad9d0abc-f513-40d6-88eb-9c88f3f15332",
   "metadata": {},
   "outputs": [
    {
     "name": "stdout",
     "output_type": "stream",
     "text": [
      "tensor(66.1461)\n"
     ]
    }
   ],
   "source": [
    "print(a/len(client_trainers))"
   ]
  },
  {
   "cell_type": "code",
   "execution_count": 59,
   "id": "61231284-c353-4c67-a040-49c082476ce2",
   "metadata": {},
   "outputs": [],
   "source": [
    "# config[\"iterations\"] = 100\n",
    "# config[\"optimizer_params\"] = {\"lr\":0.001}\n",
    "# config[\"save_freq\"] = 2\n",
    "# config[\"print_freq\"]  = 40\n",
    "# config[\"model\"] = \"cnn\"\n",
    "# config[\"optimizer\"] = \"adam\"\n",
    "# config[\"loss_func\"] = \"cross_entropy\"\n",
    "# #config[\"model_params\"] = {\"num_channels\": 1 , \"num_classes\"  : 62}\n",
    "# config[\"model_params\"] = {}\n",
    "# config[\"device\"] = torch.device(\"cuda:0\")\n",
    "\n",
    "# client_id = config[\"selected_clients\"][0]\n",
    "# client_trainers[0] = ClientTrainer(config,os.path.join(config[\"results_dir\"], \"init\", client_id), client_id)\n",
    "# client_trainers[0].train(client_loaders[0])\n",
    "import networkx as nx\n",
    "\n"
   ]
  },
  {
   "cell_type": "code",
   "execution_count": null,
   "id": "8b3f3c8c-b68e-43b4-86b2-f63dbf98fb71",
   "metadata": {},
   "outputs": [],
   "source": [
    "import networkx as nx\n",
    "G = nx.Graph()\n",
    "G.add_nodes_from(range(config[\"num_clients\"]))\n",
    "import itertools\n",
    "def model_weights_diff(w_1, w_2):\n",
    "    norm_sq = 0\n",
    "    assert w_1.keys() == w_2.keys(), \"Model weights have different keys\"\n",
    "    for key in w_1.keys():\n",
    "        norm_sq  += (w_1[key].cpu() - w_2[key].cpu()).norm()**2\n",
    "    return np.sqrt(norm_sq)\n",
    "wt = client_trainers[0].model.state_dict()\n"
   ]
  },
  {
   "cell_type": "code",
   "execution_count": 50,
   "id": "7d381a82-e77b-484e-8012-a8d4707430eb",
   "metadata": {},
   "outputs": [],
   "source": [
    "all_pairs = list(itertools.combinations(range(config[\"num_clients\"]),2))\n",
    "arr = []\n",
    "for pair in all_pairs:\n",
    "    w_1  = client_trainers[pair[0]].model.state_dict()\n",
    "    w_2 = client_trainers[pair[1]].model.state_dict()\n",
    "    norm_diff = model_weights_diff(w_1, w_2)\n",
    "    arr.append(norm_diff)\n",
    "#thresh = torch.mean(torch.tensor(arr))\n"
   ]
  },
  {
   "cell_type": "code",
   "execution_count": 51,
   "id": "15682b83-25ae-4cf7-bdb1-19e47ae5954c",
   "metadata": {},
   "outputs": [],
   "source": [
    "thresh = arr[torch.tensor(arr).argsort()[int(0.3*len(arr))-1]]\n"
   ]
  },
  {
   "cell_type": "code",
   "execution_count": null,
   "id": "7bda696c-c5c2-49bd-b885-2437e72981ee",
   "metadata": {},
   "outputs": [],
   "source": []
  },
  {
   "cell_type": "code",
   "execution_count": null,
   "id": "cbfd6f7e-55f7-4806-8db8-bb0b3e906e43",
   "metadata": {},
   "outputs": [],
   "source": []
  },
  {
   "cell_type": "code",
   "execution_count": 52,
   "id": "275cf64b-9bb9-420a-bc82-9405d56f2063",
   "metadata": {},
   "outputs": [],
   "source": [
    "clustering = []\n",
    "def correlation_clustering(G):\n",
    "    global clustering\n",
    "    if len(G.nodes) == 0:\n",
    "        return\n",
    "    else:\n",
    "        cluster = []\n",
    "        new_cluster_pivot = random.sample(G.nodes,1)[0]\n",
    "        cluster.append(new_cluster_pivot)\n",
    "        neighbors = G[new_cluster_pivot].copy()\n",
    "        for node in neighbors:\n",
    "            cluster.append(node)\n",
    "            G.remove_node(node)\n",
    "        G.remove_node(new_cluster_pivot)\n",
    "        clustering.append(cluster)\n",
    "        correlation_clustering(G)\n"
   ]
  },
  {
   "cell_type": "code",
   "execution_count": 53,
   "id": "f7166e1d-da1b-4daf-ad35-25a154dc55d1",
   "metadata": {},
   "outputs": [
    {
     "name": "stdout",
     "output_type": "stream",
     "text": [
      "5\n"
     ]
    },
    {
     "name": "stderr",
     "output_type": "stream",
     "text": [
      "/tmp/ipykernel_9636/3212757151.py:8: DeprecationWarning: Sampling from a set deprecated\n",
      "since Python 3.9 and will be removed in a subsequent version.\n",
      "  new_cluster_pivot = random.sample(G.nodes,1)[0]\n"
     ]
    }
   ],
   "source": [
    "while True:\n",
    "    G = nx.Graph()\n",
    "    G.add_nodes_from(range(config[\"num_clients\"]))\n",
    "    for i in range(len(all_pairs)):\n",
    "        if arr[i] < thresh:\n",
    "            G.add_edge(all_pairs[i][0], all_pairs[i][1])\n",
    "    G = G.to_undirected()\n",
    "    clustering = []\n",
    "    correlation_clustering(G)\n",
    "    clusters = [cluster  for cluster in clustering if len(cluster) > 1 ]\n",
    "    print(len(clusters))\n",
    "    if len(clusters) >= 2:\n",
    "        break\n",
    "    \n",
    "cluster_map = {i: clusters[i] for i in range(len(clusters))}\n",
    "beta = 0.2"
   ]
  },
  {
   "cell_type": "code",
   "execution_count": 54,
   "id": "af49998a-f12c-4396-8b47-7654d9c336a6",
   "metadata": {},
   "outputs": [],
   "source": [
    "os.makedirs(os.path.join(config[\"results_dir\"],\"refine_0\"),exist_ok=True)\n",
    "with open(os.path.join(config[\"results_dir\"],\"refine_0\", \"cluster_maps.pkl\"), 'wb') as handle:\n",
    "    pickle.dump(cluster_map, handle, protocol=pickle.HIGHEST_PROTOCOL)"
   ]
  },
  {
   "cell_type": "code",
   "execution_count": 56,
   "id": "ea59ac26-d489-45ea-a507-63e7bb218d19",
   "metadata": {},
   "outputs": [
    {
     "data": {
      "text/plain": [
       "{0: [8, 2, 3, 21, 22, 27, 29, 30, 31],\n",
       " 1: [0, 15, 24, 25],\n",
       " 2: [6, 10, 17],\n",
       " 3: [26, 5],\n",
       " 4: [16, 13]}"
      ]
     },
     "execution_count": 56,
     "metadata": {},
     "output_type": "execute_result"
    }
   ],
   "source": [
    "cluster_map"
   ]
  },
  {
   "cell_type": "code",
   "execution_count": null,
   "id": "30be3c3a-9206-4927-a6f7-8905cea9c4be",
   "metadata": {},
   "outputs": [],
   "source": []
  },
  {
   "cell_type": "code",
   "execution_count": 31,
   "id": "787ff6cb-755c-43a6-9382-4aa001ba97b2",
   "metadata": {},
   "outputs": [],
   "source": [
    "class ClusterTrainer(BaseTrainer):\n",
    "    def __init__(self,  config, save_dir,cluster_id):\n",
    "        super(ClusterTrainer, self).__init__(config, save_dir)\n",
    "        self.cluster_id = cluster_id\n",
    "    \n",
    "    def train(self, client_data_list):\n",
    "        num_clients = len(client_data_list)\n",
    "\n",
    "        train_loss_list = []\n",
    "        test_acc_list = []\n",
    "        self.model.to(self.device)\n",
    "        self.model.train()\n",
    "        \n",
    "        \n",
    "        optimizer = OPTIMIZER_LIST[self.config[\"optimizer\"]](self.model.parameters(), **self.config[\"optimizer_params\"])\n",
    "        #eff_num_workers = int(num_clients/(1 - 2*beta))\n",
    "        # if eff_num_workers > 0:\n",
    "        #     eff_batch_size = self.config[\"train_batch\"]/eff_num_workers\n",
    "        #     for i in range(num_clients):\n",
    "        #         client_data_list[i].trainloader.batch_size = eff_batch_size\n",
    "                \n",
    "        for iteration in tqdm(range(self.config[\"iterations\"])):\n",
    "            trmean_buffer = {}\n",
    "            for idx, param in self.model.named_parameters():\n",
    "                if param.requires_grad:\n",
    "                    trmean_buffer[idx] = []\n",
    "            train_loss = 0\n",
    "            #optimizer.zero_grad(set_to_none=True)\n",
    "\n",
    "            for client in client_data_list:\n",
    "                #if eff_num_workers>0:\n",
    "                optimizer.zero_grad(set_to_none=True)\n",
    "                (X,Y) = client.sample_batch()\n",
    "                X = X.to(config[\"device\"])\n",
    "                Y = Y.to(config[\"device\"])\n",
    "                loss_func = nn.CrossEntropyLoss()\n",
    "                out = self.model(X)\n",
    "                loss = loss_func(out,Y)\n",
    "                loss.backward()\n",
    "                train_loss += loss.detach().cpu().numpy().item()\n",
    "                \n",
    "                with torch.no_grad():\n",
    "                    for idx, param in self.model.named_parameters():\n",
    "                        if param.requires_grad:\n",
    "                            trmean_buffer[idx].append(param.grad.clone())\n",
    "            train_loss = train_loss/num_clients\n",
    "            optimizer.zero_grad()\n",
    "            \n",
    "            start_idx = int(beta*num_clients)\n",
    "            end_idx = int((1-beta)*num_clients)\n",
    "            if end_idx <= start_idx + 1:\n",
    "                start_idx = 0\n",
    "                end_idx = num_clients\n",
    "\n",
    "\n",
    "            for idx, param in self.model.named_parameters():\n",
    "                if param.requires_grad:\n",
    "                    sorted, _  = torch.sort(torch.stack(trmean_buffer[idx], dim=0), dim=0)\n",
    "                    new_grad = sorted[start_idx:end_idx,...].mean(dim=0)\n",
    "                    param.grad = new_grad\n",
    "                    trmean_buffer[idx] = []\n",
    "            optimizer.step()\n",
    "            \n",
    "            train_loss_list.append(train_loss)\n",
    "            test_acc = 0\n",
    "            for client_data in client_data_list:\n",
    "                test_acc += calc_acc(self.model, self.device, client_data, train=False)\n",
    "            test_acc = test_acc/num_clients\n",
    "            test_acc_list.append(test_acc)\n",
    "            self.model.train()\n",
    "            if iteration % self.config[\"save_freq\"] == 0 or iteration == self.config[\"iterations\"] - 1:\n",
    "                self.save_model_weights()\n",
    "                self.save_metrics(train_loss_list, test_acc_list, iteration)\n",
    "            if iteration % self.config[\"print_freq\"] == 0 or iteration == self.config[\"iterations\"] - 1:\n",
    "                print(\"Iteration : {} \\n , Train Loss : {} \\n, Test Acc : {} \\n\".format(iteration,  train_loss, test_acc))\n",
    "                \n",
    "        self.model.eval()\n",
    "        self.model.cpu()\n",
    "\n",
    "\n",
    "    def test(self, client_data_list):\n",
    "        self.load_model_weights()\n",
    "        self.model.eval()\n",
    "        self.model.to(self.device)\n",
    "        test_acc = 0\n",
    "        for client_data in client_data_list:\n",
    "            test_acc += calc_acc(self.model, self.device, client_data, train=False)\n",
    "        test_acc = test_acc/len(client_data_list)\n",
    "        self.model.cpu()\n",
    "        return test_acc\n",
    "\n",
    "\n",
    "def avg_acc(model_wts, client_data_list):\n",
    "    orig = model_wts[0]\n",
    "    if len(model_wts) > 0:\n",
    "        for wt in model_wts[1:]:\n",
    "            for key in orig.keys():\n",
    "                if orig[key].dtype == torch.float32:\n",
    "                    orig[key] += wt[key] \n",
    "        for key in orig.keys():\n",
    "            if orig[key].dtype == torch.float32:\n",
    "                orig[key] = orig[key]/len(model_wts)\n",
    "    model = SimpleCNN()\n",
    "    model.load_state_dict(orig)\n",
    "    model.to(memory_format = torch.channels_last).cuda()\n",
    "    test_acc = 0\n",
    "    for client_data in client_data_list:\n",
    "        test_acc += calc_acc(model, torch.device(\"cuda:0\"), client_data, train=False)\n",
    "    test_acc = test_acc/len(client_data_list)\n",
    "    return test_acc, orig\n"
   ]
  },
  {
   "cell_type": "code",
   "execution_count": 55,
   "id": "4a7a5282-1489-4ae8-a3b2-9d29c0821c05",
   "metadata": {},
   "outputs": [],
   "source": [
    "config[\"refine_steps\"] = 2"
   ]
  },
  {
   "cell_type": "code",
   "execution_count": null,
   "id": "b9a424c4-10d5-4fb5-ba14-d6e62d56348b",
   "metadata": {},
   "outputs": [],
   "source": [
    "import re\n",
    "\n",
    "refine_step = 0\n",
    "refine_path = os.path.join(config[\"results_dir\"], f\"refine_{refine_step}\")\n",
    "num_clusters = [x for x in os.listdir(refine_path) if re.match(\"cluster_\\d\", x) is not None]\n",
    "\n",
    "with open(os.path.join(config[\"results_dir\"], \"refine_1\", \"cluster_maps.pkl\"), \"rb\") as handle:\n",
    "    cluster_map = pickle.load(handle)"
   ]
  },
  {
   "cell_type": "code",
   "execution_count": null,
   "id": "f12d0409-2d8b-4044-8110-637e57706477",
   "metadata": {},
   "outputs": [],
   "source": [
    "import re\n",
    "if re.match(\"cluster_\\d\", \"cluster_1\") is not None:\n",
    "    print(\"here\")\n",
    "os.listdir(os.path.join(refine_path, \"cluster_0\", \"model.pth\"))"
   ]
  },
  {
   "cell_type": "code",
   "execution_count": null,
   "id": "47f105df-3d55-4d56-a745-800e7037d16e",
   "metadata": {},
   "outputs": [],
   "source": []
  },
  {
   "cell_type": "code",
   "execution_count": 60,
   "id": "95918b7d-2f83-4bbe-ad8a-8f4850582996",
   "metadata": {},
   "outputs": [],
   "source": [
    "with open(os.path.join(config[\"results_dir\"],\"refine_1\", \"cluster_maps.pkl\"), 'rb') as handle:\n",
    "    cluster_map = pickle.load(handle)\n"
   ]
  },
  {
   "cell_type": "code",
   "execution_count": 64,
   "id": "2b69b7b7-fea9-4a3e-bbaa-8fc2aa8165bf",
   "metadata": {},
   "outputs": [
    {
     "data": {
      "text/plain": [
       "72.13379859924316"
      ]
     },
     "execution_count": 64,
     "metadata": {},
     "output_type": "execute_result"
    }
   ],
   "source": [
    "(len(cluster_map[0]) *80.82542419433594 + len(cluster_map[1])*68.18305969238281)/(len(cluster_map[0]) + len(cluster_map[1]))"
   ]
  },
  {
   "cell_type": "code",
   "execution_count": 57,
   "id": "28f1895f-b3b4-4d98-8623-f1dc102f61d1",
   "metadata": {},
   "outputs": [
    {
     "name": "stderr",
     "output_type": "stream",
     "text": [
      "  0%|                                                                          | 0/2 [00:00<?, ?it/s]\n",
      "  0%|                                                                          | 0/5 [00:00<?, ?it/s]\u001b[A\n",
      "\n",
      "  0%|                                                                        | 0/100 [00:00<?, ?it/s]\u001b[A\u001b[A\n",
      "\n",
      "  1%|▋                                                               | 1/100 [00:00<01:26,  1.14it/s]\u001b[A\u001b[A\n",
      "\n",
      "  2%|█▎                                                              | 2/100 [00:00<00:41,  2.33it/s]\u001b[A\u001b[A"
     ]
    },
    {
     "name": "stdout",
     "output_type": "stream",
     "text": [
      "Iteration : 0 \n",
      " , Train Loss : 7.13593504163954 \n",
      ", Test Acc : 14.167271614074707 \n",
      "\n"
     ]
    },
    {
     "name": "stderr",
     "output_type": "stream",
     "text": [
      "\n",
      "\n",
      "  3%|█▉                                                              | 3/100 [00:02<01:18,  1.23it/s]\u001b[A\u001b[A\n",
      "\n",
      "  5%|███▏                                                            | 5/100 [00:02<00:41,  2.29it/s]\u001b[A\u001b[A\n",
      "\n",
      "  6%|███▊                                                            | 6/100 [00:02<00:32,  2.90it/s]\u001b[A\u001b[A\n",
      "\n",
      "  7%|████▍                                                           | 7/100 [00:02<00:27,  3.40it/s]\u001b[A\u001b[A\n",
      "\n",
      "  8%|█████                                                           | 8/100 [00:02<00:21,  4.22it/s]\u001b[A\u001b[A\n",
      "\n",
      "  9%|█████▊                                                          | 9/100 [00:03<00:20,  4.40it/s]\u001b[A\u001b[A\n",
      "\n",
      " 11%|██████▉                                                        | 11/100 [00:03<00:16,  5.43it/s]\u001b[A\u001b[A\n",
      "\n",
      " 13%|████████▏                                                      | 13/100 [00:03<00:15,  5.77it/s]\u001b[A\u001b[A\n",
      "\n",
      " 14%|████████▊                                                      | 14/100 [00:03<00:13,  6.33it/s]\u001b[A\u001b[A\n",
      "\n",
      " 15%|█████████▍                                                     | 15/100 [00:04<00:14,  5.92it/s]\u001b[A\u001b[A\n",
      "\n",
      " 16%|██████████                                                     | 16/100 [00:04<00:12,  6.58it/s]\u001b[A\u001b[A\n",
      "\n",
      " 17%|██████████▋                                                    | 17/100 [00:04<00:13,  6.22it/s]\u001b[A\u001b[A\n",
      "\n",
      " 19%|███████████▉                                                   | 19/100 [00:04<00:11,  6.79it/s]\u001b[A\u001b[A\n",
      "\n",
      " 21%|█████████████▏                                                 | 21/100 [00:04<00:11,  6.94it/s]\u001b[A\u001b[A\n",
      "\n",
      " 23%|██████████████▍                                                | 23/100 [00:05<00:11,  6.81it/s]\u001b[A\u001b[A\n",
      "\n",
      " 25%|███████████████▊                                               | 25/100 [00:05<00:10,  6.99it/s]\u001b[A\u001b[A\n",
      "\n",
      " 27%|█████████████████                                              | 27/100 [00:05<00:10,  6.79it/s]\u001b[A\u001b[A\n",
      "\n",
      " 29%|██████████████████▎                                            | 29/100 [00:06<00:10,  6.95it/s]\u001b[A\u001b[A\n",
      "\n",
      " 31%|███████████████████▌                                           | 31/100 [00:06<00:09,  7.15it/s]\u001b[A\u001b[A\n",
      "\n",
      " 33%|████████████████████▊                                          | 33/100 [00:06<00:09,  6.82it/s]\u001b[A\u001b[A\n",
      "\n",
      " 35%|██████████████████████                                         | 35/100 [00:06<00:09,  7.05it/s]\u001b[A\u001b[A\n",
      "\n",
      " 36%|██████████████████████▋                                        | 36/100 [00:06<00:08,  7.39it/s]\u001b[A\u001b[A\n",
      "\n",
      " 37%|███████████████████████▎                                       | 37/100 [00:07<00:08,  7.06it/s]\u001b[A\u001b[A\n",
      "\n",
      " 38%|███████████████████████▉                                       | 38/100 [00:07<00:08,  7.56it/s]\u001b[A\u001b[A\n",
      "\n",
      " 39%|████████████████████████▌                                      | 39/100 [00:07<00:09,  6.59it/s]\u001b[A\u001b[A\n",
      "\n",
      " 41%|█████████████████████████▊                                     | 41/100 [00:07<00:08,  7.04it/s]\u001b[A\u001b[A\n",
      "\n",
      " 43%|███████████████████████████                                    | 43/100 [00:08<00:08,  6.98it/s]\u001b[A\u001b[A\n",
      "\n",
      " 45%|████████████████████████████▎                                  | 45/100 [00:08<00:07,  7.12it/s]\u001b[A\u001b[A\n",
      "\n",
      " 47%|█████████████████████████████▌                                 | 47/100 [00:08<00:07,  7.23it/s]\u001b[A\u001b[A\n",
      "\n",
      " 49%|██████████████████████████████▊                                | 49/100 [00:08<00:07,  6.90it/s]\u001b[A\u001b[A\n",
      "\n",
      " 50%|███████████████████████████████▌                               | 50/100 [00:08<00:06,  7.29it/s]\u001b[A\u001b[A\n",
      "\n",
      " 51%|████████████████████████████████▏                              | 51/100 [00:09<00:07,  6.88it/s]\u001b[A\u001b[A"
     ]
    },
    {
     "name": "stdout",
     "output_type": "stream",
     "text": [
      "Iteration : 50 \n",
      " , Train Loss : 0.5275466458665 \n",
      ", Test Acc : 65.75405883789062 \n",
      "\n"
     ]
    },
    {
     "name": "stderr",
     "output_type": "stream",
     "text": [
      "\n",
      "\n",
      " 53%|█████████████████████████████████▍                             | 53/100 [00:09<00:06,  7.04it/s]\u001b[A\u001b[A\n",
      "\n",
      " 55%|██████████████████████████████████▋                            | 55/100 [00:09<00:06,  7.15it/s]\u001b[A\u001b[A\n",
      "\n",
      " 57%|███████████████████████████████████▉                           | 57/100 [00:09<00:05,  7.22it/s]\u001b[A\u001b[A\n",
      "\n",
      " 59%|█████████████████████████████████████▏                         | 59/100 [00:10<00:06,  5.94it/s]\u001b[A\u001b[A\n",
      "\n",
      " 61%|██████████████████████████████████████▍                        | 61/100 [00:11<00:08,  4.65it/s]\u001b[A\u001b[A\n",
      "\n",
      " 63%|███████████████████████████████████████▋                       | 63/100 [00:11<00:08,  4.40it/s]\u001b[A\u001b[A\n",
      "\n",
      " 65%|████████████████████████████████████████▉                      | 65/100 [00:12<00:08,  4.36it/s]\u001b[A\u001b[A\n",
      "\n",
      " 66%|█████████████████████████████████████████▌                     | 66/100 [00:12<00:07,  4.84it/s]\u001b[A\u001b[A\n",
      "\n",
      " 67%|██████████████████████████████████████████▏                    | 67/100 [00:13<00:14,  2.26it/s]\u001b[A\u001b[A\n",
      "\n",
      " 68%|██████████████████████████████████████████▊                    | 68/100 [00:13<00:11,  2.73it/s]\u001b[A\u001b[A\n",
      "\n",
      " 69%|███████████████████████████████████████████▍                   | 69/100 [00:18<00:48,  1.57s/it]\u001b[A\u001b[A\n",
      "\n",
      " 70%|████████████████████████████████████████████                   | 70/100 [00:19<00:36,  1.20s/it]\u001b[A\u001b[A\n",
      "\n",
      " 71%|████████████████████████████████████████████▋                  | 71/100 [00:24<01:09,  2.40s/it]\u001b[A\u001b[A\n",
      "\n",
      " 72%|█████████████████████████████████████████████▎                 | 72/100 [00:25<00:53,  1.89s/it]\u001b[A\u001b[A\n",
      "\n",
      " 73%|█████████████████████████████████████████████▉                 | 73/100 [00:25<00:38,  1.43s/it]\u001b[A\u001b[A\n",
      "\n",
      " 74%|██████████████████████████████████████████████▌                | 74/100 [00:25<00:27,  1.06s/it]\u001b[A\u001b[A\n",
      "\n",
      " 75%|███████████████████████████████████████████████▎               | 75/100 [00:25<00:21,  1.19it/s]\u001b[A\u001b[A\n",
      "\n",
      " 76%|███████████████████████████████████████████████▉               | 76/100 [00:26<00:15,  1.56it/s]\u001b[A\u001b[A\n",
      "\n",
      " 77%|████████████████████████████████████████████████▌              | 77/100 [00:26<00:12,  1.86it/s]\u001b[A\u001b[A\n",
      "\n",
      " 78%|█████████████████████████████████████████████████▏             | 78/100 [00:26<00:09,  2.41it/s]\u001b[A\u001b[A\n",
      "\n",
      " 79%|█████████████████████████████████████████████████▊             | 79/100 [00:26<00:08,  2.52it/s]\u001b[A\u001b[A\n",
      "\n",
      " 80%|██████████████████████████████████████████████████▍            | 80/100 [00:27<00:06,  3.03it/s]\u001b[A\u001b[A\n",
      "\n",
      " 81%|███████████████████████████████████████████████████            | 81/100 [00:27<00:05,  3.27it/s]\u001b[A\u001b[A\n",
      "\n",
      " 82%|███████████████████████████████████████████████████▋           | 82/100 [00:27<00:04,  4.05it/s]\u001b[A\u001b[A\n",
      "\n",
      " 83%|████████████████████████████████████████████████████▎          | 83/100 [00:27<00:04,  3.94it/s]\u001b[A\u001b[A\n",
      "\n",
      " 84%|████████████████████████████████████████████████████▉          | 84/100 [00:27<00:03,  4.39it/s]\u001b[A\u001b[A\n",
      "\n",
      " 85%|█████████████████████████████████████████████████████▌         | 85/100 [00:28<00:05,  2.64it/s]\u001b[A\u001b[A\n",
      "\n",
      " 87%|██████████████████████████████████████████████████████▊        | 87/100 [00:29<00:04,  2.75it/s]\u001b[A\u001b[A\n",
      "\n",
      " 89%|████████████████████████████████████████████████████████       | 89/100 [00:29<00:03,  3.45it/s]\u001b[A\u001b[A\n",
      "\n",
      " 91%|█████████████████████████████████████████████████████████▎     | 91/100 [00:29<00:02,  4.38it/s]\u001b[A\u001b[A\n",
      "\n",
      " 93%|██████████████████████████████████████████████████████████▌    | 93/100 [00:30<00:01,  4.54it/s]\u001b[A\u001b[A\n",
      "\n",
      " 95%|███████████████████████████████████████████████████████████▊   | 95/100 [00:30<00:00,  5.10it/s]\u001b[A\u001b[A\n",
      "\n",
      " 97%|█████████████████████████████████████████████████████████████  | 97/100 [00:30<00:00,  5.79it/s]\u001b[A\u001b[A\n",
      "\n",
      " 99%|██████████████████████████████████████████████████████████████▎| 99/100 [00:31<00:00,  5.70it/s]\u001b[A\u001b[A\n",
      "\n",
      "100%|██████████████████████████████████████████████████████████████| 100/100 [00:31<00:00,  3.18it/s]\u001b[A\u001b[A\n",
      "\n",
      " 20%|█████████████▏                                                    | 1/5 [00:31<02:07, 31.87s/it]\u001b[A"
     ]
    },
    {
     "name": "stdout",
     "output_type": "stream",
     "text": [
      "Iteration : 99 \n",
      " , Train Loss : 1.3903063767486148 \n",
      ", Test Acc : 60.66206741333008 \n",
      "\n"
     ]
    },
    {
     "name": "stderr",
     "output_type": "stream",
     "text": [
      "\n",
      "\n",
      "  0%|                                                                        | 0/100 [00:00<?, ?it/s]\u001b[A\u001b[A\n",
      "\n",
      "  1%|▋                                                               | 1/100 [00:00<00:18,  5.43it/s]\u001b[A\u001b[A"
     ]
    },
    {
     "name": "stdout",
     "output_type": "stream",
     "text": [
      "Iteration : 0 \n",
      " , Train Loss : 6.390604615211487 \n",
      ", Test Acc : 7.275132179260254 \n",
      "\n"
     ]
    },
    {
     "name": "stderr",
     "output_type": "stream",
     "text": [
      "\n",
      "\n",
      "  3%|█▉                                                              | 3/100 [00:00<00:12,  8.05it/s]\u001b[A\u001b[A\n",
      "\n",
      "  5%|███▏                                                            | 5/100 [00:00<00:15,  6.28it/s]\u001b[A\u001b[A\n",
      "\n",
      "  7%|████▍                                                           | 7/100 [00:01<00:24,  3.79it/s]\u001b[A\u001b[A\n",
      "\n",
      "  9%|█████▊                                                          | 9/100 [00:03<00:48,  1.89it/s]\u001b[A\u001b[A\n",
      "\n",
      " 11%|██████▉                                                        | 11/100 [00:03<00:33,  2.66it/s]\u001b[A\u001b[A\n",
      "\n",
      " 13%|████████▏                                                      | 13/100 [00:03<00:24,  3.55it/s]\u001b[A\u001b[A\n",
      "\n",
      " 15%|█████████▍                                                     | 15/100 [00:04<00:18,  4.48it/s]\u001b[A\u001b[A\n",
      "\n",
      " 17%|██████████▋                                                    | 17/100 [00:04<00:16,  5.18it/s]\u001b[A\u001b[A\n",
      "\n",
      " 19%|███████████▉                                                   | 19/100 [00:04<00:13,  6.20it/s]\u001b[A\u001b[A\n",
      "\n",
      " 21%|█████████████▏                                                 | 21/100 [00:04<00:11,  7.16it/s]\u001b[A\u001b[A\n",
      "\n",
      " 23%|██████████████▍                                                | 23/100 [00:04<00:09,  8.03it/s]\u001b[A\u001b[A\n",
      "\n",
      " 25%|███████████████▊                                               | 25/100 [00:05<00:08,  8.49it/s]\u001b[A\u001b[A\n",
      "\n",
      " 27%|█████████████████                                              | 27/100 [00:05<00:09,  7.66it/s]\u001b[A\u001b[A\n",
      "\n",
      " 29%|██████████████████▎                                            | 29/100 [00:05<00:09,  7.65it/s]\u001b[A\u001b[A\n",
      "\n",
      " 31%|███████████████████▌                                           | 31/100 [00:05<00:08,  7.75it/s]\u001b[A\u001b[A\n",
      "\n",
      " 33%|████████████████████▊                                          | 33/100 [00:06<00:08,  8.18it/s]\u001b[A\u001b[A\n",
      "\n",
      " 35%|██████████████████████                                         | 35/100 [00:06<00:07,  8.20it/s]\u001b[A\u001b[A\n",
      "\n",
      " 37%|███████████████████████▎                                       | 37/100 [00:06<00:07,  8.05it/s]\u001b[A\u001b[A\n",
      "\n",
      " 39%|████████████████████████▌                                      | 39/100 [00:06<00:07,  7.88it/s]\u001b[A\u001b[A\n",
      "\n",
      " 41%|█████████████████████████▊                                     | 41/100 [00:07<00:07,  8.13it/s]\u001b[A\u001b[A\n",
      "\n",
      " 43%|███████████████████████████                                    | 43/100 [00:07<00:06,  8.38it/s]\u001b[A\u001b[A\n",
      "\n",
      " 45%|████████████████████████████▎                                  | 45/100 [00:07<00:07,  7.66it/s]\u001b[A\u001b[A\n",
      "\n",
      " 47%|█████████████████████████████▌                                 | 47/100 [00:08<00:07,  7.07it/s]\u001b[A\u001b[A\n",
      "\n",
      " 49%|██████████████████████████████▊                                | 49/100 [00:08<00:07,  6.87it/s]\u001b[A\u001b[A\n",
      "\n",
      " 51%|████████████████████████████████▏                              | 51/100 [00:08<00:06,  7.14it/s]\u001b[A\u001b[A\n",
      "\n",
      " 53%|█████████████████████████████████▍                             | 53/100 [00:08<00:05,  7.93it/s]\u001b[A\u001b[A"
     ]
    },
    {
     "name": "stdout",
     "output_type": "stream",
     "text": [
      "Iteration : 50 \n",
      " , Train Loss : 1.4060882776975632 \n",
      ", Test Acc : 61.544715881347656 \n",
      "\n"
     ]
    },
    {
     "name": "stderr",
     "output_type": "stream",
     "text": [
      "\n",
      "\n",
      " 55%|██████████████████████████████████▋                            | 55/100 [00:08<00:05,  8.64it/s]\u001b[A\u001b[A\n",
      "\n",
      " 57%|███████████████████████████████████▉                           | 57/100 [00:09<00:04,  8.67it/s]\u001b[A\u001b[A\n",
      "\n",
      " 59%|█████████████████████████████████████▏                         | 59/100 [00:09<00:04,  8.89it/s]\u001b[A\u001b[A\n",
      "\n",
      " 61%|██████████████████████████████████████▍                        | 61/100 [00:09<00:04,  8.72it/s]\u001b[A\u001b[A\n",
      "\n",
      " 63%|███████████████████████████████████████▋                       | 63/100 [00:10<00:05,  7.04it/s]\u001b[A\u001b[A\n",
      "\n",
      " 65%|████████████████████████████████████████▉                      | 65/100 [00:10<00:06,  5.22it/s]\u001b[A\u001b[A\n",
      "\n",
      " 67%|██████████████████████████████████████████▏                    | 67/100 [00:10<00:05,  6.25it/s]\u001b[A\u001b[A\n",
      "\n",
      " 69%|███████████████████████████████████████████▍                   | 69/100 [00:11<00:04,  6.88it/s]\u001b[A\u001b[A\n",
      "\n",
      " 71%|████████████████████████████████████████████▋                  | 71/100 [00:11<00:04,  7.12it/s]\u001b[A\u001b[A\n",
      "\n",
      " 73%|█████████████████████████████████████████████▉                 | 73/100 [00:11<00:03,  7.11it/s]\u001b[A\u001b[A\n",
      "\n",
      " 75%|███████████████████████████████████████████████▎               | 75/100 [00:11<00:03,  7.44it/s]\u001b[A\u001b[A\n",
      "\n",
      " 77%|████████████████████████████████████████████████▌              | 77/100 [00:12<00:04,  5.32it/s]\u001b[A\u001b[A\n",
      "\n",
      " 79%|█████████████████████████████████████████████████▊             | 79/100 [00:12<00:03,  6.24it/s]\u001b[A\u001b[A\n",
      "\n",
      " 81%|███████████████████████████████████████████████████            | 81/100 [00:12<00:02,  7.19it/s]\u001b[A\u001b[A\n",
      "\n",
      " 83%|████████████████████████████████████████████████████▎          | 83/100 [00:12<00:02,  8.14it/s]\u001b[A\u001b[A\n",
      "\n",
      " 85%|█████████████████████████████████████████████████████▌         | 85/100 [00:13<00:01,  7.99it/s]\u001b[A\u001b[A\n",
      "\n",
      " 87%|██████████████████████████████████████████████████████▊        | 87/100 [00:13<00:01,  7.54it/s]\u001b[A\u001b[A\n",
      "\n",
      " 89%|████████████████████████████████████████████████████████       | 89/100 [00:13<00:01,  7.29it/s]\u001b[A\u001b[A\n",
      "\n",
      " 91%|█████████████████████████████████████████████████████████▎     | 91/100 [00:14<00:01,  5.86it/s]\u001b[A\u001b[A\n",
      "\n",
      " 92%|█████████████████████████████████████████████████████████▉     | 92/100 [00:14<00:01,  6.29it/s]\u001b[A\u001b[A\n",
      "\n",
      " 93%|██████████████████████████████████████████████████████████▌    | 93/100 [00:14<00:01,  5.24it/s]\u001b[A\u001b[A\n",
      "\n",
      " 94%|███████████████████████████████████████████████████████████▏   | 94/100 [00:14<00:01,  5.84it/s]\u001b[A\u001b[A\n",
      "\n",
      " 95%|███████████████████████████████████████████████████████████▊   | 95/100 [00:15<00:01,  4.81it/s]\u001b[A\u001b[A\n",
      "\n",
      " 97%|█████████████████████████████████████████████████████████████  | 97/100 [00:15<00:00,  5.04it/s]\u001b[A\u001b[A\n",
      "\n",
      " 99%|██████████████████████████████████████████████████████████████▎| 99/100 [00:15<00:00,  5.17it/s]\u001b[A\u001b[A\n",
      "\n",
      "100%|██████████████████████████████████████████████████████████████| 100/100 [00:16<00:00,  6.18it/s]\u001b[A\u001b[A\n",
      "\n",
      " 40%|██████████████████████████▍                                       | 2/5 [00:48<01:08, 22.91s/it]\u001b[A"
     ]
    },
    {
     "name": "stdout",
     "output_type": "stream",
     "text": [
      "Iteration : 99 \n",
      " , Train Loss : 18.222400903701782 \n",
      ", Test Acc : 55.74074172973633 \n",
      "\n"
     ]
    },
    {
     "name": "stderr",
     "output_type": "stream",
     "text": [
      "\n",
      "\n",
      "  0%|                                                                        | 0/100 [00:00<?, ?it/s]\u001b[A\u001b[A\n",
      "\n",
      "  1%|▋                                                               | 1/100 [00:00<00:14,  6.70it/s]\u001b[A\u001b[A"
     ]
    },
    {
     "name": "stdout",
     "output_type": "stream",
     "text": [
      "Iteration : 0 \n",
      " , Train Loss : 8.21332057317098 \n",
      ", Test Acc : 16.29901885986328 \n",
      "\n"
     ]
    },
    {
     "name": "stderr",
     "output_type": "stream",
     "text": [
      "\n",
      "\n",
      "  3%|█▉                                                              | 3/100 [00:00<00:12,  7.49it/s]\u001b[A\u001b[A\n",
      "\n",
      "  5%|███▏                                                            | 5/100 [00:00<00:16,  5.84it/s]\u001b[A\u001b[A\n",
      "\n",
      "  7%|████▍                                                           | 7/100 [00:01<00:15,  6.19it/s]\u001b[A\u001b[A\n",
      "\n",
      "  9%|█████▊                                                          | 9/100 [00:01<00:13,  6.82it/s]\u001b[A\u001b[A\n",
      "\n",
      " 11%|██████▉                                                        | 11/100 [00:01<00:12,  7.07it/s]\u001b[A\u001b[A\n",
      "\n",
      " 13%|████████▏                                                      | 13/100 [00:01<00:11,  7.43it/s]\u001b[A\u001b[A\n",
      "\n",
      " 15%|█████████▍                                                     | 15/100 [00:02<00:11,  7.73it/s]\u001b[A\u001b[A\n",
      "\n",
      " 17%|██████████▋                                                    | 17/100 [00:02<00:10,  8.01it/s]\u001b[A\u001b[A\n",
      "\n",
      " 19%|███████████▉                                                   | 19/100 [00:02<00:09,  8.53it/s]\u001b[A\u001b[A\n",
      "\n",
      " 21%|█████████████▏                                                 | 21/100 [00:02<00:08,  8.89it/s]\u001b[A\u001b[A\n",
      "\n",
      " 23%|██████████████▍                                                | 23/100 [00:02<00:08,  9.35it/s]\u001b[A\u001b[A\n",
      "\n",
      " 25%|███████████████▊                                               | 25/100 [00:03<00:07,  9.43it/s]\u001b[A\u001b[A\n",
      "\n",
      " 27%|█████████████████                                              | 27/100 [00:03<00:07,  9.87it/s]\u001b[A\u001b[A\n",
      "\n",
      " 29%|██████████████████▎                                            | 29/100 [00:03<00:06, 10.16it/s]\u001b[A\u001b[A\n",
      "\n",
      " 31%|███████████████████▌                                           | 31/100 [00:03<00:06, 10.65it/s]\u001b[A\u001b[A\n",
      "\n",
      " 33%|████████████████████▊                                          | 33/100 [00:03<00:06, 10.47it/s]\u001b[A\u001b[A\n",
      "\n",
      " 35%|██████████████████████                                         | 35/100 [00:04<00:06,  9.80it/s]\u001b[A\u001b[A\n",
      "\n",
      " 37%|███████████████████████▎                                       | 37/100 [00:04<00:06,  9.41it/s]\u001b[A\u001b[A\n",
      "\n",
      " 39%|████████████████████████▌                                      | 39/100 [00:04<00:06,  9.39it/s]\u001b[A\u001b[A\n",
      "\n",
      " 41%|█████████████████████████▊                                     | 41/100 [00:05<00:08,  6.98it/s]\u001b[A\u001b[A\n",
      "\n",
      " 43%|███████████████████████████                                    | 43/100 [00:05<00:10,  5.26it/s]\u001b[A\u001b[A\n",
      "\n",
      " 45%|████████████████████████████▎                                  | 45/100 [00:06<00:12,  4.34it/s]\u001b[A\u001b[A\n",
      "\n",
      " 47%|█████████████████████████████▌                                 | 47/100 [00:06<00:12,  4.38it/s]\u001b[A\u001b[A\n",
      "\n",
      " 49%|██████████████████████████████▊                                | 49/100 [00:07<00:12,  4.01it/s]\u001b[A\u001b[A\n",
      "\n",
      " 51%|████████████████████████████████▏                              | 51/100 [00:08<00:14,  3.41it/s]\u001b[A\u001b[A"
     ]
    },
    {
     "name": "stdout",
     "output_type": "stream",
     "text": [
      "Iteration : 50 \n",
      " , Train Loss : 2.3551865418752036 \n",
      ", Test Acc : 58.946075439453125 \n",
      "\n"
     ]
    },
    {
     "name": "stderr",
     "output_type": "stream",
     "text": [
      "\n",
      "\n",
      " 53%|█████████████████████████████████▍                             | 53/100 [00:08<00:14,  3.15it/s]\u001b[A\u001b[A\n",
      "\n",
      " 55%|██████████████████████████████████▋                            | 55/100 [00:10<00:21,  2.09it/s]\u001b[A\u001b[A\n",
      "\n",
      " 57%|███████████████████████████████████▉                           | 57/100 [00:11<00:21,  1.97it/s]\u001b[A\u001b[A\n",
      "\n",
      " 59%|█████████████████████████████████████▏                         | 59/100 [00:11<00:15,  2.58it/s]\u001b[A\u001b[A\n",
      "\n",
      " 61%|██████████████████████████████████████▍                        | 61/100 [00:12<00:11,  3.35it/s]\u001b[A\u001b[A\n",
      "\n",
      " 63%|███████████████████████████████████████▋                       | 63/100 [00:12<00:08,  4.17it/s]\u001b[A\u001b[A\n",
      "\n",
      " 65%|████████████████████████████████████████▉                      | 65/100 [00:12<00:07,  4.87it/s]\u001b[A\u001b[A\n",
      "\n",
      " 67%|██████████████████████████████████████████▏                    | 67/100 [00:12<00:05,  5.82it/s]\u001b[A\u001b[A\n",
      "\n",
      " 69%|███████████████████████████████████████████▍                   | 69/100 [00:12<00:04,  6.64it/s]\u001b[A\u001b[A\n",
      "\n",
      " 71%|████████████████████████████████████████████▋                  | 71/100 [00:13<00:03,  7.48it/s]\u001b[A\u001b[A\n",
      "\n",
      " 73%|█████████████████████████████████████████████▉                 | 73/100 [00:13<00:03,  8.27it/s]\u001b[A\u001b[A\n",
      "\n",
      " 75%|███████████████████████████████████████████████▎               | 75/100 [00:13<00:02,  8.75it/s]\u001b[A\u001b[A\n",
      "\n",
      " 77%|████████████████████████████████████████████████▌              | 77/100 [00:13<00:02,  9.22it/s]\u001b[A\u001b[A\n",
      "\n",
      " 79%|█████████████████████████████████████████████████▊             | 79/100 [00:15<00:05,  3.52it/s]\u001b[A\u001b[A\n",
      "\n",
      " 81%|███████████████████████████████████████████████████            | 81/100 [00:16<00:07,  2.46it/s]\u001b[A\u001b[A\n",
      "\n",
      " 83%|████████████████████████████████████████████████████▎          | 83/100 [00:18<00:09,  1.72it/s]\u001b[A\u001b[A\n",
      "\n",
      " 84%|████████████████████████████████████████████████████▉          | 84/100 [00:18<00:07,  2.00it/s]\u001b[A\u001b[A\n",
      "\n",
      " 85%|█████████████████████████████████████████████████████▌         | 85/100 [00:19<00:08,  1.78it/s]\u001b[A\u001b[A\n",
      "\n",
      " 86%|██████████████████████████████████████████████████████▏        | 86/100 [00:19<00:06,  2.14it/s]\u001b[A\u001b[A\n",
      "\n",
      " 87%|██████████████████████████████████████████████████████▊        | 87/100 [00:21<00:10,  1.27it/s]\u001b[A\u001b[A\n",
      "\n",
      " 89%|████████████████████████████████████████████████████████       | 89/100 [00:23<00:09,  1.12it/s]\u001b[A\u001b[A\n",
      "\n",
      " 91%|█████████████████████████████████████████████████████████▎     | 91/100 [00:25<00:08,  1.04it/s]\u001b[A\u001b[A\n",
      "\n",
      " 93%|██████████████████████████████████████████████████████████▌    | 93/100 [00:27<00:07,  1.00s/it]\u001b[A\u001b[A\n",
      "\n",
      " 95%|███████████████████████████████████████████████████████████▊   | 95/100 [00:29<00:04,  1.05it/s]\u001b[A\u001b[A\n",
      "\n",
      " 97%|█████████████████████████████████████████████████████████████  | 97/100 [00:29<00:02,  1.39it/s]\u001b[A\u001b[A\n",
      "\n",
      " 99%|██████████████████████████████████████████████████████████████▎| 99/100 [00:30<00:00,  1.86it/s]\u001b[A\u001b[A\n",
      "\n",
      "100%|██████████████████████████████████████████████████████████████| 100/100 [00:30<00:00,  3.29it/s]\u001b[A\u001b[A\n",
      "\n",
      " 60%|███████████████████████████████████████▌                          | 3/5 [01:19<00:53, 26.53s/it]\u001b[A"
     ]
    },
    {
     "name": "stdout",
     "output_type": "stream",
     "text": [
      "Iteration : 99 \n",
      " , Train Loss : 30.355083147684734 \n",
      ", Test Acc : 34.68136978149414 \n",
      "\n"
     ]
    },
    {
     "name": "stderr",
     "output_type": "stream",
     "text": [
      "\n",
      "\n",
      "  0%|                                                                        | 0/100 [00:00<?, ?it/s]\u001b[A\u001b[A\n",
      "\n",
      "  1%|▋                                                               | 1/100 [00:00<00:36,  2.74it/s]\u001b[A\u001b[A"
     ]
    },
    {
     "name": "stdout",
     "output_type": "stream",
     "text": [
      "Iteration : 0 \n",
      " , Train Loss : 8.413390159606934 \n",
      ", Test Acc : 20.855613708496094 \n",
      "\n"
     ]
    },
    {
     "name": "stderr",
     "output_type": "stream",
     "text": [
      "\n",
      "\n",
      "  3%|█▉                                                              | 3/100 [00:01<00:50,  1.91it/s]\u001b[A\u001b[A\n",
      "\n",
      "  5%|███▏                                                            | 5/100 [00:03<01:22,  1.15it/s]\u001b[A\u001b[A\n",
      "\n",
      "  7%|████▍                                                           | 7/100 [00:08<02:17,  1.48s/it]\u001b[A\u001b[A\n",
      "\n",
      "  9%|█████▊                                                          | 9/100 [00:08<01:28,  1.03it/s]\u001b[A\u001b[A\n",
      "\n",
      " 11%|██████▉                                                        | 11/100 [00:09<00:59,  1.48it/s]\u001b[A\u001b[A\n",
      "\n",
      " 13%|████████▏                                                      | 13/100 [00:09<00:41,  2.11it/s]\u001b[A\u001b[A\n",
      "\n",
      " 15%|█████████▍                                                     | 15/100 [00:09<00:29,  2.89it/s]\u001b[A\u001b[A\n",
      "\n",
      " 17%|██████████▋                                                    | 17/100 [00:09<00:21,  3.85it/s]\u001b[A\u001b[A\n",
      "\n",
      " 19%|███████████▉                                                   | 19/100 [00:09<00:17,  4.56it/s]\u001b[A\u001b[A\n",
      "\n",
      " 21%|█████████████▏                                                 | 21/100 [00:10<00:16,  4.90it/s]\u001b[A\u001b[A\n",
      "\n",
      " 23%|██████████████▍                                                | 23/100 [00:10<00:13,  5.51it/s]\u001b[A\u001b[A\n",
      "\n",
      " 25%|███████████████▊                                               | 25/100 [00:10<00:13,  5.69it/s]\u001b[A\u001b[A\n",
      "\n",
      " 27%|█████████████████                                              | 27/100 [00:10<00:11,  6.12it/s]\u001b[A\u001b[A\n",
      "\n",
      " 29%|██████████████████▎                                            | 29/100 [00:11<00:09,  7.23it/s]\u001b[A\u001b[A\n",
      "\n",
      " 31%|███████████████████▌                                           | 31/100 [00:11<00:08,  8.22it/s]\u001b[A\u001b[A\n",
      "\n",
      " 33%|████████████████████▊                                          | 33/100 [00:11<00:07,  8.57it/s]\u001b[A\u001b[A\n",
      "\n",
      " 35%|██████████████████████                                         | 35/100 [00:11<00:07,  9.23it/s]\u001b[A\u001b[A\n",
      "\n",
      " 37%|███████████████████████▎                                       | 37/100 [00:11<00:06,  9.63it/s]\u001b[A\u001b[A\n",
      "\n",
      " 39%|████████████████████████▌                                      | 39/100 [00:12<00:06,  9.57it/s]\u001b[A\u001b[A\n",
      "\n",
      " 41%|█████████████████████████▊                                     | 41/100 [00:12<00:06,  9.03it/s]\u001b[A\u001b[A\n",
      "\n",
      " 43%|███████████████████████████                                    | 43/100 [00:12<00:06,  9.34it/s]\u001b[A\u001b[A\n",
      "\n",
      " 45%|████████████████████████████▎                                  | 45/100 [00:12<00:05,  9.88it/s]\u001b[A\u001b[A\n",
      "\n",
      " 47%|█████████████████████████████▌                                 | 47/100 [00:12<00:05, 10.56it/s]\u001b[A\u001b[A\n",
      "\n",
      " 49%|██████████████████████████████▊                                | 49/100 [00:13<00:04, 10.48it/s]\u001b[A\u001b[A\n",
      "\n",
      " 51%|████████████████████████████████▏                              | 51/100 [00:13<00:04, 11.19it/s]\u001b[A\u001b[A\n",
      "\n",
      " 53%|█████████████████████████████████▍                             | 53/100 [00:13<00:04, 11.69it/s]\u001b[A\u001b[A"
     ]
    },
    {
     "name": "stdout",
     "output_type": "stream",
     "text": [
      "Iteration : 50 \n",
      " , Train Loss : 0.11185227148234844 \n",
      ", Test Acc : 51.87165832519531 \n",
      "\n"
     ]
    },
    {
     "name": "stderr",
     "output_type": "stream",
     "text": [
      "\n",
      "\n",
      " 55%|██████████████████████████████████▋                            | 55/100 [00:13<00:03, 12.16it/s]\u001b[A\u001b[A\n",
      "\n",
      " 57%|███████████████████████████████████▉                           | 57/100 [00:13<00:03, 12.48it/s]\u001b[A\u001b[A\n",
      "\n",
      " 59%|█████████████████████████████████████▏                         | 59/100 [00:13<00:03, 12.13it/s]\u001b[A\u001b[A\n",
      "\n",
      " 61%|██████████████████████████████████████▍                        | 61/100 [00:13<00:03, 12.59it/s]\u001b[A\u001b[A\n",
      "\n",
      " 63%|███████████████████████████████████████▋                       | 63/100 [00:14<00:02, 12.67it/s]\u001b[A\u001b[A\n",
      "\n",
      " 65%|████████████████████████████████████████▉                      | 65/100 [00:14<00:02, 13.02it/s]\u001b[A\u001b[A\n",
      "\n",
      " 67%|██████████████████████████████████████████▏                    | 67/100 [00:14<00:02, 13.27it/s]\u001b[A\u001b[A\n",
      "\n",
      " 69%|███████████████████████████████████████████▍                   | 69/100 [00:14<00:02, 12.07it/s]\u001b[A\u001b[A\n",
      "\n",
      " 71%|████████████████████████████████████████████▋                  | 71/100 [00:14<00:02, 12.38it/s]\u001b[A\u001b[A\n",
      "\n",
      " 73%|█████████████████████████████████████████████▉                 | 73/100 [00:14<00:02, 12.40it/s]\u001b[A\u001b[A\n",
      "\n",
      " 75%|███████████████████████████████████████████████▎               | 75/100 [00:15<00:02, 12.17it/s]\u001b[A\u001b[A\n",
      "\n",
      " 77%|████████████████████████████████████████████████▌              | 77/100 [00:15<00:01, 11.84it/s]\u001b[A\u001b[A\n",
      "\n",
      " 79%|█████████████████████████████████████████████████▊             | 79/100 [00:15<00:01, 11.58it/s]\u001b[A\u001b[A\n",
      "\n",
      " 81%|███████████████████████████████████████████████████            | 81/100 [00:15<00:01, 11.77it/s]\u001b[A\u001b[A\n",
      "\n",
      " 83%|████████████████████████████████████████████████████▎          | 83/100 [00:15<00:01, 10.12it/s]\u001b[A\u001b[A\n",
      "\n",
      " 85%|█████████████████████████████████████████████████████▌         | 85/100 [00:16<00:02,  7.09it/s]\u001b[A\u001b[A\n",
      "\n",
      " 87%|██████████████████████████████████████████████████████▊        | 87/100 [00:16<00:01,  6.93it/s]\u001b[A\u001b[A\n",
      "\n",
      " 89%|████████████████████████████████████████████████████████       | 89/100 [00:17<00:02,  5.43it/s]\u001b[A\u001b[A\n",
      "\n",
      " 91%|█████████████████████████████████████████████████████████▎     | 91/100 [00:18<00:02,  3.58it/s]\u001b[A\u001b[A\n",
      "\n",
      " 93%|██████████████████████████████████████████████████████████▌    | 93/100 [00:22<00:06,  1.11it/s]\u001b[A\u001b[A\n",
      "\n",
      " 95%|███████████████████████████████████████████████████████████▊   | 95/100 [00:29<00:07,  1.59s/it]\u001b[A\u001b[A\n",
      "\n",
      " 97%|█████████████████████████████████████████████████████████████  | 97/100 [00:32<00:04,  1.62s/it]\u001b[A\u001b[A\n",
      "\n",
      " 99%|██████████████████████████████████████████████████████████████▎| 99/100 [00:32<00:01,  1.17s/it]\u001b[A\u001b[A\n",
      "\n",
      "100%|██████████████████████████████████████████████████████████████| 100/100 [00:33<00:00,  3.02it/s]\u001b[A\u001b[A\n",
      "\n",
      " 80%|████████████████████████████████████████████████████▊             | 4/5 [01:53<00:29, 29.35s/it]\u001b[A"
     ]
    },
    {
     "name": "stdout",
     "output_type": "stream",
     "text": [
      "Iteration : 99 \n",
      " , Train Loss : 0.08007687237113714 \n",
      ", Test Acc : 60.96257019042969 \n",
      "\n"
     ]
    },
    {
     "name": "stderr",
     "output_type": "stream",
     "text": [
      "\n",
      "\n",
      "  0%|                                                                        | 0/100 [00:00<?, ?it/s]\u001b[A\u001b[A\n",
      "\n",
      "  1%|▋                                                               | 1/100 [00:00<00:15,  6.49it/s]\u001b[A\u001b[A"
     ]
    },
    {
     "name": "stdout",
     "output_type": "stream",
     "text": [
      "Iteration : 0 \n",
      " , Train Loss : 6.013992071151733 \n",
      ", Test Acc : 4.640151500701904 \n",
      "\n"
     ]
    },
    {
     "name": "stderr",
     "output_type": "stream",
     "text": [
      "\n",
      "\n",
      "  3%|█▉                                                              | 3/100 [00:00<00:13,  7.21it/s]\u001b[A\u001b[A\n",
      "\n",
      "  5%|███▏                                                            | 5/100 [00:00<00:16,  5.85it/s]\u001b[A\u001b[A\n",
      "\n",
      "  7%|████▍                                                           | 7/100 [00:01<00:13,  6.81it/s]\u001b[A\u001b[A\n",
      "\n",
      "  9%|█████▊                                                          | 9/100 [00:01<00:12,  7.41it/s]\u001b[A\u001b[A\n",
      "\n",
      " 11%|██████▉                                                        | 11/100 [00:01<00:11,  7.74it/s]\u001b[A\u001b[A\n",
      "\n",
      " 13%|████████▏                                                      | 13/100 [00:01<00:11,  7.40it/s]\u001b[A\u001b[A\n",
      "\n",
      " 15%|█████████▍                                                     | 15/100 [00:02<00:14,  5.95it/s]\u001b[A\u001b[A\n",
      "\n",
      " 17%|██████████▋                                                    | 17/100 [00:03<00:19,  4.34it/s]\u001b[A\u001b[A\n",
      "\n",
      " 19%|███████████▉                                                   | 19/100 [00:03<00:18,  4.42it/s]\u001b[A\u001b[A\n",
      "\n",
      " 21%|█████████████▏                                                 | 21/100 [00:03<00:15,  5.06it/s]\u001b[A\u001b[A\n",
      "\n",
      " 23%|██████████████▍                                                | 23/100 [00:03<00:12,  6.01it/s]\u001b[A\u001b[A\n",
      "\n",
      " 25%|███████████████▊                                               | 25/100 [00:04<00:10,  6.83it/s]\u001b[A\u001b[A\n",
      "\n",
      " 27%|█████████████████                                              | 27/100 [00:04<00:09,  7.43it/s]\u001b[A\u001b[A\n",
      "\n",
      " 29%|██████████████████▎                                            | 29/100 [00:04<00:08,  7.94it/s]\u001b[A\u001b[A\n",
      "\n",
      " 31%|███████████████████▌                                           | 31/100 [00:04<00:08,  8.32it/s]\u001b[A\u001b[A\n",
      "\n",
      " 33%|████████████████████▊                                          | 33/100 [00:04<00:07,  8.71it/s]\u001b[A\u001b[A\n",
      "\n",
      " 35%|██████████████████████                                         | 35/100 [00:05<00:07,  9.07it/s]\u001b[A\u001b[A\n",
      "\n",
      " 37%|███████████████████████▎                                       | 37/100 [00:05<00:07,  8.99it/s]\u001b[A\u001b[A\n",
      "\n",
      " 39%|████████████████████████▌                                      | 39/100 [00:05<00:06,  8.91it/s]\u001b[A\u001b[A\n",
      "\n",
      " 41%|█████████████████████████▊                                     | 41/100 [00:05<00:07,  7.47it/s]\u001b[A\u001b[A\n",
      "\n",
      " 43%|███████████████████████████                                    | 43/100 [00:06<00:07,  7.92it/s]\u001b[A\u001b[A\n",
      "\n",
      " 45%|████████████████████████████▎                                  | 45/100 [00:06<00:07,  7.76it/s]\u001b[A\u001b[A\n",
      "\n",
      " 47%|█████████████████████████████▌                                 | 47/100 [00:06<00:06,  7.94it/s]\u001b[A\u001b[A\n",
      "\n",
      " 49%|██████████████████████████████▊                                | 49/100 [00:06<00:06,  8.07it/s]\u001b[A\u001b[A\n",
      "\n",
      " 51%|████████████████████████████████▏                              | 51/100 [00:07<00:05,  8.37it/s]\u001b[A\u001b[A"
     ]
    },
    {
     "name": "stdout",
     "output_type": "stream",
     "text": [
      "Iteration : 50 \n",
      " , Train Loss : 0.3179122656583786 \n",
      ", Test Acc : 76.89393615722656 \n",
      "\n"
     ]
    },
    {
     "name": "stderr",
     "output_type": "stream",
     "text": [
      "\n",
      "\n",
      " 53%|█████████████████████████████████▍                             | 53/100 [00:07<00:08,  5.58it/s]\u001b[A\u001b[A\n",
      "\n",
      " 55%|██████████████████████████████████▋                            | 55/100 [00:08<00:10,  4.33it/s]\u001b[A\u001b[A\n",
      "\n",
      " 57%|███████████████████████████████████▉                           | 57/100 [00:09<00:11,  3.59it/s]\u001b[A\u001b[A\n",
      "\n",
      " 59%|█████████████████████████████████████▏                         | 59/100 [00:10<00:16,  2.51it/s]\u001b[A\u001b[A\n",
      "\n",
      " 61%|██████████████████████████████████████▍                        | 61/100 [00:11<00:18,  2.10it/s]\u001b[A\u001b[A\n",
      "\n",
      " 63%|███████████████████████████████████████▋                       | 63/100 [00:12<00:14,  2.48it/s]\u001b[A\u001b[A\n",
      "\n",
      " 64%|████████████████████████████████████████▎                      | 64/100 [00:12<00:12,  2.86it/s]\u001b[A\u001b[A\n",
      "\n",
      " 65%|████████████████████████████████████████▉                      | 65/100 [00:12<00:11,  3.03it/s]\u001b[A\u001b[A\n",
      "\n",
      " 67%|██████████████████████████████████████████▏                    | 67/100 [00:13<00:08,  3.89it/s]\u001b[A\u001b[A\n",
      "\n",
      " 69%|███████████████████████████████████████████▍                   | 69/100 [00:13<00:07,  4.34it/s]\u001b[A\u001b[A\n",
      "\n",
      " 71%|████████████████████████████████████████████▋                  | 71/100 [00:13<00:05,  5.06it/s]\u001b[A\u001b[A\n",
      "\n",
      " 73%|█████████████████████████████████████████████▉                 | 73/100 [00:13<00:04,  5.84it/s]\u001b[A\u001b[A\n",
      "\n",
      " 75%|███████████████████████████████████████████████▎               | 75/100 [00:14<00:03,  6.54it/s]\u001b[A\u001b[A\n",
      "\n",
      " 77%|████████████████████████████████████████████████▌              | 77/100 [00:14<00:03,  6.68it/s]\u001b[A\u001b[A\n",
      "\n",
      " 79%|█████████████████████████████████████████████████▊             | 79/100 [00:14<00:03,  6.01it/s]\u001b[A\u001b[A\n",
      "\n",
      " 81%|███████████████████████████████████████████████████            | 81/100 [00:15<00:02,  6.66it/s]\u001b[A\u001b[A\n",
      "\n",
      " 83%|████████████████████████████████████████████████████▎          | 83/100 [00:15<00:02,  7.06it/s]\u001b[A\u001b[A\n",
      "\n",
      " 85%|█████████████████████████████████████████████████████▌         | 85/100 [00:15<00:01,  7.78it/s]\u001b[A\u001b[A\n",
      "\n",
      " 87%|██████████████████████████████████████████████████████▊        | 87/100 [00:15<00:01,  8.22it/s]\u001b[A\u001b[A\n",
      "\n",
      " 89%|████████████████████████████████████████████████████████       | 89/100 [00:15<00:01,  8.24it/s]\u001b[A\u001b[A\n",
      "\n",
      " 91%|█████████████████████████████████████████████████████████▎     | 91/100 [00:16<00:01,  8.50it/s]\u001b[A\u001b[A\n",
      "\n",
      " 93%|██████████████████████████████████████████████████████████▌    | 93/100 [00:16<00:00,  8.91it/s]\u001b[A\u001b[A\n",
      "\n",
      " 95%|███████████████████████████████████████████████████████████▊   | 95/100 [00:16<00:00,  8.98it/s]\u001b[A\u001b[A\n",
      "\n",
      " 97%|█████████████████████████████████████████████████████████████  | 97/100 [00:16<00:00,  9.02it/s]\u001b[A\u001b[A\n",
      "\n",
      " 99%|██████████████████████████████████████████████████████████████▎| 99/100 [00:17<00:00,  9.01it/s]\u001b[A\u001b[A\n",
      "\n",
      "100%|██████████████████████████████████████████████████████████████| 100/100 [00:17<00:00,  5.81it/s]\u001b[A\u001b[A\n",
      "\n",
      "100%|██████████████████████████████████████████████████████████████████| 5/5 [02:10<00:00, 26.15s/it]\u001b[A\n"
     ]
    },
    {
     "name": "stdout",
     "output_type": "stream",
     "text": [
      "Iteration : 99 \n",
      " , Train Loss : 0.13882844522595406 \n",
      ", Test Acc : 83.14393615722656 \n",
      "\n"
     ]
    },
    {
     "name": "stderr",
     "output_type": "stream",
     "text": [
      "\n",
      "  0%|                                                                         | 0/32 [00:00<?, ?it/s]\u001b[A\n",
      "  3%|██                                                               | 1/32 [00:00<00:07,  4.11it/s]\u001b[A\n",
      "  6%|████                                                             | 2/32 [00:01<00:25,  1.17it/s]\u001b[A\n",
      "  9%|██████                                                           | 3/32 [00:02<00:20,  1.44it/s]\u001b[A\n",
      " 12%|████████▏                                                        | 4/32 [00:02<00:19,  1.41it/s]\u001b[A\n",
      " 16%|██████████▏                                                      | 5/32 [00:03<00:18,  1.43it/s]\u001b[A\n",
      " 19%|████████████▏                                                    | 6/32 [00:04<00:17,  1.45it/s]\u001b[A\n",
      " 22%|██████████████▏                                                  | 7/32 [00:04<00:14,  1.67it/s]\u001b[A\n",
      " 25%|████████████████▎                                                | 8/32 [00:04<00:11,  2.10it/s]\u001b[A\n",
      " 28%|██████████████████▎                                              | 9/32 [00:04<00:08,  2.57it/s]\u001b[A\n",
      " 31%|████████████████████                                            | 10/32 [00:05<00:06,  3.24it/s]\u001b[A\n",
      " 38%|████████████████████████                                        | 12/32 [00:05<00:04,  4.95it/s]\u001b[A\n",
      " 44%|████████████████████████████                                    | 14/32 [00:05<00:02,  7.02it/s]\u001b[A\n",
      " 50%|████████████████████████████████                                | 16/32 [00:05<00:01,  8.05it/s]\u001b[A\n",
      " 56%|████████████████████████████████████                            | 18/32 [00:05<00:01,  9.99it/s]\u001b[A\n",
      " 62%|████████████████████████████████████████                        | 20/32 [00:05<00:01, 11.66it/s]\u001b[A\n",
      " 69%|████████████████████████████████████████████                    | 22/32 [00:05<00:00, 11.35it/s]\u001b[A\n",
      " 75%|████████████████████████████████████████████████                | 24/32 [00:06<00:00, 12.76it/s]\u001b[A\n",
      " 81%|████████████████████████████████████████████████████            | 26/32 [00:06<00:00, 12.08it/s]\u001b[A\n",
      " 88%|████████████████████████████████████████████████████████        | 28/32 [00:06<00:00, 13.40it/s]\u001b[A\n",
      " 94%|████████████████████████████████████████████████████████████    | 30/32 [00:06<00:00, 12.43it/s]\u001b[A\n",
      "100%|████████████████████████████████████████████████████████████████| 32/32 [00:06<00:00,  4.76it/s]\u001b[A\n",
      "\n",
      "100%|█████████████████████████████████████████████████████████████████| 1/1 [00:00<00:00, 224.75it/s]\u001b[A\n",
      "/tmp/ipykernel_9636/3212757151.py:8: DeprecationWarning: Sampling from a set deprecated\n",
      "since Python 3.9 and will be removed in a subsequent version.\n",
      "  new_cluster_pivot = random.sample(G.nodes,1)[0]\n",
      "\n",
      "  0%|                                                                          | 0/2 [00:00<?, ?it/s]\u001b[A\n",
      " 50%|█████████████████████████████████                                 | 1/2 [00:00<00:00,  5.19it/s]\u001b[A\n",
      "100%|██████████████████████████████████████████████████████████████████| 2/2 [00:00<00:00,  3.11it/s]\u001b[A\n",
      " 50%|████████████████████████████████▌                                | 1/2 [02:18<02:18, 138.87s/it]\n",
      "  0%|                                                                          | 0/2 [00:00<?, ?it/s]\u001b[A\n",
      "\n",
      "  0%|                                                                        | 0/100 [00:00<?, ?it/s]\u001b[A\u001b[A\n",
      "\n",
      "  1%|▋                                                               | 1/100 [00:00<00:20,  4.75it/s]\u001b[A\u001b[A\n",
      "\n",
      "  2%|█▎                                                              | 2/100 [00:00<00:15,  6.27it/s]\u001b[A\u001b[A"
     ]
    },
    {
     "name": "stdout",
     "output_type": "stream",
     "text": [
      "Iteration : 0 \n",
      " , Train Loss : 6.041143751144409 \n",
      ", Test Acc : 9.326723098754883 \n",
      "\n"
     ]
    },
    {
     "name": "stderr",
     "output_type": "stream",
     "text": [
      "\n",
      "\n",
      "  3%|█▉                                                              | 3/100 [00:00<00:32,  2.94it/s]\u001b[A\u001b[A\n",
      "\n",
      "  4%|██▌                                                             | 4/100 [00:01<00:25,  3.83it/s]\u001b[A\u001b[A\n",
      "\n",
      "  5%|███▏                                                            | 5/100 [00:01<00:35,  2.70it/s]\u001b[A\u001b[A\n",
      "\n",
      "  6%|███▊                                                            | 6/100 [00:01<00:27,  3.36it/s]\u001b[A\u001b[A\n",
      "\n",
      "  7%|████▍                                                           | 7/100 [00:02<00:26,  3.55it/s]\u001b[A\u001b[A\n",
      "\n",
      "  8%|█████                                                           | 8/100 [00:02<00:22,  4.15it/s]\u001b[A\u001b[A\n",
      "\n",
      "  9%|█████▊                                                          | 9/100 [00:02<00:22,  4.10it/s]\u001b[A\u001b[A\n",
      "\n",
      " 10%|██████▎                                                        | 10/100 [00:02<00:19,  4.73it/s]\u001b[A\u001b[A\n",
      "\n",
      " 11%|██████▉                                                        | 11/100 [00:02<00:19,  4.52it/s]\u001b[A\u001b[A\n",
      "\n",
      " 12%|███████▌                                                       | 12/100 [00:02<00:18,  4.87it/s]\u001b[A\u001b[A\n",
      "\n",
      " 13%|████████▏                                                      | 13/100 [00:03<00:19,  4.52it/s]\u001b[A\u001b[A\n",
      "\n",
      " 14%|████████▊                                                      | 14/100 [00:03<00:17,  4.98it/s]\u001b[A\u001b[A\n",
      "\n",
      " 15%|█████████▍                                                     | 15/100 [00:03<00:17,  4.81it/s]\u001b[A\u001b[A\n",
      "\n",
      " 16%|██████████                                                     | 16/100 [00:03<00:16,  5.23it/s]\u001b[A\u001b[A\n",
      "\n",
      " 17%|██████████▋                                                    | 17/100 [00:03<00:16,  4.93it/s]\u001b[A\u001b[A\n",
      "\n",
      " 18%|███████████▎                                                   | 18/100 [00:04<00:15,  5.29it/s]\u001b[A\u001b[A\n",
      "\n",
      " 19%|███████████▉                                                   | 19/100 [00:04<00:16,  4.97it/s]\u001b[A\u001b[A\n",
      "\n",
      " 20%|████████████▌                                                  | 20/100 [00:04<00:14,  5.35it/s]\u001b[A\u001b[A\n",
      "\n",
      " 21%|█████████████▏                                                 | 21/100 [00:04<00:16,  4.89it/s]\u001b[A\u001b[A\n",
      "\n",
      " 22%|█████████████▊                                                 | 22/100 [00:04<00:14,  5.39it/s]\u001b[A\u001b[A\n",
      "\n",
      " 23%|██████████████▍                                                | 23/100 [00:05<00:15,  5.04it/s]\u001b[A\u001b[A\n",
      "\n",
      " 24%|███████████████                                                | 24/100 [00:05<00:14,  5.36it/s]\u001b[A\u001b[A\n",
      "\n",
      " 25%|███████████████▊                                               | 25/100 [00:05<00:15,  4.99it/s]\u001b[A\u001b[A\n",
      "\n",
      " 26%|████████████████▍                                              | 26/100 [00:05<00:13,  5.29it/s]\u001b[A\u001b[A\n",
      "\n",
      " 27%|█████████████████                                              | 27/100 [00:05<00:14,  4.88it/s]\u001b[A\u001b[A\n",
      "\n",
      " 28%|█████████████████▋                                             | 28/100 [00:06<00:13,  5.44it/s]\u001b[A\u001b[A\n",
      "\n",
      " 29%|██████████████████▎                                            | 29/100 [00:06<00:14,  4.95it/s]\u001b[A\u001b[A\n",
      "\n",
      " 30%|██████████████████▉                                            | 30/100 [00:06<00:13,  5.36it/s]\u001b[A\u001b[A\n",
      "\n",
      " 31%|███████████████████▌                                           | 31/100 [00:06<00:14,  4.90it/s]\u001b[A\u001b[A\n",
      "\n",
      " 32%|████████████████████▏                                          | 32/100 [00:06<00:12,  5.26it/s]\u001b[A\u001b[A\n",
      "\n",
      " 33%|████████████████████▊                                          | 33/100 [00:07<00:13,  4.84it/s]\u001b[A\u001b[A\n",
      "\n",
      " 34%|█████████████████████▍                                         | 34/100 [00:07<00:12,  5.37it/s]\u001b[A\u001b[A\n",
      "\n",
      " 35%|██████████████████████                                         | 35/100 [00:07<00:14,  4.35it/s]\u001b[A\u001b[A\n",
      "\n",
      " 36%|██████████████████████▋                                        | 36/100 [00:07<00:12,  5.02it/s]\u001b[A\u001b[A\n",
      "\n",
      " 37%|███████████████████████▎                                       | 37/100 [00:08<00:15,  4.05it/s]\u001b[A\u001b[A\n",
      "\n",
      " 38%|███████████████████████▉                                       | 38/100 [00:08<00:13,  4.73it/s]\u001b[A\u001b[A\n",
      "\n",
      " 39%|████████████████████████▌                                      | 39/100 [00:08<00:12,  4.85it/s]\u001b[A\u001b[A\n",
      "\n",
      " 40%|█████████████████████████▏                                     | 40/100 [00:08<00:10,  5.56it/s]\u001b[A\u001b[A\n",
      "\n",
      " 41%|█████████████████████████▊                                     | 41/100 [00:08<00:10,  5.38it/s]\u001b[A\u001b[A\n",
      "\n",
      " 42%|██████████████████████████▍                                    | 42/100 [00:08<00:09,  5.90it/s]\u001b[A\u001b[A\n",
      "\n",
      " 43%|███████████████████████████                                    | 43/100 [00:09<00:10,  5.53it/s]\u001b[A\u001b[A\n",
      "\n",
      " 44%|███████████████████████████▋                                   | 44/100 [00:09<00:09,  6.08it/s]\u001b[A\u001b[A\n",
      "\n",
      " 45%|████████████████████████████▎                                  | 45/100 [00:09<00:13,  3.96it/s]\u001b[A\u001b[A\n",
      "\n",
      " 46%|████████████████████████████▉                                  | 46/100 [00:09<00:11,  4.66it/s]\u001b[A\u001b[A\n",
      "\n",
      " 47%|█████████████████████████████▌                                 | 47/100 [00:10<00:17,  3.06it/s]\u001b[A\u001b[A\n",
      "\n",
      " 48%|██████████████████████████████▏                                | 48/100 [00:10<00:14,  3.63it/s]\u001b[A\u001b[A\n",
      "\n",
      " 49%|██████████████████████████████▊                                | 49/100 [00:11<00:18,  2.78it/s]\u001b[A\u001b[A\n",
      "\n",
      " 50%|███████████████████████████████▌                               | 50/100 [00:11<00:14,  3.45it/s]\u001b[A\u001b[A\n",
      "\n",
      " 51%|████████████████████████████████▏                              | 51/100 [00:14<01:01,  1.26s/it]\u001b[A\u001b[A\n",
      "\n",
      " 52%|████████████████████████████████▊                              | 52/100 [00:14<00:43,  1.10it/s]\u001b[A\u001b[A"
     ]
    },
    {
     "name": "stdout",
     "output_type": "stream",
     "text": [
      "Iteration : 50 \n",
      " , Train Loss : 0.6049617528915405 \n",
      ", Test Acc : 78.37081909179688 \n",
      "\n"
     ]
    },
    {
     "name": "stderr",
     "output_type": "stream",
     "text": [
      "\n",
      "\n",
      " 53%|█████████████████████████████████▍                             | 53/100 [00:15<00:44,  1.06it/s]\u001b[A\u001b[A\n",
      "\n",
      " 54%|██████████████████████████████████                             | 54/100 [00:15<00:31,  1.44it/s]\u001b[A\u001b[A\n",
      "\n",
      " 55%|██████████████████████████████████▋                            | 55/100 [00:16<00:30,  1.50it/s]\u001b[A\u001b[A\n",
      "\n",
      " 57%|███████████████████████████████████▉                           | 57/100 [00:17<00:21,  2.00it/s]\u001b[A\u001b[A\n",
      "\n",
      " 59%|█████████████████████████████████████▏                         | 59/100 [00:17<00:15,  2.64it/s]\u001b[A\u001b[A\n",
      "\n",
      " 61%|██████████████████████████████████████▍                        | 61/100 [00:17<00:11,  3.52it/s]\u001b[A\u001b[A\n",
      "\n",
      " 63%|███████████████████████████████████████▋                       | 63/100 [00:18<00:08,  4.37it/s]\u001b[A\u001b[A\n",
      "\n",
      " 65%|████████████████████████████████████████▉                      | 65/100 [00:18<00:06,  5.25it/s]\u001b[A\u001b[A\n",
      "\n",
      " 67%|██████████████████████████████████████████▏                    | 67/100 [00:18<00:06,  4.98it/s]\u001b[A\u001b[A\n",
      "\n",
      " 69%|███████████████████████████████████████████▍                   | 69/100 [00:20<00:12,  2.50it/s]\u001b[A\u001b[A\n",
      "\n",
      " 71%|████████████████████████████████████████████▋                  | 71/100 [00:22<00:16,  1.73it/s]\u001b[A\u001b[A\n",
      "\n",
      " 73%|█████████████████████████████████████████████▉                 | 73/100 [00:24<00:18,  1.43it/s]\u001b[A\u001b[A\n",
      "\n",
      " 74%|██████████████████████████████████████████████▌                | 74/100 [00:24<00:15,  1.68it/s]\u001b[A\u001b[A\n",
      "\n",
      " 75%|███████████████████████████████████████████████▎               | 75/100 [00:26<00:22,  1.09it/s]\u001b[A\u001b[A\n",
      "\n",
      " 76%|███████████████████████████████████████████████▉               | 76/100 [00:26<00:17,  1.36it/s]\u001b[A\u001b[A\n",
      "\n",
      " 77%|████████████████████████████████████████████████▌              | 77/100 [00:28<00:21,  1.06it/s]\u001b[A\u001b[A\n",
      "\n",
      " 78%|█████████████████████████████████████████████████▏             | 78/100 [00:28<00:16,  1.37it/s]\u001b[A\u001b[A\n",
      "\n",
      " 79%|█████████████████████████████████████████████████▊             | 79/100 [00:28<00:14,  1.44it/s]\u001b[A\u001b[A\n",
      "\n",
      " 80%|██████████████████████████████████████████████████▍            | 80/100 [00:29<00:10,  1.86it/s]\u001b[A\u001b[A\n",
      "\n",
      " 81%|███████████████████████████████████████████████████            | 81/100 [00:31<00:17,  1.08it/s]\u001b[A\u001b[A\n",
      "\n",
      " 82%|███████████████████████████████████████████████████▋           | 82/100 [00:31<00:12,  1.44it/s]\u001b[A\u001b[A\n",
      "\n",
      " 83%|████████████████████████████████████████████████████▎          | 83/100 [00:32<00:16,  1.05it/s]\u001b[A\u001b[A\n",
      "\n",
      " 84%|████████████████████████████████████████████████████▉          | 84/100 [00:32<00:11,  1.40it/s]\u001b[A\u001b[A\n",
      "\n",
      " 85%|█████████████████████████████████████████████████████▌         | 85/100 [00:35<00:19,  1.30s/it]\u001b[A\u001b[A\n",
      "\n",
      " 86%|██████████████████████████████████████████████████████▏        | 86/100 [00:35<00:13,  1.05it/s]\u001b[A\u001b[A\n",
      "\n",
      " 87%|██████████████████████████████████████████████████████▊        | 87/100 [00:37<00:17,  1.34s/it]\u001b[A\u001b[A\n",
      "\n",
      " 88%|███████████████████████████████████████████████████████▍       | 88/100 [00:38<00:11,  1.03it/s]\u001b[A\u001b[A\n",
      "\n",
      " 89%|████████████████████████████████████████████████████████       | 89/100 [00:38<00:08,  1.31it/s]\u001b[A\u001b[A\n",
      "\n",
      " 91%|█████████████████████████████████████████████████████████▎     | 91/100 [00:38<00:04,  2.06it/s]\u001b[A\u001b[A\n",
      "\n",
      " 92%|█████████████████████████████████████████████████████████▉     | 92/100 [00:38<00:03,  2.56it/s]\u001b[A\u001b[A\n",
      "\n",
      " 93%|██████████████████████████████████████████████████████████▌    | 93/100 [00:39<00:02,  2.51it/s]\u001b[A\u001b[A\n",
      "\n",
      " 95%|███████████████████████████████████████████████████████████▊   | 95/100 [00:42<00:04,  1.14it/s]\u001b[A\u001b[A\n",
      "\n",
      " 96%|████████████████████████████████████████████████████████████▍  | 96/100 [00:42<00:02,  1.43it/s]\u001b[A\u001b[A\n",
      "\n",
      " 97%|█████████████████████████████████████████████████████████████  | 97/100 [00:45<00:03,  1.26s/it]\u001b[A\u001b[A\n",
      "\n",
      " 98%|█████████████████████████████████████████████████████████████▋ | 98/100 [00:45<00:01,  1.03it/s]\u001b[A\u001b[A\n",
      "\n",
      " 99%|██████████████████████████████████████████████████████████████▎| 99/100 [00:47<00:01,  1.33s/it]\u001b[A\u001b[A\n",
      "\n",
      "100%|██████████████████████████████████████████████████████████████| 100/100 [00:48<00:00,  2.06it/s]\u001b[A\u001b[A\n",
      "\n",
      " 50%|█████████████████████████████████                                 | 1/2 [00:49<00:49, 49.14s/it]\u001b[A"
     ]
    },
    {
     "name": "stdout",
     "output_type": "stream",
     "text": [
      "Iteration : 99 \n",
      " , Train Loss : 0.6529629677534103 \n",
      ", Test Acc : 80.82542419433594 \n",
      "\n"
     ]
    },
    {
     "name": "stderr",
     "output_type": "stream",
     "text": [
      "\n",
      "\n",
      "  0%|                                                                        | 0/100 [00:00<?, ?it/s]\u001b[A\u001b[A\n",
      "\n",
      "  1%|▋                                                               | 1/100 [00:00<01:28,  1.12it/s]\u001b[A\u001b[A"
     ]
    },
    {
     "name": "stdout",
     "output_type": "stream",
     "text": [
      "Iteration : 0 \n",
      " , Train Loss : 7.405919530174949 \n",
      ", Test Acc : 7.127121448516846 \n",
      "\n"
     ]
    },
    {
     "name": "stderr",
     "output_type": "stream",
     "text": [
      "\n",
      "\n",
      "  2%|█▎                                                              | 2/100 [00:01<00:52,  1.87it/s]\u001b[A\u001b[A\n",
      "\n",
      "  3%|█▉                                                              | 3/100 [00:01<00:54,  1.77it/s]\u001b[A\u001b[A\n",
      "\n",
      "  4%|██▌                                                             | 4/100 [00:02<00:44,  2.18it/s]\u001b[A\u001b[A\n",
      "\n",
      "  5%|███▏                                                            | 5/100 [00:02<00:43,  2.16it/s]\u001b[A\u001b[A\n",
      "\n",
      "  6%|███▊                                                            | 6/100 [00:02<00:36,  2.57it/s]\u001b[A\u001b[A\n",
      "\n",
      "  7%|████▍                                                           | 7/100 [00:03<00:40,  2.29it/s]\u001b[A\u001b[A\n",
      "\n",
      "  8%|█████                                                           | 8/100 [00:03<00:36,  2.50it/s]\u001b[A\u001b[A\n",
      "\n",
      "  9%|█████▊                                                          | 9/100 [00:04<00:36,  2.52it/s]\u001b[A\u001b[A\n",
      "\n",
      " 10%|██████▎                                                        | 10/100 [00:04<00:32,  2.79it/s]\u001b[A\u001b[A\n",
      "\n",
      " 11%|██████▉                                                        | 11/100 [00:04<00:33,  2.66it/s]\u001b[A\u001b[A\n",
      "\n",
      " 12%|███████▌                                                       | 12/100 [00:04<00:30,  2.91it/s]\u001b[A\u001b[A\n",
      "\n",
      " 13%|████████▏                                                      | 13/100 [00:05<00:33,  2.61it/s]\u001b[A\u001b[A\n",
      "\n",
      " 14%|████████▊                                                      | 14/100 [00:05<00:30,  2.80it/s]\u001b[A\u001b[A\n",
      "\n",
      " 15%|█████████▍                                                     | 15/100 [00:06<00:31,  2.69it/s]\u001b[A\u001b[A\n",
      "\n",
      " 16%|██████████                                                     | 16/100 [00:06<00:29,  2.85it/s]\u001b[A\u001b[A\n",
      "\n",
      " 17%|██████████▋                                                    | 17/100 [00:06<00:31,  2.60it/s]\u001b[A\u001b[A\n",
      "\n",
      " 18%|███████████▎                                                   | 18/100 [00:07<00:29,  2.81it/s]\u001b[A\u001b[A\n",
      "\n",
      " 19%|███████████▉                                                   | 19/100 [00:07<00:30,  2.66it/s]\u001b[A\u001b[A\n",
      "\n",
      " 20%|████████████▌                                                  | 20/100 [00:07<00:27,  2.88it/s]\u001b[A\u001b[A\n",
      "\n",
      " 21%|█████████████▏                                                 | 21/100 [00:08<00:29,  2.68it/s]\u001b[A\u001b[A\n",
      "\n",
      " 22%|█████████████▊                                                 | 22/100 [00:08<00:26,  2.93it/s]\u001b[A\u001b[A\n",
      "\n",
      " 23%|██████████████▍                                                | 23/100 [00:09<00:28,  2.68it/s]\u001b[A\u001b[A\n",
      "\n",
      " 24%|███████████████                                                | 24/100 [00:09<00:25,  2.94it/s]\u001b[A\u001b[A\n",
      "\n",
      " 25%|███████████████▊                                               | 25/100 [00:09<00:27,  2.76it/s]\u001b[A\u001b[A\n",
      "\n",
      " 26%|████████████████▍                                              | 26/100 [00:10<00:25,  2.90it/s]\u001b[A\u001b[A\n",
      "\n",
      " 27%|█████████████████                                              | 27/100 [00:10<00:26,  2.73it/s]\u001b[A\u001b[A\n",
      "\n",
      " 28%|█████████████████▋                                             | 28/100 [00:10<00:24,  2.89it/s]\u001b[A\u001b[A\n",
      "\n",
      " 29%|██████████████████▎                                            | 29/100 [00:11<00:26,  2.67it/s]\u001b[A\u001b[A\n",
      "\n",
      " 30%|██████████████████▉                                            | 30/100 [00:11<00:24,  2.91it/s]\u001b[A\u001b[A\n",
      "\n",
      " 31%|███████████████████▌                                           | 31/100 [00:11<00:25,  2.69it/s]\u001b[A\u001b[A\n",
      "\n",
      " 32%|████████████████████▏                                          | 32/100 [00:12<00:24,  2.80it/s]\u001b[A\u001b[A\n",
      "\n",
      " 33%|████████████████████▊                                          | 33/100 [00:12<00:25,  2.61it/s]\u001b[A\u001b[A\n",
      "\n",
      " 34%|█████████████████████▍                                         | 34/100 [00:13<00:24,  2.75it/s]\u001b[A\u001b[A\n",
      "\n",
      " 35%|██████████████████████                                         | 35/100 [00:13<00:25,  2.59it/s]\u001b[A\u001b[A\n",
      "\n",
      " 36%|██████████████████████▋                                        | 36/100 [00:13<00:22,  2.80it/s]\u001b[A\u001b[A\n",
      "\n",
      " 37%|███████████████████████▎                                       | 37/100 [00:14<00:23,  2.67it/s]\u001b[A\u001b[A\n",
      "\n",
      " 38%|███████████████████████▉                                       | 38/100 [00:14<00:22,  2.80it/s]\u001b[A\u001b[A\n",
      "\n",
      " 39%|████████████████████████▌                                      | 39/100 [00:14<00:24,  2.49it/s]\u001b[A\u001b[A\n",
      "\n",
      " 40%|█████████████████████████▏                                     | 40/100 [00:15<00:21,  2.74it/s]\u001b[A\u001b[A\n",
      "\n",
      " 41%|█████████████████████████▊                                     | 41/100 [00:15<00:24,  2.41it/s]\u001b[A\u001b[A\n",
      "\n",
      " 42%|██████████████████████████▍                                    | 42/100 [00:16<00:21,  2.66it/s]\u001b[A\u001b[A\n",
      "\n",
      " 43%|███████████████████████████                                    | 43/100 [00:16<00:23,  2.41it/s]\u001b[A\u001b[A\n",
      "\n",
      " 44%|███████████████████████████▋                                   | 44/100 [00:16<00:21,  2.55it/s]\u001b[A\u001b[A\n",
      "\n",
      " 45%|████████████████████████████▎                                  | 45/100 [00:17<00:22,  2.43it/s]\u001b[A\u001b[A\n",
      "\n",
      " 46%|████████████████████████████▉                                  | 46/100 [00:17<00:20,  2.69it/s]\u001b[A\u001b[A\n",
      "\n",
      " 47%|█████████████████████████████▌                                 | 47/100 [00:18<00:21,  2.51it/s]\u001b[A\u001b[A\n",
      "\n",
      " 48%|██████████████████████████████▏                                | 48/100 [00:18<00:18,  2.84it/s]\u001b[A\u001b[A\n",
      "\n",
      " 49%|██████████████████████████████▊                                | 49/100 [00:18<00:19,  2.64it/s]\u001b[A\u001b[A\n",
      "\n",
      " 50%|███████████████████████████████▌                               | 50/100 [00:19<00:17,  2.78it/s]\u001b[A\u001b[A\n",
      "\n",
      " 51%|████████████████████████████████▏                              | 51/100 [00:19<00:18,  2.58it/s]\u001b[A\u001b[A"
     ]
    },
    {
     "name": "stdout",
     "output_type": "stream",
     "text": [
      "Iteration : 50 \n",
      " , Train Loss : 0.6329287595369599 \n",
      ", Test Acc : 66.53329467773438 \n",
      "\n"
     ]
    },
    {
     "name": "stderr",
     "output_type": "stream",
     "text": [
      "\n",
      "\n",
      " 52%|████████████████████████████████▊                              | 52/100 [00:19<00:17,  2.79it/s]\u001b[A\u001b[A\n",
      "\n",
      " 53%|█████████████████████████████████▍                             | 53/100 [00:20<00:18,  2.49it/s]\u001b[A\u001b[A\n",
      "\n",
      " 54%|██████████████████████████████████                             | 54/100 [00:20<00:16,  2.72it/s]\u001b[A\u001b[A\n",
      "\n",
      " 55%|██████████████████████████████████▋                            | 55/100 [00:21<00:18,  2.46it/s]\u001b[A\u001b[A\n",
      "\n",
      " 56%|███████████████████████████████████▎                           | 56/100 [00:21<00:16,  2.69it/s]\u001b[A\u001b[A\n",
      "\n",
      " 57%|███████████████████████████████████▉                           | 57/100 [00:21<00:16,  2.59it/s]\u001b[A\u001b[A\n",
      "\n",
      " 58%|████████████████████████████████████▌                          | 58/100 [00:22<00:15,  2.72it/s]\u001b[A\u001b[A\n",
      "\n",
      " 59%|█████████████████████████████████████▏                         | 59/100 [00:22<00:16,  2.45it/s]\u001b[A\u001b[A\n",
      "\n",
      " 60%|█████████████████████████████████████▊                         | 60/100 [00:22<00:14,  2.72it/s]\u001b[A\u001b[A\n",
      "\n",
      " 61%|██████████████████████████████████████▍                        | 61/100 [00:23<00:15,  2.58it/s]\u001b[A\u001b[A\n",
      "\n",
      " 62%|███████████████████████████████████████                        | 62/100 [00:23<00:13,  2.85it/s]\u001b[A\u001b[A\n",
      "\n",
      " 63%|███████████████████████████████████████▋                       | 63/100 [00:23<00:12,  2.91it/s]\u001b[A\u001b[A\n",
      "\n",
      " 64%|████████████████████████████████████████▎                      | 64/100 [00:24<00:10,  3.53it/s]\u001b[A\u001b[A\n",
      "\n",
      " 65%|████████████████████████████████████████▉                      | 65/100 [00:24<00:09,  3.70it/s]\u001b[A\u001b[A\n",
      "\n",
      " 66%|█████████████████████████████████████████▌                     | 66/100 [00:24<00:07,  4.36it/s]\u001b[A\u001b[A\n",
      "\n",
      " 67%|██████████████████████████████████████████▏                    | 67/100 [00:24<00:07,  4.30it/s]\u001b[A\u001b[A\n",
      "\n",
      " 68%|██████████████████████████████████████████▊                    | 68/100 [00:24<00:06,  4.84it/s]\u001b[A\u001b[A\n",
      "\n",
      " 69%|███████████████████████████████████████████▍                   | 69/100 [00:25<00:07,  4.09it/s]\u001b[A\u001b[A\n",
      "\n",
      " 70%|████████████████████████████████████████████                   | 70/100 [00:25<00:06,  4.67it/s]\u001b[A\u001b[A\n",
      "\n",
      " 71%|████████████████████████████████████████████▋                  | 71/100 [00:25<00:09,  2.97it/s]\u001b[A\u001b[A\n",
      "\n",
      " 72%|█████████████████████████████████████████████▎                 | 72/100 [00:26<00:10,  2.65it/s]\u001b[A\u001b[A\n",
      "\n",
      " 73%|█████████████████████████████████████████████▉                 | 73/100 [00:27<00:11,  2.25it/s]\u001b[A\u001b[A\n",
      "\n",
      " 74%|██████████████████████████████████████████████▌                | 74/100 [00:27<00:09,  2.64it/s]\u001b[A\u001b[A\n",
      "\n",
      " 75%|███████████████████████████████████████████████▎               | 75/100 [00:28<00:13,  1.82it/s]\u001b[A\u001b[A\n",
      "\n",
      " 76%|███████████████████████████████████████████████▉               | 76/100 [00:28<00:10,  2.20it/s]\u001b[A\u001b[A\n",
      "\n",
      " 77%|████████████████████████████████████████████████▌              | 77/100 [00:28<00:10,  2.28it/s]\u001b[A\u001b[A\n",
      "\n",
      " 78%|█████████████████████████████████████████████████▏             | 78/100 [00:29<00:08,  2.65it/s]\u001b[A\u001b[A\n",
      "\n",
      " 79%|█████████████████████████████████████████████████▊             | 79/100 [00:29<00:08,  2.60it/s]\u001b[A\u001b[A\n",
      "\n",
      " 80%|██████████████████████████████████████████████████▍            | 80/100 [00:29<00:06,  2.90it/s]\u001b[A\u001b[A\n",
      "\n",
      " 81%|███████████████████████████████████████████████████            | 81/100 [00:30<00:06,  2.78it/s]\u001b[A\u001b[A\n",
      "\n",
      " 82%|███████████████████████████████████████████████████▋           | 82/100 [00:30<00:05,  3.04it/s]\u001b[A\u001b[A\n",
      "\n",
      " 83%|████████████████████████████████████████████████████▎          | 83/100 [00:30<00:05,  2.90it/s]\u001b[A\u001b[A\n",
      "\n",
      " 84%|████████████████████████████████████████████████████▉          | 84/100 [00:31<00:04,  3.21it/s]\u001b[A\u001b[A\n",
      "\n",
      " 85%|█████████████████████████████████████████████████████▌         | 85/100 [00:31<00:05,  2.83it/s]\u001b[A\u001b[A\n",
      "\n",
      " 86%|██████████████████████████████████████████████████████▏        | 86/100 [00:31<00:04,  3.09it/s]\u001b[A\u001b[A\n",
      "\n",
      " 87%|██████████████████████████████████████████████████████▊        | 87/100 [00:32<00:04,  2.80it/s]\u001b[A\u001b[A\n",
      "\n",
      " 88%|███████████████████████████████████████████████████████▍       | 88/100 [00:32<00:03,  3.07it/s]\u001b[A\u001b[A\n",
      "\n",
      " 89%|████████████████████████████████████████████████████████       | 89/100 [00:32<00:04,  2.70it/s]\u001b[A\u001b[A\n",
      "\n",
      " 90%|████████████████████████████████████████████████████████▋      | 90/100 [00:33<00:03,  3.09it/s]\u001b[A\u001b[A\n",
      "\n",
      " 91%|█████████████████████████████████████████████████████████▎     | 91/100 [00:33<00:02,  3.25it/s]\u001b[A\u001b[A\n",
      "\n",
      " 92%|█████████████████████████████████████████████████████████▉     | 92/100 [00:33<00:02,  3.57it/s]\u001b[A\u001b[A\n",
      "\n",
      " 93%|██████████████████████████████████████████████████████████▌    | 93/100 [00:33<00:01,  3.53it/s]\u001b[A\u001b[A\n",
      "\n",
      " 94%|███████████████████████████████████████████████████████████▏   | 94/100 [00:34<00:01,  3.80it/s]\u001b[A\u001b[A\n",
      "\n",
      " 95%|███████████████████████████████████████████████████████████▊   | 95/100 [00:34<00:01,  3.57it/s]\u001b[A\u001b[A\n",
      "\n",
      " 96%|████████████████████████████████████████████████████████████▍  | 96/100 [00:34<00:00,  4.00it/s]\u001b[A\u001b[A\n",
      "\n",
      " 97%|█████████████████████████████████████████████████████████████  | 97/100 [00:34<00:00,  3.71it/s]\u001b[A\u001b[A\n",
      "\n",
      " 98%|█████████████████████████████████████████████████████████████▋ | 98/100 [00:35<00:00,  3.90it/s]\u001b[A\u001b[A\n",
      "\n",
      " 99%|██████████████████████████████████████████████████████████████▎| 99/100 [00:35<00:00,  3.92it/s]\u001b[A\u001b[A\n",
      "\n",
      "100%|██████████████████████████████████████████████████████████████| 100/100 [00:35<00:00,  2.81it/s]\u001b[A\u001b[A\n",
      "\n",
      "100%|██████████████████████████████████████████████████████████████████| 2/2 [01:25<00:00, 42.86s/it]\u001b[A\n"
     ]
    },
    {
     "name": "stdout",
     "output_type": "stream",
     "text": [
      "Iteration : 99 \n",
      " , Train Loss : 0.47590516033497726 \n",
      ", Test Acc : 68.18305969238281 \n",
      "\n"
     ]
    },
    {
     "name": "stderr",
     "output_type": "stream",
     "text": [
      "\n",
      "  0%|                                                                         | 0/32 [00:00<?, ?it/s]\u001b[A\n",
      "  3%|██                                                               | 1/32 [00:00<00:09,  3.43it/s]\u001b[A\n",
      "  6%|████                                                             | 2/32 [00:00<00:08,  3.45it/s]\u001b[A\n",
      "  9%|██████                                                           | 3/32 [00:00<00:08,  3.36it/s]\u001b[A\n",
      " 12%|████████▏                                                        | 4/32 [00:01<00:09,  2.98it/s]\u001b[A\n",
      " 16%|██████████▏                                                      | 5/32 [00:01<00:11,  2.29it/s]\u001b[A\n",
      " 19%|████████████▏                                                    | 6/32 [00:02<00:09,  2.82it/s]\u001b[A\n",
      " 22%|██████████████▏                                                  | 7/32 [00:02<00:07,  3.32it/s]\u001b[A\n",
      " 28%|██████████████████▎                                              | 9/32 [00:02<00:04,  4.94it/s]\u001b[A\n",
      " 34%|██████████████████████                                          | 11/32 [00:02<00:02,  7.06it/s]\u001b[A\n",
      " 41%|██████████████████████████                                      | 13/32 [00:02<00:02,  7.98it/s]\u001b[A\n",
      " 50%|████████████████████████████████                                | 16/32 [00:02<00:01, 11.74it/s]\u001b[A\n",
      " 59%|██████████████████████████████████████                          | 19/32 [00:02<00:00, 15.24it/s]\u001b[A\n",
      " 69%|████████████████████████████████████████████                    | 22/32 [00:03<00:00, 18.20it/s]\u001b[A\n",
      " 78%|██████████████████████████████████████████████████              | 25/32 [00:03<00:00, 20.57it/s]\u001b[A\n",
      " 88%|████████████████████████████████████████████████████████        | 28/32 [00:03<00:00, 19.44it/s]\u001b[A\n",
      "100%|████████████████████████████████████████████████████████████████| 32/32 [00:03<00:00,  9.18it/s]\u001b[A\n",
      "\n",
      "0it [00:00, ?it/s]\u001b[A\n",
      "\n",
      "  0%|                                                                          | 0/1 [00:00<?, ?it/s]\u001b[A\n",
      "100%|██████████████████████████████████████████████████████████████████| 1/1 [00:00<00:00,  4.94it/s]\u001b[A\n",
      "100%|█████████████████████████████████████████████████████████████████| 2/2 [03:48<00:00, 114.16s/it]\n"
     ]
    }
   ],
   "source": [
    "config[\"refine_steps\"] = 2\n",
    "for refine_step in tqdm(range(config[\"refine_steps\"])):\n",
    "    if os.path.exists(os.path.join(config[\"results_dir\"],\"refine_{}\".format(refine_step), \"cluster_maps.pkl\")):\n",
    "        shutil.rmtree(os.path.join(config[\"results_dir\"],\"refine_{}\".format(refine_step)))\n",
    "    beta = 0.15\n",
    "    cluster_trainers = []\n",
    "    \n",
    "    for cluster_id in tqdm(cluster_map.keys()):\n",
    "        cluster_clients = [client_loaders[i] for i in cluster_map[cluster_id]]\n",
    "        cluster_trainer = ClusterTrainer(config, os.path.join(config['results_dir'], \"refine_{}\".format(refine_step), \"cluster_{}\".format(cluster_id)), cluster_id)\n",
    "        cluster_trainer.train(cluster_clients)\n",
    "        cluster_trainers.append(cluster_trainer)\n",
    "    with open(os.path.join(config[\"results_dir\"],\"refine_{}\".format(refine_step), \"cluster_maps.pkl\"), 'wb') as handle:\n",
    "        pickle.dump(cluster_map, handle, protocol=pickle.HIGHEST_PROTOCOL)\n",
    "    cluster_map_recluster = {}\n",
    "    for key in cluster_map.keys():\n",
    "        cluster_map_recluster[key] = []\n",
    "\n",
    "    for i in tqdm(range(config[\"num_clients\"])):\n",
    "        w_node = client_trainers[i].model.state_dict()\n",
    "        norm_diff = np.infty\n",
    "        new_cluster_id = 0\n",
    "        for cluster_id in cluster_map.keys():\n",
    "            w_cluster = cluster_trainers[cluster_id].model.state_dict()\n",
    "            curr_norm_diff = model_weights_diff(w_node, w_cluster)\n",
    "            if norm_diff > curr_norm_diff:\n",
    "                new_cluster_id = cluster_id\n",
    "                norm_diff = curr_norm_diff\n",
    "        \n",
    "        cluster_map_recluster[new_cluster_id].append(i)\n",
    "    keys = list(cluster_map_recluster.keys()).copy()\n",
    "    for key in keys:\n",
    "        if len(cluster_map_recluster[key]) == 0:\n",
    "            cluster_map_recluster.pop(key)\n",
    "    cluster_map = cluster_map_recluster\n",
    "\n",
    "    \n",
    "    G = nx.Graph()\n",
    "    G.add_nodes_from(cluster_map.keys())\n",
    "\n",
    "    all_pairs = list(itertools.combinations(cluster_map.keys(),2))\n",
    "    for pair in tqdm(all_pairs):\n",
    "        w_1  = cluster_trainers[pair[0]].model.state_dict()\n",
    "        w_2 = cluster_trainers[pair[1]].model.state_dict()\n",
    "        norm_diff = model_weights_diff(w_1, w_2)\n",
    "        if norm_diff < thresh:\n",
    "            G.add_edge(pair[0], pair[1])\n",
    "    G = G.to_undirected()\n",
    "    clustering = []        \n",
    "    correlation_clustering(G)\n",
    "    merge_clusters = [cluster  for cluster in clustering if len(cluster) > 0]\n",
    "    \n",
    "    #merge_cluster_map = {i: clusters[i] for i in range(len(clusters))}\n",
    "    #clusters = list(nx.algorithms.clique.enumerate_all_cliques(G))\n",
    "    cluster_map_new = {}\n",
    "    for i in range(len(merge_clusters)):\n",
    "        cluster_map_new[i] = []\n",
    "        for j in merge_clusters[i]:\n",
    "            cluster_map_new[i] += cluster_map[j]\n",
    "    cluster_map = cluster_map_new\n",
    "    test_acc = 0\n",
    "    for cluster_id in tqdm(cluster_map.keys()):\n",
    "        cluster_clients = [client_loaders[i] for i in cluster_map[cluster_id]]\n",
    "        model_wts = [cluster_trainers[j].model.state_dict() for j in merge_clusters[cluster_id]]\n",
    "        test_acc_cluster, model_avg_wt =avg_acc(model_wts,cluster_clients)\n",
    "        torch.save(model_avg_wt, os.path.join(config['results_dir'], \"refine_{}\".format(refine_step), \"merged_cluster_{}.pth\".format(cluster_id)))\n",
    "        test_acc += test_acc_cluster\n",
    "    test_acc = test_acc/len(cluster_map.keys())\n",
    "    torch.save(test_acc, os.path.join(config['results_dir'], \"refine_{}\".format(refine_step), \"avg_acc.pth\"))\n"
   ]
  },
  {
   "cell_type": "code",
   "execution_count": 58,
   "id": "033141ef-0236-416e-b25a-512575c83798",
   "metadata": {},
   "outputs": [
    {
     "data": {
      "text/plain": [
       "{0: [0,\n",
       "  1,\n",
       "  2,\n",
       "  3,\n",
       "  4,\n",
       "  5,\n",
       "  6,\n",
       "  7,\n",
       "  8,\n",
       "  9,\n",
       "  10,\n",
       "  11,\n",
       "  12,\n",
       "  13,\n",
       "  14,\n",
       "  15,\n",
       "  16,\n",
       "  17,\n",
       "  18,\n",
       "  19,\n",
       "  20,\n",
       "  21,\n",
       "  22,\n",
       "  23,\n",
       "  24,\n",
       "  25,\n",
       "  26,\n",
       "  27,\n",
       "  28,\n",
       "  29,\n",
       "  30,\n",
       "  31]}"
      ]
     },
     "execution_count": 58,
     "metadata": {},
     "output_type": "execute_result"
    }
   ],
   "source": []
  },
  {
   "cell_type": "code",
   "execution_count": 59,
   "id": "fa2bcc28-b9f5-455d-bfa5-bedbac7d57e5",
   "metadata": {},
   "outputs": [
    {
     "name": "stderr",
     "output_type": "stream",
     "text": [
      "100%|██████████████████████████████████████████████████████████████████| 1/1 [00:00<00:00,  1.63it/s]\n"
     ]
    }
   ],
   "source": [
    "for cluster_id in tqdm(cluster_map.keys()):\n",
    "    cluster_clients = [client_loaders[i] for i in cluster_map[cluster_id]]\n",
    "    model_wts = [cluster_trainers[j].model.state_dict() for j in merge_clusters[cluster_id]]\n",
    "    test_acc_cluster, model_avg_wt =avg_acc(model_wts,cluster_clients)\n",
    "    torch.save(model_avg_wt, os.path.join(config['results_dir'], \"refine_{}\".format(refine_step), \"merged_cluster_{}.pth\".format(cluster_id)))\n",
    "    test_acc += test_acc_cluster\n",
    "test_acc = test_acc/len(cluster_map.keys())\n",
    "torch.save(test_acc, os.path.join(config['results_dir'], \"refine_{}\".format(refine_step), \"avg_acc.pth\"))\n"
   ]
  },
  {
   "cell_type": "code",
   "execution_count": 77,
   "id": "a8e09a61-aa8a-4a3c-b72c-2e0af39d81c0",
   "metadata": {},
   "outputs": [
    {
     "name": "stdout",
     "output_type": "stream",
     "text": [
      "tensor(68.4903)\n"
     ]
    }
   ],
   "source": [
    "print(test_acc)"
   ]
  },
  {
   "cell_type": "code",
   "execution_count": 79,
   "id": "3f18abb1-03d4-4bf3-8f60-e4768c372581",
   "metadata": {},
   "outputs": [
    {
     "name": "stderr",
     "output_type": "stream",
     "text": [
      "  1%|▋                                                               | 1/100 [00:00<00:54,  1.83it/s]"
     ]
    },
    {
     "name": "stdout",
     "output_type": "stream",
     "text": [
      "Iteration : 0 \n",
      " , Train Loss : 7.147231712937355 \n",
      ", Test Acc : 4.0661163330078125 \n",
      "\n"
     ]
    },
    {
     "name": "stderr",
     "output_type": "stream",
     "text": [
      " 51%|████████████████████████████████▏                              | 51/100 [00:22<00:25,  1.92it/s]"
     ]
    },
    {
     "name": "stdout",
     "output_type": "stream",
     "text": [
      "Iteration : 50 \n",
      " , Train Loss : 0.8960115159861743 \n",
      ", Test Acc : 73.05399322509766 \n",
      "\n"
     ]
    },
    {
     "name": "stderr",
     "output_type": "stream",
     "text": [
      "100%|██████████████████████████████████████████████████████████████| 100/100 [01:42<00:00,  1.03s/it]"
     ]
    },
    {
     "name": "stdout",
     "output_type": "stream",
     "text": [
      "Iteration : 99 \n",
      " , Train Loss : 0.5325381550937891 \n",
      ", Test Acc : 77.18030548095703 \n",
      "\n"
     ]
    },
    {
     "name": "stderr",
     "output_type": "stream",
     "text": [
      "\n"
     ]
    }
   ],
   "source": [
    "class GlobalTrainer(BaseTrainer):\n",
    "    def __init__(self,  config, save_dir):\n",
    "        super(GlobalTrainer, self).__init__(config, save_dir)\n",
    "        \n",
    "    def train(self, client_data_list):\n",
    "        num_clients = len(client_data_list)\n",
    "\n",
    "        train_loss_list = []\n",
    "        test_acc_list = []\n",
    "        self.model.to(self.device)\n",
    "        self.model.train()\n",
    "        \n",
    "        \n",
    "        optimizer = OPTIMIZER_LIST[self.config[\"optimizer\"]](self.model.parameters(), **self.config[\"optimizer_params\"])\n",
    "        #eff_num_workers = int(num_clients/(1 - 2*beta))\n",
    "        # if eff_num_workers > 0:\n",
    "        #     eff_batch_size = self.config[\"train_batch\"]/eff_num_workers\n",
    "        #     for i in range(num_clients):\n",
    "        #         client_data_list[i].trainloader.batch_size = eff_batch_size\n",
    "                \n",
    "        for iteration in tqdm(range(self.config[\"iterations\"])):\n",
    "            trmean_buffer = {}\n",
    "            for idx, param in self.model.named_parameters():\n",
    "                if param.requires_grad:\n",
    "                    trmean_buffer[idx] = []\n",
    "            train_loss = 0\n",
    "            #optimizer.zero_grad(set_to_none=True)\n",
    "\n",
    "            for client in client_data_list:\n",
    "                #if eff_num_workers>0:\n",
    "                optimizer.zero_grad(set_to_none=True)\n",
    "                (X,Y) = client.sample_batch()\n",
    "                X = X.to(config[\"device\"])\n",
    "                Y = Y.to(config[\"device\"])\n",
    "                loss_func = nn.CrossEntropyLoss()\n",
    "                out = self.model(X)\n",
    "                loss = loss_func(out,Y)\n",
    "                loss.backward()\n",
    "                train_loss += loss.detach().cpu().numpy().item()\n",
    "                \n",
    "                with torch.no_grad():\n",
    "                    for idx, param in self.model.named_parameters():\n",
    "                        if param.requires_grad:\n",
    "                            trmean_buffer[idx].append(param.grad.clone())\n",
    "            train_loss = train_loss/num_clients\n",
    "            optimizer.zero_grad()\n",
    "            \n",
    "            start_idx = 0\n",
    "            end_idx = num_clients\n",
    "\n",
    "\n",
    "            for idx, param in self.model.named_parameters():\n",
    "                if param.requires_grad:\n",
    "                    sorted, _  = torch.sort(torch.stack(trmean_buffer[idx], dim=0), dim=0)\n",
    "                    new_grad = sorted[start_idx:end_idx,...].mean(dim=0)\n",
    "                    param.grad = new_grad\n",
    "                    trmean_buffer[idx] = []\n",
    "            optimizer.step()\n",
    "            \n",
    "            train_loss_list.append(train_loss)\n",
    "            test_acc = 0\n",
    "            for client_data in client_data_list:\n",
    "                test_acc += calc_acc(self.model, self.device, client_data, train=False)\n",
    "            test_acc = test_acc/num_clients\n",
    "            test_acc_list.append(test_acc)\n",
    "            self.model.train()\n",
    "            if iteration % self.config[\"save_freq\"] == 0 or iteration == self.config[\"iterations\"] - 1:\n",
    "                self.save_model_weights()\n",
    "                self.save_metrics(train_loss_list, test_acc_list, iteration)\n",
    "            if iteration % self.config[\"print_freq\"] == 0 or iteration == self.config[\"iterations\"] - 1:\n",
    "                print(\"Iteration : {} \\n , Train Loss : {} \\n, Test Acc : {} \\n\".format(iteration,  train_loss, test_acc))\n",
    "                \n",
    "        self.model.eval()\n",
    "        self.model.cpu()\n",
    "\n",
    "\n",
    "    def test(self, client_data_list):\n",
    "        self.load_model_weights()\n",
    "        self.model.eval()\n",
    "        self.model.to(self.device)\n",
    "        test_acc = 0\n",
    "        for client_data in client_data_list:\n",
    "            test_acc += calc_acc(self.model, self.device, client_data, train=False)\n",
    "        self.model.cpu()\n",
    "        return test_acc\n",
    "\n",
    "global_trainer = GlobalTrainer(config, os.path.join(config[\"results_dir\"], \"global\"))\n",
    "global_trainer.train(client_loaders)\n"
   ]
  },
  {
   "cell_type": "code",
   "execution_count": 80,
   "id": "5129aa66-94b9-45fd-8865-d9c6eeb6c2ff",
   "metadata": {},
   "outputs": [],
   "source": [
    "del global_trainer\n",
    "import gc\n",
    "gc.collect()\n",
    "torch.cuda.empty_cache()"
   ]
  },
  {
   "cell_type": "code",
   "execution_count": null,
   "id": "918e88a5-85a1-402d-97bc-22fd13e5e44c",
   "metadata": {},
   "outputs": [],
   "source": []
  }
 ],
 "metadata": {
  "kernelspec": {
   "display_name": "Python 3 (ipykernel)",
   "language": "python",
   "name": "python3"
  },
  "language_info": {
   "codemirror_mode": {
    "name": "ipython",
    "version": 3
   },
   "file_extension": ".py",
   "mimetype": "text/x-python",
   "name": "python",
   "nbconvert_exporter": "python",
   "pygments_lexer": "ipython3",
   "version": "3.9.7"
  }
 },
 "nbformat": 4,
 "nbformat_minor": 5
}
