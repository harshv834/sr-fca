{
 "cells": [
  {
   "cell_type": "code",
   "execution_count": 1,
   "metadata": {},
   "outputs": [],
   "source": [
    "%load_ext autoreload\n",
    "%autoreload 2"
   ]
  },
  {
   "cell_type": "code",
   "execution_count": 2,
   "metadata": {},
   "outputs": [],
   "source": [
    "\n",
    "\n",
    "\n",
    "\n",
    "import torch\n",
    "import numpy as np\n",
    "from torch.utils.data import Dataset, DataLoader \n",
    "from abc import ABC\n",
    "from tqdm import tqdm\n",
    "import torchvision\n",
    "import os\n",
    "import torch.nn as nn\n",
    "import torch.nn.functional as F\n",
    "import torch.optim as optim\n",
    "import random\n",
    "\n",
    "\n",
    "\n",
    "\n",
    "config = {}\n",
    "config[\"seed\"] = 42\n",
    "seed = config[\"seed\"]\n",
    "os.environ['PYTHONHASHSEED'] = str(seed)\n",
    "# Torch RNG\n",
    "torch.manual_seed(seed)\n",
    "torch.cuda.manual_seed(seed)\n",
    "torch.cuda.manual_seed_all(seed)\n",
    "# Python RNG\n",
    "np.random.seed(seed)\n",
    "random.seed(seed)\n",
    "\n",
    "\n",
    "\n",
    "\n",
    "config[\"num_clients_per_cluster\"] = 8\n",
    "config[\"num_clusters\"] = 4\n",
    "config[\"num_clients\"] = config[\"num_clients_per_cluster\"]*config[\"num_clusters\"]\n",
    "config[\"dataset\"] = \"mnist\"\n",
    "DATASET_LIB = {\"mnist\" : torchvision.datasets.MNIST, \"emnist\": torchvision.datasets.EMNIST, \"cifar10\": torchvision.datasets.CIFAR10}\n",
    "config[\"dataset_dir\"] = \"./experiments/dataset\"\n",
    "config[\"results_dir\"] = \"./experiments/results\"\n",
    "config[\"results_dir\"] = os.path.join(config[\"results_dir\"], config[\"dataset\"], \"seed_{}\".format(seed))\n",
    "\n",
    "os.makedirs(config[\"results_dir\"], exist_ok=True)\n",
    "\n",
    "def split(dataset_size, num_clients, shuffle):\n",
    "    split_idx = []\n",
    "    all_idx = np.arange(dataset_size)\n",
    "    if shuffle:\n",
    "        all_idx = np.random.permutation(all_idx)\n",
    "    split_idx = np.array_split(all_idx, num_clients)\n",
    "    return split_idx\n",
    "\n",
    "def dataset_split(train_data, test_data, num_clients, shuffle):\n",
    "    train_size = train_data[0].shape[0]\n",
    "    train_split_idx = split(train_size, num_clients, shuffle)\n",
    "    train_chunks = [(train_data[0][train_split_idx[client]], train_data[1][train_split_idx[client]]) for client in range(num_clients)]\n",
    "    test_size = test_data[0].shape[0]\n",
    "    test_split_idx = split(test_size, num_clients, shuffle)\n",
    "    test_chunks = [(test_data[0][test_split_idx[client]], test_data[1][test_split_idx[client]]) for client in range(num_clients)]\n",
    "    return train_chunks, test_chunks\n",
    "\n",
    "def make_client_datasets(config, num_clusters = 10):\n",
    "    train_chunks_total = []\n",
    "    test_chunks_total = []\n",
    "    train_dataset = DATASET_LIB[config[\"dataset\"]](root = config['dataset_dir'], download = True, train=True)\n",
    "    test_dataset = DATASET_LIB[config[\"dataset\"]](root = config['dataset_dir'], download = True, train=False)\n",
    "\n",
    "    train_data = (train_dataset.data, train_dataset.targets)\n",
    "    test_data = (test_dataset.data, test_dataset.targets)\n",
    "    for i in range(config[\"num_clusters\"]):\n",
    "        train_chunks, test_chunks = dataset_split(train_data, test_data, config[\"num_clients_per_cluster\"], shuffle=True)\n",
    "        train_chunks_total += train_chunks\n",
    "        test_chunks_total += test_chunks\n",
    "    return train_chunks_total, test_chunks_total\n",
    "\n",
    "\n",
    "class ClientDataset(Dataset):\n",
    "    def __init__(self, data,transforms = None):\n",
    "        super(ClientDataset,self).__init__()\n",
    "        self.data = data[0]\n",
    "        self.labels = data[1]\n",
    "        self.transforms = transforms\n",
    "\n",
    "    def __len__(self):\n",
    "        return len(self.data)\n",
    "    \n",
    "    def __getitem__(self,idx):\n",
    "        idx_data = self.data[idx]\n",
    "        if self.transforms is not None:\n",
    "            transformed_data =self.transforms(idx_data)\n",
    "        else:\n",
    "            transformed_data = idx_data\n",
    "        idx_labels = self.labels[idx]\n",
    "        return (transformed_data.unsqueeze(0).float(), idx_labels)\n",
    "\n"
   ]
  },
  {
   "cell_type": "code",
   "execution_count": 3,
   "metadata": {},
   "outputs": [],
   "source": [
    "class Client():\n",
    "    def __init__(self, train_data, test_data, client_id,  train_transforms, test_transforms, train_batch_size, test_batch_size, save_dir):\n",
    "        self.trainset = ClientDataset(train_data, train_transforms)\n",
    "        self.testset = ClientDataset(test_data, test_transforms)\n",
    "        self.trainloader = DataLoader(self.trainset, batch_size = train_batch_size, shuffle=True, num_workers=4)\n",
    "        self.testloader = DataLoader(self.testset, batch_size = test_batch_size, shuffle=False, num_workers=4)\n",
    "        self.train_iterator = iter(self.trainloader)\n",
    "        self.test_iterator = iter(self.testloader)\n",
    "        self.client_id = client_id\n",
    "        self.save_dir = os.path.join(save_dir, \"init\", \"client_{}\".format(client_id))\n",
    "\n",
    "    def sample_batch(self, train=True):\n",
    "        iterator = self.train_iterator if train else self.test_iterator\n",
    "        try:\n",
    "            (data, labels) = next(iterator)\n",
    "        except StopIteration:\n",
    "            if train:\n",
    "                self.train_iterator = iter(self.trainloader)\n",
    "                iterator = self.train_iterator\n",
    "            else:\n",
    "                self.test_iterator = iter(self.testloader)\n",
    "                iterator = self.test_iterator\n",
    "            (data, labels) = next(iterator)\n",
    "        return (data, labels)\n"
   ]
  },
  {
   "cell_type": "code",
   "execution_count": 4,
   "metadata": {},
   "outputs": [],
   "source": [
    "train_chunks, test_chunks = make_client_datasets(config)\n"
   ]
  },
  {
   "cell_type": "code",
   "execution_count": 5,
   "metadata": {},
   "outputs": [],
   "source": [
    "import torchvision.transforms.functional as TF\n",
    "\n",
    "\n",
    "class RotationTransform:\n",
    "    \"\"\"Rotate by one of the given angles.\"\"\"\n",
    "\n",
    "    def __init__(self, angle):\n",
    "        self.angle = angle\n",
    "\n",
    "    def __call__(self, x):\n",
    "        return TF.rotate(x, self.angle)\n",
    "\n",
    "\n",
    "config[\"train_batch\"] = 512\n",
    "config[\"test_batch\"] = 512\n",
    "client_loaders = []\n",
    "for i in range(config[\"num_clusters\"]):\n",
    "    for j in range(config[\"num_clients_per_cluster\"]):\n",
    "        idx = i * config[\"num_clients_per_cluster\"] + j\n",
    "        x_train = train_chunks[idx][0]\n",
    "        x_test = test_chunks[idx][0]\n",
    "        if i >0:\n",
    "            x_train = torch.rot90(x_train, i, [1, 2])\n",
    "            x_test = torch.rot90(x_test, i, [1, 2])\n",
    "        client_loaders.append(\n",
    "            Client(\n",
    "                (x_train, train_chunks[idx][1]),\n",
    "                (x_test, test_chunks[idx][1]),\n",
    "                idx,\n",
    "                train_transforms=None,\n",
    "                test_transforms=None,\n",
    "                train_batch_size=config[\"train_batch\"],\n",
    "                test_batch_size=config[\"test_batch\"],\n",
    "                save_dir=config[\"results_dir\"],\n",
    "            )\n",
    "        )\n"
   ]
  },
  {
   "cell_type": "code",
   "execution_count": 6,
   "metadata": {},
   "outputs": [],
   "source": [
    "class SimpleLinear(torch.nn.Module):\n",
    "\n",
    "    def __init__(self, h1=2048):\n",
    "        super().__init__()\n",
    "        self.fc1 = torch.nn.Linear(28*28, h1)\n",
    "        self.fc2 = torch.nn.Linear(h1, 10)\n",
    "\n",
    "    def forward(self, x):\n",
    "        x = x.view(-1, 28 * 28)\n",
    "        x = F.relu(self.fc1(x))\n",
    "        # x = F.sigmoid(self.fc1(x))\n",
    "        x = self.fc2(x)\n",
    "        return x"
   ]
  },
  {
   "cell_type": "code",
   "execution_count": 7,
   "metadata": {},
   "outputs": [],
   "source": [
    "# def train_fedavg_model(train_chunks, test_chunks, config):\n",
    "# model = SimpleLinear()\n",
    "# model.to(torch.device(\"cuda:0\"))\n",
    "# train_data = []\n",
    "# train_labels = [chunk[1] for chunk in train_chunks]\n",
    "# test_labels = [chunk[1] for chunk in test_chunks]\n",
    "# test_data = []\n",
    "# for i in range(config[\"num_clusters\"]):\n",
    "#     for j in range(config['num_clients_per_cluster']):\n",
    "#         idx = i*config[\"num_clients_per_cluster\"] + j\n",
    "#         train_data.append()\n",
    "# train_set = ClientDataset(data)"
   ]
  },
  {
   "cell_type": "code",
   "execution_count": 7,
   "metadata": {},
   "outputs": [
    {
     "name": "stderr",
     "output_type": "stream",
     "text": [
      "  0%|          | 0/32 [00:00<?, ?it/s]"
     ]
    },
    {
     "name": "stdout",
     "output_type": "stream",
     "text": [
      "Iteration : 0 \n",
      " , Train Loss : 23.324874877929688 \n",
      ", Test Acc : 33.73548126220703 \n",
      "\n"
     ]
    },
    {
     "name": "stderr",
     "output_type": "stream",
     "text": []
    },
    {
     "name": "stdout",
     "output_type": "stream",
     "text": [
      "Iteration : 10 \n",
      " , Train Loss : 8.788775444030762 \n",
      ", Test Acc : 76.26693725585938 \n",
      "\n"
     ]
    },
    {
     "name": "stderr",
     "output_type": "stream",
     "text": []
    },
    {
     "name": "stdout",
     "output_type": "stream",
     "text": [
      "Iteration : 20 \n",
      " , Train Loss : 3.646134614944458 \n",
      ", Test Acc : 87.07308197021484 \n",
      "\n"
     ]
    },
    {
     "name": "stderr",
     "output_type": "stream",
     "text": []
    },
    {
     "name": "stdout",
     "output_type": "stream",
     "text": [
      "Iteration : 30 \n",
      " , Train Loss : 1.7003434896469116 \n",
      ", Test Acc : 91.43390655517578 \n",
      "\n"
     ]
    },
    {
     "name": "stderr",
     "output_type": "stream",
     "text": []
    },
    {
     "name": "stdout",
     "output_type": "stream",
     "text": [
      "Iteration : 40 \n",
      " , Train Loss : 1.07925283908844 \n",
      ", Test Acc : 92.1500473022461 \n",
      "\n"
     ]
    },
    {
     "name": "stderr",
     "output_type": "stream",
     "text": [
      "100%|██████████| 50/50 [00:16<00:00,  3.03it/s]\n",
      "  3%|▎         | 1/32 [00:20<10:43, 20.75s/it]"
     ]
    },
    {
     "name": "stdout",
     "output_type": "stream",
     "text": [
      "Iteration : 49 \n",
      " , Train Loss : 0.41405028104782104 \n",
      ", Test Acc : 92.8183822631836 \n",
      "\n"
     ]
    },
    {
     "name": "stderr",
     "output_type": "stream",
     "text": []
    },
    {
     "name": "stdout",
     "output_type": "stream",
     "text": [
      "Iteration : 0 \n",
      " , Train Loss : 25.738914489746094 \n",
      ", Test Acc : 38.08824157714844 \n",
      "\n"
     ]
    },
    {
     "name": "stderr",
     "output_type": "stream",
     "text": []
    },
    {
     "name": "stdout",
     "output_type": "stream",
     "text": [
      "Iteration : 10 \n",
      " , Train Loss : 15.305306434631348 \n",
      ", Test Acc : 76.67485046386719 \n",
      "\n"
     ]
    },
    {
     "name": "stderr",
     "output_type": "stream",
     "text": []
    },
    {
     "name": "stdout",
     "output_type": "stream",
     "text": [
      "Iteration : 20 \n",
      " , Train Loss : 1.612464427947998 \n",
      ", Test Acc : 90.639404296875 \n",
      "\n"
     ]
    },
    {
     "name": "stderr",
     "output_type": "stream",
     "text": []
    },
    {
     "name": "stdout",
     "output_type": "stream",
     "text": [
      "Iteration : 30 \n",
      " , Train Loss : 0.8251586556434631 \n",
      ", Test Acc : 91.91498565673828 \n",
      "\n"
     ]
    },
    {
     "name": "stderr",
     "output_type": "stream",
     "text": []
    },
    {
     "name": "stdout",
     "output_type": "stream",
     "text": [
      "Iteration : 40 \n",
      " , Train Loss : 0.8059536814689636 \n",
      ", Test Acc : 92.66166687011719 \n",
      "\n"
     ]
    },
    {
     "name": "stderr",
     "output_type": "stream",
     "text": [
      "100%|██████████| 50/50 [00:15<00:00,  3.20it/s]\n",
      "  6%|▋         | 2/32 [00:36<08:51, 17.73s/it]"
     ]
    },
    {
     "name": "stdout",
     "output_type": "stream",
     "text": [
      "Iteration : 49 \n",
      " , Train Loss : 0.26487964391708374 \n",
      ", Test Acc : 93.28217315673828 \n",
      "\n"
     ]
    },
    {
     "name": "stderr",
     "output_type": "stream",
     "text": []
    },
    {
     "name": "stdout",
     "output_type": "stream",
     "text": [
      "Iteration : 0 \n",
      " , Train Loss : 26.702606201171875 \n",
      ", Test Acc : 26.684066772460938 \n",
      "\n"
     ]
    },
    {
     "name": "stderr",
     "output_type": "stream",
     "text": []
    },
    {
     "name": "stdout",
     "output_type": "stream",
     "text": [
      "Iteration : 10 \n",
      " , Train Loss : 11.642060279846191 \n",
      ", Test Acc : 77.07872009277344 \n",
      "\n"
     ]
    },
    {
     "name": "stderr",
     "output_type": "stream",
     "text": []
    },
    {
     "name": "stdout",
     "output_type": "stream",
     "text": [
      "Iteration : 20 \n",
      " , Train Loss : 3.0946877002716064 \n",
      ", Test Acc : 86.4087905883789 \n",
      "\n"
     ]
    },
    {
     "name": "stderr",
     "output_type": "stream",
     "text": []
    },
    {
     "name": "stdout",
     "output_type": "stream",
     "text": [
      "Iteration : 30 \n",
      " , Train Loss : 1.111997127532959 \n",
      ", Test Acc : 90.42681121826172 \n",
      "\n"
     ]
    },
    {
     "name": "stderr",
     "output_type": "stream",
     "text": []
    },
    {
     "name": "stdout",
     "output_type": "stream",
     "text": [
      "Iteration : 40 \n",
      " , Train Loss : 0.8151707053184509 \n",
      ", Test Acc : 92.17540740966797 \n",
      "\n"
     ]
    },
    {
     "name": "stderr",
     "output_type": "stream",
     "text": [
      "100%|██████████| 50/50 [00:15<00:00,  3.18it/s]\n",
      "  9%|▉         | 3/32 [00:52<08:07, 16.82s/it]"
     ]
    },
    {
     "name": "stdout",
     "output_type": "stream",
     "text": [
      "Iteration : 49 \n",
      " , Train Loss : 0.2926771938800812 \n",
      ", Test Acc : 93.16924285888672 \n",
      "\n"
     ]
    },
    {
     "name": "stderr",
     "output_type": "stream",
     "text": []
    },
    {
     "name": "stdout",
     "output_type": "stream",
     "text": [
      "Iteration : 0 \n",
      " , Train Loss : 30.818038940429688 \n",
      ", Test Acc : 41.38608169555664 \n",
      "\n"
     ]
    },
    {
     "name": "stderr",
     "output_type": "stream",
     "text": []
    },
    {
     "name": "stdout",
     "output_type": "stream",
     "text": [
      "Iteration : 10 \n",
      " , Train Loss : 6.650596618652344 \n",
      ", Test Acc : 84.64290618896484 \n",
      "\n"
     ]
    },
    {
     "name": "stderr",
     "output_type": "stream",
     "text": []
    },
    {
     "name": "stdout",
     "output_type": "stream",
     "text": [
      "Iteration : 20 \n",
      " , Train Loss : 3.266239881515503 \n",
      ", Test Acc : 90.13182830810547 \n",
      "\n"
     ]
    },
    {
     "name": "stderr",
     "output_type": "stream",
     "text": []
    },
    {
     "name": "stdout",
     "output_type": "stream",
     "text": [
      "Iteration : 30 \n",
      " , Train Loss : 1.2674496173858643 \n",
      ", Test Acc : 92.2324447631836 \n",
      "\n"
     ]
    },
    {
     "name": "stderr",
     "output_type": "stream",
     "text": []
    },
    {
     "name": "stdout",
     "output_type": "stream",
     "text": [
      "Iteration : 40 \n",
      " , Train Loss : 0.6763841509819031 \n",
      ", Test Acc : 94.66664123535156 \n",
      "\n"
     ]
    },
    {
     "name": "stderr",
     "output_type": "stream",
     "text": [
      "100%|██████████| 50/50 [00:15<00:00,  3.17it/s]\n",
      " 12%|█▎        | 4/32 [01:07<07:39, 16.41s/it]"
     ]
    },
    {
     "name": "stdout",
     "output_type": "stream",
     "text": [
      "Iteration : 49 \n",
      " , Train Loss : 0.3778547942638397 \n",
      ", Test Acc : 94.56697082519531 \n",
      "\n"
     ]
    },
    {
     "name": "stderr",
     "output_type": "stream",
     "text": []
    },
    {
     "name": "stdout",
     "output_type": "stream",
     "text": [
      "Iteration : 0 \n",
      " , Train Loss : 35.26097106933594 \n",
      ", Test Acc : 29.457040786743164 \n",
      "\n"
     ]
    },
    {
     "name": "stderr",
     "output_type": "stream",
     "text": []
    },
    {
     "name": "stdout",
     "output_type": "stream",
     "text": [
      "Iteration : 10 \n",
      " , Train Loss : 7.968413352966309 \n",
      ", Test Acc : 77.74705505371094 \n",
      "\n"
     ]
    },
    {
     "name": "stderr",
     "output_type": "stream",
     "text": []
    },
    {
     "name": "stdout",
     "output_type": "stream",
     "text": [
      "Iteration : 20 \n",
      " , Train Loss : 4.6050190925598145 \n",
      ", Test Acc : 85.2369155883789 \n",
      "\n"
     ]
    },
    {
     "name": "stderr",
     "output_type": "stream",
     "text": []
    },
    {
     "name": "stdout",
     "output_type": "stream",
     "text": [
      "Iteration : 30 \n",
      " , Train Loss : 2.468611717224121 \n",
      ", Test Acc : 89.99757385253906 \n",
      "\n"
     ]
    },
    {
     "name": "stderr",
     "output_type": "stream",
     "text": []
    },
    {
     "name": "stdout",
     "output_type": "stream",
     "text": [
      "Iteration : 40 \n",
      " , Train Loss : 0.7983015775680542 \n",
      ", Test Acc : 91.91094970703125 \n",
      "\n"
     ]
    },
    {
     "name": "stderr",
     "output_type": "stream",
     "text": [
      "100%|██████████| 50/50 [00:15<00:00,  3.17it/s]\n",
      " 16%|█▌        | 5/32 [01:23<07:17, 16.19s/it]"
     ]
    },
    {
     "name": "stdout",
     "output_type": "stream",
     "text": [
      "Iteration : 49 \n",
      " , Train Loss : 0.8657839298248291 \n",
      ", Test Acc : 93.23031616210938 \n",
      "\n"
     ]
    },
    {
     "name": "stderr",
     "output_type": "stream",
     "text": []
    },
    {
     "name": "stdout",
     "output_type": "stream",
     "text": [
      "Iteration : 0 \n",
      " , Train Loss : 30.516916275024414 \n",
      ", Test Acc : 23.25601577758789 \n",
      "\n"
     ]
    },
    {
     "name": "stderr",
     "output_type": "stream",
     "text": []
    },
    {
     "name": "stdout",
     "output_type": "stream",
     "text": [
      "Iteration : 10 \n",
      " , Train Loss : 9.333032608032227 \n",
      ", Test Acc : 68.90325927734375 \n",
      "\n"
     ]
    },
    {
     "name": "stderr",
     "output_type": "stream",
     "text": []
    },
    {
     "name": "stdout",
     "output_type": "stream",
     "text": [
      "Iteration : 20 \n",
      " , Train Loss : 7.008359909057617 \n",
      ", Test Acc : 84.33870697021484 \n",
      "\n"
     ]
    },
    {
     "name": "stderr",
     "output_type": "stream",
     "text": []
    },
    {
     "name": "stdout",
     "output_type": "stream",
     "text": [
      "Iteration : 30 \n",
      " , Train Loss : 1.8374418020248413 \n",
      ", Test Acc : 89.67205810546875 \n",
      "\n"
     ]
    },
    {
     "name": "stderr",
     "output_type": "stream",
     "text": []
    },
    {
     "name": "stdout",
     "output_type": "stream",
     "text": [
      "Iteration : 40 \n",
      " , Train Loss : 1.7665431499481201 \n",
      ", Test Acc : 91.33827209472656 \n",
      "\n"
     ]
    },
    {
     "name": "stderr",
     "output_type": "stream",
     "text": [
      "100%|██████████| 50/50 [00:15<00:00,  3.18it/s]\n",
      " 19%|█▉        | 6/32 [01:39<06:56, 16.02s/it]"
     ]
    },
    {
     "name": "stdout",
     "output_type": "stream",
     "text": [
      "Iteration : 49 \n",
      " , Train Loss : 0.443351149559021 \n",
      ", Test Acc : 91.8418197631836 \n",
      "\n"
     ]
    },
    {
     "name": "stderr",
     "output_type": "stream",
     "text": []
    },
    {
     "name": "stdout",
     "output_type": "stream",
     "text": [
      "Iteration : 0 \n",
      " , Train Loss : 27.242996215820312 \n",
      ", Test Acc : 38.77788543701172 \n",
      "\n"
     ]
    },
    {
     "name": "stderr",
     "output_type": "stream",
     "text": []
    },
    {
     "name": "stdout",
     "output_type": "stream",
     "text": [
      "Iteration : 10 \n",
      " , Train Loss : 12.042145729064941 \n",
      ", Test Acc : 82.96344757080078 \n",
      "\n"
     ]
    },
    {
     "name": "stderr",
     "output_type": "stream",
     "text": []
    },
    {
     "name": "stdout",
     "output_type": "stream",
     "text": [
      "Iteration : 20 \n",
      " , Train Loss : 2.024482250213623 \n",
      ", Test Acc : 87.41588592529297 \n",
      "\n"
     ]
    },
    {
     "name": "stderr",
     "output_type": "stream",
     "text": []
    },
    {
     "name": "stdout",
     "output_type": "stream",
     "text": [
      "Iteration : 30 \n",
      " , Train Loss : 1.6573280096054077 \n",
      ", Test Acc : 89.35978698730469 \n",
      "\n"
     ]
    },
    {
     "name": "stderr",
     "output_type": "stream",
     "text": []
    },
    {
     "name": "stdout",
     "output_type": "stream",
     "text": [
      "Iteration : 40 \n",
      " , Train Loss : 0.5033729672431946 \n",
      ", Test Acc : 90.97413635253906 \n",
      "\n"
     ]
    },
    {
     "name": "stderr",
     "output_type": "stream",
     "text": [
      "100%|██████████| 50/50 [00:15<00:00,  3.15it/s]\n",
      " 22%|██▏       | 7/32 [01:55<06:39, 15.97s/it]"
     ]
    },
    {
     "name": "stdout",
     "output_type": "stream",
     "text": [
      "Iteration : 49 \n",
      " , Train Loss : 0.5590364933013916 \n",
      ", Test Acc : 91.59868621826172 \n",
      "\n"
     ]
    },
    {
     "name": "stderr",
     "output_type": "stream",
     "text": []
    },
    {
     "name": "stdout",
     "output_type": "stream",
     "text": [
      "Iteration : 0 \n",
      " , Train Loss : 24.693584442138672 \n",
      ", Test Acc : 42.0146598815918 \n",
      "\n"
     ]
    },
    {
     "name": "stderr",
     "output_type": "stream",
     "text": []
    },
    {
     "name": "stdout",
     "output_type": "stream",
     "text": [
      "Iteration : 10 \n",
      " , Train Loss : 10.213240623474121 \n",
      ", Test Acc : 75.55597686767578 \n",
      "\n"
     ]
    },
    {
     "name": "stderr",
     "output_type": "stream",
     "text": []
    },
    {
     "name": "stdout",
     "output_type": "stream",
     "text": [
      "Iteration : 20 \n",
      " , Train Loss : 4.133439064025879 \n",
      ", Test Acc : 82.58607482910156 \n",
      "\n"
     ]
    },
    {
     "name": "stderr",
     "output_type": "stream",
     "text": []
    },
    {
     "name": "stdout",
     "output_type": "stream",
     "text": [
      "Iteration : 30 \n",
      " , Train Loss : 1.26424241065979 \n",
      ", Test Acc : 89.11665344238281 \n",
      "\n"
     ]
    },
    {
     "name": "stderr",
     "output_type": "stream",
     "text": []
    },
    {
     "name": "stdout",
     "output_type": "stream",
     "text": [
      "Iteration : 40 \n",
      " , Train Loss : 1.4837745428085327 \n",
      ", Test Acc : 90.87850189208984 \n",
      "\n"
     ]
    },
    {
     "name": "stderr",
     "output_type": "stream",
     "text": [
      "100%|██████████| 50/50 [00:16<00:00,  3.05it/s]\n",
      " 25%|██▌       | 8/32 [02:11<06:26, 16.12s/it]"
     ]
    },
    {
     "name": "stdout",
     "output_type": "stream",
     "text": [
      "Iteration : 49 \n",
      " , Train Loss : 0.45162564516067505 \n",
      ", Test Acc : 91.03924560546875 \n",
      "\n"
     ]
    },
    {
     "name": "stderr",
     "output_type": "stream",
     "text": []
    },
    {
     "name": "stdout",
     "output_type": "stream",
     "text": [
      "Iteration : 0 \n",
      " , Train Loss : 23.724178314208984 \n",
      ", Test Acc : 19.420055389404297 \n",
      "\n"
     ]
    },
    {
     "name": "stderr",
     "output_type": "stream",
     "text": []
    },
    {
     "name": "stdout",
     "output_type": "stream",
     "text": [
      "Iteration : 10 \n",
      " , Train Loss : 8.921066284179688 \n",
      ", Test Acc : 80.95846557617188 \n",
      "\n"
     ]
    },
    {
     "name": "stderr",
     "output_type": "stream",
     "text": []
    },
    {
     "name": "stdout",
     "output_type": "stream",
     "text": [
      "Iteration : 20 \n",
      " , Train Loss : 5.8202643394470215 \n",
      ", Test Acc : 85.59700012207031 \n",
      "\n"
     ]
    },
    {
     "name": "stderr",
     "output_type": "stream",
     "text": []
    },
    {
     "name": "stdout",
     "output_type": "stream",
     "text": [
      "Iteration : 30 \n",
      " , Train Loss : 1.9501302242279053 \n",
      ", Test Acc : 90.94764709472656 \n",
      "\n"
     ]
    },
    {
     "name": "stderr",
     "output_type": "stream",
     "text": []
    },
    {
     "name": "stdout",
     "output_type": "stream",
     "text": [
      "Iteration : 40 \n",
      " , Train Loss : 1.061132788658142 \n",
      ", Test Acc : 91.1734848022461 \n",
      "\n"
     ]
    },
    {
     "name": "stderr",
     "output_type": "stream",
     "text": [
      "100%|██████████| 50/50 [00:16<00:00,  3.09it/s]\n",
      " 28%|██▊       | 9/32 [02:27<06:11, 16.14s/it]"
     ]
    },
    {
     "name": "stdout",
     "output_type": "stream",
     "text": [
      "Iteration : 49 \n",
      " , Train Loss : 0.697250485420227 \n",
      ", Test Acc : 93.0177230834961 \n",
      "\n"
     ]
    },
    {
     "name": "stderr",
     "output_type": "stream",
     "text": []
    },
    {
     "name": "stdout",
     "output_type": "stream",
     "text": [
      "Iteration : 0 \n",
      " , Train Loss : 30.511754989624023 \n",
      ", Test Acc : 37.50634002685547 \n",
      "\n"
     ]
    },
    {
     "name": "stderr",
     "output_type": "stream",
     "text": []
    },
    {
     "name": "stdout",
     "output_type": "stream",
     "text": [
      "Iteration : 10 \n",
      " , Train Loss : 10.951386451721191 \n",
      ", Test Acc : 77.71247863769531 \n",
      "\n"
     ]
    },
    {
     "name": "stderr",
     "output_type": "stream",
     "text": []
    },
    {
     "name": "stdout",
     "output_type": "stream",
     "text": [
      "Iteration : 20 \n",
      " , Train Loss : 2.114656925201416 \n",
      ", Test Acc : 85.3498306274414 \n",
      "\n"
     ]
    },
    {
     "name": "stderr",
     "output_type": "stream",
     "text": []
    },
    {
     "name": "stdout",
     "output_type": "stream",
     "text": [
      "Iteration : 30 \n",
      " , Train Loss : 1.0520790815353394 \n",
      ", Test Acc : 89.78498840332031 \n",
      "\n"
     ]
    },
    {
     "name": "stderr",
     "output_type": "stream",
     "text": []
    },
    {
     "name": "stdout",
     "output_type": "stream",
     "text": [
      "Iteration : 40 \n",
      " , Train Loss : 0.732140302658081 \n",
      ", Test Acc : 92.58849334716797 \n",
      "\n"
     ]
    },
    {
     "name": "stderr",
     "output_type": "stream",
     "text": [
      "100%|██████████| 50/50 [00:16<00:00,  3.12it/s]\n",
      " 31%|███▏      | 10/32 [02:43<05:54, 16.11s/it]"
     ]
    },
    {
     "name": "stdout",
     "output_type": "stream",
     "text": [
      "Iteration : 49 \n",
      " , Train Loss : 0.20676450431346893 \n",
      ", Test Acc : 92.26297760009766 \n",
      "\n"
     ]
    },
    {
     "name": "stderr",
     "output_type": "stream",
     "text": []
    },
    {
     "name": "stdout",
     "output_type": "stream",
     "text": [
      "Iteration : 0 \n",
      " , Train Loss : 30.972923278808594 \n",
      ", Test Acc : 38.21845245361328 \n",
      "\n"
     ]
    },
    {
     "name": "stderr",
     "output_type": "stream",
     "text": []
    },
    {
     "name": "stdout",
     "output_type": "stream",
     "text": [
      "Iteration : 10 \n",
      " , Train Loss : 10.42754077911377 \n",
      ", Test Acc : 66.36419677734375 \n",
      "\n"
     ]
    },
    {
     "name": "stderr",
     "output_type": "stream",
     "text": []
    },
    {
     "name": "stdout",
     "output_type": "stream",
     "text": [
      "Iteration : 20 \n",
      " , Train Loss : 3.2890427112579346 \n",
      ", Test Acc : 82.97669982910156 \n",
      "\n"
     ]
    },
    {
     "name": "stderr",
     "output_type": "stream",
     "text": []
    },
    {
     "name": "stdout",
     "output_type": "stream",
     "text": [
      "Iteration : 30 \n",
      " , Train Loss : 0.8900904059410095 \n",
      ", Test Acc : 88.7565689086914 \n",
      "\n"
     ]
    },
    {
     "name": "stderr",
     "output_type": "stream",
     "text": []
    },
    {
     "name": "stdout",
     "output_type": "stream",
     "text": [
      "Iteration : 40 \n",
      " , Train Loss : 0.8628529906272888 \n",
      ", Test Acc : 90.35363006591797 \n",
      "\n"
     ]
    },
    {
     "name": "stderr",
     "output_type": "stream",
     "text": [
      "100%|██████████| 50/50 [00:16<00:00,  3.07it/s]\n",
      " 34%|███▍      | 11/32 [03:00<05:39, 16.16s/it]"
     ]
    },
    {
     "name": "stdout",
     "output_type": "stream",
     "text": [
      "Iteration : 49 \n",
      " , Train Loss : 0.381736695766449 \n",
      ", Test Acc : 91.16944885253906 \n",
      "\n"
     ]
    },
    {
     "name": "stderr",
     "output_type": "stream",
     "text": []
    },
    {
     "name": "stdout",
     "output_type": "stream",
     "text": [
      "Iteration : 0 \n",
      " , Train Loss : 33.97298812866211 \n",
      ", Test Acc : 37.69358444213867 \n",
      "\n"
     ]
    },
    {
     "name": "stderr",
     "output_type": "stream",
     "text": []
    },
    {
     "name": "stdout",
     "output_type": "stream",
     "text": [
      "Iteration : 10 \n",
      " , Train Loss : 11.309563636779785 \n",
      ", Test Acc : 74.97407531738281 \n",
      "\n"
     ]
    },
    {
     "name": "stderr",
     "output_type": "stream",
     "text": []
    },
    {
     "name": "stdout",
     "output_type": "stream",
     "text": [
      "Iteration : 20 \n",
      " , Train Loss : 3.148554563522339 \n",
      ", Test Acc : 89.77577209472656 \n",
      "\n"
     ]
    },
    {
     "name": "stderr",
     "output_type": "stream",
     "text": []
    },
    {
     "name": "stdout",
     "output_type": "stream",
     "text": [
      "Iteration : 30 \n",
      " , Train Loss : 1.2280439138412476 \n",
      ", Test Acc : 92.28429412841797 \n",
      "\n"
     ]
    },
    {
     "name": "stderr",
     "output_type": "stream",
     "text": []
    },
    {
     "name": "stdout",
     "output_type": "stream",
     "text": [
      "Iteration : 40 \n",
      " , Train Loss : 0.9488826990127563 \n",
      ", Test Acc : 93.52127075195312 \n",
      "\n"
     ]
    },
    {
     "name": "stderr",
     "output_type": "stream",
     "text": [
      "100%|██████████| 50/50 [00:16<00:00,  3.06it/s]\n",
      " 38%|███▊      | 12/32 [03:16<05:24, 16.22s/it]"
     ]
    },
    {
     "name": "stdout",
     "output_type": "stream",
     "text": [
      "Iteration : 49 \n",
      " , Train Loss : 0.7185647487640381 \n",
      ", Test Acc : 93.65148162841797 \n",
      "\n"
     ]
    },
    {
     "name": "stderr",
     "output_type": "stream",
     "text": []
    },
    {
     "name": "stdout",
     "output_type": "stream",
     "text": [
      "Iteration : 0 \n",
      " , Train Loss : 22.169206619262695 \n",
      ", Test Acc : 30.472206115722656 \n",
      "\n"
     ]
    },
    {
     "name": "stderr",
     "output_type": "stream",
     "text": []
    },
    {
     "name": "stdout",
     "output_type": "stream",
     "text": [
      "Iteration : 10 \n",
      " , Train Loss : 9.616070747375488 \n",
      ", Test Acc : 81.0276107788086 \n",
      "\n"
     ]
    },
    {
     "name": "stderr",
     "output_type": "stream",
     "text": []
    },
    {
     "name": "stdout",
     "output_type": "stream",
     "text": [
      "Iteration : 20 \n",
      " , Train Loss : 3.338977813720703 \n",
      ", Test Acc : 89.32926177978516 \n",
      "\n"
     ]
    },
    {
     "name": "stderr",
     "output_type": "stream",
     "text": []
    },
    {
     "name": "stdout",
     "output_type": "stream",
     "text": [
      "Iteration : 30 \n",
      " , Train Loss : 2.463779926300049 \n",
      ", Test Acc : 90.61808776855469 \n",
      "\n"
     ]
    },
    {
     "name": "stderr",
     "output_type": "stream",
     "text": []
    },
    {
     "name": "stdout",
     "output_type": "stream",
     "text": [
      "Iteration : 40 \n",
      " , Train Loss : 0.850493311882019 \n",
      ", Test Acc : 91.920166015625 \n",
      "\n"
     ]
    },
    {
     "name": "stderr",
     "output_type": "stream",
     "text": [
      "100%|██████████| 50/50 [00:16<00:00,  3.01it/s]\n",
      " 41%|████      | 13/32 [03:33<05:10, 16.34s/it]"
     ]
    },
    {
     "name": "stdout",
     "output_type": "stream",
     "text": [
      "Iteration : 49 \n",
      " , Train Loss : 0.5699601173400879 \n",
      ", Test Acc : 91.80724334716797 \n",
      "\n"
     ]
    },
    {
     "name": "stderr",
     "output_type": "stream",
     "text": []
    },
    {
     "name": "stdout",
     "output_type": "stream",
     "text": [
      "Iteration : 0 \n",
      " , Train Loss : 25.733901977539062 \n",
      ", Test Acc : 23.17765998840332 \n",
      "\n"
     ]
    },
    {
     "name": "stderr",
     "output_type": "stream",
     "text": []
    },
    {
     "name": "stdout",
     "output_type": "stream",
     "text": [
      "Iteration : 10 \n",
      " , Train Loss : 14.198567390441895 \n",
      ", Test Acc : 80.68883514404297 \n",
      "\n"
     ]
    },
    {
     "name": "stderr",
     "output_type": "stream",
     "text": []
    },
    {
     "name": "stdout",
     "output_type": "stream",
     "text": [
      "Iteration : 20 \n",
      " , Train Loss : 4.543600082397461 \n",
      ", Test Acc : 83.1455078125 \n",
      "\n"
     ]
    },
    {
     "name": "stderr",
     "output_type": "stream",
     "text": []
    },
    {
     "name": "stdout",
     "output_type": "stream",
     "text": [
      "Iteration : 30 \n",
      " , Train Loss : 1.3814752101898193 \n",
      ", Test Acc : 89.88465881347656 \n",
      "\n"
     ]
    },
    {
     "name": "stderr",
     "output_type": "stream",
     "text": []
    },
    {
     "name": "stdout",
     "output_type": "stream",
     "text": [
      "Iteration : 40 \n",
      " , Train Loss : 1.440469741821289 \n",
      ", Test Acc : 91.66378784179688 \n",
      "\n"
     ]
    },
    {
     "name": "stderr",
     "output_type": "stream",
     "text": [
      "100%|██████████| 50/50 [00:16<00:00,  3.03it/s]\n",
      " 44%|████▍     | 14/32 [03:49<04:54, 16.39s/it]"
     ]
    },
    {
     "name": "stdout",
     "output_type": "stream",
     "text": [
      "Iteration : 49 \n",
      " , Train Loss : 0.5700271129608154 \n",
      ", Test Acc : 92.54470825195312 \n",
      "\n"
     ]
    },
    {
     "name": "stderr",
     "output_type": "stream",
     "text": []
    },
    {
     "name": "stdout",
     "output_type": "stream",
     "text": [
      "Iteration : 0 \n",
      " , Train Loss : 29.719743728637695 \n",
      ", Test Acc : 35.07616424560547 \n",
      "\n"
     ]
    },
    {
     "name": "stderr",
     "output_type": "stream",
     "text": []
    },
    {
     "name": "stdout",
     "output_type": "stream",
     "text": [
      "Iteration : 10 \n",
      " , Train Loss : 9.375974655151367 \n",
      ", Test Acc : 76.63624572753906 \n",
      "\n"
     ]
    },
    {
     "name": "stderr",
     "output_type": "stream",
     "text": []
    },
    {
     "name": "stdout",
     "output_type": "stream",
     "text": [
      "Iteration : 20 \n",
      " , Train Loss : 2.310260534286499 \n",
      ", Test Acc : 87.79728698730469 \n",
      "\n"
     ]
    },
    {
     "name": "stderr",
     "output_type": "stream",
     "text": []
    },
    {
     "name": "stdout",
     "output_type": "stream",
     "text": [
      "Iteration : 30 \n",
      " , Train Loss : 1.314182996749878 \n",
      ", Test Acc : 87.55415344238281 \n",
      "\n"
     ]
    },
    {
     "name": "stderr",
     "output_type": "stream",
     "text": []
    },
    {
     "name": "stdout",
     "output_type": "stream",
     "text": [
      "Iteration : 40 \n",
      " , Train Loss : 0.6634061336517334 \n",
      ", Test Acc : 90.52245330810547 \n",
      "\n"
     ]
    },
    {
     "name": "stderr",
     "output_type": "stream",
     "text": [
      "100%|██████████| 50/50 [00:16<00:00,  2.98it/s]\n",
      " 47%|████▋     | 15/32 [04:06<04:40, 16.51s/it]"
     ]
    },
    {
     "name": "stdout",
     "output_type": "stream",
     "text": [
      "Iteration : 49 \n",
      " , Train Loss : 0.3527931272983551 \n",
      ", Test Acc : 90.73101043701172 \n",
      "\n"
     ]
    },
    {
     "name": "stderr",
     "output_type": "stream",
     "text": []
    },
    {
     "name": "stdout",
     "output_type": "stream",
     "text": [
      "Iteration : 0 \n",
      " , Train Loss : 30.458248138427734 \n",
      ", Test Acc : 30.936002731323242 \n",
      "\n"
     ]
    },
    {
     "name": "stderr",
     "output_type": "stream",
     "text": []
    },
    {
     "name": "stdout",
     "output_type": "stream",
     "text": [
      "Iteration : 10 \n",
      " , Train Loss : 14.334659576416016 \n",
      ", Test Acc : 70.54410552978516 \n",
      "\n"
     ]
    },
    {
     "name": "stderr",
     "output_type": "stream",
     "text": []
    },
    {
     "name": "stdout",
     "output_type": "stream",
     "text": [
      "Iteration : 20 \n",
      " , Train Loss : 3.3295066356658936 \n",
      ", Test Acc : 86.03141021728516 \n",
      "\n"
     ]
    },
    {
     "name": "stderr",
     "output_type": "stream",
     "text": []
    },
    {
     "name": "stdout",
     "output_type": "stream",
     "text": [
      "Iteration : 30 \n",
      " , Train Loss : 1.7330418825149536 \n",
      ", Test Acc : 90.65265655517578 \n",
      "\n"
     ]
    },
    {
     "name": "stderr",
     "output_type": "stream",
     "text": []
    },
    {
     "name": "stdout",
     "output_type": "stream",
     "text": [
      "Iteration : 40 \n",
      " , Train Loss : 0.6370010375976562 \n",
      ", Test Acc : 92.77458953857422 \n",
      "\n"
     ]
    },
    {
     "name": "stderr",
     "output_type": "stream",
     "text": [
      "100%|██████████| 50/50 [00:16<00:00,  3.00it/s]\n",
      " 50%|█████     | 16/32 [04:23<04:24, 16.56s/it]"
     ]
    },
    {
     "name": "stdout",
     "output_type": "stream",
     "text": [
      "Iteration : 49 \n",
      " , Train Loss : 0.5972536206245422 \n",
      ", Test Acc : 94.1590576171875 \n",
      "\n"
     ]
    },
    {
     "name": "stderr",
     "output_type": "stream",
     "text": []
    },
    {
     "name": "stdout",
     "output_type": "stream",
     "text": [
      "Iteration : 0 \n",
      " , Train Loss : 29.472545623779297 \n",
      ", Test Acc : 22.3313045501709 \n",
      "\n"
     ]
    },
    {
     "name": "stderr",
     "output_type": "stream",
     "text": []
    },
    {
     "name": "stdout",
     "output_type": "stream",
     "text": [
      "Iteration : 10 \n",
      " , Train Loss : 14.859447479248047 \n",
      ", Test Acc : 71.46766662597656 \n",
      "\n"
     ]
    },
    {
     "name": "stderr",
     "output_type": "stream",
     "text": []
    },
    {
     "name": "stdout",
     "output_type": "stream",
     "text": [
      "Iteration : 20 \n",
      " , Train Loss : 5.275289058685303 \n",
      ", Test Acc : 84.33870697021484 \n",
      "\n"
     ]
    },
    {
     "name": "stderr",
     "output_type": "stream",
     "text": []
    },
    {
     "name": "stdout",
     "output_type": "stream",
     "text": [
      "Iteration : 30 \n",
      " , Train Loss : 1.5288817882537842 \n",
      ", Test Acc : 90.72179412841797 \n",
      "\n"
     ]
    },
    {
     "name": "stderr",
     "output_type": "stream",
     "text": []
    },
    {
     "name": "stdout",
     "output_type": "stream",
     "text": [
      "Iteration : 40 \n",
      " , Train Loss : 1.0096545219421387 \n",
      ", Test Acc : 92.49688720703125 \n",
      "\n"
     ]
    },
    {
     "name": "stderr",
     "output_type": "stream",
     "text": [
      "100%|██████████| 50/50 [00:16<00:00,  3.02it/s]\n",
      " 53%|█████▎    | 17/32 [04:39<04:08, 16.56s/it]"
     ]
    },
    {
     "name": "stdout",
     "output_type": "stream",
     "text": [
      "Iteration : 49 \n",
      " , Train Loss : 0.9474054574966431 \n",
      ", Test Acc : 92.72273254394531 \n",
      "\n"
     ]
    },
    {
     "name": "stderr",
     "output_type": "stream",
     "text": []
    },
    {
     "name": "stdout",
     "output_type": "stream",
     "text": [
      "Iteration : 0 \n",
      " , Train Loss : 35.2782096862793 \n",
      ", Test Acc : 48.45478439331055 \n",
      "\n"
     ]
    },
    {
     "name": "stderr",
     "output_type": "stream",
     "text": []
    },
    {
     "name": "stdout",
     "output_type": "stream",
     "text": [
      "Iteration : 10 \n",
      " , Train Loss : 10.125846862792969 \n",
      ", Test Acc : 77.78968811035156 \n",
      "\n"
     ]
    },
    {
     "name": "stderr",
     "output_type": "stream",
     "text": []
    },
    {
     "name": "stdout",
     "output_type": "stream",
     "text": [
      "Iteration : 20 \n",
      " , Train Loss : 2.491344928741455 \n",
      ", Test Acc : 86.8074722290039 \n",
      "\n"
     ]
    },
    {
     "name": "stderr",
     "output_type": "stream",
     "text": []
    },
    {
     "name": "stdout",
     "output_type": "stream",
     "text": [
      "Iteration : 30 \n",
      " , Train Loss : 1.3103411197662354 \n",
      ", Test Acc : 90.13585662841797 \n",
      "\n"
     ]
    },
    {
     "name": "stderr",
     "output_type": "stream",
     "text": []
    },
    {
     "name": "stdout",
     "output_type": "stream",
     "text": [
      "Iteration : 40 \n",
      " , Train Loss : 1.0006017684936523 \n",
      ", Test Acc : 92.37071990966797 \n",
      "\n"
     ]
    },
    {
     "name": "stderr",
     "output_type": "stream",
     "text": [
      "100%|██████████| 50/50 [00:16<00:00,  2.98it/s]\n",
      " 56%|█████▋    | 18/32 [04:56<03:52, 16.63s/it]"
     ]
    },
    {
     "name": "stdout",
     "output_type": "stream",
     "text": [
      "Iteration : 49 \n",
      " , Train Loss : 0.4722249507904053 \n",
      ", Test Acc : 93.069580078125 \n",
      "\n"
     ]
    },
    {
     "name": "stderr",
     "output_type": "stream",
     "text": []
    },
    {
     "name": "stdout",
     "output_type": "stream",
     "text": [
      "Iteration : 0 \n",
      " , Train Loss : 37.622249603271484 \n",
      ", Test Acc : 37.667083740234375 \n",
      "\n"
     ]
    },
    {
     "name": "stderr",
     "output_type": "stream",
     "text": []
    },
    {
     "name": "stdout",
     "output_type": "stream",
     "text": [
      "Iteration : 10 \n",
      " , Train Loss : 11.02817440032959 \n",
      ", Test Acc : 70.59481048583984 \n",
      "\n"
     ]
    },
    {
     "name": "stderr",
     "output_type": "stream",
     "text": []
    },
    {
     "name": "stdout",
     "output_type": "stream",
     "text": [
      "Iteration : 20 \n",
      " , Train Loss : 3.358163833618164 \n",
      ", Test Acc : 85.44547271728516 \n",
      "\n"
     ]
    },
    {
     "name": "stderr",
     "output_type": "stream",
     "text": []
    },
    {
     "name": "stdout",
     "output_type": "stream",
     "text": [
      "Iteration : 30 \n",
      " , Train Loss : 1.3385587930679321 \n",
      ", Test Acc : 90.9781723022461 \n",
      "\n"
     ]
    },
    {
     "name": "stderr",
     "output_type": "stream",
     "text": []
    },
    {
     "name": "stdout",
     "output_type": "stream",
     "text": [
      "Iteration : 40 \n",
      " , Train Loss : 1.1067789793014526 \n",
      ", Test Acc : 92.201904296875 \n",
      "\n"
     ]
    },
    {
     "name": "stderr",
     "output_type": "stream",
     "text": [
      "100%|██████████| 50/50 [00:16<00:00,  2.98it/s]\n",
      " 59%|█████▉    | 19/32 [05:13<03:36, 16.69s/it]"
     ]
    },
    {
     "name": "stdout",
     "output_type": "stream",
     "text": [
      "Iteration : 49 \n",
      " , Train Loss : 0.35387322306632996 \n",
      ", Test Acc : 92.34939575195312 \n",
      "\n"
     ]
    },
    {
     "name": "stderr",
     "output_type": "stream",
     "text": []
    },
    {
     "name": "stdout",
     "output_type": "stream",
     "text": [
      "Iteration : 0 \n",
      " , Train Loss : 22.799325942993164 \n",
      ", Test Acc : 37.53687286376953 \n",
      "\n"
     ]
    },
    {
     "name": "stderr",
     "output_type": "stream",
     "text": []
    },
    {
     "name": "stdout",
     "output_type": "stream",
     "text": [
      "Iteration : 10 \n",
      " , Train Loss : 15.100811004638672 \n",
      ", Test Acc : 70.79127502441406 \n",
      "\n"
     ]
    },
    {
     "name": "stderr",
     "output_type": "stream",
     "text": []
    },
    {
     "name": "stdout",
     "output_type": "stream",
     "text": [
      "Iteration : 20 \n",
      " , Train Loss : 2.9901037216186523 \n",
      ", Test Acc : 87.9753189086914 \n",
      "\n"
     ]
    },
    {
     "name": "stderr",
     "output_type": "stream",
     "text": []
    },
    {
     "name": "stdout",
     "output_type": "stream",
     "text": [
      "Iteration : 30 \n",
      " , Train Loss : 1.5035806894302368 \n",
      ", Test Acc : 90.14507293701172 \n",
      "\n"
     ]
    },
    {
     "name": "stderr",
     "output_type": "stream",
     "text": []
    },
    {
     "name": "stdout",
     "output_type": "stream",
     "text": [
      "Iteration : 40 \n",
      " , Train Loss : 1.0431963205337524 \n",
      ", Test Acc : 91.41661834716797 \n",
      "\n"
     ]
    },
    {
     "name": "stderr",
     "output_type": "stream",
     "text": [
      "100%|██████████| 50/50 [00:17<00:00,  2.88it/s]\n",
      " 62%|██████▎   | 20/32 [05:30<03:22, 16.89s/it]"
     ]
    },
    {
     "name": "stdout",
     "output_type": "stream",
     "text": [
      "Iteration : 49 \n",
      " , Train Loss : 0.3644329607486725 \n",
      ", Test Acc : 92.24972534179688 \n",
      "\n"
     ]
    },
    {
     "name": "stderr",
     "output_type": "stream",
     "text": []
    },
    {
     "name": "stdout",
     "output_type": "stream",
     "text": [
      "Iteration : 0 \n",
      " , Train Loss : 35.563716888427734 \n",
      ", Test Acc : 29.76931381225586 \n",
      "\n"
     ]
    },
    {
     "name": "stderr",
     "output_type": "stream",
     "text": []
    },
    {
     "name": "stdout",
     "output_type": "stream",
     "text": [
      "Iteration : 10 \n",
      " , Train Loss : 12.439555168151855 \n",
      ", Test Acc : 75.35951232910156 \n",
      "\n"
     ]
    },
    {
     "name": "stderr",
     "output_type": "stream",
     "text": []
    },
    {
     "name": "stdout",
     "output_type": "stream",
     "text": [
      "Iteration : 20 \n",
      " , Train Loss : 1.8136310577392578 \n",
      ", Test Acc : 86.56952667236328 \n",
      "\n"
     ]
    },
    {
     "name": "stderr",
     "output_type": "stream",
     "text": []
    },
    {
     "name": "stdout",
     "output_type": "stream",
     "text": [
      "Iteration : 30 \n",
      " , Train Loss : 1.7498838901519775 \n",
      ", Test Acc : 89.16447448730469 \n",
      "\n"
     ]
    },
    {
     "name": "stderr",
     "output_type": "stream",
     "text": []
    },
    {
     "name": "stdout",
     "output_type": "stream",
     "text": [
      "Iteration : 40 \n",
      " , Train Loss : 0.6068224906921387 \n",
      ", Test Acc : 91.138916015625 \n",
      "\n"
     ]
    },
    {
     "name": "stderr",
     "output_type": "stream",
     "text": [
      "100%|██████████| 50/50 [00:17<00:00,  2.89it/s]\n",
      " 66%|██████▌   | 21/32 [05:47<03:07, 17.01s/it]"
     ]
    },
    {
     "name": "stdout",
     "output_type": "stream",
     "text": [
      "Iteration : 49 \n",
      " , Train Loss : 0.31698018312454224 \n",
      ", Test Acc : 91.48172760009766 \n",
      "\n"
     ]
    },
    {
     "name": "stderr",
     "output_type": "stream",
     "text": []
    },
    {
     "name": "stdout",
     "output_type": "stream",
     "text": [
      "Iteration : 0 \n",
      " , Train Loss : 29.63682746887207 \n",
      ", Test Acc : 44.56178283691406 \n",
      "\n"
     ]
    },
    {
     "name": "stderr",
     "output_type": "stream",
     "text": []
    },
    {
     "name": "stdout",
     "output_type": "stream",
     "text": [
      "Iteration : 10 \n",
      " , Train Loss : 11.873008728027344 \n",
      ", Test Acc : 78.60147094726562 \n",
      "\n"
     ]
    },
    {
     "name": "stderr",
     "output_type": "stream",
     "text": []
    },
    {
     "name": "stdout",
     "output_type": "stream",
     "text": [
      "Iteration : 20 \n",
      " , Train Loss : 3.099485397338867 \n",
      ", Test Acc : 87.38016510009766 \n",
      "\n"
     ]
    },
    {
     "name": "stderr",
     "output_type": "stream",
     "text": []
    },
    {
     "name": "stdout",
     "output_type": "stream",
     "text": [
      "Iteration : 30 \n",
      " , Train Loss : 2.334475517272949 \n",
      ", Test Acc : 89.31600189208984 \n",
      "\n"
     ]
    },
    {
     "name": "stderr",
     "output_type": "stream",
     "text": []
    },
    {
     "name": "stdout",
     "output_type": "stream",
     "text": [
      "Iteration : 40 \n",
      " , Train Loss : 1.058392882347107 \n",
      ", Test Acc : 91.3901138305664 \n",
      "\n"
     ]
    },
    {
     "name": "stderr",
     "output_type": "stream",
     "text": [
      "100%|██████████| 50/50 [00:16<00:00,  2.95it/s]\n",
      " 69%|██████▉   | 22/32 [06:04<02:49, 16.99s/it]"
     ]
    },
    {
     "name": "stdout",
     "output_type": "stream",
     "text": [
      "Iteration : 49 \n",
      " , Train Loss : 0.33377841114997864 \n",
      ", Test Acc : 92.7573013305664 \n",
      "\n"
     ]
    },
    {
     "name": "stderr",
     "output_type": "stream",
     "text": []
    },
    {
     "name": "stdout",
     "output_type": "stream",
     "text": [
      "Iteration : 0 \n",
      " , Train Loss : 30.928892135620117 \n",
      ", Test Acc : 26.02495765686035 \n",
      "\n"
     ]
    },
    {
     "name": "stderr",
     "output_type": "stream",
     "text": []
    },
    {
     "name": "stdout",
     "output_type": "stream",
     "text": [
      "Iteration : 10 \n",
      " , Train Loss : 16.404281616210938 \n",
      ", Test Acc : 68.07418823242188 \n",
      "\n"
     ]
    },
    {
     "name": "stderr",
     "output_type": "stream",
     "text": []
    },
    {
     "name": "stdout",
     "output_type": "stream",
     "text": [
      "Iteration : 20 \n",
      " , Train Loss : 5.18757438659668 \n",
      ", Test Acc : 81.7783203125 \n",
      "\n"
     ]
    },
    {
     "name": "stderr",
     "output_type": "stream",
     "text": []
    },
    {
     "name": "stdout",
     "output_type": "stream",
     "text": [
      "Iteration : 30 \n",
      " , Train Loss : 1.0388504266738892 \n",
      ", Test Acc : 89.99757385253906 \n",
      "\n"
     ]
    },
    {
     "name": "stderr",
     "output_type": "stream",
     "text": []
    },
    {
     "name": "stdout",
     "output_type": "stream",
     "text": [
      "Iteration : 40 \n",
      " , Train Loss : 0.9917730689048767 \n",
      ", Test Acc : 91.20806121826172 \n",
      "\n"
     ]
    },
    {
     "name": "stderr",
     "output_type": "stream",
     "text": [
      "100%|██████████| 50/50 [00:16<00:00,  2.98it/s]\n",
      " 72%|███████▏  | 23/32 [06:21<02:32, 16.93s/it]"
     ]
    },
    {
     "name": "stdout",
     "output_type": "stream",
     "text": [
      "Iteration : 49 \n",
      " , Train Loss : 0.42748528718948364 \n",
      ", Test Acc : 92.87023162841797 \n",
      "\n"
     ]
    },
    {
     "name": "stderr",
     "output_type": "stream",
     "text": []
    },
    {
     "name": "stdout",
     "output_type": "stream",
     "text": [
      "Iteration : 0 \n",
      " , Train Loss : 34.327938079833984 \n",
      ", Test Acc : 40.48384475708008 \n",
      "\n"
     ]
    },
    {
     "name": "stderr",
     "output_type": "stream",
     "text": []
    },
    {
     "name": "stdout",
     "output_type": "stream",
     "text": [
      "Iteration : 10 \n",
      " , Train Loss : 10.93166446685791 \n",
      ", Test Acc : 72.10948944091797 \n",
      "\n"
     ]
    },
    {
     "name": "stderr",
     "output_type": "stream",
     "text": []
    },
    {
     "name": "stdout",
     "output_type": "stream",
     "text": [
      "Iteration : 20 \n",
      " , Train Loss : 3.3857204914093018 \n",
      ", Test Acc : 85.99684143066406 \n",
      "\n"
     ]
    },
    {
     "name": "stderr",
     "output_type": "stream",
     "text": []
    },
    {
     "name": "stdout",
     "output_type": "stream",
     "text": [
      "Iteration : 30 \n",
      " , Train Loss : 1.4827359914779663 \n",
      ", Test Acc : 89.03427124023438 \n",
      "\n"
     ]
    },
    {
     "name": "stderr",
     "output_type": "stream",
     "text": []
    },
    {
     "name": "stdout",
     "output_type": "stream",
     "text": [
      "Iteration : 40 \n",
      " , Train Loss : 0.6390799880027771 \n",
      ", Test Acc : 92.60578155517578 \n",
      "\n"
     ]
    },
    {
     "name": "stderr",
     "output_type": "stream",
     "text": [
      "100%|██████████| 50/50 [00:16<00:00,  2.96it/s]\n",
      " 75%|███████▌  | 24/32 [06:38<02:15, 16.92s/it]"
     ]
    },
    {
     "name": "stdout",
     "output_type": "stream",
     "text": [
      "Iteration : 49 \n",
      " , Train Loss : 0.5095298886299133 \n",
      ", Test Acc : 92.01580810546875 \n",
      "\n"
     ]
    },
    {
     "name": "stderr",
     "output_type": "stream",
     "text": []
    },
    {
     "name": "stdout",
     "output_type": "stream",
     "text": [
      "Iteration : 0 \n",
      " , Train Loss : 29.05426597595215 \n",
      ", Test Acc : 38.856239318847656 \n",
      "\n"
     ]
    },
    {
     "name": "stderr",
     "output_type": "stream",
     "text": []
    },
    {
     "name": "stdout",
     "output_type": "stream",
     "text": [
      "Iteration : 10 \n",
      " , Train Loss : 11.32693862915039 \n",
      ", Test Acc : 73.06877136230469 \n",
      "\n"
     ]
    },
    {
     "name": "stderr",
     "output_type": "stream",
     "text": []
    },
    {
     "name": "stdout",
     "output_type": "stream",
     "text": [
      "Iteration : 20 \n",
      " , Train Loss : 5.192742347717285 \n",
      ", Test Acc : 86.2002182006836 \n",
      "\n"
     ]
    },
    {
     "name": "stderr",
     "output_type": "stream",
     "text": []
    },
    {
     "name": "stdout",
     "output_type": "stream",
     "text": [
      "Iteration : 30 \n",
      " , Train Loss : 1.6473535299301147 \n",
      ", Test Acc : 91.12969970703125 \n",
      "\n"
     ]
    },
    {
     "name": "stderr",
     "output_type": "stream",
     "text": []
    },
    {
     "name": "stdout",
     "output_type": "stream",
     "text": [
      "Iteration : 40 \n",
      " , Train Loss : 0.7875978946685791 \n",
      ", Test Acc : 92.33615112304688 \n",
      "\n"
     ]
    },
    {
     "name": "stderr",
     "output_type": "stream",
     "text": [
      "100%|██████████| 50/50 [00:16<00:00,  2.96it/s]\n",
      " 78%|███████▊  | 25/32 [06:55<01:58, 16.91s/it]"
     ]
    },
    {
     "name": "stdout",
     "output_type": "stream",
     "text": [
      "Iteration : 49 \n",
      " , Train Loss : 0.3616253137588501 \n",
      ", Test Acc : 92.92208862304688 \n",
      "\n"
     ]
    },
    {
     "name": "stderr",
     "output_type": "stream",
     "text": []
    },
    {
     "name": "stdout",
     "output_type": "stream",
     "text": [
      "Iteration : 0 \n",
      " , Train Loss : 29.764774322509766 \n",
      ", Test Acc : 31.17106819152832 \n",
      "\n"
     ]
    },
    {
     "name": "stderr",
     "output_type": "stream",
     "text": []
    },
    {
     "name": "stdout",
     "output_type": "stream",
     "text": [
      "Iteration : 10 \n",
      " , Train Loss : 7.594303131103516 \n",
      ", Test Acc : 72.28348541259766 \n",
      "\n"
     ]
    },
    {
     "name": "stderr",
     "output_type": "stream",
     "text": []
    },
    {
     "name": "stdout",
     "output_type": "stream",
     "text": [
      "Iteration : 20 \n",
      " , Train Loss : 3.238492250442505 \n",
      ", Test Acc : 84.06100463867188 \n",
      "\n"
     ]
    },
    {
     "name": "stderr",
     "output_type": "stream",
     "text": []
    },
    {
     "name": "stdout",
     "output_type": "stream",
     "text": [
      "Iteration : 30 \n",
      " , Train Loss : 1.4408913850784302 \n",
      ", Test Acc : 90.85199737548828 \n",
      "\n"
     ]
    },
    {
     "name": "stderr",
     "output_type": "stream",
     "text": []
    },
    {
     "name": "stdout",
     "output_type": "stream",
     "text": [
      "Iteration : 40 \n",
      " , Train Loss : 0.5904083251953125 \n",
      ", Test Acc : 93.02175903320312 \n",
      "\n"
     ]
    },
    {
     "name": "stderr",
     "output_type": "stream",
     "text": [
      "100%|██████████| 50/50 [00:16<00:00,  2.94it/s]\n",
      " 81%|████████▏ | 26/32 [07:12<01:41, 16.93s/it]"
     ]
    },
    {
     "name": "stdout",
     "output_type": "stream",
     "text": [
      "Iteration : 49 \n",
      " , Train Loss : 0.2629304826259613 \n",
      ", Test Acc : 93.90267944335938 \n",
      "\n"
     ]
    },
    {
     "name": "stderr",
     "output_type": "stream",
     "text": []
    },
    {
     "name": "stdout",
     "output_type": "stream",
     "text": [
      "Iteration : 0 \n",
      " , Train Loss : 35.539031982421875 \n",
      ", Test Acc : 41.949554443359375 \n",
      "\n"
     ]
    },
    {
     "name": "stderr",
     "output_type": "stream",
     "text": []
    },
    {
     "name": "stdout",
     "output_type": "stream",
     "text": [
      "Iteration : 10 \n",
      " , Train Loss : 9.805353164672852 \n",
      ", Test Acc : 75.61589813232422 \n",
      "\n"
     ]
    },
    {
     "name": "stderr",
     "output_type": "stream",
     "text": []
    },
    {
     "name": "stdout",
     "output_type": "stream",
     "text": [
      "Iteration : 20 \n",
      " , Train Loss : 3.5133166313171387 \n",
      ", Test Acc : 87.40666198730469 \n",
      "\n"
     ]
    },
    {
     "name": "stderr",
     "output_type": "stream",
     "text": []
    },
    {
     "name": "stdout",
     "output_type": "stream",
     "text": [
      "Iteration : 30 \n",
      " , Train Loss : 1.5334112644195557 \n",
      ", Test Acc : 89.72391510009766 \n",
      "\n"
     ]
    },
    {
     "name": "stderr",
     "output_type": "stream",
     "text": []
    },
    {
     "name": "stdout",
     "output_type": "stream",
     "text": [
      "Iteration : 40 \n",
      " , Train Loss : 1.4822158813476562 \n",
      ", Test Acc : 90.89579010009766 \n",
      "\n"
     ]
    },
    {
     "name": "stderr",
     "output_type": "stream",
     "text": [
      "100%|██████████| 50/50 [00:16<00:00,  2.94it/s]\n",
      " 84%|████████▍ | 27/32 [07:29<01:24, 16.95s/it]"
     ]
    },
    {
     "name": "stdout",
     "output_type": "stream",
     "text": [
      "Iteration : 49 \n",
      " , Train Loss : 0.6228773593902588 \n",
      ", Test Acc : 91.2558822631836 \n",
      "\n"
     ]
    },
    {
     "name": "stderr",
     "output_type": "stream",
     "text": []
    },
    {
     "name": "stdout",
     "output_type": "stream",
     "text": [
      "Iteration : 0 \n",
      " , Train Loss : 41.644283294677734 \n",
      ", Test Acc : 22.32611846923828 \n",
      "\n"
     ]
    },
    {
     "name": "stderr",
     "output_type": "stream",
     "text": []
    },
    {
     "name": "stdout",
     "output_type": "stream",
     "text": [
      "Iteration : 10 \n",
      " , Train Loss : 22.498414993286133 \n",
      ", Test Acc : 66.5208969116211 \n",
      "\n"
     ]
    },
    {
     "name": "stderr",
     "output_type": "stream",
     "text": []
    },
    {
     "name": "stdout",
     "output_type": "stream",
     "text": [
      "Iteration : 20 \n",
      " , Train Loss : 4.464673042297363 \n",
      ", Test Acc : 84.82093811035156 \n",
      "\n"
     ]
    },
    {
     "name": "stderr",
     "output_type": "stream",
     "text": []
    },
    {
     "name": "stdout",
     "output_type": "stream",
     "text": [
      "Iteration : 30 \n",
      " , Train Loss : 2.212244749069214 \n",
      ", Test Acc : 90.26203155517578 \n",
      "\n"
     ]
    },
    {
     "name": "stderr",
     "output_type": "stream",
     "text": []
    },
    {
     "name": "stdout",
     "output_type": "stream",
     "text": [
      "Iteration : 40 \n",
      " , Train Loss : 1.0185352563858032 \n",
      ", Test Acc : 91.22130584716797 \n",
      "\n"
     ]
    },
    {
     "name": "stderr",
     "output_type": "stream",
     "text": [
      "100%|██████████| 50/50 [00:17<00:00,  2.90it/s]\n",
      " 88%|████████▊ | 28/32 [07:46<01:08, 17.05s/it]"
     ]
    },
    {
     "name": "stdout",
     "output_type": "stream",
     "text": [
      "Iteration : 49 \n",
      " , Train Loss : 0.6120910048484802 \n",
      ", Test Acc : 91.7594223022461 \n",
      "\n"
     ]
    },
    {
     "name": "stderr",
     "output_type": "stream",
     "text": []
    },
    {
     "name": "stdout",
     "output_type": "stream",
     "text": [
      "Iteration : 0 \n",
      " , Train Loss : 36.799983978271484 \n",
      ", Test Acc : 28.65850830078125 \n",
      "\n"
     ]
    },
    {
     "name": "stderr",
     "output_type": "stream",
     "text": []
    },
    {
     "name": "stdout",
     "output_type": "stream",
     "text": [
      "Iteration : 10 \n",
      " , Train Loss : 8.884716987609863 \n",
      ", Test Acc : 64.05213165283203 \n",
      "\n"
     ]
    },
    {
     "name": "stderr",
     "output_type": "stream",
     "text": []
    },
    {
     "name": "stdout",
     "output_type": "stream",
     "text": [
      "Iteration : 20 \n",
      " , Train Loss : 3.39878249168396 \n",
      ", Test Acc : 86.43009948730469 \n",
      "\n"
     ]
    },
    {
     "name": "stderr",
     "output_type": "stream",
     "text": []
    },
    {
     "name": "stdout",
     "output_type": "stream",
     "text": [
      "Iteration : 30 \n",
      " , Train Loss : 1.5886340141296387 \n",
      ", Test Acc : 90.834716796875 \n",
      "\n"
     ]
    },
    {
     "name": "stderr",
     "output_type": "stream",
     "text": []
    },
    {
     "name": "stdout",
     "output_type": "stream",
     "text": [
      "Iteration : 40 \n",
      " , Train Loss : 1.0456222295761108 \n",
      ", Test Acc : 92.33210754394531 \n",
      "\n"
     ]
    },
    {
     "name": "stderr",
     "output_type": "stream",
     "text": [
      "100%|██████████| 50/50 [00:17<00:00,  2.90it/s]\n",
      " 91%|█████████ | 29/32 [08:03<00:51, 17.11s/it]"
     ]
    },
    {
     "name": "stdout",
     "output_type": "stream",
     "text": [
      "Iteration : 49 \n",
      " , Train Loss : 0.6050530076026917 \n",
      ", Test Acc : 93.264892578125 \n",
      "\n"
     ]
    },
    {
     "name": "stderr",
     "output_type": "stream",
     "text": []
    },
    {
     "name": "stdout",
     "output_type": "stream",
     "text": [
      "Iteration : 0 \n",
      " , Train Loss : 26.50301742553711 \n",
      ", Test Acc : 41.06056213378906 \n",
      "\n"
     ]
    },
    {
     "name": "stderr",
     "output_type": "stream",
     "text": []
    },
    {
     "name": "stdout",
     "output_type": "stream",
     "text": [
      "Iteration : 10 \n",
      " , Train Loss : 17.844388961791992 \n",
      ", Test Acc : 74.18878936767578 \n",
      "\n"
     ]
    },
    {
     "name": "stderr",
     "output_type": "stream",
     "text": []
    },
    {
     "name": "stdout",
     "output_type": "stream",
     "text": [
      "Iteration : 20 \n",
      " , Train Loss : 4.717982769012451 \n",
      ", Test Acc : 86.52574157714844 \n",
      "\n"
     ]
    },
    {
     "name": "stderr",
     "output_type": "stream",
     "text": []
    },
    {
     "name": "stdout",
     "output_type": "stream",
     "text": [
      "Iteration : 30 \n",
      " , Train Loss : 1.4859853982925415 \n",
      ", Test Acc : 90.09321594238281 \n",
      "\n"
     ]
    },
    {
     "name": "stderr",
     "output_type": "stream",
     "text": []
    },
    {
     "name": "stdout",
     "output_type": "stream",
     "text": [
      "Iteration : 40 \n",
      " , Train Loss : 1.1841453313827515 \n",
      ", Test Acc : 93.5385513305664 \n",
      "\n"
     ]
    },
    {
     "name": "stderr",
     "output_type": "stream",
     "text": [
      "100%|██████████| 50/50 [00:17<00:00,  2.91it/s]\n",
      " 94%|█████████▍| 30/32 [08:21<00:34, 17.13s/it]"
     ]
    },
    {
     "name": "stdout",
     "output_type": "stream",
     "text": [
      "Iteration : 49 \n",
      " , Train Loss : 0.7361757755279541 \n",
      ", Test Acc : 93.83354187011719 \n",
      "\n"
     ]
    },
    {
     "name": "stderr",
     "output_type": "stream",
     "text": []
    },
    {
     "name": "stdout",
     "output_type": "stream",
     "text": [
      "Iteration : 0 \n",
      " , Train Loss : 25.07516098022461 \n",
      ", Test Acc : 35.128021240234375 \n",
      "\n"
     ]
    },
    {
     "name": "stderr",
     "output_type": "stream",
     "text": []
    },
    {
     "name": "stdout",
     "output_type": "stream",
     "text": [
      "Iteration : 10 \n",
      " , Train Loss : 12.367348670959473 \n",
      ", Test Acc : 81.64810943603516 \n",
      "\n"
     ]
    },
    {
     "name": "stderr",
     "output_type": "stream",
     "text": []
    },
    {
     "name": "stdout",
     "output_type": "stream",
     "text": [
      "Iteration : 20 \n",
      " , Train Loss : 3.947296142578125 \n",
      ", Test Acc : 86.7994155883789 \n",
      "\n"
     ]
    },
    {
     "name": "stderr",
     "output_type": "stream",
     "text": []
    },
    {
     "name": "stdout",
     "output_type": "stream",
     "text": [
      "Iteration : 30 \n",
      " , Train Loss : 1.348787546157837 \n",
      ", Test Acc : 91.14295959472656 \n",
      "\n"
     ]
    },
    {
     "name": "stderr",
     "output_type": "stream",
     "text": []
    },
    {
     "name": "stdout",
     "output_type": "stream",
     "text": [
      "Iteration : 40 \n",
      " , Train Loss : 1.295526146888733 \n",
      ", Test Acc : 92.397216796875 \n",
      "\n"
     ]
    },
    {
     "name": "stderr",
     "output_type": "stream",
     "text": [
      "100%|██████████| 50/50 [00:17<00:00,  2.88it/s]\n",
      " 97%|█████████▋| 31/32 [08:38<00:17, 17.20s/it]"
     ]
    },
    {
     "name": "stdout",
     "output_type": "stream",
     "text": [
      "Iteration : 49 \n",
      " , Train Loss : 0.5586777329444885 \n",
      ", Test Acc : 93.264892578125 \n",
      "\n"
     ]
    },
    {
     "name": "stderr",
     "output_type": "stream",
     "text": []
    },
    {
     "name": "stdout",
     "output_type": "stream",
     "text": [
      "Iteration : 0 \n",
      " , Train Loss : 26.973094940185547 \n",
      ", Test Acc : 34.42108917236328 \n",
      "\n"
     ]
    },
    {
     "name": "stderr",
     "output_type": "stream",
     "text": []
    },
    {
     "name": "stdout",
     "output_type": "stream",
     "text": [
      "Iteration : 10 \n",
      " , Train Loss : 14.23310375213623 \n",
      ", Test Acc : 73.28136444091797 \n",
      "\n"
     ]
    },
    {
     "name": "stderr",
     "output_type": "stream",
     "text": []
    },
    {
     "name": "stdout",
     "output_type": "stream",
     "text": [
      "Iteration : 20 \n",
      " , Train Loss : 4.280537128448486 \n",
      ", Test Acc : 85.22884368896484 \n",
      "\n"
     ]
    },
    {
     "name": "stderr",
     "output_type": "stream",
     "text": []
    },
    {
     "name": "stdout",
     "output_type": "stream",
     "text": [
      "Iteration : 30 \n",
      " , Train Loss : 1.8137036561965942 \n",
      ", Test Acc : 89.28143310546875 \n",
      "\n"
     ]
    },
    {
     "name": "stderr",
     "output_type": "stream",
     "text": []
    },
    {
     "name": "stdout",
     "output_type": "stream",
     "text": [
      "Iteration : 40 \n",
      " , Train Loss : 0.9283969402313232 \n",
      ", Test Acc : 90.22746276855469 \n",
      "\n"
     ]
    },
    {
     "name": "stderr",
     "output_type": "stream",
     "text": [
      "100%|██████████| 50/50 [00:17<00:00,  2.86it/s]\n",
      "100%|██████████| 32/32 [08:56<00:00, 16.75s/it]"
     ]
    },
    {
     "name": "stdout",
     "output_type": "stream",
     "text": [
      "Iteration : 49 \n",
      " , Train Loss : 0.4980047941207886 \n",
      ", Test Acc : 90.9954605102539 \n",
      "\n"
     ]
    },
    {
     "name": "stderr",
     "output_type": "stream",
     "text": [
      "\n"
     ]
    }
   ],
   "source": [
    "def calc_acc(model, device, client_data, train):\n",
    "    loader = client_data.trainloader if train else client_data.testloader\n",
    "    model.eval()\n",
    "    acc = 0\n",
    "    with torch.no_grad():\n",
    "        for (X,Y) in loader:\n",
    "            X = X.to(device)\n",
    "            pred = model(X).argmax(axis=1).detach().cpu()\n",
    "            acc += (Y == pred).float().mean()\n",
    "    acc = acc/len(loader)\n",
    "    acc *= 100.0\n",
    "    return acc\n",
    "\n",
    "\n",
    "class BaseTrainer(ABC):\n",
    "    def __init__(self,config, save_dir):\n",
    "        super(BaseTrainer, self).__init__()\n",
    "        self.model = MODEL_LIST[config[\"model\"]](**config[\"model_params\"])\n",
    "        self.save_dir = save_dir\n",
    "        self.device = config[\"device\"]\n",
    "        self.loss_func = LOSSES[config[\"loss_func\"]]\n",
    "        self.config = config\n",
    "        os.makedirs(self.save_dir, exist_ok=True)\n",
    "\n",
    "    def train(self):\n",
    "        raise NotImplementedError\n",
    "    \n",
    "    def test(self):\n",
    "        raise NotImplementedError\n",
    "\n",
    "    def load_model_weights(self):\n",
    "        model_path  = os.path.join(self.save_dir, \"model.pth\")\n",
    "        if os.path.exists(model_path):\n",
    "            self.model.load_state_dict(torch.load(model_path))\n",
    "        else:\n",
    "            print(\"No model present at path : {}\".format())\n",
    "\n",
    "    def save_model_weights(self):\n",
    "        model_path  = os.path.join(self.save_dir, \"model.pth\")\n",
    "        torch.save(self.model.state_dict(), model_path)\n",
    "    def save_metrics(self, train_loss, test_acc):\n",
    "        torch.save({\"train_loss\": train_loss,  \"test_acc\" : test_acc}, os.path.join(self.save_dir,\"metrics.pkl\"))\n",
    "\n",
    "class ClientTrainer(BaseTrainer):\n",
    "    def __init__(self,  config, save_dir,client_id):\n",
    "        super(ClientTrainer, self).__init__(config, save_dir)\n",
    "        self.client_id = client_id\n",
    "    \n",
    "    def train(self, client_data):\n",
    "        train_loss_list = []\n",
    "        test_acc_list = []\n",
    "        self.model.to(self.device)\n",
    "        self.model.train()\n",
    "        optimizer = OPTIMIZER_LIST[self.config[\"optimizer\"]](self.model.parameters(), **self.config[\"optimizer_params\"])\n",
    "        for iteration in tqdm(range(self.config[\"iterations\"])):\n",
    "            self.model.zero_grad()\n",
    "            (X,Y) = client_data.sample_batch(train=True)\n",
    "            X = X.to(self.device)\n",
    "            Y = Y.to(self.device)\n",
    "            out = self.model(X)\n",
    "            loss = self.loss_func(out, Y)\n",
    "            loss.backward()\n",
    "            optimizer.step()\n",
    "            train_loss = loss.detach().cpu().numpy().item()\n",
    "            train_loss_list.append(train_loss)\n",
    "            test_acc = calc_acc(self.model, self.device, client_data, train=False)\n",
    "            test_acc_list.append(test_acc)\n",
    "            self.model.train()\n",
    "            if iteration % self.config[\"save_freq\"] == 0 or iteration == self.config[\"iterations\"] - 1:\n",
    "                self.save_model_weights()\n",
    "                self.save_metrics(train_loss_list, test_acc_list)\n",
    "            if iteration % self.config[\"print_freq\"] == 0 or iteration == self.config[\"iterations\"] - 1:\n",
    "                print(\"Iteration : {} \\n , Train Loss : {} \\n, Test Acc : {} \\n\".format(iteration,  train_loss, test_acc))\n",
    "                \n",
    "        self.model.eval()\n",
    "        self.model.cpu()\n",
    "\n",
    "\n",
    "    def test(self, client_data):\n",
    "        self.load_model_weights()\n",
    "        self.model.eval()\n",
    "        self.model.to(self.device)\n",
    "        acc =  calc_acc(self.model, client_data)\n",
    "        self.model.cpu()\n",
    "        return acc\n",
    "\n",
    "\n",
    "  \n",
    "MODEL_LIST = {\"lin\" : SimpleLinear}\n",
    "OPTIMIZER_LIST = {\"sgd\": optim.SGD, \"adam\": optim.Adam}\n",
    "LOSSES = {\"cross_entropy\": nn.CrossEntropyLoss()}\n",
    "# config[\"save_dir\"] = os.path.join(\"./results\")\n",
    "config[\"iterations\"] = 50\n",
    "config[\"optimizer_params\"] = {\"lr\":0.001}\n",
    "config[\"save_freq\"] = 2\n",
    "config[\"print_freq\"]  = 10\n",
    "config[\"model\"] = \"lin\"\n",
    "config[\"optimizer\"] = \"adam\"\n",
    "config[\"loss_func\"] = \"cross_entropy\"\n",
    "#config[\"model_params\"] = {\"num_channels\": 1 , \"num_classes\"  : 62}\n",
    "config[\"model_params\"] = {}\n",
    "config[\"device\"] = torch.device(\"cuda:0\")\n",
    "import pickle\n",
    "client_trainers = [ClientTrainer(config,os.path.join(config[\"results_dir\"], \"init\", \"node_{}\".format(i)), i) for i in range(config[\"num_clients\"])]\n",
    "\n",
    "\n",
    "for i in tqdm(range(config[\"num_clients\"])):\n",
    "    client_trainers[i].train(client_loaders[i])\n",
    "    \n"
   ]
  },
  {
   "cell_type": "code",
   "execution_count": 163,
   "metadata": {},
   "outputs": [],
   "source": [
    "import networkx as nx\n",
    "G = nx.Graph()\n",
    "G.add_nodes_from(range(config[\"num_clients\"]))\n",
    "import itertools\n",
    "def model_weights_diff(w_1, w_2):\n",
    "    norm_sq = 0\n",
    "    assert w_1.keys() == w_2.keys(), \"Model weights have different keys\"\n",
    "    for key in w_1.keys():\n",
    "        norm_sq  += (w_1[key] - w_2[key]).norm()**2\n",
    "    return np.sqrt(norm_sq)\n",
    "wt = client_trainers[0].model.state_dict()\n",
    "# thresh = 0\n",
    "# for key in wt.keys():\n",
    "#     thresh += wt[key].norm()**2\n",
    "# print(torch.sqrt(thresh))\n",
    "# thresh = 37.68\n",
    "\n",
    "all_pairs = list(itertools.combinations(range(config[\"num_clients\"]),2))\n",
    "arr = []\n",
    "for pair in all_pairs:\n",
    "    w_1  = client_trainers[pair[0]].model.state_dict()\n",
    "    w_2 = client_trainers[pair[1]].model.state_dict()\n",
    "    norm_diff = model_weights_diff(w_1, w_2)\n",
    "    arr.append(norm_diff)\n",
    "#thresh = torch.mean(torch.tensor(arr))\n",
    "thresh = arr[torch.tensor(arr).argsort()[int(0.36*len(arr))-1]]\n",
    "for i in range(len(all_pairs)):\n",
    "    if arr[i] < thresh:\n",
    "        G.add_edge(all_pairs[i][0], all_pairs[i][1])\n",
    "G = G.to_undirected()\n",
    "#cliques = list(nx.algorithms.clique.enumerate_all_cliques(G))\n"
   ]
  },
  {
   "cell_type": "code",
   "execution_count": 106,
   "metadata": {},
   "outputs": [
    {
     "data": {
      "text/plain": [
       "tensor(38.1052)"
      ]
     },
     "execution_count": 106,
     "metadata": {},
     "output_type": "execute_result"
    }
   ],
   "source": [
    "arr[torch.tensor(arr).argsort()[int(0.4*len(arr))]]"
   ]
  },
  {
   "cell_type": "code",
   "execution_count": 164,
   "metadata": {},
   "outputs": [
    {
     "name": "stdout",
     "output_type": "stream",
     "text": [
      "1\n",
      "4\n",
      "9\n",
      "17\n",
      "18\n",
      "20\n",
      "22\n",
      "23\n",
      "28\n"
     ]
    }
   ],
   "source": [
    "for node in G[0]:\n",
    "    print(node)"
   ]
  },
  {
   "cell_type": "code",
   "execution_count": 165,
   "metadata": {},
   "outputs": [],
   "source": [
    "adj = nx.convert_matrix.to_numpy_array(G)"
   ]
  },
  {
   "cell_type": "code",
   "execution_count": 108,
   "metadata": {},
   "outputs": [
    {
     "data": {
      "text/plain": [
       "array([ 9., 31., 11.,  8., 14.,  2., 11., 10.,  4., 26., 10.,  3.,  2.,\n",
       "        7., 10., 20.,  8., 26., 17., 14., 25., 14., 24., 25.,  9.,  1.,\n",
       "       12.,  4., 22.,  5.,  6.,  4.])"
      ]
     },
     "execution_count": 108,
     "metadata": {},
     "output_type": "execute_result"
    }
   ],
   "source": [
    "adj.sum(axis=1)"
   ]
  },
  {
   "cell_type": "code",
   "execution_count": 166,
   "metadata": {},
   "outputs": [
    {
     "name": "stderr",
     "output_type": "stream",
     "text": [
      "/tmp/ipykernel_27029/996340054.py:8: DeprecationWarning: Sampling from a set deprecated\n",
      "since Python 3.9 and will be removed in a subsequent version.\n",
      "  new_cluster_pivot = random.sample(G.nodes,1)[0]\n"
     ]
    }
   ],
   "source": [
    "clustering = []\n",
    "def correlation_clustering(G):\n",
    "    global clustering\n",
    "    if len(G.nodes) == 0:\n",
    "        return\n",
    "    else:\n",
    "        cluster = []\n",
    "        new_cluster_pivot = random.sample(G.nodes,1)[0]\n",
    "        cluster.append(new_cluster_pivot)\n",
    "        neighbors = G[new_cluster_pivot].copy()\n",
    "        for node in neighbors:\n",
    "            cluster.append(node)\n",
    "            G.remove_node(node)\n",
    "        G.remove_node(new_cluster_pivot)\n",
    "        clustering.append(cluster)\n",
    "        correlation_clustering(G)\n",
    "correlation_clustering(G)"
   ]
  },
  {
   "cell_type": "code",
   "execution_count": null,
   "metadata": {},
   "outputs": [],
   "source": []
  },
  {
   "cell_type": "code",
   "execution_count": 167,
   "metadata": {},
   "outputs": [
    {
     "data": {
      "text/plain": [
       "[[24, 1, 9, 15, 18, 20, 23, 28],\n",
       " [26, 6, 17, 21, 22],\n",
       " [25],\n",
       " [30],\n",
       " [11],\n",
       " [0, 4],\n",
       " [19, 2, 7, 14, 29],\n",
       " [5],\n",
       " [13],\n",
       " [31],\n",
       " [27],\n",
       " [10],\n",
       " [3],\n",
       " [12],\n",
       " [16],\n",
       " [8]]"
      ]
     },
     "execution_count": 167,
     "metadata": {},
     "output_type": "execute_result"
    }
   ],
   "source": [
    "clustering"
   ]
  },
  {
   "cell_type": "code",
   "execution_count": 169,
   "metadata": {},
   "outputs": [],
   "source": [
    "#config[\"t\"] = 7\n",
    "#t = config[\"t\"]\n",
    "clusters = [cluster  for cluster in clustering]\n",
    "cluster_map = {i: clusters[i] for i in range(len(clusters))}\n",
    "beta = 0.3"
   ]
  },
  {
   "cell_type": "code",
   "execution_count": 65,
   "metadata": {},
   "outputs": [],
   "source": []
  },
  {
   "cell_type": "code",
   "execution_count": 174,
   "metadata": {},
   "outputs": [],
   "source": [
    "class ClusterTrainer(BaseTrainer):\n",
    "    def __init__(self,  config, save_dir,cluster_id):\n",
    "        super(ClusterTrainer, self).__init__(config, save_dir)\n",
    "        self.cluster_id = cluster_id\n",
    "    \n",
    "    def train(self, client_data_list):\n",
    "        num_clients = len(client_data_list)\n",
    "\n",
    "        train_loss_list = []\n",
    "        test_acc_list = []\n",
    "        self.model.to(self.device)\n",
    "        self.model.train()\n",
    "        optimizer = OPTIMIZER_LIST[self.config[\"optimizer\"]](self.model.parameters(), **self.config[\"optimizer_params\"])\n",
    "        for iteration in tqdm(range(self.config[\"iterations\"])):\n",
    "            trmean_buffer = {}\n",
    "            for idx, param in self.model.named_parameters():\n",
    "                trmean_buffer[idx] = []\n",
    "            train_loss = 0\n",
    "            for client in client_data_list:\n",
    "                optimizer.zero_grad()\n",
    "                (X,Y) = client.sample_batch()\n",
    "                X = X.to(config[\"device\"])\n",
    "                Y = Y.to(config[\"device\"])\n",
    "                loss_func = nn.CrossEntropyLoss()\n",
    "                out = self.model(X)\n",
    "                loss = loss_func(out,Y)\n",
    "                loss.backward()\n",
    "                train_loss += loss.detach().cpu().numpy().item()\n",
    "                with torch.no_grad():\n",
    "                    for idx, param in self.model.named_parameters():\n",
    "                        trmean_buffer[idx].append(param.grad.clone())\n",
    "            train_loss = train_loss/num_clients\n",
    "            optimizer.zero_grad()\n",
    "            for idx, param in self.model.named_parameters():\n",
    "                sorted, _  = torch.sort(torch.stack(trmean_buffer[idx], dim=0), dim=0)\n",
    "                new_grad = sorted[int(beta*num_clients):int((1-beta)*num_clients),...].mean(dim=0)\n",
    "                param.grad = new_grad\n",
    "                trmean_buffer[idx] = []\n",
    "            optimizer.step()\n",
    "            \n",
    "            train_loss_list.append(train_loss)\n",
    "            test_acc = 0\n",
    "            for client_data in client_data_list:\n",
    "                test_acc += calc_acc(self.model, self.device, client_data, train=False)\n",
    "            test_acc = test_acc/num_clients\n",
    "            test_acc_list.append(test_acc)\n",
    "            self.model.train()\n",
    "            if iteration % self.config[\"save_freq\"] == 0 or iteration == self.config[\"iterations\"] - 1:\n",
    "                self.save_model_weights()\n",
    "                self.save_metrics(train_loss_list, test_acc_list)\n",
    "            if iteration % self.config[\"print_freq\"] == 0:\n",
    "                print(\"Iteration : {} \\n , Train Loss : {} \\n, Test Acc : {} \\n\".format(iteration,  train_loss, test_acc))\n",
    "                \n",
    "        self.model.eval()\n",
    "        self.model.cpu()\n",
    "\n",
    "\n",
    "    def test(self, client_data_list):\n",
    "        self.load_model_weights()\n",
    "        self.model.eval()\n",
    "        self.model.to(self.device)\n",
    "        test_acc = 0\n",
    "        for client_data in client_data_list:\n",
    "            test_acc += calc_acc(self.model, self.device, client_data, train=False)\n",
    "        self.model.cpu()\n",
    "        return test_acc\n"
   ]
  },
  {
   "cell_type": "code",
   "execution_count": 175,
   "metadata": {},
   "outputs": [
    {
     "name": "stderr",
     "output_type": "stream",
     "text": [
      "  0%|          | 0/3 [00:00<?, ?it/s]\n",
      "\u001b[A\n",
      "\u001b[A"
     ]
    },
    {
     "name": "stdout",
     "output_type": "stream",
     "text": [
      "Iteration : 0 \n",
      " , Train Loss : 25.816818237304688 \n",
      ", Test Acc : 18.80019760131836 \n",
      "\n"
     ]
    },
    {
     "name": "stderr",
     "output_type": "stream",
     "text": [
      "\n",
      "\u001b[A\n",
      "\u001b[A\n",
      "\u001b[A\n",
      "\u001b[A\n",
      "\u001b[A\n",
      "\u001b[A\n",
      "\u001b[A\n",
      "\u001b[A\n",
      "\u001b[A\n",
      "\u001b[A"
     ]
    },
    {
     "name": "stdout",
     "output_type": "stream",
     "text": [
      "Iteration : 10 \n",
      " , Train Loss : 32.171459436416626 \n",
      ", Test Acc : 44.74650573730469 \n",
      "\n"
     ]
    },
    {
     "name": "stderr",
     "output_type": "stream",
     "text": [
      "\n",
      "\u001b[A\n",
      "\u001b[A\n",
      "\u001b[A\n",
      "\u001b[A\n",
      "\u001b[A\n",
      "\u001b[A"
     ]
    }
   ],
   "source": [
    "%%time \n",
    "config[\"refine_steps\"] = 3\n",
    "for refine_step in tqdm(range(config[\"refine_steps\"])):\n",
    "    beta = 0.3\n",
    "    cluster_trainers = []\n",
    "    for cluster_id in tqdm(cluster_map.keys()):\n",
    "        cluster_clients = [client_loaders[i] for i in cluster_map[cluster_id]]\n",
    "        cluster_trainer = ClusterTrainer(config, os.path.join(config['results_dir'], \"refine_{}\".format(refine_step), \"cluster_{}\".format(cluster_id)), cluster_id)\n",
    "        cluster_trainer.train(cluster_clients)\n",
    "        cluster_trainers.append(cluster_trainer)\n",
    "    with open(os.path.join(config[\"results_dir\"],\"refine_{}\".format(refine_step), \"cluster_maps.pkl\"), 'wb') as handle:\n",
    "        pickle.dump(cluster_map, handle, protocol=pickle.HIGHEST_PROTOCOL)\n",
    "    cluster_map_recluster = {}\n",
    "    for key in cluster_map.keys():\n",
    "        cluster_map_recluster[key] = []\n",
    "\n",
    "    for i in tqdm(range(config[\"num_clients\"])):\n",
    "        w_node = client_trainers[i].model.state_dict()\n",
    "        norm_diff = np.infty\n",
    "        new_cluster_id = 0\n",
    "        for cluster_id in cluster_map.keys():\n",
    "            w_cluster = cluster_trainers[cluster_id].model.state_dict()\n",
    "            curr_norm_diff = model_weights_diff(w_node, w_cluster)\n",
    "            if norm_diff > curr_norm_diff:\n",
    "                new_cluster_id = cluster_id\n",
    "                norm_diff = curr_norm_diff\n",
    "        \n",
    "        cluster_map_recluster[new_cluster_id].append(i)\n",
    "    cluster_map = cluster_map_recluster\n",
    "\n",
    "\n",
    "    G = nx.Graph()\n",
    "    G.add_nodes_from(cluster_map.keys())\n",
    "\n",
    "    all_pairs = list(itertools.combinations(cluster_map.keys(),2))\n",
    "    for pair in tqdm(all_pairs):\n",
    "        w_1  = cluster_trainers[pair[0]].model.state_dict()\n",
    "        w_2 = cluster_trainers[pair[1]].model.state_dict()\n",
    "        norm_diff = model_weights_diff(w_1, w_2)\n",
    "        if norm_diff < thresh:\n",
    "            G.add_edge(pair[0], pair[1])\n",
    "    G = G.to_undirected()\n",
    "    clustering = []        \n",
    "    correlation_clustering(G)\n",
    "    merge_clusters = [cluster  for cluster in clustering]\n",
    "    #merge_cluster_map = {i: clusters[i] for i in range(len(clusters))}\n",
    "    #clusters = list(nx.algorithms.clique.enumerate_all_cliques(G))\n",
    "    cluster_map_new = {}\n",
    "    for i in range(len(clusters)):\n",
    "        cluster_map_new[i] = []\n",
    "        for j in merge_clusters[i]:\n",
    "            cluster_map_new[i] += cluster_map[j]\n",
    "    cluster_map = cluster_map_new\n"
   ]
  },
  {
   "cell_type": "code",
   "execution_count": 83,
   "metadata": {},
   "outputs": [
    {
     "name": "stderr",
     "output_type": "stream",
     "text": [
      "100%|██████████| 32/32 [00:05<00:00,  5.41it/s]\n",
      "100%|██████████| 12246/12246 [00:14<00:00, 820.48it/s]\n"
     ]
    }
   ],
   "source": [
    "with open(os.path.join(config[\"results_dir\"],\"refine_{}\".format(refine_step), \"cluster_maps.pkl\"), 'wb') as handle:\n",
    "    pickle.dump(cluster_map, handle, protocol=pickle.HIGHEST_PROTOCOL)\n",
    "cluster_map_recluster = {}\n",
    "for key in cluster_map.keys():\n",
    "    cluster_map_recluster[key] = []\n",
    "\n",
    "for i in tqdm(range(config[\"num_clients\"])):\n",
    "    w_node = client_trainers[i].model.state_dict()\n",
    "    norm_diff = np.infty\n",
    "    new_cluster_id = 0\n",
    "    for cluster_id in cluster_map.keys():\n",
    "        w_cluster = cluster_trainers[cluster_id].model.state_dict()\n",
    "        curr_norm_diff = model_weights_diff(w_node, w_cluster)\n",
    "        if norm_diff > curr_norm_diff:\n",
    "            new_cluster_id = cluster_id\n",
    "            norm_diff = curr_norm_diff\n",
    "    \n",
    "    cluster_map_recluster[new_cluster_id].append(i)\n",
    "cluster_map = cluster_map_recluster\n",
    "\n",
    "\n",
    "G = nx.Graph()\n",
    "G.add_nodes_from(cluster_map.keys())\n",
    "\n",
    "all_pairs = list(itertools.combinations(cluster_map.keys(),2))\n",
    "for pair in tqdm(all_pairs):\n",
    "    w_1  = cluster_trainers[pair[0]].model.state_dict()\n",
    "    w_2 = cluster_trainers[pair[1]].model.state_dict()\n",
    "    norm_diff = model_weights_diff(w_1, w_2)\n",
    "    if norm_diff < thresh:\n",
    "        G.add_edge(pair[0], pair[1])\n",
    "        \n",
    "clusters = list(nx.algorithms.clique.enumerate_all_cliques(G))\n"
   ]
  },
  {
   "cell_type": "code",
   "execution_count": 85,
   "metadata": {},
   "outputs": [],
   "source": [
    "cluster_map_new = {}\n",
    "for i in range(len(clusters)):\n",
    "    cluster_map_new[i] = []\n",
    "    for j in clusters[i]:\n",
    "        cluster_map_new[i] += cluster_map[j]\n",
    "cluster_map = cluster_map_new"
   ]
  },
  {
   "cell_type": "code",
   "execution_count": 88,
   "metadata": {},
   "outputs": [
    {
     "data": {
      "text/plain": [
       "668"
      ]
     },
     "execution_count": 88,
     "metadata": {},
     "output_type": "execute_result"
    }
   ],
   "source": [
    "len(clusters)"
   ]
  },
  {
   "cell_type": "code",
   "execution_count": null,
   "metadata": {},
   "outputs": [],
   "source": []
  }
 ],
 "metadata": {
  "interpreter": {
   "hash": "c6e470d1113f1d3694e67b12a97a2a56d33eb5b1360332580fa82cd96e4a9609"
  },
  "kernelspec": {
   "display_name": "Python 3.9.9 64-bit ('ffcv': conda)",
   "language": "python",
   "name": "python3"
  },
  "language_info": {
   "codemirror_mode": {
    "name": "ipython",
    "version": 3
   },
   "file_extension": ".py",
   "mimetype": "text/x-python",
   "name": "python",
   "nbconvert_exporter": "python",
   "pygments_lexer": "ipython3",
   "version": "3.9.9"
  },
  "orig_nbformat": 4
 },
 "nbformat": 4,
 "nbformat_minor": 2
}
